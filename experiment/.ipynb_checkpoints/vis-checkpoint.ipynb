{
 "cells": [
  {
   "cell_type": "code",
   "execution_count": 1,
   "metadata": {},
   "outputs": [],
   "source": [
    "from pyexplainer.pyexplainer_pyexplainer import PyExplainer\n",
    "import pickle\n",
    "\n",
    "with open('openstack_RF_global_model.pkl', 'rb') as file:\n",
    "    model = pickle.load(file)\n",
    "\n",
    "with open('pyexp_necessary_data', 'rb') as file:\n",
    "    data = pickle.load(file)\n",
    "\n",
    "full_ft_names = ['Number Of Lines Added', 'Number Of Modified Directories', 'Number Of Modified Subsystems', 'Entropy', 'Number Of Review Revisions', 'Review Timespan', 'Number of Self Approvals', 'Number of Past Developers', 'Time Since Last Modification', 'Number of Reviewrs', 'Relative Reviewer Experience', 'Author Awareness', 'Reviewer Awareness']    \n",
    "\n",
    "explainer = PyExplainer(X_train=data['x_train'],\n",
    "                       y_train=data['y_train'],\n",
    "                       dep=data['dep'],\n",
    "                       indep=data['indep'],\n",
    "                       blackbox_model=model,\n",
    "                       full_ft_names=full_ft_names)"
   ]
  },
  {
   "cell_type": "code",
   "execution_count": 4,
   "metadata": {},
   "outputs": [
    {
     "name": "stdout",
     "output_type": "stream",
     "text": [
      "Choose one row from index 0 to index 197 to be explained\n",
      "specify your choice into index variable\n",
      "262bdf68b45058fedffda614336d7e75a5b36d4a\n"
     ]
    }
   ],
   "source": [
    "import pandas as pd\n",
    "\n",
    "\n",
    "commit_id = pd.read_csv('openstack_RF_correctly_predict_as_defective.csv')\n",
    "commit_ids = commit_id['commit_id'].to_list()\n",
    "print('Choose one row from index 0 to index', len(commit_id)-1, 'to be explained')\n",
    "print('specify your choice into index variable')\n",
    "\n",
    "# risky index - 20 34 154 19 7 21 30 34 36 60 61 62 63 67 70 93 117\n",
    "############################\n",
    "####### specify here #######\n",
    "############################\n",
    "index = 19\n",
    "\n",
    "print(commit_ids[index])"
   ]
  },
  {
   "cell_type": "code",
   "execution_count": 5,
   "metadata": {},
   "outputs": [
    {
     "name": "stdout",
     "output_type": "stream",
     "text": [
      "{'top_tofollow_rules': [{'variable': 'nd', 'lessthan': True, 'value': '3.0749999284744263'}, {'variable': 'rrexp', 'lessthan': True, 'value': '1172.4600219726562'}, {'variable': 'la', 'lessthan': False, 'value': '10.34000015258789'}], 'top_toavoid_rules': [{'variable': 'app', 'lessthan': True, 'value': '2.9950000047683716'}, {'variable': 'rtime', 'lessthan': True, 'value': '35.52000045776367'}, {'variable': 'asawr', 'lessthan': False, 'value': '0.004999999888241291'}]}\n"
     ]
    },
    {
     "data": {
      "application/vnd.jupyter.widget-view+json": {
       "model_id": "d65cfaef8f7b4fdeb9cec12bb8b3e7ca",
       "version_major": 2,
       "version_minor": 0
      },
      "text/plain": [
       "HBox(children=(Label(value='Risk Score: '), FloatProgress(value=0.0, bar_style='info', layout=Layout(width='40…"
      ]
     },
     "metadata": {},
     "output_type": "display_data"
    },
    {
     "data": {
      "application/vnd.jupyter.widget-view+json": {
       "model_id": "c543c04c55b34f329ab59271d1d3813e",
       "version_major": 2,
       "version_minor": 0
      },
      "text/plain": [
       "Output(layout=Layout(border='3px solid black'), outputs=({'output_type': 'stream', 'text': '\\n        <!DOCTYP…"
      ]
     },
     "metadata": {},
     "output_type": "display_data"
    },
    {
     "data": {
      "application/vnd.jupyter.widget-view+json": {
       "model_id": "fc4b7b7f78264bbea712747b318af774",
       "version_major": 2,
       "version_minor": 0
      },
      "text/plain": [
       "FloatSlider(value=5.0, continuous_update=False, description='#1 The value of Number Of Modified Directories is…"
      ]
     },
     "metadata": {},
     "output_type": "display_data"
    },
    {
     "data": {
      "application/vnd.jupyter.widget-view+json": {
       "model_id": "9afa6b0a94c2447a8c06d776735d01b6",
       "version_major": 2,
       "version_minor": 0
      },
      "text/plain": [
       "FloatSlider(value=479.0, continuous_update=False, description='#2 The value of Relative Reviewer Experience is…"
      ]
     },
     "metadata": {},
     "output_type": "display_data"
    },
    {
     "data": {
      "application/vnd.jupyter.widget-view+json": {
       "model_id": "b3bb80f5eb07407aa193f2c1ce7b3cdc",
       "version_major": 2,
       "version_minor": 0
      },
      "text/plain": [
       "FloatSlider(value=404.0, continuous_update=False, description='#3 The value of Number Of Lines Added is less t…"
      ]
     },
     "metadata": {},
     "output_type": "display_data"
    }
   ],
   "source": [
    "d = pd.read_csv('openstack_RF_correctly_predict_as_defective.csv', index_col='commit_id')\n",
    "\n",
    "X_explain = d.loc[[commit_ids[index]]]\n",
    "\n",
    "y_test = d.loc[:, data['dep']]\n",
    "y_explain = y_test.loc[[commit_ids[index]]]\n",
    "\n",
    "for col in X_explain.columns:\n",
    "    if col not in data['indep']:\n",
    "        X_explain = X_explain.drop([col], axis=1)\n",
    "        \n",
    "rules = explainer.explain(X_explain=X_explain, y_explain=y_explain)\n",
    "explainer.visualise(rules)"
   ]
  },
  {
   "cell_type": "code",
   "execution_count": 6,
   "metadata": {},
   "outputs": [
    {
     "data": {
      "text/plain": [
       "[{'title': '#1 The value of Number Of Modified Directories is more than 5',\n",
       "  'subtitle': 'Actual = 5',\n",
       "  'ticks': [1, 33],\n",
       "  'step': [1],\n",
       "  'startPoints': [0, 29.0],\n",
       "  'widths': [29.0, 421.0],\n",
       "  'colors': ['#a6d96a', '#d7191c'],\n",
       "  'markers': [5],\n",
       "  'varRef': 'Number Of Modified Directories'},\n",
       " {'title': '#2 The value of Relative Reviewer Experience is more than 479.0',\n",
       "  'subtitle': 'Actual = 479.0',\n",
       "  'ticks': [479.0, 1547],\n",
       "  'step': [1],\n",
       "  'startPoints': [0, 292.0],\n",
       "  'widths': [292.0, 158.0],\n",
       "  'colors': ['#a6d96a', '#d7191c'],\n",
       "  'markers': [479.0],\n",
       "  'varRef': 'Relative Reviewer Experience'},\n",
       " {'title': '#3 The value of Number Of Lines Added is less than 404',\n",
       "  'subtitle': 'Actual = 404',\n",
       "  'ticks': [0, 8073],\n",
       "  'step': [1],\n",
       "  'startPoints': [0, 1.0],\n",
       "  'widths': [1.0, 449.0],\n",
       "  'colors': ['#d7191c', '#a6d96a'],\n",
       "  'markers': [404],\n",
       "  'varRef': 'Number Of Lines Added'}]"
      ]
     },
     "execution_count": 6,
     "metadata": {},
     "output_type": "execute_result"
    }
   ],
   "source": [
    "explainer.bullet_data"
   ]
  }
 ],
 "metadata": {
  "kernelspec": {
   "display_name": "Python 3",
   "language": "python",
   "name": "python3"
  },
  "language_info": {
   "codemirror_mode": {
    "name": "ipython",
    "version": 3
   },
   "file_extension": ".py",
   "mimetype": "text/x-python",
   "name": "python",
   "nbconvert_exporter": "python",
   "pygments_lexer": "ipython3",
   "version": "3.8.8"
  }
 },
 "nbformat": 4,
 "nbformat_minor": 4
}
