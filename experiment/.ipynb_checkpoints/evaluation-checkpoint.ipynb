{
 "cells": [
  {
   "cell_type": "code",
   "execution_count": 1,
   "metadata": {},
   "outputs": [],
   "source": [
    "import sys, os,  pickle, time\n",
    "\n",
    "from sklearn.ensemble import RandomForestClassifier\n",
    "from imblearn.over_sampling import SMOTE\n",
    "import pandas as pd\n",
    "import numpy as np\n",
    "import matplotlib.pyplot as plt\n",
    "\n",
    "from my_util import *\n",
    "from evaluation_function import *\n",
    "from lime.lime.lime_tabular import LimeTabularExplainer\n",
    "\n",
    "sys.path.append(os.path.abspath('../'))\n",
    "from pyexplainer.pyexplainer_pyexplainer import *\n",
    "\n",
    "from IPython.display import display\n",
    "\n",
    "import warnings\n",
    "warnings.filterwarnings(\"ignore\")"
   ]
  },
  {
   "cell_type": "code",
   "execution_count": 2,
   "metadata": {},
   "outputs": [],
   "source": [
    "data_path = './dataset/'\n",
    "result_dir = './eval_result/'\n",
    "dump_dataframe_dir = './prediction_result/'\n",
    "exp_dir = './explainer_object/'\n",
    "\n",
    "if not os.path.exists('./eval_result/figures/'):\n",
    "    os.makedirs('./eval_result/figures/')"
   ]
  },
  {
   "cell_type": "code",
   "execution_count": null,
   "metadata": {
    "code_folding": []
   },
   "outputs": [],
   "source": []
  },
  {
   "cell_type": "markdown",
   "metadata": {},
   "source": [
    "# Global model evaluation"
   ]
  },
  {
   "cell_type": "code",
   "execution_count": 3,
   "metadata": {
    "scrolled": false
   },
   "outputs": [
    {
     "name": "stdout",
     "output_type": "stream",
     "text": [
      "RF global model result\n",
      "AUC: 0.7468482561455155, F1: 0.35515695067264574, IFA: 244, Recall@20%Effort: 0.5619195046439629, Popt: 0.8247763516141581\n",
      "              precision    recall  f1-score   support\n",
      "\n",
      "       False       0.87      0.92      0.89      3317\n",
      "        True       0.42      0.31      0.36       646\n",
      "\n",
      "    accuracy                           0.82      3963\n",
      "   macro avg       0.65      0.61      0.62      3963\n",
      "weighted avg       0.80      0.82      0.81      3963\n",
      "\n",
      "----------------------------------------------------------------------------------------------------\n",
      "LR global model result\n",
      "AUC: 0.6641828240110286, F1: 0.3550519357884797, IFA: 39, Recall@20%Effort: 0.5386996904024768, Popt: 0.8251993000194437\n",
      "              precision    recall  f1-score   support\n",
      "\n",
      "       False       0.89      0.67      0.76      3317\n",
      "        True       0.26      0.58      0.36       646\n",
      "\n",
      "    accuracy                           0.66      3963\n",
      "   macro avg       0.57      0.63      0.56      3963\n",
      "weighted avg       0.79      0.66      0.70      3963\n",
      "\n"
     ]
    }
   ],
   "source": [
    "get_global_model_evaluation_result('openstack')"
   ]
  },
  {
   "cell_type": "code",
   "execution_count": 4,
   "metadata": {
    "scrolled": true
   },
   "outputs": [
    {
     "name": "stdout",
     "output_type": "stream",
     "text": [
      "RF global model result\n",
      "AUC: 0.7350656132213174, F1: 0.20954907161803715, IFA: 19, Recall@20%Effort: 0.8340336134453782, Popt: 0.9434782608695651\n",
      "              precision    recall  f1-score   support\n",
      "\n",
      "       False       0.95      0.97      0.96      7801\n",
      "        True       0.28      0.17      0.21       476\n",
      "\n",
      "    accuracy                           0.93      8277\n",
      "   macro avg       0.62      0.57      0.59      8277\n",
      "weighted avg       0.91      0.93      0.92      8277\n",
      "\n",
      "----------------------------------------------------------------------------------------------------\n",
      "LR global model result\n",
      "AUC: 0.6445637221687803, F1: 0.15877957658779576, IFA: 7, Recall@20%Effort: 0.8172268907563025, Popt: 0.9454658385093166\n",
      "              precision    recall  f1-score   support\n",
      "\n",
      "       False       0.96      0.68      0.80      7801\n",
      "        True       0.09      0.54      0.16       476\n",
      "\n",
      "    accuracy                           0.67      8277\n",
      "   macro avg       0.53      0.61      0.48      8277\n",
      "weighted avg       0.91      0.67      0.76      8277\n",
      "\n"
     ]
    }
   ],
   "source": [
    "get_global_model_evaluation_result('qt')"
   ]
  },
  {
   "cell_type": "markdown",
   "metadata": {},
   "source": [
    "# RQ1 evaluation"
   ]
  },
  {
   "cell_type": "code",
   "execution_count": 3,
   "metadata": {},
   "outputs": [
    {
     "name": "stdout",
     "output_type": "stream",
     "text": [
      "finished RQ1 of openstack , globla model is RF\n",
      "finished RQ1 of qt , globla model is RF\n"
     ]
    }
   ],
   "source": [
    "rq1_eval('openstack', 'RF')\n",
    "rq1_eval('qt', 'RF')"
   ]
  },
  {
   "cell_type": "code",
   "execution_count": 4,
   "metadata": {},
   "outputs": [
    {
     "name": "stdout",
     "output_type": "stream",
     "text": [
      "finished RQ1 of openstack , globla model is LR\n",
      "finished RQ1 of qt , globla model is LR\n"
     ]
    }
   ],
   "source": [
    "rq1_eval('openstack', 'LR')\n",
    "rq1_eval('qt', 'LR')"
   ]
  },
  {
   "cell_type": "code",
   "execution_count": 5,
   "metadata": {},
   "outputs": [
    {
     "data": {
      "image/png": "[encoded data removed]",
      "text/plain": [
       "<Figure size 720x432 with 2 Axes>"
      ]
     },
     "metadata": {
      "needs_background": "light"
     },
     "output_type": "display_data"
    },
    {
     "data": {
      "text/html": [
       "<div>\n",
       "<style scoped>\n",
       "    .dataframe tbody tr th:only-of-type {\n",
       "        vertical-align: middle;\n",
       "    }\n",
       "\n",
       "    .dataframe tbody tr th {\n",
       "        vertical-align: top;\n",
       "    }\n",
       "\n",
       "    .dataframe thead tr th {\n",
       "        text-align: left;\n",
       "    }\n",
       "\n",
       "    .dataframe thead tr:last-of-type th {\n",
       "        text-align: right;\n",
       "    }\n",
       "</style>\n",
       "<table border=\"1\" class=\"dataframe\">\n",
       "  <thead>\n",
       "    <tr>\n",
       "      <th></th>\n",
       "      <th></th>\n",
       "      <th></th>\n",
       "      <th colspan=\"8\" halign=\"left\">euc_dist_med</th>\n",
       "    </tr>\n",
       "    <tr>\n",
       "      <th></th>\n",
       "      <th></th>\n",
       "      <th></th>\n",
       "      <th>count</th>\n",
       "      <th>mean</th>\n",
       "      <th>std</th>\n",
       "      <th>min</th>\n",
       "      <th>25%</th>\n",
       "      <th>50%</th>\n",
       "      <th>75%</th>\n",
       "      <th>max</th>\n",
       "    </tr>\n",
       "    <tr>\n",
       "      <th>global_model</th>\n",
       "      <th>project</th>\n",
       "      <th>method</th>\n",
       "      <th></th>\n",
       "      <th></th>\n",
       "      <th></th>\n",
       "      <th></th>\n",
       "      <th></th>\n",
       "      <th></th>\n",
       "      <th></th>\n",
       "      <th></th>\n",
       "    </tr>\n",
       "  </thead>\n",
       "  <tbody>\n",
       "    <tr>\n",
       "      <th rowspan=\"4\" valign=\"top\">LR</th>\n",
       "      <th rowspan=\"2\" valign=\"top\">openstack</th>\n",
       "      <th>LIME</th>\n",
       "      <td>376.0</td>\n",
       "      <td>1132.167427</td>\n",
       "      <td>619.063720</td>\n",
       "      <td>476.708280</td>\n",
       "      <td>702.140009</td>\n",
       "      <td>875.141469</td>\n",
       "      <td>1409.733180</td>\n",
       "      <td>3730.730155</td>\n",
       "    </tr>\n",
       "    <tr>\n",
       "      <th>pyExplainer</th>\n",
       "      <td>376.0</td>\n",
       "      <td>558.381317</td>\n",
       "      <td>362.995597</td>\n",
       "      <td>148.657311</td>\n",
       "      <td>308.521417</td>\n",
       "      <td>457.295602</td>\n",
       "      <td>683.500513</td>\n",
       "      <td>3312.358240</td>\n",
       "    </tr>\n",
       "    <tr>\n",
       "      <th rowspan=\"2\" valign=\"top\">qt</th>\n",
       "      <th>LIME</th>\n",
       "      <td>255.0</td>\n",
       "      <td>1711.110425</td>\n",
       "      <td>1178.955484</td>\n",
       "      <td>790.051973</td>\n",
       "      <td>998.677483</td>\n",
       "      <td>1141.385858</td>\n",
       "      <td>2176.112470</td>\n",
       "      <td>13054.448911</td>\n",
       "    </tr>\n",
       "    <tr>\n",
       "      <th>pyExplainer</th>\n",
       "      <td>255.0</td>\n",
       "      <td>809.506167</td>\n",
       "      <td>1015.059387</td>\n",
       "      <td>55.357486</td>\n",
       "      <td>321.185126</td>\n",
       "      <td>513.627056</td>\n",
       "      <td>941.730553</td>\n",
       "      <td>12702.777783</td>\n",
       "    </tr>\n",
       "    <tr>\n",
       "      <th rowspan=\"4\" valign=\"top\">RF</th>\n",
       "      <th rowspan=\"2\" valign=\"top\">openstack</th>\n",
       "      <th>LIME</th>\n",
       "      <td>198.0</td>\n",
       "      <td>1126.515175</td>\n",
       "      <td>624.497655</td>\n",
       "      <td>483.787685</td>\n",
       "      <td>704.101313</td>\n",
       "      <td>825.157898</td>\n",
       "      <td>1409.115461</td>\n",
       "      <td>3704.200599</td>\n",
       "    </tr>\n",
       "    <tr>\n",
       "      <th>pyExplainer</th>\n",
       "      <td>198.0</td>\n",
       "      <td>592.534341</td>\n",
       "      <td>336.382084</td>\n",
       "      <td>209.868295</td>\n",
       "      <td>362.603420</td>\n",
       "      <td>499.095996</td>\n",
       "      <td>709.958265</td>\n",
       "      <td>2220.372483</td>\n",
       "    </tr>\n",
       "    <tr>\n",
       "      <th rowspan=\"2\" valign=\"top\">qt</th>\n",
       "      <th>LIME</th>\n",
       "      <td>79.0</td>\n",
       "      <td>1981.191519</td>\n",
       "      <td>990.966337</td>\n",
       "      <td>837.438216</td>\n",
       "      <td>1074.857259</td>\n",
       "      <td>1822.152824</td>\n",
       "      <td>2602.846984</td>\n",
       "      <td>4576.189224</td>\n",
       "    </tr>\n",
       "    <tr>\n",
       "      <th>pyExplainer</th>\n",
       "      <td>79.0</td>\n",
       "      <td>1074.308665</td>\n",
       "      <td>658.831821</td>\n",
       "      <td>142.328931</td>\n",
       "      <td>592.266300</td>\n",
       "      <td>918.419669</td>\n",
       "      <td>1386.723674</td>\n",
       "      <td>2981.257356</td>\n",
       "    </tr>\n",
       "  </tbody>\n",
       "</table>\n",
       "</div>"
      ],
      "text/plain": [
       "                                   euc_dist_med                            \\\n",
       "                                          count         mean          std   \n",
       "global_model project   method                                               \n",
       "LR           openstack LIME               376.0  1132.167427   619.063720   \n",
       "                       pyExplainer        376.0   558.381317   362.995597   \n",
       "             qt        LIME               255.0  1711.110425  1178.955484   \n",
       "                       pyExplainer        255.0   809.506167  1015.059387   \n",
       "RF           openstack LIME               198.0  1126.515175   624.497655   \n",
       "                       pyExplainer        198.0   592.534341   336.382084   \n",
       "             qt        LIME                79.0  1981.191519   990.966337   \n",
       "                       pyExplainer         79.0  1074.308665   658.831821   \n",
       "\n",
       "                                                                          \\\n",
       "                                           min          25%          50%   \n",
       "global_model project   method                                              \n",
       "LR           openstack LIME         476.708280   702.140009   875.141469   \n",
       "                       pyExplainer  148.657311   308.521417   457.295602   \n",
       "             qt        LIME         790.051973   998.677483  1141.385858   \n",
       "                       pyExplainer   55.357486   321.185126   513.627056   \n",
       "RF           openstack LIME         483.787685   704.101313   825.157898   \n",
       "                       pyExplainer  209.868295   362.603420   499.095996   \n",
       "             qt        LIME         837.438216  1074.857259  1822.152824   \n",
       "                       pyExplainer  142.328931   592.266300   918.419669   \n",
       "\n",
       "                                                               \n",
       "                                            75%           max  \n",
       "global_model project   method                                  \n",
       "LR           openstack LIME         1409.733180   3730.730155  \n",
       "                       pyExplainer   683.500513   3312.358240  \n",
       "             qt        LIME         2176.112470  13054.448911  \n",
       "                       pyExplainer   941.730553  12702.777783  \n",
       "RF           openstack LIME         1409.115461   3704.200599  \n",
       "                       pyExplainer   709.958265   2220.372483  \n",
       "             qt        LIME         2602.846984   4576.189224  \n",
       "                       pyExplainer  1386.723674   2981.257356  "
      ]
     },
     "metadata": {},
     "output_type": "display_data"
    }
   ],
   "source": [
    "show_rq1_eval_result()"
   ]
  },
  {
   "cell_type": "markdown",
   "metadata": {},
   "source": [
    "# RQ2 evaluation"
   ]
  },
  {
   "cell_type": "code",
   "execution_count": 6,
   "metadata": {
    "scrolled": true
   },
   "outputs": [
    {
     "name": "stdout",
     "output_type": "stream",
     "text": [
      "finished RQ2 of openstack\n",
      "finished RQ2 of qt\n"
     ]
    }
   ],
   "source": [
    "rq2_eval('openstack','RF')\n",
    "rq2_eval('qt','RF')"
   ]
  },
  {
   "cell_type": "code",
   "execution_count": 7,
   "metadata": {},
   "outputs": [
    {
     "name": "stdout",
     "output_type": "stream",
     "text": [
      "finished RQ2 of openstack\n",
      "finished RQ2 of qt\n"
     ]
    }
   ],
   "source": [
    "rq2_eval('openstack','lr')\n",
    "rq2_eval('qt','lr')"
   ]
  },
  {
   "cell_type": "code",
   "execution_count": 3,
   "metadata": {},
   "outputs": [
    {
     "data": {
      "image/png": "[encoded data removed]",
      "text/plain": [
       "<Figure size 720x720 with 4 Axes>"
      ]
     },
     "metadata": {
      "needs_background": "light"
     },
     "output_type": "display_data"
    },
    {
     "data": {
      "text/html": [
       "<div>\n",
       "<style scoped>\n",
       "    .dataframe tbody tr th:only-of-type {\n",
       "        vertical-align: middle;\n",
       "    }\n",
       "\n",
       "    .dataframe tbody tr th {\n",
       "        vertical-align: top;\n",
       "    }\n",
       "\n",
       "    .dataframe thead tr th {\n",
       "        text-align: left;\n",
       "    }\n",
       "\n",
       "    .dataframe thead tr:last-of-type th {\n",
       "        text-align: right;\n",
       "    }\n",
       "</style>\n",
       "<table border=\"1\" class=\"dataframe\">\n",
       "  <thead>\n",
       "    <tr>\n",
       "      <th></th>\n",
       "      <th></th>\n",
       "      <th></th>\n",
       "      <th colspan=\"8\" halign=\"left\">AUC</th>\n",
       "      <th colspan=\"8\" halign=\"left\">F1</th>\n",
       "    </tr>\n",
       "    <tr>\n",
       "      <th></th>\n",
       "      <th></th>\n",
       "      <th></th>\n",
       "      <th>count</th>\n",
       "      <th>mean</th>\n",
       "      <th>std</th>\n",
       "      <th>min</th>\n",
       "      <th>25%</th>\n",
       "      <th>50%</th>\n",
       "      <th>75%</th>\n",
       "      <th>max</th>\n",
       "      <th>count</th>\n",
       "      <th>mean</th>\n",
       "      <th>std</th>\n",
       "      <th>min</th>\n",
       "      <th>25%</th>\n",
       "      <th>50%</th>\n",
       "      <th>75%</th>\n",
       "      <th>max</th>\n",
       "    </tr>\n",
       "    <tr>\n",
       "      <th>global_model</th>\n",
       "      <th>project</th>\n",
       "      <th>method</th>\n",
       "      <th></th>\n",
       "      <th></th>\n",
       "      <th></th>\n",
       "      <th></th>\n",
       "      <th></th>\n",
       "      <th></th>\n",
       "      <th></th>\n",
       "      <th></th>\n",
       "      <th></th>\n",
       "      <th></th>\n",
       "      <th></th>\n",
       "      <th></th>\n",
       "      <th></th>\n",
       "      <th></th>\n",
       "      <th></th>\n",
       "      <th></th>\n",
       "    </tr>\n",
       "  </thead>\n",
       "  <tbody>\n",
       "    <tr>\n",
       "      <th rowspan=\"4\" valign=\"top\">LR</th>\n",
       "      <th rowspan=\"2\" valign=\"top\">openstack</th>\n",
       "      <th>LIME</th>\n",
       "      <td>376.0</td>\n",
       "      <td>0.829102</td>\n",
       "      <td>0.055547</td>\n",
       "      <td>0.654471</td>\n",
       "      <td>0.800182</td>\n",
       "      <td>0.849468</td>\n",
       "      <td>0.871452</td>\n",
       "      <td>0.913027</td>\n",
       "      <td>376.0</td>\n",
       "      <td>0.804673</td>\n",
       "      <td>0.031311</td>\n",
       "      <td>0.724138</td>\n",
       "      <td>0.776931</td>\n",
       "      <td>0.809816</td>\n",
       "      <td>0.830992</td>\n",
       "      <td>0.872978</td>\n",
       "    </tr>\n",
       "    <tr>\n",
       "      <th>pyExplainer</th>\n",
       "      <td>376.0</td>\n",
       "      <td>0.965353</td>\n",
       "      <td>0.127003</td>\n",
       "      <td>0.500000</td>\n",
       "      <td>0.999999</td>\n",
       "      <td>1.000000</td>\n",
       "      <td>1.000000</td>\n",
       "      <td>1.000000</td>\n",
       "      <td>376.0</td>\n",
       "      <td>0.989243</td>\n",
       "      <td>0.057882</td>\n",
       "      <td>0.000000</td>\n",
       "      <td>0.999431</td>\n",
       "      <td>1.000000</td>\n",
       "      <td>1.000000</td>\n",
       "      <td>1.000000</td>\n",
       "    </tr>\n",
       "    <tr>\n",
       "      <th rowspan=\"2\" valign=\"top\">qt</th>\n",
       "      <th>LIME</th>\n",
       "      <td>255.0</td>\n",
       "      <td>0.799265</td>\n",
       "      <td>0.073640</td>\n",
       "      <td>0.587230</td>\n",
       "      <td>0.754966</td>\n",
       "      <td>0.813798</td>\n",
       "      <td>0.846027</td>\n",
       "      <td>0.930847</td>\n",
       "      <td>255.0</td>\n",
       "      <td>0.776004</td>\n",
       "      <td>0.045181</td>\n",
       "      <td>0.620263</td>\n",
       "      <td>0.745791</td>\n",
       "      <td>0.765466</td>\n",
       "      <td>0.802436</td>\n",
       "      <td>0.887651</td>\n",
       "    </tr>\n",
       "    <tr>\n",
       "      <th>pyExplainer</th>\n",
       "      <td>255.0</td>\n",
       "      <td>0.958771</td>\n",
       "      <td>0.137705</td>\n",
       "      <td>0.500000</td>\n",
       "      <td>0.999898</td>\n",
       "      <td>1.000000</td>\n",
       "      <td>1.000000</td>\n",
       "      <td>1.000000</td>\n",
       "      <td>255.0</td>\n",
       "      <td>0.983292</td>\n",
       "      <td>0.075777</td>\n",
       "      <td>0.000000</td>\n",
       "      <td>0.997761</td>\n",
       "      <td>1.000000</td>\n",
       "      <td>1.000000</td>\n",
       "      <td>1.000000</td>\n",
       "    </tr>\n",
       "    <tr>\n",
       "      <th rowspan=\"4\" valign=\"top\">RF</th>\n",
       "      <th rowspan=\"2\" valign=\"top\">openstack</th>\n",
       "      <th>LIME</th>\n",
       "      <td>198.0</td>\n",
       "      <td>0.739778</td>\n",
       "      <td>0.028582</td>\n",
       "      <td>0.622698</td>\n",
       "      <td>0.725468</td>\n",
       "      <td>0.747063</td>\n",
       "      <td>0.757772</td>\n",
       "      <td>0.792135</td>\n",
       "      <td>198.0</td>\n",
       "      <td>0.247077</td>\n",
       "      <td>0.089213</td>\n",
       "      <td>0.000000</td>\n",
       "      <td>0.189667</td>\n",
       "      <td>0.282794</td>\n",
       "      <td>0.311790</td>\n",
       "      <td>0.396056</td>\n",
       "    </tr>\n",
       "    <tr>\n",
       "      <th>pyExplainer</th>\n",
       "      <td>198.0</td>\n",
       "      <td>0.973504</td>\n",
       "      <td>0.091100</td>\n",
       "      <td>0.500000</td>\n",
       "      <td>0.985086</td>\n",
       "      <td>0.988425</td>\n",
       "      <td>0.997700</td>\n",
       "      <td>1.000000</td>\n",
       "      <td>198.0</td>\n",
       "      <td>0.950775</td>\n",
       "      <td>0.076806</td>\n",
       "      <td>0.000000</td>\n",
       "      <td>0.941236</td>\n",
       "      <td>0.956598</td>\n",
       "      <td>0.982718</td>\n",
       "      <td>1.000000</td>\n",
       "    </tr>\n",
       "    <tr>\n",
       "      <th rowspan=\"2\" valign=\"top\">qt</th>\n",
       "      <th>LIME</th>\n",
       "      <td>79.0</td>\n",
       "      <td>0.727560</td>\n",
       "      <td>0.032064</td>\n",
       "      <td>0.684481</td>\n",
       "      <td>0.711698</td>\n",
       "      <td>0.720274</td>\n",
       "      <td>0.731871</td>\n",
       "      <td>0.826997</td>\n",
       "      <td>79.0</td>\n",
       "      <td>0.164388</td>\n",
       "      <td>0.086351</td>\n",
       "      <td>0.000000</td>\n",
       "      <td>0.121791</td>\n",
       "      <td>0.186940</td>\n",
       "      <td>0.218175</td>\n",
       "      <td>0.337637</td>\n",
       "    </tr>\n",
       "    <tr>\n",
       "      <th>pyExplainer</th>\n",
       "      <td>79.0</td>\n",
       "      <td>0.983411</td>\n",
       "      <td>0.055340</td>\n",
       "      <td>0.500000</td>\n",
       "      <td>0.985922</td>\n",
       "      <td>0.988490</td>\n",
       "      <td>0.992044</td>\n",
       "      <td>0.999988</td>\n",
       "      <td>79.0</td>\n",
       "      <td>0.946981</td>\n",
       "      <td>0.037185</td>\n",
       "      <td>0.669439</td>\n",
       "      <td>0.937660</td>\n",
       "      <td>0.947083</td>\n",
       "      <td>0.957854</td>\n",
       "      <td>0.999233</td>\n",
       "    </tr>\n",
       "  </tbody>\n",
       "</table>\n",
       "</div>"
      ],
      "text/plain": [
       "                                      AUC                                \\\n",
       "                                    count      mean       std       min   \n",
       "global_model project   method                                             \n",
       "LR           openstack LIME         376.0  0.829102  0.055547  0.654471   \n",
       "                       pyExplainer  376.0  0.965353  0.127003  0.500000   \n",
       "             qt        LIME         255.0  0.799265  0.073640  0.587230   \n",
       "                       pyExplainer  255.0  0.958771  0.137705  0.500000   \n",
       "RF           openstack LIME         198.0  0.739778  0.028582  0.622698   \n",
       "                       pyExplainer  198.0  0.973504  0.091100  0.500000   \n",
       "             qt        LIME          79.0  0.727560  0.032064  0.684481   \n",
       "                       pyExplainer   79.0  0.983411  0.055340  0.500000   \n",
       "\n",
       "                                                                            \\\n",
       "                                         25%       50%       75%       max   \n",
       "global_model project   method                                                \n",
       "LR           openstack LIME         0.800182  0.849468  0.871452  0.913027   \n",
       "                       pyExplainer  0.999999  1.000000  1.000000  1.000000   \n",
       "             qt        LIME         0.754966  0.813798  0.846027  0.930847   \n",
       "                       pyExplainer  0.999898  1.000000  1.000000  1.000000   \n",
       "RF           openstack LIME         0.725468  0.747063  0.757772  0.792135   \n",
       "                       pyExplainer  0.985086  0.988425  0.997700  1.000000   \n",
       "             qt        LIME         0.711698  0.720274  0.731871  0.826997   \n",
       "                       pyExplainer  0.985922  0.988490  0.992044  0.999988   \n",
       "\n",
       "                                       F1                                \\\n",
       "                                    count      mean       std       min   \n",
       "global_model project   method                                             \n",
       "LR           openstack LIME         376.0  0.804673  0.031311  0.724138   \n",
       "                       pyExplainer  376.0  0.989243  0.057882  0.000000   \n",
       "             qt        LIME         255.0  0.776004  0.045181  0.620263   \n",
       "                       pyExplainer  255.0  0.983292  0.075777  0.000000   \n",
       "RF           openstack LIME         198.0  0.247077  0.089213  0.000000   \n",
       "                       pyExplainer  198.0  0.950775  0.076806  0.000000   \n",
       "             qt        LIME          79.0  0.164388  0.086351  0.000000   \n",
       "                       pyExplainer   79.0  0.946981  0.037185  0.669439   \n",
       "\n",
       "                                                                            \n",
       "                                         25%       50%       75%       max  \n",
       "global_model project   method                                               \n",
       "LR           openstack LIME         0.776931  0.809816  0.830992  0.872978  \n",
       "                       pyExplainer  0.999431  1.000000  1.000000  1.000000  \n",
       "             qt        LIME         0.745791  0.765466  0.802436  0.887651  \n",
       "                       pyExplainer  0.997761  1.000000  1.000000  1.000000  \n",
       "RF           openstack LIME         0.189667  0.282794  0.311790  0.396056  \n",
       "                       pyExplainer  0.941236  0.956598  0.982718  1.000000  \n",
       "             qt        LIME         0.121791  0.186940  0.218175  0.337637  \n",
       "                       pyExplainer  0.937660  0.947083  0.957854  0.999233  "
      ]
     },
     "metadata": {},
     "output_type": "display_data"
    }
   ],
   "source": [
    "show_rq2_eval_result()"
   ]
  },
  {
   "cell_type": "code",
   "execution_count": 3,
   "metadata": {},
   "outputs": [
    {
     "data": {
      "image/png": "[encoded data removed]",
      "text/plain": [
       "<Figure size 720x720 with 4 Axes>"
      ]
     },
     "metadata": {
      "needs_background": "light"
     },
     "output_type": "display_data"
    }
   ],
   "source": [
    "show_rq2_prob_distribution()"
   ]
  },
  {
   "cell_type": "markdown",
   "metadata": {},
   "source": [
    "# RQ3 evaluation"
   ]
  },
  {
   "cell_type": "code",
   "execution_count": 41,
   "metadata": {
    "code_folding": [],
    "scrolled": true
   },
   "outputs": [
    {
     "name": "stdout",
     "output_type": "stream",
     "text": [
      "openstack\n",
      "finished 1 from 198 commits\n",
      "finished 2 from 198 commits\n",
      "finished 3 from 198 commits\n",
      "finished 4 from 198 commits\n",
      "finished 5 from 198 commits\n"
     ]
    },
    {
     "name": "stderr",
     "output_type": "stream",
     "text": [
      "/home/oathaha/.conda/envs/env_oat/lib/python3.9/site-packages/sklearn/metrics/_classification.py:1245: UndefinedMetricWarning: Precision is ill-defined and being set to 0.0 due to no predicted samples. Use `zero_division` parameter to control this behavior.\n",
      "  _warn_prf(average, modifier, msg_start, len(result))\n"
     ]
    },
    {
     "name": "stdout",
     "output_type": "stream",
     "text": [
      "finished 6 from 198 commits\n",
      "finished 7 from 198 commits\n",
      "finished 8 from 198 commits\n",
      "finished 9 from 198 commits\n",
      "finished 10 from 198 commits\n",
      "finished 11 from 198 commits\n",
      "finished 12 from 198 commits\n",
      "finished 13 from 198 commits\n"
     ]
    },
    {
     "name": "stderr",
     "output_type": "stream",
     "text": [
      "/home/oathaha/.conda/envs/env_oat/lib/python3.9/site-packages/sklearn/metrics/_classification.py:1245: UndefinedMetricWarning: Precision is ill-defined and being set to 0.0 due to no predicted samples. Use `zero_division` parameter to control this behavior.\n",
      "  _warn_prf(average, modifier, msg_start, len(result))\n"
     ]
    },
    {
     "name": "stdout",
     "output_type": "stream",
     "text": [
      "finished 14 from 198 commits\n",
      "finished 15 from 198 commits\n",
      "finished 16 from 198 commits\n",
      "finished 17 from 198 commits\n",
      "finished 18 from 198 commits\n",
      "finished 19 from 198 commits\n",
      "finished 20 from 198 commits\n",
      "finished 21 from 198 commits\n",
      "finished 22 from 198 commits\n",
      "finished 23 from 198 commits\n",
      "finished 24 from 198 commits\n",
      "finished 25 from 198 commits\n",
      "finished 26 from 198 commits\n",
      "finished 27 from 198 commits\n",
      "finished 28 from 198 commits\n",
      "finished 29 from 198 commits\n",
      "finished 30 from 198 commits\n",
      "finished 31 from 198 commits\n",
      "finished 32 from 198 commits\n",
      "finished 33 from 198 commits\n",
      "finished 34 from 198 commits\n",
      "finished 35 from 198 commits\n",
      "finished 36 from 198 commits\n",
      "finished 37 from 198 commits\n",
      "finished 38 from 198 commits\n",
      "finished 39 from 198 commits\n",
      "finished 40 from 198 commits\n",
      "finished 41 from 198 commits\n",
      "finished 42 from 198 commits\n",
      "finished 43 from 198 commits\n",
      "finished 44 from 198 commits\n",
      "finished 45 from 198 commits\n",
      "finished 46 from 198 commits\n",
      "finished 47 from 198 commits\n",
      "finished 48 from 198 commits\n",
      "finished 49 from 198 commits\n",
      "finished 50 from 198 commits\n",
      "finished 51 from 198 commits\n",
      "finished 52 from 198 commits\n",
      "finished 53 from 198 commits\n",
      "finished 54 from 198 commits\n",
      "finished 55 from 198 commits\n",
      "finished 56 from 198 commits\n",
      "finished 57 from 198 commits\n"
     ]
    },
    {
     "name": "stderr",
     "output_type": "stream",
     "text": [
      "/home/oathaha/.conda/envs/env_oat/lib/python3.9/site-packages/sklearn/metrics/_classification.py:1245: UndefinedMetricWarning: Precision is ill-defined and being set to 0.0 due to no predicted samples. Use `zero_division` parameter to control this behavior.\n",
      "  _warn_prf(average, modifier, msg_start, len(result))\n"
     ]
    },
    {
     "name": "stdout",
     "output_type": "stream",
     "text": [
      "finished 58 from 198 commits\n"
     ]
    },
    {
     "name": "stderr",
     "output_type": "stream",
     "text": [
      "/home/oathaha/.conda/envs/env_oat/lib/python3.9/site-packages/sklearn/metrics/_classification.py:1245: UndefinedMetricWarning: Precision is ill-defined and being set to 0.0 due to no predicted samples. Use `zero_division` parameter to control this behavior.\n",
      "  _warn_prf(average, modifier, msg_start, len(result))\n"
     ]
    },
    {
     "name": "stdout",
     "output_type": "stream",
     "text": [
      "finished 59 from 198 commits\n",
      "finished 60 from 198 commits\n",
      "finished 61 from 198 commits\n",
      "finished 62 from 198 commits\n",
      "finished 63 from 198 commits\n",
      "finished 64 from 198 commits\n",
      "finished 65 from 198 commits\n",
      "finished 66 from 198 commits\n",
      "finished 67 from 198 commits\n",
      "finished 68 from 198 commits\n",
      "finished 69 from 198 commits\n",
      "finished 70 from 198 commits\n",
      "finished 71 from 198 commits\n",
      "finished 72 from 198 commits\n",
      "finished 73 from 198 commits\n",
      "finished 74 from 198 commits\n",
      "finished 75 from 198 commits\n",
      "finished 76 from 198 commits\n",
      "finished 77 from 198 commits\n",
      "finished 78 from 198 commits\n",
      "finished 79 from 198 commits\n",
      "finished 80 from 198 commits\n"
     ]
    },
    {
     "name": "stderr",
     "output_type": "stream",
     "text": [
      "/home/oathaha/.conda/envs/env_oat/lib/python3.9/site-packages/sklearn/metrics/_classification.py:1245: UndefinedMetricWarning: Precision is ill-defined and being set to 0.0 due to no predicted samples. Use `zero_division` parameter to control this behavior.\n",
      "  _warn_prf(average, modifier, msg_start, len(result))\n"
     ]
    },
    {
     "name": "stdout",
     "output_type": "stream",
     "text": [
      "finished 81 from 198 commits\n",
      "finished 82 from 198 commits\n",
      "finished 83 from 198 commits\n",
      "finished 84 from 198 commits\n",
      "finished 85 from 198 commits\n",
      "finished 86 from 198 commits\n",
      "finished 87 from 198 commits\n",
      "finished 88 from 198 commits\n",
      "finished 89 from 198 commits\n",
      "finished 90 from 198 commits\n",
      "finished 91 from 198 commits\n",
      "finished 92 from 198 commits\n",
      "finished 93 from 198 commits\n",
      "finished 94 from 198 commits\n",
      "finished 95 from 198 commits\n",
      "finished 96 from 198 commits\n",
      "finished 97 from 198 commits\n",
      "finished 98 from 198 commits\n",
      "finished 99 from 198 commits\n",
      "finished 100 from 198 commits\n",
      "finished 101 from 198 commits\n",
      "finished 102 from 198 commits\n",
      "finished 103 from 198 commits\n",
      "finished 104 from 198 commits\n",
      "finished 105 from 198 commits\n",
      "finished 106 from 198 commits\n",
      "finished 107 from 198 commits\n",
      "finished 108 from 198 commits\n",
      "finished 109 from 198 commits\n",
      "finished 110 from 198 commits\n",
      "finished 111 from 198 commits\n",
      "finished 112 from 198 commits\n",
      "finished 113 from 198 commits\n",
      "finished 114 from 198 commits\n",
      "finished 115 from 198 commits\n",
      "finished 116 from 198 commits\n",
      "finished 117 from 198 commits\n",
      "finished 118 from 198 commits\n",
      "finished 119 from 198 commits\n",
      "finished 120 from 198 commits\n",
      "finished 121 from 198 commits\n",
      "finished 122 from 198 commits\n",
      "finished 123 from 198 commits\n",
      "finished 124 from 198 commits\n",
      "finished 125 from 198 commits\n",
      "finished 126 from 198 commits\n",
      "finished 127 from 198 commits\n",
      "finished 128 from 198 commits\n",
      "finished 129 from 198 commits\n",
      "finished 130 from 198 commits\n",
      "finished 131 from 198 commits\n"
     ]
    },
    {
     "name": "stderr",
     "output_type": "stream",
     "text": [
      "/home/oathaha/.conda/envs/env_oat/lib/python3.9/site-packages/sklearn/metrics/_classification.py:1245: UndefinedMetricWarning: Precision is ill-defined and being set to 0.0 due to no predicted samples. Use `zero_division` parameter to control this behavior.\n",
      "  _warn_prf(average, modifier, msg_start, len(result))\n"
     ]
    },
    {
     "name": "stdout",
     "output_type": "stream",
     "text": [
      "finished 132 from 198 commits\n",
      "finished 133 from 198 commits\n"
     ]
    },
    {
     "name": "stderr",
     "output_type": "stream",
     "text": [
      "/home/oathaha/.conda/envs/env_oat/lib/python3.9/site-packages/sklearn/metrics/_classification.py:1245: UndefinedMetricWarning: Precision is ill-defined and being set to 0.0 due to no predicted samples. Use `zero_division` parameter to control this behavior.\n",
      "  _warn_prf(average, modifier, msg_start, len(result))\n"
     ]
    },
    {
     "name": "stdout",
     "output_type": "stream",
     "text": [
      "finished 134 from 198 commits\n",
      "finished 135 from 198 commits\n",
      "finished 136 from 198 commits\n",
      "finished 137 from 198 commits\n"
     ]
    },
    {
     "name": "stderr",
     "output_type": "stream",
     "text": [
      "/home/oathaha/.conda/envs/env_oat/lib/python3.9/site-packages/sklearn/metrics/_classification.py:1245: UndefinedMetricWarning: Precision is ill-defined and being set to 0.0 due to no predicted samples. Use `zero_division` parameter to control this behavior.\n",
      "  _warn_prf(average, modifier, msg_start, len(result))\n"
     ]
    },
    {
     "name": "stdout",
     "output_type": "stream",
     "text": [
      "finished 138 from 198 commits\n"
     ]
    },
    {
     "name": "stderr",
     "output_type": "stream",
     "text": [
      "/home/oathaha/.conda/envs/env_oat/lib/python3.9/site-packages/sklearn/metrics/_classification.py:1245: UndefinedMetricWarning: Precision is ill-defined and being set to 0.0 due to no predicted samples. Use `zero_division` parameter to control this behavior.\n",
      "  _warn_prf(average, modifier, msg_start, len(result))\n"
     ]
    },
    {
     "name": "stdout",
     "output_type": "stream",
     "text": [
      "finished 139 from 198 commits\n",
      "finished 140 from 198 commits\n",
      "finished 141 from 198 commits\n",
      "finished 142 from 198 commits\n",
      "finished 143 from 198 commits\n",
      "finished 144 from 198 commits\n",
      "finished 145 from 198 commits\n",
      "finished 146 from 198 commits\n",
      "finished 147 from 198 commits\n",
      "finished 148 from 198 commits\n",
      "finished 149 from 198 commits\n"
     ]
    },
    {
     "name": "stderr",
     "output_type": "stream",
     "text": [
      "/home/oathaha/.conda/envs/env_oat/lib/python3.9/site-packages/sklearn/metrics/_classification.py:1245: UndefinedMetricWarning: Precision is ill-defined and being set to 0.0 due to no predicted samples. Use `zero_division` parameter to control this behavior.\n",
      "  _warn_prf(average, modifier, msg_start, len(result))\n"
     ]
    },
    {
     "name": "stdout",
     "output_type": "stream",
     "text": [
      "finished 150 from 198 commits\n",
      "finished 151 from 198 commits\n",
      "finished 152 from 198 commits\n",
      "finished 153 from 198 commits\n",
      "finished 154 from 198 commits\n",
      "finished 155 from 198 commits\n",
      "finished 156 from 198 commits\n",
      "finished 157 from 198 commits\n",
      "finished 158 from 198 commits\n",
      "finished 159 from 198 commits\n"
     ]
    },
    {
     "name": "stderr",
     "output_type": "stream",
     "text": [
      "/home/oathaha/.conda/envs/env_oat/lib/python3.9/site-packages/sklearn/metrics/_classification.py:1245: UndefinedMetricWarning: Precision is ill-defined and being set to 0.0 due to no predicted samples. Use `zero_division` parameter to control this behavior.\n",
      "  _warn_prf(average, modifier, msg_start, len(result))\n"
     ]
    },
    {
     "name": "stdout",
     "output_type": "stream",
     "text": [
      "finished 160 from 198 commits\n",
      "finished 161 from 198 commits\n"
     ]
    },
    {
     "name": "stderr",
     "output_type": "stream",
     "text": [
      "/home/oathaha/.conda/envs/env_oat/lib/python3.9/site-packages/sklearn/metrics/_classification.py:1245: UndefinedMetricWarning: Precision is ill-defined and being set to 0.0 due to no predicted samples. Use `zero_division` parameter to control this behavior.\n",
      "  _warn_prf(average, modifier, msg_start, len(result))\n"
     ]
    },
    {
     "name": "stdout",
     "output_type": "stream",
     "text": [
      "finished 162 from 198 commits\n",
      "finished 163 from 198 commits\n",
      "finished 164 from 198 commits\n",
      "finished 165 from 198 commits\n",
      "finished 166 from 198 commits\n",
      "finished 167 from 198 commits\n",
      "finished 168 from 198 commits\n",
      "finished 169 from 198 commits\n",
      "finished 170 from 198 commits\n",
      "finished 171 from 198 commits\n",
      "finished 172 from 198 commits\n",
      "finished 173 from 198 commits\n",
      "finished 174 from 198 commits\n",
      "finished 175 from 198 commits\n",
      "finished 176 from 198 commits\n",
      "finished 177 from 198 commits\n",
      "finished 178 from 198 commits\n",
      "finished 179 from 198 commits\n",
      "finished 180 from 198 commits\n",
      "finished 181 from 198 commits\n",
      "finished 182 from 198 commits\n",
      "finished 183 from 198 commits\n",
      "finished 184 from 198 commits\n"
     ]
    },
    {
     "name": "stderr",
     "output_type": "stream",
     "text": [
      "/home/oathaha/.conda/envs/env_oat/lib/python3.9/site-packages/sklearn/metrics/_classification.py:1245: UndefinedMetricWarning: Precision is ill-defined and being set to 0.0 due to no predicted samples. Use `zero_division` parameter to control this behavior.\n",
      "  _warn_prf(average, modifier, msg_start, len(result))\n"
     ]
    },
    {
     "name": "stdout",
     "output_type": "stream",
     "text": [
      "finished 185 from 198 commits\n",
      "finished 186 from 198 commits\n",
      "finished 187 from 198 commits\n",
      "finished 188 from 198 commits\n",
      "finished 189 from 198 commits\n",
      "finished 190 from 198 commits\n",
      "finished 191 from 198 commits\n",
      "finished 192 from 198 commits\n",
      "finished 193 from 198 commits\n"
     ]
    },
    {
     "name": "stderr",
     "output_type": "stream",
     "text": [
      "/home/oathaha/.conda/envs/env_oat/lib/python3.9/site-packages/sklearn/metrics/_classification.py:1245: UndefinedMetricWarning: Precision is ill-defined and being set to 0.0 due to no predicted samples. Use `zero_division` parameter to control this behavior.\n",
      "  _warn_prf(average, modifier, msg_start, len(result))\n"
     ]
    },
    {
     "name": "stdout",
     "output_type": "stream",
     "text": [
      "finished 194 from 198 commits\n",
      "finished 195 from 198 commits\n",
      "finished 196 from 198 commits\n",
      "finished 197 from 198 commits\n",
      "finished 198 from 198 commits\n",
      "finished RQ3 of openstack\n",
      "finished in 237.42624068260193 secs\n",
      "qt\n",
      "finished 1 from 79 commits\n",
      "finished 2 from 79 commits\n",
      "finished 3 from 79 commits\n",
      "finished 4 from 79 commits\n",
      "finished 5 from 79 commits\n",
      "finished 6 from 79 commits\n",
      "finished 7 from 79 commits\n",
      "finished 8 from 79 commits\n",
      "finished 9 from 79 commits\n",
      "finished 10 from 79 commits\n",
      "finished 11 from 79 commits\n",
      "finished 12 from 79 commits\n",
      "finished 13 from 79 commits\n",
      "finished 14 from 79 commits\n",
      "finished 15 from 79 commits\n",
      "finished 16 from 79 commits\n",
      "finished 17 from 79 commits\n"
     ]
    },
    {
     "name": "stderr",
     "output_type": "stream",
     "text": [
      "/home/oathaha/.conda/envs/env_oat/lib/python3.9/site-packages/sklearn/metrics/_classification.py:1245: UndefinedMetricWarning: Precision is ill-defined and being set to 0.0 due to no predicted samples. Use `zero_division` parameter to control this behavior.\n",
      "  _warn_prf(average, modifier, msg_start, len(result))\n"
     ]
    },
    {
     "name": "stdout",
     "output_type": "stream",
     "text": [
      "finished 18 from 79 commits\n",
      "finished 19 from 79 commits\n",
      "finished 20 from 79 commits\n",
      "finished 21 from 79 commits\n",
      "finished 22 from 79 commits\n",
      "finished 23 from 79 commits\n",
      "finished 24 from 79 commits\n",
      "finished 25 from 79 commits\n"
     ]
    },
    {
     "name": "stderr",
     "output_type": "stream",
     "text": [
      "/home/oathaha/.conda/envs/env_oat/lib/python3.9/site-packages/sklearn/metrics/_classification.py:1245: UndefinedMetricWarning: Precision is ill-defined and being set to 0.0 due to no predicted samples. Use `zero_division` parameter to control this behavior.\n",
      "  _warn_prf(average, modifier, msg_start, len(result))\n"
     ]
    },
    {
     "name": "stdout",
     "output_type": "stream",
     "text": [
      "finished 26 from 79 commits\n",
      "finished 27 from 79 commits\n",
      "finished 28 from 79 commits\n",
      "finished 29 from 79 commits\n",
      "finished 30 from 79 commits\n",
      "finished 31 from 79 commits\n",
      "finished 32 from 79 commits\n",
      "finished 33 from 79 commits\n"
     ]
    },
    {
     "name": "stderr",
     "output_type": "stream",
     "text": [
      "/home/oathaha/.conda/envs/env_oat/lib/python3.9/site-packages/sklearn/metrics/_classification.py:1245: UndefinedMetricWarning: Precision is ill-defined and being set to 0.0 due to no predicted samples. Use `zero_division` parameter to control this behavior.\n",
      "  _warn_prf(average, modifier, msg_start, len(result))\n"
     ]
    },
    {
     "name": "stdout",
     "output_type": "stream",
     "text": [
      "finished 34 from 79 commits\n",
      "finished 35 from 79 commits\n",
      "finished 36 from 79 commits\n",
      "finished 37 from 79 commits\n",
      "finished 38 from 79 commits\n",
      "finished 39 from 79 commits\n",
      "finished 40 from 79 commits\n",
      "finished 41 from 79 commits\n",
      "finished 42 from 79 commits\n",
      "finished 43 from 79 commits\n",
      "finished 44 from 79 commits\n",
      "finished 45 from 79 commits\n",
      "finished 46 from 79 commits\n",
      "finished 47 from 79 commits\n",
      "finished 48 from 79 commits\n",
      "finished 49 from 79 commits\n",
      "finished 50 from 79 commits\n",
      "finished 51 from 79 commits\n",
      "finished 52 from 79 commits\n",
      "finished 53 from 79 commits\n",
      "finished 54 from 79 commits\n",
      "finished 55 from 79 commits\n",
      "finished 56 from 79 commits\n",
      "finished 57 from 79 commits\n",
      "finished 58 from 79 commits\n",
      "finished 59 from 79 commits\n",
      "finished 60 from 79 commits\n",
      "finished 61 from 79 commits\n",
      "finished 62 from 79 commits\n",
      "finished 63 from 79 commits\n"
     ]
    },
    {
     "name": "stderr",
     "output_type": "stream",
     "text": [
      "/home/oathaha/.conda/envs/env_oat/lib/python3.9/site-packages/sklearn/metrics/_classification.py:1245: UndefinedMetricWarning: Precision is ill-defined and being set to 0.0 due to no predicted samples. Use `zero_division` parameter to control this behavior.\n",
      "  _warn_prf(average, modifier, msg_start, len(result))\n"
     ]
    },
    {
     "name": "stdout",
     "output_type": "stream",
     "text": [
      "finished 64 from 79 commits\n",
      "finished 65 from 79 commits\n",
      "finished 66 from 79 commits\n",
      "finished 67 from 79 commits\n",
      "finished 68 from 79 commits\n",
      "finished 69 from 79 commits\n",
      "finished 70 from 79 commits\n",
      "finished 71 from 79 commits\n",
      "finished 72 from 79 commits\n",
      "finished 73 from 79 commits\n",
      "finished 74 from 79 commits\n",
      "finished 75 from 79 commits\n",
      "finished 76 from 79 commits\n",
      "finished 77 from 79 commits\n",
      "finished 78 from 79 commits\n",
      "finished 79 from 79 commits\n",
      "finished RQ3 of qt\n",
      "finished in 138.81903743743896 secs\n"
     ]
    }
   ],
   "source": [
    "# start = time.time()\n",
    "# print('openstack')\n",
    "# rq3_eval('openstack','RF')\n",
    "# end = time.time()\n",
    "# print('finished in',str(end-start), 'secs')\n",
    "\n",
    "# start = time.time()\n",
    "# print('qt')\n",
    "# rq3_eval('qt','RF')\n",
    "# end = time.time()\n",
    "# print('finished in',str(end-start), 'secs')"
   ]
  },
  {
   "cell_type": "code",
   "execution_count": 42,
   "metadata": {},
   "outputs": [
    {
     "name": "stdout",
     "output_type": "stream",
     "text": [
      "openstack\n"
     ]
    },
    {
     "name": "stderr",
     "output_type": "stream",
     "text": [
      "/home/oathaha/.conda/envs/env_oat/lib/python3.9/site-packages/sklearn/metrics/_classification.py:1245: UndefinedMetricWarning: Precision is ill-defined and being set to 0.0 due to no predicted samples. Use `zero_division` parameter to control this behavior.\n",
      "  _warn_prf(average, modifier, msg_start, len(result))\n"
     ]
    },
    {
     "name": "stdout",
     "output_type": "stream",
     "text": [
      "finished 1 from 376 commits\n"
     ]
    },
    {
     "name": "stderr",
     "output_type": "stream",
     "text": [
      "/home/oathaha/.conda/envs/env_oat/lib/python3.9/site-packages/sklearn/metrics/_classification.py:1245: UndefinedMetricWarning: Precision is ill-defined and being set to 0.0 due to no predicted samples. Use `zero_division` parameter to control this behavior.\n",
      "  _warn_prf(average, modifier, msg_start, len(result))\n"
     ]
    },
    {
     "name": "stdout",
     "output_type": "stream",
     "text": [
      "finished 2 from 376 commits\n",
      "finished 3 from 376 commits\n",
      "finished 4 from 376 commits\n",
      "finished 5 from 376 commits\n",
      "finished 6 from 376 commits\n"
     ]
    },
    {
     "name": "stderr",
     "output_type": "stream",
     "text": [
      "/home/oathaha/.conda/envs/env_oat/lib/python3.9/site-packages/sklearn/metrics/_classification.py:1245: UndefinedMetricWarning: Precision is ill-defined and being set to 0.0 due to no predicted samples. Use `zero_division` parameter to control this behavior.\n",
      "  _warn_prf(average, modifier, msg_start, len(result))\n"
     ]
    },
    {
     "name": "stdout",
     "output_type": "stream",
     "text": [
      "finished 7 from 376 commits\n",
      "finished 8 from 376 commits\n",
      "finished 9 from 376 commits\n",
      "finished 10 from 376 commits\n",
      "finished 11 from 376 commits\n",
      "finished 12 from 376 commits\n",
      "finished 13 from 376 commits\n",
      "finished 14 from 376 commits\n",
      "finished 15 from 376 commits\n",
      "finished 16 from 376 commits\n",
      "finished 17 from 376 commits\n",
      "finished 18 from 376 commits\n",
      "finished 19 from 376 commits\n",
      "finished 20 from 376 commits\n"
     ]
    },
    {
     "name": "stderr",
     "output_type": "stream",
     "text": [
      "/home/oathaha/.conda/envs/env_oat/lib/python3.9/site-packages/sklearn/metrics/_classification.py:1245: UndefinedMetricWarning: Precision is ill-defined and being set to 0.0 due to no predicted samples. Use `zero_division` parameter to control this behavior.\n",
      "  _warn_prf(average, modifier, msg_start, len(result))\n"
     ]
    },
    {
     "name": "stdout",
     "output_type": "stream",
     "text": [
      "finished 21 from 376 commits\n",
      "finished 22 from 376 commits\n",
      "finished 23 from 376 commits\n",
      "finished 24 from 376 commits\n"
     ]
    },
    {
     "name": "stderr",
     "output_type": "stream",
     "text": [
      "/home/oathaha/.conda/envs/env_oat/lib/python3.9/site-packages/sklearn/metrics/_classification.py:1245: UndefinedMetricWarning: Precision is ill-defined and being set to 0.0 due to no predicted samples. Use `zero_division` parameter to control this behavior.\n",
      "  _warn_prf(average, modifier, msg_start, len(result))\n"
     ]
    },
    {
     "name": "stdout",
     "output_type": "stream",
     "text": [
      "finished 25 from 376 commits\n"
     ]
    },
    {
     "name": "stderr",
     "output_type": "stream",
     "text": [
      "/home/oathaha/.conda/envs/env_oat/lib/python3.9/site-packages/sklearn/metrics/_classification.py:1245: UndefinedMetricWarning: Precision is ill-defined and being set to 0.0 due to no predicted samples. Use `zero_division` parameter to control this behavior.\n",
      "  _warn_prf(average, modifier, msg_start, len(result))\n"
     ]
    },
    {
     "name": "stdout",
     "output_type": "stream",
     "text": [
      "finished 26 from 376 commits\n",
      "finished 27 from 376 commits\n",
      "finished 28 from 376 commits\n",
      "finished 29 from 376 commits\n"
     ]
    },
    {
     "name": "stderr",
     "output_type": "stream",
     "text": [
      "/home/oathaha/.conda/envs/env_oat/lib/python3.9/site-packages/sklearn/metrics/_classification.py:1245: UndefinedMetricWarning: Precision is ill-defined and being set to 0.0 due to no predicted samples. Use `zero_division` parameter to control this behavior.\n",
      "  _warn_prf(average, modifier, msg_start, len(result))\n"
     ]
    },
    {
     "name": "stdout",
     "output_type": "stream",
     "text": [
      "finished 30 from 376 commits\n"
     ]
    },
    {
     "name": "stderr",
     "output_type": "stream",
     "text": [
      "/home/oathaha/.conda/envs/env_oat/lib/python3.9/site-packages/sklearn/metrics/_classification.py:1245: UndefinedMetricWarning: Precision is ill-defined and being set to 0.0 due to no predicted samples. Use `zero_division` parameter to control this behavior.\n",
      "  _warn_prf(average, modifier, msg_start, len(result))\n"
     ]
    },
    {
     "name": "stdout",
     "output_type": "stream",
     "text": [
      "finished 31 from 376 commits\n",
      "finished 32 from 376 commits\n",
      "finished 33 from 376 commits\n"
     ]
    },
    {
     "name": "stderr",
     "output_type": "stream",
     "text": [
      "/home/oathaha/.conda/envs/env_oat/lib/python3.9/site-packages/sklearn/metrics/_classification.py:1245: UndefinedMetricWarning: Precision is ill-defined and being set to 0.0 due to no predicted samples. Use `zero_division` parameter to control this behavior.\n",
      "  _warn_prf(average, modifier, msg_start, len(result))\n"
     ]
    },
    {
     "name": "stdout",
     "output_type": "stream",
     "text": [
      "finished 34 from 376 commits\n",
      "finished 35 from 376 commits\n",
      "finished 36 from 376 commits\n",
      "finished 37 from 376 commits\n",
      "finished 38 from 376 commits\n",
      "finished 39 from 376 commits\n",
      "finished 40 from 376 commits\n",
      "finished 41 from 376 commits\n"
     ]
    },
    {
     "name": "stderr",
     "output_type": "stream",
     "text": [
      "/home/oathaha/.conda/envs/env_oat/lib/python3.9/site-packages/sklearn/metrics/_classification.py:1245: UndefinedMetricWarning: Precision is ill-defined and being set to 0.0 due to no predicted samples. Use `zero_division` parameter to control this behavior.\n",
      "  _warn_prf(average, modifier, msg_start, len(result))\n"
     ]
    },
    {
     "name": "stdout",
     "output_type": "stream",
     "text": [
      "finished 42 from 376 commits\n",
      "finished 43 from 376 commits\n",
      "finished 44 from 376 commits\n",
      "finished 45 from 376 commits\n",
      "finished 46 from 376 commits\n"
     ]
    },
    {
     "name": "stderr",
     "output_type": "stream",
     "text": [
      "/home/oathaha/.conda/envs/env_oat/lib/python3.9/site-packages/sklearn/metrics/_classification.py:1245: UndefinedMetricWarning: Precision is ill-defined and being set to 0.0 due to no predicted samples. Use `zero_division` parameter to control this behavior.\n",
      "  _warn_prf(average, modifier, msg_start, len(result))\n"
     ]
    },
    {
     "name": "stdout",
     "output_type": "stream",
     "text": [
      "finished 47 from 376 commits\n",
      "finished 48 from 376 commits\n",
      "finished 49 from 376 commits\n",
      "finished 50 from 376 commits\n",
      "finished 51 from 376 commits\n"
     ]
    },
    {
     "name": "stderr",
     "output_type": "stream",
     "text": [
      "/home/oathaha/.conda/envs/env_oat/lib/python3.9/site-packages/sklearn/metrics/_classification.py:1245: UndefinedMetricWarning: Precision is ill-defined and being set to 0.0 due to no predicted samples. Use `zero_division` parameter to control this behavior.\n",
      "  _warn_prf(average, modifier, msg_start, len(result))\n"
     ]
    },
    {
     "name": "stdout",
     "output_type": "stream",
     "text": [
      "finished 52 from 376 commits\n",
      "finished 53 from 376 commits\n",
      "finished 54 from 376 commits\n"
     ]
    },
    {
     "name": "stderr",
     "output_type": "stream",
     "text": [
      "/home/oathaha/.conda/envs/env_oat/lib/python3.9/site-packages/sklearn/metrics/_classification.py:1245: UndefinedMetricWarning: Precision is ill-defined and being set to 0.0 due to no predicted samples. Use `zero_division` parameter to control this behavior.\n",
      "  _warn_prf(average, modifier, msg_start, len(result))\n"
     ]
    },
    {
     "name": "stdout",
     "output_type": "stream",
     "text": [
      "finished 55 from 376 commits\n",
      "finished 56 from 376 commits\n",
      "finished 57 from 376 commits\n",
      "finished 58 from 376 commits\n",
      "finished 59 from 376 commits\n",
      "finished 60 from 376 commits\n",
      "finished 61 from 376 commits\n",
      "finished 62 from 376 commits\n",
      "finished 63 from 376 commits\n",
      "finished 64 from 376 commits\n",
      "finished 65 from 376 commits\n"
     ]
    },
    {
     "name": "stderr",
     "output_type": "stream",
     "text": [
      "/home/oathaha/.conda/envs/env_oat/lib/python3.9/site-packages/sklearn/metrics/_classification.py:1245: UndefinedMetricWarning: Precision is ill-defined and being set to 0.0 due to no predicted samples. Use `zero_division` parameter to control this behavior.\n",
      "  _warn_prf(average, modifier, msg_start, len(result))\n"
     ]
    },
    {
     "name": "stdout",
     "output_type": "stream",
     "text": [
      "finished 66 from 376 commits\n",
      "finished 67 from 376 commits\n",
      "finished 68 from 376 commits\n",
      "finished 69 from 376 commits\n",
      "finished 70 from 376 commits\n",
      "finished 71 from 376 commits\n",
      "finished 72 from 376 commits\n",
      "finished 73 from 376 commits\n"
     ]
    },
    {
     "name": "stderr",
     "output_type": "stream",
     "text": [
      "/home/oathaha/.conda/envs/env_oat/lib/python3.9/site-packages/sklearn/metrics/_classification.py:1245: UndefinedMetricWarning: Precision is ill-defined and being set to 0.0 due to no predicted samples. Use `zero_division` parameter to control this behavior.\n",
      "  _warn_prf(average, modifier, msg_start, len(result))\n"
     ]
    },
    {
     "name": "stdout",
     "output_type": "stream",
     "text": [
      "finished 74 from 376 commits\n"
     ]
    },
    {
     "name": "stderr",
     "output_type": "stream",
     "text": [
      "/home/oathaha/.conda/envs/env_oat/lib/python3.9/site-packages/sklearn/metrics/_classification.py:1245: UndefinedMetricWarning: Precision is ill-defined and being set to 0.0 due to no predicted samples. Use `zero_division` parameter to control this behavior.\n",
      "  _warn_prf(average, modifier, msg_start, len(result))\n"
     ]
    },
    {
     "name": "stdout",
     "output_type": "stream",
     "text": [
      "finished 75 from 376 commits\n",
      "finished 76 from 376 commits\n",
      "finished 77 from 376 commits\n",
      "finished 78 from 376 commits\n"
     ]
    },
    {
     "name": "stderr",
     "output_type": "stream",
     "text": [
      "/home/oathaha/.conda/envs/env_oat/lib/python3.9/site-packages/sklearn/metrics/_classification.py:1245: UndefinedMetricWarning: Precision is ill-defined and being set to 0.0 due to no predicted samples. Use `zero_division` parameter to control this behavior.\n",
      "  _warn_prf(average, modifier, msg_start, len(result))\n"
     ]
    },
    {
     "name": "stdout",
     "output_type": "stream",
     "text": [
      "finished 79 from 376 commits\n",
      "finished 80 from 376 commits\n",
      "finished 81 from 376 commits\n",
      "finished 82 from 376 commits\n"
     ]
    },
    {
     "name": "stderr",
     "output_type": "stream",
     "text": [
      "/home/oathaha/.conda/envs/env_oat/lib/python3.9/site-packages/sklearn/metrics/_classification.py:1245: UndefinedMetricWarning: Precision is ill-defined and being set to 0.0 due to no predicted samples. Use `zero_division` parameter to control this behavior.\n",
      "  _warn_prf(average, modifier, msg_start, len(result))\n"
     ]
    },
    {
     "name": "stdout",
     "output_type": "stream",
     "text": [
      "finished 83 from 376 commits\n",
      "finished 84 from 376 commits\n",
      "finished 85 from 376 commits\n",
      "finished 86 from 376 commits\n",
      "finished 87 from 376 commits\n",
      "finished 88 from 376 commits\n",
      "finished 89 from 376 commits\n"
     ]
    },
    {
     "name": "stderr",
     "output_type": "stream",
     "text": [
      "/home/oathaha/.conda/envs/env_oat/lib/python3.9/site-packages/sklearn/metrics/_classification.py:1245: UndefinedMetricWarning: Precision is ill-defined and being set to 0.0 due to no predicted samples. Use `zero_division` parameter to control this behavior.\n",
      "  _warn_prf(average, modifier, msg_start, len(result))\n"
     ]
    },
    {
     "name": "stdout",
     "output_type": "stream",
     "text": [
      "finished 90 from 376 commits\n",
      "finished 91 from 376 commits\n",
      "finished 92 from 376 commits\n"
     ]
    },
    {
     "name": "stderr",
     "output_type": "stream",
     "text": [
      "/home/oathaha/.conda/envs/env_oat/lib/python3.9/site-packages/sklearn/metrics/_classification.py:1245: UndefinedMetricWarning: Precision is ill-defined and being set to 0.0 due to no predicted samples. Use `zero_division` parameter to control this behavior.\n",
      "  _warn_prf(average, modifier, msg_start, len(result))\n"
     ]
    },
    {
     "name": "stdout",
     "output_type": "stream",
     "text": [
      "finished 93 from 376 commits\n",
      "finished 94 from 376 commits\n",
      "finished 95 from 376 commits\n",
      "finished 96 from 376 commits\n",
      "finished 97 from 376 commits\n"
     ]
    },
    {
     "name": "stderr",
     "output_type": "stream",
     "text": [
      "/home/oathaha/.conda/envs/env_oat/lib/python3.9/site-packages/sklearn/metrics/_classification.py:1245: UndefinedMetricWarning: Precision is ill-defined and being set to 0.0 due to no predicted samples. Use `zero_division` parameter to control this behavior.\n",
      "  _warn_prf(average, modifier, msg_start, len(result))\n"
     ]
    },
    {
     "name": "stdout",
     "output_type": "stream",
     "text": [
      "finished 98 from 376 commits\n",
      "finished 99 from 376 commits\n",
      "finished 100 from 376 commits\n",
      "finished 101 from 376 commits\n"
     ]
    },
    {
     "name": "stderr",
     "output_type": "stream",
     "text": [
      "/home/oathaha/.conda/envs/env_oat/lib/python3.9/site-packages/sklearn/metrics/_classification.py:1245: UndefinedMetricWarning: Precision is ill-defined and being set to 0.0 due to no predicted samples. Use `zero_division` parameter to control this behavior.\n",
      "  _warn_prf(average, modifier, msg_start, len(result))\n"
     ]
    },
    {
     "name": "stdout",
     "output_type": "stream",
     "text": [
      "finished 102 from 376 commits\n",
      "finished 103 from 376 commits\n",
      "finished 104 from 376 commits\n",
      "finished 105 from 376 commits\n",
      "finished 106 from 376 commits\n",
      "finished 107 from 376 commits\n",
      "finished 108 from 376 commits\n",
      "finished 109 from 376 commits\n",
      "finished 110 from 376 commits\n"
     ]
    },
    {
     "name": "stderr",
     "output_type": "stream",
     "text": [
      "/home/oathaha/.conda/envs/env_oat/lib/python3.9/site-packages/sklearn/metrics/_classification.py:1245: UndefinedMetricWarning: Precision is ill-defined and being set to 0.0 due to no predicted samples. Use `zero_division` parameter to control this behavior.\n",
      "  _warn_prf(average, modifier, msg_start, len(result))\n"
     ]
    },
    {
     "name": "stdout",
     "output_type": "stream",
     "text": [
      "finished 111 from 376 commits\n",
      "finished 112 from 376 commits\n",
      "finished 113 from 376 commits\n"
     ]
    },
    {
     "name": "stderr",
     "output_type": "stream",
     "text": [
      "/home/oathaha/.conda/envs/env_oat/lib/python3.9/site-packages/sklearn/metrics/_classification.py:1245: UndefinedMetricWarning: Precision is ill-defined and being set to 0.0 due to no predicted samples. Use `zero_division` parameter to control this behavior.\n",
      "  _warn_prf(average, modifier, msg_start, len(result))\n"
     ]
    },
    {
     "name": "stdout",
     "output_type": "stream",
     "text": [
      "finished 114 from 376 commits\n",
      "finished 115 from 376 commits\n",
      "finished 116 from 376 commits\n"
     ]
    },
    {
     "name": "stderr",
     "output_type": "stream",
     "text": [
      "/home/oathaha/.conda/envs/env_oat/lib/python3.9/site-packages/sklearn/metrics/_classification.py:1245: UndefinedMetricWarning: Precision is ill-defined and being set to 0.0 due to no predicted samples. Use `zero_division` parameter to control this behavior.\n",
      "  _warn_prf(average, modifier, msg_start, len(result))\n"
     ]
    },
    {
     "name": "stdout",
     "output_type": "stream",
     "text": [
      "finished 117 from 376 commits\n"
     ]
    },
    {
     "name": "stderr",
     "output_type": "stream",
     "text": [
      "/home/oathaha/.conda/envs/env_oat/lib/python3.9/site-packages/sklearn/metrics/_classification.py:1245: UndefinedMetricWarning: Precision is ill-defined and being set to 0.0 due to no predicted samples. Use `zero_division` parameter to control this behavior.\n",
      "  _warn_prf(average, modifier, msg_start, len(result))\n"
     ]
    },
    {
     "name": "stdout",
     "output_type": "stream",
     "text": [
      "finished 118 from 376 commits\n",
      "finished 119 from 376 commits\n",
      "finished 120 from 376 commits\n"
     ]
    },
    {
     "name": "stderr",
     "output_type": "stream",
     "text": [
      "/home/oathaha/.conda/envs/env_oat/lib/python3.9/site-packages/sklearn/metrics/_classification.py:1245: UndefinedMetricWarning: Precision is ill-defined and being set to 0.0 due to no predicted samples. Use `zero_division` parameter to control this behavior.\n",
      "  _warn_prf(average, modifier, msg_start, len(result))\n"
     ]
    },
    {
     "name": "stdout",
     "output_type": "stream",
     "text": [
      "finished 121 from 376 commits\n",
      "finished 122 from 376 commits\n",
      "finished 123 from 376 commits\n",
      "finished 124 from 376 commits\n",
      "finished 125 from 376 commits\n"
     ]
    },
    {
     "name": "stderr",
     "output_type": "stream",
     "text": [
      "/home/oathaha/.conda/envs/env_oat/lib/python3.9/site-packages/sklearn/metrics/_classification.py:1245: UndefinedMetricWarning: Precision is ill-defined and being set to 0.0 due to no predicted samples. Use `zero_division` parameter to control this behavior.\n",
      "  _warn_prf(average, modifier, msg_start, len(result))\n"
     ]
    },
    {
     "name": "stdout",
     "output_type": "stream",
     "text": [
      "finished 126 from 376 commits\n",
      "finished 127 from 376 commits\n",
      "finished 128 from 376 commits\n",
      "finished 129 from 376 commits\n",
      "finished 130 from 376 commits\n"
     ]
    },
    {
     "name": "stderr",
     "output_type": "stream",
     "text": [
      "/home/oathaha/.conda/envs/env_oat/lib/python3.9/site-packages/sklearn/metrics/_classification.py:1245: UndefinedMetricWarning: Precision is ill-defined and being set to 0.0 due to no predicted samples. Use `zero_division` parameter to control this behavior.\n",
      "  _warn_prf(average, modifier, msg_start, len(result))\n"
     ]
    },
    {
     "name": "stdout",
     "output_type": "stream",
     "text": [
      "finished 131 from 376 commits\n"
     ]
    },
    {
     "name": "stderr",
     "output_type": "stream",
     "text": [
      "/home/oathaha/.conda/envs/env_oat/lib/python3.9/site-packages/sklearn/metrics/_classification.py:1245: UndefinedMetricWarning: Precision is ill-defined and being set to 0.0 due to no predicted samples. Use `zero_division` parameter to control this behavior.\n",
      "  _warn_prf(average, modifier, msg_start, len(result))\n"
     ]
    },
    {
     "name": "stdout",
     "output_type": "stream",
     "text": [
      "finished 132 from 376 commits\n",
      "finished 133 from 376 commits\n",
      "finished 134 from 376 commits\n",
      "finished 135 from 376 commits\n",
      "finished 136 from 376 commits\n",
      "finished 137 from 376 commits\n",
      "finished 138 from 376 commits\n",
      "finished 139 from 376 commits\n",
      "finished 140 from 376 commits\n"
     ]
    },
    {
     "name": "stderr",
     "output_type": "stream",
     "text": [
      "/home/oathaha/.conda/envs/env_oat/lib/python3.9/site-packages/sklearn/metrics/_classification.py:1245: UndefinedMetricWarning: Precision is ill-defined and being set to 0.0 due to no predicted samples. Use `zero_division` parameter to control this behavior.\n",
      "  _warn_prf(average, modifier, msg_start, len(result))\n"
     ]
    },
    {
     "name": "stdout",
     "output_type": "stream",
     "text": [
      "finished 141 from 376 commits\n"
     ]
    },
    {
     "name": "stderr",
     "output_type": "stream",
     "text": [
      "/home/oathaha/.conda/envs/env_oat/lib/python3.9/site-packages/sklearn/metrics/_classification.py:1245: UndefinedMetricWarning: Precision is ill-defined and being set to 0.0 due to no predicted samples. Use `zero_division` parameter to control this behavior.\n",
      "  _warn_prf(average, modifier, msg_start, len(result))\n"
     ]
    },
    {
     "name": "stdout",
     "output_type": "stream",
     "text": [
      "finished 142 from 376 commits\n",
      "finished 143 from 376 commits\n"
     ]
    },
    {
     "name": "stderr",
     "output_type": "stream",
     "text": [
      "/home/oathaha/.conda/envs/env_oat/lib/python3.9/site-packages/sklearn/metrics/_classification.py:1245: UndefinedMetricWarning: Precision is ill-defined and being set to 0.0 due to no predicted samples. Use `zero_division` parameter to control this behavior.\n",
      "  _warn_prf(average, modifier, msg_start, len(result))\n"
     ]
    },
    {
     "name": "stdout",
     "output_type": "stream",
     "text": [
      "finished 144 from 376 commits\n",
      "finished 145 from 376 commits\n",
      "finished 146 from 376 commits\n",
      "finished 147 from 376 commits\n",
      "finished 148 from 376 commits\n",
      "finished 149 from 376 commits\n",
      "finished 150 from 376 commits\n",
      "finished 151 from 376 commits\n",
      "finished 152 from 376 commits\n"
     ]
    },
    {
     "name": "stderr",
     "output_type": "stream",
     "text": [
      "/home/oathaha/.conda/envs/env_oat/lib/python3.9/site-packages/sklearn/metrics/_classification.py:1245: UndefinedMetricWarning: Precision is ill-defined and being set to 0.0 due to no predicted samples. Use `zero_division` parameter to control this behavior.\n",
      "  _warn_prf(average, modifier, msg_start, len(result))\n"
     ]
    },
    {
     "name": "stdout",
     "output_type": "stream",
     "text": [
      "finished 153 from 376 commits\n"
     ]
    },
    {
     "name": "stderr",
     "output_type": "stream",
     "text": [
      "/home/oathaha/.conda/envs/env_oat/lib/python3.9/site-packages/sklearn/metrics/_classification.py:1245: UndefinedMetricWarning: Precision is ill-defined and being set to 0.0 due to no predicted samples. Use `zero_division` parameter to control this behavior.\n",
      "  _warn_prf(average, modifier, msg_start, len(result))\n"
     ]
    },
    {
     "name": "stdout",
     "output_type": "stream",
     "text": [
      "finished 154 from 376 commits\n",
      "finished 155 from 376 commits\n",
      "finished 156 from 376 commits\n",
      "finished 157 from 376 commits\n",
      "finished 158 from 376 commits\n",
      "finished 159 from 376 commits\n",
      "finished 160 from 376 commits\n",
      "finished 161 from 376 commits\n"
     ]
    },
    {
     "name": "stderr",
     "output_type": "stream",
     "text": [
      "/home/oathaha/.conda/envs/env_oat/lib/python3.9/site-packages/sklearn/metrics/_classification.py:1245: UndefinedMetricWarning: Precision is ill-defined and being set to 0.0 due to no predicted samples. Use `zero_division` parameter to control this behavior.\n",
      "  _warn_prf(average, modifier, msg_start, len(result))\n"
     ]
    },
    {
     "name": "stdout",
     "output_type": "stream",
     "text": [
      "finished 162 from 376 commits\n",
      "finished 163 from 376 commits\n",
      "finished 164 from 376 commits\n",
      "finished 165 from 376 commits\n",
      "finished 166 from 376 commits\n"
     ]
    },
    {
     "name": "stderr",
     "output_type": "stream",
     "text": [
      "/home/oathaha/.conda/envs/env_oat/lib/python3.9/site-packages/sklearn/metrics/_classification.py:1245: UndefinedMetricWarning: Precision is ill-defined and being set to 0.0 due to no predicted samples. Use `zero_division` parameter to control this behavior.\n",
      "  _warn_prf(average, modifier, msg_start, len(result))\n"
     ]
    },
    {
     "name": "stdout",
     "output_type": "stream",
     "text": [
      "finished 167 from 376 commits\n",
      "finished 168 from 376 commits\n",
      "finished 169 from 376 commits\n",
      "finished 170 from 376 commits\n",
      "finished 171 from 376 commits\n",
      "finished 172 from 376 commits\n"
     ]
    },
    {
     "name": "stderr",
     "output_type": "stream",
     "text": [
      "/home/oathaha/.conda/envs/env_oat/lib/python3.9/site-packages/sklearn/metrics/_classification.py:1245: UndefinedMetricWarning: Precision is ill-defined and being set to 0.0 due to no predicted samples. Use `zero_division` parameter to control this behavior.\n",
      "  _warn_prf(average, modifier, msg_start, len(result))\n"
     ]
    },
    {
     "name": "stdout",
     "output_type": "stream",
     "text": [
      "finished 173 from 376 commits\n"
     ]
    },
    {
     "name": "stderr",
     "output_type": "stream",
     "text": [
      "/home/oathaha/.conda/envs/env_oat/lib/python3.9/site-packages/sklearn/metrics/_classification.py:1245: UndefinedMetricWarning: Precision is ill-defined and being set to 0.0 due to no predicted samples. Use `zero_division` parameter to control this behavior.\n",
      "  _warn_prf(average, modifier, msg_start, len(result))\n"
     ]
    },
    {
     "name": "stdout",
     "output_type": "stream",
     "text": [
      "finished 174 from 376 commits\n"
     ]
    },
    {
     "name": "stderr",
     "output_type": "stream",
     "text": [
      "/home/oathaha/.conda/envs/env_oat/lib/python3.9/site-packages/sklearn/metrics/_classification.py:1245: UndefinedMetricWarning: Precision is ill-defined and being set to 0.0 due to no predicted samples. Use `zero_division` parameter to control this behavior.\n",
      "  _warn_prf(average, modifier, msg_start, len(result))\n"
     ]
    },
    {
     "name": "stdout",
     "output_type": "stream",
     "text": [
      "finished 175 from 376 commits\n"
     ]
    },
    {
     "name": "stderr",
     "output_type": "stream",
     "text": [
      "/home/oathaha/.conda/envs/env_oat/lib/python3.9/site-packages/sklearn/metrics/_classification.py:1245: UndefinedMetricWarning: Precision is ill-defined and being set to 0.0 due to no predicted samples. Use `zero_division` parameter to control this behavior.\n",
      "  _warn_prf(average, modifier, msg_start, len(result))\n"
     ]
    },
    {
     "name": "stdout",
     "output_type": "stream",
     "text": [
      "finished 176 from 376 commits\n",
      "finished 177 from 376 commits\n",
      "finished 178 from 376 commits\n",
      "finished 179 from 376 commits\n",
      "finished 180 from 376 commits\n",
      "finished 181 from 376 commits\n"
     ]
    },
    {
     "name": "stderr",
     "output_type": "stream",
     "text": [
      "/home/oathaha/.conda/envs/env_oat/lib/python3.9/site-packages/sklearn/metrics/_classification.py:1245: UndefinedMetricWarning: Precision is ill-defined and being set to 0.0 due to no predicted samples. Use `zero_division` parameter to control this behavior.\n",
      "  _warn_prf(average, modifier, msg_start, len(result))\n"
     ]
    },
    {
     "name": "stdout",
     "output_type": "stream",
     "text": [
      "finished 182 from 376 commits\n",
      "finished 183 from 376 commits\n"
     ]
    },
    {
     "name": "stderr",
     "output_type": "stream",
     "text": [
      "/home/oathaha/.conda/envs/env_oat/lib/python3.9/site-packages/sklearn/metrics/_classification.py:1245: UndefinedMetricWarning: Precision is ill-defined and being set to 0.0 due to no predicted samples. Use `zero_division` parameter to control this behavior.\n",
      "  _warn_prf(average, modifier, msg_start, len(result))\n"
     ]
    },
    {
     "name": "stdout",
     "output_type": "stream",
     "text": [
      "finished 184 from 376 commits\n"
     ]
    },
    {
     "name": "stderr",
     "output_type": "stream",
     "text": [
      "/home/oathaha/.conda/envs/env_oat/lib/python3.9/site-packages/sklearn/metrics/_classification.py:1245: UndefinedMetricWarning: Precision is ill-defined and being set to 0.0 due to no predicted samples. Use `zero_division` parameter to control this behavior.\n",
      "  _warn_prf(average, modifier, msg_start, len(result))\n"
     ]
    },
    {
     "name": "stdout",
     "output_type": "stream",
     "text": [
      "finished 185 from 376 commits\n",
      "finished 186 from 376 commits\n"
     ]
    },
    {
     "name": "stderr",
     "output_type": "stream",
     "text": [
      "/home/oathaha/.conda/envs/env_oat/lib/python3.9/site-packages/sklearn/metrics/_classification.py:1245: UndefinedMetricWarning: Precision is ill-defined and being set to 0.0 due to no predicted samples. Use `zero_division` parameter to control this behavior.\n",
      "  _warn_prf(average, modifier, msg_start, len(result))\n"
     ]
    },
    {
     "name": "stdout",
     "output_type": "stream",
     "text": [
      "finished 187 from 376 commits\n",
      "finished 188 from 376 commits\n",
      "finished 189 from 376 commits\n",
      "finished 190 from 376 commits\n",
      "finished 191 from 376 commits\n",
      "finished 192 from 376 commits\n",
      "finished 193 from 376 commits\n",
      "finished 194 from 376 commits\n",
      "finished 195 from 376 commits\n",
      "finished 196 from 376 commits\n",
      "finished 197 from 376 commits\n"
     ]
    },
    {
     "name": "stderr",
     "output_type": "stream",
     "text": [
      "/home/oathaha/.conda/envs/env_oat/lib/python3.9/site-packages/sklearn/metrics/_classification.py:1245: UndefinedMetricWarning: Precision is ill-defined and being set to 0.0 due to no predicted samples. Use `zero_division` parameter to control this behavior.\n",
      "  _warn_prf(average, modifier, msg_start, len(result))\n"
     ]
    },
    {
     "name": "stdout",
     "output_type": "stream",
     "text": [
      "finished 198 from 376 commits\n",
      "finished 199 from 376 commits\n"
     ]
    },
    {
     "name": "stderr",
     "output_type": "stream",
     "text": [
      "/home/oathaha/.conda/envs/env_oat/lib/python3.9/site-packages/sklearn/metrics/_classification.py:1245: UndefinedMetricWarning: Precision is ill-defined and being set to 0.0 due to no predicted samples. Use `zero_division` parameter to control this behavior.\n",
      "  _warn_prf(average, modifier, msg_start, len(result))\n"
     ]
    },
    {
     "name": "stdout",
     "output_type": "stream",
     "text": [
      "finished 200 from 376 commits\n",
      "finished 201 from 376 commits\n",
      "finished 202 from 376 commits\n",
      "finished 203 from 376 commits\n",
      "finished 204 from 376 commits\n",
      "finished 205 from 376 commits\n"
     ]
    },
    {
     "name": "stderr",
     "output_type": "stream",
     "text": [
      "/home/oathaha/.conda/envs/env_oat/lib/python3.9/site-packages/sklearn/metrics/_classification.py:1245: UndefinedMetricWarning: Precision is ill-defined and being set to 0.0 due to no predicted samples. Use `zero_division` parameter to control this behavior.\n",
      "  _warn_prf(average, modifier, msg_start, len(result))\n"
     ]
    },
    {
     "name": "stdout",
     "output_type": "stream",
     "text": [
      "finished 206 from 376 commits\n",
      "finished 207 from 376 commits\n",
      "finished 208 from 376 commits\n"
     ]
    },
    {
     "name": "stderr",
     "output_type": "stream",
     "text": [
      "/home/oathaha/.conda/envs/env_oat/lib/python3.9/site-packages/sklearn/metrics/_classification.py:1245: UndefinedMetricWarning: Precision is ill-defined and being set to 0.0 due to no predicted samples. Use `zero_division` parameter to control this behavior.\n",
      "  _warn_prf(average, modifier, msg_start, len(result))\n"
     ]
    },
    {
     "name": "stdout",
     "output_type": "stream",
     "text": [
      "finished 209 from 376 commits\n"
     ]
    },
    {
     "name": "stderr",
     "output_type": "stream",
     "text": [
      "/home/oathaha/.conda/envs/env_oat/lib/python3.9/site-packages/sklearn/metrics/_classification.py:1245: UndefinedMetricWarning: Precision is ill-defined and being set to 0.0 due to no predicted samples. Use `zero_division` parameter to control this behavior.\n",
      "  _warn_prf(average, modifier, msg_start, len(result))\n"
     ]
    },
    {
     "name": "stdout",
     "output_type": "stream",
     "text": [
      "finished 210 from 376 commits\n",
      "finished 211 from 376 commits\n",
      "finished 212 from 376 commits\n",
      "finished 213 from 376 commits\n",
      "finished 214 from 376 commits\n",
      "finished 215 from 376 commits\n",
      "finished 216 from 376 commits\n",
      "finished 217 from 376 commits\n",
      "finished 218 from 376 commits\n",
      "finished 219 from 376 commits\n"
     ]
    },
    {
     "name": "stderr",
     "output_type": "stream",
     "text": [
      "/home/oathaha/.conda/envs/env_oat/lib/python3.9/site-packages/sklearn/metrics/_classification.py:1245: UndefinedMetricWarning: Precision is ill-defined and being set to 0.0 due to no predicted samples. Use `zero_division` parameter to control this behavior.\n",
      "  _warn_prf(average, modifier, msg_start, len(result))\n"
     ]
    },
    {
     "name": "stdout",
     "output_type": "stream",
     "text": [
      "finished 220 from 376 commits\n",
      "finished 221 from 376 commits\n",
      "finished 222 from 376 commits\n"
     ]
    },
    {
     "name": "stderr",
     "output_type": "stream",
     "text": [
      "/home/oathaha/.conda/envs/env_oat/lib/python3.9/site-packages/sklearn/metrics/_classification.py:1245: UndefinedMetricWarning: Precision is ill-defined and being set to 0.0 due to no predicted samples. Use `zero_division` parameter to control this behavior.\n",
      "  _warn_prf(average, modifier, msg_start, len(result))\n"
     ]
    },
    {
     "name": "stdout",
     "output_type": "stream",
     "text": [
      "finished 223 from 376 commits\n",
      "finished 224 from 376 commits\n",
      "finished 225 from 376 commits\n",
      "finished 226 from 376 commits\n",
      "finished 227 from 376 commits\n",
      "finished 228 from 376 commits\n",
      "finished 229 from 376 commits\n"
     ]
    },
    {
     "name": "stderr",
     "output_type": "stream",
     "text": [
      "/home/oathaha/.conda/envs/env_oat/lib/python3.9/site-packages/sklearn/metrics/_classification.py:1245: UndefinedMetricWarning: Precision is ill-defined and being set to 0.0 due to no predicted samples. Use `zero_division` parameter to control this behavior.\n",
      "  _warn_prf(average, modifier, msg_start, len(result))\n"
     ]
    },
    {
     "name": "stdout",
     "output_type": "stream",
     "text": [
      "finished 230 from 376 commits\n",
      "finished 231 from 376 commits\n"
     ]
    },
    {
     "name": "stderr",
     "output_type": "stream",
     "text": [
      "/home/oathaha/.conda/envs/env_oat/lib/python3.9/site-packages/sklearn/metrics/_classification.py:1245: UndefinedMetricWarning: Precision is ill-defined and being set to 0.0 due to no predicted samples. Use `zero_division` parameter to control this behavior.\n",
      "  _warn_prf(average, modifier, msg_start, len(result))\n"
     ]
    },
    {
     "name": "stdout",
     "output_type": "stream",
     "text": [
      "finished 232 from 376 commits\n",
      "finished 233 from 376 commits\n",
      "finished 234 from 376 commits\n",
      "finished 235 from 376 commits\n",
      "finished 236 from 376 commits\n",
      "finished 237 from 376 commits\n",
      "finished 238 from 376 commits\n",
      "finished 239 from 376 commits\n",
      "finished 240 from 376 commits\n"
     ]
    },
    {
     "name": "stderr",
     "output_type": "stream",
     "text": [
      "/home/oathaha/.conda/envs/env_oat/lib/python3.9/site-packages/sklearn/metrics/_classification.py:1245: UndefinedMetricWarning: Precision is ill-defined and being set to 0.0 due to no predicted samples. Use `zero_division` parameter to control this behavior.\n",
      "  _warn_prf(average, modifier, msg_start, len(result))\n"
     ]
    },
    {
     "name": "stdout",
     "output_type": "stream",
     "text": [
      "finished 241 from 376 commits\n",
      "finished 242 from 376 commits\n",
      "finished 243 from 376 commits\n",
      "finished 244 from 376 commits\n",
      "finished 245 from 376 commits\n",
      "finished 246 from 376 commits\n",
      "finished 247 from 376 commits\n",
      "finished 248 from 376 commits\n",
      "finished 249 from 376 commits\n",
      "finished 250 from 376 commits\n"
     ]
    },
    {
     "name": "stderr",
     "output_type": "stream",
     "text": [
      "/home/oathaha/.conda/envs/env_oat/lib/python3.9/site-packages/sklearn/metrics/_classification.py:1245: UndefinedMetricWarning: Precision is ill-defined and being set to 0.0 due to no predicted samples. Use `zero_division` parameter to control this behavior.\n",
      "  _warn_prf(average, modifier, msg_start, len(result))\n"
     ]
    },
    {
     "name": "stdout",
     "output_type": "stream",
     "text": [
      "finished 251 from 376 commits\n"
     ]
    },
    {
     "name": "stderr",
     "output_type": "stream",
     "text": [
      "/home/oathaha/.conda/envs/env_oat/lib/python3.9/site-packages/sklearn/metrics/_classification.py:1245: UndefinedMetricWarning: Precision is ill-defined and being set to 0.0 due to no predicted samples. Use `zero_division` parameter to control this behavior.\n",
      "  _warn_prf(average, modifier, msg_start, len(result))\n"
     ]
    },
    {
     "name": "stdout",
     "output_type": "stream",
     "text": [
      "finished 252 from 376 commits\n",
      "finished 253 from 376 commits\n",
      "finished 254 from 376 commits\n",
      "finished 255 from 376 commits\n"
     ]
    },
    {
     "name": "stderr",
     "output_type": "stream",
     "text": [
      "/home/oathaha/.conda/envs/env_oat/lib/python3.9/site-packages/sklearn/metrics/_classification.py:1245: UndefinedMetricWarning: Precision is ill-defined and being set to 0.0 due to no predicted samples. Use `zero_division` parameter to control this behavior.\n",
      "  _warn_prf(average, modifier, msg_start, len(result))\n"
     ]
    },
    {
     "name": "stdout",
     "output_type": "stream",
     "text": [
      "finished 256 from 376 commits\n",
      "finished 257 from 376 commits\n",
      "finished 258 from 376 commits\n",
      "finished 259 from 376 commits\n",
      "finished 260 from 376 commits\n",
      "finished 261 from 376 commits\n",
      "finished 262 from 376 commits\n",
      "finished 263 from 376 commits\n",
      "finished 264 from 376 commits\n",
      "finished 265 from 376 commits\n",
      "finished 266 from 376 commits\n",
      "finished 267 from 376 commits\n"
     ]
    },
    {
     "name": "stderr",
     "output_type": "stream",
     "text": [
      "/home/oathaha/.conda/envs/env_oat/lib/python3.9/site-packages/sklearn/metrics/_classification.py:1245: UndefinedMetricWarning: Precision is ill-defined and being set to 0.0 due to no predicted samples. Use `zero_division` parameter to control this behavior.\n",
      "  _warn_prf(average, modifier, msg_start, len(result))\n"
     ]
    },
    {
     "name": "stdout",
     "output_type": "stream",
     "text": [
      "finished 268 from 376 commits\n",
      "finished 269 from 376 commits\n",
      "finished 270 from 376 commits\n",
      "finished 271 from 376 commits\n",
      "finished 272 from 376 commits\n"
     ]
    },
    {
     "name": "stderr",
     "output_type": "stream",
     "text": [
      "/home/oathaha/.conda/envs/env_oat/lib/python3.9/site-packages/sklearn/metrics/_classification.py:1245: UndefinedMetricWarning: Precision is ill-defined and being set to 0.0 due to no predicted samples. Use `zero_division` parameter to control this behavior.\n",
      "  _warn_prf(average, modifier, msg_start, len(result))\n"
     ]
    },
    {
     "name": "stdout",
     "output_type": "stream",
     "text": [
      "finished 273 from 376 commits\n",
      "finished 274 from 376 commits\n",
      "finished 275 from 376 commits\n",
      "finished 276 from 376 commits\n",
      "finished 277 from 376 commits\n",
      "finished 278 from 376 commits\n",
      "finished 279 from 376 commits\n"
     ]
    },
    {
     "name": "stderr",
     "output_type": "stream",
     "text": [
      "/home/oathaha/.conda/envs/env_oat/lib/python3.9/site-packages/sklearn/metrics/_classification.py:1245: UndefinedMetricWarning: Precision is ill-defined and being set to 0.0 due to no predicted samples. Use `zero_division` parameter to control this behavior.\n",
      "  _warn_prf(average, modifier, msg_start, len(result))\n"
     ]
    },
    {
     "name": "stdout",
     "output_type": "stream",
     "text": [
      "finished 280 from 376 commits\n",
      "finished 281 from 376 commits\n",
      "finished 282 from 376 commits\n"
     ]
    },
    {
     "name": "stderr",
     "output_type": "stream",
     "text": [
      "/home/oathaha/.conda/envs/env_oat/lib/python3.9/site-packages/sklearn/metrics/_classification.py:1245: UndefinedMetricWarning: Precision is ill-defined and being set to 0.0 due to no predicted samples. Use `zero_division` parameter to control this behavior.\n",
      "  _warn_prf(average, modifier, msg_start, len(result))\n"
     ]
    },
    {
     "name": "stdout",
     "output_type": "stream",
     "text": [
      "finished 283 from 376 commits\n",
      "finished 284 from 376 commits\n",
      "finished 285 from 376 commits\n",
      "finished 286 from 376 commits\n",
      "finished 287 from 376 commits\n"
     ]
    },
    {
     "name": "stderr",
     "output_type": "stream",
     "text": [
      "/home/oathaha/.conda/envs/env_oat/lib/python3.9/site-packages/sklearn/metrics/_classification.py:1245: UndefinedMetricWarning: Precision is ill-defined and being set to 0.0 due to no predicted samples. Use `zero_division` parameter to control this behavior.\n",
      "  _warn_prf(average, modifier, msg_start, len(result))\n"
     ]
    },
    {
     "name": "stdout",
     "output_type": "stream",
     "text": [
      "finished 288 from 376 commits\n",
      "finished 289 from 376 commits\n"
     ]
    },
    {
     "name": "stderr",
     "output_type": "stream",
     "text": [
      "/home/oathaha/.conda/envs/env_oat/lib/python3.9/site-packages/sklearn/metrics/_classification.py:1245: UndefinedMetricWarning: Precision is ill-defined and being set to 0.0 due to no predicted samples. Use `zero_division` parameter to control this behavior.\n",
      "  _warn_prf(average, modifier, msg_start, len(result))\n"
     ]
    },
    {
     "name": "stdout",
     "output_type": "stream",
     "text": [
      "finished 290 from 376 commits\n"
     ]
    },
    {
     "name": "stderr",
     "output_type": "stream",
     "text": [
      "/home/oathaha/.conda/envs/env_oat/lib/python3.9/site-packages/sklearn/metrics/_classification.py:1245: UndefinedMetricWarning: Precision is ill-defined and being set to 0.0 due to no predicted samples. Use `zero_division` parameter to control this behavior.\n",
      "  _warn_prf(average, modifier, msg_start, len(result))\n"
     ]
    },
    {
     "name": "stdout",
     "output_type": "stream",
     "text": [
      "finished 291 from 376 commits\n",
      "finished 292 from 376 commits\n",
      "finished 293 from 376 commits\n",
      "finished 294 from 376 commits\n",
      "finished 295 from 376 commits\n",
      "finished 296 from 376 commits\n"
     ]
    },
    {
     "name": "stderr",
     "output_type": "stream",
     "text": [
      "/home/oathaha/.conda/envs/env_oat/lib/python3.9/site-packages/sklearn/metrics/_classification.py:1245: UndefinedMetricWarning: Precision is ill-defined and being set to 0.0 due to no predicted samples. Use `zero_division` parameter to control this behavior.\n",
      "  _warn_prf(average, modifier, msg_start, len(result))\n"
     ]
    },
    {
     "name": "stdout",
     "output_type": "stream",
     "text": [
      "finished 297 from 376 commits\n",
      "finished 298 from 376 commits\n",
      "finished 299 from 376 commits\n",
      "finished 300 from 376 commits\n",
      "finished 301 from 376 commits\n",
      "finished 302 from 376 commits\n",
      "finished 303 from 376 commits\n",
      "finished 304 from 376 commits\n",
      "finished 305 from 376 commits\n",
      "finished 306 from 376 commits\n",
      "finished 307 from 376 commits\n",
      "finished 308 from 376 commits\n"
     ]
    },
    {
     "name": "stderr",
     "output_type": "stream",
     "text": [
      "/home/oathaha/.conda/envs/env_oat/lib/python3.9/site-packages/sklearn/metrics/_classification.py:1245: UndefinedMetricWarning: Precision is ill-defined and being set to 0.0 due to no predicted samples. Use `zero_division` parameter to control this behavior.\n",
      "  _warn_prf(average, modifier, msg_start, len(result))\n"
     ]
    },
    {
     "name": "stdout",
     "output_type": "stream",
     "text": [
      "finished 309 from 376 commits\n",
      "finished 310 from 376 commits\n",
      "finished 311 from 376 commits\n"
     ]
    },
    {
     "name": "stderr",
     "output_type": "stream",
     "text": [
      "/home/oathaha/.conda/envs/env_oat/lib/python3.9/site-packages/sklearn/metrics/_classification.py:1245: UndefinedMetricWarning: Precision is ill-defined and being set to 0.0 due to no predicted samples. Use `zero_division` parameter to control this behavior.\n",
      "  _warn_prf(average, modifier, msg_start, len(result))\n"
     ]
    },
    {
     "name": "stdout",
     "output_type": "stream",
     "text": [
      "finished 312 from 376 commits\n",
      "finished 313 from 376 commits\n"
     ]
    },
    {
     "name": "stderr",
     "output_type": "stream",
     "text": [
      "/home/oathaha/.conda/envs/env_oat/lib/python3.9/site-packages/sklearn/metrics/_classification.py:1245: UndefinedMetricWarning: Precision is ill-defined and being set to 0.0 due to no predicted samples. Use `zero_division` parameter to control this behavior.\n",
      "  _warn_prf(average, modifier, msg_start, len(result))\n"
     ]
    },
    {
     "name": "stdout",
     "output_type": "stream",
     "text": [
      "finished 314 from 376 commits\n",
      "finished 315 from 376 commits\n",
      "finished 316 from 376 commits\n",
      "finished 317 from 376 commits\n",
      "finished 318 from 376 commits\n",
      "finished 319 from 376 commits\n",
      "finished 320 from 376 commits\n",
      "finished 321 from 376 commits\n",
      "finished 322 from 376 commits\n",
      "finished 323 from 376 commits\n",
      "finished 324 from 376 commits\n",
      "finished 325 from 376 commits\n",
      "finished 326 from 376 commits\n",
      "finished 327 from 376 commits\n",
      "finished 328 from 376 commits\n"
     ]
    },
    {
     "name": "stderr",
     "output_type": "stream",
     "text": [
      "/home/oathaha/.conda/envs/env_oat/lib/python3.9/site-packages/sklearn/metrics/_classification.py:1245: UndefinedMetricWarning: Precision is ill-defined and being set to 0.0 due to no predicted samples. Use `zero_division` parameter to control this behavior.\n",
      "  _warn_prf(average, modifier, msg_start, len(result))\n"
     ]
    },
    {
     "name": "stdout",
     "output_type": "stream",
     "text": [
      "finished 329 from 376 commits\n",
      "finished 330 from 376 commits\n",
      "finished 331 from 376 commits\n",
      "finished 332 from 376 commits\n",
      "finished 333 from 376 commits\n",
      "finished 334 from 376 commits\n",
      "finished 335 from 376 commits\n"
     ]
    },
    {
     "name": "stderr",
     "output_type": "stream",
     "text": [
      "/home/oathaha/.conda/envs/env_oat/lib/python3.9/site-packages/sklearn/metrics/_classification.py:1245: UndefinedMetricWarning: Precision is ill-defined and being set to 0.0 due to no predicted samples. Use `zero_division` parameter to control this behavior.\n",
      "  _warn_prf(average, modifier, msg_start, len(result))\n"
     ]
    },
    {
     "name": "stdout",
     "output_type": "stream",
     "text": [
      "finished 336 from 376 commits\n"
     ]
    },
    {
     "name": "stderr",
     "output_type": "stream",
     "text": [
      "/home/oathaha/.conda/envs/env_oat/lib/python3.9/site-packages/sklearn/metrics/_classification.py:1245: UndefinedMetricWarning: Precision is ill-defined and being set to 0.0 due to no predicted samples. Use `zero_division` parameter to control this behavior.\n",
      "  _warn_prf(average, modifier, msg_start, len(result))\n"
     ]
    },
    {
     "name": "stdout",
     "output_type": "stream",
     "text": [
      "finished 337 from 376 commits\n",
      "finished 338 from 376 commits\n",
      "finished 339 from 376 commits\n",
      "finished 340 from 376 commits\n",
      "finished 341 from 376 commits\n",
      "finished 342 from 376 commits\n",
      "finished 343 from 376 commits\n",
      "finished 344 from 376 commits\n",
      "finished 345 from 376 commits\n",
      "finished 346 from 376 commits\n",
      "finished 347 from 376 commits\n",
      "finished 348 from 376 commits\n",
      "finished 349 from 376 commits\n",
      "finished 350 from 376 commits\n",
      "finished 351 from 376 commits\n"
     ]
    },
    {
     "name": "stderr",
     "output_type": "stream",
     "text": [
      "/home/oathaha/.conda/envs/env_oat/lib/python3.9/site-packages/sklearn/metrics/_classification.py:1245: UndefinedMetricWarning: Precision is ill-defined and being set to 0.0 due to no predicted samples. Use `zero_division` parameter to control this behavior.\n",
      "  _warn_prf(average, modifier, msg_start, len(result))\n"
     ]
    },
    {
     "name": "stdout",
     "output_type": "stream",
     "text": [
      "finished 352 from 376 commits\n",
      "finished 353 from 376 commits\n",
      "finished 354 from 376 commits\n",
      "finished 355 from 376 commits\n",
      "finished 356 from 376 commits\n",
      "finished 357 from 376 commits\n",
      "finished 358 from 376 commits\n"
     ]
    },
    {
     "name": "stderr",
     "output_type": "stream",
     "text": [
      "/home/oathaha/.conda/envs/env_oat/lib/python3.9/site-packages/sklearn/metrics/_classification.py:1245: UndefinedMetricWarning: Precision is ill-defined and being set to 0.0 due to no predicted samples. Use `zero_division` parameter to control this behavior.\n",
      "  _warn_prf(average, modifier, msg_start, len(result))\n"
     ]
    },
    {
     "name": "stdout",
     "output_type": "stream",
     "text": [
      "finished 359 from 376 commits\n"
     ]
    },
    {
     "name": "stderr",
     "output_type": "stream",
     "text": [
      "/home/oathaha/.conda/envs/env_oat/lib/python3.9/site-packages/sklearn/metrics/_classification.py:1245: UndefinedMetricWarning: Precision is ill-defined and being set to 0.0 due to no predicted samples. Use `zero_division` parameter to control this behavior.\n",
      "  _warn_prf(average, modifier, msg_start, len(result))\n"
     ]
    },
    {
     "name": "stdout",
     "output_type": "stream",
     "text": [
      "finished 360 from 376 commits\n",
      "finished 361 from 376 commits\n",
      "finished 362 from 376 commits\n",
      "finished 363 from 376 commits\n",
      "finished 364 from 376 commits\n",
      "finished 365 from 376 commits\n",
      "finished 366 from 376 commits\n",
      "finished 367 from 376 commits\n",
      "finished 368 from 376 commits\n",
      "finished 369 from 376 commits\n",
      "finished 370 from 376 commits\n",
      "finished 371 from 376 commits\n",
      "finished 372 from 376 commits\n",
      "finished 373 from 376 commits\n",
      "finished 374 from 376 commits\n",
      "finished 375 from 376 commits\n"
     ]
    },
    {
     "name": "stderr",
     "output_type": "stream",
     "text": [
      "/home/oathaha/.conda/envs/env_oat/lib/python3.9/site-packages/sklearn/metrics/_classification.py:1245: UndefinedMetricWarning: Precision is ill-defined and being set to 0.0 due to no predicted samples. Use `zero_division` parameter to control this behavior.\n",
      "  _warn_prf(average, modifier, msg_start, len(result))\n"
     ]
    },
    {
     "name": "stdout",
     "output_type": "stream",
     "text": [
      "finished 376 from 376 commits\n",
      "finished RQ3 of openstack\n",
      "finished in 427.8271584510803 secs\n",
      "qt\n",
      "finished 1 from 255 commits\n",
      "finished 2 from 255 commits\n",
      "finished 3 from 255 commits\n",
      "finished 4 from 255 commits\n"
     ]
    },
    {
     "name": "stderr",
     "output_type": "stream",
     "text": [
      "/home/oathaha/.conda/envs/env_oat/lib/python3.9/site-packages/sklearn/metrics/_classification.py:1245: UndefinedMetricWarning: Precision is ill-defined and being set to 0.0 due to no predicted samples. Use `zero_division` parameter to control this behavior.\n",
      "  _warn_prf(average, modifier, msg_start, len(result))\n"
     ]
    },
    {
     "name": "stdout",
     "output_type": "stream",
     "text": [
      "finished 5 from 255 commits\n",
      "finished 6 from 255 commits\n",
      "finished 7 from 255 commits\n"
     ]
    },
    {
     "name": "stderr",
     "output_type": "stream",
     "text": [
      "/home/oathaha/.conda/envs/env_oat/lib/python3.9/site-packages/sklearn/metrics/_classification.py:1245: UndefinedMetricWarning: Precision is ill-defined and being set to 0.0 due to no predicted samples. Use `zero_division` parameter to control this behavior.\n",
      "  _warn_prf(average, modifier, msg_start, len(result))\n"
     ]
    },
    {
     "name": "stdout",
     "output_type": "stream",
     "text": [
      "finished 8 from 255 commits\n",
      "finished 9 from 255 commits\n",
      "finished 10 from 255 commits\n"
     ]
    },
    {
     "name": "stderr",
     "output_type": "stream",
     "text": [
      "/home/oathaha/.conda/envs/env_oat/lib/python3.9/site-packages/sklearn/metrics/_classification.py:1245: UndefinedMetricWarning: Precision is ill-defined and being set to 0.0 due to no predicted samples. Use `zero_division` parameter to control this behavior.\n",
      "  _warn_prf(average, modifier, msg_start, len(result))\n"
     ]
    },
    {
     "name": "stdout",
     "output_type": "stream",
     "text": [
      "finished 11 from 255 commits\n",
      "finished 12 from 255 commits\n"
     ]
    },
    {
     "name": "stderr",
     "output_type": "stream",
     "text": [
      "/home/oathaha/.conda/envs/env_oat/lib/python3.9/site-packages/sklearn/metrics/_classification.py:1245: UndefinedMetricWarning: Precision is ill-defined and being set to 0.0 due to no predicted samples. Use `zero_division` parameter to control this behavior.\n",
      "  _warn_prf(average, modifier, msg_start, len(result))\n"
     ]
    },
    {
     "name": "stdout",
     "output_type": "stream",
     "text": [
      "finished 13 from 255 commits\n",
      "finished 14 from 255 commits\n"
     ]
    },
    {
     "name": "stderr",
     "output_type": "stream",
     "text": [
      "/home/oathaha/.conda/envs/env_oat/lib/python3.9/site-packages/sklearn/metrics/_classification.py:1245: UndefinedMetricWarning: Precision is ill-defined and being set to 0.0 due to no predicted samples. Use `zero_division` parameter to control this behavior.\n",
      "  _warn_prf(average, modifier, msg_start, len(result))\n"
     ]
    },
    {
     "name": "stdout",
     "output_type": "stream",
     "text": [
      "finished 15 from 255 commits\n",
      "finished 16 from 255 commits\n",
      "finished 17 from 255 commits\n",
      "finished 18 from 255 commits\n",
      "finished 19 from 255 commits\n"
     ]
    },
    {
     "name": "stderr",
     "output_type": "stream",
     "text": [
      "/home/oathaha/.conda/envs/env_oat/lib/python3.9/site-packages/sklearn/metrics/_classification.py:1245: UndefinedMetricWarning: Precision is ill-defined and being set to 0.0 due to no predicted samples. Use `zero_division` parameter to control this behavior.\n",
      "  _warn_prf(average, modifier, msg_start, len(result))\n"
     ]
    },
    {
     "name": "stdout",
     "output_type": "stream",
     "text": [
      "finished 20 from 255 commits\n"
     ]
    },
    {
     "name": "stderr",
     "output_type": "stream",
     "text": [
      "/home/oathaha/.conda/envs/env_oat/lib/python3.9/site-packages/sklearn/metrics/_classification.py:1245: UndefinedMetricWarning: Precision is ill-defined and being set to 0.0 due to no predicted samples. Use `zero_division` parameter to control this behavior.\n",
      "  _warn_prf(average, modifier, msg_start, len(result))\n"
     ]
    },
    {
     "name": "stdout",
     "output_type": "stream",
     "text": [
      "finished 21 from 255 commits\n",
      "finished 22 from 255 commits\n"
     ]
    },
    {
     "name": "stderr",
     "output_type": "stream",
     "text": [
      "/home/oathaha/.conda/envs/env_oat/lib/python3.9/site-packages/sklearn/metrics/_classification.py:1245: UndefinedMetricWarning: Precision is ill-defined and being set to 0.0 due to no predicted samples. Use `zero_division` parameter to control this behavior.\n",
      "  _warn_prf(average, modifier, msg_start, len(result))\n"
     ]
    },
    {
     "name": "stdout",
     "output_type": "stream",
     "text": [
      "finished 23 from 255 commits\n",
      "finished 24 from 255 commits\n",
      "finished 25 from 255 commits\n",
      "finished 26 from 255 commits\n",
      "finished 27 from 255 commits\n",
      "finished 28 from 255 commits\n",
      "finished 29 from 255 commits\n",
      "finished 30 from 255 commits\n",
      "finished 31 from 255 commits\n",
      "finished 32 from 255 commits\n",
      "finished 33 from 255 commits\n",
      "finished 34 from 255 commits\n",
      "finished 35 from 255 commits\n"
     ]
    },
    {
     "name": "stderr",
     "output_type": "stream",
     "text": [
      "/home/oathaha/.conda/envs/env_oat/lib/python3.9/site-packages/sklearn/metrics/_classification.py:1245: UndefinedMetricWarning: Precision is ill-defined and being set to 0.0 due to no predicted samples. Use `zero_division` parameter to control this behavior.\n",
      "  _warn_prf(average, modifier, msg_start, len(result))\n"
     ]
    },
    {
     "name": "stdout",
     "output_type": "stream",
     "text": [
      "finished 36 from 255 commits\n",
      "finished 37 from 255 commits\n",
      "finished 38 from 255 commits\n"
     ]
    },
    {
     "name": "stderr",
     "output_type": "stream",
     "text": [
      "/home/oathaha/.conda/envs/env_oat/lib/python3.9/site-packages/sklearn/metrics/_classification.py:1245: UndefinedMetricWarning: Precision is ill-defined and being set to 0.0 due to no predicted samples. Use `zero_division` parameter to control this behavior.\n",
      "  _warn_prf(average, modifier, msg_start, len(result))\n"
     ]
    },
    {
     "name": "stdout",
     "output_type": "stream",
     "text": [
      "finished 39 from 255 commits\n",
      "finished 40 from 255 commits\n",
      "finished 41 from 255 commits\n"
     ]
    },
    {
     "name": "stderr",
     "output_type": "stream",
     "text": [
      "/home/oathaha/.conda/envs/env_oat/lib/python3.9/site-packages/sklearn/metrics/_classification.py:1245: UndefinedMetricWarning: Precision is ill-defined and being set to 0.0 due to no predicted samples. Use `zero_division` parameter to control this behavior.\n",
      "  _warn_prf(average, modifier, msg_start, len(result))\n"
     ]
    },
    {
     "name": "stdout",
     "output_type": "stream",
     "text": [
      "finished 42 from 255 commits\n",
      "finished 43 from 255 commits\n",
      "finished 44 from 255 commits\n"
     ]
    },
    {
     "name": "stderr",
     "output_type": "stream",
     "text": [
      "/home/oathaha/.conda/envs/env_oat/lib/python3.9/site-packages/sklearn/metrics/_classification.py:1245: UndefinedMetricWarning: Precision is ill-defined and being set to 0.0 due to no predicted samples. Use `zero_division` parameter to control this behavior.\n",
      "  _warn_prf(average, modifier, msg_start, len(result))\n"
     ]
    },
    {
     "name": "stdout",
     "output_type": "stream",
     "text": [
      "finished 45 from 255 commits\n",
      "finished 46 from 255 commits\n"
     ]
    },
    {
     "name": "stderr",
     "output_type": "stream",
     "text": [
      "/home/oathaha/.conda/envs/env_oat/lib/python3.9/site-packages/sklearn/metrics/_classification.py:1245: UndefinedMetricWarning: Precision is ill-defined and being set to 0.0 due to no predicted samples. Use `zero_division` parameter to control this behavior.\n",
      "  _warn_prf(average, modifier, msg_start, len(result))\n"
     ]
    },
    {
     "name": "stdout",
     "output_type": "stream",
     "text": [
      "finished 47 from 255 commits\n"
     ]
    },
    {
     "name": "stderr",
     "output_type": "stream",
     "text": [
      "/home/oathaha/.conda/envs/env_oat/lib/python3.9/site-packages/sklearn/metrics/_classification.py:1245: UndefinedMetricWarning: Precision is ill-defined and being set to 0.0 due to no predicted samples. Use `zero_division` parameter to control this behavior.\n",
      "  _warn_prf(average, modifier, msg_start, len(result))\n"
     ]
    },
    {
     "name": "stdout",
     "output_type": "stream",
     "text": [
      "finished 48 from 255 commits\n",
      "finished 49 from 255 commits\n",
      "finished 50 from 255 commits\n",
      "finished 51 from 255 commits\n",
      "finished 52 from 255 commits\n",
      "finished 53 from 255 commits\n",
      "finished 54 from 255 commits\n",
      "finished 55 from 255 commits\n",
      "finished 56 from 255 commits\n",
      "finished 57 from 255 commits\n"
     ]
    },
    {
     "name": "stderr",
     "output_type": "stream",
     "text": [
      "/home/oathaha/.conda/envs/env_oat/lib/python3.9/site-packages/sklearn/metrics/_classification.py:1245: UndefinedMetricWarning: Precision is ill-defined and being set to 0.0 due to no predicted samples. Use `zero_division` parameter to control this behavior.\n",
      "  _warn_prf(average, modifier, msg_start, len(result))\n"
     ]
    },
    {
     "name": "stdout",
     "output_type": "stream",
     "text": [
      "finished 58 from 255 commits\n"
     ]
    },
    {
     "name": "stderr",
     "output_type": "stream",
     "text": [
      "/home/oathaha/.conda/envs/env_oat/lib/python3.9/site-packages/sklearn/metrics/_classification.py:1245: UndefinedMetricWarning: Precision is ill-defined and being set to 0.0 due to no predicted samples. Use `zero_division` parameter to control this behavior.\n",
      "  _warn_prf(average, modifier, msg_start, len(result))\n"
     ]
    },
    {
     "name": "stdout",
     "output_type": "stream",
     "text": [
      "finished 59 from 255 commits\n",
      "finished 60 from 255 commits\n",
      "finished 61 from 255 commits\n",
      "finished 62 from 255 commits\n"
     ]
    },
    {
     "name": "stderr",
     "output_type": "stream",
     "text": [
      "/home/oathaha/.conda/envs/env_oat/lib/python3.9/site-packages/sklearn/metrics/_classification.py:1245: UndefinedMetricWarning: Precision is ill-defined and being set to 0.0 due to no predicted samples. Use `zero_division` parameter to control this behavior.\n",
      "  _warn_prf(average, modifier, msg_start, len(result))\n"
     ]
    },
    {
     "name": "stdout",
     "output_type": "stream",
     "text": [
      "finished 63 from 255 commits\n",
      "finished 64 from 255 commits\n",
      "finished 65 from 255 commits\n",
      "finished 66 from 255 commits\n"
     ]
    },
    {
     "name": "stderr",
     "output_type": "stream",
     "text": [
      "/home/oathaha/.conda/envs/env_oat/lib/python3.9/site-packages/sklearn/metrics/_classification.py:1245: UndefinedMetricWarning: Precision is ill-defined and being set to 0.0 due to no predicted samples. Use `zero_division` parameter to control this behavior.\n",
      "  _warn_prf(average, modifier, msg_start, len(result))\n"
     ]
    },
    {
     "name": "stdout",
     "output_type": "stream",
     "text": [
      "finished 67 from 255 commits\n",
      "finished 68 from 255 commits\n",
      "finished 69 from 255 commits\n",
      "finished 70 from 255 commits\n",
      "finished 71 from 255 commits\n",
      "finished 72 from 255 commits\n"
     ]
    },
    {
     "name": "stderr",
     "output_type": "stream",
     "text": [
      "/home/oathaha/.conda/envs/env_oat/lib/python3.9/site-packages/sklearn/metrics/_classification.py:1245: UndefinedMetricWarning: Precision is ill-defined and being set to 0.0 due to no predicted samples. Use `zero_division` parameter to control this behavior.\n",
      "  _warn_prf(average, modifier, msg_start, len(result))\n"
     ]
    },
    {
     "name": "stdout",
     "output_type": "stream",
     "text": [
      "finished 73 from 255 commits\n"
     ]
    },
    {
     "name": "stderr",
     "output_type": "stream",
     "text": [
      "/home/oathaha/.conda/envs/env_oat/lib/python3.9/site-packages/sklearn/metrics/_classification.py:1245: UndefinedMetricWarning: Precision is ill-defined and being set to 0.0 due to no predicted samples. Use `zero_division` parameter to control this behavior.\n",
      "  _warn_prf(average, modifier, msg_start, len(result))\n"
     ]
    },
    {
     "name": "stdout",
     "output_type": "stream",
     "text": [
      "finished 74 from 255 commits\n",
      "finished 75 from 255 commits\n"
     ]
    },
    {
     "name": "stderr",
     "output_type": "stream",
     "text": [
      "/home/oathaha/.conda/envs/env_oat/lib/python3.9/site-packages/sklearn/metrics/_classification.py:1245: UndefinedMetricWarning: Precision is ill-defined and being set to 0.0 due to no predicted samples. Use `zero_division` parameter to control this behavior.\n",
      "  _warn_prf(average, modifier, msg_start, len(result))\n"
     ]
    },
    {
     "name": "stdout",
     "output_type": "stream",
     "text": [
      "finished 76 from 255 commits\n"
     ]
    },
    {
     "name": "stderr",
     "output_type": "stream",
     "text": [
      "/home/oathaha/.conda/envs/env_oat/lib/python3.9/site-packages/sklearn/metrics/_classification.py:1245: UndefinedMetricWarning: Precision is ill-defined and being set to 0.0 due to no predicted samples. Use `zero_division` parameter to control this behavior.\n",
      "  _warn_prf(average, modifier, msg_start, len(result))\n"
     ]
    },
    {
     "name": "stdout",
     "output_type": "stream",
     "text": [
      "finished 77 from 255 commits\n",
      "finished 78 from 255 commits\n",
      "finished 79 from 255 commits\n",
      "finished 80 from 255 commits\n",
      "finished 81 from 255 commits\n"
     ]
    },
    {
     "name": "stderr",
     "output_type": "stream",
     "text": [
      "/home/oathaha/.conda/envs/env_oat/lib/python3.9/site-packages/sklearn/metrics/_classification.py:1245: UndefinedMetricWarning: Precision is ill-defined and being set to 0.0 due to no predicted samples. Use `zero_division` parameter to control this behavior.\n",
      "  _warn_prf(average, modifier, msg_start, len(result))\n"
     ]
    },
    {
     "name": "stdout",
     "output_type": "stream",
     "text": [
      "finished 82 from 255 commits\n",
      "finished 83 from 255 commits\n",
      "finished 84 from 255 commits\n",
      "finished 85 from 255 commits\n"
     ]
    },
    {
     "name": "stderr",
     "output_type": "stream",
     "text": [
      "/home/oathaha/.conda/envs/env_oat/lib/python3.9/site-packages/sklearn/metrics/_classification.py:1245: UndefinedMetricWarning: Precision is ill-defined and being set to 0.0 due to no predicted samples. Use `zero_division` parameter to control this behavior.\n",
      "  _warn_prf(average, modifier, msg_start, len(result))\n"
     ]
    },
    {
     "name": "stdout",
     "output_type": "stream",
     "text": [
      "finished 86 from 255 commits\n",
      "finished 87 from 255 commits\n"
     ]
    },
    {
     "name": "stderr",
     "output_type": "stream",
     "text": [
      "/home/oathaha/.conda/envs/env_oat/lib/python3.9/site-packages/sklearn/metrics/_classification.py:1245: UndefinedMetricWarning: Precision is ill-defined and being set to 0.0 due to no predicted samples. Use `zero_division` parameter to control this behavior.\n",
      "  _warn_prf(average, modifier, msg_start, len(result))\n"
     ]
    },
    {
     "name": "stdout",
     "output_type": "stream",
     "text": [
      "finished 88 from 255 commits\n",
      "finished 89 from 255 commits\n",
      "finished 90 from 255 commits\n",
      "finished 91 from 255 commits\n",
      "finished 92 from 255 commits\n",
      "finished 93 from 255 commits\n",
      "finished 94 from 255 commits\n",
      "finished 95 from 255 commits\n"
     ]
    },
    {
     "name": "stderr",
     "output_type": "stream",
     "text": [
      "/home/oathaha/.conda/envs/env_oat/lib/python3.9/site-packages/sklearn/metrics/_classification.py:1245: UndefinedMetricWarning: Precision is ill-defined and being set to 0.0 due to no predicted samples. Use `zero_division` parameter to control this behavior.\n",
      "  _warn_prf(average, modifier, msg_start, len(result))\n"
     ]
    },
    {
     "name": "stdout",
     "output_type": "stream",
     "text": [
      "finished 96 from 255 commits\n",
      "finished 97 from 255 commits\n",
      "finished 98 from 255 commits\n",
      "finished 99 from 255 commits\n",
      "finished 100 from 255 commits\n",
      "finished 101 from 255 commits\n",
      "finished 102 from 255 commits\n",
      "finished 103 from 255 commits\n",
      "finished 104 from 255 commits\n"
     ]
    },
    {
     "name": "stderr",
     "output_type": "stream",
     "text": [
      "/home/oathaha/.conda/envs/env_oat/lib/python3.9/site-packages/sklearn/metrics/_classification.py:1245: UndefinedMetricWarning: Precision is ill-defined and being set to 0.0 due to no predicted samples. Use `zero_division` parameter to control this behavior.\n",
      "  _warn_prf(average, modifier, msg_start, len(result))\n"
     ]
    },
    {
     "name": "stdout",
     "output_type": "stream",
     "text": [
      "finished 105 from 255 commits\n",
      "finished 106 from 255 commits\n",
      "finished 107 from 255 commits\n",
      "finished 108 from 255 commits\n",
      "finished 109 from 255 commits\n",
      "finished 110 from 255 commits\n",
      "finished 111 from 255 commits\n"
     ]
    },
    {
     "name": "stderr",
     "output_type": "stream",
     "text": [
      "/home/oathaha/.conda/envs/env_oat/lib/python3.9/site-packages/sklearn/metrics/_classification.py:1245: UndefinedMetricWarning: Precision is ill-defined and being set to 0.0 due to no predicted samples. Use `zero_division` parameter to control this behavior.\n",
      "  _warn_prf(average, modifier, msg_start, len(result))\n"
     ]
    },
    {
     "name": "stdout",
     "output_type": "stream",
     "text": [
      "finished 112 from 255 commits\n"
     ]
    },
    {
     "name": "stderr",
     "output_type": "stream",
     "text": [
      "/home/oathaha/.conda/envs/env_oat/lib/python3.9/site-packages/sklearn/metrics/_classification.py:1245: UndefinedMetricWarning: Precision is ill-defined and being set to 0.0 due to no predicted samples. Use `zero_division` parameter to control this behavior.\n",
      "  _warn_prf(average, modifier, msg_start, len(result))\n"
     ]
    },
    {
     "name": "stdout",
     "output_type": "stream",
     "text": [
      "finished 113 from 255 commits\n",
      "finished 114 from 255 commits\n",
      "finished 115 from 255 commits\n",
      "finished 116 from 255 commits\n",
      "finished 117 from 255 commits\n"
     ]
    },
    {
     "name": "stderr",
     "output_type": "stream",
     "text": [
      "/home/oathaha/.conda/envs/env_oat/lib/python3.9/site-packages/sklearn/metrics/_classification.py:1245: UndefinedMetricWarning: Precision is ill-defined and being set to 0.0 due to no predicted samples. Use `zero_division` parameter to control this behavior.\n",
      "  _warn_prf(average, modifier, msg_start, len(result))\n"
     ]
    },
    {
     "name": "stdout",
     "output_type": "stream",
     "text": [
      "finished 118 from 255 commits\n",
      "finished 119 from 255 commits\n",
      "finished 120 from 255 commits\n",
      "finished 121 from 255 commits\n"
     ]
    },
    {
     "name": "stderr",
     "output_type": "stream",
     "text": [
      "/home/oathaha/.conda/envs/env_oat/lib/python3.9/site-packages/sklearn/metrics/_classification.py:1245: UndefinedMetricWarning: Precision is ill-defined and being set to 0.0 due to no predicted samples. Use `zero_division` parameter to control this behavior.\n",
      "  _warn_prf(average, modifier, msg_start, len(result))\n"
     ]
    },
    {
     "name": "stdout",
     "output_type": "stream",
     "text": [
      "finished 122 from 255 commits\n"
     ]
    },
    {
     "name": "stderr",
     "output_type": "stream",
     "text": [
      "/home/oathaha/.conda/envs/env_oat/lib/python3.9/site-packages/sklearn/metrics/_classification.py:1245: UndefinedMetricWarning: Precision is ill-defined and being set to 0.0 due to no predicted samples. Use `zero_division` parameter to control this behavior.\n",
      "  _warn_prf(average, modifier, msg_start, len(result))\n"
     ]
    },
    {
     "name": "stdout",
     "output_type": "stream",
     "text": [
      "finished 123 from 255 commits\n",
      "finished 124 from 255 commits\n",
      "finished 125 from 255 commits\n",
      "finished 126 from 255 commits\n",
      "finished 127 from 255 commits\n",
      "finished 128 from 255 commits\n",
      "finished 129 from 255 commits\n",
      "finished 130 from 255 commits\n",
      "finished 131 from 255 commits\n",
      "finished 132 from 255 commits\n",
      "finished 133 from 255 commits\n",
      "finished 134 from 255 commits\n",
      "finished 135 from 255 commits\n",
      "finished 136 from 255 commits\n",
      "finished 137 from 255 commits\n",
      "finished 138 from 255 commits\n",
      "finished 139 from 255 commits\n",
      "finished 140 from 255 commits\n"
     ]
    },
    {
     "name": "stderr",
     "output_type": "stream",
     "text": [
      "/home/oathaha/.conda/envs/env_oat/lib/python3.9/site-packages/sklearn/metrics/_classification.py:1245: UndefinedMetricWarning: Precision is ill-defined and being set to 0.0 due to no predicted samples. Use `zero_division` parameter to control this behavior.\n",
      "  _warn_prf(average, modifier, msg_start, len(result))\n"
     ]
    },
    {
     "name": "stdout",
     "output_type": "stream",
     "text": [
      "finished 141 from 255 commits\n"
     ]
    },
    {
     "name": "stderr",
     "output_type": "stream",
     "text": [
      "/home/oathaha/.conda/envs/env_oat/lib/python3.9/site-packages/sklearn/metrics/_classification.py:1245: UndefinedMetricWarning: Precision is ill-defined and being set to 0.0 due to no predicted samples. Use `zero_division` parameter to control this behavior.\n",
      "  _warn_prf(average, modifier, msg_start, len(result))\n"
     ]
    },
    {
     "name": "stdout",
     "output_type": "stream",
     "text": [
      "finished 142 from 255 commits\n",
      "finished 143 from 255 commits\n",
      "finished 144 from 255 commits\n",
      "finished 145 from 255 commits\n"
     ]
    },
    {
     "name": "stderr",
     "output_type": "stream",
     "text": [
      "/home/oathaha/.conda/envs/env_oat/lib/python3.9/site-packages/sklearn/metrics/_classification.py:1245: UndefinedMetricWarning: Precision is ill-defined and being set to 0.0 due to no predicted samples. Use `zero_division` parameter to control this behavior.\n",
      "  _warn_prf(average, modifier, msg_start, len(result))\n"
     ]
    },
    {
     "name": "stdout",
     "output_type": "stream",
     "text": [
      "finished 146 from 255 commits\n"
     ]
    },
    {
     "name": "stderr",
     "output_type": "stream",
     "text": [
      "/home/oathaha/.conda/envs/env_oat/lib/python3.9/site-packages/sklearn/metrics/_classification.py:1245: UndefinedMetricWarning: Precision is ill-defined and being set to 0.0 due to no predicted samples. Use `zero_division` parameter to control this behavior.\n",
      "  _warn_prf(average, modifier, msg_start, len(result))\n"
     ]
    },
    {
     "name": "stdout",
     "output_type": "stream",
     "text": [
      "finished 147 from 255 commits\n",
      "finished 148 from 255 commits\n",
      "finished 149 from 255 commits\n",
      "finished 150 from 255 commits\n",
      "finished 151 from 255 commits\n",
      "finished 152 from 255 commits\n",
      "finished 153 from 255 commits\n",
      "finished 154 from 255 commits\n"
     ]
    },
    {
     "name": "stderr",
     "output_type": "stream",
     "text": [
      "/home/oathaha/.conda/envs/env_oat/lib/python3.9/site-packages/sklearn/metrics/_classification.py:1245: UndefinedMetricWarning: Precision is ill-defined and being set to 0.0 due to no predicted samples. Use `zero_division` parameter to control this behavior.\n",
      "  _warn_prf(average, modifier, msg_start, len(result))\n"
     ]
    },
    {
     "name": "stdout",
     "output_type": "stream",
     "text": [
      "finished 155 from 255 commits\n"
     ]
    },
    {
     "name": "stderr",
     "output_type": "stream",
     "text": [
      "/home/oathaha/.conda/envs/env_oat/lib/python3.9/site-packages/sklearn/metrics/_classification.py:1245: UndefinedMetricWarning: Precision is ill-defined and being set to 0.0 due to no predicted samples. Use `zero_division` parameter to control this behavior.\n",
      "  _warn_prf(average, modifier, msg_start, len(result))\n"
     ]
    },
    {
     "name": "stdout",
     "output_type": "stream",
     "text": [
      "finished 156 from 255 commits\n",
      "finished 157 from 255 commits\n",
      "finished 158 from 255 commits\n",
      "finished 159 from 255 commits\n",
      "finished 160 from 255 commits\n",
      "finished 161 from 255 commits\n",
      "finished 162 from 255 commits\n",
      "finished 163 from 255 commits\n",
      "finished 164 from 255 commits\n",
      "finished 165 from 255 commits\n"
     ]
    },
    {
     "name": "stderr",
     "output_type": "stream",
     "text": [
      "/home/oathaha/.conda/envs/env_oat/lib/python3.9/site-packages/sklearn/metrics/_classification.py:1245: UndefinedMetricWarning: Precision is ill-defined and being set to 0.0 due to no predicted samples. Use `zero_division` parameter to control this behavior.\n",
      "  _warn_prf(average, modifier, msg_start, len(result))\n"
     ]
    },
    {
     "name": "stdout",
     "output_type": "stream",
     "text": [
      "finished 166 from 255 commits\n"
     ]
    },
    {
     "name": "stderr",
     "output_type": "stream",
     "text": [
      "/home/oathaha/.conda/envs/env_oat/lib/python3.9/site-packages/sklearn/metrics/_classification.py:1245: UndefinedMetricWarning: Precision is ill-defined and being set to 0.0 due to no predicted samples. Use `zero_division` parameter to control this behavior.\n",
      "  _warn_prf(average, modifier, msg_start, len(result))\n"
     ]
    },
    {
     "name": "stdout",
     "output_type": "stream",
     "text": [
      "finished 167 from 255 commits\n",
      "finished 168 from 255 commits\n",
      "finished 169 from 255 commits\n",
      "finished 170 from 255 commits\n",
      "finished 171 from 255 commits\n",
      "finished 172 from 255 commits\n",
      "finished 173 from 255 commits\n",
      "finished 174 from 255 commits\n",
      "finished 175 from 255 commits\n",
      "finished 176 from 255 commits\n",
      "finished 177 from 255 commits\n",
      "finished 178 from 255 commits\n",
      "finished 179 from 255 commits\n",
      "finished 180 from 255 commits\n",
      "finished 181 from 255 commits\n",
      "finished 182 from 255 commits\n",
      "finished 183 from 255 commits\n",
      "finished 184 from 255 commits\n",
      "finished 185 from 255 commits\n",
      "finished 186 from 255 commits\n",
      "finished 187 from 255 commits\n",
      "finished 188 from 255 commits\n",
      "finished 189 from 255 commits\n",
      "finished 190 from 255 commits\n"
     ]
    },
    {
     "name": "stderr",
     "output_type": "stream",
     "text": [
      "/home/oathaha/.conda/envs/env_oat/lib/python3.9/site-packages/sklearn/metrics/_classification.py:1245: UndefinedMetricWarning: Precision is ill-defined and being set to 0.0 due to no predicted samples. Use `zero_division` parameter to control this behavior.\n",
      "  _warn_prf(average, modifier, msg_start, len(result))\n"
     ]
    },
    {
     "name": "stdout",
     "output_type": "stream",
     "text": [
      "finished 191 from 255 commits\n"
     ]
    },
    {
     "name": "stderr",
     "output_type": "stream",
     "text": [
      "/home/oathaha/.conda/envs/env_oat/lib/python3.9/site-packages/sklearn/metrics/_classification.py:1245: UndefinedMetricWarning: Precision is ill-defined and being set to 0.0 due to no predicted samples. Use `zero_division` parameter to control this behavior.\n",
      "  _warn_prf(average, modifier, msg_start, len(result))\n"
     ]
    },
    {
     "name": "stdout",
     "output_type": "stream",
     "text": [
      "finished 192 from 255 commits\n",
      "finished 193 from 255 commits\n",
      "finished 194 from 255 commits\n"
     ]
    },
    {
     "name": "stderr",
     "output_type": "stream",
     "text": [
      "/home/oathaha/.conda/envs/env_oat/lib/python3.9/site-packages/sklearn/metrics/_classification.py:1245: UndefinedMetricWarning: Precision is ill-defined and being set to 0.0 due to no predicted samples. Use `zero_division` parameter to control this behavior.\n",
      "  _warn_prf(average, modifier, msg_start, len(result))\n"
     ]
    },
    {
     "name": "stdout",
     "output_type": "stream",
     "text": [
      "finished 195 from 255 commits\n"
     ]
    },
    {
     "name": "stderr",
     "output_type": "stream",
     "text": [
      "/home/oathaha/.conda/envs/env_oat/lib/python3.9/site-packages/sklearn/metrics/_classification.py:1245: UndefinedMetricWarning: Precision is ill-defined and being set to 0.0 due to no predicted samples. Use `zero_division` parameter to control this behavior.\n",
      "  _warn_prf(average, modifier, msg_start, len(result))\n"
     ]
    },
    {
     "name": "stdout",
     "output_type": "stream",
     "text": [
      "finished 196 from 255 commits\n",
      "finished 197 from 255 commits\n"
     ]
    },
    {
     "name": "stderr",
     "output_type": "stream",
     "text": [
      "/home/oathaha/.conda/envs/env_oat/lib/python3.9/site-packages/sklearn/metrics/_classification.py:1245: UndefinedMetricWarning: Precision is ill-defined and being set to 0.0 due to no predicted samples. Use `zero_division` parameter to control this behavior.\n",
      "  _warn_prf(average, modifier, msg_start, len(result))\n"
     ]
    },
    {
     "name": "stdout",
     "output_type": "stream",
     "text": [
      "finished 198 from 255 commits\n"
     ]
    },
    {
     "name": "stderr",
     "output_type": "stream",
     "text": [
      "/home/oathaha/.conda/envs/env_oat/lib/python3.9/site-packages/sklearn/metrics/_classification.py:1245: UndefinedMetricWarning: Precision is ill-defined and being set to 0.0 due to no predicted samples. Use `zero_division` parameter to control this behavior.\n",
      "  _warn_prf(average, modifier, msg_start, len(result))\n"
     ]
    },
    {
     "name": "stdout",
     "output_type": "stream",
     "text": [
      "finished 199 from 255 commits\n",
      "finished 200 from 255 commits\n",
      "finished 201 from 255 commits\n"
     ]
    },
    {
     "name": "stderr",
     "output_type": "stream",
     "text": [
      "/home/oathaha/.conda/envs/env_oat/lib/python3.9/site-packages/sklearn/metrics/_classification.py:1245: UndefinedMetricWarning: Precision is ill-defined and being set to 0.0 due to no predicted samples. Use `zero_division` parameter to control this behavior.\n",
      "  _warn_prf(average, modifier, msg_start, len(result))\n"
     ]
    },
    {
     "name": "stdout",
     "output_type": "stream",
     "text": [
      "finished 202 from 255 commits\n"
     ]
    },
    {
     "name": "stderr",
     "output_type": "stream",
     "text": [
      "/home/oathaha/.conda/envs/env_oat/lib/python3.9/site-packages/sklearn/metrics/_classification.py:1245: UndefinedMetricWarning: Precision is ill-defined and being set to 0.0 due to no predicted samples. Use `zero_division` parameter to control this behavior.\n",
      "  _warn_prf(average, modifier, msg_start, len(result))\n"
     ]
    },
    {
     "name": "stdout",
     "output_type": "stream",
     "text": [
      "finished 203 from 255 commits\n",
      "finished 204 from 255 commits\n"
     ]
    },
    {
     "name": "stderr",
     "output_type": "stream",
     "text": [
      "/home/oathaha/.conda/envs/env_oat/lib/python3.9/site-packages/sklearn/metrics/_classification.py:1245: UndefinedMetricWarning: Precision is ill-defined and being set to 0.0 due to no predicted samples. Use `zero_division` parameter to control this behavior.\n",
      "  _warn_prf(average, modifier, msg_start, len(result))\n"
     ]
    },
    {
     "name": "stdout",
     "output_type": "stream",
     "text": [
      "finished 205 from 255 commits\n"
     ]
    },
    {
     "name": "stderr",
     "output_type": "stream",
     "text": [
      "/home/oathaha/.conda/envs/env_oat/lib/python3.9/site-packages/sklearn/metrics/_classification.py:1245: UndefinedMetricWarning: Precision is ill-defined and being set to 0.0 due to no predicted samples. Use `zero_division` parameter to control this behavior.\n",
      "  _warn_prf(average, modifier, msg_start, len(result))\n"
     ]
    },
    {
     "name": "stdout",
     "output_type": "stream",
     "text": [
      "finished 206 from 255 commits\n",
      "finished 207 from 255 commits\n",
      "finished 208 from 255 commits\n",
      "finished 209 from 255 commits\n",
      "finished 210 from 255 commits\n"
     ]
    },
    {
     "name": "stderr",
     "output_type": "stream",
     "text": [
      "/home/oathaha/.conda/envs/env_oat/lib/python3.9/site-packages/sklearn/metrics/_classification.py:1245: UndefinedMetricWarning: Precision is ill-defined and being set to 0.0 due to no predicted samples. Use `zero_division` parameter to control this behavior.\n",
      "  _warn_prf(average, modifier, msg_start, len(result))\n"
     ]
    },
    {
     "name": "stdout",
     "output_type": "stream",
     "text": [
      "finished 211 from 255 commits\n",
      "finished 212 from 255 commits\n",
      "finished 213 from 255 commits\n",
      "finished 214 from 255 commits\n",
      "finished 215 from 255 commits\n"
     ]
    },
    {
     "name": "stderr",
     "output_type": "stream",
     "text": [
      "/home/oathaha/.conda/envs/env_oat/lib/python3.9/site-packages/sklearn/metrics/_classification.py:1245: UndefinedMetricWarning: Precision is ill-defined and being set to 0.0 due to no predicted samples. Use `zero_division` parameter to control this behavior.\n",
      "  _warn_prf(average, modifier, msg_start, len(result))\n"
     ]
    },
    {
     "name": "stdout",
     "output_type": "stream",
     "text": [
      "finished 216 from 255 commits\n"
     ]
    },
    {
     "name": "stderr",
     "output_type": "stream",
     "text": [
      "/home/oathaha/.conda/envs/env_oat/lib/python3.9/site-packages/sklearn/metrics/_classification.py:1245: UndefinedMetricWarning: Precision is ill-defined and being set to 0.0 due to no predicted samples. Use `zero_division` parameter to control this behavior.\n",
      "  _warn_prf(average, modifier, msg_start, len(result))\n"
     ]
    },
    {
     "name": "stdout",
     "output_type": "stream",
     "text": [
      "finished 217 from 255 commits\n"
     ]
    },
    {
     "name": "stderr",
     "output_type": "stream",
     "text": [
      "/home/oathaha/.conda/envs/env_oat/lib/python3.9/site-packages/sklearn/metrics/_classification.py:1245: UndefinedMetricWarning: Precision is ill-defined and being set to 0.0 due to no predicted samples. Use `zero_division` parameter to control this behavior.\n",
      "  _warn_prf(average, modifier, msg_start, len(result))\n"
     ]
    },
    {
     "name": "stdout",
     "output_type": "stream",
     "text": [
      "finished 218 from 255 commits\n",
      "finished 219 from 255 commits\n"
     ]
    },
    {
     "name": "stderr",
     "output_type": "stream",
     "text": [
      "/home/oathaha/.conda/envs/env_oat/lib/python3.9/site-packages/sklearn/metrics/_classification.py:1245: UndefinedMetricWarning: Precision is ill-defined and being set to 0.0 due to no predicted samples. Use `zero_division` parameter to control this behavior.\n",
      "  _warn_prf(average, modifier, msg_start, len(result))\n"
     ]
    },
    {
     "name": "stdout",
     "output_type": "stream",
     "text": [
      "finished 220 from 255 commits\n",
      "finished 221 from 255 commits\n"
     ]
    },
    {
     "name": "stderr",
     "output_type": "stream",
     "text": [
      "/home/oathaha/.conda/envs/env_oat/lib/python3.9/site-packages/sklearn/metrics/_classification.py:1245: UndefinedMetricWarning: Precision is ill-defined and being set to 0.0 due to no predicted samples. Use `zero_division` parameter to control this behavior.\n",
      "  _warn_prf(average, modifier, msg_start, len(result))\n"
     ]
    },
    {
     "name": "stdout",
     "output_type": "stream",
     "text": [
      "finished 222 from 255 commits\n"
     ]
    },
    {
     "name": "stderr",
     "output_type": "stream",
     "text": [
      "/home/oathaha/.conda/envs/env_oat/lib/python3.9/site-packages/sklearn/metrics/_classification.py:1245: UndefinedMetricWarning: Precision is ill-defined and being set to 0.0 due to no predicted samples. Use `zero_division` parameter to control this behavior.\n",
      "  _warn_prf(average, modifier, msg_start, len(result))\n"
     ]
    },
    {
     "name": "stdout",
     "output_type": "stream",
     "text": [
      "finished 223 from 255 commits\n",
      "finished 224 from 255 commits\n",
      "finished 225 from 255 commits\n",
      "finished 226 from 255 commits\n"
     ]
    },
    {
     "name": "stderr",
     "output_type": "stream",
     "text": [
      "/home/oathaha/.conda/envs/env_oat/lib/python3.9/site-packages/sklearn/metrics/_classification.py:1245: UndefinedMetricWarning: Precision is ill-defined and being set to 0.0 due to no predicted samples. Use `zero_division` parameter to control this behavior.\n",
      "  _warn_prf(average, modifier, msg_start, len(result))\n"
     ]
    },
    {
     "name": "stdout",
     "output_type": "stream",
     "text": [
      "finished 227 from 255 commits\n",
      "finished 228 from 255 commits\n",
      "finished 229 from 255 commits\n",
      "finished 230 from 255 commits\n",
      "finished 231 from 255 commits\n"
     ]
    },
    {
     "name": "stderr",
     "output_type": "stream",
     "text": [
      "/home/oathaha/.conda/envs/env_oat/lib/python3.9/site-packages/sklearn/metrics/_classification.py:1245: UndefinedMetricWarning: Precision is ill-defined and being set to 0.0 due to no predicted samples. Use `zero_division` parameter to control this behavior.\n",
      "  _warn_prf(average, modifier, msg_start, len(result))\n"
     ]
    },
    {
     "name": "stdout",
     "output_type": "stream",
     "text": [
      "finished 232 from 255 commits\n"
     ]
    },
    {
     "name": "stderr",
     "output_type": "stream",
     "text": [
      "/home/oathaha/.conda/envs/env_oat/lib/python3.9/site-packages/sklearn/metrics/_classification.py:1245: UndefinedMetricWarning: Precision is ill-defined and being set to 0.0 due to no predicted samples. Use `zero_division` parameter to control this behavior.\n",
      "  _warn_prf(average, modifier, msg_start, len(result))\n"
     ]
    },
    {
     "name": "stdout",
     "output_type": "stream",
     "text": [
      "finished 233 from 255 commits\n",
      "finished 234 from 255 commits\n",
      "finished 235 from 255 commits\n",
      "finished 236 from 255 commits\n",
      "finished 237 from 255 commits\n",
      "finished 238 from 255 commits\n",
      "finished 239 from 255 commits\n",
      "finished 240 from 255 commits\n",
      "finished 241 from 255 commits\n",
      "finished 242 from 255 commits\n",
      "finished 243 from 255 commits\n",
      "finished 244 from 255 commits\n",
      "finished 245 from 255 commits\n",
      "finished 246 from 255 commits\n",
      "finished 247 from 255 commits\n"
     ]
    },
    {
     "name": "stderr",
     "output_type": "stream",
     "text": [
      "/home/oathaha/.conda/envs/env_oat/lib/python3.9/site-packages/sklearn/metrics/_classification.py:1245: UndefinedMetricWarning: Precision is ill-defined and being set to 0.0 due to no predicted samples. Use `zero_division` parameter to control this behavior.\n",
      "  _warn_prf(average, modifier, msg_start, len(result))\n"
     ]
    },
    {
     "name": "stdout",
     "output_type": "stream",
     "text": [
      "finished 248 from 255 commits\n",
      "finished 249 from 255 commits\n",
      "finished 250 from 255 commits\n"
     ]
    },
    {
     "name": "stderr",
     "output_type": "stream",
     "text": [
      "/home/oathaha/.conda/envs/env_oat/lib/python3.9/site-packages/sklearn/metrics/_classification.py:1245: UndefinedMetricWarning: Precision is ill-defined and being set to 0.0 due to no predicted samples. Use `zero_division` parameter to control this behavior.\n",
      "  _warn_prf(average, modifier, msg_start, len(result))\n"
     ]
    },
    {
     "name": "stdout",
     "output_type": "stream",
     "text": [
      "finished 251 from 255 commits\n"
     ]
    },
    {
     "name": "stderr",
     "output_type": "stream",
     "text": [
      "/home/oathaha/.conda/envs/env_oat/lib/python3.9/site-packages/sklearn/metrics/_classification.py:1245: UndefinedMetricWarning: Precision is ill-defined and being set to 0.0 due to no predicted samples. Use `zero_division` parameter to control this behavior.\n",
      "  _warn_prf(average, modifier, msg_start, len(result))\n"
     ]
    },
    {
     "name": "stdout",
     "output_type": "stream",
     "text": [
      "finished 252 from 255 commits\n"
     ]
    },
    {
     "name": "stderr",
     "output_type": "stream",
     "text": [
      "/home/oathaha/.conda/envs/env_oat/lib/python3.9/site-packages/sklearn/metrics/_classification.py:1245: UndefinedMetricWarning: Precision is ill-defined and being set to 0.0 due to no predicted samples. Use `zero_division` parameter to control this behavior.\n",
      "  _warn_prf(average, modifier, msg_start, len(result))\n"
     ]
    },
    {
     "name": "stdout",
     "output_type": "stream",
     "text": [
      "finished 253 from 255 commits\n",
      "finished 254 from 255 commits\n",
      "finished 255 from 255 commits\n",
      "finished RQ3 of qt\n",
      "finished in 604.1838369369507 secs\n"
     ]
    }
   ],
   "source": [
    "# start = time.time()\n",
    "# print('openstack')\n",
    "# rq3_eval('openstack','LR')\n",
    "# end = time.time()\n",
    "# print('finished in',str(end-start), 'secs')\n",
    "\n",
    "# start = time.time()\n",
    "# print('qt')\n",
    "# rq3_eval('qt','LR')\n",
    "# end = time.time()\n",
    "# print('finished in',str(end-start), 'secs')"
   ]
  },
  {
   "cell_type": "code",
   "execution_count": 138,
   "metadata": {},
   "outputs": [
    {
     "data": {
      "image/png": "[encoded data removed]",
      "text/plain": [
       "<Figure size 576x576 with 4 Axes>"
      ]
     },
     "metadata": {
      "needs_background": "light"
     },
     "output_type": "display_data"
    },
    {
     "data": {
      "text/html": [
       "<div>\n",
       "<style scoped>\n",
       "    .dataframe tbody tr th:only-of-type {\n",
       "        vertical-align: middle;\n",
       "    }\n",
       "\n",
       "    .dataframe tbody tr th {\n",
       "        vertical-align: top;\n",
       "    }\n",
       "\n",
       "    .dataframe thead tr th {\n",
       "        text-align: left;\n",
       "    }\n",
       "\n",
       "    .dataframe thead tr:last-of-type th {\n",
       "        text-align: right;\n",
       "    }\n",
       "</style>\n",
       "<table border=\"1\" class=\"dataframe\">\n",
       "  <thead>\n",
       "    <tr>\n",
       "      <th></th>\n",
       "      <th></th>\n",
       "      <th colspan=\"8\" halign=\"left\">true_positive_rate</th>\n",
       "      <th colspan=\"8\" halign=\"left\">true_negative_rate</th>\n",
       "    </tr>\n",
       "    <tr>\n",
       "      <th></th>\n",
       "      <th></th>\n",
       "      <th>count</th>\n",
       "      <th>mean</th>\n",
       "      <th>std</th>\n",
       "      <th>min</th>\n",
       "      <th>25%</th>\n",
       "      <th>50%</th>\n",
       "      <th>75%</th>\n",
       "      <th>max</th>\n",
       "      <th>count</th>\n",
       "      <th>mean</th>\n",
       "      <th>std</th>\n",
       "      <th>min</th>\n",
       "      <th>25%</th>\n",
       "      <th>50%</th>\n",
       "      <th>75%</th>\n",
       "      <th>max</th>\n",
       "    </tr>\n",
       "    <tr>\n",
       "      <th>project</th>\n",
       "      <th>method</th>\n",
       "      <th></th>\n",
       "      <th></th>\n",
       "      <th></th>\n",
       "      <th></th>\n",
       "      <th></th>\n",
       "      <th></th>\n",
       "      <th></th>\n",
       "      <th></th>\n",
       "      <th></th>\n",
       "      <th></th>\n",
       "      <th></th>\n",
       "      <th></th>\n",
       "      <th></th>\n",
       "      <th></th>\n",
       "      <th></th>\n",
       "      <th></th>\n",
       "    </tr>\n",
       "  </thead>\n",
       "  <tbody>\n",
       "    <tr>\n",
       "      <th rowspan=\"2\" valign=\"top\">openstack</th>\n",
       "      <th>LIME</th>\n",
       "      <td>574.0</td>\n",
       "      <td>0.215297</td>\n",
       "      <td>0.114627</td>\n",
       "      <td>0.110039</td>\n",
       "      <td>0.172445</td>\n",
       "      <td>0.172445</td>\n",
       "      <td>0.172445</td>\n",
       "      <td>0.939102</td>\n",
       "      <td>574.0</td>\n",
       "      <td>0.466589</td>\n",
       "      <td>0.091547</td>\n",
       "      <td>0.030960</td>\n",
       "      <td>0.459752</td>\n",
       "      <td>0.459752</td>\n",
       "      <td>0.459752</td>\n",
       "      <td>0.955108</td>\n",
       "    </tr>\n",
       "    <tr>\n",
       "      <th>pyExplainer</th>\n",
       "      <td>315.0</td>\n",
       "      <td>0.847725</td>\n",
       "      <td>0.229316</td>\n",
       "      <td>0.023515</td>\n",
       "      <td>0.802382</td>\n",
       "      <td>0.951161</td>\n",
       "      <td>1.000000</td>\n",
       "      <td>1.000000</td>\n",
       "      <td>315.0</td>\n",
       "      <td>0.110910</td>\n",
       "      <td>0.194727</td>\n",
       "      <td>0.000000</td>\n",
       "      <td>0.000000</td>\n",
       "      <td>0.020124</td>\n",
       "      <td>0.108359</td>\n",
       "      <td>0.911765</td>\n",
       "    </tr>\n",
       "    <tr>\n",
       "      <th rowspan=\"2\" valign=\"top\">qt</th>\n",
       "      <th>LIME</th>\n",
       "      <td>302.0</td>\n",
       "      <td>0.222058</td>\n",
       "      <td>0.045656</td>\n",
       "      <td>0.020254</td>\n",
       "      <td>0.204461</td>\n",
       "      <td>0.204461</td>\n",
       "      <td>0.204461</td>\n",
       "      <td>0.371106</td>\n",
       "      <td>302.0</td>\n",
       "      <td>0.517078</td>\n",
       "      <td>0.158299</td>\n",
       "      <td>0.430672</td>\n",
       "      <td>0.436975</td>\n",
       "      <td>0.436975</td>\n",
       "      <td>0.436975</td>\n",
       "      <td>0.953782</td>\n",
       "    </tr>\n",
       "    <tr>\n",
       "      <th>pyExplainer</th>\n",
       "      <td>191.0</td>\n",
       "      <td>0.829622</td>\n",
       "      <td>0.261291</td>\n",
       "      <td>0.008845</td>\n",
       "      <td>0.774196</td>\n",
       "      <td>0.968850</td>\n",
       "      <td>1.000000</td>\n",
       "      <td>1.000000</td>\n",
       "      <td>191.0</td>\n",
       "      <td>0.132188</td>\n",
       "      <td>0.231737</td>\n",
       "      <td>0.000000</td>\n",
       "      <td>0.000000</td>\n",
       "      <td>0.016807</td>\n",
       "      <td>0.132353</td>\n",
       "      <td>0.970588</td>\n",
       "    </tr>\n",
       "  </tbody>\n",
       "</table>\n",
       "</div>"
      ],
      "text/plain": [
       "                      true_positive_rate                                \\\n",
       "                                   count      mean       std       min   \n",
       "project   method                                                         \n",
       "openstack LIME                     574.0  0.215297  0.114627  0.110039   \n",
       "          pyExplainer              315.0  0.847725  0.229316  0.023515   \n",
       "qt        LIME                     302.0  0.222058  0.045656  0.020254   \n",
       "          pyExplainer              191.0  0.829622  0.261291  0.008845   \n",
       "\n",
       "                                                               \\\n",
       "                            25%       50%       75%       max   \n",
       "project   method                                                \n",
       "openstack LIME         0.172445  0.172445  0.172445  0.939102   \n",
       "          pyExplainer  0.802382  0.951161  1.000000  1.000000   \n",
       "qt        LIME         0.204461  0.204461  0.204461  0.371106   \n",
       "          pyExplainer  0.774196  0.968850  1.000000  1.000000   \n",
       "\n",
       "                      true_negative_rate                                \\\n",
       "                                   count      mean       std       min   \n",
       "project   method                                                         \n",
       "openstack LIME                     574.0  0.466589  0.091547  0.030960   \n",
       "          pyExplainer              315.0  0.110910  0.194727  0.000000   \n",
       "qt        LIME                     302.0  0.517078  0.158299  0.430672   \n",
       "          pyExplainer              191.0  0.132188  0.231737  0.000000   \n",
       "\n",
       "                                                               \n",
       "                            25%       50%       75%       max  \n",
       "project   method                                               \n",
       "openstack LIME         0.459752  0.459752  0.459752  0.955108  \n",
       "          pyExplainer  0.000000  0.020124  0.108359  0.911765  \n",
       "qt        LIME         0.436975  0.436975  0.436975  0.953782  \n",
       "          pyExplainer  0.000000  0.016807  0.132353  0.970588  "
      ]
     },
     "metadata": {},
     "output_type": "display_data"
    }
   ],
   "source": [
    "# show_rq3_eval_result()"
   ]
  }
 ],
 "metadata": {
  "kernelspec": {
   "display_name": "Python_Oat",
   "language": "python",
   "name": "env_oat"
  },
  "language_info": {
   "codemirror_mode": {
    "name": "ipython",
    "version": 3
   },
   "file_extension": ".py",
   "mimetype": "text/x-python",
   "name": "python",
   "nbconvert_exporter": "python",
   "pygments_lexer": "ipython3",
   "version": "3.9.2"
  },
  "varInspector": {
   "cols": {
    "lenName": 16,
    "lenType": 16,
    "lenVar": 40
   },
   "kernels_config": {
    "python": {
     "delete_cmd_postfix": "",
     "delete_cmd_prefix": "del ",
     "library": "var_list.py",
     "varRefreshCmd": "print(var_dic_list())"
    },
    "r": {
     "delete_cmd_postfix": ") ",
     "delete_cmd_prefix": "rm(",
     "library": "var_list.r",
     "varRefreshCmd": "cat(var_dic_list()) "
    }
   },
   "types_to_exclude": [
    "module",
    "function",
    "builtin_function_or_method",
    "instance",
    "_Feature"
   ],
   "window_display": false
  }
 },
 "nbformat": 4,
 "nbformat_minor": 4
}
