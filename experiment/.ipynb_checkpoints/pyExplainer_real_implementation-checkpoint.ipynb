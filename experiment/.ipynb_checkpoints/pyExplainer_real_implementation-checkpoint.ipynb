{
 "cells": [
  {
   "cell_type": "code",
   "execution_count": 8,
   "metadata": {},
   "outputs": [
    {
     "ename": "ModuleNotFoundError",
     "evalue": "No module named 'cvxpy'",
     "output_type": "error",
     "traceback": [
      "\u001b[0;31m---------------------------------------------------------------------------\u001b[0m",
      "\u001b[0;31mModuleNotFoundError\u001b[0m                       Traceback (most recent call last)",
      "\u001b[0;32m<ipython-input-8-149080c6253d>\u001b[0m in \u001b[0;36m<module>\u001b[0;34m\u001b[0m\n\u001b[1;32m      6\u001b[0m \u001b[0;32mfrom\u001b[0m \u001b[0mimblearn\u001b[0m\u001b[0;34m.\u001b[0m\u001b[0mover_sampling\u001b[0m \u001b[0;32mimport\u001b[0m \u001b[0mSMOTE\u001b[0m\u001b[0;34m\u001b[0m\u001b[0;34m\u001b[0m\u001b[0m\n\u001b[1;32m      7\u001b[0m \u001b[0;34m\u001b[0m\u001b[0m\n\u001b[0;32m----> 8\u001b[0;31m \u001b[0;32mfrom\u001b[0m \u001b[0mpyexplainer\u001b[0m\u001b[0;34m.\u001b[0m\u001b[0mpyexplainer_pyexplainer\u001b[0m \u001b[0;32mimport\u001b[0m \u001b[0mPyExplainer\u001b[0m\u001b[0;34m\u001b[0m\u001b[0;34m\u001b[0m\u001b[0m\n\u001b[0m\u001b[1;32m      9\u001b[0m \u001b[0;32mimport\u001b[0m \u001b[0mmatplotlib\u001b[0m\u001b[0;34m.\u001b[0m\u001b[0mpyplot\u001b[0m \u001b[0;32mas\u001b[0m \u001b[0mplt\u001b[0m\u001b[0;34m\u001b[0m\u001b[0;34m\u001b[0m\u001b[0m\n\u001b[1;32m     10\u001b[0m \u001b[0;34m\u001b[0m\u001b[0m\n",
      "\u001b[0;32m~/Oat/pyExplainer_Oat/pyexplainer/pyexplainer_pyexplainer.py\u001b[0m in \u001b[0;36m<module>\u001b[0;34m\u001b[0m\n\u001b[1;32m     21\u001b[0m \u001b[0;31m# not import from library but from .py file\u001b[0m\u001b[0;34m\u001b[0m\u001b[0;34m\u001b[0m\u001b[0;34m\u001b[0m\u001b[0m\n\u001b[1;32m     22\u001b[0m \u001b[0;32mfrom\u001b[0m \u001b[0;34m.\u001b[0m\u001b[0mlogistic_regression\u001b[0m \u001b[0;32mimport\u001b[0m \u001b[0;34m*\u001b[0m\u001b[0;34m\u001b[0m\u001b[0;34m\u001b[0m\u001b[0m\n\u001b[0;32m---> 23\u001b[0;31m \u001b[0;32mfrom\u001b[0m \u001b[0;34m.\u001b[0m\u001b[0mboolean_rule_cg\u001b[0m \u001b[0;32mimport\u001b[0m \u001b[0;34m*\u001b[0m\u001b[0;34m\u001b[0m\u001b[0;34m\u001b[0m\u001b[0m\n\u001b[0m\u001b[1;32m     24\u001b[0m \u001b[0;31m# from .TED_Cartesian import *\u001b[0m\u001b[0;34m\u001b[0m\u001b[0;34m\u001b[0m\u001b[0;34m\u001b[0m\u001b[0m\n\u001b[1;32m     25\u001b[0m \u001b[0;32mfrom\u001b[0m \u001b[0;34m.\u001b[0m\u001b[0mfeatures\u001b[0m \u001b[0;32mimport\u001b[0m \u001b[0;34m*\u001b[0m\u001b[0;34m\u001b[0m\u001b[0;34m\u001b[0m\u001b[0m\n",
      "\u001b[0;32m~/Oat/pyExplainer_Oat/pyexplainer/boolean_rule_cg.py\u001b[0m in \u001b[0;36m<module>\u001b[0;34m\u001b[0m\n\u001b[1;32m      2\u001b[0m \u001b[0;32mimport\u001b[0m \u001b[0mnumpy\u001b[0m \u001b[0;32mas\u001b[0m \u001b[0mnp\u001b[0m\u001b[0;34m\u001b[0m\u001b[0;34m\u001b[0m\u001b[0m\n\u001b[1;32m      3\u001b[0m \u001b[0;32mimport\u001b[0m \u001b[0mpandas\u001b[0m \u001b[0;32mas\u001b[0m \u001b[0mpd\u001b[0m\u001b[0;34m\u001b[0m\u001b[0;34m\u001b[0m\u001b[0m\n\u001b[0;32m----> 4\u001b[0;31m \u001b[0;32mimport\u001b[0m \u001b[0mcvxpy\u001b[0m \u001b[0;32mas\u001b[0m \u001b[0mcvx\u001b[0m\u001b[0;34m\u001b[0m\u001b[0;34m\u001b[0m\u001b[0m\n\u001b[0m\u001b[1;32m      5\u001b[0m \u001b[0;32mfrom\u001b[0m \u001b[0msklearn\u001b[0m\u001b[0;34m.\u001b[0m\u001b[0mmetrics\u001b[0m \u001b[0;32mimport\u001b[0m \u001b[0mconfusion_matrix\u001b[0m\u001b[0;34m,\u001b[0m \u001b[0maccuracy_score\u001b[0m\u001b[0;34m\u001b[0m\u001b[0;34m\u001b[0m\u001b[0m\n\u001b[1;32m      6\u001b[0m \u001b[0;32mfrom\u001b[0m \u001b[0msklearn\u001b[0m\u001b[0;34m.\u001b[0m\u001b[0mbase\u001b[0m \u001b[0;32mimport\u001b[0m \u001b[0mBaseEstimator\u001b[0m\u001b[0;34m,\u001b[0m \u001b[0mClassifierMixin\u001b[0m\u001b[0;34m\u001b[0m\u001b[0;34m\u001b[0m\u001b[0m\n",
      "\u001b[0;31mModuleNotFoundError\u001b[0m: No module named 'cvxpy'"
     ]
    }
   ],
   "source": [
    "from sklearn.ensemble import RandomForestClassifier\n",
    "from sklearn.metrics.pairwise import cosine_similarity, euclidean_distances\n",
    "import pandas as pd\n",
    "import numpy as np\n",
    "from imblearn.over_sampling import SMOTE\n",
    "\n",
    "from pyexplainer.pyexplainer_pyexplainer import PyExplainer\n",
    "import matplotlib.pyplot as plt\n",
    "\n",
    "import os, pickle, time\n",
    "from datetime import datetime\n",
    "\n",
    " # import from files copied from AIX360 github"
   ]
  },
  {
   "cell_type": "code",
   "execution_count": 19,
   "metadata": {
    "code_folding": []
   },
   "outputs": [],
   "source": [
    "data_path = './dataset/'\n",
    "result_dir = './eval_result/'\n",
    "dump_dataframe_dir = './dump_df/'\n",
    "pyExp_dir = './pyExplainer_obj/'\n",
    "other_object_dir = './other_object/'\n",
    "proj_name = 'openstack' # ['openstack','qt']\n",
    "\n",
    "\n",
    "\n",
    "if not os.path.exists(result_dir):\n",
    "    os.makedirs(result_dir)\n",
    "    \n",
    "if not os.path.exists(dump_dataframe_dir):\n",
    "    os.makedirs(dump_dataframe_dir)\n",
    "    \n",
    "if not os.path.exists(pyExp_dir):\n",
    "    os.makedirs(pyExp_dir)\n",
    "    \n",
    "if not os.path.exists(other_object_dir):\n",
    "    os.makedirs(other_object_dir)"
   ]
  },
  {
   "cell_type": "code",
   "execution_count": 20,
   "metadata": {
    "code_folding": []
   },
   "outputs": [],
   "source": [
    "def load_change_metrics_df(cur_proj):\n",
    "    if cur_proj == 'qt':\n",
    "        start = 1308350292\n",
    "        end = 1395090476\n",
    "    elif cur_proj == 'openstack':\n",
    "        start = 1322599384\n",
    "        end = 1393590700\n",
    "    change_metrics = pd.read_csv(data_path+cur_proj+'_metrics.csv')\n",
    "    \n",
    "    change_metrics = change_metrics[(change_metrics['author_date'] >= start) & \n",
    "                                    (change_metrics['author_date'] <= end)]\n",
    "    \n",
    "    change_metrics['self'] = [1 if s is True else 0 for s in change_metrics['self']]\n",
    "    change_metrics['defect'] = change_metrics['bugcount'] > 0\n",
    "#     change_metrics['new_date'] = change_metrics['author_date'].apply(lambda x: datetime.fromtimestamp(x).strftime('%m-%d-%Y'))\n",
    "    change_metrics['new_date'] = change_metrics['author_date'].apply(lambda x: datetime.fromtimestamp(x))\n",
    "    \n",
    "    change_metrics = change_metrics.sort_values(by='new_date')\n",
    "    change_metrics['new_date'] = change_metrics['new_date'].apply(lambda x: x.strftime('%m-%d-%Y'))\n",
    "    \n",
    "    bug_label = change_metrics['defect']\n",
    "    \n",
    "    change_metrics = change_metrics.drop(['author_date', 'new_date', 'commit_id', 'bugcount','fixcount','revd','tcmt','oexp','orexp','osexp','osawr','defect']\n",
    "                                         ,axis=1)\n",
    "    change_metrics = change_metrics.fillna(value=0)\n",
    "    \n",
    "    \n",
    "    return change_metrics, bug_label\n",
    "\n",
    "def split_train_test_data(feature_df, label, percent_split = 70):\n",
    "    _p_percent_len = int(len(feature_df)*(percent_split/100))\n",
    "    x_train = feature_df.iloc[:_p_percent_len]\n",
    "    y_train = label.iloc[:_p_percent_len]\n",
    "    \n",
    "    x_test = feature_df.iloc[_p_percent_len:]\n",
    "    y_test = label.iloc[_p_percent_len:]\n",
    "    \n",
    "    return x_train, x_test, y_train, y_test"
   ]
  },
  {
   "cell_type": "markdown",
   "metadata": {},
   "source": [
    "## Prepare data"
   ]
  },
  {
   "cell_type": "code",
   "execution_count": 21,
   "metadata": {},
   "outputs": [],
   "source": [
    "def prepare_data(proj_name, mode = 'all'):\n",
    "    if mode not in ['train','test','all']:\n",
    "        print('this function accepts \"train\",\"test\",\"all\" mode only')\n",
    "        return\n",
    "    \n",
    "    change_metrics, bug_label = load_change_metrics_df(proj_name) # ['openstack','qt']\n",
    "#     indep = change_metrics.columns\n",
    "#     dep = 'defect'\n",
    "\n",
    "    x_train, x_test, y_train, y_test = split_train_test_data(change_metrics, bug_label, percent_split = 70)\n",
    "    \n",
    "    if mode == 'train':\n",
    "        return x_train,y_train\n",
    "    elif mode == 'test':\n",
    "        return x_test, y_test\n",
    "    elif mode == 'all':\n",
    "        return x_train, x_test, y_train, y_test\n",
    "    \n",
    "x_train, x_test, y_train, y_test = prepare_data(proj_name, mode = 'all')"
   ]
  },
  {
   "cell_type": "code",
   "execution_count": 22,
   "metadata": {},
   "outputs": [
    {
     "name": "stdout",
     "output_type": "stream",
     "text": [
      "['la', 'ld', 'nf', 'nd', 'ns', 'ent', 'nrev', 'rtime', 'hcmt', 'self', 'ndev', 'age', 'nuc', 'app', 'aexp', 'rexp', 'arexp', 'rrexp', 'asexp', 'rsexp', 'asawr', 'rsawr']\n",
      "9\n"
     ]
    }
   ],
   "source": [
    "# # print(y_train)\n",
    "# for col in x_test.columns:\n",
    "#     print(col,len(x_test[col].unique()))\n",
    "\n",
    "col = list(x_test.columns)\n",
    "print(col)\n",
    "print(col.index('self'))"
   ]
  },
  {
   "cell_type": "markdown",
   "metadata": {},
   "source": [
    "## Train global model"
   ]
  },
  {
   "cell_type": "code",
   "execution_count": 23,
   "metadata": {},
   "outputs": [
    {
     "name": "stdout",
     "output_type": "stream",
     "text": [
      "train global model finished\n"
     ]
    }
   ],
   "source": [
    "smt = SMOTE(k_neighbors=5, random_state=42, n_jobs=24)\n",
    "# enn = EditedNearestNeighbours(n_neighbors=5, n_jobs=24)\n",
    "# smt_tmk = SMOTETomek(smote = smt, random_state=0)\n",
    "# smt_enn = SMOTEENN(smote=smt, enn=enn, random_state=0)\n",
    "\n",
    "new_x_train, new_y_train = smt.fit_resample(x_train, y_train)\n",
    "\n",
    "def train_global_model(x_train,y_train):\n",
    "    global_model = RandomForestClassifier(n_estimators=100, random_state=0, n_jobs=24)\n",
    "    global_model.fit(x_train, y_train)\n",
    "\n",
    "    pickle.dump(global_model, open(proj_name+'_global_model.pkl','wb'))\n",
    "    print('train global model finished')\n",
    "    \n",
    "train_black_box = True\n",
    "\n",
    "if train_black_box:\n",
    "    train_global_model(new_x_train, new_y_train)"
   ]
  },
  {
   "cell_type": "markdown",
   "metadata": {},
   "source": [
    "## Obtain correctly predicted defective commits"
   ]
  },
  {
   "cell_type": "code",
   "execution_count": 24,
   "metadata": {},
   "outputs": [],
   "source": [
    "global_model = pickle.load(open(proj_name+'_global_model.pkl','rb'))\n",
    "# x_test, y_test = prepare_data(proj_name, mode = 'test')\n",
    "\n",
    "pred = global_model.predict(x_test)\n",
    "defective_prob = global_model.predict_proba(x_test)[:,1]\n",
    "\n",
    "prediction_df = x_test.copy()\n",
    "prediction_df['pred'] = pred\n",
    "prediction_df['defective_prob'] = defective_prob\n",
    "prediction_df['defect'] = y_test\n",
    "\n",
    "correctly_predict_df = prediction_df[(prediction_df['pred']==1) & (prediction_df['defect']==1)]"
   ]
  },
  {
   "cell_type": "code",
   "execution_count": 25,
   "metadata": {},
   "outputs": [
    {
     "name": "stdout",
     "output_type": "stream",
     "text": [
      "228\n"
     ]
    }
   ],
   "source": [
    "print(len(correctly_predict_df))\n",
    "prediction_df.to_csv(dump_dataframe_dir+proj_name+'_prediction_result.csv')\n",
    "correctly_predict_df.to_csv(dump_dataframe_dir+proj_name+'_correctly_predict_as_defective.csv')\n"
   ]
  },
  {
   "cell_type": "markdown",
   "metadata": {},
   "source": [
    "## Training local model\n",
    "\n",
    "Note: this step includes instance generation"
   ]
  },
  {
   "cell_type": "code",
   "execution_count": 26,
   "metadata": {},
   "outputs": [
    {
     "name": "stdout",
     "output_type": "stream",
     "text": [
      "Index(['la', 'ld', 'nf', 'nd', 'ns', 'ent', 'nrev', 'rtime', 'hcmt', 'self',\n",
      "       'ndev', 'age', 'nuc', 'app', 'aexp', 'rexp', 'arexp', 'rrexp', 'asexp',\n",
      "       'rsexp', 'asawr', 'rsawr', 'pred', 'defective_prob', 'defect'],\n",
      "      dtype='object')\n",
      "25\n",
      "Index(['la', 'ld', 'nf', 'nd', 'ns', 'ent', 'nrev', 'rtime', 'hcmt', 'self',\n",
      "       'ndev', 'age', 'nuc', 'app', 'aexp', 'rexp', 'arexp', 'rrexp', 'asexp',\n",
      "       'rsexp', 'asawr', 'rsawr'],\n",
      "      dtype='object')\n"
     ]
    }
   ],
   "source": [
    "global_model = pickle.load(open(proj_name+'_global_model.pkl','rb'))\n",
    "\n",
    "load_prediction_from_file = True\n",
    "class_label = ['clean', 'defect']\n",
    "\n",
    "if load_prediction_from_file:\n",
    "    correctly_predict_df = pd.read_csv(dump_dataframe_dir+proj_name+'_correctly_predict_as_defective.csv')\n",
    "    correctly_predict_df = correctly_predict_df.set_index('Unnamed: 0')\n",
    "    \n",
    "dep = 'defect'\n",
    "indep = correctly_predict_df.columns[:22]\n",
    "\n",
    "print(correctly_predict_df.columns)\n",
    "print(len(correctly_predict_df.columns))\n",
    "print(indep)"
   ]
  },
  {
   "cell_type": "code",
   "execution_count": 27,
   "metadata": {
    "scrolled": true
   },
   "outputs": [],
   "source": [
    "# print(correctly_predict_df)\n"
   ]
  },
  {
   "cell_type": "code",
   "execution_count": 28,
   "metadata": {},
   "outputs": [],
   "source": [
    "pyExp = PyExplainer(x_train,\n",
    "            y_train,\n",
    "            indep,\n",
    "            dep,\n",
    "            class_label,\n",
    "            blackbox_model = global_model,\n",
    "            categorical_features = ['self'])"
   ]
  },
  {
   "cell_type": "code",
   "execution_count": 29,
   "metadata": {},
   "outputs": [],
   "source": [
    "feature_df = correctly_predict_df.loc[:, indep]\n",
    "test_label = correctly_predict_df.loc[:, dep]\n",
    "problem_index = [] # store index that cannot build pyExplainer"
   ]
  },
  {
   "cell_type": "code",
   "execution_count": 30,
   "metadata": {},
   "outputs": [],
   "source": [
    "def create_pyExplainer_obj(search_function, feature_df, test_label, explainer='LRR'):\n",
    "    problem_index = []\n",
    "    time_spent = []\n",
    "    \n",
    "    for i in range(0,len(feature_df)):\n",
    "        X_explain = feature_df.iloc[[i]]\n",
    "        y_explain = test_label.iloc[[i]]\n",
    "\n",
    "        row_index = str(X_explain.index[0])\n",
    "\n",
    "        start = time.time()\n",
    "        try:\n",
    "            pyExp_obj = pyExp.explain(X_explain,\n",
    "                                       y_explain,\n",
    "                                       search_function = search_function, \n",
    "                                       top_k = 1000,\n",
    "                                       max_rules=2000, \n",
    "                                       max_iter =None, \n",
    "                                       cv=5,\n",
    "                                       explainer=explainer,\n",
    "                                       debug = False)\n",
    "            synt_pred = pyExp_obj['synthetic_predictions']\n",
    "            \n",
    "            print('{}: found {} defect from total {}'.format(row_index, str(np.sum(synt_pred)), \n",
    "                                                         str(len(synt_pred))))\n",
    "            pickle.dump(pyExp_obj, open(pyExp_dir+proj_name+'_'+explainer+'_'+search_function+'_'+row_index+'.pkl','wb'))\n",
    "        \n",
    "        except Exception as e:\n",
    "            problem_index.append(row_index)\n",
    "            print('-'*100)\n",
    "            print(e)\n",
    "            print('found total {} problematic commit'.format(str(len(problem_index))))\n",
    "            print('-'*100)\n",
    "            \n",
    "#         break\n",
    "\n",
    "        end = time.time()\n",
    "\n",
    "        time_spent.append(str(end-start))\n",
    "#     print(row_index)\n",
    "#     break\n",
    "    \n",
    "    \n",
    "    return time_spent, problem_index"
   ]
  },
  {
   "cell_type": "code",
   "execution_count": 15,
   "metadata": {
    "scrolled": true
   },
   "outputs": [
    {
     "name": "stdout",
     "output_type": "stream",
     "text": [
      "30882: found 764 defect from total 1000\n"
     ]
    },
    {
     "name": "stderr",
     "output_type": "stream",
     "text": [
      "/home/oathaha/.local/lib/python3.8/site-packages/sklearn/linear_model/_sag.py:328: ConvergenceWarning: The max_iter was reached which means the coef_ did not converge\n",
      "  warnings.warn(\"The max_iter was reached which means \"\n"
     ]
    },
    {
     "name": "stdout",
     "output_type": "stream",
     "text": [
      "12299: found 711 defect from total 1000\n",
      "8228: found 664 defect from total 1000\n"
     ]
    },
    {
     "name": "stderr",
     "output_type": "stream",
     "text": [
      "/home/oathaha/.local/lib/python3.8/site-packages/sklearn/linear_model/_sag.py:328: ConvergenceWarning: The max_iter was reached which means the coef_ did not converge\n",
      "  warnings.warn(\"The max_iter was reached which means \"\n"
     ]
    },
    {
     "name": "stdout",
     "output_type": "stream",
     "text": [
      "19970: found 732 defect from total 1000\n"
     ]
    },
    {
     "name": "stderr",
     "output_type": "stream",
     "text": [
      "/home/oathaha/.local/lib/python3.8/site-packages/sklearn/linear_model/_sag.py:328: ConvergenceWarning: The max_iter was reached which means the coef_ did not converge\n",
      "  warnings.warn(\"The max_iter was reached which means \"\n"
     ]
    },
    {
     "name": "stdout",
     "output_type": "stream",
     "text": [
      "6301: found 570 defect from total 1000\n",
      "4568: found 576 defect from total 1000\n",
      "8645: found 579 defect from total 1000\n"
     ]
    },
    {
     "name": "stderr",
     "output_type": "stream",
     "text": [
      "/home/oathaha/.local/lib/python3.8/site-packages/sklearn/linear_model/_sag.py:328: ConvergenceWarning: The max_iter was reached which means the coef_ did not converge\n",
      "  warnings.warn(\"The max_iter was reached which means \"\n"
     ]
    },
    {
     "name": "stdout",
     "output_type": "stream",
     "text": [
      "27290: found 714 defect from total 1000\n"
     ]
    },
    {
     "name": "stderr",
     "output_type": "stream",
     "text": [
      "/home/oathaha/.local/lib/python3.8/site-packages/sklearn/linear_model/_sag.py:328: ConvergenceWarning: The max_iter was reached which means the coef_ did not converge\n",
      "  warnings.warn(\"The max_iter was reached which means \"\n"
     ]
    },
    {
     "name": "stdout",
     "output_type": "stream",
     "text": [
      "896: found 645 defect from total 1000\n"
     ]
    },
    {
     "name": "stderr",
     "output_type": "stream",
     "text": [
      "/home/oathaha/.local/lib/python3.8/site-packages/sklearn/linear_model/_sag.py:328: ConvergenceWarning: The max_iter was reached which means the coef_ did not converge\n",
      "  warnings.warn(\"The max_iter was reached which means \"\n"
     ]
    },
    {
     "name": "stdout",
     "output_type": "stream",
     "text": [
      "26003: found 331 defect from total 1000\n"
     ]
    },
    {
     "name": "stderr",
     "output_type": "stream",
     "text": [
      "/home/oathaha/.local/lib/python3.8/site-packages/sklearn/linear_model/_sag.py:328: ConvergenceWarning: The max_iter was reached which means the coef_ did not converge\n",
      "  warnings.warn(\"The max_iter was reached which means \"\n",
      "/home/oathaha/.local/lib/python3.8/site-packages/sklearn/linear_model/_sag.py:328: ConvergenceWarning: The max_iter was reached which means the coef_ did not converge\n",
      "  warnings.warn(\"The max_iter was reached which means \"\n"
     ]
    },
    {
     "name": "stdout",
     "output_type": "stream",
     "text": [
      "9978: found 260 defect from total 1000\n"
     ]
    },
    {
     "name": "stderr",
     "output_type": "stream",
     "text": [
      "/home/oathaha/.local/lib/python3.8/site-packages/sklearn/linear_model/_sag.py:328: ConvergenceWarning: The max_iter was reached which means the coef_ did not converge\n",
      "  warnings.warn(\"The max_iter was reached which means \"\n",
      "/home/oathaha/.local/lib/python3.8/site-packages/sklearn/linear_model/_sag.py:328: ConvergenceWarning: The max_iter was reached which means the coef_ did not converge\n",
      "  warnings.warn(\"The max_iter was reached which means \"\n"
     ]
    },
    {
     "name": "stdout",
     "output_type": "stream",
     "text": [
      "5991: found 444 defect from total 1000\n"
     ]
    },
    {
     "name": "stderr",
     "output_type": "stream",
     "text": [
      "/home/oathaha/.local/lib/python3.8/site-packages/sklearn/linear_model/_sag.py:328: ConvergenceWarning: The max_iter was reached which means the coef_ did not converge\n",
      "  warnings.warn(\"The max_iter was reached which means \"\n"
     ]
    },
    {
     "name": "stdout",
     "output_type": "stream",
     "text": [
      "979: found 636 defect from total 1000\n",
      "22918: found 163 defect from total 1000\n",
      "22835: found 463 defect from total 1000\n"
     ]
    },
    {
     "name": "stderr",
     "output_type": "stream",
     "text": [
      "/home/oathaha/.local/lib/python3.8/site-packages/sklearn/linear_model/_sag.py:328: ConvergenceWarning: The max_iter was reached which means the coef_ did not converge\n",
      "  warnings.warn(\"The max_iter was reached which means \"\n"
     ]
    },
    {
     "name": "stdout",
     "output_type": "stream",
     "text": [
      "7485: found 518 defect from total 1000\n"
     ]
    },
    {
     "name": "stderr",
     "output_type": "stream",
     "text": [
      "/home/oathaha/.local/lib/python3.8/site-packages/sklearn/linear_model/_sag.py:328: ConvergenceWarning: The max_iter was reached which means the coef_ did not converge\n",
      "  warnings.warn(\"The max_iter was reached which means \"\n"
     ]
    },
    {
     "name": "stdout",
     "output_type": "stream",
     "text": [
      "1761: found 541 defect from total 1000\n"
     ]
    },
    {
     "name": "stderr",
     "output_type": "stream",
     "text": [
      "/home/oathaha/.local/lib/python3.8/site-packages/sklearn/linear_model/_sag.py:328: ConvergenceWarning: The max_iter was reached which means the coef_ did not converge\n",
      "  warnings.warn(\"The max_iter was reached which means \"\n"
     ]
    },
    {
     "name": "stdout",
     "output_type": "stream",
     "text": [
      "27395: found 542 defect from total 1000\n"
     ]
    },
    {
     "name": "stderr",
     "output_type": "stream",
     "text": [
      "/home/oathaha/.local/lib/python3.8/site-packages/sklearn/linear_model/_sag.py:328: ConvergenceWarning: The max_iter was reached which means the coef_ did not converge\n",
      "  warnings.warn(\"The max_iter was reached which means \"\n"
     ]
    },
    {
     "name": "stdout",
     "output_type": "stream",
     "text": [
      "11696: found 567 defect from total 1000\n",
      "23815: found 473 defect from total 1000\n"
     ]
    },
    {
     "name": "stderr",
     "output_type": "stream",
     "text": [
      "/home/oathaha/.local/lib/python3.8/site-packages/sklearn/linear_model/_sag.py:328: ConvergenceWarning: The max_iter was reached which means the coef_ did not converge\n",
      "  warnings.warn(\"The max_iter was reached which means \"\n"
     ]
    },
    {
     "name": "stdout",
     "output_type": "stream",
     "text": [
      "7082: found 391 defect from total 1000\n",
      "31839: found 819 defect from total 1000\n"
     ]
    },
    {
     "name": "stderr",
     "output_type": "stream",
     "text": [
      "/home/oathaha/.local/lib/python3.8/site-packages/sklearn/linear_model/_sag.py:328: ConvergenceWarning: The max_iter was reached which means the coef_ did not converge\n",
      "  warnings.warn(\"The max_iter was reached which means \"\n"
     ]
    },
    {
     "name": "stdout",
     "output_type": "stream",
     "text": [
      "30682: found 453 defect from total 1000\n",
      "1938: found 585 defect from total 1000\n"
     ]
    },
    {
     "name": "stderr",
     "output_type": "stream",
     "text": [
      "/home/oathaha/.local/lib/python3.8/site-packages/sklearn/linear_model/_sag.py:328: ConvergenceWarning: The max_iter was reached which means the coef_ did not converge\n",
      "  warnings.warn(\"The max_iter was reached which means \"\n"
     ]
    },
    {
     "name": "stdout",
     "output_type": "stream",
     "text": [
      "20578: found 742 defect from total 1000\n"
     ]
    },
    {
     "name": "stderr",
     "output_type": "stream",
     "text": [
      "/home/oathaha/.local/lib/python3.8/site-packages/sklearn/linear_model/_sag.py:328: ConvergenceWarning: The max_iter was reached which means the coef_ did not converge\n",
      "  warnings.warn(\"The max_iter was reached which means \"\n"
     ]
    },
    {
     "name": "stdout",
     "output_type": "stream",
     "text": [
      "5374: found 712 defect from total 1000\n"
     ]
    },
    {
     "name": "stderr",
     "output_type": "stream",
     "text": [
      "/home/oathaha/.local/lib/python3.8/site-packages/sklearn/linear_model/_sag.py:328: ConvergenceWarning: The max_iter was reached which means the coef_ did not converge\n",
      "  warnings.warn(\"The max_iter was reached which means \"\n"
     ]
    },
    {
     "name": "stdout",
     "output_type": "stream",
     "text": [
      "19855: found 677 defect from total 1000\n",
      "22111: found 712 defect from total 1000\n",
      "3380: found 350 defect from total 1000\n"
     ]
    },
    {
     "name": "stderr",
     "output_type": "stream",
     "text": [
      "/home/oathaha/.local/lib/python3.8/site-packages/sklearn/linear_model/_sag.py:328: ConvergenceWarning: The max_iter was reached which means the coef_ did not converge\n",
      "  warnings.warn(\"The max_iter was reached which means \"\n",
      "/home/oathaha/.local/lib/python3.8/site-packages/sklearn/linear_model/_sag.py:328: ConvergenceWarning: The max_iter was reached which means the coef_ did not converge\n",
      "  warnings.warn(\"The max_iter was reached which means \"\n"
     ]
    },
    {
     "name": "stdout",
     "output_type": "stream",
     "text": [
      "10688: found 250 defect from total 1000\n"
     ]
    },
    {
     "name": "stderr",
     "output_type": "stream",
     "text": [
      "/home/oathaha/.local/lib/python3.8/site-packages/sklearn/linear_model/_sag.py:328: ConvergenceWarning: The max_iter was reached which means the coef_ did not converge\n",
      "  warnings.warn(\"The max_iter was reached which means \"\n"
     ]
    },
    {
     "name": "stdout",
     "output_type": "stream",
     "text": [
      "27116: found 455 defect from total 1000\n"
     ]
    },
    {
     "name": "stderr",
     "output_type": "stream",
     "text": [
      "/home/oathaha/.local/lib/python3.8/site-packages/sklearn/linear_model/_sag.py:328: ConvergenceWarning: The max_iter was reached which means the coef_ did not converge\n",
      "  warnings.warn(\"The max_iter was reached which means \"\n"
     ]
    },
    {
     "name": "stdout",
     "output_type": "stream",
     "text": [
      "31231: found 693 defect from total 1000\n"
     ]
    },
    {
     "name": "stderr",
     "output_type": "stream",
     "text": [
      "/home/oathaha/.local/lib/python3.8/site-packages/sklearn/linear_model/_sag.py:328: ConvergenceWarning: The max_iter was reached which means the coef_ did not converge\n",
      "  warnings.warn(\"The max_iter was reached which means \"\n"
     ]
    },
    {
     "name": "stdout",
     "output_type": "stream",
     "text": [
      "1910: found 639 defect from total 1000\n",
      "28320: found 648 defect from total 1000\n"
     ]
    },
    {
     "name": "stderr",
     "output_type": "stream",
     "text": [
      "/home/oathaha/.local/lib/python3.8/site-packages/sklearn/linear_model/_sag.py:328: ConvergenceWarning: The max_iter was reached which means the coef_ did not converge\n",
      "  warnings.warn(\"The max_iter was reached which means \"\n"
     ]
    },
    {
     "name": "stdout",
     "output_type": "stream",
     "text": [
      "17951: found 520 defect from total 1000\n"
     ]
    },
    {
     "name": "stderr",
     "output_type": "stream",
     "text": [
      "/home/oathaha/.local/lib/python3.8/site-packages/sklearn/linear_model/_sag.py:328: ConvergenceWarning: The max_iter was reached which means the coef_ did not converge\n",
      "  warnings.warn(\"The max_iter was reached which means \"\n"
     ]
    },
    {
     "name": "stdout",
     "output_type": "stream",
     "text": [
      "18669: found 417 defect from total 1000\n"
     ]
    },
    {
     "name": "stderr",
     "output_type": "stream",
     "text": [
      "/home/oathaha/.local/lib/python3.8/site-packages/sklearn/linear_model/_sag.py:328: ConvergenceWarning: The max_iter was reached which means the coef_ did not converge\n",
      "  warnings.warn(\"The max_iter was reached which means \"\n"
     ]
    },
    {
     "name": "stdout",
     "output_type": "stream",
     "text": [
      "3435: found 428 defect from total 1000\n"
     ]
    },
    {
     "name": "stderr",
     "output_type": "stream",
     "text": [
      "/home/oathaha/.local/lib/python3.8/site-packages/sklearn/linear_model/_sag.py:328: ConvergenceWarning: The max_iter was reached which means the coef_ did not converge\n",
      "  warnings.warn(\"The max_iter was reached which means \"\n"
     ]
    },
    {
     "name": "stdout",
     "output_type": "stream",
     "text": [
      "16525: found 547 defect from total 1000\n",
      "176: found 493 defect from total 1000\n"
     ]
    },
    {
     "name": "stderr",
     "output_type": "stream",
     "text": [
      "/home/oathaha/.local/lib/python3.8/site-packages/sklearn/linear_model/_sag.py:328: ConvergenceWarning: The max_iter was reached which means the coef_ did not converge\n",
      "  warnings.warn(\"The max_iter was reached which means \"\n"
     ]
    },
    {
     "name": "stdout",
     "output_type": "stream",
     "text": [
      "31678: found 717 defect from total 1000\n"
     ]
    },
    {
     "name": "stderr",
     "output_type": "stream",
     "text": [
      "/home/oathaha/.local/lib/python3.8/site-packages/sklearn/linear_model/_sag.py:328: ConvergenceWarning: The max_iter was reached which means the coef_ did not converge\n",
      "  warnings.warn(\"The max_iter was reached which means \"\n"
     ]
    },
    {
     "name": "stdout",
     "output_type": "stream",
     "text": [
      "13064: found 366 defect from total 1000\n",
      "21433: found 646 defect from total 1000\n"
     ]
    },
    {
     "name": "stderr",
     "output_type": "stream",
     "text": [
      "/home/oathaha/.local/lib/python3.8/site-packages/sklearn/linear_model/_sag.py:328: ConvergenceWarning: The max_iter was reached which means the coef_ did not converge\n",
      "  warnings.warn(\"The max_iter was reached which means \"\n",
      "/home/oathaha/.local/lib/python3.8/site-packages/sklearn/linear_model/_sag.py:328: ConvergenceWarning: The max_iter was reached which means the coef_ did not converge\n",
      "  warnings.warn(\"The max_iter was reached which means \"\n"
     ]
    },
    {
     "name": "stdout",
     "output_type": "stream",
     "text": [
      "17023: found 270 defect from total 1000\n"
     ]
    },
    {
     "name": "stderr",
     "output_type": "stream",
     "text": [
      "/home/oathaha/.local/lib/python3.8/site-packages/sklearn/linear_model/_sag.py:328: ConvergenceWarning: The max_iter was reached which means the coef_ did not converge\n",
      "  warnings.warn(\"The max_iter was reached which means \"\n"
     ]
    },
    {
     "name": "stdout",
     "output_type": "stream",
     "text": [
      "18936: found 642 defect from total 1000\n"
     ]
    },
    {
     "name": "stderr",
     "output_type": "stream",
     "text": [
      "/home/oathaha/.local/lib/python3.8/site-packages/sklearn/linear_model/_sag.py:328: ConvergenceWarning: The max_iter was reached which means the coef_ did not converge\n",
      "  warnings.warn(\"The max_iter was reached which means \"\n"
     ]
    },
    {
     "name": "stdout",
     "output_type": "stream",
     "text": [
      "18345: found 542 defect from total 1000\n",
      "16830: found 516 defect from total 1000\n"
     ]
    },
    {
     "name": "stderr",
     "output_type": "stream",
     "text": [
      "/home/oathaha/.local/lib/python3.8/site-packages/sklearn/linear_model/_sag.py:328: ConvergenceWarning: The max_iter was reached which means the coef_ did not converge\n",
      "  warnings.warn(\"The max_iter was reached which means \"\n"
     ]
    },
    {
     "name": "stdout",
     "output_type": "stream",
     "text": [
      "7386: found 612 defect from total 1000\n"
     ]
    },
    {
     "name": "stderr",
     "output_type": "stream",
     "text": [
      "/home/oathaha/.local/lib/python3.8/site-packages/sklearn/linear_model/_sag.py:328: ConvergenceWarning: The max_iter was reached which means the coef_ did not converge\n",
      "  warnings.warn(\"The max_iter was reached which means \"\n"
     ]
    },
    {
     "name": "stdout",
     "output_type": "stream",
     "text": [
      "29746: found 777 defect from total 1000\n"
     ]
    },
    {
     "name": "stderr",
     "output_type": "stream",
     "text": [
      "/home/oathaha/.local/lib/python3.8/site-packages/sklearn/linear_model/_sag.py:328: ConvergenceWarning: The max_iter was reached which means the coef_ did not converge\n",
      "  warnings.warn(\"The max_iter was reached which means \"\n"
     ]
    },
    {
     "name": "stdout",
     "output_type": "stream",
     "text": [
      "26870: found 816 defect from total 1000\n"
     ]
    },
    {
     "name": "stderr",
     "output_type": "stream",
     "text": [
      "/home/oathaha/.local/lib/python3.8/site-packages/sklearn/linear_model/_sag.py:328: ConvergenceWarning: The max_iter was reached which means the coef_ did not converge\n",
      "  warnings.warn(\"The max_iter was reached which means \"\n"
     ]
    },
    {
     "name": "stdout",
     "output_type": "stream",
     "text": [
      "10546: found 603 defect from total 1000\n"
     ]
    },
    {
     "name": "stderr",
     "output_type": "stream",
     "text": [
      "/home/oathaha/.local/lib/python3.8/site-packages/sklearn/linear_model/_sag.py:328: ConvergenceWarning: The max_iter was reached which means the coef_ did not converge\n",
      "  warnings.warn(\"The max_iter was reached which means \"\n"
     ]
    },
    {
     "name": "stdout",
     "output_type": "stream",
     "text": [
      "11463: found 792 defect from total 1000\n"
     ]
    },
    {
     "name": "stderr",
     "output_type": "stream",
     "text": [
      "/home/oathaha/.local/lib/python3.8/site-packages/sklearn/linear_model/_sag.py:328: ConvergenceWarning: The max_iter was reached which means the coef_ did not converge\n",
      "  warnings.warn(\"The max_iter was reached which means \"\n"
     ]
    },
    {
     "name": "stdout",
     "output_type": "stream",
     "text": [
      "19434: found 467 defect from total 1000\n"
     ]
    },
    {
     "name": "stderr",
     "output_type": "stream",
     "text": [
      "/home/oathaha/.local/lib/python3.8/site-packages/sklearn/linear_model/_sag.py:328: ConvergenceWarning: The max_iter was reached which means the coef_ did not converge\n",
      "  warnings.warn(\"The max_iter was reached which means \"\n",
      "/home/oathaha/.local/lib/python3.8/site-packages/sklearn/linear_model/_sag.py:328: ConvergenceWarning: The max_iter was reached which means the coef_ did not converge\n",
      "  warnings.warn(\"The max_iter was reached which means \"\n"
     ]
    },
    {
     "name": "stdout",
     "output_type": "stream",
     "text": [
      "18044: found 569 defect from total 1000\n"
     ]
    },
    {
     "name": "stderr",
     "output_type": "stream",
     "text": [
      "/home/oathaha/.local/lib/python3.8/site-packages/sklearn/linear_model/_sag.py:328: ConvergenceWarning: The max_iter was reached which means the coef_ did not converge\n",
      "  warnings.warn(\"The max_iter was reached which means \"\n"
     ]
    },
    {
     "name": "stdout",
     "output_type": "stream",
     "text": [
      "11191: found 698 defect from total 1000\n",
      "30097: found 674 defect from total 1000\n",
      "20058: found 504 defect from total 1000\n"
     ]
    },
    {
     "name": "stderr",
     "output_type": "stream",
     "text": [
      "/home/oathaha/.local/lib/python3.8/site-packages/sklearn/linear_model/_sag.py:328: ConvergenceWarning: The max_iter was reached which means the coef_ did not converge\n",
      "  warnings.warn(\"The max_iter was reached which means \"\n"
     ]
    },
    {
     "name": "stdout",
     "output_type": "stream",
     "text": [
      "10022: found 339 defect from total 1000\n"
     ]
    },
    {
     "name": "stderr",
     "output_type": "stream",
     "text": [
      "/home/oathaha/.local/lib/python3.8/site-packages/sklearn/linear_model/_sag.py:328: ConvergenceWarning: The max_iter was reached which means the coef_ did not converge\n",
      "  warnings.warn(\"The max_iter was reached which means \"\n",
      "/home/oathaha/.local/lib/python3.8/site-packages/sklearn/linear_model/_sag.py:328: ConvergenceWarning: The max_iter was reached which means the coef_ did not converge\n",
      "  warnings.warn(\"The max_iter was reached which means \"\n"
     ]
    },
    {
     "name": "stdout",
     "output_type": "stream",
     "text": [
      "31897: found 398 defect from total 1000\n"
     ]
    },
    {
     "name": "stderr",
     "output_type": "stream",
     "text": [
      "/home/oathaha/.local/lib/python3.8/site-packages/sklearn/linear_model/_sag.py:328: ConvergenceWarning: The max_iter was reached which means the coef_ did not converge\n",
      "  warnings.warn(\"The max_iter was reached which means \"\n"
     ]
    },
    {
     "name": "stdout",
     "output_type": "stream",
     "text": [
      "29550: found 736 defect from total 1000\n"
     ]
    },
    {
     "name": "stderr",
     "output_type": "stream",
     "text": [
      "/home/oathaha/.local/lib/python3.8/site-packages/sklearn/linear_model/_sag.py:328: ConvergenceWarning: The max_iter was reached which means the coef_ did not converge\n",
      "  warnings.warn(\"The max_iter was reached which means \"\n"
     ]
    },
    {
     "name": "stdout",
     "output_type": "stream",
     "text": [
      "1258: found 678 defect from total 1000\n"
     ]
    },
    {
     "name": "stderr",
     "output_type": "stream",
     "text": [
      "/home/oathaha/.local/lib/python3.8/site-packages/sklearn/linear_model/_sag.py:328: ConvergenceWarning: The max_iter was reached which means the coef_ did not converge\n",
      "  warnings.warn(\"The max_iter was reached which means \"\n",
      "/home/oathaha/.local/lib/python3.8/site-packages/sklearn/linear_model/_sag.py:328: ConvergenceWarning: The max_iter was reached which means the coef_ did not converge\n",
      "  warnings.warn(\"The max_iter was reached which means \"\n"
     ]
    },
    {
     "name": "stdout",
     "output_type": "stream",
     "text": [
      "20677: found 676 defect from total 1000\n",
      "6449: found 350 defect from total 1000\n"
     ]
    },
    {
     "name": "stderr",
     "output_type": "stream",
     "text": [
      "/home/oathaha/.local/lib/python3.8/site-packages/sklearn/linear_model/_sag.py:328: ConvergenceWarning: The max_iter was reached which means the coef_ did not converge\n",
      "  warnings.warn(\"The max_iter was reached which means \"\n"
     ]
    },
    {
     "name": "stdout",
     "output_type": "stream",
     "text": [
      "3860: found 617 defect from total 1000\n"
     ]
    },
    {
     "name": "stderr",
     "output_type": "stream",
     "text": [
      "/home/oathaha/.local/lib/python3.8/site-packages/sklearn/linear_model/_sag.py:328: ConvergenceWarning: The max_iter was reached which means the coef_ did not converge\n",
      "  warnings.warn(\"The max_iter was reached which means \"\n",
      "/home/oathaha/.local/lib/python3.8/site-packages/sklearn/linear_model/_sag.py:328: ConvergenceWarning: The max_iter was reached which means the coef_ did not converge\n",
      "  warnings.warn(\"The max_iter was reached which means \"\n"
     ]
    },
    {
     "name": "stdout",
     "output_type": "stream",
     "text": [
      "14552: found 380 defect from total 1000\n"
     ]
    },
    {
     "name": "stderr",
     "output_type": "stream",
     "text": [
      "/home/oathaha/.local/lib/python3.8/site-packages/sklearn/linear_model/_sag.py:328: ConvergenceWarning: The max_iter was reached which means the coef_ did not converge\n",
      "  warnings.warn(\"The max_iter was reached which means \"\n"
     ]
    },
    {
     "name": "stdout",
     "output_type": "stream",
     "text": [
      "18781: found 458 defect from total 1000\n"
     ]
    },
    {
     "name": "stderr",
     "output_type": "stream",
     "text": [
      "/home/oathaha/.local/lib/python3.8/site-packages/sklearn/linear_model/_sag.py:328: ConvergenceWarning: The max_iter was reached which means the coef_ did not converge\n",
      "  warnings.warn(\"The max_iter was reached which means \"\n"
     ]
    },
    {
     "name": "stdout",
     "output_type": "stream",
     "text": [
      "19245: found 281 defect from total 1000\n"
     ]
    },
    {
     "name": "stderr",
     "output_type": "stream",
     "text": [
      "/home/oathaha/.local/lib/python3.8/site-packages/sklearn/linear_model/_sag.py:328: ConvergenceWarning: The max_iter was reached which means the coef_ did not converge\n",
      "  warnings.warn(\"The max_iter was reached which means \"\n"
     ]
    },
    {
     "name": "stdout",
     "output_type": "stream",
     "text": [
      "26787: found 190 defect from total 1000\n",
      "25797: found 713 defect from total 1000\n"
     ]
    },
    {
     "name": "stderr",
     "output_type": "stream",
     "text": [
      "/home/oathaha/.local/lib/python3.8/site-packages/sklearn/linear_model/_sag.py:328: ConvergenceWarning: The max_iter was reached which means the coef_ did not converge\n",
      "  warnings.warn(\"The max_iter was reached which means \"\n"
     ]
    },
    {
     "name": "stdout",
     "output_type": "stream",
     "text": [
      "3057: found 759 defect from total 1000\n"
     ]
    },
    {
     "name": "stderr",
     "output_type": "stream",
     "text": [
      "/home/oathaha/.local/lib/python3.8/site-packages/sklearn/linear_model/_sag.py:328: ConvergenceWarning: The max_iter was reached which means the coef_ did not converge\n",
      "  warnings.warn(\"The max_iter was reached which means \"\n"
     ]
    },
    {
     "name": "stdout",
     "output_type": "stream",
     "text": [
      "32045: found 731 defect from total 1000\n"
     ]
    },
    {
     "name": "stderr",
     "output_type": "stream",
     "text": [
      "/home/oathaha/.local/lib/python3.8/site-packages/sklearn/linear_model/_sag.py:328: ConvergenceWarning: The max_iter was reached which means the coef_ did not converge\n",
      "  warnings.warn(\"The max_iter was reached which means \"\n"
     ]
    },
    {
     "name": "stdout",
     "output_type": "stream",
     "text": [
      "12161: found 383 defect from total 1000\n"
     ]
    },
    {
     "name": "stderr",
     "output_type": "stream",
     "text": [
      "/home/oathaha/.local/lib/python3.8/site-packages/sklearn/linear_model/_sag.py:328: ConvergenceWarning: The max_iter was reached which means the coef_ did not converge\n",
      "  warnings.warn(\"The max_iter was reached which means \"\n"
     ]
    },
    {
     "name": "stdout",
     "output_type": "stream",
     "text": [
      "15813: found 666 defect from total 1000\n"
     ]
    },
    {
     "name": "stderr",
     "output_type": "stream",
     "text": [
      "/home/oathaha/.local/lib/python3.8/site-packages/sklearn/linear_model/_sag.py:328: ConvergenceWarning: The max_iter was reached which means the coef_ did not converge\n",
      "  warnings.warn(\"The max_iter was reached which means \"\n",
      "/home/oathaha/.local/lib/python3.8/site-packages/sklearn/linear_model/_sag.py:328: ConvergenceWarning: The max_iter was reached which means the coef_ did not converge\n",
      "  warnings.warn(\"The max_iter was reached which means \"\n"
     ]
    },
    {
     "name": "stdout",
     "output_type": "stream",
     "text": [
      "19744: found 229 defect from total 1000\n"
     ]
    },
    {
     "name": "stderr",
     "output_type": "stream",
     "text": [
      "/home/oathaha/.local/lib/python3.8/site-packages/sklearn/linear_model/_sag.py:328: ConvergenceWarning: The max_iter was reached which means the coef_ did not converge\n",
      "  warnings.warn(\"The max_iter was reached which means \"\n"
     ]
    },
    {
     "name": "stdout",
     "output_type": "stream",
     "text": [
      "3944: found 614 defect from total 1000\n",
      "19226: found 662 defect from total 1000\n"
     ]
    },
    {
     "name": "stderr",
     "output_type": "stream",
     "text": [
      "/home/oathaha/.local/lib/python3.8/site-packages/sklearn/linear_model/_sag.py:328: ConvergenceWarning: The max_iter was reached which means the coef_ did not converge\n",
      "  warnings.warn(\"The max_iter was reached which means \"\n"
     ]
    }
   ],
   "source": [
    "time_spent_rand, problem_index_rand = create_pyExplainer_obj('randompertubation', feature_df, test_label,'LRR')\n",
    "pickle.dump(time_spent_rand, open(other_object_dir+proj_name+'_train_time_LRR_randompertubation.pkl','wb'))\n",
    "pickle.dump(problem_index_rand, open(other_object_dir+proj_name+'_problem_index_LRR_randompertubation.pkl','wb'))"
   ]
  },
  {
   "cell_type": "code",
   "execution_count": 16,
   "metadata": {
    "scrolled": true
   },
   "outputs": [
    {
     "name": "stdout",
     "output_type": "stream",
     "text": [
      "30882: found 981 defect from total 2222\n",
      "12299: found 1069 defect from total 2240\n",
      "8228: found 1152 defect from total 2240\n",
      "19970: found 1058 defect from total 2240\n",
      "6301: found 808 defect from total 2240\n",
      "----------------------------------------------------------------------------------------------------\n",
      "Cannot convert non-finite values (NA or inf) to integer\n",
      "found total 1 problematic commit\n",
      "----------------------------------------------------------------------------------------------------\n",
      "8645: found 976 defect from total 2240\n",
      "27290: found 948 defect from total 2240\n",
      "896: found 855 defect from total 2240\n",
      "26003: found 959 defect from total 2240\n",
      "9978: found 848 defect from total 2240\n",
      "5991: found 1248 defect from total 2236\n",
      "979: found 986 defect from total 2240\n",
      "22918: found 1256 defect from total 2117\n",
      "22835: found 1242 defect from total 2164\n",
      "7485: found 1324 defect from total 2138\n",
      "1761: found 1250 defect from total 2240\n",
      "27395: found 1288 defect from total 2147\n",
      "11696: found 1142 defect from total 2151\n",
      "23815: found 1338 defect from total 2191\n",
      "7082: found 1054 defect from total 2192\n",
      "31839: found 1060 defect from total 2188\n",
      "30682: found 940 defect from total 2240\n",
      "----------------------------------------------------------------------------------------------------\n",
      "Cannot convert non-finite values (NA or inf) to integer\n",
      "found total 2 problematic commit\n",
      "----------------------------------------------------------------------------------------------------\n",
      "20578: found 1350 defect from total 2125\n",
      "5374: found 895 defect from total 2240\n",
      "19855: found 978 defect from total 2240\n",
      "22111: found 980 defect from total 2222\n",
      "3380: found 797 defect from total 2240\n",
      "10688: found 780 defect from total 2240\n",
      "27116: found 1016 defect from total 2240\n",
      "31231: found 1169 defect from total 2182\n",
      "1910: found 1288 defect from total 2165\n",
      "28320: found 911 defect from total 2240\n",
      "17951: found 763 defect from total 2240\n",
      "18669: found 1270 defect from total 2240\n",
      "3435: found 883 defect from total 2240\n",
      "16525: found 861 defect from total 2240\n",
      "176: found 1065 defect from total 2234\n",
      "31678: found 920 defect from total 2214\n",
      "13064: found 1005 defect from total 2240\n",
      "21433: found 826 defect from total 2240\n",
      "----------------------------------------------------------------------------------------------------\n",
      "Cannot convert non-finite values (NA or inf) to integer\n",
      "found total 3 problematic commit\n",
      "----------------------------------------------------------------------------------------------------\n",
      "18936: found 1287 defect from total 2130\n",
      "18345: found 1193 defect from total 2171\n",
      "16830: found 1081 defect from total 2240\n",
      "7386: found 1127 defect from total 2240\n",
      "29746: found 1402 defect from total 2120\n",
      "26870: found 933 defect from total 2240\n",
      "10546: found 1363 defect from total 2240\n",
      "11463: found 1204 defect from total 2204\n",
      "19434: found 1293 defect from total 2240\n",
      "18044: found 1037 defect from total 2240\n",
      "11191: found 941 defect from total 2240\n",
      "30097: found 1356 defect from total 2122\n",
      "20058: found 1090 defect from total 2240\n",
      "10022: found 1073 defect from total 2240\n",
      "31897: found 1364 defect from total 2218\n",
      "29550: found 1354 defect from total 2098\n",
      "1258: found 1356 defect from total 2147\n",
      "20677: found 863 defect from total 2214\n",
      "6449: found 1234 defect from total 2240\n",
      "3860: found 1396 defect from total 2137\n",
      "----------------------------------------------------------------------------------------------------\n",
      "Cannot convert non-finite values (NA or inf) to integer\n",
      "found total 4 problematic commit\n",
      "----------------------------------------------------------------------------------------------------\n",
      "----------------------------------------------------------------------------------------------------\n",
      "Cannot convert non-finite values (NA or inf) to integer\n",
      "found total 5 problematic commit\n",
      "----------------------------------------------------------------------------------------------------\n",
      "19245: found 1279 defect from total 2109\n",
      "26787: found 851 defect from total 2240\n",
      "25797: found 1284 defect from total 2150\n",
      "3057: found 1179 defect from total 2213\n",
      "32045: found 750 defect from total 2240\n",
      "12161: found 1181 defect from total 2240\n",
      "15813: found 1163 defect from total 2240\n",
      "19744: found 753 defect from total 2240\n",
      "3944: found 1275 defect from total 2201\n",
      "19226: found 1088 defect from total 2240\n"
     ]
    }
   ],
   "source": [
    "time_spent_ci, problem_index_ci = create_pyExplainer_obj('crossoverinterpolation', feature_df, test_label)\n",
    "pickle.dump(time_spent_ci, open(other_object_dir+proj_name+'_train_time_LRR_crossoverinterpolation.pkl','wb'))\n",
    "pickle.dump(problem_index_ci, open(other_object_dir+proj_name+'_problem_index_LRR_crossoverinterpolation.pkl','wb'))"
   ]
  },
  {
   "cell_type": "code",
   "execution_count": null,
   "metadata": {},
   "outputs": [],
   "source": []
  },
  {
   "cell_type": "markdown",
   "metadata": {},
   "source": [
    "## Just for testing"
   ]
  },
  {
   "cell_type": "code",
   "execution_count": 19,
   "metadata": {},
   "outputs": [
    {
     "name": "stdout",
     "output_type": "stream",
     "text": [
      "0\n"
     ]
    }
   ],
   "source": [
    "# display(feature_df)\n",
    "# for c in feature_df:\n",
    "#     print(c)\n",
    "\n",
    "for k in range(0,1):\n",
    "    print(k)"
   ]
  },
  {
   "cell_type": "code",
   "execution_count": 20,
   "metadata": {
    "scrolled": true
   },
   "outputs": [],
   "source": [
    "# test feature binarizer\n",
    "# from pyexplainer.features import *\n",
    "# fb = FeatureBinarizer(negations=True)\n",
    "# fb.fit(x_train)\n",
    "# display(fb.transform(feature_df))"
   ]
  },
  {
   "cell_type": "code",
   "execution_count": 31,
   "metadata": {},
   "outputs": [],
   "source": [
    "search_function='randompertubation'\n",
    "i = 10\n",
    "\n",
    "X_explain = feature_df.iloc[[i]]\n",
    "y_explain = test_label.iloc[[i]]\n",
    "\n",
    "row_index = str(X_explain.index[0])\n",
    "\n",
    "start = time.time()\n",
    "\n",
    "start = time.time()\n",
    "\n",
    "pyExp_obj = pyExp.explain(X_explain,\n",
    "                           y_explain,\n",
    "                           search_function = search_function, \n",
    "                           top_k = 1000,\n",
    "                           max_rules=2000, \n",
    "                           max_iter =None, \n",
    "                           cv=5,\n",
    "                           explainer='LRR',\n",
    "                           debug = False)"
   ]
  },
  {
   "cell_type": "code",
   "execution_count": 32,
   "metadata": {},
   "outputs": [
    {
     "name": "stdout",
     "output_type": "stream",
     "text": [
      "dict_keys(['synthetic_data', 'synthetic_data_fb', 'synthetic_predictions', 'X_explain', 'y_explain', 'X_explain_fb', 'indep', 'dep', 'local_model'])\n"
     ]
    }
   ],
   "source": [
    "print(pyExp_obj.keys())"
   ]
  },
  {
   "cell_type": "code",
   "execution_count": 33,
   "metadata": {},
   "outputs": [
    {
     "data": {
      "text/html": [
       "<div>\n",
       "<style scoped>\n",
       "    .dataframe tbody tr th:only-of-type {\n",
       "        vertical-align: middle;\n",
       "    }\n",
       "\n",
       "    .dataframe tbody tr th {\n",
       "        vertical-align: top;\n",
       "    }\n",
       "\n",
       "    .dataframe thead tr th {\n",
       "        text-align: left;\n",
       "    }\n",
       "</style>\n",
       "<table border=\"1\" class=\"dataframe\">\n",
       "  <thead>\n",
       "    <tr>\n",
       "      <th>feature</th>\n",
       "      <th colspan=\"9\" halign=\"left\">la</th>\n",
       "      <th>ld</th>\n",
       "      <th>...</th>\n",
       "      <th>asawr</th>\n",
       "      <th colspan=\"9\" halign=\"left\">rsawr</th>\n",
       "    </tr>\n",
       "    <tr>\n",
       "      <th>operation</th>\n",
       "      <th colspan=\"9\" halign=\"left\">&lt;=</th>\n",
       "      <th>&lt;=</th>\n",
       "      <th>...</th>\n",
       "      <th>&lt;=</th>\n",
       "      <th colspan=\"9\" halign=\"left\">&lt;=</th>\n",
       "    </tr>\n",
       "    <tr>\n",
       "      <th>value</th>\n",
       "      <th>1.000000</th>\n",
       "      <th>2.000000</th>\n",
       "      <th>5.000000</th>\n",
       "      <th>9.000000</th>\n",
       "      <th>17.000000</th>\n",
       "      <th>27.000000</th>\n",
       "      <th>44.000000</th>\n",
       "      <th>76.000000</th>\n",
       "      <th>163.000000</th>\n",
       "      <th>0.000000</th>\n",
       "      <th>...</th>\n",
       "      <th>0.433365</th>\n",
       "      <th>0.180553</th>\n",
       "      <th>0.256410</th>\n",
       "      <th>0.319625</th>\n",
       "      <th>0.375489</th>\n",
       "      <th>0.428753</th>\n",
       "      <th>0.481633</th>\n",
       "      <th>0.575898</th>\n",
       "      <th>0.707838</th>\n",
       "      <th>0.848712</th>\n",
       "    </tr>\n",
       "  </thead>\n",
       "  <tbody>\n",
       "    <tr>\n",
       "      <th>0</th>\n",
       "      <td>1</td>\n",
       "      <td>1</td>\n",
       "      <td>1</td>\n",
       "      <td>1</td>\n",
       "      <td>1</td>\n",
       "      <td>1</td>\n",
       "      <td>1</td>\n",
       "      <td>1</td>\n",
       "      <td>1</td>\n",
       "      <td>1</td>\n",
       "      <td>...</td>\n",
       "      <td>1</td>\n",
       "      <td>1</td>\n",
       "      <td>1</td>\n",
       "      <td>1</td>\n",
       "      <td>1</td>\n",
       "      <td>1</td>\n",
       "      <td>1</td>\n",
       "      <td>1</td>\n",
       "      <td>1</td>\n",
       "      <td>1</td>\n",
       "    </tr>\n",
       "    <tr>\n",
       "      <th>1</th>\n",
       "      <td>1</td>\n",
       "      <td>1</td>\n",
       "      <td>1</td>\n",
       "      <td>1</td>\n",
       "      <td>1</td>\n",
       "      <td>1</td>\n",
       "      <td>1</td>\n",
       "      <td>1</td>\n",
       "      <td>1</td>\n",
       "      <td>0</td>\n",
       "      <td>...</td>\n",
       "      <td>1</td>\n",
       "      <td>0</td>\n",
       "      <td>0</td>\n",
       "      <td>0</td>\n",
       "      <td>1</td>\n",
       "      <td>1</td>\n",
       "      <td>1</td>\n",
       "      <td>1</td>\n",
       "      <td>1</td>\n",
       "      <td>1</td>\n",
       "    </tr>\n",
       "    <tr>\n",
       "      <th>2</th>\n",
       "      <td>0</td>\n",
       "      <td>1</td>\n",
       "      <td>1</td>\n",
       "      <td>1</td>\n",
       "      <td>1</td>\n",
       "      <td>1</td>\n",
       "      <td>1</td>\n",
       "      <td>1</td>\n",
       "      <td>1</td>\n",
       "      <td>0</td>\n",
       "      <td>...</td>\n",
       "      <td>0</td>\n",
       "      <td>0</td>\n",
       "      <td>0</td>\n",
       "      <td>0</td>\n",
       "      <td>0</td>\n",
       "      <td>0</td>\n",
       "      <td>0</td>\n",
       "      <td>0</td>\n",
       "      <td>0</td>\n",
       "      <td>0</td>\n",
       "    </tr>\n",
       "    <tr>\n",
       "      <th>3</th>\n",
       "      <td>0</td>\n",
       "      <td>0</td>\n",
       "      <td>1</td>\n",
       "      <td>1</td>\n",
       "      <td>1</td>\n",
       "      <td>1</td>\n",
       "      <td>1</td>\n",
       "      <td>1</td>\n",
       "      <td>1</td>\n",
       "      <td>0</td>\n",
       "      <td>...</td>\n",
       "      <td>0</td>\n",
       "      <td>0</td>\n",
       "      <td>0</td>\n",
       "      <td>0</td>\n",
       "      <td>0</td>\n",
       "      <td>0</td>\n",
       "      <td>0</td>\n",
       "      <td>0</td>\n",
       "      <td>0</td>\n",
       "      <td>0</td>\n",
       "    </tr>\n",
       "    <tr>\n",
       "      <th>4</th>\n",
       "      <td>0</td>\n",
       "      <td>1</td>\n",
       "      <td>1</td>\n",
       "      <td>1</td>\n",
       "      <td>1</td>\n",
       "      <td>1</td>\n",
       "      <td>1</td>\n",
       "      <td>1</td>\n",
       "      <td>1</td>\n",
       "      <td>0</td>\n",
       "      <td>...</td>\n",
       "      <td>0</td>\n",
       "      <td>0</td>\n",
       "      <td>0</td>\n",
       "      <td>0</td>\n",
       "      <td>0</td>\n",
       "      <td>0</td>\n",
       "      <td>0</td>\n",
       "      <td>0</td>\n",
       "      <td>0</td>\n",
       "      <td>0</td>\n",
       "    </tr>\n",
       "    <tr>\n",
       "      <th>...</th>\n",
       "      <td>...</td>\n",
       "      <td>...</td>\n",
       "      <td>...</td>\n",
       "      <td>...</td>\n",
       "      <td>...</td>\n",
       "      <td>...</td>\n",
       "      <td>...</td>\n",
       "      <td>...</td>\n",
       "      <td>...</td>\n",
       "      <td>...</td>\n",
       "      <td>...</td>\n",
       "      <td>...</td>\n",
       "      <td>...</td>\n",
       "      <td>...</td>\n",
       "      <td>...</td>\n",
       "      <td>...</td>\n",
       "      <td>...</td>\n",
       "      <td>...</td>\n",
       "      <td>...</td>\n",
       "      <td>...</td>\n",
       "      <td>...</td>\n",
       "    </tr>\n",
       "    <tr>\n",
       "      <th>995</th>\n",
       "      <td>1</td>\n",
       "      <td>1</td>\n",
       "      <td>1</td>\n",
       "      <td>1</td>\n",
       "      <td>1</td>\n",
       "      <td>1</td>\n",
       "      <td>1</td>\n",
       "      <td>1</td>\n",
       "      <td>1</td>\n",
       "      <td>0</td>\n",
       "      <td>...</td>\n",
       "      <td>1</td>\n",
       "      <td>0</td>\n",
       "      <td>0</td>\n",
       "      <td>0</td>\n",
       "      <td>1</td>\n",
       "      <td>1</td>\n",
       "      <td>1</td>\n",
       "      <td>1</td>\n",
       "      <td>1</td>\n",
       "      <td>1</td>\n",
       "    </tr>\n",
       "    <tr>\n",
       "      <th>996</th>\n",
       "      <td>1</td>\n",
       "      <td>1</td>\n",
       "      <td>1</td>\n",
       "      <td>1</td>\n",
       "      <td>1</td>\n",
       "      <td>1</td>\n",
       "      <td>1</td>\n",
       "      <td>1</td>\n",
       "      <td>1</td>\n",
       "      <td>1</td>\n",
       "      <td>...</td>\n",
       "      <td>1</td>\n",
       "      <td>1</td>\n",
       "      <td>1</td>\n",
       "      <td>1</td>\n",
       "      <td>1</td>\n",
       "      <td>1</td>\n",
       "      <td>1</td>\n",
       "      <td>1</td>\n",
       "      <td>1</td>\n",
       "      <td>1</td>\n",
       "    </tr>\n",
       "    <tr>\n",
       "      <th>997</th>\n",
       "      <td>1</td>\n",
       "      <td>1</td>\n",
       "      <td>1</td>\n",
       "      <td>1</td>\n",
       "      <td>1</td>\n",
       "      <td>1</td>\n",
       "      <td>1</td>\n",
       "      <td>1</td>\n",
       "      <td>1</td>\n",
       "      <td>0</td>\n",
       "      <td>...</td>\n",
       "      <td>1</td>\n",
       "      <td>1</td>\n",
       "      <td>1</td>\n",
       "      <td>1</td>\n",
       "      <td>1</td>\n",
       "      <td>1</td>\n",
       "      <td>1</td>\n",
       "      <td>1</td>\n",
       "      <td>1</td>\n",
       "      <td>1</td>\n",
       "    </tr>\n",
       "    <tr>\n",
       "      <th>998</th>\n",
       "      <td>1</td>\n",
       "      <td>1</td>\n",
       "      <td>1</td>\n",
       "      <td>1</td>\n",
       "      <td>1</td>\n",
       "      <td>1</td>\n",
       "      <td>1</td>\n",
       "      <td>1</td>\n",
       "      <td>1</td>\n",
       "      <td>1</td>\n",
       "      <td>...</td>\n",
       "      <td>1</td>\n",
       "      <td>1</td>\n",
       "      <td>1</td>\n",
       "      <td>1</td>\n",
       "      <td>1</td>\n",
       "      <td>1</td>\n",
       "      <td>1</td>\n",
       "      <td>1</td>\n",
       "      <td>1</td>\n",
       "      <td>1</td>\n",
       "    </tr>\n",
       "    <tr>\n",
       "      <th>999</th>\n",
       "      <td>1</td>\n",
       "      <td>1</td>\n",
       "      <td>1</td>\n",
       "      <td>1</td>\n",
       "      <td>1</td>\n",
       "      <td>1</td>\n",
       "      <td>1</td>\n",
       "      <td>1</td>\n",
       "      <td>1</td>\n",
       "      <td>1</td>\n",
       "      <td>...</td>\n",
       "      <td>1</td>\n",
       "      <td>1</td>\n",
       "      <td>1</td>\n",
       "      <td>1</td>\n",
       "      <td>1</td>\n",
       "      <td>1</td>\n",
       "      <td>1</td>\n",
       "      <td>1</td>\n",
       "      <td>1</td>\n",
       "      <td>1</td>\n",
       "    </tr>\n",
       "  </tbody>\n",
       "</table>\n",
       "<p>1000 rows × 165 columns</p>\n",
       "</div>"
      ],
      "text/plain": [
       "feature           la                                                         \\\n",
       "operation         <=                                                          \n",
       "value     1.000000   2.000000   5.000000   9.000000   17.000000  27.000000    \n",
       "0                  1          1          1          1          1          1   \n",
       "1                  1          1          1          1          1          1   \n",
       "2                  0          1          1          1          1          1   \n",
       "3                  0          0          1          1          1          1   \n",
       "4                  0          1          1          1          1          1   \n",
       "..               ...        ...        ...        ...        ...        ...   \n",
       "995                1          1          1          1          1          1   \n",
       "996                1          1          1          1          1          1   \n",
       "997                1          1          1          1          1          1   \n",
       "998                1          1          1          1          1          1   \n",
       "999                1          1          1          1          1          1   \n",
       "\n",
       "feature                                            ld  ...      asawr  \\\n",
       "operation                                          <=  ...         <=   \n",
       "value     44.000000  76.000000  163.000000 0.000000    ... 0.433365     \n",
       "0                  1          1          1          1  ...          1   \n",
       "1                  1          1          1          0  ...          1   \n",
       "2                  1          1          1          0  ...          0   \n",
       "3                  1          1          1          0  ...          0   \n",
       "4                  1          1          1          0  ...          0   \n",
       "..               ...        ...        ...        ...  ...        ...   \n",
       "995                1          1          1          0  ...          1   \n",
       "996                1          1          1          1  ...          1   \n",
       "997                1          1          1          0  ...          1   \n",
       "998                1          1          1          1  ...          1   \n",
       "999                1          1          1          1  ...          1   \n",
       "\n",
       "feature        rsawr                                                         \\\n",
       "operation         <=                                                          \n",
       "value     0.180553   0.256410   0.319625   0.375489   0.428753   0.481633     \n",
       "0                  1          1          1          1          1          1   \n",
       "1                  0          0          0          1          1          1   \n",
       "2                  0          0          0          0          0          0   \n",
       "3                  0          0          0          0          0          0   \n",
       "4                  0          0          0          0          0          0   \n",
       "..               ...        ...        ...        ...        ...        ...   \n",
       "995                0          0          0          1          1          1   \n",
       "996                1          1          1          1          1          1   \n",
       "997                1          1          1          1          1          1   \n",
       "998                1          1          1          1          1          1   \n",
       "999                1          1          1          1          1          1   \n",
       "\n",
       "feature                                     \n",
       "operation                                   \n",
       "value     0.575898   0.707838   0.848712    \n",
       "0                  1          1          1  \n",
       "1                  1          1          1  \n",
       "2                  0          0          0  \n",
       "3                  0          0          0  \n",
       "4                  0          0          0  \n",
       "..               ...        ...        ...  \n",
       "995                1          1          1  \n",
       "996                1          1          1  \n",
       "997                1          1          1  \n",
       "998                1          1          1  \n",
       "999                1          1          1  \n",
       "\n",
       "[1000 rows x 165 columns]"
      ]
     },
     "metadata": {},
     "output_type": "display_data"
    }
   ],
   "source": [
    "display(pyExp_obj['synthetic_data_fb'])"
   ]
  },
  {
   "cell_type": "markdown",
   "metadata": {},
   "source": [
    "### sample code for RQ1"
   ]
  },
  {
   "cell_type": "code",
   "execution_count": 26,
   "metadata": {},
   "outputs": [],
   "source": [
    "synthetic_instances = pyExp_obj['synthetic_data']\n",
    "sample_instance = pyExp_obj['X_explain']"
   ]
  },
  {
   "cell_type": "code",
   "execution_count": 23,
   "metadata": {},
   "outputs": [],
   "source": [
    "def agg_list(val):\n",
    "    return np.mean(val), np.median(val), np.max(val)\n",
    "\n",
    "cos_sim = cosine_similarity(sample_instance.values.reshape(1,-1), synthetic_instances.values)[0]\n",
    "euclid_dist = euclidean_distances(sample_instance.values.reshape(1,-1), synthetic_instances.values)[0]"
   ]
  },
  {
   "cell_type": "markdown",
   "metadata": {},
   "source": [
    "### sample code for RQ2"
   ]
  },
  {
   "cell_type": "code",
   "execution_count": 35,
   "metadata": {},
   "outputs": [
    {
     "name": "stdout",
     "output_type": "stream",
     "text": [
      "[False] [0.06562197]\n"
     ]
    }
   ],
   "source": [
    "'''get prediction from global model then compare with result obtained from model (but how to compare??)'''\n",
    "\n",
    "local_model = pyExp_obj['local_model']\n",
    "'''In case pyExp uses logistic rule regression'''\n",
    "fb_sample_instance = pyExp.feature_binarizer.transform(sample_instance)\n",
    "# print(pyExp.feature_binarizer.transform(sample_instance))\n",
    "local_pred = local_model.predict(fb_sample_instance)\n",
    "local_pred_prob = local_model.predict_proba(fb_sample_instance)\n",
    "\n",
    "'''In case pyExp uses RuleFit'''\n",
    "# local_pred = local_model.predict(sample_instance)\n",
    "# local_pred_prob = local_model.predict_proba(sample_instance)\n",
    "\n",
    "print(local_pred, local_pred_prob)"
   ]
  },
  {
   "cell_type": "code",
   "execution_count": null,
   "metadata": {},
   "outputs": [],
   "source": []
  },
  {
   "cell_type": "code",
   "execution_count": null,
   "metadata": {},
   "outputs": [],
   "source": []
  },
  {
   "cell_type": "code",
   "execution_count": 44,
   "metadata": {
    "scrolled": true
   },
   "outputs": [
    {
     "name": "stdout",
     "output_type": "stream",
     "text": [
      "building LRR model\n"
     ]
    },
    {
     "name": "stderr",
     "output_type": "stream",
     "text": [
      "/home/oathaha/.local/lib/python3.8/site-packages/sklearn/linear_model/_sag.py:328: ConvergenceWarning: The max_iter was reached which means the coef_ did not converge\n",
      "  warnings.warn(\"The max_iter was reached which means \"\n"
     ]
    },
    {
     "name": "stdout",
     "output_type": "stream",
     "text": [
      "time spent to train LRR: 0.3639814853668213 secs\n",
      "------------------Explanation from local model-------------------------\n",
      "           rule coefficient\n",
      "0   (intercept)    0.926495\n",
      "1  nrev <= 1.00    -11.2576\n",
      "2    nd <= 1.00    -3.34054\n",
      "----------------------------------------------------------------------------------------------------\n",
      "building LRR model\n"
     ]
    },
    {
     "name": "stderr",
     "output_type": "stream",
     "text": [
      "/home/oathaha/.local/lib/python3.8/site-packages/sklearn/linear_model/_sag.py:328: ConvergenceWarning: The max_iter was reached which means the coef_ did not converge\n",
      "  warnings.warn(\"The max_iter was reached which means \"\n"
     ]
    },
    {
     "name": "stdout",
     "output_type": "stream",
     "text": [
      "time spent to train LRR: 0.39341306686401367 secs\n",
      "------------------Explanation from local model-------------------------\n",
      "            rule coefficient\n",
      "0    (intercept)    -4.82297\n",
      "1   nrev <= 1.00    -21.7674\n",
      "2    ent <= 0.90      11.037\n",
      "3  asawr <= 0.16     2.48033\n",
      "4    nuc <= 3.00     2.48033\n",
      "----------------------------------------------------------------------------------------------------\n",
      "building LRR model\n"
     ]
    },
    {
     "name": "stderr",
     "output_type": "stream",
     "text": [
      "/home/oathaha/.local/lib/python3.8/site-packages/sklearn/linear_model/_sag.py:328: ConvergenceWarning: The max_iter was reached which means the coef_ did not converge\n",
      "  warnings.warn(\"The max_iter was reached which means \"\n"
     ]
    },
    {
     "name": "stdout",
     "output_type": "stream",
     "text": [
      "time spent to train LRR: 0.4327559471130371 secs\n",
      "------------------Explanation from local model-------------------------\n",
      "           rule coefficient\n",
      "0   (intercept)    -9.12203\n",
      "1  nrev <= 2.00     12.1779\n",
      "2  nrev <= 1.00    -7.51396\n",
      "3   ent <= 0.63    -7.51396\n",
      "----------------------------------------------------------------------------------------------------\n",
      "building LRR model\n",
      "----------------------------------------------------------------------------------------------------\n",
      "there is only 1 class in the generated instances\n",
      "----------------------------------------------------------------------------------------------------\n",
      "building LRR model\n"
     ]
    },
    {
     "name": "stderr",
     "output_type": "stream",
     "text": [
      "/home/oathaha/.local/lib/python3.8/site-packages/sklearn/linear_model/_sag.py:328: ConvergenceWarning: The max_iter was reached which means the coef_ did not converge\n",
      "  warnings.warn(\"The max_iter was reached which means \"\n",
      "/home/oathaha/.local/lib/python3.8/site-packages/sklearn/linear_model/_sag.py:328: ConvergenceWarning: The max_iter was reached which means the coef_ did not converge\n",
      "  warnings.warn(\"The max_iter was reached which means \"\n"
     ]
    },
    {
     "name": "stdout",
     "output_type": "stream",
     "text": [
      "time spent to train LRR: 0.4454691410064697 secs\n",
      "------------------Explanation from local model-------------------------\n",
      "            rule coefficient\n",
      "0    (intercept)    0.721185\n",
      "1   nrev <= 1.00    -8.48336\n",
      "2  asawr <= 0.05    -7.43149\n",
      "----------------------------------------------------------------------------------------------------\n",
      "building LRR model\n",
      "time spent to train LRR: 0.15939950942993164 secs\n",
      "------------------Explanation from local model-------------------------\n",
      "          rule coefficient\n",
      "0  (intercept)    -3.74222\n",
      "----------------------------------------------------------------------------------------------------\n",
      "building LRR model\n"
     ]
    },
    {
     "name": "stderr",
     "output_type": "stream",
     "text": [
      "/home/oathaha/.local/lib/python3.8/site-packages/sklearn/linear_model/_sag.py:328: ConvergenceWarning: The max_iter was reached which means the coef_ did not converge\n",
      "  warnings.warn(\"The max_iter was reached which means \"\n",
      "/home/oathaha/.local/lib/python3.8/site-packages/sklearn/linear_model/_sag.py:328: ConvergenceWarning: The max_iter was reached which means the coef_ did not converge\n",
      "  warnings.warn(\"The max_iter was reached which means \"\n"
     ]
    },
    {
     "name": "stdout",
     "output_type": "stream",
     "text": [
      "time spent to train LRR: 0.511441707611084 secs\n",
      "------------------Explanation from local model-------------------------\n",
      "           rule coefficient\n",
      "0   (intercept)    -9.11008\n",
      "1  nrev <= 2.00      14.726\n",
      "2  nrev <= 1.00    -9.90251\n",
      "3   ent <= 0.00    -8.33679\n",
      "----------------------------------------------------------------------------------------------------\n",
      "building LRR model\n"
     ]
    },
    {
     "name": "stderr",
     "output_type": "stream",
     "text": [
      "/home/oathaha/.local/lib/python3.8/site-packages/sklearn/linear_model/_sag.py:328: ConvergenceWarning: The max_iter was reached which means the coef_ did not converge\n",
      "  warnings.warn(\"The max_iter was reached which means \"\n"
     ]
    },
    {
     "name": "stdout",
     "output_type": "stream",
     "text": [
      "time spent to train LRR: 0.4734790325164795 secs\n",
      "------------------Explanation from local model-------------------------\n",
      "            rule coefficient\n",
      "0    (intercept)    -10.4348\n",
      "1   nrev <= 1.00    -15.8551\n",
      "2  asawr <= 0.09     15.7259\n",
      "----------------------------------------------------------------------------------------------------\n",
      "building LRR model\n",
      "time spent to train LRR: 0.14858174324035645 secs\n",
      "------------------Explanation from local model-------------------------\n",
      "          rule coefficient\n",
      "0  (intercept)    -2.90924\n",
      "----------------------------------------------------------------------------------------------------\n",
      "building LRR model\n",
      "time spent to train LRR: 0.5116839408874512 secs\n",
      "------------------Explanation from local model-------------------------\n",
      "            rule coefficient\n",
      "0    (intercept)     1.11111\n",
      "1     ld <= 0.00    -11.0162\n",
      "2   nrev <= 1.00     -2.5054\n",
      "3  asawr <= 0.00   -0.249276\n",
      "4  asawr <= 0.00   -0.249276\n",
      "----------------------------------------------------------------------------------------------------\n"
     ]
    },
    {
     "name": "stderr",
     "output_type": "stream",
     "text": [
      "/home/oathaha/.local/lib/python3.8/site-packages/sklearn/linear_model/_sag.py:328: ConvergenceWarning: The max_iter was reached which means the coef_ did not converge\n",
      "  warnings.warn(\"The max_iter was reached which means \"\n",
      "/home/oathaha/.local/lib/python3.8/site-packages/sklearn/linear_model/_sag.py:328: ConvergenceWarning: The max_iter was reached which means the coef_ did not converge\n",
      "  warnings.warn(\"The max_iter was reached which means \"\n"
     ]
    }
   ],
   "source": [
    "# sample LRR when used with random perturbation\n",
    "\n",
    "search_function='randompertubation'\n",
    "\n",
    "for i in [3,5,7,20,50,100,83,25,163,127]:\n",
    "    X_explain = feature_df.iloc[[i]]\n",
    "    y_explain = test_label.iloc[[i]]\n",
    "\n",
    "    row_index = str(X_explain.index[0])\n",
    "\n",
    "    start = time.time()\n",
    "\n",
    "    start = time.time()\n",
    "    try:\n",
    "        pyExp_obj = pyExp.explain(X_explain,\n",
    "                                   y_explain,\n",
    "                                   search_function = search_function, \n",
    "                                   top_k = 1000,\n",
    "                                   max_rules=2000, \n",
    "                                   max_iter =None, \n",
    "                                   cv=5,\n",
    "                                   explainer='LRR',\n",
    "                                   debug = False)\n",
    "        end = time.time()\n",
    "        print('time spent to train LRR:',str(end-start),'secs')\n",
    "\n",
    "        local_model = pyExp_obj['local_model']\n",
    "        print('------------------Explanation from local model-------------------------')\n",
    "        print(local_model.explain())\n",
    "        print('-'*100)\n",
    "    except:\n",
    "        print('-'*100)\n",
    "        print('there is only 1 class in the generated instances')\n",
    "        print('-'*100)\n",
    "    "
   ]
  },
  {
   "cell_type": "code",
   "execution_count": 17,
   "metadata": {},
   "outputs": [
    {
     "ename": "NameError",
     "evalue": "name 'pyExp_obj' is not defined",
     "output_type": "error",
     "traceback": [
      "\u001b[0;31m---------------------------------------------------------------------------\u001b[0m",
      "\u001b[0;31mNameError\u001b[0m                                 Traceback (most recent call last)",
      "\u001b[0;32m<ipython-input-17-68b2dae1621d>\u001b[0m in \u001b[0;36m<module>\u001b[0;34m\u001b[0m\n\u001b[0;32m----> 1\u001b[0;31m \u001b[0mprint\u001b[0m\u001b[0;34m(\u001b[0m\u001b[0mpyExp_obj\u001b[0m\u001b[0;34m.\u001b[0m\u001b[0mkeys\u001b[0m\u001b[0;34m(\u001b[0m\u001b[0;34m)\u001b[0m\u001b[0;34m)\u001b[0m\u001b[0;34m\u001b[0m\u001b[0;34m\u001b[0m\u001b[0m\n\u001b[0m",
      "\u001b[0;31mNameError\u001b[0m: name 'pyExp_obj' is not defined"
     ]
    }
   ],
   "source": [
    "print(pyExp_obj.keys())"
   ]
  },
  {
   "cell_type": "code",
   "execution_count": 42,
   "metadata": {},
   "outputs": [
    {
     "name": "stdout",
     "output_type": "stream",
     "text": [
      "building LRR model\n",
      "time spent to train LRR: 2.72156023979187 secs\n",
      "------------------Explanation from local model-------------------------\n",
      "          rule coefficient\n",
      "0  (intercept)    0.849159\n",
      "1  la <= 27.00    -1.38287\n",
      "2  la <= 44.00   -0.769765\n",
      "----------------------------------------------------------------------------------------------------\n",
      "building LRR model\n",
      "time spent to train LRR: 2.8035364151000977 secs\n",
      "------------------Explanation from local model-------------------------\n",
      "          rule coefficient\n",
      "0  (intercept)    0.676163\n",
      "1  la <= 44.00     -1.1893\n",
      "----------------------------------------------------------------------------------------------------\n",
      "building LRR model\n",
      "time spent to train LRR: 2.8284826278686523 secs\n",
      "------------------Explanation from local model-------------------------\n",
      "          rule coefficient\n",
      "0  (intercept)     1.26522\n",
      "1  la <= 44.00    -1.39631\n",
      "2  la <= 76.00   -0.731139\n",
      "----------------------------------------------------------------------------------------------------\n",
      "building LRR model\n",
      "time spent to train LRR: 2.751710891723633 secs\n",
      "------------------Explanation from local model-------------------------\n",
      "          rule coefficient\n",
      "0  (intercept)     1.26059\n",
      "1  la <= 76.00    -2.27053\n",
      "----------------------------------------------------------------------------------------------------\n",
      "building LRR model\n",
      "time spent to train LRR: 2.7709462642669678 secs\n",
      "------------------Explanation from local model-------------------------\n",
      "          rule coefficient\n",
      "0  (intercept)     0.18829\n",
      "----------------------------------------------------------------------------------------------------\n",
      "building LRR model\n",
      "time spent to train LRR: 2.7685439586639404 secs\n",
      "------------------Explanation from local model-------------------------\n",
      "          rule coefficient\n",
      "0  (intercept)     1.28342\n",
      "1  la <= 44.00    -2.18235\n",
      "2  la <= 76.00   -0.503556\n",
      "----------------------------------------------------------------------------------------------------\n",
      "building LRR model\n",
      "time spent to train LRR: 2.803158760070801 secs\n",
      "------------------Explanation from local model-------------------------\n",
      "          rule coefficient\n",
      "0  (intercept)    0.794476\n",
      "1  la <= 44.00     -1.5145\n",
      "----------------------------------------------------------------------------------------------------\n",
      "building LRR model\n",
      "time spent to train LRR: 2.850830554962158 secs\n",
      "------------------Explanation from local model-------------------------\n",
      "          rule coefficient\n",
      "0  (intercept)     1.64198\n",
      "1  la <= 44.00    -2.84544\n",
      "2  la <= 76.00   -0.678198\n",
      "----------------------------------------------------------------------------------------------------\n",
      "building LRR model\n",
      "time spent to train LRR: 2.716451644897461 secs\n",
      "------------------Explanation from local model-------------------------\n",
      "          rule coefficient\n",
      "0  (intercept)      1.2357\n",
      "1  la <= 44.00    -1.38724\n",
      "2  la <= 76.00   -0.847946\n",
      "----------------------------------------------------------------------------------------------------\n",
      "building LRR model\n",
      "time spent to train LRR: 2.6910550594329834 secs\n",
      "------------------Explanation from local model-------------------------\n",
      "          rule coefficient\n",
      "0  (intercept)   -0.267556\n",
      "----------------------------------------------------------------------------------------------------\n"
     ]
    }
   ],
   "source": [
    "# sample LRR when used with crossover interpolation\n",
    "\n",
    "search_function='crossoverinterpolation'\n",
    "\n",
    "for i in [3,5,7,20,50,100,83,25,163,127]:\n",
    "    X_explain = feature_df.iloc[[i]]\n",
    "    y_explain = test_label.iloc[[i]]\n",
    "\n",
    "    row_index = str(X_explain.index[0])\n",
    "\n",
    "    start = time.time()\n",
    "\n",
    "    start = time.time()\n",
    "    pyExp_obj = pyExp.explain(X_explain,\n",
    "                               y_explain,\n",
    "                               search_function = search_function, \n",
    "                               top_k = 1000,\n",
    "                               max_rules=2000, \n",
    "                               max_iter =None, \n",
    "                               cv=5,\n",
    "                               explainer='LRR',\n",
    "                               debug = False)\n",
    "    end = time.time()\n",
    "    print('time spent to train LRR:',str(end-start),'secs')\n",
    "    \n",
    "    local_model = pyExp_obj['local_model']\n",
    "    print('------------------Explanation from local model-------------------------')\n",
    "    print(local_model.explain())\n",
    "    print('-'*100)\n",
    "    \n",
    "    "
   ]
  },
  {
   "cell_type": "code",
   "execution_count": 19,
   "metadata": {},
   "outputs": [
    {
     "name": "stdout",
     "output_type": "stream",
     "text": [
      "dict_keys(['synthetic_data', 'synthetic_predictions', 'X_explain', 'y_explain', 'X_explain_fb', 'indep', 'dep', 'local_model'])\n"
     ]
    }
   ],
   "source": [
    "print(pyExp_obj.keys())"
   ]
  },
  {
   "cell_type": "code",
   "execution_count": 20,
   "metadata": {},
   "outputs": [],
   "source": [
    "# display(pyExp_obj['synthetic_data'].columns)\n",
    "# print(feature_df.index)\n",
    "local_model = pyExp_obj['local_model']"
   ]
  },
  {
   "cell_type": "code",
   "execution_count": 21,
   "metadata": {},
   "outputs": [
    {
     "name": "stdout",
     "output_type": "stream",
     "text": [
      "          rule coefficient\n",
      "0  (intercept)     1.21719\n",
      "1  la <= 44.00    -2.10262\n",
      "2  la <= 76.00   -0.561556\n"
     ]
    }
   ],
   "source": [
    "print(local_model.explain( maxCoeffs=None))\n",
    "# print(local_model.z)"
   ]
  },
  {
   "cell_type": "code",
   "execution_count": 22,
   "metadata": {
    "scrolled": true
   },
   "outputs": [
    {
     "name": "stdout",
     "output_type": "stream",
     "text": [
      "MultiIndex([(   'la', '<=',                 1.0),\n",
      "            (   'la', '<=',                 2.0),\n",
      "            (   'la', '<=',                 5.0),\n",
      "            (   'la', '<=',                 9.0),\n",
      "            (   'la', '<=',                17.0),\n",
      "            (   'la', '<=',                27.0),\n",
      "            (   'la', '<=',                44.0),\n",
      "            (   'la', '<=',                76.0),\n",
      "            (   'la', '<=',               163.0),\n",
      "            (   'ld', '<=',                 0.0),\n",
      "            ...\n",
      "            ('asawr', '<=',   0.433364602876798),\n",
      "            ('rsawr', '<=', 0.18055330452007923),\n",
      "            ('rsawr', '<=',  0.2564102564102564),\n",
      "            ('rsawr', '<=',  0.3196254791765793),\n",
      "            ('rsawr', '<=',  0.3754889178617992),\n",
      "            ('rsawr', '<=',  0.4287529047714299),\n",
      "            ('rsawr', '<=',  0.4816326530612245),\n",
      "            ('rsawr', '<=',  0.5758975125536251),\n",
      "            ('rsawr', '<=',  0.7078384798099763),\n",
      "            ('rsawr', '<=',  0.8487118531623176)],\n",
      "           names=['feature', 'operation', 'value'], length=165)\n"
     ]
    },
    {
     "data": {
      "text/html": [
       "<div>\n",
       "<style scoped>\n",
       "    .dataframe tbody tr th:only-of-type {\n",
       "        vertical-align: middle;\n",
       "    }\n",
       "\n",
       "    .dataframe tbody tr th {\n",
       "        vertical-align: top;\n",
       "    }\n",
       "\n",
       "    .dataframe thead tr th {\n",
       "        text-align: left;\n",
       "    }\n",
       "</style>\n",
       "<table border=\"1\" class=\"dataframe\">\n",
       "  <thead>\n",
       "    <tr>\n",
       "      <th>feature</th>\n",
       "      <th colspan=\"9\" halign=\"left\">la</th>\n",
       "      <th>ld</th>\n",
       "      <th>...</th>\n",
       "      <th>asawr</th>\n",
       "      <th colspan=\"9\" halign=\"left\">rsawr</th>\n",
       "    </tr>\n",
       "    <tr>\n",
       "      <th>operation</th>\n",
       "      <th colspan=\"9\" halign=\"left\">&lt;=</th>\n",
       "      <th>&lt;=</th>\n",
       "      <th>...</th>\n",
       "      <th>&lt;=</th>\n",
       "      <th colspan=\"9\" halign=\"left\">&lt;=</th>\n",
       "    </tr>\n",
       "    <tr>\n",
       "      <th>value</th>\n",
       "      <th>1.000000</th>\n",
       "      <th>2.000000</th>\n",
       "      <th>5.000000</th>\n",
       "      <th>9.000000</th>\n",
       "      <th>17.000000</th>\n",
       "      <th>27.000000</th>\n",
       "      <th>44.000000</th>\n",
       "      <th>76.000000</th>\n",
       "      <th>163.000000</th>\n",
       "      <th>0.000000</th>\n",
       "      <th>...</th>\n",
       "      <th>0.433365</th>\n",
       "      <th>0.180553</th>\n",
       "      <th>0.256410</th>\n",
       "      <th>0.319625</th>\n",
       "      <th>0.375489</th>\n",
       "      <th>0.428753</th>\n",
       "      <th>0.481633</th>\n",
       "      <th>0.575898</th>\n",
       "      <th>0.707838</th>\n",
       "      <th>0.848712</th>\n",
       "    </tr>\n",
       "  </thead>\n",
       "  <tbody>\n",
       "    <tr>\n",
       "      <th>0</th>\n",
       "      <td>0</td>\n",
       "      <td>0</td>\n",
       "      <td>0</td>\n",
       "      <td>0</td>\n",
       "      <td>0</td>\n",
       "      <td>0</td>\n",
       "      <td>0</td>\n",
       "      <td>0</td>\n",
       "      <td>0</td>\n",
       "      <td>0</td>\n",
       "      <td>...</td>\n",
       "      <td>1</td>\n",
       "      <td>0</td>\n",
       "      <td>0</td>\n",
       "      <td>0</td>\n",
       "      <td>0</td>\n",
       "      <td>0</td>\n",
       "      <td>0</td>\n",
       "      <td>0</td>\n",
       "      <td>1</td>\n",
       "      <td>1</td>\n",
       "    </tr>\n",
       "    <tr>\n",
       "      <th>1</th>\n",
       "      <td>0</td>\n",
       "      <td>0</td>\n",
       "      <td>0</td>\n",
       "      <td>0</td>\n",
       "      <td>0</td>\n",
       "      <td>0</td>\n",
       "      <td>0</td>\n",
       "      <td>0</td>\n",
       "      <td>0</td>\n",
       "      <td>1</td>\n",
       "      <td>...</td>\n",
       "      <td>1</td>\n",
       "      <td>0</td>\n",
       "      <td>0</td>\n",
       "      <td>0</td>\n",
       "      <td>0</td>\n",
       "      <td>0</td>\n",
       "      <td>0</td>\n",
       "      <td>0</td>\n",
       "      <td>1</td>\n",
       "      <td>1</td>\n",
       "    </tr>\n",
       "    <tr>\n",
       "      <th>2</th>\n",
       "      <td>0</td>\n",
       "      <td>0</td>\n",
       "      <td>0</td>\n",
       "      <td>0</td>\n",
       "      <td>0</td>\n",
       "      <td>0</td>\n",
       "      <td>0</td>\n",
       "      <td>0</td>\n",
       "      <td>0</td>\n",
       "      <td>0</td>\n",
       "      <td>...</td>\n",
       "      <td>1</td>\n",
       "      <td>0</td>\n",
       "      <td>0</td>\n",
       "      <td>0</td>\n",
       "      <td>0</td>\n",
       "      <td>0</td>\n",
       "      <td>0</td>\n",
       "      <td>1</td>\n",
       "      <td>1</td>\n",
       "      <td>1</td>\n",
       "    </tr>\n",
       "    <tr>\n",
       "      <th>3</th>\n",
       "      <td>0</td>\n",
       "      <td>0</td>\n",
       "      <td>0</td>\n",
       "      <td>0</td>\n",
       "      <td>0</td>\n",
       "      <td>0</td>\n",
       "      <td>0</td>\n",
       "      <td>0</td>\n",
       "      <td>0</td>\n",
       "      <td>0</td>\n",
       "      <td>...</td>\n",
       "      <td>1</td>\n",
       "      <td>0</td>\n",
       "      <td>0</td>\n",
       "      <td>0</td>\n",
       "      <td>0</td>\n",
       "      <td>0</td>\n",
       "      <td>0</td>\n",
       "      <td>0</td>\n",
       "      <td>1</td>\n",
       "      <td>1</td>\n",
       "    </tr>\n",
       "    <tr>\n",
       "      <th>4</th>\n",
       "      <td>0</td>\n",
       "      <td>0</td>\n",
       "      <td>0</td>\n",
       "      <td>0</td>\n",
       "      <td>0</td>\n",
       "      <td>1</td>\n",
       "      <td>1</td>\n",
       "      <td>1</td>\n",
       "      <td>1</td>\n",
       "      <td>0</td>\n",
       "      <td>...</td>\n",
       "      <td>1</td>\n",
       "      <td>0</td>\n",
       "      <td>0</td>\n",
       "      <td>0</td>\n",
       "      <td>0</td>\n",
       "      <td>0</td>\n",
       "      <td>0</td>\n",
       "      <td>0</td>\n",
       "      <td>1</td>\n",
       "      <td>1</td>\n",
       "    </tr>\n",
       "    <tr>\n",
       "      <th>...</th>\n",
       "      <td>...</td>\n",
       "      <td>...</td>\n",
       "      <td>...</td>\n",
       "      <td>...</td>\n",
       "      <td>...</td>\n",
       "      <td>...</td>\n",
       "      <td>...</td>\n",
       "      <td>...</td>\n",
       "      <td>...</td>\n",
       "      <td>...</td>\n",
       "      <td>...</td>\n",
       "      <td>...</td>\n",
       "      <td>...</td>\n",
       "      <td>...</td>\n",
       "      <td>...</td>\n",
       "      <td>...</td>\n",
       "      <td>...</td>\n",
       "      <td>...</td>\n",
       "      <td>...</td>\n",
       "      <td>...</td>\n",
       "      <td>...</td>\n",
       "    </tr>\n",
       "    <tr>\n",
       "      <th>2116</th>\n",
       "      <td>1</td>\n",
       "      <td>1</td>\n",
       "      <td>1</td>\n",
       "      <td>1</td>\n",
       "      <td>1</td>\n",
       "      <td>1</td>\n",
       "      <td>1</td>\n",
       "      <td>1</td>\n",
       "      <td>1</td>\n",
       "      <td>0</td>\n",
       "      <td>...</td>\n",
       "      <td>1</td>\n",
       "      <td>0</td>\n",
       "      <td>0</td>\n",
       "      <td>0</td>\n",
       "      <td>0</td>\n",
       "      <td>0</td>\n",
       "      <td>1</td>\n",
       "      <td>1</td>\n",
       "      <td>1</td>\n",
       "      <td>1</td>\n",
       "    </tr>\n",
       "    <tr>\n",
       "      <th>2117</th>\n",
       "      <td>0</td>\n",
       "      <td>0</td>\n",
       "      <td>0</td>\n",
       "      <td>0</td>\n",
       "      <td>0</td>\n",
       "      <td>0</td>\n",
       "      <td>0</td>\n",
       "      <td>0</td>\n",
       "      <td>1</td>\n",
       "      <td>0</td>\n",
       "      <td>...</td>\n",
       "      <td>1</td>\n",
       "      <td>1</td>\n",
       "      <td>1</td>\n",
       "      <td>1</td>\n",
       "      <td>1</td>\n",
       "      <td>1</td>\n",
       "      <td>1</td>\n",
       "      <td>1</td>\n",
       "      <td>1</td>\n",
       "      <td>1</td>\n",
       "    </tr>\n",
       "    <tr>\n",
       "      <th>2118</th>\n",
       "      <td>0</td>\n",
       "      <td>0</td>\n",
       "      <td>0</td>\n",
       "      <td>0</td>\n",
       "      <td>0</td>\n",
       "      <td>0</td>\n",
       "      <td>1</td>\n",
       "      <td>1</td>\n",
       "      <td>1</td>\n",
       "      <td>1</td>\n",
       "      <td>...</td>\n",
       "      <td>1</td>\n",
       "      <td>0</td>\n",
       "      <td>0</td>\n",
       "      <td>0</td>\n",
       "      <td>0</td>\n",
       "      <td>0</td>\n",
       "      <td>0</td>\n",
       "      <td>0</td>\n",
       "      <td>1</td>\n",
       "      <td>1</td>\n",
       "    </tr>\n",
       "    <tr>\n",
       "      <th>2119</th>\n",
       "      <td>1</td>\n",
       "      <td>1</td>\n",
       "      <td>1</td>\n",
       "      <td>1</td>\n",
       "      <td>1</td>\n",
       "      <td>1</td>\n",
       "      <td>1</td>\n",
       "      <td>1</td>\n",
       "      <td>1</td>\n",
       "      <td>0</td>\n",
       "      <td>...</td>\n",
       "      <td>1</td>\n",
       "      <td>0</td>\n",
       "      <td>0</td>\n",
       "      <td>0</td>\n",
       "      <td>0</td>\n",
       "      <td>0</td>\n",
       "      <td>0</td>\n",
       "      <td>0</td>\n",
       "      <td>0</td>\n",
       "      <td>1</td>\n",
       "    </tr>\n",
       "    <tr>\n",
       "      <th>2120</th>\n",
       "      <td>0</td>\n",
       "      <td>0</td>\n",
       "      <td>0</td>\n",
       "      <td>0</td>\n",
       "      <td>0</td>\n",
       "      <td>0</td>\n",
       "      <td>0</td>\n",
       "      <td>0</td>\n",
       "      <td>0</td>\n",
       "      <td>0</td>\n",
       "      <td>...</td>\n",
       "      <td>1</td>\n",
       "      <td>1</td>\n",
       "      <td>1</td>\n",
       "      <td>1</td>\n",
       "      <td>1</td>\n",
       "      <td>1</td>\n",
       "      <td>1</td>\n",
       "      <td>1</td>\n",
       "      <td>1</td>\n",
       "      <td>1</td>\n",
       "    </tr>\n",
       "  </tbody>\n",
       "</table>\n",
       "<p>2121 rows × 165 columns</p>\n",
       "</div>"
      ],
      "text/plain": [
       "feature           la                                                         \\\n",
       "operation         <=                                                          \n",
       "value     1.000000   2.000000   5.000000   9.000000   17.000000  27.000000    \n",
       "0                  0          0          0          0          0          0   \n",
       "1                  0          0          0          0          0          0   \n",
       "2                  0          0          0          0          0          0   \n",
       "3                  0          0          0          0          0          0   \n",
       "4                  0          0          0          0          0          1   \n",
       "...              ...        ...        ...        ...        ...        ...   \n",
       "2116               1          1          1          1          1          1   \n",
       "2117               0          0          0          0          0          0   \n",
       "2118               0          0          0          0          0          0   \n",
       "2119               1          1          1          1          1          1   \n",
       "2120               0          0          0          0          0          0   \n",
       "\n",
       "feature                                            ld  ...      asawr  \\\n",
       "operation                                          <=  ...         <=   \n",
       "value     44.000000  76.000000  163.000000 0.000000    ... 0.433365     \n",
       "0                  0          0          0          0  ...          1   \n",
       "1                  0          0          0          1  ...          1   \n",
       "2                  0          0          0          0  ...          1   \n",
       "3                  0          0          0          0  ...          1   \n",
       "4                  1          1          1          0  ...          1   \n",
       "...              ...        ...        ...        ...  ...        ...   \n",
       "2116               1          1          1          0  ...          1   \n",
       "2117               0          0          1          0  ...          1   \n",
       "2118               1          1          1          1  ...          1   \n",
       "2119               1          1          1          0  ...          1   \n",
       "2120               0          0          0          0  ...          1   \n",
       "\n",
       "feature        rsawr                                                         \\\n",
       "operation         <=                                                          \n",
       "value     0.180553   0.256410   0.319625   0.375489   0.428753   0.481633     \n",
       "0                  0          0          0          0          0          0   \n",
       "1                  0          0          0          0          0          0   \n",
       "2                  0          0          0          0          0          0   \n",
       "3                  0          0          0          0          0          0   \n",
       "4                  0          0          0          0          0          0   \n",
       "...              ...        ...        ...        ...        ...        ...   \n",
       "2116               0          0          0          0          0          1   \n",
       "2117               1          1          1          1          1          1   \n",
       "2118               0          0          0          0          0          0   \n",
       "2119               0          0          0          0          0          0   \n",
       "2120               1          1          1          1          1          1   \n",
       "\n",
       "feature                                     \n",
       "operation                                   \n",
       "value     0.575898   0.707838   0.848712    \n",
       "0                  0          1          1  \n",
       "1                  0          1          1  \n",
       "2                  1          1          1  \n",
       "3                  0          1          1  \n",
       "4                  0          1          1  \n",
       "...              ...        ...        ...  \n",
       "2116               1          1          1  \n",
       "2117               1          1          1  \n",
       "2118               0          1          1  \n",
       "2119               0          0          1  \n",
       "2120               1          1          1  \n",
       "\n",
       "[2121 rows x 165 columns]"
      ]
     },
     "metadata": {},
     "output_type": "display_data"
    }
   ],
   "source": [
    "generated_instance = pyExp_obj['synthetic_data']\n",
    "print(generated_instance.columns)\n",
    "display(generated_instance)"
   ]
  },
  {
   "cell_type": "code",
   "execution_count": 41,
   "metadata": {},
   "outputs": [
    {
     "name": "stdout",
     "output_type": "stream",
     "text": [
      "feature     la\n",
      "operation   <=\n",
      "value     44.0\n",
      "0            0\n",
      "1            0\n",
      "2            0\n",
      "3            0\n",
      "4            1\n",
      "...        ...\n",
      "2116         1\n",
      "2117         0\n",
      "2118         1\n",
      "2119         1\n",
      "2120         0\n",
      "\n",
      "[2121 rows x 1 columns]\n"
     ]
    }
   ],
   "source": [
    "print(generated_instance.loc[:, (generated_instance.columns.get_level_values(0)=='la') & \n",
    "                            (generated_instance.columns.get_level_values(1)=='<=') &\n",
    "                            (generated_instance.columns.get_level_values(2)==44.0)  ])"
   ]
  },
  {
   "cell_type": "code",
   "execution_count": null,
   "metadata": {},
   "outputs": [],
   "source": []
  },
  {
   "cell_type": "code",
   "execution_count": 23,
   "metadata": {},
   "outputs": [],
   "source": [
    "# # search_function = 'crossoverinterpolation' # 'randompertubation' or 'crossoverinterpolation'\n",
    "# search_functions = ['randompertubation', 'crossoverinterpolation']\n",
    "\n",
    "# for i in range(0,len(feature_df)):\n",
    "#     X_explain = feature_df.iloc[[i]]\n",
    "#     y_explain = test_label.iloc[[i]]\n",
    "    \n",
    "#     row_index = str(X_explain.index[0])\n",
    "    \n",
    "#     try:\n",
    "#         pyExp_obj = pyExp.explain(X_explain,\n",
    "#                                    y_explain,\n",
    "#                                    search_function = search_function, \n",
    "#                                    top_k = 1000, \n",
    "#                                    max_rules=2000, \n",
    "#                                    max_iter =None, \n",
    "#                                    cv=5,\n",
    "#                                    debug = False)\n",
    "#         pickle.dump(pyExp_obj, open(pyExp_dir+search_function+'_'+row_index+'.pkl','wb'))\n",
    "        \n",
    "#         synt_pred = pyExp_obj['synthetic_predictions']\n",
    "#         print('{}: found {} defect from total {}'.format(row_index, str(np.sum(synt_pred)), \n",
    "#                                                          str(len(synt_pred))))\n",
    "# #         print('finished', row_index)\n",
    "#     except:\n",
    "#         problem_index.append(row_index)\n",
    "# #     print(row_index)\n",
    "#     break"
   ]
  },
  {
   "cell_type": "code",
   "execution_count": 24,
   "metadata": {
    "scrolled": true
   },
   "outputs": [],
   "source": [
    "# explain_index = 13\n",
    "# X_explain = feature_df.iloc[[explain_index]]\n",
    "# X_explain"
   ]
  },
  {
   "cell_type": "code",
   "execution_count": 25,
   "metadata": {
    "code_folding": []
   },
   "outputs": [],
   "source": [
    "# y_explain = test_label.iloc[[explain_index]]\n",
    "# y_explain"
   ]
  },
  {
   "cell_type": "code",
   "execution_count": 26,
   "metadata": {
    "code_folding": []
   },
   "outputs": [],
   "source": [
    "# search_function = 'crossoverinterpolation' # 'randompertubation' or 'crossoverinterpolation''\n",
    "# start = time.time()\n",
    "# create_pyExp_rule_obj = pyExp.explain(X_explain,\n",
    "#                                y_explain,\n",
    "#                                search_function = search_function, \n",
    "#                                top_k = 1000, \n",
    "#                                max_rules=2000, \n",
    "#                                max_iter =None, \n",
    "#                                cv=5,\n",
    "#                                debug = False)\n",
    "\n",
    "# end = time.time()"
   ]
  },
  {
   "cell_type": "code",
   "execution_count": 27,
   "metadata": {},
   "outputs": [],
   "source": [
    "# print('time spent {}'.format(str(end-start)))\n",
    "# pickle.dump(create_pyExp_rule_obj, open(pyExp_dir+search_function+'_'+str(explain_index)+'.pkl','wb'))"
   ]
  },
  {
   "cell_type": "code",
   "execution_count": 28,
   "metadata": {},
   "outputs": [],
   "source": [
    "# display(create_pyExp_rule_obj['synthetic_data'])"
   ]
  },
  {
   "cell_type": "code",
   "execution_count": 29,
   "metadata": {},
   "outputs": [],
   "source": [
    "# # print(create_pyExp_rule_obj['synthetic_predictions'])\n",
    "# # print(np.sum(create_pyExp_rule_obj['synthetic_predictions']))\n",
    "# display(create_pyExp_rule_obj.keys())\n",
    "# print(create_pyExp_rule_obj['synthetic_predictions'])"
   ]
  }
 ],
 "metadata": {
  "kernelspec": {
   "display_name": "Python 3",
   "language": "python",
   "name": "python3"
  },
  "language_info": {
   "codemirror_mode": {
    "name": "ipython",
    "version": 3
   },
   "file_extension": ".py",
   "mimetype": "text/x-python",
   "name": "python",
   "nbconvert_exporter": "python",
   "pygments_lexer": "ipython3",
   "version": "3.8.5"
  },
  "varInspector": {
   "cols": {
    "lenName": 16,
    "lenType": 16,
    "lenVar": 40
   },
   "kernels_config": {
    "python": {
     "delete_cmd_postfix": "",
     "delete_cmd_prefix": "del ",
     "library": "var_list.py",
     "varRefreshCmd": "print(var_dic_list())"
    },
    "r": {
     "delete_cmd_postfix": ") ",
     "delete_cmd_prefix": "rm(",
     "library": "var_list.r",
     "varRefreshCmd": "cat(var_dic_list()) "
    }
   },
   "types_to_exclude": [
    "module",
    "function",
    "builtin_function_or_method",
    "instance",
    "_Feature"
   ],
   "window_display": false
  }
 },
 "nbformat": 4,
 "nbformat_minor": 4
}
