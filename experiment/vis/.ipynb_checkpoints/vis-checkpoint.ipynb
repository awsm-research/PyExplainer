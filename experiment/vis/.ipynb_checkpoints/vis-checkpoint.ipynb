{
 "cells": [
  {
   "cell_type": "code",
   "execution_count": 1,
   "metadata": {},
   "outputs": [],
   "source": [
    "from pyexplainer.pyexplainer_pyexplainer import PyExplainer\n",
    "import pickle\n",
    "\n",
    "with open('openstack_RF_global_model.pkl', 'rb') as file:\n",
    "    model = pickle.load(file)\n",
    "\n",
    "with open('pyexp_necessary_data', 'rb') as file:\n",
    "    data = pickle.load(file)\n",
    "\n",
    "explainer = PyExplainer(X_train=data['x_train'],\n",
    "                       y_train=data['y_train'],\n",
    "                       dep=data['dep'],\n",
    "                       indep=data['indep'],\n",
    "                       blackbox_model=model)"
   ]
  },
  {
   "cell_type": "code",
   "execution_count": 11,
   "metadata": {},
   "outputs": [
    {
     "name": "stdout",
     "output_type": "stream",
     "text": [
      "Choose one row from index 0 to index 197 to be explained\n",
      "specify your choice into index variable\n"
     ]
    }
   ],
   "source": [
    "import pandas as pd\n",
    "\n",
    "\n",
    "commit_id = pd.read_csv('openstack_RF_correctly_predict_as_defective.csv')\n",
    "commit_id = commit_id['commit_id'].to_list()\n",
    "print('Choose one row from index 0 to index', len(commit_id)-1, 'to be explained')\n",
    "print('specify your choice into index variable')\n",
    "index = 197"
   ]
  },
  {
   "cell_type": "code",
   "execution_count": 122,
   "metadata": {},
   "outputs": [],
   "source": [
    "d = pd.read_csv('openstack_RF_correctly_predict_as_defective.csv', index_col='commit_id')\n",
    "X_explain = d.loc[[commit_id_list[index]]]\n",
    "\n",
    "y_test = d.loc[:, data['dep']]\n",
    "y_explain = y_test.loc[[commit_id_list[index]]]\n",
    "\n",
    "for col in X_explain.columns:\n",
    "    if col not in data['indep']:\n",
    "        X_explain = X_explain.drop([col], axis=1)"
   ]
  },
  {
   "cell_type": "code",
   "execution_count": 123,
   "metadata": {},
   "outputs": [],
   "source": [
    "rules = explainer.explain(X_explain=X_explain, y_explain=y_explain)"
   ]
  },
  {
   "cell_type": "code",
   "execution_count": 125,
   "metadata": {},
   "outputs": [
    {
     "data": {
      "application/vnd.jupyter.widget-view+json": {
       "model_id": "58dd38275c094fa09673584f457e334c",
       "version_major": 2,
       "version_minor": 0
      },
      "text/plain": [
       "HBox(children=(Label(value='Risk Score: '), FloatProgress(value=0.0, bar_style='info', layout=Layout(width='40…"
      ]
     },
     "metadata": {},
     "output_type": "display_data"
    },
    {
     "data": {
      "application/vnd.jupyter.widget-view+json": {
       "model_id": "03773fdd608648159332e182fdbeb59d",
       "version_major": 2,
       "version_minor": 0
      },
      "text/plain": [
       "FloatSlider(value=2.0, continuous_update=False, description='#1 Increase the values of nd to more than 2', lay…"
      ]
     },
     "metadata": {},
     "output_type": "display_data"
    },
    {
     "data": {
      "application/vnd.jupyter.widget-view+json": {
       "model_id": "b0101655112f48ce99bd9a9031268ec2",
       "version_major": 2,
       "version_minor": 0
      },
      "text/plain": [
       "FloatSlider(value=4.0, continuous_update=False, description='#2 Increase the values of app to more than 4.0', …"
      ]
     },
     "metadata": {},
     "output_type": "display_data"
    },
    {
     "data": {
      "application/vnd.jupyter.widget-view+json": {
       "model_id": "62f2c28ad8b0492b9ec884ec4a79f37d",
       "version_major": 2,
       "version_minor": 0
      },
      "text/plain": [
       "FloatSlider(value=258.0, continuous_update=False, description='#3 Decrease the values of la to less than 258',…"
      ]
     },
     "metadata": {},
     "output_type": "display_data"
    },
    {
     "data": {
      "application/vnd.jupyter.widget-view+json": {
       "model_id": "b30f40baa74a435390678d52a6122f68",
       "version_major": 2,
       "version_minor": 0
      },
      "text/plain": [
       "Output(layout=Layout(border='3px solid black'))"
      ]
     },
     "metadata": {},
     "output_type": "display_data"
    }
   ],
   "source": [
    "explainer.visualise(rules)"
   ]
  },
  {
   "cell_type": "code",
   "execution_count": null,
   "metadata": {},
   "outputs": [],
   "source": []
  }
 ],
 "metadata": {
  "kernelspec": {
   "display_name": "Python 3",
   "language": "python",
   "name": "python3"
  },
  "language_info": {
   "codemirror_mode": {
    "name": "ipython",
    "version": 3
   },
   "file_extension": ".py",
   "mimetype": "text/x-python",
   "name": "python",
   "nbconvert_exporter": "python",
   "pygments_lexer": "ipython3",
   "version": "3.8.8"
  }
 },
 "nbformat": 4,
 "nbformat_minor": 4
}
