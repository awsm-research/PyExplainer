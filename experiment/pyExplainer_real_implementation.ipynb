{
 "cells": [
  {
   "cell_type": "code",
   "execution_count": 12,
   "metadata": {},
   "outputs": [],
   "source": [
    "from sklearn.ensemble import RandomForestClassifier\n",
    "from sklearn.metrics.pairwise import cosine_similarity, euclidean_distances\n",
    "from sklearn.metrics import roc_auc_score\n",
    "import pandas as pd\n",
    "import numpy as np\n",
    "from imblearn.over_sampling import SMOTE\n",
    "import matplotlib.pyplot as plt\n",
    "\n",
    "from my_util import *\n",
    "from lime.lime.lime_tabular import LimeTabularExplainer\n",
    "\n",
    "\n",
    "import sys, os,  pickle, time\n",
    "\n",
    "sys.path.append(os.path.abspath('../pyexplainer'))\n",
    "from pyexplainer_pyexplainer import *\n",
    "\n",
    "# from datetime import datetime\n",
    "\n"
   ]
  },
  {
   "cell_type": "code",
   "execution_count": 2,
   "metadata": {
    "code_folding": []
   },
   "outputs": [],
   "source": [
    "data_path = './dataset/'\n",
    "result_dir = './eval_result/'\n",
    "dump_dataframe_dir = './dump_df/'\n",
    "pyExp_dir = './pyExplainer_obj/'\n",
    "other_object_dir = './other_object/'\n",
    "proj_name = 'qt' # ['openstack','qt']\n",
    "\n",
    "\n",
    "\n",
    "if not os.path.exists(result_dir):\n",
    "    os.makedirs(result_dir)\n",
    "    \n",
    "if not os.path.exists(dump_dataframe_dir):\n",
    "    os.makedirs(dump_dataframe_dir)\n",
    "    \n",
    "if not os.path.exists(pyExp_dir):\n",
    "    os.makedirs(pyExp_dir)\n",
    "    \n",
    "if not os.path.exists(other_object_dir):\n",
    "    os.makedirs(other_object_dir)"
   ]
  },
  {
   "cell_type": "markdown",
   "metadata": {},
   "source": [
    "## Prepare data"
   ]
  },
  {
   "cell_type": "code",
   "execution_count": 3,
   "metadata": {},
   "outputs": [],
   "source": [
    "x_train, x_test, y_train, y_test = prepare_data(proj_name, mode = 'all')"
   ]
  },
  {
   "cell_type": "code",
   "execution_count": 4,
   "metadata": {},
   "outputs": [],
   "source": [
    "# display(x_train)"
   ]
  },
  {
   "cell_type": "code",
   "execution_count": 5,
   "metadata": {},
   "outputs": [],
   "source": [
    "# # print(y_train)\n",
    "# for col in x_test.columns:\n",
    "#     print(col,len(x_test[col].unique()))\n",
    "\n",
    "col = list(x_test.columns)\n",
    "# print(col)\n",
    "# print(col.index('self'))"
   ]
  },
  {
   "cell_type": "markdown",
   "metadata": {},
   "source": [
    "## Train global model"
   ]
  },
  {
   "cell_type": "code",
   "execution_count": 6,
   "metadata": {},
   "outputs": [
    {
     "name": "stdout",
     "output_type": "stream",
     "text": [
      "train global model finished\n"
     ]
    }
   ],
   "source": [
    "smt = SMOTE(k_neighbors=5, random_state=42, n_jobs=24)\n",
    "# enn = EditedNearestNeighbours(n_neighbors=5, n_jobs=24)\n",
    "# smt_tmk = SMOTETomek(smote = smt, random_state=0)\n",
    "# smt_enn = SMOTEENN(smote=smt, enn=enn, random_state=0)\n",
    "\n",
    "new_x_train, new_y_train = smt.fit_resample(x_train, y_train)\n",
    "\n",
    "def train_global_model(x_train,y_train):\n",
    "    global_model = RandomForestClassifier(n_estimators=100, random_state=0, n_jobs=24)\n",
    "    global_model.fit(x_train, y_train)\n",
    "\n",
    "    pickle.dump(global_model, open(proj_name+'_global_model.pkl','wb'))\n",
    "    print('train global model finished')\n",
    "    \n",
    "train_black_box = True\n",
    "\n",
    "if train_black_box:\n",
    "    train_global_model(new_x_train, new_y_train)"
   ]
  },
  {
   "cell_type": "markdown",
   "metadata": {},
   "source": [
    "## Obtain correctly predicted defective commits"
   ]
  },
  {
   "cell_type": "code",
   "execution_count": 7,
   "metadata": {},
   "outputs": [
    {
     "name": "stdout",
     "output_type": "stream",
     "text": [
      "AUC is 0.7350656132213174\n"
     ]
    }
   ],
   "source": [
    "global_model = pickle.load(open(proj_name+'_global_model.pkl','rb'))\n",
    "# x_test, y_test = prepare_data(proj_name, mode = 'test')\n",
    "\n",
    "pred = global_model.predict(x_test)\n",
    "defective_prob = global_model.predict_proba(x_test)[:,1]\n",
    "\n",
    "prediction_df = x_test.copy()\n",
    "prediction_df['pred'] = pred\n",
    "prediction_df['defective_prob'] = defective_prob\n",
    "prediction_df['defect'] = y_test\n",
    "\n",
    "print('AUC is',roc_auc_score(y_test, defective_prob))\n",
    "correctly_predict_df = prediction_df[(prediction_df['pred']==1) & (prediction_df['defect']==1)]"
   ]
  },
  {
   "cell_type": "code",
   "execution_count": 8,
   "metadata": {},
   "outputs": [
    {
     "name": "stdout",
     "output_type": "stream",
     "text": [
      "79\n"
     ]
    }
   ],
   "source": [
    "print(len(correctly_predict_df))\n",
    "prediction_df.to_csv(dump_dataframe_dir+proj_name+'_prediction_result.csv')\n",
    "correctly_predict_df.to_csv(dump_dataframe_dir+proj_name+'_correctly_predict_as_defective.csv')\n"
   ]
  },
  {
   "cell_type": "markdown",
   "metadata": {},
   "source": [
    "## Training local model\n",
    "\n",
    "Note: this step includes instance generation"
   ]
  },
  {
   "cell_type": "code",
   "execution_count": 9,
   "metadata": {},
   "outputs": [
    {
     "name": "stdout",
     "output_type": "stream",
     "text": [
      "Index(['la', 'ld', 'nd', 'ns', 'ent', 'nrev', 'rtime', 'hcmt', 'self', 'ndev',\n",
      "       'age', 'app', 'asexp', 'rsexp', 'asawr', 'rsawr'],\n",
      "      dtype='object')\n"
     ]
    }
   ],
   "source": [
    "print(correctly_predict_df.columns[:-3])"
   ]
  },
  {
   "cell_type": "code",
   "execution_count": 10,
   "metadata": {},
   "outputs": [],
   "source": [
    "global_model = pickle.load(open(proj_name+'_global_model.pkl','rb'))\n",
    "\n",
    "load_prediction_from_file = True\n",
    "class_label = ['clean', 'defect']\n",
    "\n",
    "if load_prediction_from_file:\n",
    "    correctly_predict_df = pd.read_csv(dump_dataframe_dir+proj_name+'_correctly_predict_as_defective.csv')\n",
    "    correctly_predict_df = correctly_predict_df.set_index('commit_id')\n",
    "    \n",
    "dep = 'defect'\n",
    "indep = correctly_predict_df.columns[:-3] # exclude the last 3 columns\n",
    "\n",
    "# print(correctly_predict_df.columns)\n",
    "# print(len(correctly_predict_df.columns))\n",
    "# print(indep)\n",
    "# display(correctly_predict_df)"
   ]
  },
  {
   "cell_type": "code",
   "execution_count": null,
   "metadata": {
    "scrolled": true
   },
   "outputs": [],
   "source": []
  },
  {
   "cell_type": "code",
   "execution_count": 16,
   "metadata": {},
   "outputs": [],
   "source": [
    "# for our apporach\n",
    "pyExp = PyExplainer(x_train, y_train, indep, dep, global_model, class_label)\n",
    "\n",
    "# for baseline\n",
    "# note: 6 is index of 'self' feature\n",
    "lime_explainer = LimeTabularExplainer(x_train.values, categorical_features=[6], \n",
    "                                      feature_names=indep, class_names=class_label, \n",
    "                                      random_state=0)"
   ]
  },
  {
   "cell_type": "code",
   "execution_count": 17,
   "metadata": {},
   "outputs": [],
   "source": [
    "feature_df = correctly_predict_df.loc[:, indep]\n",
    "test_label = correctly_predict_df.loc[:, dep]\n",
    "problem_index = [] # store index that cannot build pyExplainer"
   ]
  },
  {
   "cell_type": "code",
   "execution_count": 18,
   "metadata": {},
   "outputs": [],
   "source": [
    "'''\n",
    "    search function: lime or crossoverinterpolation\n",
    "'''\n",
    "def create_pyExplainer_obj(search_function, feature_df, test_label, explainer='LRR'):\n",
    "    \n",
    "    if search_function.lower() not in ['lime','crossoverinterpolation']:\n",
    "        print('the search function must be \"lime\" or \"crossoverinterpolation\"')\n",
    "        return\n",
    "    \n",
    "    problem_index = []\n",
    "    time_spent = []\n",
    "    \n",
    "    for i in range(0,len(feature_df)):\n",
    "        X_explain = feature_df.iloc[[i]]\n",
    "        y_explain = test_label.iloc[[i]]\n",
    "\n",
    "        row_index = str(X_explain.index[0])\n",
    "\n",
    "        start = time.time()\n",
    "        try:\n",
    "            if search_function=='CrossoverInterpolation':\n",
    "                # the returned object is dictionary\n",
    "                pyExp_obj = pyExp.explain(X_explain,\n",
    "                                           y_explain,\n",
    "                                           search_function = search_function, \n",
    "                                           top_k = 1000,\n",
    "                                           max_rules=2000, \n",
    "                                           max_iter = None, \n",
    "                                           cv=5,\n",
    "                                           explainer=explainer,\n",
    "                                           debug = False)\n",
    "    #             synt_pred = pyExp_obj['synthetic_predictions']\n",
    "                pyExp_obj['commit_id'] = row_index\n",
    "        \n",
    "                # because I don't want to change key name in another evaluation file\n",
    "                pyExp_obj['local_model'] = pyExp_obj['local_rulefit_model']\n",
    "                del pyExp_obj['local_rulefit_model']\n",
    "    #             print('{}: found {} defect from total {}'.format(row_index, str(np.sum(synt_pred)), \n",
    "    #                                                          str(len(synt_pred))))\n",
    "                pickle.dump(pyExp_obj, open(pyExp_dir+proj_name+'_'+explainer+'_'+search_function.lower()+'_'+row_index+'.pkl','wb'))\n",
    "        \n",
    "            else:\n",
    "                X_explain = feature_df.iloc[i] # to prevent error in LIME\n",
    "                exp, synt_inst, synt_inst_for_local_model, selected_feature_indices, local_model = lime_explainer.explain_instance(X_explain, global_model.predict_proba)\n",
    "\n",
    "                lime_obj = {}\n",
    "                lime_obj['rule'] = exp\n",
    "                lime_obj['synthetic_instance_for_global_model'] = synt_inst\n",
    "                lime_obj['synthetic_instance_for_lobal_model'] = synt_inst_for_local_model\n",
    "                lime_obj['local_model'] = local_model\n",
    "                lime_obj['selected_feature_indeces'] = selected_feature_indices\n",
    "                lime_obj['commit_id'] = row_index\n",
    "                pickle.dump(lime_obj, open(pyExp_dir+proj_name+'_lime_'+row_index+'.pkl','wb'))\n",
    "                \n",
    "            print('finished',row_index)\n",
    "#             print(row_index)\n",
    "#             print('just one rulefit is enough')\n",
    "            break\n",
    "            \n",
    "        except Exception as e:\n",
    "            problem_index.append(row_index)\n",
    "            print('-'*100)\n",
    "            print(e)\n",
    "#             print('found total {} problematic commit'.format(str(len(problem_index))))\n",
    "            print('-'*100)\n",
    "            \n",
    "#         break\n",
    "\n",
    "        end = time.time()\n",
    "\n",
    "        time_spent.append(str(end-start))\n",
    "#     print(row_index)\n",
    "#     break\n",
    "    \n",
    "    print('from total {} commits, there are {} problematic commits'.format(len(feature_df),len(problem_index)))\n",
    "    return time_spent, problem_index"
   ]
  },
  {
   "cell_type": "code",
   "execution_count": 28,
   "metadata": {
    "scrolled": true
   },
   "outputs": [
    {
     "name": "stdout",
     "output_type": "stream",
     "text": [
      "finished f5dbc876378ae58a7bdfe1e9664fc81caca18dfb\n",
      "finished 602bd9873786ccadcb67da3036329f3122555cf8\n",
      "finished 9d75626b1073113d77988bcb52e99215d5af4787\n",
      "finished 3168c94577cc604fd033ce4e741da5c411f74666\n",
      "finished 23bdca417bde716c79168ab372083fd885607123\n",
      "finished 438211ec627073817fcaf6d3a07b76f2aa5d90e0\n",
      "finished d8090022f66cc6cff6af5ed2ae702212fd172ff7\n",
      "finished 06eaeb0ac8d861cf3e60b11a8fbbabdeef1d6759\n",
      "finished 4dbf574b7acb7ae8f852219700afa95f8d568f0e\n",
      "finished 2eb28f51ce4150fa03b2ddde8c39b502ae57d18a\n",
      "finished 61b56a89a1cf8a388ff925492700e5eef019c3aa\n",
      "finished 07860794da5863610f38295c9d517fc457c5de95\n",
      "finished b508dc98a5085df6ea44b154177fbb6d8b0e8434\n",
      "finished b449791c3565940e701c68b3f705014804af0c2b\n",
      "finished 3abecf2ee9fc724af571f8c7da4302f7bee9eadb\n",
      "finished d8d903826daa8db49e437b76fb80693ab8feb01e\n",
      "finished 5b456c8da4462f9e11fa4da78a9e6ea86423a1e8\n",
      "finished 37ca2224eca671200a2710f57f970d2993e62aa5\n",
      "finished fd619946be51784dc709363324897be6af144c52\n",
      "finished 0ed9f7496656fa0ea52d703c7fddff26c2192857\n",
      "finished a25b1fdf7d642d9f252fbfa1789efaa32e03b994\n",
      "finished 2a11286469bf28b348821f015d72f8cb06f54b95\n",
      "finished 42cfb5fe4daa586f382bde6936b0ee33b5298f4d\n",
      "finished 9c82c105a1886473ca144b802ce9f5bec01e35e8\n",
      "finished aed9a8d49b7470de6809c3bf747b14c7150d7ae6\n",
      "finished 19b7afca523f221494bd165680f1aa9ddf3a0e31\n",
      "finished 52fc0a95a109d2e9fa279eeb0284a8178563080b\n",
      "finished d6d119ac6e606a30993bfea1ac3309f74d15bedc\n",
      "finished f89f099c55576992b39a8021aace64ff32747624\n",
      "finished 0eade30f37980c38b14d5cfa475837d15b69a8c5\n",
      "finished 87f475cbdb89fcbfbce68c3b676a240bb255a6d9\n",
      "finished e07e1931ac3d2e270d7696f631aba39ea54ba3c4\n",
      "finished 8d441936d2e8ab8c39a66831a658c192b80ca597\n",
      "finished 9329f786da8e167130fa36b91ff288bfdb046ce1\n",
      "finished a0f8be4021caa9bb5055923f0eea3bee0e345235\n",
      "finished 78b49cf8361b1462cc94a061916a15f0b98e27e3\n",
      "finished 81dea57593b5b28990bb7f012aae1387c8d2de33\n",
      "finished f2233c725078d49f6b185e642325dacb47b33240\n",
      "finished fc0f784e54d5dce72cc6a7e4b1fad243dadfcd76\n",
      "finished 661e624121004dd73467300e467aacae6d8d2f66\n",
      "finished a967a9bdcc2c75a0270c2be48d845ded5332e4f0\n",
      "finished 954b92e1207bfe5ab5a117e8393c191cdf0044d2\n",
      "finished b7a585ebd57f85c89ee20eda5b1a06819b3e1af0\n",
      "finished 906d5c5c40183468f9521277c6244a6c46730de6\n",
      "finished 8480dcbc7180cf1bcafcd03a6ad7087c83582a97\n",
      "finished ec61d7b9e82e6d653c02df14f34acdba8fc060db\n",
      "finished 71338b4b2f01268759f7ac6b3eff5abb17420a7c\n",
      "finished 412eb94de4cae754130ae855236420ebd5c42482\n",
      "finished 99667804e1c64cace1246d4ce342a218fc1fb1ba\n",
      "finished 3afffa47feabc80e1bc20ffd2143a722a1c360a2\n",
      "finished ef6544ee27aeab20a64b4df4bd50401cefa405ef\n",
      "finished 4e15aa6d7c4f9a03f4ae57b3ba04ade3400cccf1\n",
      "finished fdd3876111605e84a1f7c31206e20cd99e13f1fb\n",
      "finished 7d35f5c6b7b8b187388523674b4a95585f369d78\n",
      "finished 459c9a2a8840995436e610459216957bc7ebd914\n",
      "finished ba9ba084124403bd8930e29d8afcea9d64b6c0b6\n",
      "finished eacd58d4e78e7238ba5fcca90ba960aaf3ebd263\n",
      "finished 097b0a531642f79d8b240f89ca1eacca2ee59a5e\n",
      "finished a32bed7047469273cc8513cad7b2923d60f8d590\n",
      "finished 328f2f9c35f3cc5e7049a060a608c3f72876484a\n",
      "finished db51ffc0d1fbce85fd542403812fab8783c53e3c\n",
      "finished 1de244ea65f1b40c488fe92b29170c1b1d447233\n",
      "finished eeaba26596d447c531dfac9d6e6bf5cfe4537813\n",
      "finished 72420889aa54342da4472683e67e2c70b76a170f\n",
      "finished 9424383e6d0ea1dd02dcf1070259e21550da692a\n",
      "finished 6953f3a501dfee5064a12558a2e2515b69b35189\n",
      "finished d437457becef4409682caee15e1050889a977f91\n",
      "finished e4588b70dde3fe5ba8f77a0b749ec1b071346767\n",
      "finished a2e92f6dee12320a58a4bcc95c14649b27804427\n",
      "finished ccb088a6beaff01419ec9325dbd19040f279b6ea\n",
      "finished 173d16efb54ccc152f19afb9b1c2a87915fb414b\n",
      "finished 7dbb49bdec6e74f9d1eb096d15bdeea0881c3704\n",
      "finished ff11af4fbc2948a3a3bc635549c7ac349d249abc\n",
      "finished 2b67b50af18bb2a17ff10d5a37abfd85fc7e9d01\n",
      "finished 5f0023a7469e01bada70fbe677b76bb535eaa953\n",
      "finished 7c737e0edcb93585856c65890ef34e5c5a28ee6b\n",
      "finished 9bb634a6176c639bd6b52d58151e9927c30919d0\n",
      "finished 1e8de50674f5b33a50c45224b7e07b3f974f6ab0\n",
      "finished 979a0406f0013560efbdcc486b32ba93ce8c946f\n",
      "from total 79 commits, there are 0 problematic commits\n"
     ]
    }
   ],
   "source": [
    "# time_spent_rand, problem_index_rand = create_pyExplainer_obj('randompertubation', feature_df, test_label,'LRR')\n",
    "# pickle.dump(time_spent_rand, open(other_object_dir+proj_name+'_train_time_LRR_randompertubation.pkl','wb'))\n",
    "# pickle.dump(problem_index_rand, open(other_object_dir+proj_name+'_problem_index_LRR_randompertubation.pkl','wb'))\n",
    "\n",
    "time_spent_rand, problem_index_rand = create_pyExplainer_obj('lime', feature_df, test_label,'rulefit')\n",
    "pickle.dump(time_spent_rand, open(other_object_dir+proj_name+'_train_time_lime.pkl','wb'))\n",
    "pickle.dump(problem_index_rand, open(other_object_dir+proj_name+'_problem_index_lime.pkl','wb'))"
   ]
  },
  {
   "cell_type": "code",
   "execution_count": 19,
   "metadata": {
    "scrolled": true
   },
   "outputs": [
    {
     "name": "stdout",
     "output_type": "stream",
     "text": [
      "finished f5dbc876378ae58a7bdfe1e9664fc81caca18dfb\n",
      "from total 79 commits, there are 0 problematic commits\n"
     ]
    }
   ],
   "source": [
    "# time_spent_ci, problem_index_ci = create_pyExplainer_obj('crossoverinterpolation', feature_df, test_label)\n",
    "# pickle.dump(time_spent_ci, open(other_object_dir+proj_name+'_train_time_LRR_crossoverinterpolation.pkl','wb'))\n",
    "# pickle.dump(problem_index_ci, open(other_object_dir+proj_name+'_problem_index_LRR_crossoverinterpolation.pkl','wb'))\n",
    "\n",
    "time_spent_ci, problem_index_ci = create_pyExplainer_obj('crossoverinterpolation', feature_df, test_label,'rulefit')\n",
    "pickle.dump(time_spent_ci, open(other_object_dir+proj_name+'_train_time_rulefit_crossoverinterpolation.pkl','wb'))\n",
    "pickle.dump(problem_index_ci, open(other_object_dir+proj_name+'_problem_index_rulefit_crossoverinterpolation.pkl','wb'))"
   ]
  },
  {
   "cell_type": "code",
   "execution_count": null,
   "metadata": {},
   "outputs": [],
   "source": []
  },
  {
   "cell_type": "markdown",
   "metadata": {},
   "source": [
    "## Just for testing"
   ]
  },
  {
   "cell_type": "code",
   "execution_count": 23,
   "metadata": {},
   "outputs": [],
   "source": [
    "explainer = 'rulefit'\n",
    "pyExp_random = pickle.load(open(pyExp_dir+proj_name+'_'+explainer+'_randompertubation_3126.pkl','rb'))\n",
    "pyExp_crossover = pickle.load(open(pyExp_dir+proj_name+'_'+explainer+'_crossoverinterpolation_3126.pkl','rb'))"
   ]
  },
  {
   "cell_type": "code",
   "execution_count": 25,
   "metadata": {},
   "outputs": [
    {
     "name": "stdout",
     "output_type": "stream",
     "text": [
      "dict_keys(['synthetic_data', 'synthetic_predictions', 'X_explain', 'y_explain', 'indep', 'dep', 'local_model', 'top_k_positive_rules', 'top_k_negative_rules'])\n"
     ]
    }
   ],
   "source": [
    "print(pyExp_random.keys())"
   ]
  },
  {
   "cell_type": "code",
   "execution_count": 32,
   "metadata": {},
   "outputs": [],
   "source": [
    "# euclid_dist = euclidean_distances(sample_instance.values.reshape(1,-1), synthetic_instances.values)[0]\n",
    "\n",
    "dist_rand = euclidean_distances(pyExp_random['X_explain'].values.reshape(1,-1), pyExp_random['synthetic_data'].values)[0]\n",
    "# plt.boxplot(dist)"
   ]
  },
  {
   "cell_type": "code",
   "execution_count": 33,
   "metadata": {},
   "outputs": [],
   "source": [
    "dist_cross = euclidean_distances(pyExp_crossover['X_explain'].values.reshape(1,-1), pyExp_crossover['synthetic_data'].values)[0]\n",
    "# plt.boxplot(dist)"
   ]
  },
  {
   "cell_type": "code",
   "execution_count": 34,
   "metadata": {},
   "outputs": [
    {
     "data": {
      "text/plain": [
       "{'whiskers': [<matplotlib.lines.Line2D at 0x7f991f275760>,\n",
       "  <matplotlib.lines.Line2D at 0x7f991f275ac0>,\n",
       "  <matplotlib.lines.Line2D at 0x7f991f2caa00>,\n",
       "  <matplotlib.lines.Line2D at 0x7f991f24c1f0>],\n",
       " 'caps': [<matplotlib.lines.Line2D at 0x7f991f26bc70>,\n",
       "  <matplotlib.lines.Line2D at 0x7f991f26bd60>,\n",
       "  <matplotlib.lines.Line2D at 0x7f991eedcaf0>,\n",
       "  <matplotlib.lines.Line2D at 0x7f991eedcbb0>],\n",
       " 'boxes': [<matplotlib.lines.Line2D at 0x7f991f275d30>,\n",
       "  <matplotlib.lines.Line2D at 0x7f991f265400>],\n",
       " 'medians': [<matplotlib.lines.Line2D at 0x7f991f265a30>,\n",
       "  <matplotlib.lines.Line2D at 0x7f991eedc100>],\n",
       " 'fliers': [<matplotlib.lines.Line2D at 0x7f991f265c10>,\n",
       "  <matplotlib.lines.Line2D at 0x7f991eedcf40>],\n",
       " 'means': []}"
      ]
     },
     "execution_count": 34,
     "metadata": {},
     "output_type": "execute_result"
    },
    {
     "data": {
      "image/png": "[encoded data removed]",
      "text/plain": [
       "<Figure size 432x288 with 1 Axes>"
      ]
     },
     "metadata": {
      "needs_background": "light"
     },
     "output_type": "display_data"
    }
   ],
   "source": [
    "data = [dist_rand, dist_cross]\n",
    "plt.boxplot(data)"
   ]
  },
  {
   "cell_type": "code",
   "execution_count": 16,
   "metadata": {},
   "outputs": [],
   "source": [
    "# display(feature_df)\n",
    "# for c in feature_df:\n",
    "#     print(c)\n",
    "\n",
    "# for k in range(0,1):\n",
    "#     print(k)"
   ]
  },
  {
   "cell_type": "code",
   "execution_count": 17,
   "metadata": {
    "scrolled": true
   },
   "outputs": [],
   "source": [
    "# test feature binarizer\n",
    "# from pyexplainer.features import *\n",
    "# fb = FeatureBinarizer(negations=True)\n",
    "# fb.fit(x_train)\n",
    "# display(fb.transform(feature_df))"
   ]
  },
  {
   "cell_type": "code",
   "execution_count": 18,
   "metadata": {
    "scrolled": true
   },
   "outputs": [],
   "source": [
    "# search_function='randompertubation'\n",
    "# i = 3\n",
    "\n",
    "# X_explain = feature_df.iloc[[i]]\n",
    "# y_explain = test_label.iloc[[i]]\n",
    "\n",
    "# row_index = str(X_explain.index[0])\n",
    "\n",
    "# start = time.time()\n",
    "\n",
    "# pyExp_obj = pyExp.explain(X_explain,\n",
    "#                            y_explain,\n",
    "#                            search_function = search_function, \n",
    "#                            top_k = 1000,\n",
    "#                            max_rules=2000, \n",
    "#                            max_iter =None, \n",
    "#                            cv=5,\n",
    "#                            explainer='rulefit',\n",
    "#                            debug = False)"
   ]
  },
  {
   "cell_type": "code",
   "execution_count": 19,
   "metadata": {},
   "outputs": [
    {
     "name": "stdout",
     "output_type": "stream",
     "text": [
      "dict_keys(['synthetic_data', 'synthetic_predictions', 'X_explain', 'y_explain', 'indep', 'dep', 'local_model', 'top_k_positive_rules', 'top_k_negative_rules'])\n"
     ]
    }
   ],
   "source": [
    "print(pyExp_obj.keys())"
   ]
  },
  {
   "cell_type": "code",
   "execution_count": 24,
   "metadata": {},
   "outputs": [],
   "source": [
    "# display(pyExp_obj['synthetic_data_fb'])"
   ]
  },
  {
   "cell_type": "code",
   "execution_count": 23,
   "metadata": {},
   "outputs": [
    {
     "name": "stdout",
     "output_type": "stream",
     "text": [
      "[False]\n"
     ]
    }
   ],
   "source": [
    "# local_model = pyExp_obj['local_model']\n",
    "# print(local_model.predict(X_explain.values))\n",
    "# print('------------------Explanation from local model-------------------------')\n",
    "# print(local_model.explain())"
   ]
  },
  {
   "cell_type": "code",
   "execution_count": 11,
   "metadata": {},
   "outputs": [],
   "source": [
    "# display(pyExp_obj['X_explain'])"
   ]
  },
  {
   "cell_type": "code",
   "execution_count": 12,
   "metadata": {},
   "outputs": [],
   "source": [
    "# print(local_model.predict(pyExp_obj['X_explain_fb']))"
   ]
  },
  {
   "cell_type": "markdown",
   "metadata": {},
   "source": [
    "### sample code for RQ1"
   ]
  },
  {
   "cell_type": "code",
   "execution_count": 26,
   "metadata": {},
   "outputs": [],
   "source": [
    "# synthetic_instances = pyExp_obj['synthetic_data']\n",
    "# sample_instance = pyExp_obj['X_explain']"
   ]
  },
  {
   "cell_type": "code",
   "execution_count": 23,
   "metadata": {},
   "outputs": [],
   "source": [
    "# def agg_list(val):\n",
    "#     return np.mean(val), np.median(val), np.max(val)\n",
    "\n",
    "# cos_sim = cosine_similarity(sample_instance.values.reshape(1,-1), synthetic_instances.values)[0]\n",
    "# euclid_dist = euclidean_distances(sample_instance.values.reshape(1,-1), synthetic_instances.values)[0]"
   ]
  },
  {
   "cell_type": "markdown",
   "metadata": {},
   "source": [
    "### sample code for RQ2"
   ]
  },
  {
   "cell_type": "code",
   "execution_count": 35,
   "metadata": {},
   "outputs": [
    {
     "name": "stdout",
     "output_type": "stream",
     "text": [
      "[False] [0.06562197]\n"
     ]
    }
   ],
   "source": [
    "# '''get prediction from global model then compare with result obtained from model (but how to compare??)'''\n",
    "\n",
    "# local_model = pyExp_obj['local_model']\n",
    "# '''In case pyExp uses logistic rule regression'''\n",
    "# fb_sample_instance = pyExp.feature_binarizer.transform(sample_instance)\n",
    "# # print(pyExp.feature_binarizer.transform(sample_instance))\n",
    "# local_pred = local_model.predict(fb_sample_instance)\n",
    "# local_pred_prob = local_model.predict_proba(fb_sample_instance)\n",
    "\n",
    "# '''In case pyExp uses RuleFit'''\n",
    "# # local_pred = local_model.predict(sample_instance)\n",
    "# # local_pred_prob = local_model.predict_proba(sample_instance)\n",
    "\n",
    "# print(local_pred, local_pred_prob)"
   ]
  },
  {
   "cell_type": "code",
   "execution_count": 13,
   "metadata": {},
   "outputs": [
    {
     "name": "stdout",
     "output_type": "stream",
     "text": [
      "------------------Prediction from local model-------------------------\n"
     ]
    },
    {
     "name": "stderr",
     "output_type": "stream",
     "text": [
      "/home/oathaha/.conda/envs/env_oat/lib/python3.9/site-packages/sklearn/linear_model/_sag.py:328: ConvergenceWarning: The max_iter was reached which means the coef_ did not converge\n",
      "  warnings.warn(\"The max_iter was reached which means \"\n"
     ]
    },
    {
     "name": "stdout",
     "output_type": "stream",
     "text": [
      "           rule coefficient\n",
      "0   (intercept)    0.926494\n",
      "1  nrev <= 1.00  -11.265911\n",
      "2    nd <= 1.00   -3.340535\n",
      "----------------------------------------------------------------------------------------------------\n"
     ]
    },
    {
     "name": "stderr",
     "output_type": "stream",
     "text": [
      "/home/oathaha/.conda/envs/env_oat/lib/python3.9/site-packages/sklearn/linear_model/_sag.py:328: ConvergenceWarning: The max_iter was reached which means the coef_ did not converge\n",
      "  warnings.warn(\"The max_iter was reached which means \"\n"
     ]
    },
    {
     "name": "stdout",
     "output_type": "stream",
     "text": [
      "            rule coefficient\n",
      "0    (intercept)   -4.822969\n",
      "1   nrev <= 1.00  -21.790036\n",
      "2    ent <= 0.90    11.04842\n",
      "3  asawr <= 0.16    2.480303\n",
      "4    nuc <= 3.00    2.480303\n",
      "----------------------------------------------------------------------------------------------------\n"
     ]
    },
    {
     "name": "stderr",
     "output_type": "stream",
     "text": [
      "/home/oathaha/.conda/envs/env_oat/lib/python3.9/site-packages/sklearn/linear_model/_sag.py:328: ConvergenceWarning: The max_iter was reached which means the coef_ did not converge\n",
      "  warnings.warn(\"The max_iter was reached which means \"\n"
     ]
    },
    {
     "name": "stdout",
     "output_type": "stream",
     "text": [
      "           rule coefficient\n",
      "0   (intercept)   -9.127939\n",
      "1  nrev <= 2.00   12.185013\n",
      "2  nrev <= 1.00   -7.495421\n",
      "3   ent <= 0.63   -7.495421\n",
      "----------------------------------------------------------------------------------------------------\n",
      "----------------------------------------------------------------------------------------------------\n",
      "there is only 1 class in the generated instances\n",
      "----------------------------------------------------------------------------------------------------\n"
     ]
    },
    {
     "name": "stderr",
     "output_type": "stream",
     "text": [
      "/home/oathaha/.conda/envs/env_oat/lib/python3.9/site-packages/sklearn/linear_model/_sag.py:328: ConvergenceWarning: The max_iter was reached which means the coef_ did not converge\n",
      "  warnings.warn(\"The max_iter was reached which means \"\n",
      "/home/oathaha/.conda/envs/env_oat/lib/python3.9/site-packages/sklearn/linear_model/_sag.py:328: ConvergenceWarning: The max_iter was reached which means the coef_ did not converge\n",
      "  warnings.warn(\"The max_iter was reached which means \"\n"
     ]
    },
    {
     "name": "stdout",
     "output_type": "stream",
     "text": [
      "            rule coefficient\n",
      "0    (intercept)    0.721183\n",
      "1   nrev <= 1.00   -8.482928\n",
      "2  asawr <= 0.05   -7.399822\n",
      "----------------------------------------------------------------------------------------------------\n",
      "          rule coefficient\n",
      "0  (intercept)   -3.748032\n",
      "----------------------------------------------------------------------------------------------------\n"
     ]
    },
    {
     "name": "stderr",
     "output_type": "stream",
     "text": [
      "/home/oathaha/.conda/envs/env_oat/lib/python3.9/site-packages/sklearn/linear_model/_sag.py:328: ConvergenceWarning: The max_iter was reached which means the coef_ did not converge\n",
      "  warnings.warn(\"The max_iter was reached which means \"\n",
      "/home/oathaha/.conda/envs/env_oat/lib/python3.9/site-packages/sklearn/linear_model/_sag.py:328: ConvergenceWarning: The max_iter was reached which means the coef_ did not converge\n",
      "  warnings.warn(\"The max_iter was reached which means \"\n"
     ]
    },
    {
     "name": "stdout",
     "output_type": "stream",
     "text": [
      "           rule coefficient\n",
      "0   (intercept)   -9.149672\n",
      "1  nrev <= 2.00   14.773528\n",
      "2  nrev <= 1.00    -9.91744\n",
      "3   ent <= 0.00   -8.247625\n",
      "----------------------------------------------------------------------------------------------------\n"
     ]
    },
    {
     "name": "stderr",
     "output_type": "stream",
     "text": [
      "/home/oathaha/.conda/envs/env_oat/lib/python3.9/site-packages/sklearn/linear_model/_sag.py:328: ConvergenceWarning: The max_iter was reached which means the coef_ did not converge\n",
      "  warnings.warn(\"The max_iter was reached which means \"\n"
     ]
    },
    {
     "name": "stdout",
     "output_type": "stream",
     "text": [
      "            rule coefficient\n",
      "0    (intercept)  -10.434791\n",
      "1   nrev <= 1.00  -15.862358\n",
      "2  asawr <= 0.09   15.725896\n",
      "----------------------------------------------------------------------------------------------------\n",
      "          rule coefficient\n",
      "0  (intercept)   -2.933625\n",
      "----------------------------------------------------------------------------------------------------\n",
      "            rule coefficient\n",
      "0    (intercept)    1.111113\n",
      "1     ld <= 0.00  -11.000013\n",
      "2   nrev <= 1.00   -2.505401\n",
      "3  asawr <= 0.00   -0.249322\n",
      "4  asawr <= 0.00   -0.249322\n",
      "----------------------------------------------------------------------------------------------------\n"
     ]
    },
    {
     "name": "stderr",
     "output_type": "stream",
     "text": [
      "/home/oathaha/.conda/envs/env_oat/lib/python3.9/site-packages/sklearn/linear_model/_sag.py:328: ConvergenceWarning: The max_iter was reached which means the coef_ did not converge\n",
      "  warnings.warn(\"The max_iter was reached which means \"\n",
      "/home/oathaha/.conda/envs/env_oat/lib/python3.9/site-packages/sklearn/linear_model/_sag.py:328: ConvergenceWarning: The max_iter was reached which means the coef_ did not converge\n",
      "  warnings.warn(\"The max_iter was reached which means \"\n"
     ]
    }
   ],
   "source": [
    "# test rulefit\n",
    "search_function='randompertubation'\n",
    "print('------------------Prediction from local model-------------------------')\n",
    "for i in [3,5,7,20,50,100,83,25,163,127]:\n",
    "    X_explain = feature_df.iloc[[i]]\n",
    "    y_explain = test_label.iloc[[i]]\n",
    "\n",
    "    row_index = str(X_explain.index[0])\n",
    "\n",
    "    start = time.time()\n",
    "\n",
    "    try:\n",
    "        pyExp_obj = pyExp.explain(X_explain,\n",
    "                                   y_explain,\n",
    "                                   search_function = search_function, \n",
    "                                   top_k = 1000,\n",
    "                                   max_rules=2000, \n",
    "                                   max_iter =None, \n",
    "                                   cv=5,\n",
    "                                   explainer='LRR',\n",
    "                                   debug = False)\n",
    "        end = time.time()\n",
    "#         print('time spent to train LRR:',str(end-start),'secs')\n",
    "        \n",
    "        local_model = pyExp_obj['local_model']\n",
    "        print(local_model.explain())\n",
    "        \n",
    "#         print(global_model.predict_proba(X_explain)[:,1], local_model.predict_proba(pyExp.scaler.transform(X_explain.values))[:,1])\n",
    "#         print(local_model.explain())\n",
    "        print('-'*100)\n",
    "    except:\n",
    "        print('-'*100)\n",
    "        print('there is only 1 class in the generated instances')\n",
    "        print('-'*100)\n"
   ]
  },
  {
   "cell_type": "code",
   "execution_count": 23,
   "metadata": {},
   "outputs": [
    {
     "name": "stdout",
     "output_type": "stream",
     "text": [
      "------------------Prediction from local model-------------------------\n",
      "[0.84] [0.96695341]\n",
      "----------------------------------------------------------------------------------------------------\n",
      "[0.73] [0.49372837]\n",
      "----------------------------------------------------------------------------------------------------\n",
      "[0.83] [0.99548978]\n",
      "----------------------------------------------------------------------------------------------------\n",
      "[0.67] [0.93530316]\n",
      "----------------------------------------------------------------------------------------------------\n",
      "[0.6] [0.94639136]\n",
      "----------------------------------------------------------------------------------------------------\n",
      "[0.66] [0.94685406]\n",
      "----------------------------------------------------------------------------------------------------\n",
      "[0.62] [0.77372941]\n",
      "----------------------------------------------------------------------------------------------------\n",
      "[0.75] [0.91593334]\n",
      "----------------------------------------------------------------------------------------------------\n",
      "[0.7] [0.66951567]\n",
      "----------------------------------------------------------------------------------------------------\n",
      "[0.58] [0.82852018]\n",
      "----------------------------------------------------------------------------------------------------\n"
     ]
    }
   ],
   "source": [
    "# test rulefit\n",
    "search_function='crossoverinterpolation'\n",
    "print('------------------Prediction from local model-------------------------')\n",
    "for i in [3,5,7,20,50,100,83,25,163,127]:\n",
    "    X_explain = feature_df.iloc[[i]]\n",
    "    y_explain = test_label.iloc[[i]]\n",
    "\n",
    "    row_index = str(X_explain.index[0])\n",
    "\n",
    "    start = time.time()\n",
    "\n",
    "    start = time.time()\n",
    "    try:\n",
    "        pyExp_obj = pyExp.explain(X_explain,\n",
    "                                   y_explain,\n",
    "                                   search_function = search_function, \n",
    "                                   top_k = 1000,\n",
    "                                   max_rules=2000, \n",
    "                                   max_iter =None, \n",
    "                                   cv=5,\n",
    "                                   explainer='rulefit',\n",
    "                                   debug = False)\n",
    "        end = time.time()\n",
    "#         print('time spent to train LRR:',str(end-start),'secs')\n",
    "        \n",
    "        local_model = pyExp_obj['local_model']\n",
    "        \n",
    "        print(global_model.predict_proba(X_explain)[:,1], local_model.predict_proba(X_explain.values)[:,1])\n",
    "#         print(local_model.explain())\n",
    "        print('-'*100)\n",
    "    except:\n",
    "        print('-'*100)\n",
    "        print('there is only 1 class in the generated instances')\n",
    "        print('-'*100)\n"
   ]
  },
  {
   "cell_type": "code",
   "execution_count": null,
   "metadata": {},
   "outputs": [],
   "source": []
  },
  {
   "cell_type": "code",
   "execution_count": null,
   "metadata": {},
   "outputs": [],
   "source": []
  },
  {
   "cell_type": "code",
   "execution_count": 14,
   "metadata": {},
   "outputs": [],
   "source": [
    "import warnings\n",
    "warnings.simplefilter(\"ignore\")"
   ]
  },
  {
   "cell_type": "code",
   "execution_count": 30,
   "metadata": {
    "scrolled": true
   },
   "outputs": [
    {
     "name": "stdout",
     "output_type": "stream",
     "text": [
      "time spent to train LRR: 1.4275202751159668 secs\n",
      "----------------------------------------------------------------------------------------------------\n",
      "time spent to train LRR: 1.738269329071045 secs\n",
      "----------------------------------------------------------------------------------------------------\n",
      "time spent to train LRR: 1.0873517990112305 secs\n",
      "----------------------------------------------------------------------------------------------------\n",
      "time spent to train LRR: 0.9002327919006348 secs\n",
      "----------------------------------------------------------------------------------------------------\n",
      "time spent to train LRR: 1.3496229648590088 secs\n",
      "----------------------------------------------------------------------------------------------------\n"
     ]
    },
    {
     "ename": "IndexError",
     "evalue": "positional indexers are out-of-bounds",
     "output_type": "error",
     "traceback": [
      "\u001b[0;31m---------------------------------------------------------------------------\u001b[0m",
      "\u001b[0;31mIndexError\u001b[0m                                Traceback (most recent call last)",
      "\u001b[0;32m~/.conda/envs/env_oat/lib/python3.9/site-packages/pandas/core/indexing.py\u001b[0m in \u001b[0;36m_get_list_axis\u001b[0;34m(self, key, axis)\u001b[0m\n\u001b[1;32m   1473\u001b[0m         \u001b[0;32mtry\u001b[0m\u001b[0;34m:\u001b[0m\u001b[0;34m\u001b[0m\u001b[0;34m\u001b[0m\u001b[0m\n\u001b[0;32m-> 1474\u001b[0;31m             \u001b[0;32mreturn\u001b[0m \u001b[0mself\u001b[0m\u001b[0;34m.\u001b[0m\u001b[0mobj\u001b[0m\u001b[0;34m.\u001b[0m\u001b[0m_take_with_is_copy\u001b[0m\u001b[0;34m(\u001b[0m\u001b[0mkey\u001b[0m\u001b[0;34m,\u001b[0m \u001b[0maxis\u001b[0m\u001b[0;34m=\u001b[0m\u001b[0maxis\u001b[0m\u001b[0;34m)\u001b[0m\u001b[0;34m\u001b[0m\u001b[0;34m\u001b[0m\u001b[0m\n\u001b[0m\u001b[1;32m   1475\u001b[0m         \u001b[0;32mexcept\u001b[0m \u001b[0mIndexError\u001b[0m \u001b[0;32mas\u001b[0m \u001b[0merr\u001b[0m\u001b[0;34m:\u001b[0m\u001b[0;34m\u001b[0m\u001b[0;34m\u001b[0m\u001b[0m\n",
      "\u001b[0;32m~/.conda/envs/env_oat/lib/python3.9/site-packages/pandas/core/generic.py\u001b[0m in \u001b[0;36m_take_with_is_copy\u001b[0;34m(self, indices, axis)\u001b[0m\n\u001b[1;32m   3599\u001b[0m         \"\"\"\n\u001b[0;32m-> 3600\u001b[0;31m         \u001b[0mresult\u001b[0m \u001b[0;34m=\u001b[0m \u001b[0mself\u001b[0m\u001b[0;34m.\u001b[0m\u001b[0mtake\u001b[0m\u001b[0;34m(\u001b[0m\u001b[0mindices\u001b[0m\u001b[0;34m=\u001b[0m\u001b[0mindices\u001b[0m\u001b[0;34m,\u001b[0m \u001b[0maxis\u001b[0m\u001b[0;34m=\u001b[0m\u001b[0maxis\u001b[0m\u001b[0;34m)\u001b[0m\u001b[0;34m\u001b[0m\u001b[0;34m\u001b[0m\u001b[0m\n\u001b[0m\u001b[1;32m   3601\u001b[0m         \u001b[0;31m# Maybe set copy if we didn't actually change the index.\u001b[0m\u001b[0;34m\u001b[0m\u001b[0;34m\u001b[0m\u001b[0;34m\u001b[0m\u001b[0m\n",
      "\u001b[0;32m~/.conda/envs/env_oat/lib/python3.9/site-packages/pandas/core/generic.py\u001b[0m in \u001b[0;36mtake\u001b[0;34m(self, indices, axis, is_copy, **kwargs)\u001b[0m\n\u001b[1;32m   3585\u001b[0m \u001b[0;34m\u001b[0m\u001b[0m\n\u001b[0;32m-> 3586\u001b[0;31m         new_data = self._mgr.take(\n\u001b[0m\u001b[1;32m   3587\u001b[0m             \u001b[0mindices\u001b[0m\u001b[0;34m,\u001b[0m \u001b[0maxis\u001b[0m\u001b[0;34m=\u001b[0m\u001b[0mself\u001b[0m\u001b[0;34m.\u001b[0m\u001b[0m_get_block_manager_axis\u001b[0m\u001b[0;34m(\u001b[0m\u001b[0maxis\u001b[0m\u001b[0;34m)\u001b[0m\u001b[0;34m,\u001b[0m \u001b[0mverify\u001b[0m\u001b[0;34m=\u001b[0m\u001b[0;32mTrue\u001b[0m\u001b[0;34m\u001b[0m\u001b[0;34m\u001b[0m\u001b[0m\n",
      "\u001b[0;32m~/.conda/envs/env_oat/lib/python3.9/site-packages/pandas/core/internals/managers.py\u001b[0m in \u001b[0;36mtake\u001b[0;34m(self, indexer, axis, verify, convert)\u001b[0m\n\u001b[1;32m   1466\u001b[0m         \u001b[0;32mif\u001b[0m \u001b[0mconvert\u001b[0m\u001b[0;34m:\u001b[0m\u001b[0;34m\u001b[0m\u001b[0;34m\u001b[0m\u001b[0m\n\u001b[0;32m-> 1467\u001b[0;31m             \u001b[0mindexer\u001b[0m \u001b[0;34m=\u001b[0m \u001b[0mmaybe_convert_indices\u001b[0m\u001b[0;34m(\u001b[0m\u001b[0mindexer\u001b[0m\u001b[0;34m,\u001b[0m \u001b[0mn\u001b[0m\u001b[0;34m)\u001b[0m\u001b[0;34m\u001b[0m\u001b[0;34m\u001b[0m\u001b[0m\n\u001b[0m\u001b[1;32m   1468\u001b[0m \u001b[0;34m\u001b[0m\u001b[0m\n",
      "\u001b[0;32m~/.conda/envs/env_oat/lib/python3.9/site-packages/pandas/core/indexers.py\u001b[0m in \u001b[0;36mmaybe_convert_indices\u001b[0;34m(indices, n)\u001b[0m\n\u001b[1;32m    264\u001b[0m     \u001b[0;32mif\u001b[0m \u001b[0mmask\u001b[0m\u001b[0;34m.\u001b[0m\u001b[0many\u001b[0m\u001b[0;34m(\u001b[0m\u001b[0;34m)\u001b[0m\u001b[0;34m:\u001b[0m\u001b[0;34m\u001b[0m\u001b[0;34m\u001b[0m\u001b[0m\n\u001b[0;32m--> 265\u001b[0;31m         \u001b[0;32mraise\u001b[0m \u001b[0mIndexError\u001b[0m\u001b[0;34m(\u001b[0m\u001b[0;34m\"indices are out-of-bounds\"\u001b[0m\u001b[0;34m)\u001b[0m\u001b[0;34m\u001b[0m\u001b[0;34m\u001b[0m\u001b[0m\n\u001b[0m\u001b[1;32m    266\u001b[0m     \u001b[0;32mreturn\u001b[0m \u001b[0mindices\u001b[0m\u001b[0;34m\u001b[0m\u001b[0;34m\u001b[0m\u001b[0m\n",
      "\u001b[0;31mIndexError\u001b[0m: indices are out-of-bounds",
      "\nThe above exception was the direct cause of the following exception:\n",
      "\u001b[0;31mIndexError\u001b[0m                                Traceback (most recent call last)",
      "\u001b[0;32m<ipython-input-30-73e92f53bfa7>\u001b[0m in \u001b[0;36m<module>\u001b[0;34m\u001b[0m\n\u001b[1;32m      4\u001b[0m \u001b[0;34m\u001b[0m\u001b[0m\n\u001b[1;32m      5\u001b[0m \u001b[0;32mfor\u001b[0m \u001b[0mi\u001b[0m \u001b[0;32min\u001b[0m \u001b[0;34m[\u001b[0m\u001b[0;36m3\u001b[0m\u001b[0;34m,\u001b[0m\u001b[0;36m5\u001b[0m\u001b[0;34m,\u001b[0m\u001b[0;36m7\u001b[0m\u001b[0;34m,\u001b[0m\u001b[0;36m20\u001b[0m\u001b[0;34m,\u001b[0m\u001b[0;36m50\u001b[0m\u001b[0;34m,\u001b[0m\u001b[0;36m100\u001b[0m\u001b[0;34m,\u001b[0m\u001b[0;36m83\u001b[0m\u001b[0;34m,\u001b[0m\u001b[0;36m25\u001b[0m\u001b[0;34m,\u001b[0m\u001b[0;36m163\u001b[0m\u001b[0;34m,\u001b[0m\u001b[0;36m127\u001b[0m\u001b[0;34m]\u001b[0m\u001b[0;34m:\u001b[0m\u001b[0;34m\u001b[0m\u001b[0;34m\u001b[0m\u001b[0m\n\u001b[0;32m----> 6\u001b[0;31m     \u001b[0mX_explain\u001b[0m \u001b[0;34m=\u001b[0m \u001b[0mfeature_df\u001b[0m\u001b[0;34m.\u001b[0m\u001b[0miloc\u001b[0m\u001b[0;34m[\u001b[0m\u001b[0;34m[\u001b[0m\u001b[0mi\u001b[0m\u001b[0;34m]\u001b[0m\u001b[0;34m]\u001b[0m\u001b[0;34m\u001b[0m\u001b[0;34m\u001b[0m\u001b[0m\n\u001b[0m\u001b[1;32m      7\u001b[0m     \u001b[0my_explain\u001b[0m \u001b[0;34m=\u001b[0m \u001b[0mtest_label\u001b[0m\u001b[0;34m.\u001b[0m\u001b[0miloc\u001b[0m\u001b[0;34m[\u001b[0m\u001b[0;34m[\u001b[0m\u001b[0mi\u001b[0m\u001b[0;34m]\u001b[0m\u001b[0;34m]\u001b[0m\u001b[0;34m\u001b[0m\u001b[0;34m\u001b[0m\u001b[0m\n\u001b[1;32m      8\u001b[0m \u001b[0;34m\u001b[0m\u001b[0m\n",
      "\u001b[0;32m~/.conda/envs/env_oat/lib/python3.9/site-packages/pandas/core/indexing.py\u001b[0m in \u001b[0;36m__getitem__\u001b[0;34m(self, key)\u001b[0m\n\u001b[1;32m    893\u001b[0m \u001b[0;34m\u001b[0m\u001b[0m\n\u001b[1;32m    894\u001b[0m             \u001b[0mmaybe_callable\u001b[0m \u001b[0;34m=\u001b[0m \u001b[0mcom\u001b[0m\u001b[0;34m.\u001b[0m\u001b[0mapply_if_callable\u001b[0m\u001b[0;34m(\u001b[0m\u001b[0mkey\u001b[0m\u001b[0;34m,\u001b[0m \u001b[0mself\u001b[0m\u001b[0;34m.\u001b[0m\u001b[0mobj\u001b[0m\u001b[0;34m)\u001b[0m\u001b[0;34m\u001b[0m\u001b[0;34m\u001b[0m\u001b[0m\n\u001b[0;32m--> 895\u001b[0;31m             \u001b[0;32mreturn\u001b[0m \u001b[0mself\u001b[0m\u001b[0;34m.\u001b[0m\u001b[0m_getitem_axis\u001b[0m\u001b[0;34m(\u001b[0m\u001b[0mmaybe_callable\u001b[0m\u001b[0;34m,\u001b[0m \u001b[0maxis\u001b[0m\u001b[0;34m=\u001b[0m\u001b[0maxis\u001b[0m\u001b[0;34m)\u001b[0m\u001b[0;34m\u001b[0m\u001b[0;34m\u001b[0m\u001b[0m\n\u001b[0m\u001b[1;32m    896\u001b[0m \u001b[0;34m\u001b[0m\u001b[0m\n\u001b[1;32m    897\u001b[0m     \u001b[0;32mdef\u001b[0m \u001b[0m_is_scalar_access\u001b[0m\u001b[0;34m(\u001b[0m\u001b[0mself\u001b[0m\u001b[0;34m,\u001b[0m \u001b[0mkey\u001b[0m\u001b[0;34m:\u001b[0m \u001b[0mTuple\u001b[0m\u001b[0;34m)\u001b[0m\u001b[0;34m:\u001b[0m\u001b[0;34m\u001b[0m\u001b[0;34m\u001b[0m\u001b[0m\n",
      "\u001b[0;32m~/.conda/envs/env_oat/lib/python3.9/site-packages/pandas/core/indexing.py\u001b[0m in \u001b[0;36m_getitem_axis\u001b[0;34m(self, key, axis)\u001b[0m\n\u001b[1;32m   1490\u001b[0m         \u001b[0;31m# a list of integers\u001b[0m\u001b[0;34m\u001b[0m\u001b[0;34m\u001b[0m\u001b[0;34m\u001b[0m\u001b[0m\n\u001b[1;32m   1491\u001b[0m         \u001b[0;32melif\u001b[0m \u001b[0mis_list_like_indexer\u001b[0m\u001b[0;34m(\u001b[0m\u001b[0mkey\u001b[0m\u001b[0;34m)\u001b[0m\u001b[0;34m:\u001b[0m\u001b[0;34m\u001b[0m\u001b[0;34m\u001b[0m\u001b[0m\n\u001b[0;32m-> 1492\u001b[0;31m             \u001b[0;32mreturn\u001b[0m \u001b[0mself\u001b[0m\u001b[0;34m.\u001b[0m\u001b[0m_get_list_axis\u001b[0m\u001b[0;34m(\u001b[0m\u001b[0mkey\u001b[0m\u001b[0;34m,\u001b[0m \u001b[0maxis\u001b[0m\u001b[0;34m=\u001b[0m\u001b[0maxis\u001b[0m\u001b[0;34m)\u001b[0m\u001b[0;34m\u001b[0m\u001b[0;34m\u001b[0m\u001b[0m\n\u001b[0m\u001b[1;32m   1493\u001b[0m \u001b[0;34m\u001b[0m\u001b[0m\n\u001b[1;32m   1494\u001b[0m         \u001b[0;31m# a single integer\u001b[0m\u001b[0;34m\u001b[0m\u001b[0;34m\u001b[0m\u001b[0;34m\u001b[0m\u001b[0m\n",
      "\u001b[0;32m~/.conda/envs/env_oat/lib/python3.9/site-packages/pandas/core/indexing.py\u001b[0m in \u001b[0;36m_get_list_axis\u001b[0;34m(self, key, axis)\u001b[0m\n\u001b[1;32m   1475\u001b[0m         \u001b[0;32mexcept\u001b[0m \u001b[0mIndexError\u001b[0m \u001b[0;32mas\u001b[0m \u001b[0merr\u001b[0m\u001b[0;34m:\u001b[0m\u001b[0;34m\u001b[0m\u001b[0;34m\u001b[0m\u001b[0m\n\u001b[1;32m   1476\u001b[0m             \u001b[0;31m# re-raise with different error message\u001b[0m\u001b[0;34m\u001b[0m\u001b[0;34m\u001b[0m\u001b[0;34m\u001b[0m\u001b[0m\n\u001b[0;32m-> 1477\u001b[0;31m             \u001b[0;32mraise\u001b[0m \u001b[0mIndexError\u001b[0m\u001b[0;34m(\u001b[0m\u001b[0;34m\"positional indexers are out-of-bounds\"\u001b[0m\u001b[0;34m)\u001b[0m \u001b[0;32mfrom\u001b[0m \u001b[0merr\u001b[0m\u001b[0;34m\u001b[0m\u001b[0;34m\u001b[0m\u001b[0m\n\u001b[0m\u001b[1;32m   1478\u001b[0m \u001b[0;34m\u001b[0m\u001b[0m\n\u001b[1;32m   1479\u001b[0m     \u001b[0;32mdef\u001b[0m \u001b[0m_getitem_axis\u001b[0m\u001b[0;34m(\u001b[0m\u001b[0mself\u001b[0m\u001b[0;34m,\u001b[0m \u001b[0mkey\u001b[0m\u001b[0;34m,\u001b[0m \u001b[0maxis\u001b[0m\u001b[0;34m:\u001b[0m \u001b[0mint\u001b[0m\u001b[0;34m)\u001b[0m\u001b[0;34m:\u001b[0m\u001b[0;34m\u001b[0m\u001b[0;34m\u001b[0m\u001b[0m\n",
      "\u001b[0;31mIndexError\u001b[0m: positional indexers are out-of-bounds"
     ]
    }
   ],
   "source": [
    "# sample LRR when used with random perturbation\n",
    "\n",
    "search_function='randompertubation'\n",
    "\n",
    "for i in [3,5,7,20,50,100,83,25,163,127]:\n",
    "    X_explain = feature_df.iloc[[i]]\n",
    "    y_explain = test_label.iloc[[i]]\n",
    "\n",
    "    row_index = str(X_explain.index[0])\n",
    "\n",
    "    start = time.time()\n",
    "\n",
    "    start = time.time()\n",
    "    try:\n",
    "        pyExp_obj = pyExp.explain(X_explain,\n",
    "                                   y_explain,\n",
    "                                   search_function = search_function, \n",
    "                                   top_k = 1000,\n",
    "                                   max_rules=2000, \n",
    "                                   max_iter =None, \n",
    "                                   cv=5,\n",
    "                                   explainer='LRR',\n",
    "                                   debug = False)\n",
    "        end = time.time()\n",
    "        print('time spent to train LRR:',str(end-start),'secs')\n",
    "\n",
    "#         local_model = pyExp_obj['local_model']\n",
    "#         print('------------------Explanation from local model-------------------------')\n",
    "#         print(local_model.explain())\n",
    "        print('-'*100)\n",
    "    except:\n",
    "        print('-'*100)\n",
    "        print('there is only 1 class in the generated instances')\n",
    "        print('-'*100)\n",
    "    "
   ]
  },
  {
   "cell_type": "code",
   "execution_count": 31,
   "metadata": {
    "scrolled": true
   },
   "outputs": [
    {
     "name": "stdout",
     "output_type": "stream",
     "text": [
      "time spent to train LRR: 28.87514853477478 secs\n",
      "----------------------------------------------------------------------------------------------------\n",
      "time spent to train LRR: 26.213839769363403 secs\n",
      "----------------------------------------------------------------------------------------------------\n",
      "time spent to train LRR: 25.021041870117188 secs\n",
      "----------------------------------------------------------------------------------------------------\n",
      "time spent to train LRR: 29.421844244003296 secs\n",
      "----------------------------------------------------------------------------------------------------\n",
      "time spent to train LRR: 26.97343945503235 secs\n",
      "----------------------------------------------------------------------------------------------------\n"
     ]
    },
    {
     "ename": "IndexError",
     "evalue": "positional indexers are out-of-bounds",
     "output_type": "error",
     "traceback": [
      "\u001b[0;31m---------------------------------------------------------------------------\u001b[0m",
      "\u001b[0;31mIndexError\u001b[0m                                Traceback (most recent call last)",
      "\u001b[0;32m~/.conda/envs/env_oat/lib/python3.9/site-packages/pandas/core/indexing.py\u001b[0m in \u001b[0;36m_get_list_axis\u001b[0;34m(self, key, axis)\u001b[0m\n\u001b[1;32m   1473\u001b[0m         \u001b[0;32mtry\u001b[0m\u001b[0;34m:\u001b[0m\u001b[0;34m\u001b[0m\u001b[0;34m\u001b[0m\u001b[0m\n\u001b[0;32m-> 1474\u001b[0;31m             \u001b[0;32mreturn\u001b[0m \u001b[0mself\u001b[0m\u001b[0;34m.\u001b[0m\u001b[0mobj\u001b[0m\u001b[0;34m.\u001b[0m\u001b[0m_take_with_is_copy\u001b[0m\u001b[0;34m(\u001b[0m\u001b[0mkey\u001b[0m\u001b[0;34m,\u001b[0m \u001b[0maxis\u001b[0m\u001b[0;34m=\u001b[0m\u001b[0maxis\u001b[0m\u001b[0;34m)\u001b[0m\u001b[0;34m\u001b[0m\u001b[0;34m\u001b[0m\u001b[0m\n\u001b[0m\u001b[1;32m   1475\u001b[0m         \u001b[0;32mexcept\u001b[0m \u001b[0mIndexError\u001b[0m \u001b[0;32mas\u001b[0m \u001b[0merr\u001b[0m\u001b[0;34m:\u001b[0m\u001b[0;34m\u001b[0m\u001b[0;34m\u001b[0m\u001b[0m\n",
      "\u001b[0;32m~/.conda/envs/env_oat/lib/python3.9/site-packages/pandas/core/generic.py\u001b[0m in \u001b[0;36m_take_with_is_copy\u001b[0;34m(self, indices, axis)\u001b[0m\n\u001b[1;32m   3599\u001b[0m         \"\"\"\n\u001b[0;32m-> 3600\u001b[0;31m         \u001b[0mresult\u001b[0m \u001b[0;34m=\u001b[0m \u001b[0mself\u001b[0m\u001b[0;34m.\u001b[0m\u001b[0mtake\u001b[0m\u001b[0;34m(\u001b[0m\u001b[0mindices\u001b[0m\u001b[0;34m=\u001b[0m\u001b[0mindices\u001b[0m\u001b[0;34m,\u001b[0m \u001b[0maxis\u001b[0m\u001b[0;34m=\u001b[0m\u001b[0maxis\u001b[0m\u001b[0;34m)\u001b[0m\u001b[0;34m\u001b[0m\u001b[0;34m\u001b[0m\u001b[0m\n\u001b[0m\u001b[1;32m   3601\u001b[0m         \u001b[0;31m# Maybe set copy if we didn't actually change the index.\u001b[0m\u001b[0;34m\u001b[0m\u001b[0;34m\u001b[0m\u001b[0;34m\u001b[0m\u001b[0m\n",
      "\u001b[0;32m~/.conda/envs/env_oat/lib/python3.9/site-packages/pandas/core/generic.py\u001b[0m in \u001b[0;36mtake\u001b[0;34m(self, indices, axis, is_copy, **kwargs)\u001b[0m\n\u001b[1;32m   3585\u001b[0m \u001b[0;34m\u001b[0m\u001b[0m\n\u001b[0;32m-> 3586\u001b[0;31m         new_data = self._mgr.take(\n\u001b[0m\u001b[1;32m   3587\u001b[0m             \u001b[0mindices\u001b[0m\u001b[0;34m,\u001b[0m \u001b[0maxis\u001b[0m\u001b[0;34m=\u001b[0m\u001b[0mself\u001b[0m\u001b[0;34m.\u001b[0m\u001b[0m_get_block_manager_axis\u001b[0m\u001b[0;34m(\u001b[0m\u001b[0maxis\u001b[0m\u001b[0;34m)\u001b[0m\u001b[0;34m,\u001b[0m \u001b[0mverify\u001b[0m\u001b[0;34m=\u001b[0m\u001b[0;32mTrue\u001b[0m\u001b[0;34m\u001b[0m\u001b[0;34m\u001b[0m\u001b[0m\n",
      "\u001b[0;32m~/.conda/envs/env_oat/lib/python3.9/site-packages/pandas/core/internals/managers.py\u001b[0m in \u001b[0;36mtake\u001b[0;34m(self, indexer, axis, verify, convert)\u001b[0m\n\u001b[1;32m   1466\u001b[0m         \u001b[0;32mif\u001b[0m \u001b[0mconvert\u001b[0m\u001b[0;34m:\u001b[0m\u001b[0;34m\u001b[0m\u001b[0;34m\u001b[0m\u001b[0m\n\u001b[0;32m-> 1467\u001b[0;31m             \u001b[0mindexer\u001b[0m \u001b[0;34m=\u001b[0m \u001b[0mmaybe_convert_indices\u001b[0m\u001b[0;34m(\u001b[0m\u001b[0mindexer\u001b[0m\u001b[0;34m,\u001b[0m \u001b[0mn\u001b[0m\u001b[0;34m)\u001b[0m\u001b[0;34m\u001b[0m\u001b[0;34m\u001b[0m\u001b[0m\n\u001b[0m\u001b[1;32m   1468\u001b[0m \u001b[0;34m\u001b[0m\u001b[0m\n",
      "\u001b[0;32m~/.conda/envs/env_oat/lib/python3.9/site-packages/pandas/core/indexers.py\u001b[0m in \u001b[0;36mmaybe_convert_indices\u001b[0;34m(indices, n)\u001b[0m\n\u001b[1;32m    264\u001b[0m     \u001b[0;32mif\u001b[0m \u001b[0mmask\u001b[0m\u001b[0;34m.\u001b[0m\u001b[0many\u001b[0m\u001b[0;34m(\u001b[0m\u001b[0;34m)\u001b[0m\u001b[0;34m:\u001b[0m\u001b[0;34m\u001b[0m\u001b[0;34m\u001b[0m\u001b[0m\n\u001b[0;32m--> 265\u001b[0;31m         \u001b[0;32mraise\u001b[0m \u001b[0mIndexError\u001b[0m\u001b[0;34m(\u001b[0m\u001b[0;34m\"indices are out-of-bounds\"\u001b[0m\u001b[0;34m)\u001b[0m\u001b[0;34m\u001b[0m\u001b[0;34m\u001b[0m\u001b[0m\n\u001b[0m\u001b[1;32m    266\u001b[0m     \u001b[0;32mreturn\u001b[0m \u001b[0mindices\u001b[0m\u001b[0;34m\u001b[0m\u001b[0;34m\u001b[0m\u001b[0m\n",
      "\u001b[0;31mIndexError\u001b[0m: indices are out-of-bounds",
      "\nThe above exception was the direct cause of the following exception:\n",
      "\u001b[0;31mIndexError\u001b[0m                                Traceback (most recent call last)",
      "\u001b[0;32m<ipython-input-31-b3ee45065751>\u001b[0m in \u001b[0;36m<module>\u001b[0;34m\u001b[0m\n\u001b[1;32m      4\u001b[0m \u001b[0;34m\u001b[0m\u001b[0m\n\u001b[1;32m      5\u001b[0m \u001b[0;32mfor\u001b[0m \u001b[0mi\u001b[0m \u001b[0;32min\u001b[0m \u001b[0;34m[\u001b[0m\u001b[0;36m3\u001b[0m\u001b[0;34m,\u001b[0m\u001b[0;36m5\u001b[0m\u001b[0;34m,\u001b[0m\u001b[0;36m7\u001b[0m\u001b[0;34m,\u001b[0m\u001b[0;36m20\u001b[0m\u001b[0;34m,\u001b[0m\u001b[0;36m50\u001b[0m\u001b[0;34m,\u001b[0m\u001b[0;36m100\u001b[0m\u001b[0;34m,\u001b[0m\u001b[0;36m83\u001b[0m\u001b[0;34m,\u001b[0m\u001b[0;36m25\u001b[0m\u001b[0;34m,\u001b[0m\u001b[0;36m163\u001b[0m\u001b[0;34m,\u001b[0m\u001b[0;36m127\u001b[0m\u001b[0;34m]\u001b[0m\u001b[0;34m:\u001b[0m\u001b[0;34m\u001b[0m\u001b[0;34m\u001b[0m\u001b[0m\n\u001b[0;32m----> 6\u001b[0;31m     \u001b[0mX_explain\u001b[0m \u001b[0;34m=\u001b[0m \u001b[0mfeature_df\u001b[0m\u001b[0;34m.\u001b[0m\u001b[0miloc\u001b[0m\u001b[0;34m[\u001b[0m\u001b[0;34m[\u001b[0m\u001b[0mi\u001b[0m\u001b[0;34m]\u001b[0m\u001b[0;34m]\u001b[0m\u001b[0;34m\u001b[0m\u001b[0;34m\u001b[0m\u001b[0m\n\u001b[0m\u001b[1;32m      7\u001b[0m     \u001b[0my_explain\u001b[0m \u001b[0;34m=\u001b[0m \u001b[0mtest_label\u001b[0m\u001b[0;34m.\u001b[0m\u001b[0miloc\u001b[0m\u001b[0;34m[\u001b[0m\u001b[0;34m[\u001b[0m\u001b[0mi\u001b[0m\u001b[0;34m]\u001b[0m\u001b[0;34m]\u001b[0m\u001b[0;34m\u001b[0m\u001b[0;34m\u001b[0m\u001b[0m\n\u001b[1;32m      8\u001b[0m \u001b[0;34m\u001b[0m\u001b[0m\n",
      "\u001b[0;32m~/.conda/envs/env_oat/lib/python3.9/site-packages/pandas/core/indexing.py\u001b[0m in \u001b[0;36m__getitem__\u001b[0;34m(self, key)\u001b[0m\n\u001b[1;32m    893\u001b[0m \u001b[0;34m\u001b[0m\u001b[0m\n\u001b[1;32m    894\u001b[0m             \u001b[0mmaybe_callable\u001b[0m \u001b[0;34m=\u001b[0m \u001b[0mcom\u001b[0m\u001b[0;34m.\u001b[0m\u001b[0mapply_if_callable\u001b[0m\u001b[0;34m(\u001b[0m\u001b[0mkey\u001b[0m\u001b[0;34m,\u001b[0m \u001b[0mself\u001b[0m\u001b[0;34m.\u001b[0m\u001b[0mobj\u001b[0m\u001b[0;34m)\u001b[0m\u001b[0;34m\u001b[0m\u001b[0;34m\u001b[0m\u001b[0m\n\u001b[0;32m--> 895\u001b[0;31m             \u001b[0;32mreturn\u001b[0m \u001b[0mself\u001b[0m\u001b[0;34m.\u001b[0m\u001b[0m_getitem_axis\u001b[0m\u001b[0;34m(\u001b[0m\u001b[0mmaybe_callable\u001b[0m\u001b[0;34m,\u001b[0m \u001b[0maxis\u001b[0m\u001b[0;34m=\u001b[0m\u001b[0maxis\u001b[0m\u001b[0;34m)\u001b[0m\u001b[0;34m\u001b[0m\u001b[0;34m\u001b[0m\u001b[0m\n\u001b[0m\u001b[1;32m    896\u001b[0m \u001b[0;34m\u001b[0m\u001b[0m\n\u001b[1;32m    897\u001b[0m     \u001b[0;32mdef\u001b[0m \u001b[0m_is_scalar_access\u001b[0m\u001b[0;34m(\u001b[0m\u001b[0mself\u001b[0m\u001b[0;34m,\u001b[0m \u001b[0mkey\u001b[0m\u001b[0;34m:\u001b[0m \u001b[0mTuple\u001b[0m\u001b[0;34m)\u001b[0m\u001b[0;34m:\u001b[0m\u001b[0;34m\u001b[0m\u001b[0;34m\u001b[0m\u001b[0m\n",
      "\u001b[0;32m~/.conda/envs/env_oat/lib/python3.9/site-packages/pandas/core/indexing.py\u001b[0m in \u001b[0;36m_getitem_axis\u001b[0;34m(self, key, axis)\u001b[0m\n\u001b[1;32m   1490\u001b[0m         \u001b[0;31m# a list of integers\u001b[0m\u001b[0;34m\u001b[0m\u001b[0;34m\u001b[0m\u001b[0;34m\u001b[0m\u001b[0m\n\u001b[1;32m   1491\u001b[0m         \u001b[0;32melif\u001b[0m \u001b[0mis_list_like_indexer\u001b[0m\u001b[0;34m(\u001b[0m\u001b[0mkey\u001b[0m\u001b[0;34m)\u001b[0m\u001b[0;34m:\u001b[0m\u001b[0;34m\u001b[0m\u001b[0;34m\u001b[0m\u001b[0m\n\u001b[0;32m-> 1492\u001b[0;31m             \u001b[0;32mreturn\u001b[0m \u001b[0mself\u001b[0m\u001b[0;34m.\u001b[0m\u001b[0m_get_list_axis\u001b[0m\u001b[0;34m(\u001b[0m\u001b[0mkey\u001b[0m\u001b[0;34m,\u001b[0m \u001b[0maxis\u001b[0m\u001b[0;34m=\u001b[0m\u001b[0maxis\u001b[0m\u001b[0;34m)\u001b[0m\u001b[0;34m\u001b[0m\u001b[0;34m\u001b[0m\u001b[0m\n\u001b[0m\u001b[1;32m   1493\u001b[0m \u001b[0;34m\u001b[0m\u001b[0m\n\u001b[1;32m   1494\u001b[0m         \u001b[0;31m# a single integer\u001b[0m\u001b[0;34m\u001b[0m\u001b[0;34m\u001b[0m\u001b[0;34m\u001b[0m\u001b[0m\n",
      "\u001b[0;32m~/.conda/envs/env_oat/lib/python3.9/site-packages/pandas/core/indexing.py\u001b[0m in \u001b[0;36m_get_list_axis\u001b[0;34m(self, key, axis)\u001b[0m\n\u001b[1;32m   1475\u001b[0m         \u001b[0;32mexcept\u001b[0m \u001b[0mIndexError\u001b[0m \u001b[0;32mas\u001b[0m \u001b[0merr\u001b[0m\u001b[0;34m:\u001b[0m\u001b[0;34m\u001b[0m\u001b[0;34m\u001b[0m\u001b[0m\n\u001b[1;32m   1476\u001b[0m             \u001b[0;31m# re-raise with different error message\u001b[0m\u001b[0;34m\u001b[0m\u001b[0;34m\u001b[0m\u001b[0;34m\u001b[0m\u001b[0m\n\u001b[0;32m-> 1477\u001b[0;31m             \u001b[0;32mraise\u001b[0m \u001b[0mIndexError\u001b[0m\u001b[0;34m(\u001b[0m\u001b[0;34m\"positional indexers are out-of-bounds\"\u001b[0m\u001b[0;34m)\u001b[0m \u001b[0;32mfrom\u001b[0m \u001b[0merr\u001b[0m\u001b[0;34m\u001b[0m\u001b[0;34m\u001b[0m\u001b[0m\n\u001b[0m\u001b[1;32m   1478\u001b[0m \u001b[0;34m\u001b[0m\u001b[0m\n\u001b[1;32m   1479\u001b[0m     \u001b[0;32mdef\u001b[0m \u001b[0m_getitem_axis\u001b[0m\u001b[0;34m(\u001b[0m\u001b[0mself\u001b[0m\u001b[0;34m,\u001b[0m \u001b[0mkey\u001b[0m\u001b[0;34m,\u001b[0m \u001b[0maxis\u001b[0m\u001b[0;34m:\u001b[0m \u001b[0mint\u001b[0m\u001b[0;34m)\u001b[0m\u001b[0;34m:\u001b[0m\u001b[0;34m\u001b[0m\u001b[0;34m\u001b[0m\u001b[0m\n",
      "\u001b[0;31mIndexError\u001b[0m: positional indexers are out-of-bounds"
     ]
    }
   ],
   "source": [
    "# sample LRR when used with crossover interpolation\n",
    "\n",
    "search_function='crossoverinterpolation'\n",
    "\n",
    "for i in [3,5,7,20,50,100,83,25,163,127]:\n",
    "    X_explain = feature_df.iloc[[i]]\n",
    "    y_explain = test_label.iloc[[i]]\n",
    "\n",
    "    row_index = str(X_explain.index[0])\n",
    "\n",
    "    start = time.time()\n",
    "\n",
    "    start = time.time()\n",
    "    pyExp_obj = pyExp.explain(X_explain,\n",
    "                               y_explain,\n",
    "                               search_function = search_function, \n",
    "                               top_k = 1000,\n",
    "                               max_rules=2000, \n",
    "                               max_iter =None, \n",
    "                               cv=5,\n",
    "                               explainer='LRR',\n",
    "                               debug = False)\n",
    "    end = time.time()\n",
    "    print('time spent to train LRR:',str(end-start),'secs')\n",
    "    \n",
    "#     local_model = pyExp_obj['local_model']\n",
    "#     print('------------------Explanation from local model-------------------------')\n",
    "#     print(local_model.explain())\n",
    "    print('-'*100)\n",
    "    \n",
    "    "
   ]
  },
  {
   "cell_type": "code",
   "execution_count": 19,
   "metadata": {},
   "outputs": [
    {
     "name": "stdout",
     "output_type": "stream",
     "text": [
      "dict_keys(['synthetic_data', 'synthetic_predictions', 'X_explain', 'y_explain', 'X_explain_fb', 'indep', 'dep', 'local_model'])\n"
     ]
    }
   ],
   "source": [
    "print(pyExp_obj.keys())"
   ]
  },
  {
   "cell_type": "code",
   "execution_count": 20,
   "metadata": {},
   "outputs": [],
   "source": [
    "# display(pyExp_obj['synthetic_data'].columns)\n",
    "# print(feature_df.index)\n",
    "local_model = pyExp_obj['local_model']"
   ]
  },
  {
   "cell_type": "code",
   "execution_count": 21,
   "metadata": {},
   "outputs": [
    {
     "name": "stdout",
     "output_type": "stream",
     "text": [
      "          rule coefficient\n",
      "0  (intercept)     1.21719\n",
      "1  la <= 44.00    -2.10262\n",
      "2  la <= 76.00   -0.561556\n"
     ]
    }
   ],
   "source": [
    "print(local_model.explain( maxCoeffs=None))\n",
    "# print(local_model.z)"
   ]
  },
  {
   "cell_type": "code",
   "execution_count": 22,
   "metadata": {
    "scrolled": true
   },
   "outputs": [
    {
     "name": "stdout",
     "output_type": "stream",
     "text": [
      "MultiIndex([(   'la', '<=',                 1.0),\n",
      "            (   'la', '<=',                 2.0),\n",
      "            (   'la', '<=',                 5.0),\n",
      "            (   'la', '<=',                 9.0),\n",
      "            (   'la', '<=',                17.0),\n",
      "            (   'la', '<=',                27.0),\n",
      "            (   'la', '<=',                44.0),\n",
      "            (   'la', '<=',                76.0),\n",
      "            (   'la', '<=',               163.0),\n",
      "            (   'ld', '<=',                 0.0),\n",
      "            ...\n",
      "            ('asawr', '<=',   0.433364602876798),\n",
      "            ('rsawr', '<=', 0.18055330452007923),\n",
      "            ('rsawr', '<=',  0.2564102564102564),\n",
      "            ('rsawr', '<=',  0.3196254791765793),\n",
      "            ('rsawr', '<=',  0.3754889178617992),\n",
      "            ('rsawr', '<=',  0.4287529047714299),\n",
      "            ('rsawr', '<=',  0.4816326530612245),\n",
      "            ('rsawr', '<=',  0.5758975125536251),\n",
      "            ('rsawr', '<=',  0.7078384798099763),\n",
      "            ('rsawr', '<=',  0.8487118531623176)],\n",
      "           names=['feature', 'operation', 'value'], length=165)\n"
     ]
    },
    {
     "data": {
      "text/html": [
       "<div>\n",
       "<style scoped>\n",
       "    .dataframe tbody tr th:only-of-type {\n",
       "        vertical-align: middle;\n",
       "    }\n",
       "\n",
       "    .dataframe tbody tr th {\n",
       "        vertical-align: top;\n",
       "    }\n",
       "\n",
       "    .dataframe thead tr th {\n",
       "        text-align: left;\n",
       "    }\n",
       "</style>\n",
       "<table border=\"1\" class=\"dataframe\">\n",
       "  <thead>\n",
       "    <tr>\n",
       "      <th>feature</th>\n",
       "      <th colspan=\"9\" halign=\"left\">la</th>\n",
       "      <th>ld</th>\n",
       "      <th>...</th>\n",
       "      <th>asawr</th>\n",
       "      <th colspan=\"9\" halign=\"left\">rsawr</th>\n",
       "    </tr>\n",
       "    <tr>\n",
       "      <th>operation</th>\n",
       "      <th colspan=\"9\" halign=\"left\">&lt;=</th>\n",
       "      <th>&lt;=</th>\n",
       "      <th>...</th>\n",
       "      <th>&lt;=</th>\n",
       "      <th colspan=\"9\" halign=\"left\">&lt;=</th>\n",
       "    </tr>\n",
       "    <tr>\n",
       "      <th>value</th>\n",
       "      <th>1.000000</th>\n",
       "      <th>2.000000</th>\n",
       "      <th>5.000000</th>\n",
       "      <th>9.000000</th>\n",
       "      <th>17.000000</th>\n",
       "      <th>27.000000</th>\n",
       "      <th>44.000000</th>\n",
       "      <th>76.000000</th>\n",
       "      <th>163.000000</th>\n",
       "      <th>0.000000</th>\n",
       "      <th>...</th>\n",
       "      <th>0.433365</th>\n",
       "      <th>0.180553</th>\n",
       "      <th>0.256410</th>\n",
       "      <th>0.319625</th>\n",
       "      <th>0.375489</th>\n",
       "      <th>0.428753</th>\n",
       "      <th>0.481633</th>\n",
       "      <th>0.575898</th>\n",
       "      <th>0.707838</th>\n",
       "      <th>0.848712</th>\n",
       "    </tr>\n",
       "  </thead>\n",
       "  <tbody>\n",
       "    <tr>\n",
       "      <th>0</th>\n",
       "      <td>0</td>\n",
       "      <td>0</td>\n",
       "      <td>0</td>\n",
       "      <td>0</td>\n",
       "      <td>0</td>\n",
       "      <td>0</td>\n",
       "      <td>0</td>\n",
       "      <td>0</td>\n",
       "      <td>0</td>\n",
       "      <td>0</td>\n",
       "      <td>...</td>\n",
       "      <td>1</td>\n",
       "      <td>0</td>\n",
       "      <td>0</td>\n",
       "      <td>0</td>\n",
       "      <td>0</td>\n",
       "      <td>0</td>\n",
       "      <td>0</td>\n",
       "      <td>0</td>\n",
       "      <td>1</td>\n",
       "      <td>1</td>\n",
       "    </tr>\n",
       "    <tr>\n",
       "      <th>1</th>\n",
       "      <td>0</td>\n",
       "      <td>0</td>\n",
       "      <td>0</td>\n",
       "      <td>0</td>\n",
       "      <td>0</td>\n",
       "      <td>0</td>\n",
       "      <td>0</td>\n",
       "      <td>0</td>\n",
       "      <td>0</td>\n",
       "      <td>1</td>\n",
       "      <td>...</td>\n",
       "      <td>1</td>\n",
       "      <td>0</td>\n",
       "      <td>0</td>\n",
       "      <td>0</td>\n",
       "      <td>0</td>\n",
       "      <td>0</td>\n",
       "      <td>0</td>\n",
       "      <td>0</td>\n",
       "      <td>1</td>\n",
       "      <td>1</td>\n",
       "    </tr>\n",
       "    <tr>\n",
       "      <th>2</th>\n",
       "      <td>0</td>\n",
       "      <td>0</td>\n",
       "      <td>0</td>\n",
       "      <td>0</td>\n",
       "      <td>0</td>\n",
       "      <td>0</td>\n",
       "      <td>0</td>\n",
       "      <td>0</td>\n",
       "      <td>0</td>\n",
       "      <td>0</td>\n",
       "      <td>...</td>\n",
       "      <td>1</td>\n",
       "      <td>0</td>\n",
       "      <td>0</td>\n",
       "      <td>0</td>\n",
       "      <td>0</td>\n",
       "      <td>0</td>\n",
       "      <td>0</td>\n",
       "      <td>1</td>\n",
       "      <td>1</td>\n",
       "      <td>1</td>\n",
       "    </tr>\n",
       "    <tr>\n",
       "      <th>3</th>\n",
       "      <td>0</td>\n",
       "      <td>0</td>\n",
       "      <td>0</td>\n",
       "      <td>0</td>\n",
       "      <td>0</td>\n",
       "      <td>0</td>\n",
       "      <td>0</td>\n",
       "      <td>0</td>\n",
       "      <td>0</td>\n",
       "      <td>0</td>\n",
       "      <td>...</td>\n",
       "      <td>1</td>\n",
       "      <td>0</td>\n",
       "      <td>0</td>\n",
       "      <td>0</td>\n",
       "      <td>0</td>\n",
       "      <td>0</td>\n",
       "      <td>0</td>\n",
       "      <td>0</td>\n",
       "      <td>1</td>\n",
       "      <td>1</td>\n",
       "    </tr>\n",
       "    <tr>\n",
       "      <th>4</th>\n",
       "      <td>0</td>\n",
       "      <td>0</td>\n",
       "      <td>0</td>\n",
       "      <td>0</td>\n",
       "      <td>0</td>\n",
       "      <td>1</td>\n",
       "      <td>1</td>\n",
       "      <td>1</td>\n",
       "      <td>1</td>\n",
       "      <td>0</td>\n",
       "      <td>...</td>\n",
       "      <td>1</td>\n",
       "      <td>0</td>\n",
       "      <td>0</td>\n",
       "      <td>0</td>\n",
       "      <td>0</td>\n",
       "      <td>0</td>\n",
       "      <td>0</td>\n",
       "      <td>0</td>\n",
       "      <td>1</td>\n",
       "      <td>1</td>\n",
       "    </tr>\n",
       "    <tr>\n",
       "      <th>...</th>\n",
       "      <td>...</td>\n",
       "      <td>...</td>\n",
       "      <td>...</td>\n",
       "      <td>...</td>\n",
       "      <td>...</td>\n",
       "      <td>...</td>\n",
       "      <td>...</td>\n",
       "      <td>...</td>\n",
       "      <td>...</td>\n",
       "      <td>...</td>\n",
       "      <td>...</td>\n",
       "      <td>...</td>\n",
       "      <td>...</td>\n",
       "      <td>...</td>\n",
       "      <td>...</td>\n",
       "      <td>...</td>\n",
       "      <td>...</td>\n",
       "      <td>...</td>\n",
       "      <td>...</td>\n",
       "      <td>...</td>\n",
       "      <td>...</td>\n",
       "    </tr>\n",
       "    <tr>\n",
       "      <th>2116</th>\n",
       "      <td>1</td>\n",
       "      <td>1</td>\n",
       "      <td>1</td>\n",
       "      <td>1</td>\n",
       "      <td>1</td>\n",
       "      <td>1</td>\n",
       "      <td>1</td>\n",
       "      <td>1</td>\n",
       "      <td>1</td>\n",
       "      <td>0</td>\n",
       "      <td>...</td>\n",
       "      <td>1</td>\n",
       "      <td>0</td>\n",
       "      <td>0</td>\n",
       "      <td>0</td>\n",
       "      <td>0</td>\n",
       "      <td>0</td>\n",
       "      <td>1</td>\n",
       "      <td>1</td>\n",
       "      <td>1</td>\n",
       "      <td>1</td>\n",
       "    </tr>\n",
       "    <tr>\n",
       "      <th>2117</th>\n",
       "      <td>0</td>\n",
       "      <td>0</td>\n",
       "      <td>0</td>\n",
       "      <td>0</td>\n",
       "      <td>0</td>\n",
       "      <td>0</td>\n",
       "      <td>0</td>\n",
       "      <td>0</td>\n",
       "      <td>1</td>\n",
       "      <td>0</td>\n",
       "      <td>...</td>\n",
       "      <td>1</td>\n",
       "      <td>1</td>\n",
       "      <td>1</td>\n",
       "      <td>1</td>\n",
       "      <td>1</td>\n",
       "      <td>1</td>\n",
       "      <td>1</td>\n",
       "      <td>1</td>\n",
       "      <td>1</td>\n",
       "      <td>1</td>\n",
       "    </tr>\n",
       "    <tr>\n",
       "      <th>2118</th>\n",
       "      <td>0</td>\n",
       "      <td>0</td>\n",
       "      <td>0</td>\n",
       "      <td>0</td>\n",
       "      <td>0</td>\n",
       "      <td>0</td>\n",
       "      <td>1</td>\n",
       "      <td>1</td>\n",
       "      <td>1</td>\n",
       "      <td>1</td>\n",
       "      <td>...</td>\n",
       "      <td>1</td>\n",
       "      <td>0</td>\n",
       "      <td>0</td>\n",
       "      <td>0</td>\n",
       "      <td>0</td>\n",
       "      <td>0</td>\n",
       "      <td>0</td>\n",
       "      <td>0</td>\n",
       "      <td>1</td>\n",
       "      <td>1</td>\n",
       "    </tr>\n",
       "    <tr>\n",
       "      <th>2119</th>\n",
       "      <td>1</td>\n",
       "      <td>1</td>\n",
       "      <td>1</td>\n",
       "      <td>1</td>\n",
       "      <td>1</td>\n",
       "      <td>1</td>\n",
       "      <td>1</td>\n",
       "      <td>1</td>\n",
       "      <td>1</td>\n",
       "      <td>0</td>\n",
       "      <td>...</td>\n",
       "      <td>1</td>\n",
       "      <td>0</td>\n",
       "      <td>0</td>\n",
       "      <td>0</td>\n",
       "      <td>0</td>\n",
       "      <td>0</td>\n",
       "      <td>0</td>\n",
       "      <td>0</td>\n",
       "      <td>0</td>\n",
       "      <td>1</td>\n",
       "    </tr>\n",
       "    <tr>\n",
       "      <th>2120</th>\n",
       "      <td>0</td>\n",
       "      <td>0</td>\n",
       "      <td>0</td>\n",
       "      <td>0</td>\n",
       "      <td>0</td>\n",
       "      <td>0</td>\n",
       "      <td>0</td>\n",
       "      <td>0</td>\n",
       "      <td>0</td>\n",
       "      <td>0</td>\n",
       "      <td>...</td>\n",
       "      <td>1</td>\n",
       "      <td>1</td>\n",
       "      <td>1</td>\n",
       "      <td>1</td>\n",
       "      <td>1</td>\n",
       "      <td>1</td>\n",
       "      <td>1</td>\n",
       "      <td>1</td>\n",
       "      <td>1</td>\n",
       "      <td>1</td>\n",
       "    </tr>\n",
       "  </tbody>\n",
       "</table>\n",
       "<p>2121 rows × 165 columns</p>\n",
       "</div>"
      ],
      "text/plain": [
       "feature           la                                                         \\\n",
       "operation         <=                                                          \n",
       "value     1.000000   2.000000   5.000000   9.000000   17.000000  27.000000    \n",
       "0                  0          0          0          0          0          0   \n",
       "1                  0          0          0          0          0          0   \n",
       "2                  0          0          0          0          0          0   \n",
       "3                  0          0          0          0          0          0   \n",
       "4                  0          0          0          0          0          1   \n",
       "...              ...        ...        ...        ...        ...        ...   \n",
       "2116               1          1          1          1          1          1   \n",
       "2117               0          0          0          0          0          0   \n",
       "2118               0          0          0          0          0          0   \n",
       "2119               1          1          1          1          1          1   \n",
       "2120               0          0          0          0          0          0   \n",
       "\n",
       "feature                                            ld  ...      asawr  \\\n",
       "operation                                          <=  ...         <=   \n",
       "value     44.000000  76.000000  163.000000 0.000000    ... 0.433365     \n",
       "0                  0          0          0          0  ...          1   \n",
       "1                  0          0          0          1  ...          1   \n",
       "2                  0          0          0          0  ...          1   \n",
       "3                  0          0          0          0  ...          1   \n",
       "4                  1          1          1          0  ...          1   \n",
       "...              ...        ...        ...        ...  ...        ...   \n",
       "2116               1          1          1          0  ...          1   \n",
       "2117               0          0          1          0  ...          1   \n",
       "2118               1          1          1          1  ...          1   \n",
       "2119               1          1          1          0  ...          1   \n",
       "2120               0          0          0          0  ...          1   \n",
       "\n",
       "feature        rsawr                                                         \\\n",
       "operation         <=                                                          \n",
       "value     0.180553   0.256410   0.319625   0.375489   0.428753   0.481633     \n",
       "0                  0          0          0          0          0          0   \n",
       "1                  0          0          0          0          0          0   \n",
       "2                  0          0          0          0          0          0   \n",
       "3                  0          0          0          0          0          0   \n",
       "4                  0          0          0          0          0          0   \n",
       "...              ...        ...        ...        ...        ...        ...   \n",
       "2116               0          0          0          0          0          1   \n",
       "2117               1          1          1          1          1          1   \n",
       "2118               0          0          0          0          0          0   \n",
       "2119               0          0          0          0          0          0   \n",
       "2120               1          1          1          1          1          1   \n",
       "\n",
       "feature                                     \n",
       "operation                                   \n",
       "value     0.575898   0.707838   0.848712    \n",
       "0                  0          1          1  \n",
       "1                  0          1          1  \n",
       "2                  1          1          1  \n",
       "3                  0          1          1  \n",
       "4                  0          1          1  \n",
       "...              ...        ...        ...  \n",
       "2116               1          1          1  \n",
       "2117               1          1          1  \n",
       "2118               0          1          1  \n",
       "2119               0          0          1  \n",
       "2120               1          1          1  \n",
       "\n",
       "[2121 rows x 165 columns]"
      ]
     },
     "metadata": {},
     "output_type": "display_data"
    }
   ],
   "source": [
    "generated_instance = pyExp_obj['synthetic_data']\n",
    "print(generated_instance.columns)\n",
    "display(generated_instance)"
   ]
  },
  {
   "cell_type": "code",
   "execution_count": 41,
   "metadata": {},
   "outputs": [
    {
     "name": "stdout",
     "output_type": "stream",
     "text": [
      "feature     la\n",
      "operation   <=\n",
      "value     44.0\n",
      "0            0\n",
      "1            0\n",
      "2            0\n",
      "3            0\n",
      "4            1\n",
      "...        ...\n",
      "2116         1\n",
      "2117         0\n",
      "2118         1\n",
      "2119         1\n",
      "2120         0\n",
      "\n",
      "[2121 rows x 1 columns]\n"
     ]
    }
   ],
   "source": [
    "print(generated_instance.loc[:, (generated_instance.columns.get_level_values(0)=='la') & \n",
    "                            (generated_instance.columns.get_level_values(1)=='<=') &\n",
    "                            (generated_instance.columns.get_level_values(2)==44.0)  ])"
   ]
  },
  {
   "cell_type": "code",
   "execution_count": null,
   "metadata": {},
   "outputs": [],
   "source": []
  },
  {
   "cell_type": "code",
   "execution_count": 23,
   "metadata": {},
   "outputs": [],
   "source": [
    "# # search_function = 'crossoverinterpolation' # 'randompertubation' or 'crossoverinterpolation'\n",
    "# search_functions = ['randompertubation', 'crossoverinterpolation']\n",
    "\n",
    "# for i in range(0,len(feature_df)):\n",
    "#     X_explain = feature_df.iloc[[i]]\n",
    "#     y_explain = test_label.iloc[[i]]\n",
    "    \n",
    "#     row_index = str(X_explain.index[0])\n",
    "    \n",
    "#     try:\n",
    "#         pyExp_obj = pyExp.explain(X_explain,\n",
    "#                                    y_explain,\n",
    "#                                    search_function = search_function, \n",
    "#                                    top_k = 1000, \n",
    "#                                    max_rules=2000, \n",
    "#                                    max_iter =None, \n",
    "#                                    cv=5,\n",
    "#                                    debug = False)\n",
    "#         pickle.dump(pyExp_obj, open(pyExp_dir+search_function+'_'+row_index+'.pkl','wb'))\n",
    "        \n",
    "#         synt_pred = pyExp_obj['synthetic_predictions']\n",
    "#         print('{}: found {} defect from total {}'.format(row_index, str(np.sum(synt_pred)), \n",
    "#                                                          str(len(synt_pred))))\n",
    "# #         print('finished', row_index)\n",
    "#     except:\n",
    "#         problem_index.append(row_index)\n",
    "# #     print(row_index)\n",
    "#     break"
   ]
  },
  {
   "cell_type": "code",
   "execution_count": 24,
   "metadata": {
    "scrolled": true
   },
   "outputs": [],
   "source": [
    "# explain_index = 13\n",
    "# X_explain = feature_df.iloc[[explain_index]]\n",
    "# X_explain"
   ]
  },
  {
   "cell_type": "code",
   "execution_count": 25,
   "metadata": {
    "code_folding": []
   },
   "outputs": [],
   "source": [
    "# y_explain = test_label.iloc[[explain_index]]\n",
    "# y_explain"
   ]
  },
  {
   "cell_type": "code",
   "execution_count": 26,
   "metadata": {
    "code_folding": []
   },
   "outputs": [],
   "source": [
    "# search_function = 'crossoverinterpolation' # 'randompertubation' or 'crossoverinterpolation''\n",
    "# start = time.time()\n",
    "# create_pyExp_rule_obj = pyExp.explain(X_explain,\n",
    "#                                y_explain,\n",
    "#                                search_function = search_function, \n",
    "#                                top_k = 1000, \n",
    "#                                max_rules=2000, \n",
    "#                                max_iter =None, \n",
    "#                                cv=5,\n",
    "#                                debug = False)\n",
    "\n",
    "# end = time.time()"
   ]
  },
  {
   "cell_type": "code",
   "execution_count": 27,
   "metadata": {},
   "outputs": [],
   "source": [
    "# print('time spent {}'.format(str(end-start)))\n",
    "# pickle.dump(create_pyExp_rule_obj, open(pyExp_dir+search_function+'_'+str(explain_index)+'.pkl','wb'))"
   ]
  },
  {
   "cell_type": "code",
   "execution_count": 28,
   "metadata": {},
   "outputs": [],
   "source": [
    "# display(create_pyExp_rule_obj['synthetic_data'])"
   ]
  },
  {
   "cell_type": "code",
   "execution_count": 29,
   "metadata": {},
   "outputs": [],
   "source": [
    "# # print(create_pyExp_rule_obj['synthetic_predictions'])\n",
    "# # print(np.sum(create_pyExp_rule_obj['synthetic_predictions']))\n",
    "# display(create_pyExp_rule_obj.keys())\n",
    "# print(create_pyExp_rule_obj['synthetic_predictions'])"
   ]
  }
 ],
 "metadata": {
  "kernelspec": {
   "display_name": "Python_Oat",
   "language": "python",
   "name": "env_oat"
  },
  "language_info": {
   "codemirror_mode": {
    "name": "ipython",
    "version": 3
   },
   "file_extension": ".py",
   "mimetype": "text/x-python",
   "name": "python",
   "nbconvert_exporter": "python",
   "pygments_lexer": "ipython3",
   "version": "3.9.2"
  },
  "varInspector": {
   "cols": {
    "lenName": 16,
    "lenType": 16,
    "lenVar": 40
   },
   "kernels_config": {
    "python": {
     "delete_cmd_postfix": "",
     "delete_cmd_prefix": "del ",
     "library": "var_list.py",
     "varRefreshCmd": "print(var_dic_list())"
    },
    "r": {
     "delete_cmd_postfix": ") ",
     "delete_cmd_prefix": "rm(",
     "library": "var_list.r",
     "varRefreshCmd": "cat(var_dic_list()) "
    }
   },
   "types_to_exclude": [
    "module",
    "function",
    "builtin_function_or_method",
    "instance",
    "_Feature"
   ],
   "window_display": false
  }
 },
 "nbformat": 4,
 "nbformat_minor": 4
}
