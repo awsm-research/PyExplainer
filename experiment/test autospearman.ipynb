{
 "cells": [
  {
   "cell_type": "code",
   "execution_count": 1,
   "metadata": {},
   "outputs": [],
   "source": [
    "import sys, os,  pickle, time\n",
    "\n",
    "import pandas as pd\n",
    "import numpy as np\n",
    "from IPython.display import display\n",
    "from my_util import *\n",
    "\n",
    "sys.path.append(os.path.abspath('../'))\n",
    "from pyexplainer.pyexplainer_pyexplainer import *\n",
    "\n",
    "import warnings\n",
    "warnings.filterwarnings(\"ignore\")"
   ]
  },
  {
   "cell_type": "code",
   "execution_count": 2,
   "metadata": {},
   "outputs": [
    {
     "name": "stdout",
     "output_type": "stream",
     "text": [
      "Index(['la', 'nd', 'ns', 'ent', 'nrev', 'rtime', 'self', 'ndev', 'age', 'app',\n",
      "       'rrexp', 'asawr', 'rsawr'],\n",
      "      dtype='object')\n"
     ]
    }
   ],
   "source": [
    "x_train, x_test, y_train, y_test = prepare_data('openstack','all')\n",
    "\n",
    "\n",
    "print(x_train.columns)\n",
    "# display(x_train)"
   ]
  },
  {
   "cell_type": "code",
   "execution_count": 3,
   "metadata": {},
   "outputs": [
    {
     "name": "stdout",
     "output_type": "stream",
     "text": [
      "Index(['la', 'ld', 'nf', 'nd', 'ns', 'ent', 'nrev', 'rtime', 'hcmt', 'self',\n",
      "       'ndev', 'age', 'nuc', 'app', 'aexp', 'rexp', 'arexp', 'rrexp', 'asexp',\n",
      "       'rsexp', 'asawr', 'rsawr'],\n",
      "      dtype='object')\n",
      "Index(['index', 'la', 'ld', 'nf', 'nd', 'ns', 'ent', 'nrev', 'rtime', 'hcmt',\n",
      "       'self', 'ndev', 'age', 'nuc', 'app', 'aexp', 'rexp', 'arexp', 'rrexp',\n",
      "       'asexp', 'rsexp', 'asawr', 'rsawr'],\n",
      "      dtype='object')\n",
      "(Part 1) Automatically select non-correlated metrics based on a Spearman rank correlation test\n",
      "> Step 1 comparing between arexp and aexp\n",
      ">> arexp has the average correlation of 0.171 with other metrics\n",
      ">> aexp has the average correlation of 0.171 with other metrics\n",
      ">> Exclude aexp\n",
      "> Step 2 comparing between rrexp and rexp\n",
      ">> rrexp has the average correlation of 0.223 with other metrics\n",
      ">> rexp has the average correlation of 0.224 with other metrics\n",
      ">> Exclude rexp\n",
      "> Step 3 comparing between nuc and ndev\n",
      ">> nuc has the average correlation of 0.244 with other metrics\n",
      ">> ndev has the average correlation of 0.243 with other metrics\n",
      ">> Exclude nuc\n",
      "> Step 4 comparing between nf and nd\n",
      ">> nf has the average correlation of 0.236 with other metrics\n",
      ">> nd has the average correlation of 0.232 with other metrics\n",
      ">> Exclude nf\n",
      "> Step 5 comparing between arexp and asexp\n",
      ">> arexp has the average correlation of 0.13 with other metrics\n",
      ">> asexp has the average correlation of 0.149 with other metrics\n",
      ">> Exclude asexp\n",
      "> Step 6 comparing between rrexp and rsexp\n",
      ">> rrexp has the average correlation of 0.182 with other metrics\n",
      ">> rsexp has the average correlation of 0.182 with other metrics\n",
      ">> Exclude rsexp\n",
      "> Step 7 comparing between arexp and asawr\n",
      ">> arexp has the average correlation of 0.078 with other metrics\n",
      ">> asawr has the average correlation of 0.105 with other metrics\n",
      ">> Exclude asawr\n",
      "> Step 8 comparing between hcmt and nrev\n",
      ">> hcmt has the average correlation of 0.235 with other metrics\n",
      ">> nrev has the average correlation of 0.231 with other metrics\n",
      ">> Exclude hcmt\n",
      "According to Part 1 of AutoSpearman, ['nrev', 'ns', 'ld', 'app', 'rtime', 'nd', 'ndev', 'la', 'rrexp', 'self', 'arexp', 'ent', 'age', 'rsawr'] are selected.\n",
      "(Part 2) Automatically select non-correlated metrics based on a Variance Inflation Factor analysis\n",
      "Step 1 - exclude ld\n",
      "Finally, according to Part 2 of AutoSpearman, ['nrev', 'ns', 'ld', 'app', 'rtime', 'nd', 'ndev', 'la', 'rrexp', 'self', 'arexp', 'ent', 'age', 'rsawr'] are selected.\n"
     ]
    }
   ],
   "source": [
    "x_train, x_test = prepare_data_all_metrics('openstack','all')\n",
    "\n",
    "x_train = x_train.drop('index',axis=1)\n",
    "print(x_train.columns)\n",
    "print(x_test.columns)\n",
    "x_train = AutoSpearman(x_train)"
   ]
  },
  {
   "cell_type": "code",
   "execution_count": 4,
   "metadata": {},
   "outputs": [
    {
     "name": "stdout",
     "output_type": "stream",
     "text": [
      "Index(['la', 'ld', 'nd', 'ns', 'ent', 'nrev', 'rtime', 'self', 'ndev', 'age',\n",
      "       'app', 'arexp', 'rrexp', 'rsawr'],\n",
      "      dtype='object')\n"
     ]
    }
   ],
   "source": [
    "print(x_train.columns)"
   ]
  },
  {
   "cell_type": "code",
   "execution_count": null,
   "metadata": {},
   "outputs": [],
   "source": []
  }
 ],
 "metadata": {
  "kernelspec": {
   "display_name": "Python_Oat",
   "language": "python",
   "name": "env_oat"
  },
  "language_info": {
   "codemirror_mode": {
    "name": "ipython",
    "version": 3
   },
   "file_extension": ".py",
   "mimetype": "text/x-python",
   "name": "python",
   "nbconvert_exporter": "python",
   "pygments_lexer": "ipython3",
   "version": "3.9.2"
  },
  "varInspector": {
   "cols": {
    "lenName": 16,
    "lenType": 16,
    "lenVar": 40
   },
   "kernels_config": {
    "python": {
     "delete_cmd_postfix": "",
     "delete_cmd_prefix": "del ",
     "library": "var_list.py",
     "varRefreshCmd": "print(var_dic_list())"
    },
    "r": {
     "delete_cmd_postfix": ") ",
     "delete_cmd_prefix": "rm(",
     "library": "var_list.r",
     "varRefreshCmd": "cat(var_dic_list()) "
    }
   },
   "types_to_exclude": [
    "module",
    "function",
    "builtin_function_or_method",
    "instance",
    "_Feature"
   ],
   "window_display": false
  }
 },
 "nbformat": 4,
 "nbformat_minor": 4
}
