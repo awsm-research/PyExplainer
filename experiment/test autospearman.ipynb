{
 "cells": [
  {
   "cell_type": "code",
   "execution_count": 1,
   "metadata": {},
   "outputs": [],
   "source": [
    "import sys, os,  pickle, time\n",
    "\n",
    "import pandas as pd\n",
    "import numpy as np\n",
    "from IPython.display import display\n",
    "from my_util import *\n",
    "\n",
    "sys.path.append(os.path.abspath('../'))\n",
    "from pyexplainer.pyexplainer_pyexplainer import *\n",
    "\n",
    "import warnings\n",
    "warnings.filterwarnings(\"ignore\")"
   ]
  },
  {
   "cell_type": "code",
   "execution_count": 11,
   "metadata": {},
   "outputs": [
    {
     "name": "stdout",
     "output_type": "stream",
     "text": [
      "Index(['la', 'ld', 'nd', 'ns', 'ent', 'nrev', 'rtime', 'hcmt', 'self', 'ndev',\n",
      "       'age', 'app', 'asexp', 'rsexp', 'asawr', 'rsawr'],\n",
      "      dtype='object')\n"
     ]
    }
   ],
   "source": [
    "x_train, x_test, y_train, y_test = prepare_data('qt','all')\n",
    "\n",
    "\n",
    "print(x_train.columns)\n",
    "# display(x_train)"
   ]
  },
  {
   "cell_type": "code",
   "execution_count": 12,
   "metadata": {},
   "outputs": [
    {
     "name": "stdout",
     "output_type": "stream",
     "text": [
      "Index(['la', 'ld', 'nf', 'nd', 'ns', 'ent', 'nrev', 'rtime', 'hcmt', 'self',\n",
      "       'ndev', 'age', 'nuc', 'app', 'aexp', 'rexp', 'arexp', 'rrexp', 'asexp',\n",
      "       'rsexp', 'asawr', 'rsawr'],\n",
      "      dtype='object')\n",
      "Index(['index', 'la', 'ld', 'nf', 'nd', 'ns', 'ent', 'nrev', 'rtime', 'hcmt',\n",
      "       'self', 'ndev', 'age', 'nuc', 'app', 'aexp', 'rexp', 'arexp', 'rrexp',\n",
      "       'asexp', 'rsexp', 'asawr', 'rsawr'],\n",
      "      dtype='object')\n",
      "(Part 1) Automatically select non-correlated metrics based on a Spearman rank correlation test\n",
      "> Step 1 comparing between arexp and aexp\n",
      ">> arexp has the average correlation of 0.267 with other metrics\n",
      ">> aexp has the average correlation of 0.268 with other metrics\n",
      ">> Exclude aexp\n",
      "> Step 2 comparing between rexp and rrexp\n",
      ">> rexp has the average correlation of 0.319 with other metrics\n",
      ">> rrexp has the average correlation of 0.319 with other metrics\n",
      ">> Exclude rexp\n",
      "> Step 3 comparing between ndev and nuc\n",
      ">> ndev has the average correlation of 0.259 with other metrics\n",
      ">> nuc has the average correlation of 0.263 with other metrics\n",
      ">> Exclude nuc\n",
      "> Step 4 comparing between asexp and arexp\n",
      ">> asexp has the average correlation of 0.217 with other metrics\n",
      ">> arexp has the average correlation of 0.208 with other metrics\n",
      ">> Exclude asexp\n",
      "> Step 5 comparing between rsexp and rrexp\n",
      ">> rsexp has the average correlation of 0.248 with other metrics\n",
      ">> rrexp has the average correlation of 0.267 with other metrics\n",
      ">> Exclude rrexp\n",
      "> Step 6 comparing between ent and nf\n",
      ">> ent has the average correlation of 0.164 with other metrics\n",
      ">> nf has the average correlation of 0.218 with other metrics\n",
      ">> Exclude nf\n",
      "> Step 7 comparing between asawr and arexp\n",
      ">> asawr has the average correlation of 0.099 with other metrics\n",
      ">> arexp has the average correlation of 0.156 with other metrics\n",
      ">> Exclude arexp\n",
      "According to Part 1 of AutoSpearman, ['age', 'ns', 'la', 'asawr', 'nd', 'app', 'ld', 'hcmt', 'nrev', 'ent', 'rsexp', 'rsawr', 'ndev', 'rtime', 'self'] are selected.\n",
      "(Part 2) Automatically select non-correlated metrics based on a Variance Inflation Factor analysis\n",
      "Finally, according to Part 2 of AutoSpearman, ['age', 'ns', 'la', 'asawr', 'nd', 'app', 'ld', 'hcmt', 'nrev', 'ent', 'rsexp', 'rsawr', 'ndev', 'rtime', 'self'] are selected.\n"
     ]
    }
   ],
   "source": [
    "x_train, x_test = prepare_data_all_metrics('qt','all')\n",
    "\n",
    "x_train = x_train.drop('index',axis=1)\n",
    "print(x_train.columns)\n",
    "print(x_test.columns)\n",
    "x_train = AutoSpearman(x_train)"
   ]
  },
  {
   "cell_type": "code",
   "execution_count": 13,
   "metadata": {},
   "outputs": [
    {
     "name": "stdout",
     "output_type": "stream",
     "text": [
      "Index(['const', 'age', 'ns', 'la', 'asawr', 'nd', 'app', 'ld', 'hcmt', 'nrev',\n",
      "       'ent', 'rsexp', 'rsawr', 'ndev', 'rtime', 'self'],\n",
      "      dtype='object')\n"
     ]
    }
   ],
   "source": [
    "print(x_train.columns)"
   ]
  },
  {
   "cell_type": "code",
   "execution_count": null,
   "metadata": {},
   "outputs": [],
   "source": []
  }
 ],
 "metadata": {
  "kernelspec": {
   "display_name": "Python_Oat",
   "language": "python",
   "name": "env_oat"
  },
  "language_info": {
   "codemirror_mode": {
    "name": "ipython",
    "version": 3
   },
   "file_extension": ".py",
   "mimetype": "text/x-python",
   "name": "python",
   "nbconvert_exporter": "python",
   "pygments_lexer": "ipython3",
   "version": "3.9.2"
  },
  "varInspector": {
   "cols": {
    "lenName": 16,
    "lenType": 16,
    "lenVar": 40
   },
   "kernels_config": {
    "python": {
     "delete_cmd_postfix": "",
     "delete_cmd_prefix": "del ",
     "library": "var_list.py",
     "varRefreshCmd": "print(var_dic_list())"
    },
    "r": {
     "delete_cmd_postfix": ") ",
     "delete_cmd_prefix": "rm(",
     "library": "var_list.r",
     "varRefreshCmd": "cat(var_dic_list()) "
    }
   },
   "types_to_exclude": [
    "module",
    "function",
    "builtin_function_or_method",
    "instance",
    "_Feature"
   ],
   "window_display": false
  }
 },
 "nbformat": 4,
 "nbformat_minor": 4
}
