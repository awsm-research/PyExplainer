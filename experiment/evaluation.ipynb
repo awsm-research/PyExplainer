{
 "cells": [
  {
   "cell_type": "code",
   "execution_count": 1,
   "metadata": {},
   "outputs": [
    {
     "ename": "ModuleNotFoundError",
     "evalue": "No module named 'pyexplainer'",
     "output_type": "error",
     "traceback": [
      "\u001b[0;31m---------------------------------------------------------------------------\u001b[0m",
      "\u001b[0;31mModuleNotFoundError\u001b[0m                       Traceback (most recent call last)",
      "\u001b[0;32m<ipython-input-1-a925ce06b0ef>\u001b[0m in \u001b[0;36m<module>\u001b[0;34m\u001b[0m\n\u001b[1;32m     15\u001b[0m \u001b[0;34m\u001b[0m\u001b[0m\n\u001b[1;32m     16\u001b[0m \u001b[0msys\u001b[0m\u001b[0;34m.\u001b[0m\u001b[0mpath\u001b[0m\u001b[0;34m.\u001b[0m\u001b[0mappend\u001b[0m\u001b[0;34m(\u001b[0m\u001b[0mos\u001b[0m\u001b[0;34m.\u001b[0m\u001b[0mpath\u001b[0m\u001b[0;34m.\u001b[0m\u001b[0mabspath\u001b[0m\u001b[0;34m(\u001b[0m\u001b[0;34m'../pyexplainer'\u001b[0m\u001b[0;34m)\u001b[0m\u001b[0;34m)\u001b[0m\u001b[0;34m\u001b[0m\u001b[0;34m\u001b[0m\u001b[0m\n\u001b[0;32m---> 17\u001b[0;31m \u001b[0;32mfrom\u001b[0m \u001b[0mpyexplainer_pyexplainer\u001b[0m \u001b[0;32mimport\u001b[0m \u001b[0;34m*\u001b[0m\u001b[0;34m\u001b[0m\u001b[0;34m\u001b[0m\u001b[0m\n\u001b[0m\u001b[1;32m     18\u001b[0m \u001b[0;34m\u001b[0m\u001b[0m\n\u001b[1;32m     19\u001b[0m \u001b[0;32mfrom\u001b[0m \u001b[0mIPython\u001b[0m\u001b[0;34m.\u001b[0m\u001b[0mdisplay\u001b[0m \u001b[0;32mimport\u001b[0m \u001b[0mdisplay\u001b[0m\u001b[0;34m\u001b[0m\u001b[0;34m\u001b[0m\u001b[0m\n",
      "\u001b[0;32m~/Oat/pyExplainer/pyexplainer/pyexplainer_pyexplainer.py\u001b[0m in \u001b[0;36m<module>\u001b[0;34m\u001b[0m\n\u001b[1;32m     14\u001b[0m \u001b[0;32mfrom\u001b[0m \u001b[0msklearn\u001b[0m\u001b[0;34m.\u001b[0m\u001b[0mutils\u001b[0m \u001b[0;32mimport\u001b[0m \u001b[0mcheck_random_state\u001b[0m\u001b[0;34m,\u001b[0m \u001b[0mall_estimators\u001b[0m\u001b[0;34m\u001b[0m\u001b[0;34m\u001b[0m\u001b[0m\n\u001b[1;32m     15\u001b[0m \u001b[0;32mfrom\u001b[0m \u001b[0msklearn\u001b[0m\u001b[0;34m.\u001b[0m\u001b[0mensemble\u001b[0m \u001b[0;32mimport\u001b[0m \u001b[0mRandomForestClassifier\u001b[0m\u001b[0;34m\u001b[0m\u001b[0;34m\u001b[0m\u001b[0m\n\u001b[0;32m---> 16\u001b[0;31m \u001b[0;32mfrom\u001b[0m \u001b[0mpyexplainer\u001b[0m\u001b[0;34m.\u001b[0m\u001b[0mrulefit\u001b[0m \u001b[0;32mimport\u001b[0m \u001b[0mRuleFit\u001b[0m\u001b[0;34m\u001b[0m\u001b[0;34m\u001b[0m\u001b[0m\n\u001b[0m\u001b[1;32m     17\u001b[0m \u001b[0;32mfrom\u001b[0m \u001b[0mstatsmodels\u001b[0m\u001b[0;34m.\u001b[0m\u001b[0mstats\u001b[0m\u001b[0;34m.\u001b[0m\u001b[0moutliers_influence\u001b[0m \u001b[0;32mimport\u001b[0m \u001b[0mvariance_inflation_factor\u001b[0m\u001b[0;34m\u001b[0m\u001b[0;34m\u001b[0m\u001b[0m\n\u001b[1;32m     18\u001b[0m \u001b[0;32mfrom\u001b[0m \u001b[0mstatsmodels\u001b[0m\u001b[0;34m.\u001b[0m\u001b[0mtools\u001b[0m\u001b[0;34m.\u001b[0m\u001b[0mtools\u001b[0m \u001b[0;32mimport\u001b[0m \u001b[0madd_constant\u001b[0m\u001b[0;34m\u001b[0m\u001b[0;34m\u001b[0m\u001b[0m\n",
      "\u001b[0;31mModuleNotFoundError\u001b[0m: No module named 'pyexplainer'"
     ]
    }
   ],
   "source": [
    "from sklearn.ensemble import RandomForestClassifier\n",
    "from sklearn.metrics.pairwise import cosine_similarity, euclidean_distances\n",
    "from sklearn.metrics import auc, classification_report, roc_auc_score, f1_score, matthews_corrcoef, balanced_accuracy_score, r2_score , confusion_matrix, precision_score, recall_score\n",
    "\n",
    "import pandas as pd\n",
    "import numpy as np\n",
    "from imblearn.over_sampling import SMOTE\n",
    "import matplotlib.pyplot as plt\n",
    "\n",
    "from my_util import *\n",
    "from lime.lime.lime_tabular import LimeTabularExplainer\n",
    "\n",
    "\n",
    "import sys, os,  pickle, time\n",
    "\n",
    "sys.path.append(os.path.abspath('../pyexplainer'))\n",
    "from pyexplainer_pyexplainer import *\n",
    "\n",
    "from IPython.display import display\n",
    "\n",
    "import warnings\n",
    "warnings.filterwarnings(\"ignore\")"
   ]
  },
  {
   "cell_type": "code",
   "execution_count": 19,
   "metadata": {},
   "outputs": [],
   "source": [
    "data_path = './dataset/'\n",
    "result_dir = './eval_result/'\n",
    "dump_dataframe_dir = './prediction_result/'\n",
    "exp_dir = './explainer_object/'\n",
    "\n",
    "if not os.path.exists('./eval_result/figures/'):\n",
    "    os.makedirs('./eval_result/figures/')"
   ]
  },
  {
   "cell_type": "code",
   "execution_count": 16,
   "metadata": {
    "code_folding": []
   },
   "outputs": [],
   "source": []
  },
  {
   "cell_type": "markdown",
   "metadata": {},
   "source": [
    "# Global model evaluation"
   ]
  },
  {
   "cell_type": "code",
   "execution_count": 14,
   "metadata": {
    "scrolled": false
   },
   "outputs": [
    {
     "name": "stdout",
     "output_type": "stream",
     "text": [
      "RF global model result\n",
      "AUC: 0.7468482561455155, F1: 0.35515695067264574, IFA: 244, Recall@20%Effort: 0.5619195046439629, Popt: 0.8247763516141581\n",
      "              precision    recall  f1-score   support\n",
      "\n",
      "       False       0.87      0.92      0.89      3317\n",
      "        True       0.42      0.31      0.36       646\n",
      "\n",
      "    accuracy                           0.82      3963\n",
      "   macro avg       0.65      0.61      0.62      3963\n",
      "weighted avg       0.80      0.82      0.81      3963\n",
      "\n",
      "----------------------------------------------------------------------------------------------------\n",
      "LR global model result\n",
      "AUC: 0.665619274382555, F1: 0.3560111835973904, IFA: 40, Recall@20%Effort: 0.541795665634675, Popt: 0.824907641454404\n",
      "              precision    recall  f1-score   support\n",
      "\n",
      "       False       0.89      0.66      0.76      3317\n",
      "        True       0.25      0.59      0.36       646\n",
      "\n",
      "    accuracy                           0.65      3963\n",
      "   macro avg       0.57      0.63      0.56      3963\n",
      "weighted avg       0.79      0.65      0.69      3963\n",
      "\n"
     ]
    }
   ],
   "source": [
    "get_global_model_evaluation_result('openstack')"
   ]
  },
  {
   "cell_type": "code",
   "execution_count": 15,
   "metadata": {
    "scrolled": true
   },
   "outputs": [
    {
     "name": "stdout",
     "output_type": "stream",
     "text": [
      "RF global model result\n",
      "AUC: 0.7350656132213174, F1: 0.20954907161803715, IFA: 19, Recall@20%Effort: 0.8340336134453782, Popt: 0.9434782608695651\n",
      "              precision    recall  f1-score   support\n",
      "\n",
      "       False       0.95      0.97      0.96      7801\n",
      "        True       0.28      0.17      0.21       476\n",
      "\n",
      "    accuracy                           0.93      8277\n",
      "   macro avg       0.62      0.57      0.59      8277\n",
      "weighted avg       0.91      0.93      0.92      8277\n",
      "\n",
      "----------------------------------------------------------------------------------------------------\n",
      "LR global model result\n",
      "AUC: 0.6445739557199627, F1: 0.15877957658779576, IFA: 7, Recall@20%Effort: 0.8172268907563025, Popt: 0.9467080745341614\n",
      "              precision    recall  f1-score   support\n",
      "\n",
      "       False       0.96      0.68      0.80      7801\n",
      "        True       0.09      0.54      0.16       476\n",
      "\n",
      "    accuracy                           0.67      8277\n",
      "   macro avg       0.53      0.61      0.48      8277\n",
      "weighted avg       0.91      0.67      0.76      8277\n",
      "\n"
     ]
    },
    {
     "name": "stderr",
     "output_type": "stream",
     "text": [
      "<ipython-input-13-382cf70fad54>:35: SettingWithCopyWarning: \n",
      "A value is trying to be set on a copy of a slice from a DataFrame.\n",
      "Try using .loc[row_indexer,col_indexer] = value instead\n",
      "\n",
      "See the caveats in the documentation: https://pandas.pydata.org/pandas-docs/stable/user_guide/indexing.html#returning-a-view-versus-a-copy\n",
      "  prediction_df['LOC'] = prediction_df['la']+prediction_df['ld']\n",
      "<ipython-input-13-382cf70fad54>:39: SettingWithCopyWarning: \n",
      "A value is trying to be set on a copy of a slice from a DataFrame.\n",
      "Try using .loc[row_indexer,col_indexer] = value instead\n",
      "\n",
      "See the caveats in the documentation: https://pandas.pydata.org/pandas-docs/stable/user_guide/indexing.html#returning-a-view-versus-a-copy\n",
      "  prediction_df['defect_density'] = prediction_df['defective_prob']/prediction_df['LOC']\n",
      "<ipython-input-13-382cf70fad54>:40: SettingWithCopyWarning: \n",
      "A value is trying to be set on a copy of a slice from a DataFrame.\n",
      "Try using .loc[row_indexer,col_indexer] = value instead\n",
      "\n",
      "See the caveats in the documentation: https://pandas.pydata.org/pandas-docs/stable/user_guide/indexing.html#returning-a-view-versus-a-copy\n",
      "  prediction_df['actual_defect_density'] = prediction_df['defect']/prediction_df['LOC'] #defect density\n",
      "<ipython-input-13-382cf70fad54>:35: SettingWithCopyWarning: \n",
      "A value is trying to be set on a copy of a slice from a DataFrame.\n",
      "Try using .loc[row_indexer,col_indexer] = value instead\n",
      "\n",
      "See the caveats in the documentation: https://pandas.pydata.org/pandas-docs/stable/user_guide/indexing.html#returning-a-view-versus-a-copy\n",
      "  prediction_df['LOC'] = prediction_df['la']+prediction_df['ld']\n",
      "<ipython-input-13-382cf70fad54>:39: SettingWithCopyWarning: \n",
      "A value is trying to be set on a copy of a slice from a DataFrame.\n",
      "Try using .loc[row_indexer,col_indexer] = value instead\n",
      "\n",
      "See the caveats in the documentation: https://pandas.pydata.org/pandas-docs/stable/user_guide/indexing.html#returning-a-view-versus-a-copy\n",
      "  prediction_df['defect_density'] = prediction_df['defective_prob']/prediction_df['LOC']\n",
      "<ipython-input-13-382cf70fad54>:40: SettingWithCopyWarning: \n",
      "A value is trying to be set on a copy of a slice from a DataFrame.\n",
      "Try using .loc[row_indexer,col_indexer] = value instead\n",
      "\n",
      "See the caveats in the documentation: https://pandas.pydata.org/pandas-docs/stable/user_guide/indexing.html#returning-a-view-versus-a-copy\n",
      "  prediction_df['actual_defect_density'] = prediction_df['defect']/prediction_df['LOC'] #defect density\n"
     ]
    }
   ],
   "source": [
    "get_global_model_evaluation_result('qt')"
   ]
  },
  {
   "cell_type": "markdown",
   "metadata": {},
   "source": [
    "# RQ1 evaluation"
   ]
  },
  {
   "cell_type": "code",
   "execution_count": 24,
   "metadata": {},
   "outputs": [
    {
     "name": "stdout",
     "output_type": "stream",
     "text": [
      "finished RQ1 of openstack , globla model is RF\n",
      "finished RQ1 of qt , globla model is RF\n"
     ]
    }
   ],
   "source": [
    "rq1_eval('openstack', 'RF')\n",
    "rq1_eval('qt', 'RF')"
   ]
  },
  {
   "cell_type": "code",
   "execution_count": 25,
   "metadata": {},
   "outputs": [
    {
     "name": "stdout",
     "output_type": "stream",
     "text": [
      "finished RQ1 of openstack , globla model is LR\n",
      "finished RQ1 of qt , globla model is LR\n"
     ]
    }
   ],
   "source": [
    "rq1_eval('openstack', 'LR')\n",
    "rq1_eval('qt', 'LR')"
   ]
  },
  {
   "cell_type": "code",
   "execution_count": 5,
   "metadata": {},
   "outputs": [
    {
     "data": {
      "image/png": "[encoded data removed]",
      "text/plain": [
       "<Figure size 720x432 with 2 Axes>"
      ]
     },
     "metadata": {
      "needs_background": "light"
     },
     "output_type": "display_data"
    },
    {
     "data": {
      "text/html": [
       "<div>\n",
       "<style scoped>\n",
       "    .dataframe tbody tr th:only-of-type {\n",
       "        vertical-align: middle;\n",
       "    }\n",
       "\n",
       "    .dataframe tbody tr th {\n",
       "        vertical-align: top;\n",
       "    }\n",
       "\n",
       "    .dataframe thead tr th {\n",
       "        text-align: left;\n",
       "    }\n",
       "\n",
       "    .dataframe thead tr:last-of-type th {\n",
       "        text-align: right;\n",
       "    }\n",
       "</style>\n",
       "<table border=\"1\" class=\"dataframe\">\n",
       "  <thead>\n",
       "    <tr>\n",
       "      <th></th>\n",
       "      <th></th>\n",
       "      <th></th>\n",
       "      <th colspan=\"8\" halign=\"left\">euc_dist_med</th>\n",
       "      <th colspan=\"8\" halign=\"left\">defective_generated_instance_ratio</th>\n",
       "    </tr>\n",
       "    <tr>\n",
       "      <th></th>\n",
       "      <th></th>\n",
       "      <th></th>\n",
       "      <th>count</th>\n",
       "      <th>mean</th>\n",
       "      <th>std</th>\n",
       "      <th>min</th>\n",
       "      <th>25%</th>\n",
       "      <th>50%</th>\n",
       "      <th>75%</th>\n",
       "      <th>max</th>\n",
       "      <th>count</th>\n",
       "      <th>mean</th>\n",
       "      <th>std</th>\n",
       "      <th>min</th>\n",
       "      <th>25%</th>\n",
       "      <th>50%</th>\n",
       "      <th>75%</th>\n",
       "      <th>max</th>\n",
       "    </tr>\n",
       "    <tr>\n",
       "      <th>global_model</th>\n",
       "      <th>project</th>\n",
       "      <th>method</th>\n",
       "      <th></th>\n",
       "      <th></th>\n",
       "      <th></th>\n",
       "      <th></th>\n",
       "      <th></th>\n",
       "      <th></th>\n",
       "      <th></th>\n",
       "      <th></th>\n",
       "      <th></th>\n",
       "      <th></th>\n",
       "      <th></th>\n",
       "      <th></th>\n",
       "      <th></th>\n",
       "      <th></th>\n",
       "      <th></th>\n",
       "      <th></th>\n",
       "    </tr>\n",
       "  </thead>\n",
       "  <tbody>\n",
       "    <tr>\n",
       "      <th rowspan=\"4\" valign=\"top\">LR</th>\n",
       "      <th rowspan=\"2\" valign=\"top\">openstack</th>\n",
       "      <th>LIME</th>\n",
       "      <td>376.0</td>\n",
       "      <td>1131.262558</td>\n",
       "      <td>618.026586</td>\n",
       "      <td>477.756571</td>\n",
       "      <td>701.172394</td>\n",
       "      <td>870.391645</td>\n",
       "      <td>1406.863042</td>\n",
       "      <td>3714.300936</td>\n",
       "      <td>376.0</td>\n",
       "      <td>0.597434</td>\n",
       "      <td>0.006264</td>\n",
       "      <td>0.576400</td>\n",
       "      <td>0.593000</td>\n",
       "      <td>0.597400</td>\n",
       "      <td>0.602400</td>\n",
       "      <td>0.620000</td>\n",
       "    </tr>\n",
       "    <tr>\n",
       "      <th>pyExplainer</th>\n",
       "      <td>376.0</td>\n",
       "      <td>557.807385</td>\n",
       "      <td>362.146216</td>\n",
       "      <td>138.915781</td>\n",
       "      <td>312.663098</td>\n",
       "      <td>464.889745</td>\n",
       "      <td>668.952822</td>\n",
       "      <td>3265.423908</td>\n",
       "      <td>376.0</td>\n",
       "      <td>0.687295</td>\n",
       "      <td>0.167879</td>\n",
       "      <td>0.170982</td>\n",
       "      <td>0.591065</td>\n",
       "      <td>0.750934</td>\n",
       "      <td>0.824219</td>\n",
       "      <td>0.855357</td>\n",
       "    </tr>\n",
       "    <tr>\n",
       "      <th rowspan=\"2\" valign=\"top\">qt</th>\n",
       "      <th>LIME</th>\n",
       "      <td>255.0</td>\n",
       "      <td>1710.479949</td>\n",
       "      <td>1179.979075</td>\n",
       "      <td>793.941497</td>\n",
       "      <td>991.287738</td>\n",
       "      <td>1138.732355</td>\n",
       "      <td>2175.935989</td>\n",
       "      <td>13066.498777</td>\n",
       "      <td>255.0</td>\n",
       "      <td>0.596206</td>\n",
       "      <td>0.006805</td>\n",
       "      <td>0.572800</td>\n",
       "      <td>0.591800</td>\n",
       "      <td>0.596400</td>\n",
       "      <td>0.600600</td>\n",
       "      <td>0.616800</td>\n",
       "    </tr>\n",
       "    <tr>\n",
       "      <th>pyExplainer</th>\n",
       "      <td>255.0</td>\n",
       "      <td>811.010560</td>\n",
       "      <td>1017.593081</td>\n",
       "      <td>56.939860</td>\n",
       "      <td>319.096248</td>\n",
       "      <td>519.294034</td>\n",
       "      <td>939.178532</td>\n",
       "      <td>12696.966184</td>\n",
       "      <td>255.0</td>\n",
       "      <td>0.716454</td>\n",
       "      <td>0.169285</td>\n",
       "      <td>0.183036</td>\n",
       "      <td>0.635175</td>\n",
       "      <td>0.804464</td>\n",
       "      <td>0.835268</td>\n",
       "      <td>0.859375</td>\n",
       "    </tr>\n",
       "    <tr>\n",
       "      <th rowspan=\"4\" valign=\"top\">RF</th>\n",
       "      <th rowspan=\"2\" valign=\"top\">openstack</th>\n",
       "      <th>LIME</th>\n",
       "      <td>198.0</td>\n",
       "      <td>1127.613198</td>\n",
       "      <td>623.720753</td>\n",
       "      <td>480.403424</td>\n",
       "      <td>706.994530</td>\n",
       "      <td>841.419710</td>\n",
       "      <td>1413.531171</td>\n",
       "      <td>3706.934900</td>\n",
       "      <td>198.0</td>\n",
       "      <td>0.165280</td>\n",
       "      <td>0.004570</td>\n",
       "      <td>0.154600</td>\n",
       "      <td>0.161850</td>\n",
       "      <td>0.165200</td>\n",
       "      <td>0.168400</td>\n",
       "      <td>0.180800</td>\n",
       "    </tr>\n",
       "    <tr>\n",
       "      <th>pyExplainer</th>\n",
       "      <td>198.0</td>\n",
       "      <td>591.730160</td>\n",
       "      <td>336.210659</td>\n",
       "      <td>208.965221</td>\n",
       "      <td>363.540465</td>\n",
       "      <td>499.514998</td>\n",
       "      <td>718.352814</td>\n",
       "      <td>2221.477801</td>\n",
       "      <td>198.0</td>\n",
       "      <td>0.560800</td>\n",
       "      <td>0.094219</td>\n",
       "      <td>0.203125</td>\n",
       "      <td>0.496987</td>\n",
       "      <td>0.560373</td>\n",
       "      <td>0.641589</td>\n",
       "      <td>0.729038</td>\n",
       "    </tr>\n",
       "    <tr>\n",
       "      <th rowspan=\"2\" valign=\"top\">qt</th>\n",
       "      <th>LIME</th>\n",
       "      <td>79.0</td>\n",
       "      <td>1981.142021</td>\n",
       "      <td>992.506462</td>\n",
       "      <td>841.474520</td>\n",
       "      <td>1082.522918</td>\n",
       "      <td>1825.047204</td>\n",
       "      <td>2603.049893</td>\n",
       "      <td>4588.606492</td>\n",
       "      <td>79.0</td>\n",
       "      <td>0.135856</td>\n",
       "      <td>0.004667</td>\n",
       "      <td>0.123000</td>\n",
       "      <td>0.133100</td>\n",
       "      <td>0.136200</td>\n",
       "      <td>0.139000</td>\n",
       "      <td>0.147400</td>\n",
       "    </tr>\n",
       "    <tr>\n",
       "      <th>pyExplainer</th>\n",
       "      <td>79.0</td>\n",
       "      <td>1073.430037</td>\n",
       "      <td>658.951800</td>\n",
       "      <td>142.504855</td>\n",
       "      <td>586.150375</td>\n",
       "      <td>923.460322</td>\n",
       "      <td>1386.965269</td>\n",
       "      <td>2972.080245</td>\n",
       "      <td>79.0</td>\n",
       "      <td>0.485236</td>\n",
       "      <td>0.058970</td>\n",
       "      <td>0.375446</td>\n",
       "      <td>0.442857</td>\n",
       "      <td>0.479464</td>\n",
       "      <td>0.517931</td>\n",
       "      <td>0.630601</td>\n",
       "    </tr>\n",
       "  </tbody>\n",
       "</table>\n",
       "</div>"
      ],
      "text/plain": [
       "                                   euc_dist_med                            \\\n",
       "                                          count         mean          std   \n",
       "global_model project   method                                               \n",
       "LR           openstack LIME               376.0  1131.262558   618.026586   \n",
       "                       pyExplainer        376.0   557.807385   362.146216   \n",
       "             qt        LIME               255.0  1710.479949  1179.979075   \n",
       "                       pyExplainer        255.0   811.010560  1017.593081   \n",
       "RF           openstack LIME               198.0  1127.613198   623.720753   \n",
       "                       pyExplainer        198.0   591.730160   336.210659   \n",
       "             qt        LIME                79.0  1981.142021   992.506462   \n",
       "                       pyExplainer         79.0  1073.430037   658.951800   \n",
       "\n",
       "                                                                          \\\n",
       "                                           min          25%          50%   \n",
       "global_model project   method                                              \n",
       "LR           openstack LIME         477.756571   701.172394   870.391645   \n",
       "                       pyExplainer  138.915781   312.663098   464.889745   \n",
       "             qt        LIME         793.941497   991.287738  1138.732355   \n",
       "                       pyExplainer   56.939860   319.096248   519.294034   \n",
       "RF           openstack LIME         480.403424   706.994530   841.419710   \n",
       "                       pyExplainer  208.965221   363.540465   499.514998   \n",
       "             qt        LIME         841.474520  1082.522918  1825.047204   \n",
       "                       pyExplainer  142.504855   586.150375   923.460322   \n",
       "\n",
       "                                                               \\\n",
       "                                            75%           max   \n",
       "global_model project   method                                   \n",
       "LR           openstack LIME         1406.863042   3714.300936   \n",
       "                       pyExplainer   668.952822   3265.423908   \n",
       "             qt        LIME         2175.935989  13066.498777   \n",
       "                       pyExplainer   939.178532  12696.966184   \n",
       "RF           openstack LIME         1413.531171   3706.934900   \n",
       "                       pyExplainer   718.352814   2221.477801   \n",
       "             qt        LIME         2603.049893   4588.606492   \n",
       "                       pyExplainer  1386.965269   2972.080245   \n",
       "\n",
       "                                   defective_generated_instance_ratio  \\\n",
       "                                                                count   \n",
       "global_model project   method                                           \n",
       "LR           openstack LIME                                     376.0   \n",
       "                       pyExplainer                              376.0   \n",
       "             qt        LIME                                     255.0   \n",
       "                       pyExplainer                              255.0   \n",
       "RF           openstack LIME                                     198.0   \n",
       "                       pyExplainer                              198.0   \n",
       "             qt        LIME                                      79.0   \n",
       "                       pyExplainer                               79.0   \n",
       "\n",
       "                                                                            \\\n",
       "                                        mean       std       min       25%   \n",
       "global_model project   method                                                \n",
       "LR           openstack LIME         0.597434  0.006264  0.576400  0.593000   \n",
       "                       pyExplainer  0.687295  0.167879  0.170982  0.591065   \n",
       "             qt        LIME         0.596206  0.006805  0.572800  0.591800   \n",
       "                       pyExplainer  0.716454  0.169285  0.183036  0.635175   \n",
       "RF           openstack LIME         0.165280  0.004570  0.154600  0.161850   \n",
       "                       pyExplainer  0.560800  0.094219  0.203125  0.496987   \n",
       "             qt        LIME         0.135856  0.004667  0.123000  0.133100   \n",
       "                       pyExplainer  0.485236  0.058970  0.375446  0.442857   \n",
       "\n",
       "                                                                  \n",
       "                                         50%       75%       max  \n",
       "global_model project   method                                     \n",
       "LR           openstack LIME         0.597400  0.602400  0.620000  \n",
       "                       pyExplainer  0.750934  0.824219  0.855357  \n",
       "             qt        LIME         0.596400  0.600600  0.616800  \n",
       "                       pyExplainer  0.804464  0.835268  0.859375  \n",
       "RF           openstack LIME         0.165200  0.168400  0.180800  \n",
       "                       pyExplainer  0.560373  0.641589  0.729038  \n",
       "             qt        LIME         0.136200  0.139000  0.147400  \n",
       "                       pyExplainer  0.479464  0.517931  0.630601  "
      ]
     },
     "metadata": {},
     "output_type": "display_data"
    }
   ],
   "source": [
    "show_rq1_eval_result()"
   ]
  },
  {
   "cell_type": "markdown",
   "metadata": {},
   "source": [
    "# RQ2 evaluation"
   ]
  },
  {
   "cell_type": "code",
   "execution_count": 31,
   "metadata": {
    "scrolled": true
   },
   "outputs": [
    {
     "name": "stderr",
     "output_type": "stream",
     "text": [
      "/home/oathaha/.conda/envs/env_oat/lib/python3.9/site-packages/sklearn/metrics/_classification.py:870: RuntimeWarning: invalid value encountered in double_scalars\n",
      "  mcc = cov_ytyp / np.sqrt(cov_ytyt * cov_ypyp)\n",
      "/home/oathaha/.conda/envs/env_oat/lib/python3.9/site-packages/sklearn/metrics/_classification.py:870: RuntimeWarning: invalid value encountered in double_scalars\n",
      "  mcc = cov_ytyp / np.sqrt(cov_ytyt * cov_ypyp)\n",
      "/home/oathaha/.conda/envs/env_oat/lib/python3.9/site-packages/sklearn/metrics/_classification.py:870: RuntimeWarning: invalid value encountered in double_scalars\n",
      "  mcc = cov_ytyp / np.sqrt(cov_ytyt * cov_ypyp)\n",
      "/home/oathaha/.conda/envs/env_oat/lib/python3.9/site-packages/sklearn/metrics/_classification.py:870: RuntimeWarning: invalid value encountered in double_scalars\n",
      "  mcc = cov_ytyp / np.sqrt(cov_ytyt * cov_ypyp)\n",
      "/home/oathaha/.conda/envs/env_oat/lib/python3.9/site-packages/sklearn/metrics/_classification.py:870: RuntimeWarning: invalid value encountered in double_scalars\n",
      "  mcc = cov_ytyp / np.sqrt(cov_ytyt * cov_ypyp)\n",
      "/home/oathaha/.conda/envs/env_oat/lib/python3.9/site-packages/sklearn/metrics/_classification.py:870: RuntimeWarning: invalid value encountered in double_scalars\n",
      "  mcc = cov_ytyp / np.sqrt(cov_ytyt * cov_ypyp)\n",
      "/home/oathaha/.conda/envs/env_oat/lib/python3.9/site-packages/sklearn/metrics/_classification.py:870: RuntimeWarning: invalid value encountered in double_scalars\n",
      "  mcc = cov_ytyp / np.sqrt(cov_ytyt * cov_ypyp)\n",
      "/home/oathaha/.conda/envs/env_oat/lib/python3.9/site-packages/sklearn/metrics/_classification.py:870: RuntimeWarning: invalid value encountered in double_scalars\n",
      "  mcc = cov_ytyp / np.sqrt(cov_ytyt * cov_ypyp)\n",
      "/home/oathaha/.conda/envs/env_oat/lib/python3.9/site-packages/sklearn/metrics/_classification.py:870: RuntimeWarning: invalid value encountered in double_scalars\n",
      "  mcc = cov_ytyp / np.sqrt(cov_ytyt * cov_ypyp)\n",
      "/home/oathaha/.conda/envs/env_oat/lib/python3.9/site-packages/sklearn/metrics/_classification.py:870: RuntimeWarning: invalid value encountered in double_scalars\n",
      "  mcc = cov_ytyp / np.sqrt(cov_ytyt * cov_ypyp)\n",
      "/home/oathaha/.conda/envs/env_oat/lib/python3.9/site-packages/sklearn/metrics/_classification.py:870: RuntimeWarning: invalid value encountered in double_scalars\n",
      "  mcc = cov_ytyp / np.sqrt(cov_ytyt * cov_ypyp)\n",
      "/home/oathaha/.conda/envs/env_oat/lib/python3.9/site-packages/sklearn/metrics/_classification.py:870: RuntimeWarning: invalid value encountered in double_scalars\n",
      "  mcc = cov_ytyp / np.sqrt(cov_ytyt * cov_ypyp)\n"
     ]
    },
    {
     "name": "stdout",
     "output_type": "stream",
     "text": [
      "finished RQ2 of openstack\n"
     ]
    },
    {
     "name": "stderr",
     "output_type": "stream",
     "text": [
      "/home/oathaha/.conda/envs/env_oat/lib/python3.9/site-packages/sklearn/metrics/_classification.py:870: RuntimeWarning: invalid value encountered in double_scalars\n",
      "  mcc = cov_ytyp / np.sqrt(cov_ytyt * cov_ypyp)\n",
      "/home/oathaha/.conda/envs/env_oat/lib/python3.9/site-packages/sklearn/metrics/_classification.py:870: RuntimeWarning: invalid value encountered in double_scalars\n",
      "  mcc = cov_ytyp / np.sqrt(cov_ytyt * cov_ypyp)\n",
      "/home/oathaha/.conda/envs/env_oat/lib/python3.9/site-packages/sklearn/metrics/_classification.py:870: RuntimeWarning: invalid value encountered in double_scalars\n",
      "  mcc = cov_ytyp / np.sqrt(cov_ytyt * cov_ypyp)\n",
      "/home/oathaha/.conda/envs/env_oat/lib/python3.9/site-packages/sklearn/metrics/_classification.py:870: RuntimeWarning: invalid value encountered in double_scalars\n",
      "  mcc = cov_ytyp / np.sqrt(cov_ytyt * cov_ypyp)\n",
      "/home/oathaha/.conda/envs/env_oat/lib/python3.9/site-packages/sklearn/metrics/_classification.py:870: RuntimeWarning: invalid value encountered in double_scalars\n",
      "  mcc = cov_ytyp / np.sqrt(cov_ytyt * cov_ypyp)\n"
     ]
    },
    {
     "name": "stdout",
     "output_type": "stream",
     "text": [
      "finished RQ2 of qt\n"
     ]
    }
   ],
   "source": [
    "rq2_eval('openstack','RF')\n",
    "rq2_eval('qt','RF')"
   ]
  },
  {
   "cell_type": "code",
   "execution_count": 32,
   "metadata": {},
   "outputs": [
    {
     "name": "stderr",
     "output_type": "stream",
     "text": [
      "/home/oathaha/.conda/envs/env_oat/lib/python3.9/site-packages/sklearn/metrics/_classification.py:870: RuntimeWarning: invalid value encountered in double_scalars\n",
      "  mcc = cov_ytyp / np.sqrt(cov_ytyt * cov_ypyp)\n",
      "/home/oathaha/.conda/envs/env_oat/lib/python3.9/site-packages/sklearn/metrics/_classification.py:870: RuntimeWarning: invalid value encountered in double_scalars\n",
      "  mcc = cov_ytyp / np.sqrt(cov_ytyt * cov_ypyp)\n",
      "/home/oathaha/.conda/envs/env_oat/lib/python3.9/site-packages/sklearn/metrics/_classification.py:870: RuntimeWarning: invalid value encountered in double_scalars\n",
      "  mcc = cov_ytyp / np.sqrt(cov_ytyt * cov_ypyp)\n",
      "/home/oathaha/.conda/envs/env_oat/lib/python3.9/site-packages/sklearn/metrics/_classification.py:870: RuntimeWarning: invalid value encountered in double_scalars\n",
      "  mcc = cov_ytyp / np.sqrt(cov_ytyt * cov_ypyp)\n",
      "/home/oathaha/.conda/envs/env_oat/lib/python3.9/site-packages/sklearn/metrics/_classification.py:870: RuntimeWarning: invalid value encountered in double_scalars\n",
      "  mcc = cov_ytyp / np.sqrt(cov_ytyt * cov_ypyp)\n",
      "/home/oathaha/.conda/envs/env_oat/lib/python3.9/site-packages/sklearn/metrics/_classification.py:870: RuntimeWarning: invalid value encountered in double_scalars\n",
      "  mcc = cov_ytyp / np.sqrt(cov_ytyt * cov_ypyp)\n",
      "/home/oathaha/.conda/envs/env_oat/lib/python3.9/site-packages/sklearn/metrics/_classification.py:870: RuntimeWarning: invalid value encountered in double_scalars\n",
      "  mcc = cov_ytyp / np.sqrt(cov_ytyt * cov_ypyp)\n",
      "/home/oathaha/.conda/envs/env_oat/lib/python3.9/site-packages/sklearn/metrics/_classification.py:870: RuntimeWarning: invalid value encountered in double_scalars\n",
      "  mcc = cov_ytyp / np.sqrt(cov_ytyt * cov_ypyp)\n",
      "/home/oathaha/.conda/envs/env_oat/lib/python3.9/site-packages/sklearn/metrics/_classification.py:870: RuntimeWarning: invalid value encountered in double_scalars\n",
      "  mcc = cov_ytyp / np.sqrt(cov_ytyt * cov_ypyp)\n",
      "/home/oathaha/.conda/envs/env_oat/lib/python3.9/site-packages/sklearn/metrics/_classification.py:870: RuntimeWarning: invalid value encountered in double_scalars\n",
      "  mcc = cov_ytyp / np.sqrt(cov_ytyt * cov_ypyp)\n",
      "/home/oathaha/.conda/envs/env_oat/lib/python3.9/site-packages/sklearn/metrics/_classification.py:870: RuntimeWarning: invalid value encountered in double_scalars\n",
      "  mcc = cov_ytyp / np.sqrt(cov_ytyt * cov_ypyp)\n",
      "/home/oathaha/.conda/envs/env_oat/lib/python3.9/site-packages/sklearn/metrics/_classification.py:870: RuntimeWarning: invalid value encountered in double_scalars\n",
      "  mcc = cov_ytyp / np.sqrt(cov_ytyt * cov_ypyp)\n",
      "/home/oathaha/.conda/envs/env_oat/lib/python3.9/site-packages/sklearn/metrics/_classification.py:870: RuntimeWarning: invalid value encountered in double_scalars\n",
      "  mcc = cov_ytyp / np.sqrt(cov_ytyt * cov_ypyp)\n",
      "/home/oathaha/.conda/envs/env_oat/lib/python3.9/site-packages/sklearn/metrics/_classification.py:870: RuntimeWarning: invalid value encountered in double_scalars\n",
      "  mcc = cov_ytyp / np.sqrt(cov_ytyt * cov_ypyp)\n",
      "/home/oathaha/.conda/envs/env_oat/lib/python3.9/site-packages/sklearn/metrics/_classification.py:870: RuntimeWarning: invalid value encountered in double_scalars\n",
      "  mcc = cov_ytyp / np.sqrt(cov_ytyt * cov_ypyp)\n",
      "/home/oathaha/.conda/envs/env_oat/lib/python3.9/site-packages/sklearn/metrics/_classification.py:870: RuntimeWarning: invalid value encountered in double_scalars\n",
      "  mcc = cov_ytyp / np.sqrt(cov_ytyt * cov_ypyp)\n",
      "/home/oathaha/.conda/envs/env_oat/lib/python3.9/site-packages/sklearn/metrics/_classification.py:870: RuntimeWarning: invalid value encountered in double_scalars\n",
      "  mcc = cov_ytyp / np.sqrt(cov_ytyt * cov_ypyp)\n",
      "/home/oathaha/.conda/envs/env_oat/lib/python3.9/site-packages/sklearn/metrics/_classification.py:870: RuntimeWarning: invalid value encountered in double_scalars\n",
      "  mcc = cov_ytyp / np.sqrt(cov_ytyt * cov_ypyp)\n",
      "/home/oathaha/.conda/envs/env_oat/lib/python3.9/site-packages/sklearn/metrics/_classification.py:870: RuntimeWarning: invalid value encountered in double_scalars\n",
      "  mcc = cov_ytyp / np.sqrt(cov_ytyt * cov_ypyp)\n",
      "/home/oathaha/.conda/envs/env_oat/lib/python3.9/site-packages/sklearn/metrics/_classification.py:870: RuntimeWarning: invalid value encountered in double_scalars\n",
      "  mcc = cov_ytyp / np.sqrt(cov_ytyt * cov_ypyp)\n",
      "/home/oathaha/.conda/envs/env_oat/lib/python3.9/site-packages/sklearn/metrics/_classification.py:870: RuntimeWarning: invalid value encountered in double_scalars\n",
      "  mcc = cov_ytyp / np.sqrt(cov_ytyt * cov_ypyp)\n",
      "/home/oathaha/.conda/envs/env_oat/lib/python3.9/site-packages/sklearn/metrics/_classification.py:870: RuntimeWarning: invalid value encountered in double_scalars\n",
      "  mcc = cov_ytyp / np.sqrt(cov_ytyt * cov_ypyp)\n",
      "/home/oathaha/.conda/envs/env_oat/lib/python3.9/site-packages/sklearn/metrics/_classification.py:870: RuntimeWarning: invalid value encountered in double_scalars\n",
      "  mcc = cov_ytyp / np.sqrt(cov_ytyt * cov_ypyp)\n",
      "/home/oathaha/.conda/envs/env_oat/lib/python3.9/site-packages/sklearn/metrics/_classification.py:870: RuntimeWarning: invalid value encountered in double_scalars\n",
      "  mcc = cov_ytyp / np.sqrt(cov_ytyt * cov_ypyp)\n",
      "/home/oathaha/.conda/envs/env_oat/lib/python3.9/site-packages/sklearn/metrics/_classification.py:870: RuntimeWarning: invalid value encountered in double_scalars\n",
      "  mcc = cov_ytyp / np.sqrt(cov_ytyt * cov_ypyp)\n"
     ]
    },
    {
     "name": "stdout",
     "output_type": "stream",
     "text": [
      "finished RQ2 of openstack\n"
     ]
    },
    {
     "name": "stderr",
     "output_type": "stream",
     "text": [
      "/home/oathaha/.conda/envs/env_oat/lib/python3.9/site-packages/sklearn/metrics/_classification.py:870: RuntimeWarning: invalid value encountered in double_scalars\n",
      "  mcc = cov_ytyp / np.sqrt(cov_ytyt * cov_ypyp)\n",
      "/home/oathaha/.conda/envs/env_oat/lib/python3.9/site-packages/sklearn/metrics/_classification.py:870: RuntimeWarning: invalid value encountered in double_scalars\n",
      "  mcc = cov_ytyp / np.sqrt(cov_ytyt * cov_ypyp)\n",
      "/home/oathaha/.conda/envs/env_oat/lib/python3.9/site-packages/sklearn/metrics/_classification.py:870: RuntimeWarning: invalid value encountered in double_scalars\n",
      "  mcc = cov_ytyp / np.sqrt(cov_ytyt * cov_ypyp)\n",
      "/home/oathaha/.conda/envs/env_oat/lib/python3.9/site-packages/sklearn/metrics/_classification.py:870: RuntimeWarning: invalid value encountered in double_scalars\n",
      "  mcc = cov_ytyp / np.sqrt(cov_ytyt * cov_ypyp)\n",
      "/home/oathaha/.conda/envs/env_oat/lib/python3.9/site-packages/sklearn/metrics/_classification.py:870: RuntimeWarning: invalid value encountered in double_scalars\n",
      "  mcc = cov_ytyp / np.sqrt(cov_ytyt * cov_ypyp)\n",
      "/home/oathaha/.conda/envs/env_oat/lib/python3.9/site-packages/sklearn/metrics/_classification.py:870: RuntimeWarning: invalid value encountered in double_scalars\n",
      "  mcc = cov_ytyp / np.sqrt(cov_ytyt * cov_ypyp)\n",
      "/home/oathaha/.conda/envs/env_oat/lib/python3.9/site-packages/sklearn/metrics/_classification.py:870: RuntimeWarning: invalid value encountered in double_scalars\n",
      "  mcc = cov_ytyp / np.sqrt(cov_ytyt * cov_ypyp)\n",
      "/home/oathaha/.conda/envs/env_oat/lib/python3.9/site-packages/sklearn/metrics/_classification.py:870: RuntimeWarning: invalid value encountered in double_scalars\n",
      "  mcc = cov_ytyp / np.sqrt(cov_ytyt * cov_ypyp)\n",
      "/home/oathaha/.conda/envs/env_oat/lib/python3.9/site-packages/sklearn/metrics/_classification.py:870: RuntimeWarning: invalid value encountered in double_scalars\n",
      "  mcc = cov_ytyp / np.sqrt(cov_ytyt * cov_ypyp)\n",
      "/home/oathaha/.conda/envs/env_oat/lib/python3.9/site-packages/sklearn/metrics/_classification.py:870: RuntimeWarning: invalid value encountered in double_scalars\n",
      "  mcc = cov_ytyp / np.sqrt(cov_ytyt * cov_ypyp)\n",
      "/home/oathaha/.conda/envs/env_oat/lib/python3.9/site-packages/sklearn/metrics/_classification.py:870: RuntimeWarning: invalid value encountered in double_scalars\n",
      "  mcc = cov_ytyp / np.sqrt(cov_ytyt * cov_ypyp)\n",
      "/home/oathaha/.conda/envs/env_oat/lib/python3.9/site-packages/sklearn/metrics/_classification.py:870: RuntimeWarning: invalid value encountered in double_scalars\n",
      "  mcc = cov_ytyp / np.sqrt(cov_ytyt * cov_ypyp)\n",
      "/home/oathaha/.conda/envs/env_oat/lib/python3.9/site-packages/sklearn/metrics/_classification.py:870: RuntimeWarning: invalid value encountered in double_scalars\n",
      "  mcc = cov_ytyp / np.sqrt(cov_ytyt * cov_ypyp)\n",
      "/home/oathaha/.conda/envs/env_oat/lib/python3.9/site-packages/sklearn/metrics/_classification.py:870: RuntimeWarning: invalid value encountered in double_scalars\n",
      "  mcc = cov_ytyp / np.sqrt(cov_ytyt * cov_ypyp)\n",
      "/home/oathaha/.conda/envs/env_oat/lib/python3.9/site-packages/sklearn/metrics/_classification.py:870: RuntimeWarning: invalid value encountered in double_scalars\n",
      "  mcc = cov_ytyp / np.sqrt(cov_ytyt * cov_ypyp)\n",
      "/home/oathaha/.conda/envs/env_oat/lib/python3.9/site-packages/sklearn/metrics/_classification.py:870: RuntimeWarning: invalid value encountered in double_scalars\n",
      "  mcc = cov_ytyp / np.sqrt(cov_ytyt * cov_ypyp)\n",
      "/home/oathaha/.conda/envs/env_oat/lib/python3.9/site-packages/sklearn/metrics/_classification.py:870: RuntimeWarning: invalid value encountered in double_scalars\n",
      "  mcc = cov_ytyp / np.sqrt(cov_ytyt * cov_ypyp)\n",
      "/home/oathaha/.conda/envs/env_oat/lib/python3.9/site-packages/sklearn/metrics/_classification.py:870: RuntimeWarning: invalid value encountered in double_scalars\n",
      "  mcc = cov_ytyp / np.sqrt(cov_ytyt * cov_ypyp)\n",
      "/home/oathaha/.conda/envs/env_oat/lib/python3.9/site-packages/sklearn/metrics/_classification.py:870: RuntimeWarning: invalid value encountered in double_scalars\n",
      "  mcc = cov_ytyp / np.sqrt(cov_ytyt * cov_ypyp)\n"
     ]
    },
    {
     "name": "stdout",
     "output_type": "stream",
     "text": [
      "finished RQ2 of qt\n"
     ]
    }
   ],
   "source": [
    "rq2_eval('openstack','lr')\n",
    "rq2_eval('qt','lr')"
   ]
  },
  {
   "cell_type": "code",
   "execution_count": 6,
   "metadata": {},
   "outputs": [
    {
     "data": {
      "image/png": "[encoded data removed]",
      "text/plain": [
       "<Figure size 720x720 with 4 Axes>"
      ]
     },
     "metadata": {
      "needs_background": "light"
     },
     "output_type": "display_data"
    },
    {
     "data": {
      "text/html": [
       "<div>\n",
       "<style scoped>\n",
       "    .dataframe tbody tr th:only-of-type {\n",
       "        vertical-align: middle;\n",
       "    }\n",
       "\n",
       "    .dataframe tbody tr th {\n",
       "        vertical-align: top;\n",
       "    }\n",
       "\n",
       "    .dataframe thead tr th {\n",
       "        text-align: left;\n",
       "    }\n",
       "\n",
       "    .dataframe thead tr:last-of-type th {\n",
       "        text-align: right;\n",
       "    }\n",
       "</style>\n",
       "<table border=\"1\" class=\"dataframe\">\n",
       "  <thead>\n",
       "    <tr>\n",
       "      <th></th>\n",
       "      <th></th>\n",
       "      <th></th>\n",
       "      <th colspan=\"8\" halign=\"left\">AUC</th>\n",
       "      <th colspan=\"8\" halign=\"left\">F1</th>\n",
       "    </tr>\n",
       "    <tr>\n",
       "      <th></th>\n",
       "      <th></th>\n",
       "      <th></th>\n",
       "      <th>count</th>\n",
       "      <th>mean</th>\n",
       "      <th>std</th>\n",
       "      <th>min</th>\n",
       "      <th>25%</th>\n",
       "      <th>50%</th>\n",
       "      <th>75%</th>\n",
       "      <th>max</th>\n",
       "      <th>count</th>\n",
       "      <th>mean</th>\n",
       "      <th>std</th>\n",
       "      <th>min</th>\n",
       "      <th>25%</th>\n",
       "      <th>50%</th>\n",
       "      <th>75%</th>\n",
       "      <th>max</th>\n",
       "    </tr>\n",
       "    <tr>\n",
       "      <th>global_model</th>\n",
       "      <th>project</th>\n",
       "      <th>method</th>\n",
       "      <th></th>\n",
       "      <th></th>\n",
       "      <th></th>\n",
       "      <th></th>\n",
       "      <th></th>\n",
       "      <th></th>\n",
       "      <th></th>\n",
       "      <th></th>\n",
       "      <th></th>\n",
       "      <th></th>\n",
       "      <th></th>\n",
       "      <th></th>\n",
       "      <th></th>\n",
       "      <th></th>\n",
       "      <th></th>\n",
       "      <th></th>\n",
       "    </tr>\n",
       "  </thead>\n",
       "  <tbody>\n",
       "    <tr>\n",
       "      <th rowspan=\"4\" valign=\"top\">LR</th>\n",
       "      <th rowspan=\"2\" valign=\"top\">openstack</th>\n",
       "      <th>LIME</th>\n",
       "      <td>376.0</td>\n",
       "      <td>0.829845</td>\n",
       "      <td>0.054818</td>\n",
       "      <td>0.665162</td>\n",
       "      <td>0.801032</td>\n",
       "      <td>0.849540</td>\n",
       "      <td>0.871259</td>\n",
       "      <td>0.918184</td>\n",
       "      <td>376.0</td>\n",
       "      <td>0.805110</td>\n",
       "      <td>0.030884</td>\n",
       "      <td>0.732030</td>\n",
       "      <td>0.780089</td>\n",
       "      <td>0.811333</td>\n",
       "      <td>0.830309</td>\n",
       "      <td>0.875282</td>\n",
       "    </tr>\n",
       "    <tr>\n",
       "      <th>pyExplainer</th>\n",
       "      <td>376.0</td>\n",
       "      <td>0.965342</td>\n",
       "      <td>0.127000</td>\n",
       "      <td>0.500000</td>\n",
       "      <td>0.999999</td>\n",
       "      <td>1.000000</td>\n",
       "      <td>1.000000</td>\n",
       "      <td>1.000000</td>\n",
       "      <td>376.0</td>\n",
       "      <td>0.988979</td>\n",
       "      <td>0.058272</td>\n",
       "      <td>0.000000</td>\n",
       "      <td>0.999201</td>\n",
       "      <td>1.000000</td>\n",
       "      <td>1.000000</td>\n",
       "      <td>1.000000</td>\n",
       "    </tr>\n",
       "    <tr>\n",
       "      <th rowspan=\"2\" valign=\"top\">qt</th>\n",
       "      <th>LIME</th>\n",
       "      <td>255.0</td>\n",
       "      <td>0.799339</td>\n",
       "      <td>0.073578</td>\n",
       "      <td>0.599662</td>\n",
       "      <td>0.756315</td>\n",
       "      <td>0.815708</td>\n",
       "      <td>0.847866</td>\n",
       "      <td>0.932132</td>\n",
       "      <td>255.0</td>\n",
       "      <td>0.775945</td>\n",
       "      <td>0.045094</td>\n",
       "      <td>0.650254</td>\n",
       "      <td>0.746965</td>\n",
       "      <td>0.767388</td>\n",
       "      <td>0.804211</td>\n",
       "      <td>0.889723</td>\n",
       "    </tr>\n",
       "    <tr>\n",
       "      <th>pyExplainer</th>\n",
       "      <td>255.0</td>\n",
       "      <td>0.962703</td>\n",
       "      <td>0.131546</td>\n",
       "      <td>0.500000</td>\n",
       "      <td>0.999942</td>\n",
       "      <td>1.000000</td>\n",
       "      <td>1.000000</td>\n",
       "      <td>1.000000</td>\n",
       "      <td>255.0</td>\n",
       "      <td>0.987397</td>\n",
       "      <td>0.044310</td>\n",
       "      <td>0.671770</td>\n",
       "      <td>0.998394</td>\n",
       "      <td>1.000000</td>\n",
       "      <td>1.000000</td>\n",
       "      <td>1.000000</td>\n",
       "    </tr>\n",
       "    <tr>\n",
       "      <th rowspan=\"4\" valign=\"top\">RF</th>\n",
       "      <th rowspan=\"2\" valign=\"top\">openstack</th>\n",
       "      <th>LIME</th>\n",
       "      <td>198.0</td>\n",
       "      <td>0.739566</td>\n",
       "      <td>0.029421</td>\n",
       "      <td>0.623621</td>\n",
       "      <td>0.727860</td>\n",
       "      <td>0.746571</td>\n",
       "      <td>0.757864</td>\n",
       "      <td>0.791661</td>\n",
       "      <td>198.0</td>\n",
       "      <td>0.249181</td>\n",
       "      <td>0.087802</td>\n",
       "      <td>0.000000</td>\n",
       "      <td>0.203805</td>\n",
       "      <td>0.277810</td>\n",
       "      <td>0.314145</td>\n",
       "      <td>0.385425</td>\n",
       "    </tr>\n",
       "    <tr>\n",
       "      <th>pyExplainer</th>\n",
       "      <td>198.0</td>\n",
       "      <td>0.970641</td>\n",
       "      <td>0.097037</td>\n",
       "      <td>0.500000</td>\n",
       "      <td>0.984893</td>\n",
       "      <td>0.987770</td>\n",
       "      <td>0.997650</td>\n",
       "      <td>1.000000</td>\n",
       "      <td>198.0</td>\n",
       "      <td>0.944699</td>\n",
       "      <td>0.102566</td>\n",
       "      <td>0.000000</td>\n",
       "      <td>0.941006</td>\n",
       "      <td>0.955757</td>\n",
       "      <td>0.981835</td>\n",
       "      <td>1.000000</td>\n",
       "    </tr>\n",
       "    <tr>\n",
       "      <th rowspan=\"2\" valign=\"top\">qt</th>\n",
       "      <th>LIME</th>\n",
       "      <td>79.0</td>\n",
       "      <td>0.728769</td>\n",
       "      <td>0.031849</td>\n",
       "      <td>0.693537</td>\n",
       "      <td>0.712514</td>\n",
       "      <td>0.720373</td>\n",
       "      <td>0.732195</td>\n",
       "      <td>0.835871</td>\n",
       "      <td>79.0</td>\n",
       "      <td>0.168112</td>\n",
       "      <td>0.088696</td>\n",
       "      <td>0.000000</td>\n",
       "      <td>0.145653</td>\n",
       "      <td>0.185090</td>\n",
       "      <td>0.220874</td>\n",
       "      <td>0.344488</td>\n",
       "    </tr>\n",
       "    <tr>\n",
       "      <th>pyExplainer</th>\n",
       "      <td>79.0</td>\n",
       "      <td>0.978399</td>\n",
       "      <td>0.077853</td>\n",
       "      <td>0.500000</td>\n",
       "      <td>0.986425</td>\n",
       "      <td>0.989037</td>\n",
       "      <td>0.997969</td>\n",
       "      <td>0.999191</td>\n",
       "      <td>79.0</td>\n",
       "      <td>0.948696</td>\n",
       "      <td>0.049454</td>\n",
       "      <td>0.667460</td>\n",
       "      <td>0.940376</td>\n",
       "      <td>0.951140</td>\n",
       "      <td>0.979230</td>\n",
       "      <td>0.988722</td>\n",
       "    </tr>\n",
       "  </tbody>\n",
       "</table>\n",
       "</div>"
      ],
      "text/plain": [
       "                                      AUC                                \\\n",
       "                                    count      mean       std       min   \n",
       "global_model project   method                                             \n",
       "LR           openstack LIME         376.0  0.829845  0.054818  0.665162   \n",
       "                       pyExplainer  376.0  0.965342  0.127000  0.500000   \n",
       "             qt        LIME         255.0  0.799339  0.073578  0.599662   \n",
       "                       pyExplainer  255.0  0.962703  0.131546  0.500000   \n",
       "RF           openstack LIME         198.0  0.739566  0.029421  0.623621   \n",
       "                       pyExplainer  198.0  0.970641  0.097037  0.500000   \n",
       "             qt        LIME          79.0  0.728769  0.031849  0.693537   \n",
       "                       pyExplainer   79.0  0.978399  0.077853  0.500000   \n",
       "\n",
       "                                                                            \\\n",
       "                                         25%       50%       75%       max   \n",
       "global_model project   method                                                \n",
       "LR           openstack LIME         0.801032  0.849540  0.871259  0.918184   \n",
       "                       pyExplainer  0.999999  1.000000  1.000000  1.000000   \n",
       "             qt        LIME         0.756315  0.815708  0.847866  0.932132   \n",
       "                       pyExplainer  0.999942  1.000000  1.000000  1.000000   \n",
       "RF           openstack LIME         0.727860  0.746571  0.757864  0.791661   \n",
       "                       pyExplainer  0.984893  0.987770  0.997650  1.000000   \n",
       "             qt        LIME         0.712514  0.720373  0.732195  0.835871   \n",
       "                       pyExplainer  0.986425  0.989037  0.997969  0.999191   \n",
       "\n",
       "                                       F1                                \\\n",
       "                                    count      mean       std       min   \n",
       "global_model project   method                                             \n",
       "LR           openstack LIME         376.0  0.805110  0.030884  0.732030   \n",
       "                       pyExplainer  376.0  0.988979  0.058272  0.000000   \n",
       "             qt        LIME         255.0  0.775945  0.045094  0.650254   \n",
       "                       pyExplainer  255.0  0.987397  0.044310  0.671770   \n",
       "RF           openstack LIME         198.0  0.249181  0.087802  0.000000   \n",
       "                       pyExplainer  198.0  0.944699  0.102566  0.000000   \n",
       "             qt        LIME          79.0  0.168112  0.088696  0.000000   \n",
       "                       pyExplainer   79.0  0.948696  0.049454  0.667460   \n",
       "\n",
       "                                                                            \n",
       "                                         25%       50%       75%       max  \n",
       "global_model project   method                                               \n",
       "LR           openstack LIME         0.780089  0.811333  0.830309  0.875282  \n",
       "                       pyExplainer  0.999201  1.000000  1.000000  1.000000  \n",
       "             qt        LIME         0.746965  0.767388  0.804211  0.889723  \n",
       "                       pyExplainer  0.998394  1.000000  1.000000  1.000000  \n",
       "RF           openstack LIME         0.203805  0.277810  0.314145  0.385425  \n",
       "                       pyExplainer  0.941006  0.955757  0.981835  1.000000  \n",
       "             qt        LIME         0.145653  0.185090  0.220874  0.344488  \n",
       "                       pyExplainer  0.940376  0.951140  0.979230  0.988722  "
      ]
     },
     "metadata": {},
     "output_type": "display_data"
    }
   ],
   "source": [
    "show_rq2_eval_result()"
   ]
  },
  {
   "cell_type": "code",
   "execution_count": null,
   "metadata": {},
   "outputs": [],
   "source": [
    "show_rq2_prob_distribution()"
   ]
  },
  {
   "cell_type": "markdown",
   "metadata": {},
   "source": [
    "# RQ3 evaluation"
   ]
  },
  {
   "cell_type": "code",
   "execution_count": 41,
   "metadata": {
    "code_folding": [],
    "scrolled": true
   },
   "outputs": [
    {
     "name": "stdout",
     "output_type": "stream",
     "text": [
      "openstack\n",
      "finished 1 from 198 commits\n",
      "finished 2 from 198 commits\n",
      "finished 3 from 198 commits\n",
      "finished 4 from 198 commits\n",
      "finished 5 from 198 commits\n"
     ]
    },
    {
     "name": "stderr",
     "output_type": "stream",
     "text": [
      "/home/oathaha/.conda/envs/env_oat/lib/python3.9/site-packages/sklearn/metrics/_classification.py:1245: UndefinedMetricWarning: Precision is ill-defined and being set to 0.0 due to no predicted samples. Use `zero_division` parameter to control this behavior.\n",
      "  _warn_prf(average, modifier, msg_start, len(result))\n"
     ]
    },
    {
     "name": "stdout",
     "output_type": "stream",
     "text": [
      "finished 6 from 198 commits\n",
      "finished 7 from 198 commits\n",
      "finished 8 from 198 commits\n",
      "finished 9 from 198 commits\n",
      "finished 10 from 198 commits\n",
      "finished 11 from 198 commits\n",
      "finished 12 from 198 commits\n",
      "finished 13 from 198 commits\n"
     ]
    },
    {
     "name": "stderr",
     "output_type": "stream",
     "text": [
      "/home/oathaha/.conda/envs/env_oat/lib/python3.9/site-packages/sklearn/metrics/_classification.py:1245: UndefinedMetricWarning: Precision is ill-defined and being set to 0.0 due to no predicted samples. Use `zero_division` parameter to control this behavior.\n",
      "  _warn_prf(average, modifier, msg_start, len(result))\n"
     ]
    },
    {
     "name": "stdout",
     "output_type": "stream",
     "text": [
      "finished 14 from 198 commits\n",
      "finished 15 from 198 commits\n",
      "finished 16 from 198 commits\n",
      "finished 17 from 198 commits\n",
      "finished 18 from 198 commits\n",
      "finished 19 from 198 commits\n",
      "finished 20 from 198 commits\n",
      "finished 21 from 198 commits\n",
      "finished 22 from 198 commits\n",
      "finished 23 from 198 commits\n",
      "finished 24 from 198 commits\n",
      "finished 25 from 198 commits\n",
      "finished 26 from 198 commits\n",
      "finished 27 from 198 commits\n",
      "finished 28 from 198 commits\n",
      "finished 29 from 198 commits\n",
      "finished 30 from 198 commits\n",
      "finished 31 from 198 commits\n",
      "finished 32 from 198 commits\n",
      "finished 33 from 198 commits\n",
      "finished 34 from 198 commits\n",
      "finished 35 from 198 commits\n",
      "finished 36 from 198 commits\n",
      "finished 37 from 198 commits\n",
      "finished 38 from 198 commits\n",
      "finished 39 from 198 commits\n",
      "finished 40 from 198 commits\n",
      "finished 41 from 198 commits\n",
      "finished 42 from 198 commits\n",
      "finished 43 from 198 commits\n",
      "finished 44 from 198 commits\n",
      "finished 45 from 198 commits\n",
      "finished 46 from 198 commits\n",
      "finished 47 from 198 commits\n",
      "finished 48 from 198 commits\n",
      "finished 49 from 198 commits\n",
      "finished 50 from 198 commits\n",
      "finished 51 from 198 commits\n",
      "finished 52 from 198 commits\n",
      "finished 53 from 198 commits\n",
      "finished 54 from 198 commits\n",
      "finished 55 from 198 commits\n",
      "finished 56 from 198 commits\n",
      "finished 57 from 198 commits\n"
     ]
    },
    {
     "name": "stderr",
     "output_type": "stream",
     "text": [
      "/home/oathaha/.conda/envs/env_oat/lib/python3.9/site-packages/sklearn/metrics/_classification.py:1245: UndefinedMetricWarning: Precision is ill-defined and being set to 0.0 due to no predicted samples. Use `zero_division` parameter to control this behavior.\n",
      "  _warn_prf(average, modifier, msg_start, len(result))\n"
     ]
    },
    {
     "name": "stdout",
     "output_type": "stream",
     "text": [
      "finished 58 from 198 commits\n"
     ]
    },
    {
     "name": "stderr",
     "output_type": "stream",
     "text": [
      "/home/oathaha/.conda/envs/env_oat/lib/python3.9/site-packages/sklearn/metrics/_classification.py:1245: UndefinedMetricWarning: Precision is ill-defined and being set to 0.0 due to no predicted samples. Use `zero_division` parameter to control this behavior.\n",
      "  _warn_prf(average, modifier, msg_start, len(result))\n"
     ]
    },
    {
     "name": "stdout",
     "output_type": "stream",
     "text": [
      "finished 59 from 198 commits\n",
      "finished 60 from 198 commits\n",
      "finished 61 from 198 commits\n",
      "finished 62 from 198 commits\n",
      "finished 63 from 198 commits\n",
      "finished 64 from 198 commits\n",
      "finished 65 from 198 commits\n",
      "finished 66 from 198 commits\n",
      "finished 67 from 198 commits\n",
      "finished 68 from 198 commits\n",
      "finished 69 from 198 commits\n",
      "finished 70 from 198 commits\n",
      "finished 71 from 198 commits\n",
      "finished 72 from 198 commits\n",
      "finished 73 from 198 commits\n",
      "finished 74 from 198 commits\n",
      "finished 75 from 198 commits\n",
      "finished 76 from 198 commits\n",
      "finished 77 from 198 commits\n",
      "finished 78 from 198 commits\n",
      "finished 79 from 198 commits\n",
      "finished 80 from 198 commits\n"
     ]
    },
    {
     "name": "stderr",
     "output_type": "stream",
     "text": [
      "/home/oathaha/.conda/envs/env_oat/lib/python3.9/site-packages/sklearn/metrics/_classification.py:1245: UndefinedMetricWarning: Precision is ill-defined and being set to 0.0 due to no predicted samples. Use `zero_division` parameter to control this behavior.\n",
      "  _warn_prf(average, modifier, msg_start, len(result))\n"
     ]
    },
    {
     "name": "stdout",
     "output_type": "stream",
     "text": [
      "finished 81 from 198 commits\n",
      "finished 82 from 198 commits\n",
      "finished 83 from 198 commits\n",
      "finished 84 from 198 commits\n",
      "finished 85 from 198 commits\n",
      "finished 86 from 198 commits\n",
      "finished 87 from 198 commits\n",
      "finished 88 from 198 commits\n",
      "finished 89 from 198 commits\n",
      "finished 90 from 198 commits\n",
      "finished 91 from 198 commits\n",
      "finished 92 from 198 commits\n",
      "finished 93 from 198 commits\n",
      "finished 94 from 198 commits\n",
      "finished 95 from 198 commits\n",
      "finished 96 from 198 commits\n",
      "finished 97 from 198 commits\n",
      "finished 98 from 198 commits\n",
      "finished 99 from 198 commits\n",
      "finished 100 from 198 commits\n",
      "finished 101 from 198 commits\n",
      "finished 102 from 198 commits\n",
      "finished 103 from 198 commits\n",
      "finished 104 from 198 commits\n",
      "finished 105 from 198 commits\n",
      "finished 106 from 198 commits\n",
      "finished 107 from 198 commits\n",
      "finished 108 from 198 commits\n",
      "finished 109 from 198 commits\n",
      "finished 110 from 198 commits\n",
      "finished 111 from 198 commits\n",
      "finished 112 from 198 commits\n",
      "finished 113 from 198 commits\n",
      "finished 114 from 198 commits\n",
      "finished 115 from 198 commits\n",
      "finished 116 from 198 commits\n",
      "finished 117 from 198 commits\n",
      "finished 118 from 198 commits\n",
      "finished 119 from 198 commits\n",
      "finished 120 from 198 commits\n",
      "finished 121 from 198 commits\n",
      "finished 122 from 198 commits\n",
      "finished 123 from 198 commits\n",
      "finished 124 from 198 commits\n",
      "finished 125 from 198 commits\n",
      "finished 126 from 198 commits\n",
      "finished 127 from 198 commits\n",
      "finished 128 from 198 commits\n",
      "finished 129 from 198 commits\n",
      "finished 130 from 198 commits\n",
      "finished 131 from 198 commits\n"
     ]
    },
    {
     "name": "stderr",
     "output_type": "stream",
     "text": [
      "/home/oathaha/.conda/envs/env_oat/lib/python3.9/site-packages/sklearn/metrics/_classification.py:1245: UndefinedMetricWarning: Precision is ill-defined and being set to 0.0 due to no predicted samples. Use `zero_division` parameter to control this behavior.\n",
      "  _warn_prf(average, modifier, msg_start, len(result))\n"
     ]
    },
    {
     "name": "stdout",
     "output_type": "stream",
     "text": [
      "finished 132 from 198 commits\n",
      "finished 133 from 198 commits\n"
     ]
    },
    {
     "name": "stderr",
     "output_type": "stream",
     "text": [
      "/home/oathaha/.conda/envs/env_oat/lib/python3.9/site-packages/sklearn/metrics/_classification.py:1245: UndefinedMetricWarning: Precision is ill-defined and being set to 0.0 due to no predicted samples. Use `zero_division` parameter to control this behavior.\n",
      "  _warn_prf(average, modifier, msg_start, len(result))\n"
     ]
    },
    {
     "name": "stdout",
     "output_type": "stream",
     "text": [
      "finished 134 from 198 commits\n",
      "finished 135 from 198 commits\n",
      "finished 136 from 198 commits\n",
      "finished 137 from 198 commits\n"
     ]
    },
    {
     "name": "stderr",
     "output_type": "stream",
     "text": [
      "/home/oathaha/.conda/envs/env_oat/lib/python3.9/site-packages/sklearn/metrics/_classification.py:1245: UndefinedMetricWarning: Precision is ill-defined and being set to 0.0 due to no predicted samples. Use `zero_division` parameter to control this behavior.\n",
      "  _warn_prf(average, modifier, msg_start, len(result))\n"
     ]
    },
    {
     "name": "stdout",
     "output_type": "stream",
     "text": [
      "finished 138 from 198 commits\n"
     ]
    },
    {
     "name": "stderr",
     "output_type": "stream",
     "text": [
      "/home/oathaha/.conda/envs/env_oat/lib/python3.9/site-packages/sklearn/metrics/_classification.py:1245: UndefinedMetricWarning: Precision is ill-defined and being set to 0.0 due to no predicted samples. Use `zero_division` parameter to control this behavior.\n",
      "  _warn_prf(average, modifier, msg_start, len(result))\n"
     ]
    },
    {
     "name": "stdout",
     "output_type": "stream",
     "text": [
      "finished 139 from 198 commits\n",
      "finished 140 from 198 commits\n",
      "finished 141 from 198 commits\n",
      "finished 142 from 198 commits\n",
      "finished 143 from 198 commits\n",
      "finished 144 from 198 commits\n",
      "finished 145 from 198 commits\n",
      "finished 146 from 198 commits\n",
      "finished 147 from 198 commits\n",
      "finished 148 from 198 commits\n",
      "finished 149 from 198 commits\n"
     ]
    },
    {
     "name": "stderr",
     "output_type": "stream",
     "text": [
      "/home/oathaha/.conda/envs/env_oat/lib/python3.9/site-packages/sklearn/metrics/_classification.py:1245: UndefinedMetricWarning: Precision is ill-defined and being set to 0.0 due to no predicted samples. Use `zero_division` parameter to control this behavior.\n",
      "  _warn_prf(average, modifier, msg_start, len(result))\n"
     ]
    },
    {
     "name": "stdout",
     "output_type": "stream",
     "text": [
      "finished 150 from 198 commits\n",
      "finished 151 from 198 commits\n",
      "finished 152 from 198 commits\n",
      "finished 153 from 198 commits\n",
      "finished 154 from 198 commits\n",
      "finished 155 from 198 commits\n",
      "finished 156 from 198 commits\n",
      "finished 157 from 198 commits\n",
      "finished 158 from 198 commits\n",
      "finished 159 from 198 commits\n"
     ]
    },
    {
     "name": "stderr",
     "output_type": "stream",
     "text": [
      "/home/oathaha/.conda/envs/env_oat/lib/python3.9/site-packages/sklearn/metrics/_classification.py:1245: UndefinedMetricWarning: Precision is ill-defined and being set to 0.0 due to no predicted samples. Use `zero_division` parameter to control this behavior.\n",
      "  _warn_prf(average, modifier, msg_start, len(result))\n"
     ]
    },
    {
     "name": "stdout",
     "output_type": "stream",
     "text": [
      "finished 160 from 198 commits\n",
      "finished 161 from 198 commits\n"
     ]
    },
    {
     "name": "stderr",
     "output_type": "stream",
     "text": [
      "/home/oathaha/.conda/envs/env_oat/lib/python3.9/site-packages/sklearn/metrics/_classification.py:1245: UndefinedMetricWarning: Precision is ill-defined and being set to 0.0 due to no predicted samples. Use `zero_division` parameter to control this behavior.\n",
      "  _warn_prf(average, modifier, msg_start, len(result))\n"
     ]
    },
    {
     "name": "stdout",
     "output_type": "stream",
     "text": [
      "finished 162 from 198 commits\n",
      "finished 163 from 198 commits\n",
      "finished 164 from 198 commits\n",
      "finished 165 from 198 commits\n",
      "finished 166 from 198 commits\n",
      "finished 167 from 198 commits\n",
      "finished 168 from 198 commits\n",
      "finished 169 from 198 commits\n",
      "finished 170 from 198 commits\n",
      "finished 171 from 198 commits\n",
      "finished 172 from 198 commits\n",
      "finished 173 from 198 commits\n",
      "finished 174 from 198 commits\n",
      "finished 175 from 198 commits\n",
      "finished 176 from 198 commits\n",
      "finished 177 from 198 commits\n",
      "finished 178 from 198 commits\n",
      "finished 179 from 198 commits\n",
      "finished 180 from 198 commits\n",
      "finished 181 from 198 commits\n",
      "finished 182 from 198 commits\n",
      "finished 183 from 198 commits\n",
      "finished 184 from 198 commits\n"
     ]
    },
    {
     "name": "stderr",
     "output_type": "stream",
     "text": [
      "/home/oathaha/.conda/envs/env_oat/lib/python3.9/site-packages/sklearn/metrics/_classification.py:1245: UndefinedMetricWarning: Precision is ill-defined and being set to 0.0 due to no predicted samples. Use `zero_division` parameter to control this behavior.\n",
      "  _warn_prf(average, modifier, msg_start, len(result))\n"
     ]
    },
    {
     "name": "stdout",
     "output_type": "stream",
     "text": [
      "finished 185 from 198 commits\n",
      "finished 186 from 198 commits\n",
      "finished 187 from 198 commits\n",
      "finished 188 from 198 commits\n",
      "finished 189 from 198 commits\n",
      "finished 190 from 198 commits\n",
      "finished 191 from 198 commits\n",
      "finished 192 from 198 commits\n",
      "finished 193 from 198 commits\n"
     ]
    },
    {
     "name": "stderr",
     "output_type": "stream",
     "text": [
      "/home/oathaha/.conda/envs/env_oat/lib/python3.9/site-packages/sklearn/metrics/_classification.py:1245: UndefinedMetricWarning: Precision is ill-defined and being set to 0.0 due to no predicted samples. Use `zero_division` parameter to control this behavior.\n",
      "  _warn_prf(average, modifier, msg_start, len(result))\n"
     ]
    },
    {
     "name": "stdout",
     "output_type": "stream",
     "text": [
      "finished 194 from 198 commits\n",
      "finished 195 from 198 commits\n",
      "finished 196 from 198 commits\n",
      "finished 197 from 198 commits\n",
      "finished 198 from 198 commits\n",
      "finished RQ3 of openstack\n",
      "finished in 237.42624068260193 secs\n",
      "qt\n",
      "finished 1 from 79 commits\n",
      "finished 2 from 79 commits\n",
      "finished 3 from 79 commits\n",
      "finished 4 from 79 commits\n",
      "finished 5 from 79 commits\n",
      "finished 6 from 79 commits\n",
      "finished 7 from 79 commits\n",
      "finished 8 from 79 commits\n",
      "finished 9 from 79 commits\n",
      "finished 10 from 79 commits\n",
      "finished 11 from 79 commits\n",
      "finished 12 from 79 commits\n",
      "finished 13 from 79 commits\n",
      "finished 14 from 79 commits\n",
      "finished 15 from 79 commits\n",
      "finished 16 from 79 commits\n",
      "finished 17 from 79 commits\n"
     ]
    },
    {
     "name": "stderr",
     "output_type": "stream",
     "text": [
      "/home/oathaha/.conda/envs/env_oat/lib/python3.9/site-packages/sklearn/metrics/_classification.py:1245: UndefinedMetricWarning: Precision is ill-defined and being set to 0.0 due to no predicted samples. Use `zero_division` parameter to control this behavior.\n",
      "  _warn_prf(average, modifier, msg_start, len(result))\n"
     ]
    },
    {
     "name": "stdout",
     "output_type": "stream",
     "text": [
      "finished 18 from 79 commits\n",
      "finished 19 from 79 commits\n",
      "finished 20 from 79 commits\n",
      "finished 21 from 79 commits\n",
      "finished 22 from 79 commits\n",
      "finished 23 from 79 commits\n",
      "finished 24 from 79 commits\n",
      "finished 25 from 79 commits\n"
     ]
    },
    {
     "name": "stderr",
     "output_type": "stream",
     "text": [
      "/home/oathaha/.conda/envs/env_oat/lib/python3.9/site-packages/sklearn/metrics/_classification.py:1245: UndefinedMetricWarning: Precision is ill-defined and being set to 0.0 due to no predicted samples. Use `zero_division` parameter to control this behavior.\n",
      "  _warn_prf(average, modifier, msg_start, len(result))\n"
     ]
    },
    {
     "name": "stdout",
     "output_type": "stream",
     "text": [
      "finished 26 from 79 commits\n",
      "finished 27 from 79 commits\n",
      "finished 28 from 79 commits\n",
      "finished 29 from 79 commits\n",
      "finished 30 from 79 commits\n",
      "finished 31 from 79 commits\n",
      "finished 32 from 79 commits\n",
      "finished 33 from 79 commits\n"
     ]
    },
    {
     "name": "stderr",
     "output_type": "stream",
     "text": [
      "/home/oathaha/.conda/envs/env_oat/lib/python3.9/site-packages/sklearn/metrics/_classification.py:1245: UndefinedMetricWarning: Precision is ill-defined and being set to 0.0 due to no predicted samples. Use `zero_division` parameter to control this behavior.\n",
      "  _warn_prf(average, modifier, msg_start, len(result))\n"
     ]
    },
    {
     "name": "stdout",
     "output_type": "stream",
     "text": [
      "finished 34 from 79 commits\n",
      "finished 35 from 79 commits\n",
      "finished 36 from 79 commits\n",
      "finished 37 from 79 commits\n",
      "finished 38 from 79 commits\n",
      "finished 39 from 79 commits\n",
      "finished 40 from 79 commits\n",
      "finished 41 from 79 commits\n",
      "finished 42 from 79 commits\n",
      "finished 43 from 79 commits\n",
      "finished 44 from 79 commits\n",
      "finished 45 from 79 commits\n",
      "finished 46 from 79 commits\n",
      "finished 47 from 79 commits\n",
      "finished 48 from 79 commits\n",
      "finished 49 from 79 commits\n",
      "finished 50 from 79 commits\n",
      "finished 51 from 79 commits\n",
      "finished 52 from 79 commits\n",
      "finished 53 from 79 commits\n",
      "finished 54 from 79 commits\n",
      "finished 55 from 79 commits\n",
      "finished 56 from 79 commits\n",
      "finished 57 from 79 commits\n",
      "finished 58 from 79 commits\n",
      "finished 59 from 79 commits\n",
      "finished 60 from 79 commits\n",
      "finished 61 from 79 commits\n",
      "finished 62 from 79 commits\n",
      "finished 63 from 79 commits\n"
     ]
    },
    {
     "name": "stderr",
     "output_type": "stream",
     "text": [
      "/home/oathaha/.conda/envs/env_oat/lib/python3.9/site-packages/sklearn/metrics/_classification.py:1245: UndefinedMetricWarning: Precision is ill-defined and being set to 0.0 due to no predicted samples. Use `zero_division` parameter to control this behavior.\n",
      "  _warn_prf(average, modifier, msg_start, len(result))\n"
     ]
    },
    {
     "name": "stdout",
     "output_type": "stream",
     "text": [
      "finished 64 from 79 commits\n",
      "finished 65 from 79 commits\n",
      "finished 66 from 79 commits\n",
      "finished 67 from 79 commits\n",
      "finished 68 from 79 commits\n",
      "finished 69 from 79 commits\n",
      "finished 70 from 79 commits\n",
      "finished 71 from 79 commits\n",
      "finished 72 from 79 commits\n",
      "finished 73 from 79 commits\n",
      "finished 74 from 79 commits\n",
      "finished 75 from 79 commits\n",
      "finished 76 from 79 commits\n",
      "finished 77 from 79 commits\n",
      "finished 78 from 79 commits\n",
      "finished 79 from 79 commits\n",
      "finished RQ3 of qt\n",
      "finished in 138.81903743743896 secs\n"
     ]
    }
   ],
   "source": [
    "start = time.time()\n",
    "print('openstack')\n",
    "rq3_eval('openstack','RF')\n",
    "end = time.time()\n",
    "print('finished in',str(end-start), 'secs')\n",
    "\n",
    "start = time.time()\n",
    "print('qt')\n",
    "rq3_eval('qt','RF')\n",
    "end = time.time()\n",
    "print('finished in',str(end-start), 'secs')"
   ]
  },
  {
   "cell_type": "code",
   "execution_count": 42,
   "metadata": {},
   "outputs": [
    {
     "name": "stdout",
     "output_type": "stream",
     "text": [
      "openstack\n"
     ]
    },
    {
     "name": "stderr",
     "output_type": "stream",
     "text": [
      "/home/oathaha/.conda/envs/env_oat/lib/python3.9/site-packages/sklearn/metrics/_classification.py:1245: UndefinedMetricWarning: Precision is ill-defined and being set to 0.0 due to no predicted samples. Use `zero_division` parameter to control this behavior.\n",
      "  _warn_prf(average, modifier, msg_start, len(result))\n"
     ]
    },
    {
     "name": "stdout",
     "output_type": "stream",
     "text": [
      "finished 1 from 376 commits\n"
     ]
    },
    {
     "name": "stderr",
     "output_type": "stream",
     "text": [
      "/home/oathaha/.conda/envs/env_oat/lib/python3.9/site-packages/sklearn/metrics/_classification.py:1245: UndefinedMetricWarning: Precision is ill-defined and being set to 0.0 due to no predicted samples. Use `zero_division` parameter to control this behavior.\n",
      "  _warn_prf(average, modifier, msg_start, len(result))\n"
     ]
    },
    {
     "name": "stdout",
     "output_type": "stream",
     "text": [
      "finished 2 from 376 commits\n",
      "finished 3 from 376 commits\n",
      "finished 4 from 376 commits\n",
      "finished 5 from 376 commits\n",
      "finished 6 from 376 commits\n"
     ]
    },
    {
     "name": "stderr",
     "output_type": "stream",
     "text": [
      "/home/oathaha/.conda/envs/env_oat/lib/python3.9/site-packages/sklearn/metrics/_classification.py:1245: UndefinedMetricWarning: Precision is ill-defined and being set to 0.0 due to no predicted samples. Use `zero_division` parameter to control this behavior.\n",
      "  _warn_prf(average, modifier, msg_start, len(result))\n"
     ]
    },
    {
     "name": "stdout",
     "output_type": "stream",
     "text": [
      "finished 7 from 376 commits\n",
      "finished 8 from 376 commits\n",
      "finished 9 from 376 commits\n",
      "finished 10 from 376 commits\n",
      "finished 11 from 376 commits\n",
      "finished 12 from 376 commits\n",
      "finished 13 from 376 commits\n",
      "finished 14 from 376 commits\n",
      "finished 15 from 376 commits\n",
      "finished 16 from 376 commits\n",
      "finished 17 from 376 commits\n",
      "finished 18 from 376 commits\n",
      "finished 19 from 376 commits\n",
      "finished 20 from 376 commits\n"
     ]
    },
    {
     "name": "stderr",
     "output_type": "stream",
     "text": [
      "/home/oathaha/.conda/envs/env_oat/lib/python3.9/site-packages/sklearn/metrics/_classification.py:1245: UndefinedMetricWarning: Precision is ill-defined and being set to 0.0 due to no predicted samples. Use `zero_division` parameter to control this behavior.\n",
      "  _warn_prf(average, modifier, msg_start, len(result))\n"
     ]
    },
    {
     "name": "stdout",
     "output_type": "stream",
     "text": [
      "finished 21 from 376 commits\n",
      "finished 22 from 376 commits\n",
      "finished 23 from 376 commits\n",
      "finished 24 from 376 commits\n"
     ]
    },
    {
     "name": "stderr",
     "output_type": "stream",
     "text": [
      "/home/oathaha/.conda/envs/env_oat/lib/python3.9/site-packages/sklearn/metrics/_classification.py:1245: UndefinedMetricWarning: Precision is ill-defined and being set to 0.0 due to no predicted samples. Use `zero_division` parameter to control this behavior.\n",
      "  _warn_prf(average, modifier, msg_start, len(result))\n"
     ]
    },
    {
     "name": "stdout",
     "output_type": "stream",
     "text": [
      "finished 25 from 376 commits\n"
     ]
    },
    {
     "name": "stderr",
     "output_type": "stream",
     "text": [
      "/home/oathaha/.conda/envs/env_oat/lib/python3.9/site-packages/sklearn/metrics/_classification.py:1245: UndefinedMetricWarning: Precision is ill-defined and being set to 0.0 due to no predicted samples. Use `zero_division` parameter to control this behavior.\n",
      "  _warn_prf(average, modifier, msg_start, len(result))\n"
     ]
    },
    {
     "name": "stdout",
     "output_type": "stream",
     "text": [
      "finished 26 from 376 commits\n",
      "finished 27 from 376 commits\n",
      "finished 28 from 376 commits\n",
      "finished 29 from 376 commits\n"
     ]
    },
    {
     "name": "stderr",
     "output_type": "stream",
     "text": [
      "/home/oathaha/.conda/envs/env_oat/lib/python3.9/site-packages/sklearn/metrics/_classification.py:1245: UndefinedMetricWarning: Precision is ill-defined and being set to 0.0 due to no predicted samples. Use `zero_division` parameter to control this behavior.\n",
      "  _warn_prf(average, modifier, msg_start, len(result))\n"
     ]
    },
    {
     "name": "stdout",
     "output_type": "stream",
     "text": [
      "finished 30 from 376 commits\n"
     ]
    },
    {
     "name": "stderr",
     "output_type": "stream",
     "text": [
      "/home/oathaha/.conda/envs/env_oat/lib/python3.9/site-packages/sklearn/metrics/_classification.py:1245: UndefinedMetricWarning: Precision is ill-defined and being set to 0.0 due to no predicted samples. Use `zero_division` parameter to control this behavior.\n",
      "  _warn_prf(average, modifier, msg_start, len(result))\n"
     ]
    },
    {
     "name": "stdout",
     "output_type": "stream",
     "text": [
      "finished 31 from 376 commits\n",
      "finished 32 from 376 commits\n",
      "finished 33 from 376 commits\n"
     ]
    },
    {
     "name": "stderr",
     "output_type": "stream",
     "text": [
      "/home/oathaha/.conda/envs/env_oat/lib/python3.9/site-packages/sklearn/metrics/_classification.py:1245: UndefinedMetricWarning: Precision is ill-defined and being set to 0.0 due to no predicted samples. Use `zero_division` parameter to control this behavior.\n",
      "  _warn_prf(average, modifier, msg_start, len(result))\n"
     ]
    },
    {
     "name": "stdout",
     "output_type": "stream",
     "text": [
      "finished 34 from 376 commits\n",
      "finished 35 from 376 commits\n",
      "finished 36 from 376 commits\n",
      "finished 37 from 376 commits\n",
      "finished 38 from 376 commits\n",
      "finished 39 from 376 commits\n",
      "finished 40 from 376 commits\n",
      "finished 41 from 376 commits\n"
     ]
    },
    {
     "name": "stderr",
     "output_type": "stream",
     "text": [
      "/home/oathaha/.conda/envs/env_oat/lib/python3.9/site-packages/sklearn/metrics/_classification.py:1245: UndefinedMetricWarning: Precision is ill-defined and being set to 0.0 due to no predicted samples. Use `zero_division` parameter to control this behavior.\n",
      "  _warn_prf(average, modifier, msg_start, len(result))\n"
     ]
    },
    {
     "name": "stdout",
     "output_type": "stream",
     "text": [
      "finished 42 from 376 commits\n",
      "finished 43 from 376 commits\n",
      "finished 44 from 376 commits\n",
      "finished 45 from 376 commits\n",
      "finished 46 from 376 commits\n"
     ]
    },
    {
     "name": "stderr",
     "output_type": "stream",
     "text": [
      "/home/oathaha/.conda/envs/env_oat/lib/python3.9/site-packages/sklearn/metrics/_classification.py:1245: UndefinedMetricWarning: Precision is ill-defined and being set to 0.0 due to no predicted samples. Use `zero_division` parameter to control this behavior.\n",
      "  _warn_prf(average, modifier, msg_start, len(result))\n"
     ]
    },
    {
     "name": "stdout",
     "output_type": "stream",
     "text": [
      "finished 47 from 376 commits\n",
      "finished 48 from 376 commits\n",
      "finished 49 from 376 commits\n",
      "finished 50 from 376 commits\n",
      "finished 51 from 376 commits\n"
     ]
    },
    {
     "name": "stderr",
     "output_type": "stream",
     "text": [
      "/home/oathaha/.conda/envs/env_oat/lib/python3.9/site-packages/sklearn/metrics/_classification.py:1245: UndefinedMetricWarning: Precision is ill-defined and being set to 0.0 due to no predicted samples. Use `zero_division` parameter to control this behavior.\n",
      "  _warn_prf(average, modifier, msg_start, len(result))\n"
     ]
    },
    {
     "name": "stdout",
     "output_type": "stream",
     "text": [
      "finished 52 from 376 commits\n",
      "finished 53 from 376 commits\n",
      "finished 54 from 376 commits\n"
     ]
    },
    {
     "name": "stderr",
     "output_type": "stream",
     "text": [
      "/home/oathaha/.conda/envs/env_oat/lib/python3.9/site-packages/sklearn/metrics/_classification.py:1245: UndefinedMetricWarning: Precision is ill-defined and being set to 0.0 due to no predicted samples. Use `zero_division` parameter to control this behavior.\n",
      "  _warn_prf(average, modifier, msg_start, len(result))\n"
     ]
    },
    {
     "name": "stdout",
     "output_type": "stream",
     "text": [
      "finished 55 from 376 commits\n",
      "finished 56 from 376 commits\n",
      "finished 57 from 376 commits\n",
      "finished 58 from 376 commits\n",
      "finished 59 from 376 commits\n",
      "finished 60 from 376 commits\n",
      "finished 61 from 376 commits\n",
      "finished 62 from 376 commits\n",
      "finished 63 from 376 commits\n",
      "finished 64 from 376 commits\n",
      "finished 65 from 376 commits\n"
     ]
    },
    {
     "name": "stderr",
     "output_type": "stream",
     "text": [
      "/home/oathaha/.conda/envs/env_oat/lib/python3.9/site-packages/sklearn/metrics/_classification.py:1245: UndefinedMetricWarning: Precision is ill-defined and being set to 0.0 due to no predicted samples. Use `zero_division` parameter to control this behavior.\n",
      "  _warn_prf(average, modifier, msg_start, len(result))\n"
     ]
    },
    {
     "name": "stdout",
     "output_type": "stream",
     "text": [
      "finished 66 from 376 commits\n",
      "finished 67 from 376 commits\n",
      "finished 68 from 376 commits\n",
      "finished 69 from 376 commits\n",
      "finished 70 from 376 commits\n",
      "finished 71 from 376 commits\n",
      "finished 72 from 376 commits\n",
      "finished 73 from 376 commits\n"
     ]
    },
    {
     "name": "stderr",
     "output_type": "stream",
     "text": [
      "/home/oathaha/.conda/envs/env_oat/lib/python3.9/site-packages/sklearn/metrics/_classification.py:1245: UndefinedMetricWarning: Precision is ill-defined and being set to 0.0 due to no predicted samples. Use `zero_division` parameter to control this behavior.\n",
      "  _warn_prf(average, modifier, msg_start, len(result))\n"
     ]
    },
    {
     "name": "stdout",
     "output_type": "stream",
     "text": [
      "finished 74 from 376 commits\n"
     ]
    },
    {
     "name": "stderr",
     "output_type": "stream",
     "text": [
      "/home/oathaha/.conda/envs/env_oat/lib/python3.9/site-packages/sklearn/metrics/_classification.py:1245: UndefinedMetricWarning: Precision is ill-defined and being set to 0.0 due to no predicted samples. Use `zero_division` parameter to control this behavior.\n",
      "  _warn_prf(average, modifier, msg_start, len(result))\n"
     ]
    },
    {
     "name": "stdout",
     "output_type": "stream",
     "text": [
      "finished 75 from 376 commits\n",
      "finished 76 from 376 commits\n",
      "finished 77 from 376 commits\n",
      "finished 78 from 376 commits\n"
     ]
    },
    {
     "name": "stderr",
     "output_type": "stream",
     "text": [
      "/home/oathaha/.conda/envs/env_oat/lib/python3.9/site-packages/sklearn/metrics/_classification.py:1245: UndefinedMetricWarning: Precision is ill-defined and being set to 0.0 due to no predicted samples. Use `zero_division` parameter to control this behavior.\n",
      "  _warn_prf(average, modifier, msg_start, len(result))\n"
     ]
    },
    {
     "name": "stdout",
     "output_type": "stream",
     "text": [
      "finished 79 from 376 commits\n",
      "finished 80 from 376 commits\n",
      "finished 81 from 376 commits\n",
      "finished 82 from 376 commits\n"
     ]
    },
    {
     "name": "stderr",
     "output_type": "stream",
     "text": [
      "/home/oathaha/.conda/envs/env_oat/lib/python3.9/site-packages/sklearn/metrics/_classification.py:1245: UndefinedMetricWarning: Precision is ill-defined and being set to 0.0 due to no predicted samples. Use `zero_division` parameter to control this behavior.\n",
      "  _warn_prf(average, modifier, msg_start, len(result))\n"
     ]
    },
    {
     "name": "stdout",
     "output_type": "stream",
     "text": [
      "finished 83 from 376 commits\n",
      "finished 84 from 376 commits\n",
      "finished 85 from 376 commits\n",
      "finished 86 from 376 commits\n",
      "finished 87 from 376 commits\n",
      "finished 88 from 376 commits\n",
      "finished 89 from 376 commits\n"
     ]
    },
    {
     "name": "stderr",
     "output_type": "stream",
     "text": [
      "/home/oathaha/.conda/envs/env_oat/lib/python3.9/site-packages/sklearn/metrics/_classification.py:1245: UndefinedMetricWarning: Precision is ill-defined and being set to 0.0 due to no predicted samples. Use `zero_division` parameter to control this behavior.\n",
      "  _warn_prf(average, modifier, msg_start, len(result))\n"
     ]
    },
    {
     "name": "stdout",
     "output_type": "stream",
     "text": [
      "finished 90 from 376 commits\n",
      "finished 91 from 376 commits\n",
      "finished 92 from 376 commits\n"
     ]
    },
    {
     "name": "stderr",
     "output_type": "stream",
     "text": [
      "/home/oathaha/.conda/envs/env_oat/lib/python3.9/site-packages/sklearn/metrics/_classification.py:1245: UndefinedMetricWarning: Precision is ill-defined and being set to 0.0 due to no predicted samples. Use `zero_division` parameter to control this behavior.\n",
      "  _warn_prf(average, modifier, msg_start, len(result))\n"
     ]
    },
    {
     "name": "stdout",
     "output_type": "stream",
     "text": [
      "finished 93 from 376 commits\n",
      "finished 94 from 376 commits\n",
      "finished 95 from 376 commits\n",
      "finished 96 from 376 commits\n",
      "finished 97 from 376 commits\n"
     ]
    },
    {
     "name": "stderr",
     "output_type": "stream",
     "text": [
      "/home/oathaha/.conda/envs/env_oat/lib/python3.9/site-packages/sklearn/metrics/_classification.py:1245: UndefinedMetricWarning: Precision is ill-defined and being set to 0.0 due to no predicted samples. Use `zero_division` parameter to control this behavior.\n",
      "  _warn_prf(average, modifier, msg_start, len(result))\n"
     ]
    },
    {
     "name": "stdout",
     "output_type": "stream",
     "text": [
      "finished 98 from 376 commits\n",
      "finished 99 from 376 commits\n",
      "finished 100 from 376 commits\n",
      "finished 101 from 376 commits\n"
     ]
    },
    {
     "name": "stderr",
     "output_type": "stream",
     "text": [
      "/home/oathaha/.conda/envs/env_oat/lib/python3.9/site-packages/sklearn/metrics/_classification.py:1245: UndefinedMetricWarning: Precision is ill-defined and being set to 0.0 due to no predicted samples. Use `zero_division` parameter to control this behavior.\n",
      "  _warn_prf(average, modifier, msg_start, len(result))\n"
     ]
    },
    {
     "name": "stdout",
     "output_type": "stream",
     "text": [
      "finished 102 from 376 commits\n",
      "finished 103 from 376 commits\n",
      "finished 104 from 376 commits\n",
      "finished 105 from 376 commits\n",
      "finished 106 from 376 commits\n",
      "finished 107 from 376 commits\n",
      "finished 108 from 376 commits\n",
      "finished 109 from 376 commits\n",
      "finished 110 from 376 commits\n"
     ]
    },
    {
     "name": "stderr",
     "output_type": "stream",
     "text": [
      "/home/oathaha/.conda/envs/env_oat/lib/python3.9/site-packages/sklearn/metrics/_classification.py:1245: UndefinedMetricWarning: Precision is ill-defined and being set to 0.0 due to no predicted samples. Use `zero_division` parameter to control this behavior.\n",
      "  _warn_prf(average, modifier, msg_start, len(result))\n"
     ]
    },
    {
     "name": "stdout",
     "output_type": "stream",
     "text": [
      "finished 111 from 376 commits\n",
      "finished 112 from 376 commits\n",
      "finished 113 from 376 commits\n"
     ]
    },
    {
     "name": "stderr",
     "output_type": "stream",
     "text": [
      "/home/oathaha/.conda/envs/env_oat/lib/python3.9/site-packages/sklearn/metrics/_classification.py:1245: UndefinedMetricWarning: Precision is ill-defined and being set to 0.0 due to no predicted samples. Use `zero_division` parameter to control this behavior.\n",
      "  _warn_prf(average, modifier, msg_start, len(result))\n"
     ]
    },
    {
     "name": "stdout",
     "output_type": "stream",
     "text": [
      "finished 114 from 376 commits\n",
      "finished 115 from 376 commits\n",
      "finished 116 from 376 commits\n"
     ]
    },
    {
     "name": "stderr",
     "output_type": "stream",
     "text": [
      "/home/oathaha/.conda/envs/env_oat/lib/python3.9/site-packages/sklearn/metrics/_classification.py:1245: UndefinedMetricWarning: Precision is ill-defined and being set to 0.0 due to no predicted samples. Use `zero_division` parameter to control this behavior.\n",
      "  _warn_prf(average, modifier, msg_start, len(result))\n"
     ]
    },
    {
     "name": "stdout",
     "output_type": "stream",
     "text": [
      "finished 117 from 376 commits\n"
     ]
    },
    {
     "name": "stderr",
     "output_type": "stream",
     "text": [
      "/home/oathaha/.conda/envs/env_oat/lib/python3.9/site-packages/sklearn/metrics/_classification.py:1245: UndefinedMetricWarning: Precision is ill-defined and being set to 0.0 due to no predicted samples. Use `zero_division` parameter to control this behavior.\n",
      "  _warn_prf(average, modifier, msg_start, len(result))\n"
     ]
    },
    {
     "name": "stdout",
     "output_type": "stream",
     "text": [
      "finished 118 from 376 commits\n",
      "finished 119 from 376 commits\n",
      "finished 120 from 376 commits\n"
     ]
    },
    {
     "name": "stderr",
     "output_type": "stream",
     "text": [
      "/home/oathaha/.conda/envs/env_oat/lib/python3.9/site-packages/sklearn/metrics/_classification.py:1245: UndefinedMetricWarning: Precision is ill-defined and being set to 0.0 due to no predicted samples. Use `zero_division` parameter to control this behavior.\n",
      "  _warn_prf(average, modifier, msg_start, len(result))\n"
     ]
    },
    {
     "name": "stdout",
     "output_type": "stream",
     "text": [
      "finished 121 from 376 commits\n",
      "finished 122 from 376 commits\n",
      "finished 123 from 376 commits\n",
      "finished 124 from 376 commits\n",
      "finished 125 from 376 commits\n"
     ]
    },
    {
     "name": "stderr",
     "output_type": "stream",
     "text": [
      "/home/oathaha/.conda/envs/env_oat/lib/python3.9/site-packages/sklearn/metrics/_classification.py:1245: UndefinedMetricWarning: Precision is ill-defined and being set to 0.0 due to no predicted samples. Use `zero_division` parameter to control this behavior.\n",
      "  _warn_prf(average, modifier, msg_start, len(result))\n"
     ]
    },
    {
     "name": "stdout",
     "output_type": "stream",
     "text": [
      "finished 126 from 376 commits\n",
      "finished 127 from 376 commits\n",
      "finished 128 from 376 commits\n",
      "finished 129 from 376 commits\n",
      "finished 130 from 376 commits\n"
     ]
    },
    {
     "name": "stderr",
     "output_type": "stream",
     "text": [
      "/home/oathaha/.conda/envs/env_oat/lib/python3.9/site-packages/sklearn/metrics/_classification.py:1245: UndefinedMetricWarning: Precision is ill-defined and being set to 0.0 due to no predicted samples. Use `zero_division` parameter to control this behavior.\n",
      "  _warn_prf(average, modifier, msg_start, len(result))\n"
     ]
    },
    {
     "name": "stdout",
     "output_type": "stream",
     "text": [
      "finished 131 from 376 commits\n"
     ]
    },
    {
     "name": "stderr",
     "output_type": "stream",
     "text": [
      "/home/oathaha/.conda/envs/env_oat/lib/python3.9/site-packages/sklearn/metrics/_classification.py:1245: UndefinedMetricWarning: Precision is ill-defined and being set to 0.0 due to no predicted samples. Use `zero_division` parameter to control this behavior.\n",
      "  _warn_prf(average, modifier, msg_start, len(result))\n"
     ]
    },
    {
     "name": "stdout",
     "output_type": "stream",
     "text": [
      "finished 132 from 376 commits\n",
      "finished 133 from 376 commits\n",
      "finished 134 from 376 commits\n",
      "finished 135 from 376 commits\n",
      "finished 136 from 376 commits\n",
      "finished 137 from 376 commits\n",
      "finished 138 from 376 commits\n",
      "finished 139 from 376 commits\n",
      "finished 140 from 376 commits\n"
     ]
    },
    {
     "name": "stderr",
     "output_type": "stream",
     "text": [
      "/home/oathaha/.conda/envs/env_oat/lib/python3.9/site-packages/sklearn/metrics/_classification.py:1245: UndefinedMetricWarning: Precision is ill-defined and being set to 0.0 due to no predicted samples. Use `zero_division` parameter to control this behavior.\n",
      "  _warn_prf(average, modifier, msg_start, len(result))\n"
     ]
    },
    {
     "name": "stdout",
     "output_type": "stream",
     "text": [
      "finished 141 from 376 commits\n"
     ]
    },
    {
     "name": "stderr",
     "output_type": "stream",
     "text": [
      "/home/oathaha/.conda/envs/env_oat/lib/python3.9/site-packages/sklearn/metrics/_classification.py:1245: UndefinedMetricWarning: Precision is ill-defined and being set to 0.0 due to no predicted samples. Use `zero_division` parameter to control this behavior.\n",
      "  _warn_prf(average, modifier, msg_start, len(result))\n"
     ]
    },
    {
     "name": "stdout",
     "output_type": "stream",
     "text": [
      "finished 142 from 376 commits\n",
      "finished 143 from 376 commits\n"
     ]
    },
    {
     "name": "stderr",
     "output_type": "stream",
     "text": [
      "/home/oathaha/.conda/envs/env_oat/lib/python3.9/site-packages/sklearn/metrics/_classification.py:1245: UndefinedMetricWarning: Precision is ill-defined and being set to 0.0 due to no predicted samples. Use `zero_division` parameter to control this behavior.\n",
      "  _warn_prf(average, modifier, msg_start, len(result))\n"
     ]
    },
    {
     "name": "stdout",
     "output_type": "stream",
     "text": [
      "finished 144 from 376 commits\n",
      "finished 145 from 376 commits\n",
      "finished 146 from 376 commits\n",
      "finished 147 from 376 commits\n",
      "finished 148 from 376 commits\n",
      "finished 149 from 376 commits\n",
      "finished 150 from 376 commits\n",
      "finished 151 from 376 commits\n",
      "finished 152 from 376 commits\n"
     ]
    },
    {
     "name": "stderr",
     "output_type": "stream",
     "text": [
      "/home/oathaha/.conda/envs/env_oat/lib/python3.9/site-packages/sklearn/metrics/_classification.py:1245: UndefinedMetricWarning: Precision is ill-defined and being set to 0.0 due to no predicted samples. Use `zero_division` parameter to control this behavior.\n",
      "  _warn_prf(average, modifier, msg_start, len(result))\n"
     ]
    },
    {
     "name": "stdout",
     "output_type": "stream",
     "text": [
      "finished 153 from 376 commits\n"
     ]
    },
    {
     "name": "stderr",
     "output_type": "stream",
     "text": [
      "/home/oathaha/.conda/envs/env_oat/lib/python3.9/site-packages/sklearn/metrics/_classification.py:1245: UndefinedMetricWarning: Precision is ill-defined and being set to 0.0 due to no predicted samples. Use `zero_division` parameter to control this behavior.\n",
      "  _warn_prf(average, modifier, msg_start, len(result))\n"
     ]
    },
    {
     "name": "stdout",
     "output_type": "stream",
     "text": [
      "finished 154 from 376 commits\n",
      "finished 155 from 376 commits\n",
      "finished 156 from 376 commits\n",
      "finished 157 from 376 commits\n",
      "finished 158 from 376 commits\n",
      "finished 159 from 376 commits\n",
      "finished 160 from 376 commits\n",
      "finished 161 from 376 commits\n"
     ]
    },
    {
     "name": "stderr",
     "output_type": "stream",
     "text": [
      "/home/oathaha/.conda/envs/env_oat/lib/python3.9/site-packages/sklearn/metrics/_classification.py:1245: UndefinedMetricWarning: Precision is ill-defined and being set to 0.0 due to no predicted samples. Use `zero_division` parameter to control this behavior.\n",
      "  _warn_prf(average, modifier, msg_start, len(result))\n"
     ]
    },
    {
     "name": "stdout",
     "output_type": "stream",
     "text": [
      "finished 162 from 376 commits\n",
      "finished 163 from 376 commits\n",
      "finished 164 from 376 commits\n",
      "finished 165 from 376 commits\n",
      "finished 166 from 376 commits\n"
     ]
    },
    {
     "name": "stderr",
     "output_type": "stream",
     "text": [
      "/home/oathaha/.conda/envs/env_oat/lib/python3.9/site-packages/sklearn/metrics/_classification.py:1245: UndefinedMetricWarning: Precision is ill-defined and being set to 0.0 due to no predicted samples. Use `zero_division` parameter to control this behavior.\n",
      "  _warn_prf(average, modifier, msg_start, len(result))\n"
     ]
    },
    {
     "name": "stdout",
     "output_type": "stream",
     "text": [
      "finished 167 from 376 commits\n",
      "finished 168 from 376 commits\n",
      "finished 169 from 376 commits\n",
      "finished 170 from 376 commits\n",
      "finished 171 from 376 commits\n",
      "finished 172 from 376 commits\n"
     ]
    },
    {
     "name": "stderr",
     "output_type": "stream",
     "text": [
      "/home/oathaha/.conda/envs/env_oat/lib/python3.9/site-packages/sklearn/metrics/_classification.py:1245: UndefinedMetricWarning: Precision is ill-defined and being set to 0.0 due to no predicted samples. Use `zero_division` parameter to control this behavior.\n",
      "  _warn_prf(average, modifier, msg_start, len(result))\n"
     ]
    },
    {
     "name": "stdout",
     "output_type": "stream",
     "text": [
      "finished 173 from 376 commits\n"
     ]
    },
    {
     "name": "stderr",
     "output_type": "stream",
     "text": [
      "/home/oathaha/.conda/envs/env_oat/lib/python3.9/site-packages/sklearn/metrics/_classification.py:1245: UndefinedMetricWarning: Precision is ill-defined and being set to 0.0 due to no predicted samples. Use `zero_division` parameter to control this behavior.\n",
      "  _warn_prf(average, modifier, msg_start, len(result))\n"
     ]
    },
    {
     "name": "stdout",
     "output_type": "stream",
     "text": [
      "finished 174 from 376 commits\n"
     ]
    },
    {
     "name": "stderr",
     "output_type": "stream",
     "text": [
      "/home/oathaha/.conda/envs/env_oat/lib/python3.9/site-packages/sklearn/metrics/_classification.py:1245: UndefinedMetricWarning: Precision is ill-defined and being set to 0.0 due to no predicted samples. Use `zero_division` parameter to control this behavior.\n",
      "  _warn_prf(average, modifier, msg_start, len(result))\n"
     ]
    },
    {
     "name": "stdout",
     "output_type": "stream",
     "text": [
      "finished 175 from 376 commits\n"
     ]
    },
    {
     "name": "stderr",
     "output_type": "stream",
     "text": [
      "/home/oathaha/.conda/envs/env_oat/lib/python3.9/site-packages/sklearn/metrics/_classification.py:1245: UndefinedMetricWarning: Precision is ill-defined and being set to 0.0 due to no predicted samples. Use `zero_division` parameter to control this behavior.\n",
      "  _warn_prf(average, modifier, msg_start, len(result))\n"
     ]
    },
    {
     "name": "stdout",
     "output_type": "stream",
     "text": [
      "finished 176 from 376 commits\n",
      "finished 177 from 376 commits\n",
      "finished 178 from 376 commits\n",
      "finished 179 from 376 commits\n",
      "finished 180 from 376 commits\n",
      "finished 181 from 376 commits\n"
     ]
    },
    {
     "name": "stderr",
     "output_type": "stream",
     "text": [
      "/home/oathaha/.conda/envs/env_oat/lib/python3.9/site-packages/sklearn/metrics/_classification.py:1245: UndefinedMetricWarning: Precision is ill-defined and being set to 0.0 due to no predicted samples. Use `zero_division` parameter to control this behavior.\n",
      "  _warn_prf(average, modifier, msg_start, len(result))\n"
     ]
    },
    {
     "name": "stdout",
     "output_type": "stream",
     "text": [
      "finished 182 from 376 commits\n",
      "finished 183 from 376 commits\n"
     ]
    },
    {
     "name": "stderr",
     "output_type": "stream",
     "text": [
      "/home/oathaha/.conda/envs/env_oat/lib/python3.9/site-packages/sklearn/metrics/_classification.py:1245: UndefinedMetricWarning: Precision is ill-defined and being set to 0.0 due to no predicted samples. Use `zero_division` parameter to control this behavior.\n",
      "  _warn_prf(average, modifier, msg_start, len(result))\n"
     ]
    },
    {
     "name": "stdout",
     "output_type": "stream",
     "text": [
      "finished 184 from 376 commits\n"
     ]
    },
    {
     "name": "stderr",
     "output_type": "stream",
     "text": [
      "/home/oathaha/.conda/envs/env_oat/lib/python3.9/site-packages/sklearn/metrics/_classification.py:1245: UndefinedMetricWarning: Precision is ill-defined and being set to 0.0 due to no predicted samples. Use `zero_division` parameter to control this behavior.\n",
      "  _warn_prf(average, modifier, msg_start, len(result))\n"
     ]
    },
    {
     "name": "stdout",
     "output_type": "stream",
     "text": [
      "finished 185 from 376 commits\n",
      "finished 186 from 376 commits\n"
     ]
    },
    {
     "name": "stderr",
     "output_type": "stream",
     "text": [
      "/home/oathaha/.conda/envs/env_oat/lib/python3.9/site-packages/sklearn/metrics/_classification.py:1245: UndefinedMetricWarning: Precision is ill-defined and being set to 0.0 due to no predicted samples. Use `zero_division` parameter to control this behavior.\n",
      "  _warn_prf(average, modifier, msg_start, len(result))\n"
     ]
    },
    {
     "name": "stdout",
     "output_type": "stream",
     "text": [
      "finished 187 from 376 commits\n",
      "finished 188 from 376 commits\n",
      "finished 189 from 376 commits\n",
      "finished 190 from 376 commits\n",
      "finished 191 from 376 commits\n",
      "finished 192 from 376 commits\n",
      "finished 193 from 376 commits\n",
      "finished 194 from 376 commits\n",
      "finished 195 from 376 commits\n",
      "finished 196 from 376 commits\n",
      "finished 197 from 376 commits\n"
     ]
    },
    {
     "name": "stderr",
     "output_type": "stream",
     "text": [
      "/home/oathaha/.conda/envs/env_oat/lib/python3.9/site-packages/sklearn/metrics/_classification.py:1245: UndefinedMetricWarning: Precision is ill-defined and being set to 0.0 due to no predicted samples. Use `zero_division` parameter to control this behavior.\n",
      "  _warn_prf(average, modifier, msg_start, len(result))\n"
     ]
    },
    {
     "name": "stdout",
     "output_type": "stream",
     "text": [
      "finished 198 from 376 commits\n",
      "finished 199 from 376 commits\n"
     ]
    },
    {
     "name": "stderr",
     "output_type": "stream",
     "text": [
      "/home/oathaha/.conda/envs/env_oat/lib/python3.9/site-packages/sklearn/metrics/_classification.py:1245: UndefinedMetricWarning: Precision is ill-defined and being set to 0.0 due to no predicted samples. Use `zero_division` parameter to control this behavior.\n",
      "  _warn_prf(average, modifier, msg_start, len(result))\n"
     ]
    },
    {
     "name": "stdout",
     "output_type": "stream",
     "text": [
      "finished 200 from 376 commits\n",
      "finished 201 from 376 commits\n",
      "finished 202 from 376 commits\n",
      "finished 203 from 376 commits\n",
      "finished 204 from 376 commits\n",
      "finished 205 from 376 commits\n"
     ]
    },
    {
     "name": "stderr",
     "output_type": "stream",
     "text": [
      "/home/oathaha/.conda/envs/env_oat/lib/python3.9/site-packages/sklearn/metrics/_classification.py:1245: UndefinedMetricWarning: Precision is ill-defined and being set to 0.0 due to no predicted samples. Use `zero_division` parameter to control this behavior.\n",
      "  _warn_prf(average, modifier, msg_start, len(result))\n"
     ]
    },
    {
     "name": "stdout",
     "output_type": "stream",
     "text": [
      "finished 206 from 376 commits\n",
      "finished 207 from 376 commits\n",
      "finished 208 from 376 commits\n"
     ]
    },
    {
     "name": "stderr",
     "output_type": "stream",
     "text": [
      "/home/oathaha/.conda/envs/env_oat/lib/python3.9/site-packages/sklearn/metrics/_classification.py:1245: UndefinedMetricWarning: Precision is ill-defined and being set to 0.0 due to no predicted samples. Use `zero_division` parameter to control this behavior.\n",
      "  _warn_prf(average, modifier, msg_start, len(result))\n"
     ]
    },
    {
     "name": "stdout",
     "output_type": "stream",
     "text": [
      "finished 209 from 376 commits\n"
     ]
    },
    {
     "name": "stderr",
     "output_type": "stream",
     "text": [
      "/home/oathaha/.conda/envs/env_oat/lib/python3.9/site-packages/sklearn/metrics/_classification.py:1245: UndefinedMetricWarning: Precision is ill-defined and being set to 0.0 due to no predicted samples. Use `zero_division` parameter to control this behavior.\n",
      "  _warn_prf(average, modifier, msg_start, len(result))\n"
     ]
    },
    {
     "name": "stdout",
     "output_type": "stream",
     "text": [
      "finished 210 from 376 commits\n",
      "finished 211 from 376 commits\n",
      "finished 212 from 376 commits\n",
      "finished 213 from 376 commits\n",
      "finished 214 from 376 commits\n",
      "finished 215 from 376 commits\n",
      "finished 216 from 376 commits\n",
      "finished 217 from 376 commits\n",
      "finished 218 from 376 commits\n",
      "finished 219 from 376 commits\n"
     ]
    },
    {
     "name": "stderr",
     "output_type": "stream",
     "text": [
      "/home/oathaha/.conda/envs/env_oat/lib/python3.9/site-packages/sklearn/metrics/_classification.py:1245: UndefinedMetricWarning: Precision is ill-defined and being set to 0.0 due to no predicted samples. Use `zero_division` parameter to control this behavior.\n",
      "  _warn_prf(average, modifier, msg_start, len(result))\n"
     ]
    },
    {
     "name": "stdout",
     "output_type": "stream",
     "text": [
      "finished 220 from 376 commits\n",
      "finished 221 from 376 commits\n",
      "finished 222 from 376 commits\n"
     ]
    },
    {
     "name": "stderr",
     "output_type": "stream",
     "text": [
      "/home/oathaha/.conda/envs/env_oat/lib/python3.9/site-packages/sklearn/metrics/_classification.py:1245: UndefinedMetricWarning: Precision is ill-defined and being set to 0.0 due to no predicted samples. Use `zero_division` parameter to control this behavior.\n",
      "  _warn_prf(average, modifier, msg_start, len(result))\n"
     ]
    },
    {
     "name": "stdout",
     "output_type": "stream",
     "text": [
      "finished 223 from 376 commits\n",
      "finished 224 from 376 commits\n",
      "finished 225 from 376 commits\n",
      "finished 226 from 376 commits\n",
      "finished 227 from 376 commits\n",
      "finished 228 from 376 commits\n",
      "finished 229 from 376 commits\n"
     ]
    },
    {
     "name": "stderr",
     "output_type": "stream",
     "text": [
      "/home/oathaha/.conda/envs/env_oat/lib/python3.9/site-packages/sklearn/metrics/_classification.py:1245: UndefinedMetricWarning: Precision is ill-defined and being set to 0.0 due to no predicted samples. Use `zero_division` parameter to control this behavior.\n",
      "  _warn_prf(average, modifier, msg_start, len(result))\n"
     ]
    },
    {
     "name": "stdout",
     "output_type": "stream",
     "text": [
      "finished 230 from 376 commits\n",
      "finished 231 from 376 commits\n"
     ]
    },
    {
     "name": "stderr",
     "output_type": "stream",
     "text": [
      "/home/oathaha/.conda/envs/env_oat/lib/python3.9/site-packages/sklearn/metrics/_classification.py:1245: UndefinedMetricWarning: Precision is ill-defined and being set to 0.0 due to no predicted samples. Use `zero_division` parameter to control this behavior.\n",
      "  _warn_prf(average, modifier, msg_start, len(result))\n"
     ]
    },
    {
     "name": "stdout",
     "output_type": "stream",
     "text": [
      "finished 232 from 376 commits\n",
      "finished 233 from 376 commits\n",
      "finished 234 from 376 commits\n",
      "finished 235 from 376 commits\n",
      "finished 236 from 376 commits\n",
      "finished 237 from 376 commits\n",
      "finished 238 from 376 commits\n",
      "finished 239 from 376 commits\n",
      "finished 240 from 376 commits\n"
     ]
    },
    {
     "name": "stderr",
     "output_type": "stream",
     "text": [
      "/home/oathaha/.conda/envs/env_oat/lib/python3.9/site-packages/sklearn/metrics/_classification.py:1245: UndefinedMetricWarning: Precision is ill-defined and being set to 0.0 due to no predicted samples. Use `zero_division` parameter to control this behavior.\n",
      "  _warn_prf(average, modifier, msg_start, len(result))\n"
     ]
    },
    {
     "name": "stdout",
     "output_type": "stream",
     "text": [
      "finished 241 from 376 commits\n",
      "finished 242 from 376 commits\n",
      "finished 243 from 376 commits\n",
      "finished 244 from 376 commits\n",
      "finished 245 from 376 commits\n",
      "finished 246 from 376 commits\n",
      "finished 247 from 376 commits\n",
      "finished 248 from 376 commits\n",
      "finished 249 from 376 commits\n",
      "finished 250 from 376 commits\n"
     ]
    },
    {
     "name": "stderr",
     "output_type": "stream",
     "text": [
      "/home/oathaha/.conda/envs/env_oat/lib/python3.9/site-packages/sklearn/metrics/_classification.py:1245: UndefinedMetricWarning: Precision is ill-defined and being set to 0.0 due to no predicted samples. Use `zero_division` parameter to control this behavior.\n",
      "  _warn_prf(average, modifier, msg_start, len(result))\n"
     ]
    },
    {
     "name": "stdout",
     "output_type": "stream",
     "text": [
      "finished 251 from 376 commits\n"
     ]
    },
    {
     "name": "stderr",
     "output_type": "stream",
     "text": [
      "/home/oathaha/.conda/envs/env_oat/lib/python3.9/site-packages/sklearn/metrics/_classification.py:1245: UndefinedMetricWarning: Precision is ill-defined and being set to 0.0 due to no predicted samples. Use `zero_division` parameter to control this behavior.\n",
      "  _warn_prf(average, modifier, msg_start, len(result))\n"
     ]
    },
    {
     "name": "stdout",
     "output_type": "stream",
     "text": [
      "finished 252 from 376 commits\n",
      "finished 253 from 376 commits\n",
      "finished 254 from 376 commits\n",
      "finished 255 from 376 commits\n"
     ]
    },
    {
     "name": "stderr",
     "output_type": "stream",
     "text": [
      "/home/oathaha/.conda/envs/env_oat/lib/python3.9/site-packages/sklearn/metrics/_classification.py:1245: UndefinedMetricWarning: Precision is ill-defined and being set to 0.0 due to no predicted samples. Use `zero_division` parameter to control this behavior.\n",
      "  _warn_prf(average, modifier, msg_start, len(result))\n"
     ]
    },
    {
     "name": "stdout",
     "output_type": "stream",
     "text": [
      "finished 256 from 376 commits\n",
      "finished 257 from 376 commits\n",
      "finished 258 from 376 commits\n",
      "finished 259 from 376 commits\n",
      "finished 260 from 376 commits\n",
      "finished 261 from 376 commits\n",
      "finished 262 from 376 commits\n",
      "finished 263 from 376 commits\n",
      "finished 264 from 376 commits\n",
      "finished 265 from 376 commits\n",
      "finished 266 from 376 commits\n",
      "finished 267 from 376 commits\n"
     ]
    },
    {
     "name": "stderr",
     "output_type": "stream",
     "text": [
      "/home/oathaha/.conda/envs/env_oat/lib/python3.9/site-packages/sklearn/metrics/_classification.py:1245: UndefinedMetricWarning: Precision is ill-defined and being set to 0.0 due to no predicted samples. Use `zero_division` parameter to control this behavior.\n",
      "  _warn_prf(average, modifier, msg_start, len(result))\n"
     ]
    },
    {
     "name": "stdout",
     "output_type": "stream",
     "text": [
      "finished 268 from 376 commits\n",
      "finished 269 from 376 commits\n",
      "finished 270 from 376 commits\n",
      "finished 271 from 376 commits\n",
      "finished 272 from 376 commits\n"
     ]
    },
    {
     "name": "stderr",
     "output_type": "stream",
     "text": [
      "/home/oathaha/.conda/envs/env_oat/lib/python3.9/site-packages/sklearn/metrics/_classification.py:1245: UndefinedMetricWarning: Precision is ill-defined and being set to 0.0 due to no predicted samples. Use `zero_division` parameter to control this behavior.\n",
      "  _warn_prf(average, modifier, msg_start, len(result))\n"
     ]
    },
    {
     "name": "stdout",
     "output_type": "stream",
     "text": [
      "finished 273 from 376 commits\n",
      "finished 274 from 376 commits\n",
      "finished 275 from 376 commits\n",
      "finished 276 from 376 commits\n",
      "finished 277 from 376 commits\n",
      "finished 278 from 376 commits\n",
      "finished 279 from 376 commits\n"
     ]
    },
    {
     "name": "stderr",
     "output_type": "stream",
     "text": [
      "/home/oathaha/.conda/envs/env_oat/lib/python3.9/site-packages/sklearn/metrics/_classification.py:1245: UndefinedMetricWarning: Precision is ill-defined and being set to 0.0 due to no predicted samples. Use `zero_division` parameter to control this behavior.\n",
      "  _warn_prf(average, modifier, msg_start, len(result))\n"
     ]
    },
    {
     "name": "stdout",
     "output_type": "stream",
     "text": [
      "finished 280 from 376 commits\n",
      "finished 281 from 376 commits\n",
      "finished 282 from 376 commits\n"
     ]
    },
    {
     "name": "stderr",
     "output_type": "stream",
     "text": [
      "/home/oathaha/.conda/envs/env_oat/lib/python3.9/site-packages/sklearn/metrics/_classification.py:1245: UndefinedMetricWarning: Precision is ill-defined and being set to 0.0 due to no predicted samples. Use `zero_division` parameter to control this behavior.\n",
      "  _warn_prf(average, modifier, msg_start, len(result))\n"
     ]
    },
    {
     "name": "stdout",
     "output_type": "stream",
     "text": [
      "finished 283 from 376 commits\n",
      "finished 284 from 376 commits\n",
      "finished 285 from 376 commits\n",
      "finished 286 from 376 commits\n",
      "finished 287 from 376 commits\n"
     ]
    },
    {
     "name": "stderr",
     "output_type": "stream",
     "text": [
      "/home/oathaha/.conda/envs/env_oat/lib/python3.9/site-packages/sklearn/metrics/_classification.py:1245: UndefinedMetricWarning: Precision is ill-defined and being set to 0.0 due to no predicted samples. Use `zero_division` parameter to control this behavior.\n",
      "  _warn_prf(average, modifier, msg_start, len(result))\n"
     ]
    },
    {
     "name": "stdout",
     "output_type": "stream",
     "text": [
      "finished 288 from 376 commits\n",
      "finished 289 from 376 commits\n"
     ]
    },
    {
     "name": "stderr",
     "output_type": "stream",
     "text": [
      "/home/oathaha/.conda/envs/env_oat/lib/python3.9/site-packages/sklearn/metrics/_classification.py:1245: UndefinedMetricWarning: Precision is ill-defined and being set to 0.0 due to no predicted samples. Use `zero_division` parameter to control this behavior.\n",
      "  _warn_prf(average, modifier, msg_start, len(result))\n"
     ]
    },
    {
     "name": "stdout",
     "output_type": "stream",
     "text": [
      "finished 290 from 376 commits\n"
     ]
    },
    {
     "name": "stderr",
     "output_type": "stream",
     "text": [
      "/home/oathaha/.conda/envs/env_oat/lib/python3.9/site-packages/sklearn/metrics/_classification.py:1245: UndefinedMetricWarning: Precision is ill-defined and being set to 0.0 due to no predicted samples. Use `zero_division` parameter to control this behavior.\n",
      "  _warn_prf(average, modifier, msg_start, len(result))\n"
     ]
    },
    {
     "name": "stdout",
     "output_type": "stream",
     "text": [
      "finished 291 from 376 commits\n",
      "finished 292 from 376 commits\n",
      "finished 293 from 376 commits\n",
      "finished 294 from 376 commits\n",
      "finished 295 from 376 commits\n",
      "finished 296 from 376 commits\n"
     ]
    },
    {
     "name": "stderr",
     "output_type": "stream",
     "text": [
      "/home/oathaha/.conda/envs/env_oat/lib/python3.9/site-packages/sklearn/metrics/_classification.py:1245: UndefinedMetricWarning: Precision is ill-defined and being set to 0.0 due to no predicted samples. Use `zero_division` parameter to control this behavior.\n",
      "  _warn_prf(average, modifier, msg_start, len(result))\n"
     ]
    },
    {
     "name": "stdout",
     "output_type": "stream",
     "text": [
      "finished 297 from 376 commits\n",
      "finished 298 from 376 commits\n",
      "finished 299 from 376 commits\n",
      "finished 300 from 376 commits\n",
      "finished 301 from 376 commits\n",
      "finished 302 from 376 commits\n",
      "finished 303 from 376 commits\n",
      "finished 304 from 376 commits\n",
      "finished 305 from 376 commits\n",
      "finished 306 from 376 commits\n",
      "finished 307 from 376 commits\n",
      "finished 308 from 376 commits\n"
     ]
    },
    {
     "name": "stderr",
     "output_type": "stream",
     "text": [
      "/home/oathaha/.conda/envs/env_oat/lib/python3.9/site-packages/sklearn/metrics/_classification.py:1245: UndefinedMetricWarning: Precision is ill-defined and being set to 0.0 due to no predicted samples. Use `zero_division` parameter to control this behavior.\n",
      "  _warn_prf(average, modifier, msg_start, len(result))\n"
     ]
    },
    {
     "name": "stdout",
     "output_type": "stream",
     "text": [
      "finished 309 from 376 commits\n",
      "finished 310 from 376 commits\n",
      "finished 311 from 376 commits\n"
     ]
    },
    {
     "name": "stderr",
     "output_type": "stream",
     "text": [
      "/home/oathaha/.conda/envs/env_oat/lib/python3.9/site-packages/sklearn/metrics/_classification.py:1245: UndefinedMetricWarning: Precision is ill-defined and being set to 0.0 due to no predicted samples. Use `zero_division` parameter to control this behavior.\n",
      "  _warn_prf(average, modifier, msg_start, len(result))\n"
     ]
    },
    {
     "name": "stdout",
     "output_type": "stream",
     "text": [
      "finished 312 from 376 commits\n",
      "finished 313 from 376 commits\n"
     ]
    },
    {
     "name": "stderr",
     "output_type": "stream",
     "text": [
      "/home/oathaha/.conda/envs/env_oat/lib/python3.9/site-packages/sklearn/metrics/_classification.py:1245: UndefinedMetricWarning: Precision is ill-defined and being set to 0.0 due to no predicted samples. Use `zero_division` parameter to control this behavior.\n",
      "  _warn_prf(average, modifier, msg_start, len(result))\n"
     ]
    },
    {
     "name": "stdout",
     "output_type": "stream",
     "text": [
      "finished 314 from 376 commits\n",
      "finished 315 from 376 commits\n",
      "finished 316 from 376 commits\n",
      "finished 317 from 376 commits\n",
      "finished 318 from 376 commits\n",
      "finished 319 from 376 commits\n",
      "finished 320 from 376 commits\n",
      "finished 321 from 376 commits\n",
      "finished 322 from 376 commits\n",
      "finished 323 from 376 commits\n",
      "finished 324 from 376 commits\n",
      "finished 325 from 376 commits\n",
      "finished 326 from 376 commits\n",
      "finished 327 from 376 commits\n",
      "finished 328 from 376 commits\n"
     ]
    },
    {
     "name": "stderr",
     "output_type": "stream",
     "text": [
      "/home/oathaha/.conda/envs/env_oat/lib/python3.9/site-packages/sklearn/metrics/_classification.py:1245: UndefinedMetricWarning: Precision is ill-defined and being set to 0.0 due to no predicted samples. Use `zero_division` parameter to control this behavior.\n",
      "  _warn_prf(average, modifier, msg_start, len(result))\n"
     ]
    },
    {
     "name": "stdout",
     "output_type": "stream",
     "text": [
      "finished 329 from 376 commits\n",
      "finished 330 from 376 commits\n",
      "finished 331 from 376 commits\n",
      "finished 332 from 376 commits\n",
      "finished 333 from 376 commits\n",
      "finished 334 from 376 commits\n",
      "finished 335 from 376 commits\n"
     ]
    },
    {
     "name": "stderr",
     "output_type": "stream",
     "text": [
      "/home/oathaha/.conda/envs/env_oat/lib/python3.9/site-packages/sklearn/metrics/_classification.py:1245: UndefinedMetricWarning: Precision is ill-defined and being set to 0.0 due to no predicted samples. Use `zero_division` parameter to control this behavior.\n",
      "  _warn_prf(average, modifier, msg_start, len(result))\n"
     ]
    },
    {
     "name": "stdout",
     "output_type": "stream",
     "text": [
      "finished 336 from 376 commits\n"
     ]
    },
    {
     "name": "stderr",
     "output_type": "stream",
     "text": [
      "/home/oathaha/.conda/envs/env_oat/lib/python3.9/site-packages/sklearn/metrics/_classification.py:1245: UndefinedMetricWarning: Precision is ill-defined and being set to 0.0 due to no predicted samples. Use `zero_division` parameter to control this behavior.\n",
      "  _warn_prf(average, modifier, msg_start, len(result))\n"
     ]
    },
    {
     "name": "stdout",
     "output_type": "stream",
     "text": [
      "finished 337 from 376 commits\n",
      "finished 338 from 376 commits\n",
      "finished 339 from 376 commits\n",
      "finished 340 from 376 commits\n",
      "finished 341 from 376 commits\n",
      "finished 342 from 376 commits\n",
      "finished 343 from 376 commits\n",
      "finished 344 from 376 commits\n",
      "finished 345 from 376 commits\n",
      "finished 346 from 376 commits\n",
      "finished 347 from 376 commits\n",
      "finished 348 from 376 commits\n",
      "finished 349 from 376 commits\n",
      "finished 350 from 376 commits\n",
      "finished 351 from 376 commits\n"
     ]
    },
    {
     "name": "stderr",
     "output_type": "stream",
     "text": [
      "/home/oathaha/.conda/envs/env_oat/lib/python3.9/site-packages/sklearn/metrics/_classification.py:1245: UndefinedMetricWarning: Precision is ill-defined and being set to 0.0 due to no predicted samples. Use `zero_division` parameter to control this behavior.\n",
      "  _warn_prf(average, modifier, msg_start, len(result))\n"
     ]
    },
    {
     "name": "stdout",
     "output_type": "stream",
     "text": [
      "finished 352 from 376 commits\n",
      "finished 353 from 376 commits\n",
      "finished 354 from 376 commits\n",
      "finished 355 from 376 commits\n",
      "finished 356 from 376 commits\n",
      "finished 357 from 376 commits\n",
      "finished 358 from 376 commits\n"
     ]
    },
    {
     "name": "stderr",
     "output_type": "stream",
     "text": [
      "/home/oathaha/.conda/envs/env_oat/lib/python3.9/site-packages/sklearn/metrics/_classification.py:1245: UndefinedMetricWarning: Precision is ill-defined and being set to 0.0 due to no predicted samples. Use `zero_division` parameter to control this behavior.\n",
      "  _warn_prf(average, modifier, msg_start, len(result))\n"
     ]
    },
    {
     "name": "stdout",
     "output_type": "stream",
     "text": [
      "finished 359 from 376 commits\n"
     ]
    },
    {
     "name": "stderr",
     "output_type": "stream",
     "text": [
      "/home/oathaha/.conda/envs/env_oat/lib/python3.9/site-packages/sklearn/metrics/_classification.py:1245: UndefinedMetricWarning: Precision is ill-defined and being set to 0.0 due to no predicted samples. Use `zero_division` parameter to control this behavior.\n",
      "  _warn_prf(average, modifier, msg_start, len(result))\n"
     ]
    },
    {
     "name": "stdout",
     "output_type": "stream",
     "text": [
      "finished 360 from 376 commits\n",
      "finished 361 from 376 commits\n",
      "finished 362 from 376 commits\n",
      "finished 363 from 376 commits\n",
      "finished 364 from 376 commits\n",
      "finished 365 from 376 commits\n",
      "finished 366 from 376 commits\n",
      "finished 367 from 376 commits\n",
      "finished 368 from 376 commits\n",
      "finished 369 from 376 commits\n",
      "finished 370 from 376 commits\n",
      "finished 371 from 376 commits\n",
      "finished 372 from 376 commits\n",
      "finished 373 from 376 commits\n",
      "finished 374 from 376 commits\n",
      "finished 375 from 376 commits\n"
     ]
    },
    {
     "name": "stderr",
     "output_type": "stream",
     "text": [
      "/home/oathaha/.conda/envs/env_oat/lib/python3.9/site-packages/sklearn/metrics/_classification.py:1245: UndefinedMetricWarning: Precision is ill-defined and being set to 0.0 due to no predicted samples. Use `zero_division` parameter to control this behavior.\n",
      "  _warn_prf(average, modifier, msg_start, len(result))\n"
     ]
    },
    {
     "name": "stdout",
     "output_type": "stream",
     "text": [
      "finished 376 from 376 commits\n",
      "finished RQ3 of openstack\n",
      "finished in 427.8271584510803 secs\n",
      "qt\n",
      "finished 1 from 255 commits\n",
      "finished 2 from 255 commits\n",
      "finished 3 from 255 commits\n",
      "finished 4 from 255 commits\n"
     ]
    },
    {
     "name": "stderr",
     "output_type": "stream",
     "text": [
      "/home/oathaha/.conda/envs/env_oat/lib/python3.9/site-packages/sklearn/metrics/_classification.py:1245: UndefinedMetricWarning: Precision is ill-defined and being set to 0.0 due to no predicted samples. Use `zero_division` parameter to control this behavior.\n",
      "  _warn_prf(average, modifier, msg_start, len(result))\n"
     ]
    },
    {
     "name": "stdout",
     "output_type": "stream",
     "text": [
      "finished 5 from 255 commits\n",
      "finished 6 from 255 commits\n",
      "finished 7 from 255 commits\n"
     ]
    },
    {
     "name": "stderr",
     "output_type": "stream",
     "text": [
      "/home/oathaha/.conda/envs/env_oat/lib/python3.9/site-packages/sklearn/metrics/_classification.py:1245: UndefinedMetricWarning: Precision is ill-defined and being set to 0.0 due to no predicted samples. Use `zero_division` parameter to control this behavior.\n",
      "  _warn_prf(average, modifier, msg_start, len(result))\n"
     ]
    },
    {
     "name": "stdout",
     "output_type": "stream",
     "text": [
      "finished 8 from 255 commits\n",
      "finished 9 from 255 commits\n",
      "finished 10 from 255 commits\n"
     ]
    },
    {
     "name": "stderr",
     "output_type": "stream",
     "text": [
      "/home/oathaha/.conda/envs/env_oat/lib/python3.9/site-packages/sklearn/metrics/_classification.py:1245: UndefinedMetricWarning: Precision is ill-defined and being set to 0.0 due to no predicted samples. Use `zero_division` parameter to control this behavior.\n",
      "  _warn_prf(average, modifier, msg_start, len(result))\n"
     ]
    },
    {
     "name": "stdout",
     "output_type": "stream",
     "text": [
      "finished 11 from 255 commits\n",
      "finished 12 from 255 commits\n"
     ]
    },
    {
     "name": "stderr",
     "output_type": "stream",
     "text": [
      "/home/oathaha/.conda/envs/env_oat/lib/python3.9/site-packages/sklearn/metrics/_classification.py:1245: UndefinedMetricWarning: Precision is ill-defined and being set to 0.0 due to no predicted samples. Use `zero_division` parameter to control this behavior.\n",
      "  _warn_prf(average, modifier, msg_start, len(result))\n"
     ]
    },
    {
     "name": "stdout",
     "output_type": "stream",
     "text": [
      "finished 13 from 255 commits\n",
      "finished 14 from 255 commits\n"
     ]
    },
    {
     "name": "stderr",
     "output_type": "stream",
     "text": [
      "/home/oathaha/.conda/envs/env_oat/lib/python3.9/site-packages/sklearn/metrics/_classification.py:1245: UndefinedMetricWarning: Precision is ill-defined and being set to 0.0 due to no predicted samples. Use `zero_division` parameter to control this behavior.\n",
      "  _warn_prf(average, modifier, msg_start, len(result))\n"
     ]
    },
    {
     "name": "stdout",
     "output_type": "stream",
     "text": [
      "finished 15 from 255 commits\n",
      "finished 16 from 255 commits\n",
      "finished 17 from 255 commits\n",
      "finished 18 from 255 commits\n",
      "finished 19 from 255 commits\n"
     ]
    },
    {
     "name": "stderr",
     "output_type": "stream",
     "text": [
      "/home/oathaha/.conda/envs/env_oat/lib/python3.9/site-packages/sklearn/metrics/_classification.py:1245: UndefinedMetricWarning: Precision is ill-defined and being set to 0.0 due to no predicted samples. Use `zero_division` parameter to control this behavior.\n",
      "  _warn_prf(average, modifier, msg_start, len(result))\n"
     ]
    },
    {
     "name": "stdout",
     "output_type": "stream",
     "text": [
      "finished 20 from 255 commits\n"
     ]
    },
    {
     "name": "stderr",
     "output_type": "stream",
     "text": [
      "/home/oathaha/.conda/envs/env_oat/lib/python3.9/site-packages/sklearn/metrics/_classification.py:1245: UndefinedMetricWarning: Precision is ill-defined and being set to 0.0 due to no predicted samples. Use `zero_division` parameter to control this behavior.\n",
      "  _warn_prf(average, modifier, msg_start, len(result))\n"
     ]
    },
    {
     "name": "stdout",
     "output_type": "stream",
     "text": [
      "finished 21 from 255 commits\n",
      "finished 22 from 255 commits\n"
     ]
    },
    {
     "name": "stderr",
     "output_type": "stream",
     "text": [
      "/home/oathaha/.conda/envs/env_oat/lib/python3.9/site-packages/sklearn/metrics/_classification.py:1245: UndefinedMetricWarning: Precision is ill-defined and being set to 0.0 due to no predicted samples. Use `zero_division` parameter to control this behavior.\n",
      "  _warn_prf(average, modifier, msg_start, len(result))\n"
     ]
    },
    {
     "name": "stdout",
     "output_type": "stream",
     "text": [
      "finished 23 from 255 commits\n",
      "finished 24 from 255 commits\n",
      "finished 25 from 255 commits\n",
      "finished 26 from 255 commits\n",
      "finished 27 from 255 commits\n",
      "finished 28 from 255 commits\n",
      "finished 29 from 255 commits\n",
      "finished 30 from 255 commits\n",
      "finished 31 from 255 commits\n",
      "finished 32 from 255 commits\n",
      "finished 33 from 255 commits\n",
      "finished 34 from 255 commits\n",
      "finished 35 from 255 commits\n"
     ]
    },
    {
     "name": "stderr",
     "output_type": "stream",
     "text": [
      "/home/oathaha/.conda/envs/env_oat/lib/python3.9/site-packages/sklearn/metrics/_classification.py:1245: UndefinedMetricWarning: Precision is ill-defined and being set to 0.0 due to no predicted samples. Use `zero_division` parameter to control this behavior.\n",
      "  _warn_prf(average, modifier, msg_start, len(result))\n"
     ]
    },
    {
     "name": "stdout",
     "output_type": "stream",
     "text": [
      "finished 36 from 255 commits\n",
      "finished 37 from 255 commits\n",
      "finished 38 from 255 commits\n"
     ]
    },
    {
     "name": "stderr",
     "output_type": "stream",
     "text": [
      "/home/oathaha/.conda/envs/env_oat/lib/python3.9/site-packages/sklearn/metrics/_classification.py:1245: UndefinedMetricWarning: Precision is ill-defined and being set to 0.0 due to no predicted samples. Use `zero_division` parameter to control this behavior.\n",
      "  _warn_prf(average, modifier, msg_start, len(result))\n"
     ]
    },
    {
     "name": "stdout",
     "output_type": "stream",
     "text": [
      "finished 39 from 255 commits\n",
      "finished 40 from 255 commits\n",
      "finished 41 from 255 commits\n"
     ]
    },
    {
     "name": "stderr",
     "output_type": "stream",
     "text": [
      "/home/oathaha/.conda/envs/env_oat/lib/python3.9/site-packages/sklearn/metrics/_classification.py:1245: UndefinedMetricWarning: Precision is ill-defined and being set to 0.0 due to no predicted samples. Use `zero_division` parameter to control this behavior.\n",
      "  _warn_prf(average, modifier, msg_start, len(result))\n"
     ]
    },
    {
     "name": "stdout",
     "output_type": "stream",
     "text": [
      "finished 42 from 255 commits\n",
      "finished 43 from 255 commits\n",
      "finished 44 from 255 commits\n"
     ]
    },
    {
     "name": "stderr",
     "output_type": "stream",
     "text": [
      "/home/oathaha/.conda/envs/env_oat/lib/python3.9/site-packages/sklearn/metrics/_classification.py:1245: UndefinedMetricWarning: Precision is ill-defined and being set to 0.0 due to no predicted samples. Use `zero_division` parameter to control this behavior.\n",
      "  _warn_prf(average, modifier, msg_start, len(result))\n"
     ]
    },
    {
     "name": "stdout",
     "output_type": "stream",
     "text": [
      "finished 45 from 255 commits\n",
      "finished 46 from 255 commits\n"
     ]
    },
    {
     "name": "stderr",
     "output_type": "stream",
     "text": [
      "/home/oathaha/.conda/envs/env_oat/lib/python3.9/site-packages/sklearn/metrics/_classification.py:1245: UndefinedMetricWarning: Precision is ill-defined and being set to 0.0 due to no predicted samples. Use `zero_division` parameter to control this behavior.\n",
      "  _warn_prf(average, modifier, msg_start, len(result))\n"
     ]
    },
    {
     "name": "stdout",
     "output_type": "stream",
     "text": [
      "finished 47 from 255 commits\n"
     ]
    },
    {
     "name": "stderr",
     "output_type": "stream",
     "text": [
      "/home/oathaha/.conda/envs/env_oat/lib/python3.9/site-packages/sklearn/metrics/_classification.py:1245: UndefinedMetricWarning: Precision is ill-defined and being set to 0.0 due to no predicted samples. Use `zero_division` parameter to control this behavior.\n",
      "  _warn_prf(average, modifier, msg_start, len(result))\n"
     ]
    },
    {
     "name": "stdout",
     "output_type": "stream",
     "text": [
      "finished 48 from 255 commits\n",
      "finished 49 from 255 commits\n",
      "finished 50 from 255 commits\n",
      "finished 51 from 255 commits\n",
      "finished 52 from 255 commits\n",
      "finished 53 from 255 commits\n",
      "finished 54 from 255 commits\n",
      "finished 55 from 255 commits\n",
      "finished 56 from 255 commits\n",
      "finished 57 from 255 commits\n"
     ]
    },
    {
     "name": "stderr",
     "output_type": "stream",
     "text": [
      "/home/oathaha/.conda/envs/env_oat/lib/python3.9/site-packages/sklearn/metrics/_classification.py:1245: UndefinedMetricWarning: Precision is ill-defined and being set to 0.0 due to no predicted samples. Use `zero_division` parameter to control this behavior.\n",
      "  _warn_prf(average, modifier, msg_start, len(result))\n"
     ]
    },
    {
     "name": "stdout",
     "output_type": "stream",
     "text": [
      "finished 58 from 255 commits\n"
     ]
    },
    {
     "name": "stderr",
     "output_type": "stream",
     "text": [
      "/home/oathaha/.conda/envs/env_oat/lib/python3.9/site-packages/sklearn/metrics/_classification.py:1245: UndefinedMetricWarning: Precision is ill-defined and being set to 0.0 due to no predicted samples. Use `zero_division` parameter to control this behavior.\n",
      "  _warn_prf(average, modifier, msg_start, len(result))\n"
     ]
    },
    {
     "name": "stdout",
     "output_type": "stream",
     "text": [
      "finished 59 from 255 commits\n",
      "finished 60 from 255 commits\n",
      "finished 61 from 255 commits\n",
      "finished 62 from 255 commits\n"
     ]
    },
    {
     "name": "stderr",
     "output_type": "stream",
     "text": [
      "/home/oathaha/.conda/envs/env_oat/lib/python3.9/site-packages/sklearn/metrics/_classification.py:1245: UndefinedMetricWarning: Precision is ill-defined and being set to 0.0 due to no predicted samples. Use `zero_division` parameter to control this behavior.\n",
      "  _warn_prf(average, modifier, msg_start, len(result))\n"
     ]
    },
    {
     "name": "stdout",
     "output_type": "stream",
     "text": [
      "finished 63 from 255 commits\n",
      "finished 64 from 255 commits\n",
      "finished 65 from 255 commits\n",
      "finished 66 from 255 commits\n"
     ]
    },
    {
     "name": "stderr",
     "output_type": "stream",
     "text": [
      "/home/oathaha/.conda/envs/env_oat/lib/python3.9/site-packages/sklearn/metrics/_classification.py:1245: UndefinedMetricWarning: Precision is ill-defined and being set to 0.0 due to no predicted samples. Use `zero_division` parameter to control this behavior.\n",
      "  _warn_prf(average, modifier, msg_start, len(result))\n"
     ]
    },
    {
     "name": "stdout",
     "output_type": "stream",
     "text": [
      "finished 67 from 255 commits\n",
      "finished 68 from 255 commits\n",
      "finished 69 from 255 commits\n",
      "finished 70 from 255 commits\n",
      "finished 71 from 255 commits\n",
      "finished 72 from 255 commits\n"
     ]
    },
    {
     "name": "stderr",
     "output_type": "stream",
     "text": [
      "/home/oathaha/.conda/envs/env_oat/lib/python3.9/site-packages/sklearn/metrics/_classification.py:1245: UndefinedMetricWarning: Precision is ill-defined and being set to 0.0 due to no predicted samples. Use `zero_division` parameter to control this behavior.\n",
      "  _warn_prf(average, modifier, msg_start, len(result))\n"
     ]
    },
    {
     "name": "stdout",
     "output_type": "stream",
     "text": [
      "finished 73 from 255 commits\n"
     ]
    },
    {
     "name": "stderr",
     "output_type": "stream",
     "text": [
      "/home/oathaha/.conda/envs/env_oat/lib/python3.9/site-packages/sklearn/metrics/_classification.py:1245: UndefinedMetricWarning: Precision is ill-defined and being set to 0.0 due to no predicted samples. Use `zero_division` parameter to control this behavior.\n",
      "  _warn_prf(average, modifier, msg_start, len(result))\n"
     ]
    },
    {
     "name": "stdout",
     "output_type": "stream",
     "text": [
      "finished 74 from 255 commits\n",
      "finished 75 from 255 commits\n"
     ]
    },
    {
     "name": "stderr",
     "output_type": "stream",
     "text": [
      "/home/oathaha/.conda/envs/env_oat/lib/python3.9/site-packages/sklearn/metrics/_classification.py:1245: UndefinedMetricWarning: Precision is ill-defined and being set to 0.0 due to no predicted samples. Use `zero_division` parameter to control this behavior.\n",
      "  _warn_prf(average, modifier, msg_start, len(result))\n"
     ]
    },
    {
     "name": "stdout",
     "output_type": "stream",
     "text": [
      "finished 76 from 255 commits\n"
     ]
    },
    {
     "name": "stderr",
     "output_type": "stream",
     "text": [
      "/home/oathaha/.conda/envs/env_oat/lib/python3.9/site-packages/sklearn/metrics/_classification.py:1245: UndefinedMetricWarning: Precision is ill-defined and being set to 0.0 due to no predicted samples. Use `zero_division` parameter to control this behavior.\n",
      "  _warn_prf(average, modifier, msg_start, len(result))\n"
     ]
    },
    {
     "name": "stdout",
     "output_type": "stream",
     "text": [
      "finished 77 from 255 commits\n",
      "finished 78 from 255 commits\n",
      "finished 79 from 255 commits\n",
      "finished 80 from 255 commits\n",
      "finished 81 from 255 commits\n"
     ]
    },
    {
     "name": "stderr",
     "output_type": "stream",
     "text": [
      "/home/oathaha/.conda/envs/env_oat/lib/python3.9/site-packages/sklearn/metrics/_classification.py:1245: UndefinedMetricWarning: Precision is ill-defined and being set to 0.0 due to no predicted samples. Use `zero_division` parameter to control this behavior.\n",
      "  _warn_prf(average, modifier, msg_start, len(result))\n"
     ]
    },
    {
     "name": "stdout",
     "output_type": "stream",
     "text": [
      "finished 82 from 255 commits\n",
      "finished 83 from 255 commits\n",
      "finished 84 from 255 commits\n",
      "finished 85 from 255 commits\n"
     ]
    },
    {
     "name": "stderr",
     "output_type": "stream",
     "text": [
      "/home/oathaha/.conda/envs/env_oat/lib/python3.9/site-packages/sklearn/metrics/_classification.py:1245: UndefinedMetricWarning: Precision is ill-defined and being set to 0.0 due to no predicted samples. Use `zero_division` parameter to control this behavior.\n",
      "  _warn_prf(average, modifier, msg_start, len(result))\n"
     ]
    },
    {
     "name": "stdout",
     "output_type": "stream",
     "text": [
      "finished 86 from 255 commits\n",
      "finished 87 from 255 commits\n"
     ]
    },
    {
     "name": "stderr",
     "output_type": "stream",
     "text": [
      "/home/oathaha/.conda/envs/env_oat/lib/python3.9/site-packages/sklearn/metrics/_classification.py:1245: UndefinedMetricWarning: Precision is ill-defined and being set to 0.0 due to no predicted samples. Use `zero_division` parameter to control this behavior.\n",
      "  _warn_prf(average, modifier, msg_start, len(result))\n"
     ]
    },
    {
     "name": "stdout",
     "output_type": "stream",
     "text": [
      "finished 88 from 255 commits\n",
      "finished 89 from 255 commits\n",
      "finished 90 from 255 commits\n",
      "finished 91 from 255 commits\n",
      "finished 92 from 255 commits\n",
      "finished 93 from 255 commits\n",
      "finished 94 from 255 commits\n",
      "finished 95 from 255 commits\n"
     ]
    },
    {
     "name": "stderr",
     "output_type": "stream",
     "text": [
      "/home/oathaha/.conda/envs/env_oat/lib/python3.9/site-packages/sklearn/metrics/_classification.py:1245: UndefinedMetricWarning: Precision is ill-defined and being set to 0.0 due to no predicted samples. Use `zero_division` parameter to control this behavior.\n",
      "  _warn_prf(average, modifier, msg_start, len(result))\n"
     ]
    },
    {
     "name": "stdout",
     "output_type": "stream",
     "text": [
      "finished 96 from 255 commits\n",
      "finished 97 from 255 commits\n",
      "finished 98 from 255 commits\n",
      "finished 99 from 255 commits\n",
      "finished 100 from 255 commits\n",
      "finished 101 from 255 commits\n",
      "finished 102 from 255 commits\n",
      "finished 103 from 255 commits\n",
      "finished 104 from 255 commits\n"
     ]
    },
    {
     "name": "stderr",
     "output_type": "stream",
     "text": [
      "/home/oathaha/.conda/envs/env_oat/lib/python3.9/site-packages/sklearn/metrics/_classification.py:1245: UndefinedMetricWarning: Precision is ill-defined and being set to 0.0 due to no predicted samples. Use `zero_division` parameter to control this behavior.\n",
      "  _warn_prf(average, modifier, msg_start, len(result))\n"
     ]
    },
    {
     "name": "stdout",
     "output_type": "stream",
     "text": [
      "finished 105 from 255 commits\n",
      "finished 106 from 255 commits\n",
      "finished 107 from 255 commits\n",
      "finished 108 from 255 commits\n",
      "finished 109 from 255 commits\n",
      "finished 110 from 255 commits\n",
      "finished 111 from 255 commits\n"
     ]
    },
    {
     "name": "stderr",
     "output_type": "stream",
     "text": [
      "/home/oathaha/.conda/envs/env_oat/lib/python3.9/site-packages/sklearn/metrics/_classification.py:1245: UndefinedMetricWarning: Precision is ill-defined and being set to 0.0 due to no predicted samples. Use `zero_division` parameter to control this behavior.\n",
      "  _warn_prf(average, modifier, msg_start, len(result))\n"
     ]
    },
    {
     "name": "stdout",
     "output_type": "stream",
     "text": [
      "finished 112 from 255 commits\n"
     ]
    },
    {
     "name": "stderr",
     "output_type": "stream",
     "text": [
      "/home/oathaha/.conda/envs/env_oat/lib/python3.9/site-packages/sklearn/metrics/_classification.py:1245: UndefinedMetricWarning: Precision is ill-defined and being set to 0.0 due to no predicted samples. Use `zero_division` parameter to control this behavior.\n",
      "  _warn_prf(average, modifier, msg_start, len(result))\n"
     ]
    },
    {
     "name": "stdout",
     "output_type": "stream",
     "text": [
      "finished 113 from 255 commits\n",
      "finished 114 from 255 commits\n",
      "finished 115 from 255 commits\n",
      "finished 116 from 255 commits\n",
      "finished 117 from 255 commits\n"
     ]
    },
    {
     "name": "stderr",
     "output_type": "stream",
     "text": [
      "/home/oathaha/.conda/envs/env_oat/lib/python3.9/site-packages/sklearn/metrics/_classification.py:1245: UndefinedMetricWarning: Precision is ill-defined and being set to 0.0 due to no predicted samples. Use `zero_division` parameter to control this behavior.\n",
      "  _warn_prf(average, modifier, msg_start, len(result))\n"
     ]
    },
    {
     "name": "stdout",
     "output_type": "stream",
     "text": [
      "finished 118 from 255 commits\n",
      "finished 119 from 255 commits\n",
      "finished 120 from 255 commits\n",
      "finished 121 from 255 commits\n"
     ]
    },
    {
     "name": "stderr",
     "output_type": "stream",
     "text": [
      "/home/oathaha/.conda/envs/env_oat/lib/python3.9/site-packages/sklearn/metrics/_classification.py:1245: UndefinedMetricWarning: Precision is ill-defined and being set to 0.0 due to no predicted samples. Use `zero_division` parameter to control this behavior.\n",
      "  _warn_prf(average, modifier, msg_start, len(result))\n"
     ]
    },
    {
     "name": "stdout",
     "output_type": "stream",
     "text": [
      "finished 122 from 255 commits\n"
     ]
    },
    {
     "name": "stderr",
     "output_type": "stream",
     "text": [
      "/home/oathaha/.conda/envs/env_oat/lib/python3.9/site-packages/sklearn/metrics/_classification.py:1245: UndefinedMetricWarning: Precision is ill-defined and being set to 0.0 due to no predicted samples. Use `zero_division` parameter to control this behavior.\n",
      "  _warn_prf(average, modifier, msg_start, len(result))\n"
     ]
    },
    {
     "name": "stdout",
     "output_type": "stream",
     "text": [
      "finished 123 from 255 commits\n",
      "finished 124 from 255 commits\n",
      "finished 125 from 255 commits\n",
      "finished 126 from 255 commits\n",
      "finished 127 from 255 commits\n",
      "finished 128 from 255 commits\n",
      "finished 129 from 255 commits\n",
      "finished 130 from 255 commits\n",
      "finished 131 from 255 commits\n",
      "finished 132 from 255 commits\n",
      "finished 133 from 255 commits\n",
      "finished 134 from 255 commits\n",
      "finished 135 from 255 commits\n",
      "finished 136 from 255 commits\n",
      "finished 137 from 255 commits\n",
      "finished 138 from 255 commits\n",
      "finished 139 from 255 commits\n",
      "finished 140 from 255 commits\n"
     ]
    },
    {
     "name": "stderr",
     "output_type": "stream",
     "text": [
      "/home/oathaha/.conda/envs/env_oat/lib/python3.9/site-packages/sklearn/metrics/_classification.py:1245: UndefinedMetricWarning: Precision is ill-defined and being set to 0.0 due to no predicted samples. Use `zero_division` parameter to control this behavior.\n",
      "  _warn_prf(average, modifier, msg_start, len(result))\n"
     ]
    },
    {
     "name": "stdout",
     "output_type": "stream",
     "text": [
      "finished 141 from 255 commits\n"
     ]
    },
    {
     "name": "stderr",
     "output_type": "stream",
     "text": [
      "/home/oathaha/.conda/envs/env_oat/lib/python3.9/site-packages/sklearn/metrics/_classification.py:1245: UndefinedMetricWarning: Precision is ill-defined and being set to 0.0 due to no predicted samples. Use `zero_division` parameter to control this behavior.\n",
      "  _warn_prf(average, modifier, msg_start, len(result))\n"
     ]
    },
    {
     "name": "stdout",
     "output_type": "stream",
     "text": [
      "finished 142 from 255 commits\n",
      "finished 143 from 255 commits\n",
      "finished 144 from 255 commits\n",
      "finished 145 from 255 commits\n"
     ]
    },
    {
     "name": "stderr",
     "output_type": "stream",
     "text": [
      "/home/oathaha/.conda/envs/env_oat/lib/python3.9/site-packages/sklearn/metrics/_classification.py:1245: UndefinedMetricWarning: Precision is ill-defined and being set to 0.0 due to no predicted samples. Use `zero_division` parameter to control this behavior.\n",
      "  _warn_prf(average, modifier, msg_start, len(result))\n"
     ]
    },
    {
     "name": "stdout",
     "output_type": "stream",
     "text": [
      "finished 146 from 255 commits\n"
     ]
    },
    {
     "name": "stderr",
     "output_type": "stream",
     "text": [
      "/home/oathaha/.conda/envs/env_oat/lib/python3.9/site-packages/sklearn/metrics/_classification.py:1245: UndefinedMetricWarning: Precision is ill-defined and being set to 0.0 due to no predicted samples. Use `zero_division` parameter to control this behavior.\n",
      "  _warn_prf(average, modifier, msg_start, len(result))\n"
     ]
    },
    {
     "name": "stdout",
     "output_type": "stream",
     "text": [
      "finished 147 from 255 commits\n",
      "finished 148 from 255 commits\n",
      "finished 149 from 255 commits\n",
      "finished 150 from 255 commits\n",
      "finished 151 from 255 commits\n",
      "finished 152 from 255 commits\n",
      "finished 153 from 255 commits\n",
      "finished 154 from 255 commits\n"
     ]
    },
    {
     "name": "stderr",
     "output_type": "stream",
     "text": [
      "/home/oathaha/.conda/envs/env_oat/lib/python3.9/site-packages/sklearn/metrics/_classification.py:1245: UndefinedMetricWarning: Precision is ill-defined and being set to 0.0 due to no predicted samples. Use `zero_division` parameter to control this behavior.\n",
      "  _warn_prf(average, modifier, msg_start, len(result))\n"
     ]
    },
    {
     "name": "stdout",
     "output_type": "stream",
     "text": [
      "finished 155 from 255 commits\n"
     ]
    },
    {
     "name": "stderr",
     "output_type": "stream",
     "text": [
      "/home/oathaha/.conda/envs/env_oat/lib/python3.9/site-packages/sklearn/metrics/_classification.py:1245: UndefinedMetricWarning: Precision is ill-defined and being set to 0.0 due to no predicted samples. Use `zero_division` parameter to control this behavior.\n",
      "  _warn_prf(average, modifier, msg_start, len(result))\n"
     ]
    },
    {
     "name": "stdout",
     "output_type": "stream",
     "text": [
      "finished 156 from 255 commits\n",
      "finished 157 from 255 commits\n",
      "finished 158 from 255 commits\n",
      "finished 159 from 255 commits\n",
      "finished 160 from 255 commits\n",
      "finished 161 from 255 commits\n",
      "finished 162 from 255 commits\n",
      "finished 163 from 255 commits\n",
      "finished 164 from 255 commits\n",
      "finished 165 from 255 commits\n"
     ]
    },
    {
     "name": "stderr",
     "output_type": "stream",
     "text": [
      "/home/oathaha/.conda/envs/env_oat/lib/python3.9/site-packages/sklearn/metrics/_classification.py:1245: UndefinedMetricWarning: Precision is ill-defined and being set to 0.0 due to no predicted samples. Use `zero_division` parameter to control this behavior.\n",
      "  _warn_prf(average, modifier, msg_start, len(result))\n"
     ]
    },
    {
     "name": "stdout",
     "output_type": "stream",
     "text": [
      "finished 166 from 255 commits\n"
     ]
    },
    {
     "name": "stderr",
     "output_type": "stream",
     "text": [
      "/home/oathaha/.conda/envs/env_oat/lib/python3.9/site-packages/sklearn/metrics/_classification.py:1245: UndefinedMetricWarning: Precision is ill-defined and being set to 0.0 due to no predicted samples. Use `zero_division` parameter to control this behavior.\n",
      "  _warn_prf(average, modifier, msg_start, len(result))\n"
     ]
    },
    {
     "name": "stdout",
     "output_type": "stream",
     "text": [
      "finished 167 from 255 commits\n",
      "finished 168 from 255 commits\n",
      "finished 169 from 255 commits\n",
      "finished 170 from 255 commits\n",
      "finished 171 from 255 commits\n",
      "finished 172 from 255 commits\n",
      "finished 173 from 255 commits\n",
      "finished 174 from 255 commits\n",
      "finished 175 from 255 commits\n",
      "finished 176 from 255 commits\n",
      "finished 177 from 255 commits\n",
      "finished 178 from 255 commits\n",
      "finished 179 from 255 commits\n",
      "finished 180 from 255 commits\n",
      "finished 181 from 255 commits\n",
      "finished 182 from 255 commits\n",
      "finished 183 from 255 commits\n",
      "finished 184 from 255 commits\n",
      "finished 185 from 255 commits\n",
      "finished 186 from 255 commits\n",
      "finished 187 from 255 commits\n",
      "finished 188 from 255 commits\n",
      "finished 189 from 255 commits\n",
      "finished 190 from 255 commits\n"
     ]
    },
    {
     "name": "stderr",
     "output_type": "stream",
     "text": [
      "/home/oathaha/.conda/envs/env_oat/lib/python3.9/site-packages/sklearn/metrics/_classification.py:1245: UndefinedMetricWarning: Precision is ill-defined and being set to 0.0 due to no predicted samples. Use `zero_division` parameter to control this behavior.\n",
      "  _warn_prf(average, modifier, msg_start, len(result))\n"
     ]
    },
    {
     "name": "stdout",
     "output_type": "stream",
     "text": [
      "finished 191 from 255 commits\n"
     ]
    },
    {
     "name": "stderr",
     "output_type": "stream",
     "text": [
      "/home/oathaha/.conda/envs/env_oat/lib/python3.9/site-packages/sklearn/metrics/_classification.py:1245: UndefinedMetricWarning: Precision is ill-defined and being set to 0.0 due to no predicted samples. Use `zero_division` parameter to control this behavior.\n",
      "  _warn_prf(average, modifier, msg_start, len(result))\n"
     ]
    },
    {
     "name": "stdout",
     "output_type": "stream",
     "text": [
      "finished 192 from 255 commits\n",
      "finished 193 from 255 commits\n",
      "finished 194 from 255 commits\n"
     ]
    },
    {
     "name": "stderr",
     "output_type": "stream",
     "text": [
      "/home/oathaha/.conda/envs/env_oat/lib/python3.9/site-packages/sklearn/metrics/_classification.py:1245: UndefinedMetricWarning: Precision is ill-defined and being set to 0.0 due to no predicted samples. Use `zero_division` parameter to control this behavior.\n",
      "  _warn_prf(average, modifier, msg_start, len(result))\n"
     ]
    },
    {
     "name": "stdout",
     "output_type": "stream",
     "text": [
      "finished 195 from 255 commits\n"
     ]
    },
    {
     "name": "stderr",
     "output_type": "stream",
     "text": [
      "/home/oathaha/.conda/envs/env_oat/lib/python3.9/site-packages/sklearn/metrics/_classification.py:1245: UndefinedMetricWarning: Precision is ill-defined and being set to 0.0 due to no predicted samples. Use `zero_division` parameter to control this behavior.\n",
      "  _warn_prf(average, modifier, msg_start, len(result))\n"
     ]
    },
    {
     "name": "stdout",
     "output_type": "stream",
     "text": [
      "finished 196 from 255 commits\n",
      "finished 197 from 255 commits\n"
     ]
    },
    {
     "name": "stderr",
     "output_type": "stream",
     "text": [
      "/home/oathaha/.conda/envs/env_oat/lib/python3.9/site-packages/sklearn/metrics/_classification.py:1245: UndefinedMetricWarning: Precision is ill-defined and being set to 0.0 due to no predicted samples. Use `zero_division` parameter to control this behavior.\n",
      "  _warn_prf(average, modifier, msg_start, len(result))\n"
     ]
    },
    {
     "name": "stdout",
     "output_type": "stream",
     "text": [
      "finished 198 from 255 commits\n"
     ]
    },
    {
     "name": "stderr",
     "output_type": "stream",
     "text": [
      "/home/oathaha/.conda/envs/env_oat/lib/python3.9/site-packages/sklearn/metrics/_classification.py:1245: UndefinedMetricWarning: Precision is ill-defined and being set to 0.0 due to no predicted samples. Use `zero_division` parameter to control this behavior.\n",
      "  _warn_prf(average, modifier, msg_start, len(result))\n"
     ]
    },
    {
     "name": "stdout",
     "output_type": "stream",
     "text": [
      "finished 199 from 255 commits\n",
      "finished 200 from 255 commits\n",
      "finished 201 from 255 commits\n"
     ]
    },
    {
     "name": "stderr",
     "output_type": "stream",
     "text": [
      "/home/oathaha/.conda/envs/env_oat/lib/python3.9/site-packages/sklearn/metrics/_classification.py:1245: UndefinedMetricWarning: Precision is ill-defined and being set to 0.0 due to no predicted samples. Use `zero_division` parameter to control this behavior.\n",
      "  _warn_prf(average, modifier, msg_start, len(result))\n"
     ]
    },
    {
     "name": "stdout",
     "output_type": "stream",
     "text": [
      "finished 202 from 255 commits\n"
     ]
    },
    {
     "name": "stderr",
     "output_type": "stream",
     "text": [
      "/home/oathaha/.conda/envs/env_oat/lib/python3.9/site-packages/sklearn/metrics/_classification.py:1245: UndefinedMetricWarning: Precision is ill-defined and being set to 0.0 due to no predicted samples. Use `zero_division` parameter to control this behavior.\n",
      "  _warn_prf(average, modifier, msg_start, len(result))\n"
     ]
    },
    {
     "name": "stdout",
     "output_type": "stream",
     "text": [
      "finished 203 from 255 commits\n",
      "finished 204 from 255 commits\n"
     ]
    },
    {
     "name": "stderr",
     "output_type": "stream",
     "text": [
      "/home/oathaha/.conda/envs/env_oat/lib/python3.9/site-packages/sklearn/metrics/_classification.py:1245: UndefinedMetricWarning: Precision is ill-defined and being set to 0.0 due to no predicted samples. Use `zero_division` parameter to control this behavior.\n",
      "  _warn_prf(average, modifier, msg_start, len(result))\n"
     ]
    },
    {
     "name": "stdout",
     "output_type": "stream",
     "text": [
      "finished 205 from 255 commits\n"
     ]
    },
    {
     "name": "stderr",
     "output_type": "stream",
     "text": [
      "/home/oathaha/.conda/envs/env_oat/lib/python3.9/site-packages/sklearn/metrics/_classification.py:1245: UndefinedMetricWarning: Precision is ill-defined and being set to 0.0 due to no predicted samples. Use `zero_division` parameter to control this behavior.\n",
      "  _warn_prf(average, modifier, msg_start, len(result))\n"
     ]
    },
    {
     "name": "stdout",
     "output_type": "stream",
     "text": [
      "finished 206 from 255 commits\n",
      "finished 207 from 255 commits\n",
      "finished 208 from 255 commits\n",
      "finished 209 from 255 commits\n",
      "finished 210 from 255 commits\n"
     ]
    },
    {
     "name": "stderr",
     "output_type": "stream",
     "text": [
      "/home/oathaha/.conda/envs/env_oat/lib/python3.9/site-packages/sklearn/metrics/_classification.py:1245: UndefinedMetricWarning: Precision is ill-defined and being set to 0.0 due to no predicted samples. Use `zero_division` parameter to control this behavior.\n",
      "  _warn_prf(average, modifier, msg_start, len(result))\n"
     ]
    },
    {
     "name": "stdout",
     "output_type": "stream",
     "text": [
      "finished 211 from 255 commits\n",
      "finished 212 from 255 commits\n",
      "finished 213 from 255 commits\n",
      "finished 214 from 255 commits\n",
      "finished 215 from 255 commits\n"
     ]
    },
    {
     "name": "stderr",
     "output_type": "stream",
     "text": [
      "/home/oathaha/.conda/envs/env_oat/lib/python3.9/site-packages/sklearn/metrics/_classification.py:1245: UndefinedMetricWarning: Precision is ill-defined and being set to 0.0 due to no predicted samples. Use `zero_division` parameter to control this behavior.\n",
      "  _warn_prf(average, modifier, msg_start, len(result))\n"
     ]
    },
    {
     "name": "stdout",
     "output_type": "stream",
     "text": [
      "finished 216 from 255 commits\n"
     ]
    },
    {
     "name": "stderr",
     "output_type": "stream",
     "text": [
      "/home/oathaha/.conda/envs/env_oat/lib/python3.9/site-packages/sklearn/metrics/_classification.py:1245: UndefinedMetricWarning: Precision is ill-defined and being set to 0.0 due to no predicted samples. Use `zero_division` parameter to control this behavior.\n",
      "  _warn_prf(average, modifier, msg_start, len(result))\n"
     ]
    },
    {
     "name": "stdout",
     "output_type": "stream",
     "text": [
      "finished 217 from 255 commits\n"
     ]
    },
    {
     "name": "stderr",
     "output_type": "stream",
     "text": [
      "/home/oathaha/.conda/envs/env_oat/lib/python3.9/site-packages/sklearn/metrics/_classification.py:1245: UndefinedMetricWarning: Precision is ill-defined and being set to 0.0 due to no predicted samples. Use `zero_division` parameter to control this behavior.\n",
      "  _warn_prf(average, modifier, msg_start, len(result))\n"
     ]
    },
    {
     "name": "stdout",
     "output_type": "stream",
     "text": [
      "finished 218 from 255 commits\n",
      "finished 219 from 255 commits\n"
     ]
    },
    {
     "name": "stderr",
     "output_type": "stream",
     "text": [
      "/home/oathaha/.conda/envs/env_oat/lib/python3.9/site-packages/sklearn/metrics/_classification.py:1245: UndefinedMetricWarning: Precision is ill-defined and being set to 0.0 due to no predicted samples. Use `zero_division` parameter to control this behavior.\n",
      "  _warn_prf(average, modifier, msg_start, len(result))\n"
     ]
    },
    {
     "name": "stdout",
     "output_type": "stream",
     "text": [
      "finished 220 from 255 commits\n",
      "finished 221 from 255 commits\n"
     ]
    },
    {
     "name": "stderr",
     "output_type": "stream",
     "text": [
      "/home/oathaha/.conda/envs/env_oat/lib/python3.9/site-packages/sklearn/metrics/_classification.py:1245: UndefinedMetricWarning: Precision is ill-defined and being set to 0.0 due to no predicted samples. Use `zero_division` parameter to control this behavior.\n",
      "  _warn_prf(average, modifier, msg_start, len(result))\n"
     ]
    },
    {
     "name": "stdout",
     "output_type": "stream",
     "text": [
      "finished 222 from 255 commits\n"
     ]
    },
    {
     "name": "stderr",
     "output_type": "stream",
     "text": [
      "/home/oathaha/.conda/envs/env_oat/lib/python3.9/site-packages/sklearn/metrics/_classification.py:1245: UndefinedMetricWarning: Precision is ill-defined and being set to 0.0 due to no predicted samples. Use `zero_division` parameter to control this behavior.\n",
      "  _warn_prf(average, modifier, msg_start, len(result))\n"
     ]
    },
    {
     "name": "stdout",
     "output_type": "stream",
     "text": [
      "finished 223 from 255 commits\n",
      "finished 224 from 255 commits\n",
      "finished 225 from 255 commits\n",
      "finished 226 from 255 commits\n"
     ]
    },
    {
     "name": "stderr",
     "output_type": "stream",
     "text": [
      "/home/oathaha/.conda/envs/env_oat/lib/python3.9/site-packages/sklearn/metrics/_classification.py:1245: UndefinedMetricWarning: Precision is ill-defined and being set to 0.0 due to no predicted samples. Use `zero_division` parameter to control this behavior.\n",
      "  _warn_prf(average, modifier, msg_start, len(result))\n"
     ]
    },
    {
     "name": "stdout",
     "output_type": "stream",
     "text": [
      "finished 227 from 255 commits\n",
      "finished 228 from 255 commits\n",
      "finished 229 from 255 commits\n",
      "finished 230 from 255 commits\n",
      "finished 231 from 255 commits\n"
     ]
    },
    {
     "name": "stderr",
     "output_type": "stream",
     "text": [
      "/home/oathaha/.conda/envs/env_oat/lib/python3.9/site-packages/sklearn/metrics/_classification.py:1245: UndefinedMetricWarning: Precision is ill-defined and being set to 0.0 due to no predicted samples. Use `zero_division` parameter to control this behavior.\n",
      "  _warn_prf(average, modifier, msg_start, len(result))\n"
     ]
    },
    {
     "name": "stdout",
     "output_type": "stream",
     "text": [
      "finished 232 from 255 commits\n"
     ]
    },
    {
     "name": "stderr",
     "output_type": "stream",
     "text": [
      "/home/oathaha/.conda/envs/env_oat/lib/python3.9/site-packages/sklearn/metrics/_classification.py:1245: UndefinedMetricWarning: Precision is ill-defined and being set to 0.0 due to no predicted samples. Use `zero_division` parameter to control this behavior.\n",
      "  _warn_prf(average, modifier, msg_start, len(result))\n"
     ]
    },
    {
     "name": "stdout",
     "output_type": "stream",
     "text": [
      "finished 233 from 255 commits\n",
      "finished 234 from 255 commits\n",
      "finished 235 from 255 commits\n",
      "finished 236 from 255 commits\n",
      "finished 237 from 255 commits\n",
      "finished 238 from 255 commits\n",
      "finished 239 from 255 commits\n",
      "finished 240 from 255 commits\n",
      "finished 241 from 255 commits\n",
      "finished 242 from 255 commits\n",
      "finished 243 from 255 commits\n",
      "finished 244 from 255 commits\n",
      "finished 245 from 255 commits\n",
      "finished 246 from 255 commits\n",
      "finished 247 from 255 commits\n"
     ]
    },
    {
     "name": "stderr",
     "output_type": "stream",
     "text": [
      "/home/oathaha/.conda/envs/env_oat/lib/python3.9/site-packages/sklearn/metrics/_classification.py:1245: UndefinedMetricWarning: Precision is ill-defined and being set to 0.0 due to no predicted samples. Use `zero_division` parameter to control this behavior.\n",
      "  _warn_prf(average, modifier, msg_start, len(result))\n"
     ]
    },
    {
     "name": "stdout",
     "output_type": "stream",
     "text": [
      "finished 248 from 255 commits\n",
      "finished 249 from 255 commits\n",
      "finished 250 from 255 commits\n"
     ]
    },
    {
     "name": "stderr",
     "output_type": "stream",
     "text": [
      "/home/oathaha/.conda/envs/env_oat/lib/python3.9/site-packages/sklearn/metrics/_classification.py:1245: UndefinedMetricWarning: Precision is ill-defined and being set to 0.0 due to no predicted samples. Use `zero_division` parameter to control this behavior.\n",
      "  _warn_prf(average, modifier, msg_start, len(result))\n"
     ]
    },
    {
     "name": "stdout",
     "output_type": "stream",
     "text": [
      "finished 251 from 255 commits\n"
     ]
    },
    {
     "name": "stderr",
     "output_type": "stream",
     "text": [
      "/home/oathaha/.conda/envs/env_oat/lib/python3.9/site-packages/sklearn/metrics/_classification.py:1245: UndefinedMetricWarning: Precision is ill-defined and being set to 0.0 due to no predicted samples. Use `zero_division` parameter to control this behavior.\n",
      "  _warn_prf(average, modifier, msg_start, len(result))\n"
     ]
    },
    {
     "name": "stdout",
     "output_type": "stream",
     "text": [
      "finished 252 from 255 commits\n"
     ]
    },
    {
     "name": "stderr",
     "output_type": "stream",
     "text": [
      "/home/oathaha/.conda/envs/env_oat/lib/python3.9/site-packages/sklearn/metrics/_classification.py:1245: UndefinedMetricWarning: Precision is ill-defined and being set to 0.0 due to no predicted samples. Use `zero_division` parameter to control this behavior.\n",
      "  _warn_prf(average, modifier, msg_start, len(result))\n"
     ]
    },
    {
     "name": "stdout",
     "output_type": "stream",
     "text": [
      "finished 253 from 255 commits\n",
      "finished 254 from 255 commits\n",
      "finished 255 from 255 commits\n",
      "finished RQ3 of qt\n",
      "finished in 604.1838369369507 secs\n"
     ]
    }
   ],
   "source": [
    "start = time.time()\n",
    "print('openstack')\n",
    "rq3_eval('openstack','LR')\n",
    "end = time.time()\n",
    "print('finished in',str(end-start), 'secs')\n",
    "\n",
    "start = time.time()\n",
    "print('qt')\n",
    "rq3_eval('qt','LR')\n",
    "end = time.time()\n",
    "print('finished in',str(end-start), 'secs')"
   ]
  },
  {
   "cell_type": "code",
   "execution_count": 138,
   "metadata": {},
   "outputs": [
    {
     "data": {
      "image/png": "[encoded data removed]",
      "text/plain": [
       "<Figure size 576x576 with 4 Axes>"
      ]
     },
     "metadata": {
      "needs_background": "light"
     },
     "output_type": "display_data"
    },
    {
     "data": {
      "text/html": [
       "<div>\n",
       "<style scoped>\n",
       "    .dataframe tbody tr th:only-of-type {\n",
       "        vertical-align: middle;\n",
       "    }\n",
       "\n",
       "    .dataframe tbody tr th {\n",
       "        vertical-align: top;\n",
       "    }\n",
       "\n",
       "    .dataframe thead tr th {\n",
       "        text-align: left;\n",
       "    }\n",
       "\n",
       "    .dataframe thead tr:last-of-type th {\n",
       "        text-align: right;\n",
       "    }\n",
       "</style>\n",
       "<table border=\"1\" class=\"dataframe\">\n",
       "  <thead>\n",
       "    <tr>\n",
       "      <th></th>\n",
       "      <th></th>\n",
       "      <th colspan=\"8\" halign=\"left\">true_positive_rate</th>\n",
       "      <th colspan=\"8\" halign=\"left\">true_negative_rate</th>\n",
       "    </tr>\n",
       "    <tr>\n",
       "      <th></th>\n",
       "      <th></th>\n",
       "      <th>count</th>\n",
       "      <th>mean</th>\n",
       "      <th>std</th>\n",
       "      <th>min</th>\n",
       "      <th>25%</th>\n",
       "      <th>50%</th>\n",
       "      <th>75%</th>\n",
       "      <th>max</th>\n",
       "      <th>count</th>\n",
       "      <th>mean</th>\n",
       "      <th>std</th>\n",
       "      <th>min</th>\n",
       "      <th>25%</th>\n",
       "      <th>50%</th>\n",
       "      <th>75%</th>\n",
       "      <th>max</th>\n",
       "    </tr>\n",
       "    <tr>\n",
       "      <th>project</th>\n",
       "      <th>method</th>\n",
       "      <th></th>\n",
       "      <th></th>\n",
       "      <th></th>\n",
       "      <th></th>\n",
       "      <th></th>\n",
       "      <th></th>\n",
       "      <th></th>\n",
       "      <th></th>\n",
       "      <th></th>\n",
       "      <th></th>\n",
       "      <th></th>\n",
       "      <th></th>\n",
       "      <th></th>\n",
       "      <th></th>\n",
       "      <th></th>\n",
       "      <th></th>\n",
       "    </tr>\n",
       "  </thead>\n",
       "  <tbody>\n",
       "    <tr>\n",
       "      <th rowspan=\"2\" valign=\"top\">openstack</th>\n",
       "      <th>LIME</th>\n",
       "      <td>574.0</td>\n",
       "      <td>0.215297</td>\n",
       "      <td>0.114627</td>\n",
       "      <td>0.110039</td>\n",
       "      <td>0.172445</td>\n",
       "      <td>0.172445</td>\n",
       "      <td>0.172445</td>\n",
       "      <td>0.939102</td>\n",
       "      <td>574.0</td>\n",
       "      <td>0.466589</td>\n",
       "      <td>0.091547</td>\n",
       "      <td>0.030960</td>\n",
       "      <td>0.459752</td>\n",
       "      <td>0.459752</td>\n",
       "      <td>0.459752</td>\n",
       "      <td>0.955108</td>\n",
       "    </tr>\n",
       "    <tr>\n",
       "      <th>pyExplainer</th>\n",
       "      <td>315.0</td>\n",
       "      <td>0.847725</td>\n",
       "      <td>0.229316</td>\n",
       "      <td>0.023515</td>\n",
       "      <td>0.802382</td>\n",
       "      <td>0.951161</td>\n",
       "      <td>1.000000</td>\n",
       "      <td>1.000000</td>\n",
       "      <td>315.0</td>\n",
       "      <td>0.110910</td>\n",
       "      <td>0.194727</td>\n",
       "      <td>0.000000</td>\n",
       "      <td>0.000000</td>\n",
       "      <td>0.020124</td>\n",
       "      <td>0.108359</td>\n",
       "      <td>0.911765</td>\n",
       "    </tr>\n",
       "    <tr>\n",
       "      <th rowspan=\"2\" valign=\"top\">qt</th>\n",
       "      <th>LIME</th>\n",
       "      <td>302.0</td>\n",
       "      <td>0.222058</td>\n",
       "      <td>0.045656</td>\n",
       "      <td>0.020254</td>\n",
       "      <td>0.204461</td>\n",
       "      <td>0.204461</td>\n",
       "      <td>0.204461</td>\n",
       "      <td>0.371106</td>\n",
       "      <td>302.0</td>\n",
       "      <td>0.517078</td>\n",
       "      <td>0.158299</td>\n",
       "      <td>0.430672</td>\n",
       "      <td>0.436975</td>\n",
       "      <td>0.436975</td>\n",
       "      <td>0.436975</td>\n",
       "      <td>0.953782</td>\n",
       "    </tr>\n",
       "    <tr>\n",
       "      <th>pyExplainer</th>\n",
       "      <td>191.0</td>\n",
       "      <td>0.829622</td>\n",
       "      <td>0.261291</td>\n",
       "      <td>0.008845</td>\n",
       "      <td>0.774196</td>\n",
       "      <td>0.968850</td>\n",
       "      <td>1.000000</td>\n",
       "      <td>1.000000</td>\n",
       "      <td>191.0</td>\n",
       "      <td>0.132188</td>\n",
       "      <td>0.231737</td>\n",
       "      <td>0.000000</td>\n",
       "      <td>0.000000</td>\n",
       "      <td>0.016807</td>\n",
       "      <td>0.132353</td>\n",
       "      <td>0.970588</td>\n",
       "    </tr>\n",
       "  </tbody>\n",
       "</table>\n",
       "</div>"
      ],
      "text/plain": [
       "                      true_positive_rate                                \\\n",
       "                                   count      mean       std       min   \n",
       "project   method                                                         \n",
       "openstack LIME                     574.0  0.215297  0.114627  0.110039   \n",
       "          pyExplainer              315.0  0.847725  0.229316  0.023515   \n",
       "qt        LIME                     302.0  0.222058  0.045656  0.020254   \n",
       "          pyExplainer              191.0  0.829622  0.261291  0.008845   \n",
       "\n",
       "                                                               \\\n",
       "                            25%       50%       75%       max   \n",
       "project   method                                                \n",
       "openstack LIME         0.172445  0.172445  0.172445  0.939102   \n",
       "          pyExplainer  0.802382  0.951161  1.000000  1.000000   \n",
       "qt        LIME         0.204461  0.204461  0.204461  0.371106   \n",
       "          pyExplainer  0.774196  0.968850  1.000000  1.000000   \n",
       "\n",
       "                      true_negative_rate                                \\\n",
       "                                   count      mean       std       min   \n",
       "project   method                                                         \n",
       "openstack LIME                     574.0  0.466589  0.091547  0.030960   \n",
       "          pyExplainer              315.0  0.110910  0.194727  0.000000   \n",
       "qt        LIME                     302.0  0.517078  0.158299  0.430672   \n",
       "          pyExplainer              191.0  0.132188  0.231737  0.000000   \n",
       "\n",
       "                                                               \n",
       "                            25%       50%       75%       max  \n",
       "project   method                                               \n",
       "openstack LIME         0.459752  0.459752  0.459752  0.955108  \n",
       "          pyExplainer  0.000000  0.020124  0.108359  0.911765  \n",
       "qt        LIME         0.436975  0.436975  0.436975  0.953782  \n",
       "          pyExplainer  0.000000  0.016807  0.132353  0.970588  "
      ]
     },
     "metadata": {},
     "output_type": "display_data"
    }
   ],
   "source": [
    "show_rq3_eval_result()"
   ]
  }
 ],
 "metadata": {
  "kernelspec": {
   "display_name": "Python_Oat",
   "language": "python",
   "name": "env_oat"
  },
  "language_info": {
   "codemirror_mode": {
    "name": "ipython",
    "version": 3
   },
   "file_extension": ".py",
   "mimetype": "text/x-python",
   "name": "python",
   "nbconvert_exporter": "python",
   "pygments_lexer": "ipython3",
   "version": "3.9.2"
  },
  "varInspector": {
   "cols": {
    "lenName": 16,
    "lenType": 16,
    "lenVar": 40
   },
   "kernels_config": {
    "python": {
     "delete_cmd_postfix": "",
     "delete_cmd_prefix": "del ",
     "library": "var_list.py",
     "varRefreshCmd": "print(var_dic_list())"
    },
    "r": {
     "delete_cmd_postfix": ") ",
     "delete_cmd_prefix": "rm(",
     "library": "var_list.r",
     "varRefreshCmd": "cat(var_dic_list()) "
    }
   },
   "types_to_exclude": [
    "module",
    "function",
    "builtin_function_or_method",
    "instance",
    "_Feature"
   ],
   "window_display": false
  }
 },
 "nbformat": 4,
 "nbformat_minor": 4
}
