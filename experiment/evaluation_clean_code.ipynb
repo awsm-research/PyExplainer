{
 "cells": [
  {
   "cell_type": "code",
   "execution_count": 295,
   "metadata": {},
   "outputs": [],
   "source": [
    "from sklearn.ensemble import RandomForestClassifier\n",
    "from sklearn.metrics.pairwise import cosine_similarity, euclidean_distances\n",
    "from sklearn.metrics import r2_score, precision_recall_fscore_support, balanced_accuracy_score\n",
    "\n",
    "import pandas as pd\n",
    "import numpy as np\n",
    "import seaborn as sns\n",
    "\n",
    "from my_util import *\n",
    "from lime.lime.lime_tabular import LimeTabularExplainer\n",
    "\n",
    "# from pyexplainer.pyexplainer_pyexplainer import PyExplainer\n",
    "import matplotlib.pyplot as plt\n",
    "\n",
    "import os, pickle, time, re, sys\n",
    "from datetime import datetime\n",
    "from collections import Counter\n",
    "\n",
    "\n",
    "sys.path.append(os.path.abspath('../pyexplainer'))\n",
    "from pyexplainer_pyexplainer import *\n"
   ]
  },
  {
   "cell_type": "code",
   "execution_count": 167,
   "metadata": {},
   "outputs": [],
   "source": [
    "data_path = './dataset/'\n",
    "result_dir = './eval_result/'\n",
    "dump_dataframe_dir = './dump_df/'\n",
    "pyExp_dir = './pyExplainer_obj/'\n",
    "other_object_dir = './other_object/'\n",
    "# proj_name = 'qt' # ['openstack','qt']"
   ]
  },
  {
   "cell_type": "code",
   "execution_count": 201,
   "metadata": {},
   "outputs": [],
   "source": [
    "def get_top_k_global_features(global_model, indep, top_k_global_feature_num = 5):\n",
    "    global_feature_df = pd.DataFrame()\n",
    "    global_feature_df['feature'] = indep\n",
    "    global_feature_df['importance'] = global_model.feature_importances_\n",
    "\n",
    "    global_feature_df = global_feature_df.sort_values(by='importance',ascending=False)\n",
    "\n",
    "    top_k_global_features = list(global_feature_df['feature'])[:top_k_global_feature_num]\n",
    "\n",
    "    return top_k_global_features\n",
    "    \n",
    "def get_rule_str_of_rulefit(local_rulefit_model):\n",
    "    rule_df = local_rulefit_model.get_rules()\n",
    "    top_k = 5\n",
    "    top_k_positive_rules = rule_df[(rule_df.coef > 0) & (rule_df.type=='rule')].sort_values(\"importance\", ascending=False).head(top_k)\n",
    "\n",
    "    the_best_defective_rule_str = list(top_k_positive_rules['rule'])[0]\n",
    "    \n",
    "    return the_best_defective_rule_str\n",
    "\n",
    "def aggregate_list(l):\n",
    "    return np.mean(l), np.median(l)\n"
   ]
  },
  {
   "cell_type": "code",
   "execution_count": 291,
   "metadata": {
    "scrolled": true
   },
   "outputs": [],
   "source": [
    "# '''\n",
    "#     synthetic_inst1: generated instance used with global model\n",
    "#     synthetic_inst2: generated instance used with local model\n",
    "#     global_model, local_model: any sklearn ML model or ML model that is extended from ML model\n",
    "# '''\n",
    "# def cal_bal_acc(synthetic_inst1, synthetic_inst2, global_model, local_model):\n",
    "#     global_pred = global_model.predict(synthetic_inst1)\n",
    "#     local_pred = local_model.predict(synthetic_inst2)\n",
    "    \n",
    "#     # in case prediction of local model is not binary \n",
    "#     if set(local_pred) != set([True, False]):\n",
    "#         local_pred = np.round(local_pred)\n",
    "#         local_pred = [True if val else False for val in local_pred]\n",
    "        \n",
    "#     bal_acc = balanced_accuracy_score(global_pred, local_pred)\n",
    "#     return bal_acc\n",
    "    \n",
    "# def cal_r2_score(synthetic_inst1, synthetic_inst2, global_model, local_model):\n",
    "#     global_pred = global_model.predict(synthetic_inst1)\n",
    "#     local_pred = local_model.predict(synthetic_inst2)\n",
    "    \n",
    "#     global_pred = [1 if val else 0 for val in global_pred]\n",
    "#     # in case prediction of local model is not binary \n",
    "#     if set(local_pred) != set([1, 0]):\n",
    "#         local_pred = np.round(local_pred)\n",
    "#         local_pred = [1 if val else 0 for val in local_pred]\n",
    "        \n",
    "#     r2_scr = r2_score(global_pred, local_pred)\n",
    "#     return r2_scr\n",
    "\n",
    "def is_in_top_k_global_features(top_k_global_features, the_best_defective_rule_str):\n",
    "    # remove numeric value\n",
    "    new_the_best_defective_rule_str = re.sub('\\d+','', the_best_defective_rule_str)\n",
    "\n",
    "    # remove special characters\n",
    "    new_the_best_defective_rule_str = re.sub('\\W+',' ',new_the_best_defective_rule_str)\n",
    "    splitted_rule = new_the_best_defective_rule_str.split()\n",
    "\n",
    "#     ret = False\n",
    "    local_feature_count = 0\n",
    "    \n",
    "    found_features = set(splitted_rule).intersection(top_k_global_features)\n",
    "#     for tok in splitted_rule:\n",
    "#         if tok.strip() in top_k_global_features:\n",
    "#             found_features.append(tok)\n",
    "#             ret = True\n",
    "#             break\n",
    "#             local_feature_count = local_feature_count+1\n",
    "#     local_feature_ratio = local_feature_count/len(splitted_rule)\n",
    "#     return ret\n",
    "#     return local_feature_ratio\n",
    "    return list(found_features)\n",
    "\n",
    "def eval_rule(rule, X_explain):\n",
    "    var_in_rule = re.findall('[a-zA-Z]+',rule)\n",
    "    rule = rule.replace('&','and') # just for rulefit\n",
    "    rule = re.sub(r'\\b=\\b','==',rule)\n",
    "#             rule = rule.replace('=','==')\n",
    "\n",
    "    var_dict = {}\n",
    "\n",
    "    for var in var_in_rule:\n",
    "        var_dict[var] = float(X_explain[var])\n",
    "\n",
    "    eval_result = eval(rule,var_dict)\n",
    "    return eval_result\n",
    "        \n",
    "def eval_local_model(proj_name):\n",
    "    global_model = pickle.load(open(proj_name+'_global_model.pkl','rb'))\n",
    "\n",
    "    correctly_predict_df = pd.read_csv(dump_dataframe_dir+proj_name+'_correctly_predict_as_defective.csv')\n",
    "    correctly_predict_df = correctly_predict_df.set_index('commit_id')\n",
    "\n",
    "    dep = 'defect'\n",
    "    indep = correctly_predict_df.columns[:-3] # exclude the last 3 columns\n",
    "\n",
    "    feature_df = correctly_predict_df.loc[:, indep]\n",
    "\n",
    "    top_k_global_features = get_top_k_global_features(global_model, indep)\n",
    "    print('top-k global features:',top_k_global_features)\n",
    "    total_top_k_global_features = len(top_k_global_features)\n",
    "\n",
    "    py_exp_is_in_top_k_global_features_count = 0\n",
    "    lime_exp_is_in_top_k_global_features_count = 0\n",
    "\n",
    "    # project, commit id , method, euc_dist_mean, euc_dist_med, defective_generated_instance_ratio\n",
    "    # bal_acc, r2_score\n",
    "\n",
    "    # one dataframe for every RQ and every METHOD !!!!\n",
    "    all_eval_result = pd.DataFrame()\n",
    "\n",
    "    py_exp_found_global_features = []\n",
    "    lime_found_global_features = []\n",
    "    \n",
    "    py_exp_rule_count = 0\n",
    "    lime_rule_count = 0\n",
    "    \n",
    "    for i in range(0,len(feature_df)):\n",
    "        X_explain = feature_df.iloc[[i]]\n",
    "    #     y_explain = test_label.iloc[[i]]\n",
    "\n",
    "        row_index = str(X_explain.index[0])\n",
    "\n",
    "        py_exp = pickle.load(open(pyExp_dir+proj_name+'_rulefit_crossoverinterpolation_'+row_index+'.pkl','rb'))\n",
    "        lime_exp = pickle.load(open(pyExp_dir+proj_name+'_lime_'+row_index+'.pkl','rb'))\n",
    "\n",
    "        # this data can be used for both local and global model\n",
    "        py_exp_synthetic_data = py_exp['synthetic_data'].values\n",
    "        # this data can be used with global model only\n",
    "        lime_exp_synthetic_data = lime_exp['synthetic_instance_for_global_model'] \n",
    "        # this data can be used with lobal model only\n",
    "        lime_exp_synthetic_data_local = lime_exp['synthetic_instance_for_lobal_model']\n",
    "\n",
    "        py_exp_local_model = py_exp['local_model']\n",
    "        lime_exp_local_model = lime_exp['local_model']\n",
    "\n",
    "        # make a prediction for later use\n",
    "        py_exp_global_pred = global_model.predict(py_exp_synthetic_data)\n",
    "        py_exp_local_pred = py_exp_local_model.predict(py_exp_synthetic_data)\n",
    "        py_exp_local_pred = [1 if val else 0 for val in py_exp_local_pred]\n",
    "\n",
    "        lime_exp_global_pred = global_model.predict(lime_exp_synthetic_data)\n",
    "        lime_exp_local_pred = lime_exp_local_model.predict(lime_exp_synthetic_data_local)\n",
    "        lime_exp_local_pred = np.round(lime_exp_local_pred)\n",
    "\n",
    "\n",
    "#         # for RQ1 (single numeric value)\n",
    "#         py_exp_dist = euclidean_distances(X_explain.values, py_exp_synthetic_data)\n",
    "#         lime_dist = euclidean_distances(X_explain.values, lime_exp_synthetic_data)\n",
    "\n",
    "#         py_exp_dist_mean, py_exp_dist_med = aggregate_list(py_exp_dist)\n",
    "#         lime_exp_dist_mean, lime_exp_dist_med = aggregate_list(lime_dist)\n",
    "\n",
    "#         # for RQ1 (single numeric value)\n",
    "#         py_exp_def_pred_ratio = np.sum(py_exp_local_pred)/len(py_exp_local_pred)\n",
    "#         lime_exp_def_pred_ratio = np.sum(lime_exp_local_pred)/len(lime_exp_local_pred)\n",
    "\n",
    "#         # for RQ2 (single numeric value)\n",
    "#         py_exp_bal_acc = balanced_accuracy_score(py_exp_global_pred, py_exp_local_pred)\n",
    "#         lime_exp_bal_acc = balanced_accuracy_score(lime_exp_global_pred, lime_exp_local_pred)\n",
    "\n",
    "#         # for RQ3 (single numeric value)\n",
    "#         py_exp_r2_scr = r2_score(py_exp_global_pred, py_exp_local_pred)\n",
    "#         lime_exp_r2_scr = r2_score(lime_exp_global_pred, lime_exp_local_pred)\n",
    "\n",
    "        # for RQ4 (single numeric value)\n",
    "            \n",
    "        py_exp_the_best_defective_rule_str = get_rule_str_of_rulefit(py_exp_local_model)\n",
    "        lime_exp_the_best_defective_rule_str = lime_exp['rule'].as_list()[0][0]\n",
    "\n",
    "#         py_exp_eval = eval_rule(py_exp_the_best_defective_rule_str, X_explain)\n",
    "#         lime_eval = eval_rule(lime_exp_the_best_defective_rule_str, X_explain)\n",
    "        \n",
    "#         if py_exp_eval:\n",
    "#             py_exp_rule_count = py_exp_rule_count + 1\n",
    "#         if lime_eval:\n",
    "#             lime_rule_count = lime_rule_count + 1\n",
    "            \n",
    "#         if not py_exp_eval:\n",
    "#             print(py_exp_the_best_defective_rule_str)\n",
    "#             print(X_explain)\n",
    "#             print('-'*100)\n",
    "            \n",
    "#         print(py_exp_eval, lime_eval)\n",
    "        \n",
    "        py_exp_is_in_top_k_global_features = is_in_top_k_global_features(top_k_global_features, \n",
    "                                                                         py_exp_the_best_defective_rule_str)\n",
    "        lime_exp_is_in_top_k_global_features = is_in_top_k_global_features(top_k_global_features, \n",
    "                                                                           lime_exp_the_best_defective_rule_str)\n",
    "\n",
    "#         print(py_exp_is_in_top_k_global_features)\n",
    "#         print(lime_exp_is_in_top_k_global_features)\n",
    "        \n",
    "        if len(py_exp_is_in_top_k_global_features) > 0:\n",
    "            py_exp_is_in_top_k_global_features_count = py_exp_is_in_top_k_global_features_count+1\n",
    "        if len(lime_exp_is_in_top_k_global_features) > 0:\n",
    "            lime_exp_is_in_top_k_global_features_count = lime_exp_is_in_top_k_global_features_count+1\n",
    "        \n",
    "        py_exp_found_global_features.extend(py_exp_is_in_top_k_global_features)\n",
    "        lime_found_global_features.extend(lime_exp_is_in_top_k_global_features)\n",
    "        \n",
    "        py_exp_serie = pd.Series(data=[proj_name, row_index, 'crossover_interpolation',py_exp_dist_mean, \n",
    "                                       py_exp_dist_med, py_exp_def_pred_ratio, py_exp_bal_acc, \n",
    "                                       py_exp_r2_scr, py_exp_is_in_top_k_global_features])\n",
    "        lime_exp_serie = pd.Series(data=[proj_name, row_index, 'LIME', lime_exp_dist_mean, \n",
    "                                         lime_exp_dist_med, lime_exp_def_pred_ratio, lime_exp_bal_acc, \n",
    "                                         lime_exp_r2_scr, lime_exp_is_in_top_k_global_features])\n",
    "\n",
    "        all_eval_result = all_eval_result.append(py_exp_serie,ignore_index=True)\n",
    "        all_eval_result = all_eval_result.append(lime_exp_serie, ignore_index=True)\n",
    "\n",
    "#         print('finished',row_index)\n",
    "\n",
    "#         break\n",
    "        \n",
    "    py_exp_found_feature_count = Counter(py_exp_found_global_features)\n",
    "    lime_found_feature_count = Counter(lime_found_global_features)\n",
    "\n",
    "    print(py_exp_found_feature_count)\n",
    "    print(lime_found_feature_count)\n",
    "    \n",
    "    plt.figure()\n",
    "    plt.hist(py_exp_found_global_features)\n",
    "    plt.gca().set(title='Frequency Histogram of py_exp', ylabel='Frequency')\n",
    "    plt.show()\n",
    "    \n",
    "    plt.figure()\n",
    "    plt.hist(lime_found_global_features)\n",
    "    plt.gca().set(title='Frequency Histogram of LIME', ylabel='Frequency')\n",
    "    plt.show()\n",
    "    \n",
    "#     print(set(py_exp_found_global_features))\n",
    "#     print(set(lime_found_global_features))\n",
    "#     all_eval_result.columns=['project', 'commit id', 'method', 'euc_dist_mean', 'euc_dist_med', \n",
    "#                              'defective_generated_instance_ratio', 'bal_acc', 'r2_score', 'local_feature_ratio']\n",
    "\n",
    "#     all_eval_result.to_csv('./eval_result/'+proj_name+'_RQ1_RQ4_eval.csv',index=False)\n",
    "    \n",
    "#     print('finished evaluation')\n",
    "#     print('ratio of test instances of py_exp that their features in the rules appear in global feature', \n",
    "#           py_exp_is_in_top_k_global_features_count/len(feature_df))\n",
    "#     print('ratio of test instances of LIME that their features in the rules appear in global feature',\n",
    "#           lime_exp_is_in_top_k_global_features_count/len(feature_df))\n",
    "\n",
    "#     print(py_exp_rule_count, lime_rule_count)"
   ]
  },
  {
   "cell_type": "code",
   "execution_count": 292,
   "metadata": {},
   "outputs": [
    {
     "name": "stdout",
     "output_type": "stream",
     "text": [
      "top-k global features: ['ent', 'nrev', 'la', 'app', 'rtime']\n",
      "Counter({'nrev': 69, 'la': 61, 'ent': 56, 'app': 48, 'rtime': 34})\n",
      "Counter({'la': 171, 'ent': 22, 'nrev': 1})\n"
     ]
    },
    {
     "data": {
      "image/png": "[encoded data removed]",
      "text/plain": [
       "<Figure size 432x288 with 1 Axes>"
      ]
     },
     "metadata": {
      "needs_background": "light"
     },
     "output_type": "display_data"
    },
    {
     "data": {
      "image/png": "[encoded data removed]",
      "text/plain": [
       "<Figure size 432x288 with 1 Axes>"
      ]
     },
     "metadata": {
      "needs_background": "light"
     },
     "output_type": "display_data"
    }
   ],
   "source": [
    "eval_local_model('openstack')"
   ]
  },
  {
   "cell_type": "code",
   "execution_count": 293,
   "metadata": {
    "scrolled": false
   },
   "outputs": [
    {
     "name": "stdout",
     "output_type": "stream",
     "text": [
      "top-k global features: ['nrev', 'ent', 'la', 'ndev', 'hcmt']\n",
      "Counter({'la': 22, 'ent': 21, 'ndev': 16, 'nrev': 16, 'hcmt': 13})\n",
      "Counter({'la': 36, 'hcmt': 8, 'ent': 3})\n"
     ]
    },
    {
     "data": {
      "image/png": "[encoded data removed]",
      "text/plain": [
       "<Figure size 432x288 with 1 Axes>"
      ]
     },
     "metadata": {
      "needs_background": "light"
     },
     "output_type": "display_data"
    },
    {
     "data": {
      "image/png": "[encoded data removed]",
      "text/plain": [
       "<Figure size 432x288 with 1 Axes>"
      ]
     },
     "metadata": {
      "needs_background": "light"
     },
     "output_type": "display_data"
    }
   ],
   "source": [
    "# all_eval_result.columns=['project', 'commit id', 'method', 'euc_dist_mean', 'euc_dist_med', \n",
    "#                          'defective_generated_instance_ratio', 'bal_acc', 'r2_score', 'local_feature_ratio']\n",
    "# print(all_eval_result.head())\n",
    "# all_eval_result.to_csv('./eval_result/'+proj_name+'_RQ1_RQ4_eval.csv',index=False)\n",
    "eval_local_model('qt')"
   ]
  },
  {
   "cell_type": "code",
   "execution_count": 95,
   "metadata": {},
   "outputs": [
    {
     "name": "stdout",
     "output_type": "stream",
     "text": [
      "0.7341772151898734 0.5949367088607594\n"
     ]
    }
   ],
   "source": [
    "print(py_exp_is_in_top_k_global_features_count/len(feature_df), \n",
    "      lime_exp_is_in_top_k_global_features_count/len(feature_df))"
   ]
  },
  {
   "cell_type": "code",
   "execution_count": null,
   "metadata": {},
   "outputs": [],
   "source": []
  },
  {
   "cell_type": "code",
   "execution_count": 172,
   "metadata": {},
   "outputs": [
    {
     "name": "stdout",
     "output_type": "stream",
     "text": [
      "554\n"
     ]
    }
   ],
   "source": [
    "# proj_name = 'openstack'\n",
    "openstack_result_df = pd.read_csv('./eval_result/openstack_RQ1_RQ4_eval.csv')\n",
    "qt_result_df = pd.read_csv('./eval_result/qt_RQ1_RQ4_eval.csv')\n",
    "\n",
    "result_df = pd.concat([openstack_result_df, qt_result_df])\n",
    "print(len(result_df))"
   ]
  },
  {
   "cell_type": "code",
   "execution_count": 142,
   "metadata": {},
   "outputs": [
    {
     "name": "stdout",
     "output_type": "stream",
     "text": [
      "     project                                 commit id  \\\n",
      "0  openstack  1e6973aee7137653c62dcef970b1e2527b50517d   \n",
      "1  openstack  1e6973aee7137653c62dcef970b1e2527b50517d   \n",
      "2  openstack  5d0ccceb20780fdd3adf519d3f8e6b80b1844407   \n",
      "3  openstack  5d0ccceb20780fdd3adf519d3f8e6b80b1844407   \n",
      "4  openstack  de31210c05f464c4a79255de68b1a515d9b84ed3   \n",
      "\n",
      "                    method  euc_dist_mean  euc_dist_med  \\\n",
      "0  crossover_interpolation     402.001480    331.704115   \n",
      "1                     LIME     891.144954    547.648247   \n",
      "2  crossover_interpolation     563.188939    488.590016   \n",
      "3                     LIME    1372.434025   1384.777800   \n",
      "4  crossover_interpolation     296.285365    233.747669   \n",
      "\n",
      "   defective_generated_instance_ratio   bal_acc  r2_score  local_feature_ratio  \n",
      "0                            0.431452  0.914181  0.664601                  0.4  \n",
      "1                            0.050800  0.579753 -0.126152                  0.2  \n",
      "2                            0.689435  1.000000  1.000000                  0.2  \n",
      "3                            0.049000  0.580125 -0.114269                  0.2  \n",
      "4                            0.463710  0.935895  0.745119                  0.2  \n"
     ]
    }
   ],
   "source": [
    "print(openstack_result_df.head())"
   ]
  },
  {
   "cell_type": "code",
   "execution_count": 173,
   "metadata": {},
   "outputs": [
    {
     "data": {
      "text/plain": [
       "<AxesSubplot:xlabel='project', ylabel='euc_dist_med'>"
      ]
     },
     "execution_count": 173,
     "metadata": {},
     "output_type": "execute_result"
    },
    {
     "data": {
      "image/png": "[encoded data removed]",
      "text/plain": [
       "<Figure size 432x288 with 1 Axes>"
      ]
     },
     "metadata": {
      "needs_background": "light"
     },
     "output_type": "display_data"
    }
   ],
   "source": [
    "# RQ1: euc_dist_med\n",
    "sns.boxplot(data=result_df, x='project', y='euc_dist_med', hue='method')"
   ]
  },
  {
   "cell_type": "code",
   "execution_count": 174,
   "metadata": {},
   "outputs": [
    {
     "data": {
      "text/plain": [
       "<AxesSubplot:xlabel='project', ylabel='defective_generated_instance_ratio'>"
      ]
     },
     "execution_count": 174,
     "metadata": {},
     "output_type": "execute_result"
    },
    {
     "data": {
      "image/png": "[encoded data removed]",
      "text/plain": [
       "<Figure size 432x288 with 1 Axes>"
      ]
     },
     "metadata": {
      "needs_background": "light"
     },
     "output_type": "display_data"
    }
   ],
   "source": [
    "# RQ1: defective_generated_instance_ratio\n",
    "sns.boxplot(data=result_df, x='project', y='defective_generated_instance_ratio', hue='method')"
   ]
  },
  {
   "cell_type": "code",
   "execution_count": 175,
   "metadata": {},
   "outputs": [
    {
     "data": {
      "text/plain": [
       "<AxesSubplot:xlabel='project', ylabel='bal_acc'>"
      ]
     },
     "execution_count": 175,
     "metadata": {},
     "output_type": "execute_result"
    },
    {
     "data": {
      "image/png": "[encoded data removed]",
      "text/plain": [
       "<Figure size 432x288 with 1 Axes>"
      ]
     },
     "metadata": {
      "needs_background": "light"
     },
     "output_type": "display_data"
    }
   ],
   "source": [
    "# RQ2: bal_acc\n",
    "sns.boxplot(data=result_df, x='project', y='bal_acc', hue='method')"
   ]
  },
  {
   "cell_type": "code",
   "execution_count": 176,
   "metadata": {},
   "outputs": [
    {
     "data": {
      "text/plain": [
       "<AxesSubplot:xlabel='project', ylabel='r2_score'>"
      ]
     },
     "execution_count": 176,
     "metadata": {},
     "output_type": "execute_result"
    },
    {
     "data": {
      "image/png": "[encoded data removed]",
      "text/plain": [
       "<Figure size 432x288 with 1 Axes>"
      ]
     },
     "metadata": {
      "needs_background": "light"
     },
     "output_type": "display_data"
    }
   ],
   "source": [
    "# RQ3: r2_score\n",
    "sns.boxplot(data=result_df, x='project', y='r2_score', hue='method')"
   ]
  },
  {
   "cell_type": "code",
   "execution_count": 112,
   "metadata": {},
   "outputs": [
    {
     "name": "stdout",
     "output_type": "stream",
     "text": [
      "     project                   method     ratio\n",
      "0  openstack  crossover_interpolation  0.848400\n",
      "1  openstack                     LIME  0.979797\n",
      "2         qt  crossover_interpolation  0.734120\n",
      "3         qt                     LIME  0.594936\n"
     ]
    },
    {
     "data": {
      "text/plain": [
       "<AxesSubplot:xlabel='project', ylabel='ratio'>"
      ]
     },
     "execution_count": 112,
     "metadata": {},
     "output_type": "execute_result"
    },
    {
     "data": {
      "image/png": "[encoded data removed]",
      "text/plain": [
       "<Figure size 432x288 with 1 Axes>"
      ]
     },
     "metadata": {
      "needs_background": "light"
     },
     "output_type": "display_data"
    }
   ],
   "source": [
    "# RQ4: ratio of rules of which features appear in top-k global feature\n",
    "rq4_df = pd.DataFrame()\n",
    "rq4_df = rq4_df.append(pd.Series(['openstack','crossover_interpolation',0.8484]), ignore_index=True)\n",
    "rq4_df = rq4_df.append(pd.Series(['openstack','LIME',0.979797]), ignore_index=True)\n",
    "rq4_df = rq4_df.append(pd.Series(['qt','crossover_interpolation',0.73412]), ignore_index=True)\n",
    "rq4_df = rq4_df.append(pd.Series(['qt','LIME',0.594936]), ignore_index=True)\n",
    "\n",
    "rq4_df.columns = ['project','method','ratio']\n",
    "print(rq4_df)\n",
    "\n",
    "sns.barplot(data=rq4_df, x=\"project\", y=\"ratio\", hue=\"method\")"
   ]
  },
  {
   "cell_type": "code",
   "execution_count": 179,
   "metadata": {},
   "outputs": [
    {
     "data": {
      "text/plain": [
       "<AxesSubplot:xlabel='project', ylabel='local_feature_ratio'>"
      ]
     },
     "execution_count": 179,
     "metadata": {},
     "output_type": "execute_result"
    },
    {
     "data": {
      "image/png": "[encoded data removed]",
      "text/plain": [
       "<Figure size 432x288 with 1 Axes>"
      ]
     },
     "metadata": {
      "needs_background": "light"
     },
     "output_type": "display_data"
    }
   ],
   "source": [
    "# RQ4 (new)\n",
    "plt.ylim(0,2)\n",
    "sns.boxplot(data=result_df, x='project', y='local_feature_ratio', hue='method')"
   ]
  },
  {
   "cell_type": "code",
   "execution_count": 189,
   "metadata": {},
   "outputs": [
    {
     "name": "stdout",
     "output_type": "stream",
     "text": [
      "1.0\n"
     ]
    }
   ],
   "source": [
    "print(np.median(result_df[(result_df['project']=='qt') & (result_df['method']=='LIME')]['local_feature_ratio']))"
   ]
  }
 ],
 "metadata": {
  "kernelspec": {
   "display_name": "Python_Oat",
   "language": "python",
   "name": "env_oat"
  },
  "language_info": {
   "codemirror_mode": {
    "name": "ipython",
    "version": 3
   },
   "file_extension": ".py",
   "mimetype": "text/x-python",
   "name": "python",
   "nbconvert_exporter": "python",
   "pygments_lexer": "ipython3",
   "version": "3.9.2"
  },
  "varInspector": {
   "cols": {
    "lenName": 16,
    "lenType": 16,
    "lenVar": 40
   },
   "kernels_config": {
    "python": {
     "delete_cmd_postfix": "",
     "delete_cmd_prefix": "del ",
     "library": "var_list.py",
     "varRefreshCmd": "print(var_dic_list())"
    },
    "r": {
     "delete_cmd_postfix": ") ",
     "delete_cmd_prefix": "rm(",
     "library": "var_list.r",
     "varRefreshCmd": "cat(var_dic_list()) "
    }
   },
   "types_to_exclude": [
    "module",
    "function",
    "builtin_function_or_method",
    "instance",
    "_Feature"
   ],
   "window_display": false
  }
 },
 "nbformat": 4,
 "nbformat_minor": 4
}
