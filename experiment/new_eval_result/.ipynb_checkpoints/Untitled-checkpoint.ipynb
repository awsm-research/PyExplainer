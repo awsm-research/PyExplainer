{
 "cells": [
  {
   "cell_type": "code",
   "execution_count": 57,
   "metadata": {},
   "outputs": [
    {
     "name": "stderr",
     "output_type": "stream",
     "text": [
      "\n",
      "\u001b[36m──\u001b[39m \u001b[1m\u001b[1mColumn specification\u001b[1m\u001b[22m \u001b[36m────────────────────────────────────────────────────────\u001b[39m\n",
      "cols(\n",
      "  project = \u001b[31mcol_character()\u001b[39m,\n",
      "  commit_id = \u001b[31mcol_character()\u001b[39m,\n",
      "  method = \u001b[31mcol_character()\u001b[39m,\n",
      "  global_model = \u001b[31mcol_character()\u001b[39m,\n",
      "  explanation = \u001b[31mcol_character()\u001b[39m,\n",
      "  precision = \u001b[32mcol_double()\u001b[39m,\n",
      "  recall = \u001b[32mcol_double()\u001b[39m\n",
      ")\n",
      "\n",
      "\n"
     ]
    }
   ],
   "source": [
    "\n",
    "# A library for plotting graphs\n",
    "library(ggplot2)\n",
    "# devtools::install_github('Mikata-Project/ggthemr')\n",
    "library(readr)\n",
    "library(reshape2)\n",
    "\n",
    "\n",
    "rq3.plot.data <- read_csv(\"RQ3_qt_RF_explanation_eval_split_rulefit_condition.csv\")\n",
    "\n",
    "\n"
   ]
  },
  {
   "cell_type": "code",
   "execution_count": 58,
   "metadata": {},
   "outputs": [
    {
     "name": "stdout",
     "output_type": "stream",
     "text": [
      "tibble [254 × 7] (S3: spec_tbl_df/tbl_df/tbl/data.frame)\n",
      " $ project     : chr [1:254] \"qt\" \"qt\" \"qt\" \"qt\" ...\n",
      " $ commit_id   : chr [1:254] \"f5dbc876378ae58a7bdfe1e9664fc81caca18dfb\" \"f5dbc876378ae58a7bdfe1e9664fc81caca18dfb\" \"f5dbc876378ae58a7bdfe1e9664fc81caca18dfb\" \"602bd9873786ccadcb67da3036329f3122555cf8\" ...\n",
      " $ method      : chr [1:254] \"pyExplainer\" \"pyExplainer\" \"pyExplainer\" \"pyExplainer\" ...\n",
      " $ global_model: chr [1:254] \"RF\" \"RF\" \"RF\" \"RF\" ...\n",
      " $ explanation : chr [1:254] \"ld > 15.670000076293945\" \"app > 1.0399999618530273\" \"ndev > 6.4049999713897705\" \"app > 1.024999976158142\" ...\n",
      " $ precision   : num [1:254] 0.1183 0.0667 0.061 0.0667 0.16 ...\n",
      " $ recall      : num [1:254] 0.433 0.639 0.586 0.639 0.126 ...\n",
      " - attr(*, \"spec\")=\n",
      "  .. cols(\n",
      "  ..   project = \u001b[31mcol_character()\u001b[39m,\n",
      "  ..   commit_id = \u001b[31mcol_character()\u001b[39m,\n",
      "  ..   method = \u001b[31mcol_character()\u001b[39m,\n",
      "  ..   global_model = \u001b[31mcol_character()\u001b[39m,\n",
      "  ..   explanation = \u001b[31mcol_character()\u001b[39m,\n",
      "  ..   precision = \u001b[32mcol_double()\u001b[39m,\n",
      "  ..   recall = \u001b[32mcol_double()\u001b[39m\n",
      "  .. )\n"
     ]
    }
   ],
   "source": [
    "str(rq3.plot.data)"
   ]
  },
  {
   "cell_type": "code",
   "execution_count": 59,
   "metadata": {},
   "outputs": [],
   "source": [
    "names(rq3.plot.data)[4] <- 'model'"
   ]
  },
  {
   "cell_type": "code",
   "execution_count": 60,
   "metadata": {},
   "outputs": [
    {
     "name": "stderr",
     "output_type": "stream",
     "text": [
      "Using project, commit_id, method, model, explanation as id variables\n",
      "\n"
     ]
    }
   ],
   "source": [
    "\n",
    "rq3.plot.data <- melt(rq3.plot.data)"
   ]
  },
  {
   "cell_type": "code",
   "execution_count": 61,
   "metadata": {},
   "outputs": [
    {
     "name": "stdout",
     "output_type": "stream",
     "text": [
      "'data.frame':\t508 obs. of  7 variables:\n",
      " $ project    : chr  \"qt\" \"qt\" \"qt\" \"qt\" ...\n",
      " $ commit_id  : chr  \"f5dbc876378ae58a7bdfe1e9664fc81caca18dfb\" \"f5dbc876378ae58a7bdfe1e9664fc81caca18dfb\" \"f5dbc876378ae58a7bdfe1e9664fc81caca18dfb\" \"602bd9873786ccadcb67da3036329f3122555cf8\" ...\n",
      " $ method     : chr  \"pyExplainer\" \"pyExplainer\" \"pyExplainer\" \"pyExplainer\" ...\n",
      " $ model      : chr  \"RF\" \"RF\" \"RF\" \"RF\" ...\n",
      " $ explanation: chr  \"ld > 15.670000076293945\" \"app > 1.0399999618530273\" \"ndev > 6.4049999713897705\" \"app > 1.024999976158142\" ...\n",
      " $ variable   : Factor w/ 2 levels \"precision\",\"recall\": 1 1 1 1 1 1 1 1 1 1 ...\n",
      " $ value      : num  0.1183 0.0667 0.061 0.0667 0.16 ...\n"
     ]
    }
   ],
   "source": [
    "str(rq3.plot.data)"
   ]
  },
  {
   "cell_type": "code",
   "execution_count": 62,
   "metadata": {},
   "outputs": [],
   "source": [
    "g <- ggplot(data = rq3.plot.data, aes(x= model, y=value, fill = (method))) +\n",
    "  geom_boxplot() +\n",
    "  ylab('') + xlab('') + ggtitle('')  +\n",
    "  facet_grid(variable~project) + labs(fill = \"\") + theme_bw() + labs(fill = \"\") + theme(legend.position = 'top') +  coord_cartesian(ylim=c(0, 1)) + \n",
    "  theme(text = element_text(size = 14),\n",
    "        strip.text.y = element_text(size = 10))"
   ]
  },
  {
   "cell_type": "code",
   "execution_count": 63,
   "metadata": {},
   "outputs": [
    {
     "data": {
      "image/png": "[encoded data removed]",
      "text/plain": [
       "plot without title"
      ]
     },
     "metadata": {
      "image/png": {
       "height": 420,
       "width": 420
      }
     },
     "output_type": "display_data"
    }
   ],
   "source": [
    "g"
   ]
  },
  {
   "cell_type": "code",
   "execution_count": 64,
   "metadata": {},
   "outputs": [
    {
     "name": "stdout",
     "output_type": "stream",
     "text": [
      "'data.frame':\t508 obs. of  7 variables:\n",
      " $ project    : chr  \"qt\" \"qt\" \"qt\" \"qt\" ...\n",
      " $ commit_id  : chr  \"f5dbc876378ae58a7bdfe1e9664fc81caca18dfb\" \"f5dbc876378ae58a7bdfe1e9664fc81caca18dfb\" \"f5dbc876378ae58a7bdfe1e9664fc81caca18dfb\" \"602bd9873786ccadcb67da3036329f3122555cf8\" ...\n",
      " $ method     : chr  \"pyExplainer\" \"pyExplainer\" \"pyExplainer\" \"pyExplainer\" ...\n",
      " $ model      : chr  \"RF\" \"RF\" \"RF\" \"RF\" ...\n",
      " $ explanation: chr  \"ld > 15.670000076293945\" \"app > 1.0399999618530273\" \"ndev > 6.4049999713897705\" \"app > 1.024999976158142\" ...\n",
      " $ variable   : Factor w/ 2 levels \"precision\",\"recall\": 1 1 1 1 1 1 1 1 1 1 ...\n",
      " $ value      : num  0.1183 0.0667 0.061 0.0667 0.16 ...\n"
     ]
    }
   ],
   "source": [
    "str(rq3.plot.data)"
   ]
  },
  {
   "cell_type": "code",
   "execution_count": 65,
   "metadata": {},
   "outputs": [],
   "source": [
    "c.data <- split(rq3.plot.data, rq3.plot.data$method)"
   ]
  },
  {
   "cell_type": "code",
   "execution_count": 66,
   "metadata": {
    "scrolled": true
   },
   "outputs": [
    {
     "data": {
      "text/html": [
       "<dl>\n",
       "\t<dt>$LIME</dt>\n",
       "\t\t<dd>48</dd>\n",
       "\t<dt>$pyExplainer</dt>\n",
       "\t\t<dd>79</dd>\n",
       "</dl>\n"
      ],
      "text/latex": [
       "\\begin{description}\n",
       "\\item[\\$LIME] 48\n",
       "\\item[\\$pyExplainer] 79\n",
       "\\end{description}\n"
      ],
      "text/markdown": [
       "$LIME\n",
       ":   48\n",
       "$pyExplainer\n",
       ":   79\n",
       "\n",
       "\n"
      ],
      "text/plain": [
       "$LIME\n",
       "[1] 48\n",
       "\n",
       "$pyExplainer\n",
       "[1] 79\n"
      ]
     },
     "metadata": {},
     "output_type": "display_data"
    }
   ],
   "source": [
    "lapply(c.data, function(x){\n",
    "    length(unique(x$commit_id))\n",
    "})"
   ]
  },
  {
   "cell_type": "code",
   "execution_count": null,
   "metadata": {},
   "outputs": [],
   "source": []
  },
  {
   "cell_type": "code",
   "execution_count": 50,
   "metadata": {},
   "outputs": [],
   "source": [
    "rq3.plot.data$index <- paste0(rq3.plot.data$method, rq3.plot.data$commit_id)"
   ]
  },
  {
   "cell_type": "code",
   "execution_count": 51,
   "metadata": {},
   "outputs": [],
   "source": [
    "c.data <- split(rq3.plot.data, rq3.plot.data$index)"
   ]
  },
  {
   "cell_type": "code",
   "execution_count": 52,
   "metadata": {},
   "outputs": [],
   "source": [
    "c.data <- do.call(rbind, lapply(c.data, function(x) { x[1, ]}))"
   ]
  },
  {
   "cell_type": "code",
   "execution_count": 53,
   "metadata": {},
   "outputs": [
    {
     "name": "stdout",
     "output_type": "stream",
     "text": [
      "'data.frame':\t127 obs. of  8 variables:\n",
      " $ project    : chr  \"qt\" \"qt\" \"qt\" \"qt\" ...\n",
      " $ commit_id  : chr  \"06eaeb0ac8d861cf3e60b11a8fbbabdeef1d6759\" \"07860794da5863610f38295c9d517fc457c5de95\" \"097b0a531642f79d8b240f89ca1eacca2ee59a5e\" \"0ed9f7496656fa0ea52d703c7fddff26c2192857\" ...\n",
      " $ method     : chr  \"LIME\" \"LIME\" \"LIME\" \"LIME\" ...\n",
      " $ model      : chr  \"RF\" \"RF\" \"RF\" \"RF\" ...\n",
      " $ explanation: chr  \"la > 31.00\" \"la > 31.00\" \"la > 31.00\" \"la > 31.00\" ...\n",
      " $ variable   : Factor w/ 2 levels \"precision\",\"recall\": 1 1 1 1 1 1 1 1 1 1 ...\n",
      " $ value      : num  0.144 0.144 0.144 0.144 0.144 ...\n",
      " $ index      : chr  \"LIME06eaeb0ac8d861cf3e60b11a8fbbabdeef1d6759\" \"LIME07860794da5863610f38295c9d517fc457c5de95\" \"LIME097b0a531642f79d8b240f89ca1eacca2ee59a5e\" \"LIME0ed9f7496656fa0ea52d703c7fddff26c2192857\" ...\n"
     ]
    }
   ],
   "source": [
    "str(c.data)"
   ]
  },
  {
   "cell_type": "code",
   "execution_count": 54,
   "metadata": {},
   "outputs": [
    {
     "data": {
      "text/plain": [
       "\n",
       "       LIME pyExplainer \n",
       "         48          79 "
      ]
     },
     "metadata": {},
     "output_type": "display_data"
    }
   ],
   "source": [
    "table(c.data$method)"
   ]
  },
  {
   "cell_type": "code",
   "execution_count": 35,
   "metadata": {},
   "outputs": [
    {
     "data": {
      "text/html": [
       "79"
      ],
      "text/latex": [
       "79"
      ],
      "text/markdown": [
       "79"
      ],
      "text/plain": [
       "[1] 79"
      ]
     },
     "metadata": {},
     "output_type": "display_data"
    }
   ],
   "source": [
    "length(unique(rq3.plot.data$commit_id))"
   ]
  },
  {
   "cell_type": "code",
   "execution_count": 38,
   "metadata": {},
   "outputs": [],
   "source": [
    "c.data.l <- subset(rq3.plot.data, method == 'LIME')"
   ]
  },
  {
   "cell_type": "code",
   "execution_count": 40,
   "metadata": {},
   "outputs": [
    {
     "data": {
      "text/html": [
       "<style>\n",
       ".list-inline {list-style: none; margin:0; padding: 0}\n",
       ".list-inline>li {display: inline-block}\n",
       ".list-inline>li:not(:last-child)::after {content: \"\\00b7\"; padding: 0 .5ex}\n",
       "</style>\n",
       "<ol class=list-inline><li>'la &lt;= 31.00'</li><li>'hcmt &gt; 1.00'</li><li>'0.00 &gt;= ent or ent &gt; 0.29'</li></ol>\n"
      ],
      "text/latex": [
       "\\begin{enumerate*}\n",
       "\\item 'la <= 31.00'\n",
       "\\item 'hcmt > 1.00'\n",
       "\\item '0.00 >= ent or ent > 0.29'\n",
       "\\end{enumerate*}\n"
      ],
      "text/markdown": [
       "1. 'la &lt;= 31.00'\n",
       "2. 'hcmt &gt; 1.00'\n",
       "3. '0.00 &gt;= ent or ent &gt; 0.29'\n",
       "\n",
       "\n"
      ],
      "text/plain": [
       "[1] \"la <= 31.00\"               \"hcmt > 1.00\"              \n",
       "[3] \"0.00 >= ent or ent > 0.29\""
      ]
     },
     "metadata": {},
     "output_type": "display_data"
    }
   ],
   "source": [
    "unique(c.data.l$guidance)"
   ]
  },
  {
   "cell_type": "code",
   "execution_count": null,
   "metadata": {},
   "outputs": [],
   "source": []
  }
 ],
 "metadata": {
  "kernelspec": {
   "display_name": "R",
   "language": "R",
   "name": "ir"
  },
  "language_info": {
   "codemirror_mode": "r",
   "file_extension": ".r",
   "mimetype": "text/x-r-source",
   "name": "R",
   "pygments_lexer": "r",
   "version": "3.6.3"
  },
  "varInspector": {
   "cols": {
    "lenName": 16,
    "lenType": 16,
    "lenVar": 40
   },
   "kernels_config": {
    "python": {
     "delete_cmd_postfix": "",
     "delete_cmd_prefix": "del ",
     "library": "var_list.py",
     "varRefreshCmd": "print(var_dic_list())"
    },
    "r": {
     "delete_cmd_postfix": ") ",
     "delete_cmd_prefix": "rm(",
     "library": "var_list.r",
     "varRefreshCmd": "cat(var_dic_list()) "
    }
   },
   "types_to_exclude": [
    "module",
    "function",
    "builtin_function_or_method",
    "instance",
    "_Feature"
   ],
   "window_display": false
  }
 },
 "nbformat": 4,
 "nbformat_minor": 4
}
