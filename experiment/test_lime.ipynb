{
 "cells": [
  {
   "cell_type": "code",
   "execution_count": 1,
   "metadata": {},
   "outputs": [],
   "source": [
    "from sklearn.ensemble import RandomForestClassifier\n",
    "from sklearn.metrics.pairwise import cosine_similarity, euclidean_distances\n",
    "from sklearn.metrics import roc_auc_score\n",
    "import pandas as pd\n",
    "import numpy as np\n",
    "# from imblearn.over_sampling import SMOTE\n",
    "\n",
    "from pyexplainer.pyexplainer_pyexplainer import PyExplainer\n",
    "import matplotlib.pyplot as plt\n",
    "\n",
    "import os, pickle, time\n",
    "# from datetime import datetime\n",
    "\n",
    "from my_util import *\n",
    "\n",
    "from lime.lime.lime_tabular import LimeTabularExplainer"
   ]
  },
  {
   "cell_type": "code",
   "execution_count": 14,
   "metadata": {},
   "outputs": [],
   "source": [
    "proj_name = 'openstack'\n",
    "dump_dataframe_dir = './dump_df/'\n",
    "x_train, x_test = prepare_data(proj_name, mode = 'train')\n",
    "global_model = pickle.load(open(proj_name+'_global_model.pkl','rb'))\n",
    "\n",
    "correctly_predict_df = pd.read_csv(dump_dataframe_dir+proj_name+'_correctly_predict_as_defective.csv')\n",
    "correctly_predict_df = correctly_predict_df.set_index('commit_id')\n",
    "\n",
    "class_label = ['clean', 'defect']\n",
    "dep = 'defect'\n",
    "indep = correctly_predict_df.columns[:-3] # exclude the last 3 columns\n",
    "new_correctly_predict_df = correctly_predict_df.loc[:, indep] "
   ]
  },
  {
   "cell_type": "code",
   "execution_count": 3,
   "metadata": {
    "scrolled": true
   },
   "outputs": [
    {
     "name": "stdout",
     "output_type": "stream",
     "text": [
      "6\n"
     ]
    }
   ],
   "source": [
    "print(list(x_train.columns).index('self'))\n",
    "categorical_features_list = [6]"
   ]
  },
  {
   "cell_type": "code",
   "execution_count": 4,
   "metadata": {},
   "outputs": [],
   "source": [
    "# print(new_correctly_predict_df)\n"
   ]
  },
  {
   "cell_type": "code",
   "execution_count": 5,
   "metadata": {},
   "outputs": [],
   "source": [
    "lime_explainer = LimeTabularExplainer(x_train.values, categorical_features=categorical_features_list, \n",
    "                                      feature_names=indep, class_names=class_label, \n",
    "                                      random_state=0)"
   ]
  },
  {
   "cell_type": "code",
   "execution_count": 6,
   "metadata": {},
   "outputs": [
    {
     "name": "stdout",
     "output_type": "stream",
     "text": [
      "explain finished\n"
     ]
    }
   ],
   "source": [
    "sample_instance = new_correctly_predict_df.iloc[0]\n",
    "# note: must use synt_inst_for_local_model with local model\n",
    "# note: use synt_inst to find distance with original instance\n",
    "exp, synt_inst, synt_inst_for_local_model, local_model = lime_explainer.explain_instance(sample_instance, global_model.predict_proba)"
   ]
  },
  {
   "cell_type": "code",
   "execution_count": 18,
   "metadata": {},
   "outputs": [
    {
     "name": "stdout",
     "output_type": "stream",
     "text": [
      "[[2.58000000e+02 2.00000000e+00 1.00000000e+00 8.26278101e-01\n",
      "  2.00000000e+00 1.80495602e+01 0.00000000e+00 1.00000000e+00\n",
      "  5.24275463e+00 4.00000000e+00 4.65000000e+02 4.26212040e-03\n",
      "  8.20458178e-02]]\n"
     ]
    }
   ],
   "source": [
    "print(new_correctly_predict_df.iloc[[0]].values)"
   ]
  },
  {
   "cell_type": "code",
   "execution_count": 12,
   "metadata": {},
   "outputs": [
    {
     "name": "stdout",
     "output_type": "stream",
     "text": [
      "[[1. 1. 1. ... 1. 1. 1.]\n",
      " [0. 1. 1. ... 0. 0. 0.]\n",
      " [0. 1. 1. ... 0. 0. 1.]\n",
      " ...\n",
      " [0. 0. 1. ... 0. 0. 0.]\n",
      " [0. 0. 1. ... 1. 0. 1.]\n",
      " [1. 1. 1. ... 0. 0. 0.]]\n"
     ]
    }
   ],
   "source": [
    "print(synt_inst_for_local)"
   ]
  },
  {
   "cell_type": "code",
   "execution_count": 8,
   "metadata": {},
   "outputs": [],
   "source": [
    "# exp.show_in_notebook()"
   ]
  },
  {
   "cell_type": "code",
   "execution_count": 9,
   "metadata": {},
   "outputs": [
    {
     "data": {
      "text/plain": [
       "[('la > 58.00', 0.17364610728196841),\n",
       " ('0.63 < ent <= 0.86', 0.10334290441719379),\n",
       " ('ns <= 1.00', 0.08326492305826197),\n",
       " ('1.00 < nrev <= 2.00', -0.03680321984702016),\n",
       " ('self=0', 0.02505368474531611),\n",
       " ('asawr <= 0.01', -0.0232325371500721),\n",
       " ('rsawr <= 0.29', -0.021452708692225483),\n",
       " ('2.98 < age <= 9.98', 0.019697083991513934),\n",
       " ('1.00 < nd <= 2.00', -0.018826231313993257),\n",
       " ('app > 3.00', -0.01568265001489225)]"
      ]
     },
     "execution_count": 9,
     "metadata": {},
     "output_type": "execute_result"
    }
   ],
   "source": [
    "exp.as_list() # get rule from LIME"
   ]
  },
  {
   "cell_type": "code",
   "execution_count": 56,
   "metadata": {},
   "outputs": [
    {
     "name": "stdout",
     "output_type": "stream",
     "text": [
      "ent <= 0.9050000011920929 & rtime > 1.6699999570846558 & nd <= 2.9850000143051147\n",
      "['ent', 'rtime', 'nd']\n"
     ]
    }
   ],
   "source": [
    "# eval('1.00 < nrev <= 2.00', {'nrev':1.35})\n",
    "the_best_rule = exp.as_list()[0][0] # get the best rule\n",
    "the_best_rule = 'ent <= 0.9050000011920929 & rtime > 1.6699999570846558 & nd <= 2.9850000143051147'\n",
    "# print(the_best_rule)\n",
    "var_in_rule = re.findall('[a-zA-Z]+',the_best_rule) # extract variable from rules\n",
    "val_of_var = 1.58 # get value from df (done later...)\n",
    "print(the_best_rule)\n",
    "print(var_in_rule)\n",
    "# print(eval(the_best_rule, {var_in_rule: val_of_var})) # then check condition"
   ]
  },
  {
   "cell_type": "code",
   "execution_count": 19,
   "metadata": {},
   "outputs": [
    {
     "data": {
      "text/plain": [
       "{1: [(0, 0.17364610728196841),\n",
       "  (3, 0.10334290441719379),\n",
       "  (2, 0.08326492305826197),\n",
       "  (4, -0.03680321984702016),\n",
       "  (6, 0.02505368474531611),\n",
       "  (11, -0.0232325371500721),\n",
       "  (12, -0.021452708692225483),\n",
       "  (8, 0.019697083991513934),\n",
       "  (1, -0.018826231313993257),\n",
       "  (9, -0.01568265001489225)]}"
      ]
     },
     "execution_count": 19,
     "metadata": {},
     "output_type": "execute_result"
    }
   ],
   "source": [
    "exp.as_map()"
   ]
  },
  {
   "cell_type": "code",
   "execution_count": 26,
   "metadata": {},
   "outputs": [
    {
     "data": {
      "text/plain": [
       "[(0, 0.17364610728196841),\n",
       " (3, 0.10334290441719379),\n",
       " (2, 0.08326492305826197),\n",
       " (4, -0.03680321984702016),\n",
       " (6, 0.02505368474531611),\n",
       " (11, -0.0232325371500721),\n",
       " (12, -0.021452708692225483),\n",
       " (8, 0.019697083991513934),\n",
       " (1, -0.018826231313993257),\n",
       " (9, -0.01568265001489225)]"
      ]
     },
     "execution_count": 26,
     "metadata": {},
     "output_type": "execute_result"
    }
   ],
   "source": [
    "exp.local_exp[1]"
   ]
  }
 ],
 "metadata": {
  "kernelspec": {
   "display_name": "Python_Oat",
   "language": "python",
   "name": "env_oat"
  },
  "language_info": {
   "codemirror_mode": {
    "name": "ipython",
    "version": 3
   },
   "file_extension": ".py",
   "mimetype": "text/x-python",
   "name": "python",
   "nbconvert_exporter": "python",
   "pygments_lexer": "ipython3",
   "version": "3.9.2"
  },
  "varInspector": {
   "cols": {
    "lenName": 16,
    "lenType": 16,
    "lenVar": 40
   },
   "kernels_config": {
    "python": {
     "delete_cmd_postfix": "",
     "delete_cmd_prefix": "del ",
     "library": "var_list.py",
     "varRefreshCmd": "print(var_dic_list())"
    },
    "r": {
     "delete_cmd_postfix": ") ",
     "delete_cmd_prefix": "rm(",
     "library": "var_list.r",
     "varRefreshCmd": "cat(var_dic_list()) "
    }
   },
   "types_to_exclude": [
    "module",
    "function",
    "builtin_function_or_method",
    "instance",
    "_Feature"
   ],
   "window_display": false
  }
 },
 "nbformat": 4,
 "nbformat_minor": 4
}
