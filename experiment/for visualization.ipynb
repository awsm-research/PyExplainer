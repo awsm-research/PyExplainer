{
 "cells": [
  {
   "cell_type": "code",
   "execution_count": null,
   "metadata": {},
   "outputs": [],
   "source": [
    "from sklearn.ensemble import RandomForestClassifier\n",
    "from sklearn.metrics.pairwise import cosine_similarity, euclidean_distances\n",
    "from sklearn.metrics import auc, classification_report, roc_auc_score, f1_score, matthews_corrcoef, balanced_accuracy_score, r2_score , confusion_matrix, precision_score, recall_score\n",
    "\n",
    "import pandas as pd\n",
    "import numpy as np\n",
    "# import seaborn as sns\n",
    "\n",
    "from my_util import *\n",
    "# from lime.lime.lime_tabular import LimeTabularExplainer\n",
    "\n",
    "# from pyexplainer.pyexplainer_pyexplainer import PyExplainer\n",
    "# import matplotlib.pyplot as plt\n",
    "\n",
    "import os, pickle, time, re, sys, operator\n",
    "from datetime import datetime\n",
    "from collections import Counter\n",
    "\n",
    "\n",
    "# sys.path.append(os.path.abspath('../'))\n",
    "# from pyexplainer.pyexplainer_pyexplainer import PyExplainer\n",
    "\n",
    "# please add code to import file here...\n",
    "\n",
    "from IPython.display import display"
   ]
  },
  {
   "cell_type": "code",
   "execution_count": null,
   "metadata": {},
   "outputs": [],
   "source": [
    "proj_name = 'openstack'\n",
    "global_model_name = 'RF'\n",
    "\n",
    "data_path = './dataset/'\n",
    "pyExp_dir = './pyExplainer_obj/'\n",
    "# proj_name = 'qt' # ['openstack','qt']\n",
    "\n",
    "commit_id_list = ['f6ae2e21d5b72b9b10a2ce4e878c21108c7fb830'\n",
    "'f6d384d7a2df5ba603bf7862853e9cb9fc70fcb4'\n",
    "'f63d2f67ed1e7b8246b36bd08517a55a702a48a9'\n",
    "'f691ebe03916a78cbf18017d628a28b17f147700'\n",
    "'f702fe7e30e4021895dac8e7ab243e5192f8182d']\n",
    "                  \n",
    "x_train, y_train = prepare_data(proj_name, mode = 'train')\n",
    "global_model = pickle.load(open(proj_name+'_'+global_model_name+'_global_model.pkl','rb'))\n",
    "indep = x_train.columns\n",
    "dep = 'defect'\n",
    "class_label = ['clean', 'defect']\n",
    "\n",
    "pyExp = PyExplainer(x_train, y_train, indep, dep, global_model, class_label)\n",
    "exp_obj = pickle.load(open(pyExp_dir+proj_name+'_'+global_model_name+'_all_explainer_'+commit_id_list[0]'+'.pkl','rb'))\n",
    "pyexp_obj = exp_obj['pyExplainer']"
   ]
  },
  {
   "cell_type": "code",
   "execution_count": null,
   "metadata": {},
   "outputs": [],
   "source": [
    "pyExp.visualise(pyexp_obj)"
   ]
  }
 ],
 "metadata": {
  "kernelspec": {
   "display_name": "Python_Oat",
   "language": "python",
   "name": "env_oat"
  },
  "language_info": {
   "codemirror_mode": {
    "name": "ipython",
    "version": 3
   },
   "file_extension": ".py",
   "mimetype": "text/x-python",
   "name": "python",
   "nbconvert_exporter": "python",
   "pygments_lexer": "ipython3",
   "version": "3.9.2"
  },
  "varInspector": {
   "cols": {
    "lenName": 16,
    "lenType": 16,
    "lenVar": 40
   },
   "kernels_config": {
    "python": {
     "delete_cmd_postfix": "",
     "delete_cmd_prefix": "del ",
     "library": "var_list.py",
     "varRefreshCmd": "print(var_dic_list())"
    },
    "r": {
     "delete_cmd_postfix": ") ",
     "delete_cmd_prefix": "rm(",
     "library": "var_list.r",
     "varRefreshCmd": "cat(var_dic_list()) "
    }
   },
   "types_to_exclude": [
    "module",
    "function",
    "builtin_function_or_method",
    "instance",
    "_Feature"
   ],
   "window_display": false
  }
 },
 "nbformat": 4,
 "nbformat_minor": 4
}
