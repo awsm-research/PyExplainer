{
 "cells": [
  {
   "cell_type": "markdown",
   "id": "dated-worst",
   "metadata": {},
   "source": [
    "# Testing"
   ]
  },
  {
   "cell_type": "code",
   "execution_count": 13,
   "id": "stunning-summer",
   "metadata": {},
   "outputs": [
    {
     "name": "stdout",
     "output_type": "stream",
     "text": [
      "C:\\Users\\micha\\Documents\\GitHub\\pyExplainer\n",
      "65   1970\n"
     ]
    },
    {
     "ename": "AttributeError",
     "evalue": "'Series' object has no attribute 'columns'",
     "output_type": "error",
     "traceback": [
      "\u001b[1;31m---------------------------------------------------------------------------\u001b[0m",
      "\u001b[1;31mAttributeError\u001b[0m                            Traceback (most recent call last)",
      "\u001b[1;32m<ipython-input-13-2a5d08e9e2b5>\u001b[0m in \u001b[0;36m<module>\u001b[1;34m\u001b[0m\n\u001b[0;32m     55\u001b[0m     \u001b[0mload_pyExp_rule_obj\u001b[0m \u001b[1;33m=\u001b[0m \u001b[0mload_object\u001b[0m\u001b[1;33m(\u001b[0m\u001b[1;34m'../tests/pyExplainer_obj.pyobject'\u001b[0m\u001b[1;33m)\u001b[0m\u001b[1;33m\u001b[0m\u001b[1;33m\u001b[0m\u001b[0m\n\u001b[0;32m     56\u001b[0m \u001b[0mprint\u001b[0m\u001b[1;33m(\u001b[0m\u001b[0mlen\u001b[0m\u001b[1;33m(\u001b[0m\u001b[0mX_train\u001b[0m\u001b[1;33m.\u001b[0m\u001b[0mcolumns\u001b[0m\u001b[1;33m)\u001b[0m\u001b[1;33m,\u001b[0m \u001b[1;34m\" \"\u001b[0m\u001b[1;33m,\u001b[0m \u001b[0mlen\u001b[0m\u001b[1;33m(\u001b[0m\u001b[0mX_test\u001b[0m\u001b[1;33m)\u001b[0m\u001b[1;33m)\u001b[0m\u001b[1;33m\u001b[0m\u001b[1;33m\u001b[0m\u001b[0m\n\u001b[1;32m---> 57\u001b[1;33m \u001b[0mprint\u001b[0m\u001b[1;33m(\u001b[0m\u001b[0mlen\u001b[0m\u001b[1;33m(\u001b[0m\u001b[0my_train\u001b[0m\u001b[1;33m.\u001b[0m\u001b[0mcolumns\u001b[0m\u001b[1;33m)\u001b[0m\u001b[1;33m,\u001b[0m \u001b[1;34m\" \"\u001b[0m\u001b[1;33m,\u001b[0m \u001b[0mlen\u001b[0m\u001b[1;33m(\u001b[0m\u001b[0my_test\u001b[0m\u001b[1;33m)\u001b[0m\u001b[1;33m)\u001b[0m\u001b[1;33m\u001b[0m\u001b[1;33m\u001b[0m\u001b[0m\n\u001b[0m",
      "\u001b[1;32m~\\anaconda3\\lib\\site-packages\\pandas\\core\\generic.py\u001b[0m in \u001b[0;36m__getattr__\u001b[1;34m(self, name)\u001b[0m\n\u001b[0;32m   5460\u001b[0m         ):\n\u001b[0;32m   5461\u001b[0m             \u001b[1;32mreturn\u001b[0m \u001b[0mobject\u001b[0m\u001b[1;33m.\u001b[0m\u001b[0m__getattribute__\u001b[0m\u001b[1;33m(\u001b[0m\u001b[0mself\u001b[0m\u001b[1;33m,\u001b[0m \u001b[0mname\u001b[0m\u001b[1;33m)\u001b[0m\u001b[1;33m\u001b[0m\u001b[1;33m\u001b[0m\u001b[0m\n\u001b[1;32m-> 5462\u001b[1;33m         \u001b[1;32melse\u001b[0m\u001b[1;33m:\u001b[0m\u001b[1;33m\u001b[0m\u001b[1;33m\u001b[0m\u001b[0m\n\u001b[0m\u001b[0;32m   5463\u001b[0m             \u001b[1;32mif\u001b[0m \u001b[0mself\u001b[0m\u001b[1;33m.\u001b[0m\u001b[0m_info_axis\u001b[0m\u001b[1;33m.\u001b[0m\u001b[0m_can_hold_identifiers_and_holds_name\u001b[0m\u001b[1;33m(\u001b[0m\u001b[0mname\u001b[0m\u001b[1;33m)\u001b[0m\u001b[1;33m:\u001b[0m\u001b[1;33m\u001b[0m\u001b[1;33m\u001b[0m\u001b[0m\n\u001b[0;32m   5464\u001b[0m                 \u001b[1;32mreturn\u001b[0m \u001b[0mself\u001b[0m\u001b[1;33m[\u001b[0m\u001b[0mname\u001b[0m\u001b[1;33m]\u001b[0m\u001b[1;33m\u001b[0m\u001b[1;33m\u001b[0m\u001b[0m\n",
      "\u001b[1;31mAttributeError\u001b[0m: 'Series' object has no attribute 'columns'"
     ]
    }
   ],
   "source": [
    "from sklearn.ensemble import RandomForestClassifier\n",
    "import pandas as pd\n",
    "from pyexplainer_pyexplainer import PyExplainer\n",
    "import pickle\n",
    "import os\n",
    "\n",
    "\n",
    "cwd = os.getcwd()\n",
    "parent_dir = os.path.dirname(cwd)\n",
    "print(parent_dir)\n",
    "path_train = parent_dir + \"/tests/pyexplainer_test_data/activemq-5.0.0.zip\"\n",
    "data = pd.read_csv(path_train, index_col = 'File')\n",
    "\n",
    "dep = data.columns[-4]\n",
    "indep = data.columns[0:(len(data.columns) - 4)]\n",
    "\n",
    "\n",
    "X_train = data.loc[:, indep]\n",
    "y_train = data.loc[:, dep]\n",
    "\n",
    "blackbox_model = RandomForestClassifier(max_depth=3, random_state=0)\n",
    "blackbox_model.fit(X_train, y_train)\n",
    "\n",
    "class_label = ['Clean', 'Defect']\n",
    "pyExp = PyExplainer(X_train,\n",
    "            y_train,\n",
    "            indep,\n",
    "            dep,\n",
    "            blackbox_model,\n",
    "            class_label=class_label)\n",
    "\n",
    "path_test = parent_dir + \"/tests/pyexplainer_test_data/activemq-5.1.0.zip\"\n",
    "sample_test_data = pd.read_csv(path_test, index_col = 'File')\n",
    "X_test = sample_test_data.loc[:, indep]\n",
    "y_test = sample_test_data.loc[:, dep]\n",
    "\n",
    "\n",
    "sample_explain_index = 0\n",
    "pyExp.X_explain = X_test.iloc[[sample_explain_index]]\n",
    "pyExp.y_explain = y_test.iloc[[sample_explain_index]]\n",
    "\n",
    "\n",
    "# Util functions for reading and writing data\n",
    "def save_object(object_i, filename):\n",
    "    with open(filename, 'wb') as file:\n",
    "        pickle.dump(object_i, file)\n",
    "\n",
    "def load_object(filename):\n",
    "    with open(filename, 'rb') as file:\n",
    "        object_o = pickle.load(file)\n",
    "    return (object_o)\n",
    "\n",
    "# load rule obj\n",
    "if os.path.isfile('../tests/pyExplainer_obj.pyobject'):\n",
    "    load_pyExp_rule_obj = load_object('../tests/pyExplainer_obj.pyobject')\n",
    "print(len(X_train.columns), \" \", len(X_test.columns))\n",
    "print(len(y_train), \" \", len(y_test))"
   ]
  },
  {
   "cell_type": "code",
   "execution_count": 5,
   "id": "portable-preparation",
   "metadata": {},
   "outputs": [
    {
     "data": {
      "application/vnd.jupyter.widget-view+json": {
       "model_id": "777f986d03cf4b59bd1ff03c987c1838",
       "version_major": 2,
       "version_minor": 0
      },
      "text/plain": [
       "HBox(children=(Label(value='Risk Score: '), FloatProgress(value=0.0, bar_style='info', layout=Layout(width='40…"
      ]
     },
     "metadata": {},
     "output_type": "display_data"
    },
    {
     "data": {
      "application/vnd.jupyter.widget-view+json": {
       "model_id": "61308e92d19c4d079bdbc479d10f151f",
       "version_major": 2,
       "version_minor": 0
      },
      "text/plain": [
       "FloatSlider(value=10.0, continuous_update=False, description='#1 Increase the values of CountStmt to more than…"
      ]
     },
     "metadata": {},
     "output_type": "display_data"
    },
    {
     "data": {
      "application/vnd.jupyter.widget-view+json": {
       "model_id": "7e4e9a5478c04086aca3405dec4adc08",
       "version_major": 2,
       "version_minor": 0
      },
      "text/plain": [
       "FloatSlider(value=1.0, continuous_update=False, description='#2 Decrease the values of MAJOR_COMMIT to less th…"
      ]
     },
     "metadata": {},
     "output_type": "display_data"
    },
    {
     "data": {
      "application/vnd.jupyter.widget-view+json": {
       "model_id": "025b5ffc859c45e5a7f8c5891d36b887",
       "version_major": 2,
       "version_minor": 0
      },
      "text/plain": [
       "FloatSlider(value=1.0, continuous_update=False, description='#3 Decrease the values of COMM to less than 1', l…"
      ]
     },
     "metadata": {},
     "output_type": "display_data"
    },
    {
     "data": {
      "application/vnd.jupyter.widget-view+json": {
       "model_id": "8d9d1c80798842ca9eae907287448b8a",
       "version_major": 2,
       "version_minor": 0
      },
      "text/plain": [
       "Output(layout=Layout(border='3px solid black'))"
      ]
     },
     "metadata": {},
     "output_type": "display_data"
    }
   ],
   "source": [
    "pyExp.visualise(load_pyExp_rule_obj)"
   ]
  },
  {
   "cell_type": "code",
   "execution_count": 6,
   "id": "statutory-universal",
   "metadata": {},
   "outputs": [
    {
     "name": "stdout",
     "output_type": "stream",
     "text": [
      "[{'riskScore': ['8%'], 'riskPred': ['Clean']}]\n"
     ]
    }
   ],
   "source": [
    "print(pyExp.risk_data)"
   ]
  },
  {
   "cell_type": "code",
   "execution_count": 7,
   "id": "insured-sculpture",
   "metadata": {},
   "outputs": [
    {
     "name": "stdout",
     "output_type": "stream",
     "text": [
      "[{'title': '#1 Increase the values of CountStmt to more than 10', 'subtitle': 'Actual = 10', 'ticks': [2.0, 196.0], 'step': [1], 'startPoints': [0, 222.0], 'widths': [222.0, 228.0], 'colors': ['#d7191c', '#a6d96a'], 'markers': [10], 'varRef': 'CountStmt'}, {'title': '#2 Decrease the values of MAJOR_COMMIT to less than 1', 'subtitle': 'Actual = 1', 'ticks': [1.0, 2.0], 'step': [0.1], 'startPoints': [0, 248.0], 'widths': [248.0, 202.0], 'colors': ['#a6d96a', '#d7191c'], 'markers': [1], 'varRef': 'MAJOR_COMMIT'}, {'title': '#3 Decrease the values of COMM to less than 1', 'subtitle': 'Actual = 1', 'ticks': [1, 8.0], 'step': [0.1], 'startPoints': [0, 289.0], 'widths': [289.0, 161.0], 'colors': ['#a6d96a', '#d7191c'], 'markers': [1], 'varRef': 'COMM'}]\n"
     ]
    }
   ],
   "source": [
    "print(pyExp.bullet_data)"
   ]
  },
  {
   "cell_type": "code",
   "execution_count": 3,
   "id": "activated-payroll",
   "metadata": {},
   "outputs": [
    {
     "name": "stdout",
     "output_type": "stream",
     "text": [
      "executed\n",
      "1  completed\n",
      "CPU times: user 8.04 s, sys: 345 ms, total: 8.39 s\n",
      "Wall time: 20.5 s\n"
     ]
    }
   ],
   "source": [
    "%%time\n",
    "import warnings\n",
    "\n",
    "explain_index = 1\n",
    "X_explain = X_test.iloc[[explain_index]]\n",
    "y_explain = y_test.iloc[[explain_index]]\n",
    "\n",
    "with warnings.catch_warnings():\n",
    "    warnings.filterwarnings('error')\n",
    "    try:\n",
    "        print(\"executed\")\n",
    "        pyExp_rule_obj = pyExp.explain(X_explain,\n",
    "                               y_explain,\n",
    "                               search_function = 'crossoverinterpolation',\n",
    "                               top_k = 3, \n",
    "                               max_rules=30, \n",
    "                               max_iter =5, \n",
    "                               cv=5,\n",
    "                               debug = False)\n",
    "        print(explain_index, \" completed\")\n",
    "    except Warning:\n",
    "        not_converge_index.append(i)\n",
    "        print(\"Index \", explain_index, \" cannot be coverged!\")"
   ]
  },
  {
   "cell_type": "markdown",
   "id": "mature-discharge",
   "metadata": {},
   "source": [
    "### 3.4 Load Sample Rule Object"
   ]
  },
  {
   "cell_type": "markdown",
   "id": "billion-essay",
   "metadata": {},
   "source": [
    "#### 3.4.1 Create Reading and Writing Functions"
   ]
  },
  {
   "cell_type": "code",
   "execution_count": 13,
   "id": "hollow-karaoke",
   "metadata": {},
   "outputs": [],
   "source": [
    "import pickle\n",
    "import os.path\n",
    "\n",
    "# Util functions for reading and writing data\n",
    "def save_object(object_i, filename):\n",
    "    with open(filename, 'wb') as file:\n",
    "        pickle.dump(object_i, file)\n",
    "\n",
    "def load_object(filename):\n",
    "    with open(filename, 'rb') as file:\n",
    "        object_o = pickle.load(file)\n",
    "    return (object_o)"
   ]
  },
  {
   "cell_type": "markdown",
   "id": "dated-hamilton",
   "metadata": {},
   "source": [
    "#### 3.4.2 Load Sample Rule Object"
   ]
  },
  {
   "cell_type": "code",
   "execution_count": 14,
   "id": "automatic-cabin",
   "metadata": {},
   "outputs": [],
   "source": [
    "# load rule obj\n",
    "if os.path.isfile('../tests/pyExplainer_obj.pyobject'):\n",
    "    pyExp_rule_obj = load_object('../tests/pyExplainer_obj.pyobject')"
   ]
  },
  {
   "cell_type": "markdown",
   "id": "architectural-broad",
   "metadata": {},
   "source": [
    "## 4. Pass Rule Object to .visualise(rule_obj) to Generate the Bullet Chart and Interactive Slider\n",
    "#### Note. the interactive slider is not available in this version"
   ]
  },
  {
   "cell_type": "code",
   "execution_count": 15,
   "id": "after-withdrawal",
   "metadata": {},
   "outputs": [
    {
     "name": "stdout",
     "output_type": "stream",
     "text": [
      "Min 2 Max 987 threshold 97.83 Actual 10 Plot_min 2.0 Plot_max 196.0\n",
      "Min 1 Max 4 threshold 1.55 Actual 1 Plot_min 1.0 Plot_max 2.0\n",
      "Min 1 Max 23 threshold 5.5 Actual 1 Plot_min 1 Plot_max 8.0\n"
     ]
    },
    {
     "data": {
      "application/vnd.jupyter.widget-view+json": {
       "model_id": "e41b9293f9d54946b2ad30cac0f4fc4d",
       "version_major": 2,
       "version_minor": 0
      },
      "text/plain": [
       "HBox(children=(Label(value='Risk Score: '), FloatProgress(value=0.0, bar_style='info', layout=Layout(width='40…"
      ]
     },
     "metadata": {},
     "output_type": "display_data"
    },
    {
     "data": {
      "application/vnd.jupyter.widget-view+json": {
       "model_id": "616f940f73b74a97a4c2e7380afdf44c",
       "version_major": 2,
       "version_minor": 0
      },
      "text/plain": [
       "FloatSlider(value=10.0, continuous_update=False, description='#1 Increase the values of CountStmt to more than…"
      ]
     },
     "metadata": {},
     "output_type": "display_data"
    },
    {
     "data": {
      "application/vnd.jupyter.widget-view+json": {
       "model_id": "33acf682deee4d2b9ebffbe3cfd25158",
       "version_major": 2,
       "version_minor": 0
      },
      "text/plain": [
       "FloatSlider(value=1.0, continuous_update=False, description='#2 Decrease the values of MAJOR_COMMIT to less th…"
      ]
     },
     "metadata": {},
     "output_type": "display_data"
    },
    {
     "data": {
      "application/vnd.jupyter.widget-view+json": {
       "model_id": "27800eded4974512b956d242521ae020",
       "version_major": 2,
       "version_minor": 0
      },
      "text/plain": [
       "FloatSlider(value=1.0, continuous_update=False, description='#3 Decrease the values of COMM to less than 1', l…"
      ]
     },
     "metadata": {},
     "output_type": "display_data"
    },
    {
     "data": {
      "application/vnd.jupyter.widget-view+json": {
       "model_id": "67085619c18341dda25e52b40b46c20d",
       "version_major": 2,
       "version_minor": 0
      },
      "text/plain": [
       "Output(layout=Layout(border='3px solid black'))"
      ]
     },
     "metadata": {},
     "output_type": "display_data"
    }
   ],
   "source": [
    "pyExp.visualise(pyExp_rule_obj)"
   ]
  },
  {
   "cell_type": "markdown",
   "id": "minute-forth",
   "metadata": {},
   "source": [
    "## Create a Rule Object Manually \n",
    "#### Note. This may take a while to execute"
   ]
  },
  {
   "cell_type": "code",
   "execution_count": 1,
   "id": "spanish-fleece",
   "metadata": {},
   "outputs": [
    {
     "data": {
      "text/plain": [
       "{'synthetic_data':       CountDeclMethodPrivate  AvgLineCode  CountLine  MaxCyclomatic  \\\n",
       " 0                        0.0         6.00     124.00           5.00   \n",
       " 1                        0.0         6.00     262.00           7.00   \n",
       " 2                        0.0         6.00     252.00           4.00   \n",
       " 3                        0.0         7.00     201.00           6.00   \n",
       " 4                        0.0         3.00      86.00           1.00   \n",
       " ...                      ...          ...        ...            ...   \n",
       " 2235                     0.0         4.14     159.48           5.86   \n",
       " 2236                     0.0         5.56      92.78           2.82   \n",
       " 2237                     1.0         9.65     352.30           5.00   \n",
       " 2238                     0.0         4.22     165.03           5.05   \n",
       " 2239                     0.0         7.78      82.90           2.59   \n",
       " \n",
       "       CountDeclMethodDefault  AvgEssential  CountDeclClassVariable  \\\n",
       " 0                       0.00           1.0                    0.00   \n",
       " 1                       0.00           1.0                    0.00   \n",
       " 2                       0.00           1.0                    2.00   \n",
       " 3                      12.00           1.0                    1.00   \n",
       " 4                       0.00           1.0                    0.00   \n",
       " ...                      ...           ...                     ...   \n",
       " 2235                    0.00           1.0                    1.00   \n",
       " 2236                    1.00           1.0                   -0.91   \n",
       " 2237                   -3.17           1.0                    0.53   \n",
       " 2238                    0.00           1.0                    1.83   \n",
       " 2239                    0.00           1.0                    0.00   \n",
       " \n",
       "       SumCyclomaticStrict  AvgCyclomatic  AvgLine  ...  ADEV  DDEV  \\\n",
       " 0                   12.00           2.00    14.00  ...  1.00  1.00   \n",
       " 1                   38.00           2.00    11.00  ...  2.00  2.00   \n",
       " 2                   31.00           2.00    12.00  ...  7.00  2.00   \n",
       " 3                   40.00           2.00     7.00  ...  5.00  2.00   \n",
       " 4                   12.00           1.00     3.00  ...  2.00  1.00   \n",
       " ...                   ...            ...      ...  ...   ...   ...   \n",
       " 2235                19.58           1.93     5.14  ...  6.86  2.00   \n",
       " 2236                 8.30           1.91     5.56  ...  3.82  1.91   \n",
       " 2237                66.88           2.00    13.53  ...  6.53  2.00   \n",
       " 2238                24.05           1.61     5.83  ...  3.22  1.61   \n",
       " 2239                 6.80           1.80    11.76  ...  1.00  0.20   \n",
       " \n",
       "       Added_lines  Del_lines  OWN_LINE  OWN_COMMIT  MINOR_COMMIT  MINOR_LINE  \\\n",
       " 0           24.00      19.00      1.00        1.00           0.0        1.00   \n",
       " 1           37.00      20.00      0.99        0.50           0.0        1.00   \n",
       " 2          340.00      88.00      0.80        0.57           0.0        2.00   \n",
       " 3           56.00      53.00      0.56        0.60           0.0        2.00   \n",
       " 4            4.00       5.00      0.88        1.00           0.0        2.00   \n",
       " ...           ...        ...       ...         ...           ...         ...   \n",
       " 2235        36.17      31.24      0.43        0.80           0.0        3.93   \n",
       " 2236        70.42      62.30      0.59        0.85           0.0        2.00   \n",
       " 2237       188.88     173.53      1.14        0.50           0.0        0.94   \n",
       " 2238       123.41     121.74      0.84        0.88           0.0        1.17   \n",
       " 2239       -25.29       9.97      0.40        1.40           0.0        3.80   \n",
       " \n",
       "       MAJOR_COMMIT  MAJOR_LINE  \n",
       " 0             1.00        0.00  \n",
       " 1             2.00        2.00  \n",
       " 2             2.00        0.00  \n",
       " 3             2.00        2.00  \n",
       " 4             1.00        0.00  \n",
       " ...            ...         ...  \n",
       " 2235          2.00        1.00  \n",
       " 2236          1.91        1.82  \n",
       " 2237          2.00        0.00  \n",
       " 2238          1.61        0.61  \n",
       " 2239          0.20       -0.80  \n",
       " \n",
       " [2240 rows x 65 columns],\n",
       " 'synthetic_predictions': array([False,  True,  True, ...,  True, False, False]),\n",
       " 'X_explain':                                                     CountDeclMethodPrivate  \\\n",
       " File                                                                         \n",
       " activemq-console/src/main/java/org/apache/activ...                       0   \n",
       " \n",
       "                                                     AvgLineCode  CountLine  \\\n",
       " File                                                                         \n",
       " activemq-console/src/main/java/org/apache/activ...           10        171   \n",
       " \n",
       "                                                     MaxCyclomatic  \\\n",
       " File                                                                \n",
       " activemq-console/src/main/java/org/apache/activ...              5   \n",
       " \n",
       "                                                     CountDeclMethodDefault  \\\n",
       " File                                                                         \n",
       " activemq-console/src/main/java/org/apache/activ...                       0   \n",
       " \n",
       "                                                     AvgEssential  \\\n",
       " File                                                               \n",
       " activemq-console/src/main/java/org/apache/activ...             2   \n",
       " \n",
       "                                                     CountDeclClassVariable  \\\n",
       " File                                                                         \n",
       " activemq-console/src/main/java/org/apache/activ...                       0   \n",
       " \n",
       "                                                     SumCyclomaticStrict  \\\n",
       " File                                                                      \n",
       " activemq-console/src/main/java/org/apache/activ...                   18   \n",
       " \n",
       "                                                     AvgCyclomatic  AvgLine  \\\n",
       " File                                                                         \n",
       " activemq-console/src/main/java/org/apache/activ...              2       18   \n",
       " \n",
       "                                                     ...  ADEV  DDEV  \\\n",
       " File                                                ...               \n",
       " activemq-console/src/main/java/org/apache/activ...  ...     1     1   \n",
       " \n",
       "                                                     Added_lines  Del_lines  \\\n",
       " File                                                                         \n",
       " activemq-console/src/main/java/org/apache/activ...           32         18   \n",
       " \n",
       "                                                     OWN_LINE  OWN_COMMIT  \\\n",
       " File                                                                       \n",
       " activemq-console/src/main/java/org/apache/activ...       1.0         1.0   \n",
       " \n",
       "                                                     MINOR_COMMIT  MINOR_LINE  \\\n",
       " File                                                                           \n",
       " activemq-console/src/main/java/org/apache/activ...             0           1   \n",
       " \n",
       "                                                     MAJOR_COMMIT  MAJOR_LINE  \n",
       " File                                                                          \n",
       " activemq-console/src/main/java/org/apache/activ...             1           0  \n",
       " \n",
       " [1 rows x 65 columns],\n",
       " 'y_explain': File\n",
       " activemq-console/src/main/java/org/apache/activemq/console/command/AbstractAmqCommand.java    False\n",
       " Name: RealBug, dtype: bool,\n",
       " 'indep': Index(['CountDeclMethodPrivate', 'AvgLineCode', 'CountLine', 'MaxCyclomatic',\n",
       "        'CountDeclMethodDefault', 'AvgEssential', 'CountDeclClassVariable',\n",
       "        'SumCyclomaticStrict', 'AvgCyclomatic', 'AvgLine',\n",
       "        'CountDeclClassMethod', 'AvgLineComment', 'AvgCyclomaticModified',\n",
       "        'CountDeclFunction', 'CountLineComment', 'CountDeclClass',\n",
       "        'CountDeclMethod', 'SumCyclomaticModified', 'CountLineCodeDecl',\n",
       "        'CountDeclMethodProtected', 'CountDeclInstanceVariable',\n",
       "        'MaxCyclomaticStrict', 'CountDeclMethodPublic', 'CountLineCodeExe',\n",
       "        'SumCyclomatic', 'SumEssential', 'CountStmtDecl', 'CountLineCode',\n",
       "        'CountStmtExe', 'RatioCommentToCode', 'CountLineBlank', 'CountStmt',\n",
       "        'MaxCyclomaticModified', 'CountSemicolon', 'AvgLineBlank',\n",
       "        'CountDeclInstanceMethod', 'AvgCyclomaticStrict',\n",
       "        'PercentLackOfCohesion', 'MaxInheritanceTree', 'CountClassDerived',\n",
       "        'CountClassCoupled', 'CountClassBase', 'CountInput_Max',\n",
       "        'CountInput_Mean', 'CountInput_Min', 'CountOutput_Max',\n",
       "        'CountOutput_Mean', 'CountOutput_Min', 'CountPath_Max',\n",
       "        'CountPath_Mean', 'CountPath_Min', 'MaxNesting_Max', 'MaxNesting_Mean',\n",
       "        'MaxNesting_Min', 'COMM', 'ADEV', 'DDEV', 'Added_lines', 'Del_lines',\n",
       "        'OWN_LINE', 'OWN_COMMIT', 'MINOR_COMMIT', 'MINOR_LINE', 'MAJOR_COMMIT',\n",
       "        'MAJOR_LINE'],\n",
       "       dtype='object'),\n",
       " 'dep': 'RealBug',\n",
       " 'top_k_positive_rules':                                                  rule  type      coef  \\\n",
       " 76  OWN_COMMIT <= 0.8449999988079071 & CountLineCo...  rule  0.432357   \n",
       " 86  CountLineCode > 122.33000183105469 & DDEV > 1....  rule  0.404110   \n",
       " 79  CountLine > 165.06000518798828 & ADEV > 4.7950...  rule  0.442958   \n",
       " \n",
       "      support  importance   Class  \n",
       " 76  0.148825    0.153883  Defect  \n",
       " 86  0.146214    0.142780  Defect  \n",
       " 79  0.117493    0.142636  Defect  ,\n",
       " 'top_k_negative_rules':                                                  rule  type      coef  \\\n",
       " 95  CountLineCode <= 137.16000366210938 & ADEV <= ...  rule -0.333208   \n",
       " 84  DDEV <= 1.9350000023841858 & CountStmtDecl <= ...  rule -0.328171   \n",
       " 91  COMM <= 5.740000009536743 & CountLineCode <= 1...  rule -0.317833   \n",
       " \n",
       "      support  importance  Class  \n",
       " 95  0.778068    0.138463  Clean  \n",
       " 84  0.791123    0.133404  Clean  \n",
       " 91  0.783290    0.130948  Clean  }"
      ]
     },
     "execution_count": 1,
     "metadata": {},
     "output_type": "execute_result"
    }
   ],
   "source": [
    "from pyexplainer_pyexplainer import PyExplainer\n",
    "import pandas as pd\n",
    "from sklearn.ensemble import RandomForestClassifier\n",
    "data = pd.read_csv('../tests/pyexplainer_test_data/activemq-5.0.0.csv', index_col = 'File')\n",
    "dep = data.columns[-4]\n",
    "indep = data.columns[0:(len(data.columns) - 4)]\n",
    "X_train = data.loc[:, indep]\n",
    "y_train = data.loc[:, dep]\n",
    "blackbox_model = RandomForestClassifier(max_depth=3, random_state=0)\n",
    "blackbox_model.fit(X_train, y_train)\n",
    "class_label = ['Clean', 'Defect']\n",
    "pyExp = PyExplainer(X_train, y_train, indep, dep, class_label, blackbox_model)\n",
    "sample_test_data = pd.read_csv('../tests/pyexplainer_test_data/activemq-5.0.0.csv', index_col = 'File')\n",
    "X_test = sample_test_data.loc[:, indep]\n",
    "y_test = sample_test_data.loc[:, dep]\n",
    "sample_explain_index = 0\n",
    "X_explain = X_test.iloc[[sample_explain_index]]\n",
    "y_explain = y_test.iloc[[sample_explain_index]]\n",
    "pyExp.explain(X_explain,\n",
    "                           y_explain,\n",
    "                           search_function = 'crossoverinterpolation',\n",
    "                           top_k = 3,\n",
    "                           max_rules=30,\n",
    "                           max_iter =5,\n",
    "                           cv=5,\n",
    "                           debug = False)"
   ]
  },
  {
   "cell_type": "markdown",
   "id": "varying-concentrate",
   "metadata": {},
   "source": [
    "## Introduction to Rule Object"
   ]
  },
  {
   "cell_type": "markdown",
   "id": "published-conversation",
   "metadata": {},
   "source": [
    "### 1. Basic Data Check"
   ]
  },
  {
   "cell_type": "code",
   "execution_count": 19,
   "id": "upper-attachment",
   "metadata": {},
   "outputs": [
    {
     "name": "stdout",
     "output_type": "stream",
     "text": [
      "Type of Rule Object:  <class 'dict'>\n",
      "\n",
      "All of the keys in Rule Object\n",
      "Key  1  -  synthetic_data\n",
      "Key  2  -  synthetic_predictions\n",
      "Key  3  -  X_explain\n",
      "Key  4  -  y_explain\n",
      "Key  5  -  indep\n",
      "Key  6  -  dep\n",
      "Key  7  -  top_k_positive_rules\n",
      "Key  8  -  top_k_negative_rules\n"
     ]
    }
   ],
   "source": [
    "print(\"Type of Rule Object: \", type(pyExp_rule_obj))\n",
    "print()\n",
    "print(\"All of the keys in Rule Object\")\n",
    "i = 1\n",
    "for k in pyExp_rule_obj.keys():\n",
    "    print(\"Key \", i, \" - \",k)\n",
    "    i += 1"
   ]
  },
  {
   "cell_type": "code",
   "execution_count": null,
   "id": "secondary-divorce",
   "metadata": {},
   "outputs": [],
   "source": []
  }
 ],
 "metadata": {
  "kernelspec": {
   "display_name": "Python 3",
   "language": "python",
   "name": "python3"
  },
  "language_info": {
   "codemirror_mode": {
    "name": "ipython",
    "version": 3
   },
   "file_extension": ".py",
   "mimetype": "text/x-python",
   "name": "python",
   "nbconvert_exporter": "python",
   "pygments_lexer": "ipython3",
   "version": "3.8.8"
  }
 },
 "nbformat": 4,
 "nbformat_minor": 5
}
