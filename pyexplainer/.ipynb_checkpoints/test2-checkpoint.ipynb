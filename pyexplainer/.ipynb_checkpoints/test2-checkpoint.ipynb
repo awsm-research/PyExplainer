{
 "cells": [
  {
   "cell_type": "code",
   "execution_count": 1,
   "id": "above-scout",
   "metadata": {},
   "outputs": [
    {
     "ename": "NameError",
     "evalue": "name 'default' is not defined",
     "output_type": "error",
     "traceback": [
      "\u001b[1;31m---------------------------------------------------------------------------\u001b[0m",
      "\u001b[1;31mNameError\u001b[0m                                 Traceback (most recent call last)",
      "\u001b[1;32m<ipython-input-1-69092d349912>\u001b[0m in \u001b[0;36m<module>\u001b[1;34m\u001b[0m\n\u001b[0;32m     11\u001b[0m                              blackbox_model=default_data_and_model['blackbox_model'])\n\u001b[0;32m     12\u001b[0m \u001b[1;33m\u001b[0m\u001b[0m\n\u001b[1;32m---> 13\u001b[1;33m \u001b[0mrules\u001b[0m \u001b[1;33m=\u001b[0m \u001b[0mpy_explainer\u001b[0m\u001b[1;33m.\u001b[0m\u001b[0mexplain\u001b[0m\u001b[1;33m(\u001b[0m\u001b[0mdefault\u001b[0m\u001b[1;33m[\u001b[0m\u001b[1;34m'X_explain'\u001b[0m\u001b[1;33m]\u001b[0m\u001b[1;33m,\u001b[0m \u001b[0mdefault\u001b[0m\u001b[1;33m[\u001b[0m\u001b[1;34m'y_explain'\u001b[0m\u001b[1;33m]\u001b[0m\u001b[1;33m)\u001b[0m\u001b[1;33m\u001b[0m\u001b[1;33m\u001b[0m\u001b[0m\n\u001b[0m\u001b[0;32m     14\u001b[0m \u001b[1;33m\u001b[0m\u001b[0m\n\u001b[0;32m     15\u001b[0m \u001b[0mpy_explainer\u001b[0m\u001b[1;33m.\u001b[0m\u001b[0mvisualise\u001b[0m\u001b[1;33m(\u001b[0m\u001b[0mrules\u001b[0m\u001b[1;33m)\u001b[0m\u001b[1;33m\u001b[0m\u001b[1;33m\u001b[0m\u001b[0m\n",
      "\u001b[1;31mNameError\u001b[0m: name 'default' is not defined"
     ]
    }
   ],
   "source": [
    "from pyexplainer_pyexplainer import PyExplainer\n",
    "import pyexplainer_pyexplainer\n",
    "\n",
    "\n",
    "default_data_and_model = pyexplainer_pyexplainer.get_default_data_and_model()\n",
    "\n",
    "py_explainer = PyExplainer(X_train=default_data_and_model['X_train'],\n",
    "                             y_train=default_data_and_model['y_train'],\n",
    "                             indep=default_data_and_model['indep'],\n",
    "                             dep=default_data_and_model['dep'],\n",
    "                             blackbox_model=default_data_and_model['blackbox_model'])\n",
    "\n",
    "rules = py_explainer.explain(default_data_and_model['X_explain'], default_data_and_model['y_explain'])\n",
    "\n",
    "py_explainer.visualise(rules)"
   ]
  },
  {
   "cell_type": "code",
   "execution_count": null,
   "id": "received-confirmation",
   "metadata": {},
   "outputs": [],
   "source": []
  }
 ],
 "metadata": {
  "kernelspec": {
   "display_name": "Python 3",
   "language": "python",
   "name": "python3"
  },
  "language_info": {
   "codemirror_mode": {
    "name": "ipython",
    "version": 3
   },
   "file_extension": ".py",
   "mimetype": "text/x-python",
   "name": "python",
   "nbconvert_exporter": "python",
   "pygments_lexer": "ipython3",
   "version": "3.8.8"
  }
 },
 "nbformat": 4,
 "nbformat_minor": 5
}
