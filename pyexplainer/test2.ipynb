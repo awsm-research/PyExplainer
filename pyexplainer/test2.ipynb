{
 "cells": [
  {
   "cell_type": "code",
   "execution_count": 1,
   "id": "insured-housing",
   "metadata": {},
   "outputs": [
    {
     "data": {
      "text/plain": [
       "pyexplainer.rulefit.RuleFit"
      ]
     },
     "execution_count": 1,
     "metadata": {},
     "output_type": "execute_result"
    }
   ],
   "source": [
    "from pyexplainer_pyexplainer import PyExplainer\n",
    "import pyexplainer_pyexplainer\n",
    "\n",
    "default_data_and_model = pyexplainer_pyexplainer.get_default_data_and_model()\n",
    "\n",
    "py_explainer = PyExplainer(X_train=default_data_and_model['X_train'],\n",
    "                             y_train=default_data_and_model['y_train'],\n",
    "                             indep=default_data_and_model['indep'],\n",
    "                             dep=default_data_and_model['dep'],\n",
    "                             blackbox_model=default_data_and_model['blackbox_model'])\n",
    "\n",
    "rules = py_explainer.explain(default_data_and_model['X_explain'], default_data_and_model['y_explain'])\n",
    "type(rules['local_rulefit_model'])\n",
    "#py_explainer.visualise(rules)"
   ]
  },
  {
   "cell_type": "code",
   "execution_count": null,
   "id": "coordinated-listening",
   "metadata": {},
   "outputs": [],
   "source": []
  }
 ],
 "metadata": {
  "kernelspec": {
   "display_name": "Python 3",
   "language": "python",
   "name": "python3"
  },
  "language_info": {
   "codemirror_mode": {
    "name": "ipython",
    "version": 3
   },
   "file_extension": ".py",
   "mimetype": "text/x-python",
   "name": "python",
   "nbconvert_exporter": "python",
   "pygments_lexer": "ipython3",
   "version": "3.8.8"
  }
 },
 "nbformat": 4,
 "nbformat_minor": 5
}
