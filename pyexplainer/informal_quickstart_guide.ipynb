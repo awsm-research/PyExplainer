{
 "cells": [
  {
   "cell_type": "markdown",
   "id": "dated-worst",
   "metadata": {},
   "source": [
    "# <center> 👩‍💻 Welcome to PyExplainer Quickstart Guide 👨‍💻 </center>"
   ]
  },
  {
   "cell_type": "markdown",
   "id": "pregnant-appraisal",
   "metadata": {},
   "source": [
    "# 🛠 Installation\n",
    "#### The pyexplainer package is not stable enough to publish on PyPI at the moment, but we can still install the package pyexplainer on <a href=\"https://test.pypi.org/project/pyexplainer/\">testPyPI</a>\n",
    "\n",
    "### ☠️Warning☠️ >>> Do not use the command from <a href=\"https://test.pypi.org/project/pyexplainer/\">testPyPI</a> (pip install -i https://test.pypi.org/simple/ pyexplainer) !  This code may trigger \"distribution not found error\" when pip is installing the dependencies.\n",
    "\n",
    "### 🤖 Run the cell below to install pyexplainer 0.1.0"
   ]
  },
  {
   "cell_type": "code",
   "execution_count": null,
   "id": "arctic-booth",
   "metadata": {},
   "outputs": [],
   "source": [
    "!pip install --index-url https://test.pypi.org/simple/ --extra-index-url https://pypi.org/simple pyexplainer"
   ]
  },
  {
   "cell_type": "markdown",
   "id": "ideal-bedroom",
   "metadata": {},
   "source": [
    "### 🤖 If the code above did not work, run the cell below, otherwise, you are good to go!"
   ]
  },
  {
   "cell_type": "code",
   "execution_count": null,
   "id": "alert-spirituality",
   "metadata": {},
   "outputs": [],
   "source": [
    "!pip3 install --index-url https://test.pypi.org/simple/ --extra-index-url https://pypi.org/simple pyexplainer"
   ]
  },
  {
   "cell_type": "markdown",
   "id": "regional-promise",
   "metadata": {},
   "source": [
    "# Let's Start !"
   ]
  },
  {
   "cell_type": "markdown",
   "id": "forced-olympus",
   "metadata": {},
   "source": [
    "## 👩🏻‍🔧 1. Build a blackbox model (Here we use Random Forest as an example)"
   ]
  },
  {
   "cell_type": "markdown",
   "id": "crude-promise",
   "metadata": {},
   "source": [
    "### 1.1 Import Libraries Needed"
   ]
  },
  {
   "cell_type": "code",
   "execution_count": 1,
   "id": "stunning-summer",
   "metadata": {},
   "outputs": [],
   "source": [
    "from sklearn.ensemble import RandomForestClassifier\n",
    "import pandas as pd"
   ]
  },
  {
   "cell_type": "markdown",
   "id": "metallic-seattle",
   "metadata": {},
   "source": [
    "### 1.2 Load Sample Dataset"
   ]
  },
  {
   "cell_type": "code",
   "execution_count": 2,
   "id": "alive-volunteer",
   "metadata": {},
   "outputs": [],
   "source": [
    "data = pd.read_csv('../tests/example-datasets/activemq-5.0.0.csv', index_col = 'File')"
   ]
  },
  {
   "cell_type": "markdown",
   "id": "conscious-given",
   "metadata": {},
   "source": [
    "### 1.3 Slicing Data to Prepare X_train, y_train Before Constructing Blackbox Model "
   ]
  },
  {
   "cell_type": "code",
   "execution_count": 3,
   "id": "hungry-belfast",
   "metadata": {},
   "outputs": [
    {
     "name": "stdout",
     "output_type": "stream",
     "text": [
      "data type of 'dep' -  <class 'str'> \n",
      "\n",
      "data type of 'indep' -  <class 'pandas.core.indexes.base.Index'> \n",
      "\n",
      "content of 'dep' -  RealBug \n",
      "\n",
      "content of 'indep' -  Index(['CountDeclMethodPrivate', 'AvgLineCode', 'CountLine', 'MaxCyclomatic',\n",
      "       'CountDeclMethodDefault', 'AvgEssential', 'CountDeclClassVariable',\n",
      "       'SumCyclomaticStrict', 'AvgCyclomatic', 'AvgLine',\n",
      "       'CountDeclClassMethod', 'AvgLineComment', 'AvgCyclomaticModified',\n",
      "       'CountDeclFunction', 'CountLineComment', 'CountDeclClass',\n",
      "       'CountDeclMethod', 'SumCyclomaticModified', 'CountLineCodeDecl',\n",
      "       'CountDeclMethodProtected', 'CountDeclInstanceVariable',\n",
      "       'MaxCyclomaticStrict', 'CountDeclMethodPublic', 'CountLineCodeExe',\n",
      "       'SumCyclomatic', 'SumEssential', 'CountStmtDecl', 'CountLineCode',\n",
      "       'CountStmtExe', 'RatioCommentToCode', 'CountLineBlank', 'CountStmt',\n",
      "       'MaxCyclomaticModified', 'CountSemicolon', 'AvgLineBlank',\n",
      "       'CountDeclInstanceMethod', 'AvgCyclomaticStrict',\n",
      "       'PercentLackOfCohesion', 'MaxInheritanceTree', 'CountClassDerived',\n",
      "       'CountClassCoupled', 'CountClassBase', 'CountInput_Max',\n",
      "       'CountInput_Mean', 'CountInput_Min', 'CountOutput_Max',\n",
      "       'CountOutput_Mean', 'CountOutput_Min', 'CountPath_Max',\n",
      "       'CountPath_Mean', 'CountPath_Min', 'MaxNesting_Max', 'MaxNesting_Mean',\n",
      "       'MaxNesting_Min', 'COMM', 'ADEV', 'DDEV', 'Added_lines', 'Del_lines',\n",
      "       'OWN_LINE', 'OWN_COMMIT', 'MINOR_COMMIT', 'MINOR_LINE', 'MAJOR_COMMIT',\n",
      "       'MAJOR_LINE'],\n",
      "      dtype='object')\n"
     ]
    }
   ],
   "source": [
    "dep = data.columns[-4]\n",
    "indep = data.columns[0:(len(data.columns) - 4)]\n",
    "\n",
    "print(\"data type of 'dep' - \", type(dep), \"\\n\")\n",
    "print(\"data type of 'indep' - \", type(indep), \"\\n\")\n",
    "print(\"content of 'dep' - \", dep, \"\\n\")\n",
    "print(\"content of 'indep' - \", indep)"
   ]
  },
  {
   "cell_type": "markdown",
   "id": "fresh-annex",
   "metadata": {},
   "source": [
    "### 1.4 Prepare X_train, y_train Data for the Blackbox Model Based on the Data from 1.3"
   ]
  },
  {
   "cell_type": "code",
   "execution_count": 4,
   "id": "occasional-impact",
   "metadata": {},
   "outputs": [
    {
     "name": "stdout",
     "output_type": "stream",
     "text": [
      "data type of 'X_train' -  <class 'pandas.core.frame.DataFrame'> \n",
      "\n",
      "data type of 'y_train' -  <class 'pandas.core.series.Series'> \n",
      "\n",
      "-------------------- content of 'X_train' --------------------  \n",
      "\n",
      "                                                     CountDeclMethodPrivate  \\\n",
      "File                                                                         \n",
      "activemq-console/src/main/java/org/apache/activ...                       0   \n",
      "activemq-console/src/main/java/org/apache/activ...                       0   \n",
      "activemq-console/src/main/java/org/apache/activ...                       0   \n",
      "activemq-console/src/main/java/org/apache/activ...                       0   \n",
      "activemq-console/src/main/java/org/apache/activ...                       0   \n",
      "...                                                                    ...   \n",
      "assembly/src/test/java/org/apache/activemq/benc...                       0   \n",
      "assembly/src/test/java/org/apache/activemq/benc...                       0   \n",
      "assembly/src/test/java/org/apache/activemq/benc...                       0   \n",
      "assembly/src/test/java/org/apache/activemq/benc...                       0   \n",
      "assembly/src/test/java/org/apache/activemq/conf...                       0   \n",
      "\n",
      "                                                    AvgLineCode  CountLine  \\\n",
      "File                                                                         \n",
      "activemq-console/src/main/java/org/apache/activ...           10        171   \n",
      "activemq-console/src/main/java/org/apache/activ...            8        123   \n",
      "activemq-console/src/main/java/org/apache/activ...            7        136   \n",
      "activemq-console/src/main/java/org/apache/activ...           29        241   \n",
      "activemq-console/src/main/java/org/apache/activ...           24        212   \n",
      "...                                                         ...        ...   \n",
      "assembly/src/test/java/org/apache/activemq/benc...            5        215   \n",
      "assembly/src/test/java/org/apache/activemq/benc...            9        108   \n",
      "assembly/src/test/java/org/apache/activemq/benc...            9        180   \n",
      "assembly/src/test/java/org/apache/activemq/benc...            6         80   \n",
      "assembly/src/test/java/org/apache/activemq/conf...            9         64   \n",
      "\n",
      "                                                    MaxCyclomatic  \\\n",
      "File                                                                \n",
      "activemq-console/src/main/java/org/apache/activ...              5   \n",
      "activemq-console/src/main/java/org/apache/activ...              5   \n",
      "activemq-console/src/main/java/org/apache/activ...              5   \n",
      "activemq-console/src/main/java/org/apache/activ...             17   \n",
      "activemq-console/src/main/java/org/apache/activ...             17   \n",
      "...                                                           ...   \n",
      "assembly/src/test/java/org/apache/activemq/benc...              6   \n",
      "assembly/src/test/java/org/apache/activemq/benc...              7   \n",
      "assembly/src/test/java/org/apache/activemq/benc...              8   \n",
      "assembly/src/test/java/org/apache/activemq/benc...              7   \n",
      "assembly/src/test/java/org/apache/activemq/conf...              4   \n",
      "\n",
      "                                                    CountDeclMethodDefault  \\\n",
      "File                                                                         \n",
      "activemq-console/src/main/java/org/apache/activ...                       0   \n",
      "activemq-console/src/main/java/org/apache/activ...                       0   \n",
      "activemq-console/src/main/java/org/apache/activ...                       0   \n",
      "activemq-console/src/main/java/org/apache/activ...                       0   \n",
      "activemq-console/src/main/java/org/apache/activ...                       0   \n",
      "...                                                                    ...   \n",
      "assembly/src/test/java/org/apache/activemq/benc...                       0   \n",
      "assembly/src/test/java/org/apache/activemq/benc...                       0   \n",
      "assembly/src/test/java/org/apache/activemq/benc...                       0   \n",
      "assembly/src/test/java/org/apache/activemq/benc...                       0   \n",
      "assembly/src/test/java/org/apache/activemq/conf...                       0   \n",
      "\n",
      "                                                    AvgEssential  \\\n",
      "File                                                               \n",
      "activemq-console/src/main/java/org/apache/activ...             2   \n",
      "activemq-console/src/main/java/org/apache/activ...             1   \n",
      "activemq-console/src/main/java/org/apache/activ...             1   \n",
      "activemq-console/src/main/java/org/apache/activ...             4   \n",
      "activemq-console/src/main/java/org/apache/activ...             3   \n",
      "...                                                          ...   \n",
      "assembly/src/test/java/org/apache/activemq/benc...             1   \n",
      "assembly/src/test/java/org/apache/activemq/benc...             1   \n",
      "assembly/src/test/java/org/apache/activemq/benc...             1   \n",
      "assembly/src/test/java/org/apache/activemq/benc...             1   \n",
      "assembly/src/test/java/org/apache/activemq/conf...             1   \n",
      "\n",
      "                                                    CountDeclClassVariable  \\\n",
      "File                                                                         \n",
      "activemq-console/src/main/java/org/apache/activ...                       0   \n",
      "activemq-console/src/main/java/org/apache/activ...                       1   \n",
      "activemq-console/src/main/java/org/apache/activ...                       1   \n",
      "activemq-console/src/main/java/org/apache/activ...                       5   \n",
      "activemq-console/src/main/java/org/apache/activ...                       5   \n",
      "...                                                                    ...   \n",
      "assembly/src/test/java/org/apache/activemq/benc...                       0   \n",
      "assembly/src/test/java/org/apache/activemq/benc...                       0   \n",
      "assembly/src/test/java/org/apache/activemq/benc...                       0   \n",
      "assembly/src/test/java/org/apache/activemq/benc...                       0   \n",
      "assembly/src/test/java/org/apache/activemq/conf...                       0   \n",
      "\n",
      "                                                    SumCyclomaticStrict  \\\n",
      "File                                                                      \n",
      "activemq-console/src/main/java/org/apache/activ...                   18   \n",
      "activemq-console/src/main/java/org/apache/activ...                   15   \n",
      "activemq-console/src/main/java/org/apache/activ...                   16   \n",
      "activemq-console/src/main/java/org/apache/activ...                   29   \n",
      "activemq-console/src/main/java/org/apache/activ...                   26   \n",
      "...                                                                 ...   \n",
      "assembly/src/test/java/org/apache/activemq/benc...                   35   \n",
      "assembly/src/test/java/org/apache/activemq/benc...                   16   \n",
      "assembly/src/test/java/org/apache/activemq/benc...                   30   \n",
      "assembly/src/test/java/org/apache/activemq/benc...                   13   \n",
      "assembly/src/test/java/org/apache/activemq/conf...                    7   \n",
      "\n",
      "                                                    AvgCyclomatic  AvgLine  \\\n",
      "File                                                                         \n",
      "activemq-console/src/main/java/org/apache/activ...              2       18   \n",
      "activemq-console/src/main/java/org/apache/activ...              3       17   \n",
      "activemq-console/src/main/java/org/apache/activ...              2       13   \n",
      "activemq-console/src/main/java/org/apache/activ...              9       53   \n",
      "activemq-console/src/main/java/org/apache/activ...              8       44   \n",
      "...                                                           ...      ...   \n",
      "assembly/src/test/java/org/apache/activemq/benc...              1        5   \n",
      "assembly/src/test/java/org/apache/activemq/benc...              3       11   \n",
      "assembly/src/test/java/org/apache/activemq/benc...              2       10   \n",
      "assembly/src/test/java/org/apache/activemq/benc...              2        6   \n",
      "assembly/src/test/java/org/apache/activemq/conf...              2        9   \n",
      "\n",
      "                                                    ...  ADEV  DDEV  \\\n",
      "File                                                ...               \n",
      "activemq-console/src/main/java/org/apache/activ...  ...     1     1   \n",
      "activemq-console/src/main/java/org/apache/activ...  ...     2     2   \n",
      "activemq-console/src/main/java/org/apache/activ...  ...     1     1   \n",
      "activemq-console/src/main/java/org/apache/activ...  ...     1     1   \n",
      "activemq-console/src/main/java/org/apache/activ...  ...     1     1   \n",
      "...                                                 ...   ...   ...   \n",
      "assembly/src/test/java/org/apache/activemq/benc...  ...     3     2   \n",
      "assembly/src/test/java/org/apache/activemq/benc...  ...     2     1   \n",
      "assembly/src/test/java/org/apache/activemq/benc...  ...     3     2   \n",
      "assembly/src/test/java/org/apache/activemq/benc...  ...     2     1   \n",
      "assembly/src/test/java/org/apache/activemq/conf...  ...     2     1   \n",
      "\n",
      "                                                    Added_lines  Del_lines  \\\n",
      "File                                                                         \n",
      "activemq-console/src/main/java/org/apache/activ...           32         18   \n",
      "activemq-console/src/main/java/org/apache/activ...           30         28   \n",
      "activemq-console/src/main/java/org/apache/activ...            8          8   \n",
      "activemq-console/src/main/java/org/apache/activ...           76         76   \n",
      "activemq-console/src/main/java/org/apache/activ...           76         76   \n",
      "...                                                         ...        ...   \n",
      "assembly/src/test/java/org/apache/activemq/benc...           25         41   \n",
      "assembly/src/test/java/org/apache/activemq/benc...           12         16   \n",
      "assembly/src/test/java/org/apache/activemq/benc...           16         19   \n",
      "assembly/src/test/java/org/apache/activemq/benc...            5          8   \n",
      "assembly/src/test/java/org/apache/activemq/conf...            7         11   \n",
      "\n",
      "                                                    OWN_LINE  OWN_COMMIT  \\\n",
      "File                                                                       \n",
      "activemq-console/src/main/java/org/apache/activ...  1.000000    1.000000   \n",
      "activemq-console/src/main/java/org/apache/activ...  0.983740    0.500000   \n",
      "activemq-console/src/main/java/org/apache/activ...  1.000000    1.000000   \n",
      "activemq-console/src/main/java/org/apache/activ...  1.000000    1.000000   \n",
      "activemq-console/src/main/java/org/apache/activ...  1.000000    1.000000   \n",
      "...                                                      ...         ...   \n",
      "assembly/src/test/java/org/apache/activemq/benc...  0.846512    0.666667   \n",
      "assembly/src/test/java/org/apache/activemq/benc...  0.814815    1.000000   \n",
      "assembly/src/test/java/org/apache/activemq/benc...  0.866667    0.666667   \n",
      "assembly/src/test/java/org/apache/activemq/benc...  0.837500    1.000000   \n",
      "assembly/src/test/java/org/apache/activemq/conf...  0.750000    1.000000   \n",
      "\n",
      "                                                    MINOR_COMMIT  MINOR_LINE  \\\n",
      "File                                                                           \n",
      "activemq-console/src/main/java/org/apache/activ...             0           1   \n",
      "activemq-console/src/main/java/org/apache/activ...             0           1   \n",
      "activemq-console/src/main/java/org/apache/activ...             0           1   \n",
      "activemq-console/src/main/java/org/apache/activ...             0           1   \n",
      "activemq-console/src/main/java/org/apache/activ...             0           1   \n",
      "...                                                          ...         ...   \n",
      "assembly/src/test/java/org/apache/activemq/benc...             0           2   \n",
      "assembly/src/test/java/org/apache/activemq/benc...             0           2   \n",
      "assembly/src/test/java/org/apache/activemq/benc...             0           2   \n",
      "assembly/src/test/java/org/apache/activemq/benc...             0           2   \n",
      "assembly/src/test/java/org/apache/activemq/conf...             0           2   \n",
      "\n",
      "                                                    MAJOR_COMMIT  MAJOR_LINE  \n",
      "File                                                                          \n",
      "activemq-console/src/main/java/org/apache/activ...             1           0  \n",
      "activemq-console/src/main/java/org/apache/activ...             2           1  \n",
      "activemq-console/src/main/java/org/apache/activ...             1           0  \n",
      "activemq-console/src/main/java/org/apache/activ...             1           0  \n",
      "activemq-console/src/main/java/org/apache/activ...             1           0  \n",
      "...                                                          ...         ...  \n",
      "assembly/src/test/java/org/apache/activemq/benc...             2           1  \n",
      "assembly/src/test/java/org/apache/activemq/benc...             1           1  \n",
      "assembly/src/test/java/org/apache/activemq/benc...             2           2  \n",
      "assembly/src/test/java/org/apache/activemq/benc...             1           1  \n",
      "assembly/src/test/java/org/apache/activemq/conf...             1           1  \n",
      "\n",
      "[1884 rows x 65 columns] \n",
      "\n",
      "-------------------- content of 'y_train' --------------------  \n",
      "\n",
      " File\n",
      "activemq-console/src/main/java/org/apache/activemq/console/command/AbstractAmqCommand.java    False\n",
      "activemq-console/src/main/java/org/apache/activemq/console/command/AbstractCommand.java       False\n",
      "activemq-console/src/main/java/org/apache/activemq/console/command/AbstractJmxCommand.java    False\n",
      "activemq-console/src/main/java/org/apache/activemq/console/command/AmqBrowseCommand.java      False\n",
      "activemq-console/src/main/java/org/apache/activemq/console/command/BrowseCommand.java         False\n",
      "                                                                                              ...  \n",
      "assembly/src/test/java/org/apache/activemq/benchmark/BenchmarkSupport.java                     True\n",
      "assembly/src/test/java/org/apache/activemq/benchmark/Consumer.java                            False\n",
      "assembly/src/test/java/org/apache/activemq/benchmark/Producer.java                             True\n",
      "assembly/src/test/java/org/apache/activemq/benchmark/ProducerConsumer.java                    False\n",
      "assembly/src/test/java/org/apache/activemq/config/BrokerXmlConfigTest.java                    False\n",
      "Name: RealBug, Length: 1884, dtype: bool\n"
     ]
    }
   ],
   "source": [
    "X_train = data.loc[:, indep]\n",
    "y_train = data.loc[:, dep]\n",
    "\n",
    "print(\"data type of 'X_train' - \", type(X_train), \"\\n\")\n",
    "print(\"data type of 'y_train' - \", type(y_train), \"\\n\")\n",
    "print(\"--------------------\", \"content of 'X_train' -------------------- \", \"\\n\\n\", X_train, \"\\n\")\n",
    "print(\"--------------------\", \"content of 'y_train' -------------------- \", \"\\n\\n\", y_train)"
   ]
  },
  {
   "cell_type": "markdown",
   "id": "earlier-shaft",
   "metadata": {},
   "source": [
    "### 1.5 Build a Sample Blackbox RF. Model Using Data from 1.4"
   ]
  },
  {
   "cell_type": "code",
   "execution_count": 5,
   "id": "biological-aside",
   "metadata": {},
   "outputs": [
    {
     "data": {
      "text/plain": [
       "RandomForestClassifier(max_depth=3, random_state=0)"
      ]
     },
     "execution_count": 5,
     "metadata": {},
     "output_type": "execute_result"
    }
   ],
   "source": [
    "blackbox_model = RandomForestClassifier(max_depth=3, random_state=0)\n",
    "blackbox_model.fit(X_train, y_train)"
   ]
  },
  {
   "cell_type": "markdown",
   "id": "artificial-reproduction",
   "metadata": {},
   "source": [
    "## 🚀  2. Create a PyExplainer Object"
   ]
  },
  {
   "cell_type": "markdown",
   "id": "liberal-canon",
   "metadata": {},
   "source": [
    "### 2.1 Import Library Needed"
   ]
  },
  {
   "cell_type": "code",
   "execution_count": 6,
   "id": "laughing-watch",
   "metadata": {},
   "outputs": [],
   "source": [
    "from pyexplainer_pyexplainer import PyExplainer"
   ]
  },
  {
   "cell_type": "markdown",
   "id": "behind-suspect",
   "metadata": {},
   "source": [
    "### 2.2 Define Class Labels for Classification Model"
   ]
  },
  {
   "cell_type": "code",
   "execution_count": 7,
   "id": "premier-music",
   "metadata": {},
   "outputs": [],
   "source": [
    "class_label = ['Clean', 'Defect']"
   ]
  },
  {
   "cell_type": "markdown",
   "id": "incident-senior",
   "metadata": {},
   "source": [
    "### 2.3 Create an Object"
   ]
  },
  {
   "cell_type": "code",
   "execution_count": 8,
   "id": "optional-wrapping",
   "metadata": {},
   "outputs": [
    {
     "data": {
      "text/plain": [
       "<pyexplainer_pyexplainer.PyExplainer at 0x193eca5cca0>"
      ]
     },
     "execution_count": 8,
     "metadata": {},
     "output_type": "execute_result"
    }
   ],
   "source": [
    "pyExp = PyExplainer(X_train,\n",
    "            y_train,\n",
    "            indep,\n",
    "            dep,\n",
    "            class_label,\n",
    "            blackbox_model = blackbox_model)\n",
    "pyExp"
   ]
  },
  {
   "cell_type": "markdown",
   "id": "divided-august",
   "metadata": {},
   "source": [
    "## 💾 3. Prepare Testing Data to be Explained by PyExplainer"
   ]
  },
  {
   "cell_type": "markdown",
   "id": "assisted-deficit",
   "metadata": {},
   "source": [
    "### 3.1 Load Testing Data as pd DataFrame"
   ]
  },
  {
   "cell_type": "code",
   "execution_count": 9,
   "id": "subsequent-niagara",
   "metadata": {},
   "outputs": [
    {
     "data": {
      "text/html": [
       "<div>\n",
       "<style scoped>\n",
       "    .dataframe tbody tr th:only-of-type {\n",
       "        vertical-align: middle;\n",
       "    }\n",
       "\n",
       "    .dataframe tbody tr th {\n",
       "        vertical-align: top;\n",
       "    }\n",
       "\n",
       "    .dataframe thead th {\n",
       "        text-align: right;\n",
       "    }\n",
       "</style>\n",
       "<table border=\"1\" class=\"dataframe\">\n",
       "  <thead>\n",
       "    <tr style=\"text-align: right;\">\n",
       "      <th></th>\n",
       "      <th>CountDeclMethodPrivate</th>\n",
       "      <th>AvgLineCode</th>\n",
       "      <th>CountLine</th>\n",
       "      <th>MaxCyclomatic</th>\n",
       "      <th>CountDeclMethodDefault</th>\n",
       "      <th>AvgEssential</th>\n",
       "      <th>CountDeclClassVariable</th>\n",
       "      <th>SumCyclomaticStrict</th>\n",
       "      <th>AvgCyclomatic</th>\n",
       "      <th>AvgLine</th>\n",
       "      <th>...</th>\n",
       "      <th>OWN_LINE</th>\n",
       "      <th>OWN_COMMIT</th>\n",
       "      <th>MINOR_COMMIT</th>\n",
       "      <th>MINOR_LINE</th>\n",
       "      <th>MAJOR_COMMIT</th>\n",
       "      <th>MAJOR_LINE</th>\n",
       "      <th>RealBug</th>\n",
       "      <th>HeuBug</th>\n",
       "      <th>HeuBugCount</th>\n",
       "      <th>RealBugCount</th>\n",
       "    </tr>\n",
       "    <tr>\n",
       "      <th>File</th>\n",
       "      <th></th>\n",
       "      <th></th>\n",
       "      <th></th>\n",
       "      <th></th>\n",
       "      <th></th>\n",
       "      <th></th>\n",
       "      <th></th>\n",
       "      <th></th>\n",
       "      <th></th>\n",
       "      <th></th>\n",
       "      <th></th>\n",
       "      <th></th>\n",
       "      <th></th>\n",
       "      <th></th>\n",
       "      <th></th>\n",
       "      <th></th>\n",
       "      <th></th>\n",
       "      <th></th>\n",
       "      <th></th>\n",
       "      <th></th>\n",
       "      <th></th>\n",
       "    </tr>\n",
       "  </thead>\n",
       "  <tbody>\n",
       "    <tr>\n",
       "      <th>activemq-console/src/main/java/org/apache/activemq/console/command/AbstractAmqCommand.java</th>\n",
       "      <td>0</td>\n",
       "      <td>10</td>\n",
       "      <td>171</td>\n",
       "      <td>5</td>\n",
       "      <td>0</td>\n",
       "      <td>2</td>\n",
       "      <td>0</td>\n",
       "      <td>18</td>\n",
       "      <td>2</td>\n",
       "      <td>18</td>\n",
       "      <td>...</td>\n",
       "      <td>1.000000</td>\n",
       "      <td>1.000000</td>\n",
       "      <td>0</td>\n",
       "      <td>1</td>\n",
       "      <td>1</td>\n",
       "      <td>0</td>\n",
       "      <td>False</td>\n",
       "      <td>False</td>\n",
       "      <td>0</td>\n",
       "      <td>0</td>\n",
       "    </tr>\n",
       "    <tr>\n",
       "      <th>activemq-console/src/main/java/org/apache/activemq/console/command/AbstractCommand.java</th>\n",
       "      <td>0</td>\n",
       "      <td>8</td>\n",
       "      <td>123</td>\n",
       "      <td>5</td>\n",
       "      <td>0</td>\n",
       "      <td>1</td>\n",
       "      <td>1</td>\n",
       "      <td>15</td>\n",
       "      <td>3</td>\n",
       "      <td>17</td>\n",
       "      <td>...</td>\n",
       "      <td>0.983740</td>\n",
       "      <td>0.500000</td>\n",
       "      <td>0</td>\n",
       "      <td>1</td>\n",
       "      <td>2</td>\n",
       "      <td>1</td>\n",
       "      <td>False</td>\n",
       "      <td>False</td>\n",
       "      <td>0</td>\n",
       "      <td>0</td>\n",
       "    </tr>\n",
       "    <tr>\n",
       "      <th>activemq-console/src/main/java/org/apache/activemq/console/command/AbstractJmxCommand.java</th>\n",
       "      <td>0</td>\n",
       "      <td>7</td>\n",
       "      <td>136</td>\n",
       "      <td>5</td>\n",
       "      <td>0</td>\n",
       "      <td>1</td>\n",
       "      <td>1</td>\n",
       "      <td>16</td>\n",
       "      <td>2</td>\n",
       "      <td>13</td>\n",
       "      <td>...</td>\n",
       "      <td>1.000000</td>\n",
       "      <td>1.000000</td>\n",
       "      <td>0</td>\n",
       "      <td>1</td>\n",
       "      <td>1</td>\n",
       "      <td>0</td>\n",
       "      <td>False</td>\n",
       "      <td>False</td>\n",
       "      <td>0</td>\n",
       "      <td>0</td>\n",
       "    </tr>\n",
       "    <tr>\n",
       "      <th>activemq-console/src/main/java/org/apache/activemq/console/command/AmqBrowseCommand.java</th>\n",
       "      <td>0</td>\n",
       "      <td>29</td>\n",
       "      <td>241</td>\n",
       "      <td>17</td>\n",
       "      <td>0</td>\n",
       "      <td>4</td>\n",
       "      <td>5</td>\n",
       "      <td>29</td>\n",
       "      <td>9</td>\n",
       "      <td>53</td>\n",
       "      <td>...</td>\n",
       "      <td>1.000000</td>\n",
       "      <td>1.000000</td>\n",
       "      <td>0</td>\n",
       "      <td>1</td>\n",
       "      <td>1</td>\n",
       "      <td>0</td>\n",
       "      <td>False</td>\n",
       "      <td>False</td>\n",
       "      <td>0</td>\n",
       "      <td>0</td>\n",
       "    </tr>\n",
       "    <tr>\n",
       "      <th>activemq-console/src/main/java/org/apache/activemq/console/command/BrowseCommand.java</th>\n",
       "      <td>0</td>\n",
       "      <td>24</td>\n",
       "      <td>212</td>\n",
       "      <td>17</td>\n",
       "      <td>0</td>\n",
       "      <td>3</td>\n",
       "      <td>5</td>\n",
       "      <td>26</td>\n",
       "      <td>8</td>\n",
       "      <td>44</td>\n",
       "      <td>...</td>\n",
       "      <td>1.000000</td>\n",
       "      <td>1.000000</td>\n",
       "      <td>0</td>\n",
       "      <td>1</td>\n",
       "      <td>1</td>\n",
       "      <td>0</td>\n",
       "      <td>False</td>\n",
       "      <td>False</td>\n",
       "      <td>0</td>\n",
       "      <td>0</td>\n",
       "    </tr>\n",
       "    <tr>\n",
       "      <th>...</th>\n",
       "      <td>...</td>\n",
       "      <td>...</td>\n",
       "      <td>...</td>\n",
       "      <td>...</td>\n",
       "      <td>...</td>\n",
       "      <td>...</td>\n",
       "      <td>...</td>\n",
       "      <td>...</td>\n",
       "      <td>...</td>\n",
       "      <td>...</td>\n",
       "      <td>...</td>\n",
       "      <td>...</td>\n",
       "      <td>...</td>\n",
       "      <td>...</td>\n",
       "      <td>...</td>\n",
       "      <td>...</td>\n",
       "      <td>...</td>\n",
       "      <td>...</td>\n",
       "      <td>...</td>\n",
       "      <td>...</td>\n",
       "      <td>...</td>\n",
       "    </tr>\n",
       "    <tr>\n",
       "      <th>assembly/src/test/java/org/apache/activemq/benchmark/BenchmarkSupport.java</th>\n",
       "      <td>0</td>\n",
       "      <td>5</td>\n",
       "      <td>215</td>\n",
       "      <td>6</td>\n",
       "      <td>0</td>\n",
       "      <td>1</td>\n",
       "      <td>0</td>\n",
       "      <td>35</td>\n",
       "      <td>1</td>\n",
       "      <td>5</td>\n",
       "      <td>...</td>\n",
       "      <td>0.846512</td>\n",
       "      <td>0.666667</td>\n",
       "      <td>0</td>\n",
       "      <td>2</td>\n",
       "      <td>2</td>\n",
       "      <td>1</td>\n",
       "      <td>True</td>\n",
       "      <td>False</td>\n",
       "      <td>0</td>\n",
       "      <td>1</td>\n",
       "    </tr>\n",
       "    <tr>\n",
       "      <th>assembly/src/test/java/org/apache/activemq/benchmark/Consumer.java</th>\n",
       "      <td>0</td>\n",
       "      <td>9</td>\n",
       "      <td>108</td>\n",
       "      <td>7</td>\n",
       "      <td>0</td>\n",
       "      <td>1</td>\n",
       "      <td>0</td>\n",
       "      <td>16</td>\n",
       "      <td>3</td>\n",
       "      <td>11</td>\n",
       "      <td>...</td>\n",
       "      <td>0.814815</td>\n",
       "      <td>1.000000</td>\n",
       "      <td>0</td>\n",
       "      <td>2</td>\n",
       "      <td>1</td>\n",
       "      <td>1</td>\n",
       "      <td>False</td>\n",
       "      <td>False</td>\n",
       "      <td>0</td>\n",
       "      <td>0</td>\n",
       "    </tr>\n",
       "    <tr>\n",
       "      <th>assembly/src/test/java/org/apache/activemq/benchmark/Producer.java</th>\n",
       "      <td>0</td>\n",
       "      <td>9</td>\n",
       "      <td>180</td>\n",
       "      <td>8</td>\n",
       "      <td>0</td>\n",
       "      <td>1</td>\n",
       "      <td>0</td>\n",
       "      <td>30</td>\n",
       "      <td>2</td>\n",
       "      <td>10</td>\n",
       "      <td>...</td>\n",
       "      <td>0.866667</td>\n",
       "      <td>0.666667</td>\n",
       "      <td>0</td>\n",
       "      <td>2</td>\n",
       "      <td>2</td>\n",
       "      <td>2</td>\n",
       "      <td>True</td>\n",
       "      <td>False</td>\n",
       "      <td>0</td>\n",
       "      <td>1</td>\n",
       "    </tr>\n",
       "    <tr>\n",
       "      <th>assembly/src/test/java/org/apache/activemq/benchmark/ProducerConsumer.java</th>\n",
       "      <td>0</td>\n",
       "      <td>6</td>\n",
       "      <td>80</td>\n",
       "      <td>7</td>\n",
       "      <td>0</td>\n",
       "      <td>1</td>\n",
       "      <td>0</td>\n",
       "      <td>13</td>\n",
       "      <td>2</td>\n",
       "      <td>6</td>\n",
       "      <td>...</td>\n",
       "      <td>0.837500</td>\n",
       "      <td>1.000000</td>\n",
       "      <td>0</td>\n",
       "      <td>2</td>\n",
       "      <td>1</td>\n",
       "      <td>1</td>\n",
       "      <td>False</td>\n",
       "      <td>False</td>\n",
       "      <td>0</td>\n",
       "      <td>0</td>\n",
       "    </tr>\n",
       "    <tr>\n",
       "      <th>assembly/src/test/java/org/apache/activemq/config/BrokerXmlConfigTest.java</th>\n",
       "      <td>0</td>\n",
       "      <td>9</td>\n",
       "      <td>64</td>\n",
       "      <td>4</td>\n",
       "      <td>0</td>\n",
       "      <td>1</td>\n",
       "      <td>0</td>\n",
       "      <td>7</td>\n",
       "      <td>2</td>\n",
       "      <td>9</td>\n",
       "      <td>...</td>\n",
       "      <td>0.750000</td>\n",
       "      <td>1.000000</td>\n",
       "      <td>0</td>\n",
       "      <td>2</td>\n",
       "      <td>1</td>\n",
       "      <td>1</td>\n",
       "      <td>False</td>\n",
       "      <td>False</td>\n",
       "      <td>0</td>\n",
       "      <td>0</td>\n",
       "    </tr>\n",
       "  </tbody>\n",
       "</table>\n",
       "<p>1884 rows × 69 columns</p>\n",
       "</div>"
      ],
      "text/plain": [
       "                                                    CountDeclMethodPrivate  \\\n",
       "File                                                                         \n",
       "activemq-console/src/main/java/org/apache/activ...                       0   \n",
       "activemq-console/src/main/java/org/apache/activ...                       0   \n",
       "activemq-console/src/main/java/org/apache/activ...                       0   \n",
       "activemq-console/src/main/java/org/apache/activ...                       0   \n",
       "activemq-console/src/main/java/org/apache/activ...                       0   \n",
       "...                                                                    ...   \n",
       "assembly/src/test/java/org/apache/activemq/benc...                       0   \n",
       "assembly/src/test/java/org/apache/activemq/benc...                       0   \n",
       "assembly/src/test/java/org/apache/activemq/benc...                       0   \n",
       "assembly/src/test/java/org/apache/activemq/benc...                       0   \n",
       "assembly/src/test/java/org/apache/activemq/conf...                       0   \n",
       "\n",
       "                                                    AvgLineCode  CountLine  \\\n",
       "File                                                                         \n",
       "activemq-console/src/main/java/org/apache/activ...           10        171   \n",
       "activemq-console/src/main/java/org/apache/activ...            8        123   \n",
       "activemq-console/src/main/java/org/apache/activ...            7        136   \n",
       "activemq-console/src/main/java/org/apache/activ...           29        241   \n",
       "activemq-console/src/main/java/org/apache/activ...           24        212   \n",
       "...                                                         ...        ...   \n",
       "assembly/src/test/java/org/apache/activemq/benc...            5        215   \n",
       "assembly/src/test/java/org/apache/activemq/benc...            9        108   \n",
       "assembly/src/test/java/org/apache/activemq/benc...            9        180   \n",
       "assembly/src/test/java/org/apache/activemq/benc...            6         80   \n",
       "assembly/src/test/java/org/apache/activemq/conf...            9         64   \n",
       "\n",
       "                                                    MaxCyclomatic  \\\n",
       "File                                                                \n",
       "activemq-console/src/main/java/org/apache/activ...              5   \n",
       "activemq-console/src/main/java/org/apache/activ...              5   \n",
       "activemq-console/src/main/java/org/apache/activ...              5   \n",
       "activemq-console/src/main/java/org/apache/activ...             17   \n",
       "activemq-console/src/main/java/org/apache/activ...             17   \n",
       "...                                                           ...   \n",
       "assembly/src/test/java/org/apache/activemq/benc...              6   \n",
       "assembly/src/test/java/org/apache/activemq/benc...              7   \n",
       "assembly/src/test/java/org/apache/activemq/benc...              8   \n",
       "assembly/src/test/java/org/apache/activemq/benc...              7   \n",
       "assembly/src/test/java/org/apache/activemq/conf...              4   \n",
       "\n",
       "                                                    CountDeclMethodDefault  \\\n",
       "File                                                                         \n",
       "activemq-console/src/main/java/org/apache/activ...                       0   \n",
       "activemq-console/src/main/java/org/apache/activ...                       0   \n",
       "activemq-console/src/main/java/org/apache/activ...                       0   \n",
       "activemq-console/src/main/java/org/apache/activ...                       0   \n",
       "activemq-console/src/main/java/org/apache/activ...                       0   \n",
       "...                                                                    ...   \n",
       "assembly/src/test/java/org/apache/activemq/benc...                       0   \n",
       "assembly/src/test/java/org/apache/activemq/benc...                       0   \n",
       "assembly/src/test/java/org/apache/activemq/benc...                       0   \n",
       "assembly/src/test/java/org/apache/activemq/benc...                       0   \n",
       "assembly/src/test/java/org/apache/activemq/conf...                       0   \n",
       "\n",
       "                                                    AvgEssential  \\\n",
       "File                                                               \n",
       "activemq-console/src/main/java/org/apache/activ...             2   \n",
       "activemq-console/src/main/java/org/apache/activ...             1   \n",
       "activemq-console/src/main/java/org/apache/activ...             1   \n",
       "activemq-console/src/main/java/org/apache/activ...             4   \n",
       "activemq-console/src/main/java/org/apache/activ...             3   \n",
       "...                                                          ...   \n",
       "assembly/src/test/java/org/apache/activemq/benc...             1   \n",
       "assembly/src/test/java/org/apache/activemq/benc...             1   \n",
       "assembly/src/test/java/org/apache/activemq/benc...             1   \n",
       "assembly/src/test/java/org/apache/activemq/benc...             1   \n",
       "assembly/src/test/java/org/apache/activemq/conf...             1   \n",
       "\n",
       "                                                    CountDeclClassVariable  \\\n",
       "File                                                                         \n",
       "activemq-console/src/main/java/org/apache/activ...                       0   \n",
       "activemq-console/src/main/java/org/apache/activ...                       1   \n",
       "activemq-console/src/main/java/org/apache/activ...                       1   \n",
       "activemq-console/src/main/java/org/apache/activ...                       5   \n",
       "activemq-console/src/main/java/org/apache/activ...                       5   \n",
       "...                                                                    ...   \n",
       "assembly/src/test/java/org/apache/activemq/benc...                       0   \n",
       "assembly/src/test/java/org/apache/activemq/benc...                       0   \n",
       "assembly/src/test/java/org/apache/activemq/benc...                       0   \n",
       "assembly/src/test/java/org/apache/activemq/benc...                       0   \n",
       "assembly/src/test/java/org/apache/activemq/conf...                       0   \n",
       "\n",
       "                                                    SumCyclomaticStrict  \\\n",
       "File                                                                      \n",
       "activemq-console/src/main/java/org/apache/activ...                   18   \n",
       "activemq-console/src/main/java/org/apache/activ...                   15   \n",
       "activemq-console/src/main/java/org/apache/activ...                   16   \n",
       "activemq-console/src/main/java/org/apache/activ...                   29   \n",
       "activemq-console/src/main/java/org/apache/activ...                   26   \n",
       "...                                                                 ...   \n",
       "assembly/src/test/java/org/apache/activemq/benc...                   35   \n",
       "assembly/src/test/java/org/apache/activemq/benc...                   16   \n",
       "assembly/src/test/java/org/apache/activemq/benc...                   30   \n",
       "assembly/src/test/java/org/apache/activemq/benc...                   13   \n",
       "assembly/src/test/java/org/apache/activemq/conf...                    7   \n",
       "\n",
       "                                                    AvgCyclomatic  AvgLine  \\\n",
       "File                                                                         \n",
       "activemq-console/src/main/java/org/apache/activ...              2       18   \n",
       "activemq-console/src/main/java/org/apache/activ...              3       17   \n",
       "activemq-console/src/main/java/org/apache/activ...              2       13   \n",
       "activemq-console/src/main/java/org/apache/activ...              9       53   \n",
       "activemq-console/src/main/java/org/apache/activ...              8       44   \n",
       "...                                                           ...      ...   \n",
       "assembly/src/test/java/org/apache/activemq/benc...              1        5   \n",
       "assembly/src/test/java/org/apache/activemq/benc...              3       11   \n",
       "assembly/src/test/java/org/apache/activemq/benc...              2       10   \n",
       "assembly/src/test/java/org/apache/activemq/benc...              2        6   \n",
       "assembly/src/test/java/org/apache/activemq/conf...              2        9   \n",
       "\n",
       "                                                    ...  OWN_LINE  OWN_COMMIT  \\\n",
       "File                                                ...                         \n",
       "activemq-console/src/main/java/org/apache/activ...  ...  1.000000    1.000000   \n",
       "activemq-console/src/main/java/org/apache/activ...  ...  0.983740    0.500000   \n",
       "activemq-console/src/main/java/org/apache/activ...  ...  1.000000    1.000000   \n",
       "activemq-console/src/main/java/org/apache/activ...  ...  1.000000    1.000000   \n",
       "activemq-console/src/main/java/org/apache/activ...  ...  1.000000    1.000000   \n",
       "...                                                 ...       ...         ...   \n",
       "assembly/src/test/java/org/apache/activemq/benc...  ...  0.846512    0.666667   \n",
       "assembly/src/test/java/org/apache/activemq/benc...  ...  0.814815    1.000000   \n",
       "assembly/src/test/java/org/apache/activemq/benc...  ...  0.866667    0.666667   \n",
       "assembly/src/test/java/org/apache/activemq/benc...  ...  0.837500    1.000000   \n",
       "assembly/src/test/java/org/apache/activemq/conf...  ...  0.750000    1.000000   \n",
       "\n",
       "                                                    MINOR_COMMIT  MINOR_LINE  \\\n",
       "File                                                                           \n",
       "activemq-console/src/main/java/org/apache/activ...             0           1   \n",
       "activemq-console/src/main/java/org/apache/activ...             0           1   \n",
       "activemq-console/src/main/java/org/apache/activ...             0           1   \n",
       "activemq-console/src/main/java/org/apache/activ...             0           1   \n",
       "activemq-console/src/main/java/org/apache/activ...             0           1   \n",
       "...                                                          ...         ...   \n",
       "assembly/src/test/java/org/apache/activemq/benc...             0           2   \n",
       "assembly/src/test/java/org/apache/activemq/benc...             0           2   \n",
       "assembly/src/test/java/org/apache/activemq/benc...             0           2   \n",
       "assembly/src/test/java/org/apache/activemq/benc...             0           2   \n",
       "assembly/src/test/java/org/apache/activemq/conf...             0           2   \n",
       "\n",
       "                                                    MAJOR_COMMIT  MAJOR_LINE  \\\n",
       "File                                                                           \n",
       "activemq-console/src/main/java/org/apache/activ...             1           0   \n",
       "activemq-console/src/main/java/org/apache/activ...             2           1   \n",
       "activemq-console/src/main/java/org/apache/activ...             1           0   \n",
       "activemq-console/src/main/java/org/apache/activ...             1           0   \n",
       "activemq-console/src/main/java/org/apache/activ...             1           0   \n",
       "...                                                          ...         ...   \n",
       "assembly/src/test/java/org/apache/activemq/benc...             2           1   \n",
       "assembly/src/test/java/org/apache/activemq/benc...             1           1   \n",
       "assembly/src/test/java/org/apache/activemq/benc...             2           2   \n",
       "assembly/src/test/java/org/apache/activemq/benc...             1           1   \n",
       "assembly/src/test/java/org/apache/activemq/conf...             1           1   \n",
       "\n",
       "                                                    RealBug  HeuBug  \\\n",
       "File                                                                  \n",
       "activemq-console/src/main/java/org/apache/activ...    False   False   \n",
       "activemq-console/src/main/java/org/apache/activ...    False   False   \n",
       "activemq-console/src/main/java/org/apache/activ...    False   False   \n",
       "activemq-console/src/main/java/org/apache/activ...    False   False   \n",
       "activemq-console/src/main/java/org/apache/activ...    False   False   \n",
       "...                                                     ...     ...   \n",
       "assembly/src/test/java/org/apache/activemq/benc...     True   False   \n",
       "assembly/src/test/java/org/apache/activemq/benc...    False   False   \n",
       "assembly/src/test/java/org/apache/activemq/benc...     True   False   \n",
       "assembly/src/test/java/org/apache/activemq/benc...    False   False   \n",
       "assembly/src/test/java/org/apache/activemq/conf...    False   False   \n",
       "\n",
       "                                                    HeuBugCount  RealBugCount  \n",
       "File                                                                           \n",
       "activemq-console/src/main/java/org/apache/activ...            0             0  \n",
       "activemq-console/src/main/java/org/apache/activ...            0             0  \n",
       "activemq-console/src/main/java/org/apache/activ...            0             0  \n",
       "activemq-console/src/main/java/org/apache/activ...            0             0  \n",
       "activemq-console/src/main/java/org/apache/activ...            0             0  \n",
       "...                                                         ...           ...  \n",
       "assembly/src/test/java/org/apache/activemq/benc...            0             1  \n",
       "assembly/src/test/java/org/apache/activemq/benc...            0             0  \n",
       "assembly/src/test/java/org/apache/activemq/benc...            0             1  \n",
       "assembly/src/test/java/org/apache/activemq/benc...            0             0  \n",
       "assembly/src/test/java/org/apache/activemq/conf...            0             0  \n",
       "\n",
       "[1884 rows x 69 columns]"
      ]
     },
     "execution_count": 9,
     "metadata": {},
     "output_type": "execute_result"
    }
   ],
   "source": [
    "sample_files = pd.read_csv('../tests/example-datasets/activemq-5.0.0.csv', index_col = 'File')\n",
    "sample_files"
   ]
  },
  {
   "cell_type": "markdown",
   "id": "crazy-adaptation",
   "metadata": {},
   "source": [
    "### 3.2 Slicing Data to Prepare X_test, y_test Before Making Predictions "
   ]
  },
  {
   "cell_type": "code",
   "execution_count": 10,
   "id": "approximate-change",
   "metadata": {},
   "outputs": [
    {
     "name": "stdout",
     "output_type": "stream",
     "text": [
      "data type of 'X_test' -  <class 'pandas.core.frame.DataFrame'> \n",
      "\n",
      "data type of 'y_test' -  <class 'pandas.core.series.Series'> \n",
      "\n",
      "-------------------- content of 'X_test' --------------------  \n",
      "\n",
      "                                                     CountDeclMethodPrivate  \\\n",
      "File                                                                         \n",
      "activemq-console/src/main/java/org/apache/activ...                       0   \n",
      "activemq-console/src/main/java/org/apache/activ...                       0   \n",
      "activemq-console/src/main/java/org/apache/activ...                       0   \n",
      "activemq-console/src/main/java/org/apache/activ...                       0   \n",
      "activemq-console/src/main/java/org/apache/activ...                       0   \n",
      "...                                                                    ...   \n",
      "assembly/src/test/java/org/apache/activemq/benc...                       0   \n",
      "assembly/src/test/java/org/apache/activemq/benc...                       0   \n",
      "assembly/src/test/java/org/apache/activemq/benc...                       0   \n",
      "assembly/src/test/java/org/apache/activemq/benc...                       0   \n",
      "assembly/src/test/java/org/apache/activemq/conf...                       0   \n",
      "\n",
      "                                                    AvgLineCode  CountLine  \\\n",
      "File                                                                         \n",
      "activemq-console/src/main/java/org/apache/activ...           10        171   \n",
      "activemq-console/src/main/java/org/apache/activ...            8        123   \n",
      "activemq-console/src/main/java/org/apache/activ...            7        136   \n",
      "activemq-console/src/main/java/org/apache/activ...           29        241   \n",
      "activemq-console/src/main/java/org/apache/activ...           24        212   \n",
      "...                                                         ...        ...   \n",
      "assembly/src/test/java/org/apache/activemq/benc...            5        215   \n",
      "assembly/src/test/java/org/apache/activemq/benc...            9        108   \n",
      "assembly/src/test/java/org/apache/activemq/benc...            9        180   \n",
      "assembly/src/test/java/org/apache/activemq/benc...            6         80   \n",
      "assembly/src/test/java/org/apache/activemq/conf...            9         64   \n",
      "\n",
      "                                                    MaxCyclomatic  \\\n",
      "File                                                                \n",
      "activemq-console/src/main/java/org/apache/activ...              5   \n",
      "activemq-console/src/main/java/org/apache/activ...              5   \n",
      "activemq-console/src/main/java/org/apache/activ...              5   \n",
      "activemq-console/src/main/java/org/apache/activ...             17   \n",
      "activemq-console/src/main/java/org/apache/activ...             17   \n",
      "...                                                           ...   \n",
      "assembly/src/test/java/org/apache/activemq/benc...              6   \n",
      "assembly/src/test/java/org/apache/activemq/benc...              7   \n",
      "assembly/src/test/java/org/apache/activemq/benc...              8   \n",
      "assembly/src/test/java/org/apache/activemq/benc...              7   \n",
      "assembly/src/test/java/org/apache/activemq/conf...              4   \n",
      "\n",
      "                                                    CountDeclMethodDefault  \\\n",
      "File                                                                         \n",
      "activemq-console/src/main/java/org/apache/activ...                       0   \n",
      "activemq-console/src/main/java/org/apache/activ...                       0   \n",
      "activemq-console/src/main/java/org/apache/activ...                       0   \n",
      "activemq-console/src/main/java/org/apache/activ...                       0   \n",
      "activemq-console/src/main/java/org/apache/activ...                       0   \n",
      "...                                                                    ...   \n",
      "assembly/src/test/java/org/apache/activemq/benc...                       0   \n",
      "assembly/src/test/java/org/apache/activemq/benc...                       0   \n",
      "assembly/src/test/java/org/apache/activemq/benc...                       0   \n",
      "assembly/src/test/java/org/apache/activemq/benc...                       0   \n",
      "assembly/src/test/java/org/apache/activemq/conf...                       0   \n",
      "\n",
      "                                                    AvgEssential  \\\n",
      "File                                                               \n",
      "activemq-console/src/main/java/org/apache/activ...             2   \n",
      "activemq-console/src/main/java/org/apache/activ...             1   \n",
      "activemq-console/src/main/java/org/apache/activ...             1   \n",
      "activemq-console/src/main/java/org/apache/activ...             4   \n",
      "activemq-console/src/main/java/org/apache/activ...             3   \n",
      "...                                                          ...   \n",
      "assembly/src/test/java/org/apache/activemq/benc...             1   \n",
      "assembly/src/test/java/org/apache/activemq/benc...             1   \n",
      "assembly/src/test/java/org/apache/activemq/benc...             1   \n",
      "assembly/src/test/java/org/apache/activemq/benc...             1   \n",
      "assembly/src/test/java/org/apache/activemq/conf...             1   \n",
      "\n",
      "                                                    CountDeclClassVariable  \\\n",
      "File                                                                         \n",
      "activemq-console/src/main/java/org/apache/activ...                       0   \n",
      "activemq-console/src/main/java/org/apache/activ...                       1   \n",
      "activemq-console/src/main/java/org/apache/activ...                       1   \n",
      "activemq-console/src/main/java/org/apache/activ...                       5   \n",
      "activemq-console/src/main/java/org/apache/activ...                       5   \n",
      "...                                                                    ...   \n",
      "assembly/src/test/java/org/apache/activemq/benc...                       0   \n",
      "assembly/src/test/java/org/apache/activemq/benc...                       0   \n",
      "assembly/src/test/java/org/apache/activemq/benc...                       0   \n",
      "assembly/src/test/java/org/apache/activemq/benc...                       0   \n",
      "assembly/src/test/java/org/apache/activemq/conf...                       0   \n",
      "\n",
      "                                                    SumCyclomaticStrict  \\\n",
      "File                                                                      \n",
      "activemq-console/src/main/java/org/apache/activ...                   18   \n",
      "activemq-console/src/main/java/org/apache/activ...                   15   \n",
      "activemq-console/src/main/java/org/apache/activ...                   16   \n",
      "activemq-console/src/main/java/org/apache/activ...                   29   \n",
      "activemq-console/src/main/java/org/apache/activ...                   26   \n",
      "...                                                                 ...   \n",
      "assembly/src/test/java/org/apache/activemq/benc...                   35   \n",
      "assembly/src/test/java/org/apache/activemq/benc...                   16   \n",
      "assembly/src/test/java/org/apache/activemq/benc...                   30   \n",
      "assembly/src/test/java/org/apache/activemq/benc...                   13   \n",
      "assembly/src/test/java/org/apache/activemq/conf...                    7   \n",
      "\n",
      "                                                    AvgCyclomatic  AvgLine  \\\n",
      "File                                                                         \n",
      "activemq-console/src/main/java/org/apache/activ...              2       18   \n",
      "activemq-console/src/main/java/org/apache/activ...              3       17   \n",
      "activemq-console/src/main/java/org/apache/activ...              2       13   \n",
      "activemq-console/src/main/java/org/apache/activ...              9       53   \n",
      "activemq-console/src/main/java/org/apache/activ...              8       44   \n",
      "...                                                           ...      ...   \n",
      "assembly/src/test/java/org/apache/activemq/benc...              1        5   \n",
      "assembly/src/test/java/org/apache/activemq/benc...              3       11   \n",
      "assembly/src/test/java/org/apache/activemq/benc...              2       10   \n",
      "assembly/src/test/java/org/apache/activemq/benc...              2        6   \n",
      "assembly/src/test/java/org/apache/activemq/conf...              2        9   \n",
      "\n",
      "                                                    ...  ADEV  DDEV  \\\n",
      "File                                                ...               \n",
      "activemq-console/src/main/java/org/apache/activ...  ...     1     1   \n",
      "activemq-console/src/main/java/org/apache/activ...  ...     2     2   \n",
      "activemq-console/src/main/java/org/apache/activ...  ...     1     1   \n",
      "activemq-console/src/main/java/org/apache/activ...  ...     1     1   \n",
      "activemq-console/src/main/java/org/apache/activ...  ...     1     1   \n",
      "...                                                 ...   ...   ...   \n",
      "assembly/src/test/java/org/apache/activemq/benc...  ...     3     2   \n",
      "assembly/src/test/java/org/apache/activemq/benc...  ...     2     1   \n",
      "assembly/src/test/java/org/apache/activemq/benc...  ...     3     2   \n",
      "assembly/src/test/java/org/apache/activemq/benc...  ...     2     1   \n",
      "assembly/src/test/java/org/apache/activemq/conf...  ...     2     1   \n",
      "\n",
      "                                                    Added_lines  Del_lines  \\\n",
      "File                                                                         \n",
      "activemq-console/src/main/java/org/apache/activ...           32         18   \n",
      "activemq-console/src/main/java/org/apache/activ...           30         28   \n",
      "activemq-console/src/main/java/org/apache/activ...            8          8   \n",
      "activemq-console/src/main/java/org/apache/activ...           76         76   \n",
      "activemq-console/src/main/java/org/apache/activ...           76         76   \n",
      "...                                                         ...        ...   \n",
      "assembly/src/test/java/org/apache/activemq/benc...           25         41   \n",
      "assembly/src/test/java/org/apache/activemq/benc...           12         16   \n",
      "assembly/src/test/java/org/apache/activemq/benc...           16         19   \n",
      "assembly/src/test/java/org/apache/activemq/benc...            5          8   \n",
      "assembly/src/test/java/org/apache/activemq/conf...            7         11   \n",
      "\n",
      "                                                    OWN_LINE  OWN_COMMIT  \\\n",
      "File                                                                       \n",
      "activemq-console/src/main/java/org/apache/activ...  1.000000    1.000000   \n",
      "activemq-console/src/main/java/org/apache/activ...  0.983740    0.500000   \n",
      "activemq-console/src/main/java/org/apache/activ...  1.000000    1.000000   \n",
      "activemq-console/src/main/java/org/apache/activ...  1.000000    1.000000   \n",
      "activemq-console/src/main/java/org/apache/activ...  1.000000    1.000000   \n",
      "...                                                      ...         ...   \n",
      "assembly/src/test/java/org/apache/activemq/benc...  0.846512    0.666667   \n",
      "assembly/src/test/java/org/apache/activemq/benc...  0.814815    1.000000   \n",
      "assembly/src/test/java/org/apache/activemq/benc...  0.866667    0.666667   \n",
      "assembly/src/test/java/org/apache/activemq/benc...  0.837500    1.000000   \n",
      "assembly/src/test/java/org/apache/activemq/conf...  0.750000    1.000000   \n",
      "\n",
      "                                                    MINOR_COMMIT  MINOR_LINE  \\\n",
      "File                                                                           \n",
      "activemq-console/src/main/java/org/apache/activ...             0           1   \n",
      "activemq-console/src/main/java/org/apache/activ...             0           1   \n",
      "activemq-console/src/main/java/org/apache/activ...             0           1   \n",
      "activemq-console/src/main/java/org/apache/activ...             0           1   \n",
      "activemq-console/src/main/java/org/apache/activ...             0           1   \n",
      "...                                                          ...         ...   \n",
      "assembly/src/test/java/org/apache/activemq/benc...             0           2   \n",
      "assembly/src/test/java/org/apache/activemq/benc...             0           2   \n",
      "assembly/src/test/java/org/apache/activemq/benc...             0           2   \n",
      "assembly/src/test/java/org/apache/activemq/benc...             0           2   \n",
      "assembly/src/test/java/org/apache/activemq/conf...             0           2   \n",
      "\n",
      "                                                    MAJOR_COMMIT  MAJOR_LINE  \n",
      "File                                                                          \n",
      "activemq-console/src/main/java/org/apache/activ...             1           0  \n",
      "activemq-console/src/main/java/org/apache/activ...             2           1  \n",
      "activemq-console/src/main/java/org/apache/activ...             1           0  \n",
      "activemq-console/src/main/java/org/apache/activ...             1           0  \n",
      "activemq-console/src/main/java/org/apache/activ...             1           0  \n",
      "...                                                          ...         ...  \n",
      "assembly/src/test/java/org/apache/activemq/benc...             2           1  \n",
      "assembly/src/test/java/org/apache/activemq/benc...             1           1  \n",
      "assembly/src/test/java/org/apache/activemq/benc...             2           2  \n",
      "assembly/src/test/java/org/apache/activemq/benc...             1           1  \n",
      "assembly/src/test/java/org/apache/activemq/conf...             1           1  \n",
      "\n",
      "[1884 rows x 65 columns] \n",
      "\n",
      "-------------------- content of 'y_test' --------------------  \n",
      "\n",
      " File\n",
      "activemq-console/src/main/java/org/apache/activemq/console/command/AbstractAmqCommand.java    False\n",
      "activemq-console/src/main/java/org/apache/activemq/console/command/AbstractCommand.java       False\n",
      "activemq-console/src/main/java/org/apache/activemq/console/command/AbstractJmxCommand.java    False\n",
      "activemq-console/src/main/java/org/apache/activemq/console/command/AmqBrowseCommand.java      False\n",
      "activemq-console/src/main/java/org/apache/activemq/console/command/BrowseCommand.java         False\n",
      "                                                                                              ...  \n",
      "assembly/src/test/java/org/apache/activemq/benchmark/BenchmarkSupport.java                     True\n",
      "assembly/src/test/java/org/apache/activemq/benchmark/Consumer.java                            False\n",
      "assembly/src/test/java/org/apache/activemq/benchmark/Producer.java                             True\n",
      "assembly/src/test/java/org/apache/activemq/benchmark/ProducerConsumer.java                    False\n",
      "assembly/src/test/java/org/apache/activemq/config/BrokerXmlConfigTest.java                    False\n",
      "Name: RealBug, Length: 1884, dtype: bool\n"
     ]
    }
   ],
   "source": [
    "X_test = sample_files.loc[:, indep]\n",
    "y_test = sample_files.loc[:, dep]\n",
    "\n",
    "print(\"data type of 'X_test' - \", type(X_test), \"\\n\")\n",
    "print(\"data type of 'y_test' - \", type(y_test), \"\\n\")\n",
    "print(\"--------------------\", \"content of 'X_test' -------------------- \", \"\\n\\n\", X_test, \"\\n\")\n",
    "print(\"--------------------\", \"content of 'y_test' -------------------- \", \"\\n\\n\", y_test)"
   ]
  },
  {
   "cell_type": "markdown",
   "id": "occasional-miami",
   "metadata": {},
   "source": [
    "### 3.3 Choose One File to be Explained\n",
    "##### each row of X_test, y_test represents the information of one file."
   ]
  },
  {
   "cell_type": "code",
   "execution_count": 19,
   "id": "geographic-europe",
   "metadata": {},
   "outputs": [
    {
     "data": {
      "text/html": [
       "<div>\n",
       "<style scoped>\n",
       "    .dataframe tbody tr th:only-of-type {\n",
       "        vertical-align: middle;\n",
       "    }\n",
       "\n",
       "    .dataframe tbody tr th {\n",
       "        vertical-align: top;\n",
       "    }\n",
       "\n",
       "    .dataframe thead th {\n",
       "        text-align: right;\n",
       "    }\n",
       "</style>\n",
       "<table border=\"1\" class=\"dataframe\">\n",
       "  <thead>\n",
       "    <tr style=\"text-align: right;\">\n",
       "      <th></th>\n",
       "      <th>CountDeclMethodPrivate</th>\n",
       "      <th>AvgLineCode</th>\n",
       "      <th>CountLine</th>\n",
       "      <th>MaxCyclomatic</th>\n",
       "      <th>CountDeclMethodDefault</th>\n",
       "      <th>AvgEssential</th>\n",
       "      <th>CountDeclClassVariable</th>\n",
       "      <th>SumCyclomaticStrict</th>\n",
       "      <th>AvgCyclomatic</th>\n",
       "      <th>AvgLine</th>\n",
       "      <th>...</th>\n",
       "      <th>ADEV</th>\n",
       "      <th>DDEV</th>\n",
       "      <th>Added_lines</th>\n",
       "      <th>Del_lines</th>\n",
       "      <th>OWN_LINE</th>\n",
       "      <th>OWN_COMMIT</th>\n",
       "      <th>MINOR_COMMIT</th>\n",
       "      <th>MINOR_LINE</th>\n",
       "      <th>MAJOR_COMMIT</th>\n",
       "      <th>MAJOR_LINE</th>\n",
       "    </tr>\n",
       "    <tr>\n",
       "      <th>File</th>\n",
       "      <th></th>\n",
       "      <th></th>\n",
       "      <th></th>\n",
       "      <th></th>\n",
       "      <th></th>\n",
       "      <th></th>\n",
       "      <th></th>\n",
       "      <th></th>\n",
       "      <th></th>\n",
       "      <th></th>\n",
       "      <th></th>\n",
       "      <th></th>\n",
       "      <th></th>\n",
       "      <th></th>\n",
       "      <th></th>\n",
       "      <th></th>\n",
       "      <th></th>\n",
       "      <th></th>\n",
       "      <th></th>\n",
       "      <th></th>\n",
       "      <th></th>\n",
       "    </tr>\n",
       "  </thead>\n",
       "  <tbody>\n",
       "    <tr>\n",
       "      <th>activemq-console/src/main/java/org/apache/activemq/console/command/ShellCommand.java</th>\n",
       "      <td>0</td>\n",
       "      <td>10</td>\n",
       "      <td>134</td>\n",
       "      <td>10</td>\n",
       "      <td>0</td>\n",
       "      <td>1</td>\n",
       "      <td>0</td>\n",
       "      <td>19</td>\n",
       "      <td>3</td>\n",
       "      <td>13</td>\n",
       "      <td>...</td>\n",
       "      <td>1</td>\n",
       "      <td>1</td>\n",
       "      <td>32</td>\n",
       "      <td>33</td>\n",
       "      <td>0.798507</td>\n",
       "      <td>1.0</td>\n",
       "      <td>0</td>\n",
       "      <td>2</td>\n",
       "      <td>1</td>\n",
       "      <td>1</td>\n",
       "    </tr>\n",
       "  </tbody>\n",
       "</table>\n",
       "<p>1 rows × 65 columns</p>\n",
       "</div>"
      ],
      "text/plain": [
       "                                                    CountDeclMethodPrivate  \\\n",
       "File                                                                         \n",
       "activemq-console/src/main/java/org/apache/activ...                       0   \n",
       "\n",
       "                                                    AvgLineCode  CountLine  \\\n",
       "File                                                                         \n",
       "activemq-console/src/main/java/org/apache/activ...           10        134   \n",
       "\n",
       "                                                    MaxCyclomatic  \\\n",
       "File                                                                \n",
       "activemq-console/src/main/java/org/apache/activ...             10   \n",
       "\n",
       "                                                    CountDeclMethodDefault  \\\n",
       "File                                                                         \n",
       "activemq-console/src/main/java/org/apache/activ...                       0   \n",
       "\n",
       "                                                    AvgEssential  \\\n",
       "File                                                               \n",
       "activemq-console/src/main/java/org/apache/activ...             1   \n",
       "\n",
       "                                                    CountDeclClassVariable  \\\n",
       "File                                                                         \n",
       "activemq-console/src/main/java/org/apache/activ...                       0   \n",
       "\n",
       "                                                    SumCyclomaticStrict  \\\n",
       "File                                                                      \n",
       "activemq-console/src/main/java/org/apache/activ...                   19   \n",
       "\n",
       "                                                    AvgCyclomatic  AvgLine  \\\n",
       "File                                                                         \n",
       "activemq-console/src/main/java/org/apache/activ...              3       13   \n",
       "\n",
       "                                                    ...  ADEV  DDEV  \\\n",
       "File                                                ...               \n",
       "activemq-console/src/main/java/org/apache/activ...  ...     1     1   \n",
       "\n",
       "                                                    Added_lines  Del_lines  \\\n",
       "File                                                                         \n",
       "activemq-console/src/main/java/org/apache/activ...           32         33   \n",
       "\n",
       "                                                    OWN_LINE  OWN_COMMIT  \\\n",
       "File                                                                       \n",
       "activemq-console/src/main/java/org/apache/activ...  0.798507         1.0   \n",
       "\n",
       "                                                    MINOR_COMMIT  MINOR_LINE  \\\n",
       "File                                                                           \n",
       "activemq-console/src/main/java/org/apache/activ...             0           2   \n",
       "\n",
       "                                                    MAJOR_COMMIT  MAJOR_LINE  \n",
       "File                                                                          \n",
       "activemq-console/src/main/java/org/apache/activ...             1           1  \n",
       "\n",
       "[1 rows x 65 columns]"
      ]
     },
     "execution_count": 19,
     "metadata": {},
     "output_type": "execute_result"
    }
   ],
   "source": [
    "# in this case > index can be 0 ~ 1883, use len(X_test) to check the index range\n",
    "explain_index = 10\n",
    "X_explain = X_test.iloc[[explain_index]]\n",
    "X_explain"
   ]
  },
  {
   "cell_type": "code",
   "execution_count": 20,
   "id": "insured-puzzle",
   "metadata": {},
   "outputs": [
    {
     "data": {
      "text/plain": [
       "File\n",
       "activemq-console/src/main/java/org/apache/activemq/console/command/ShellCommand.java    False\n",
       "Name: RealBug, dtype: bool"
      ]
     },
     "execution_count": 20,
     "metadata": {},
     "output_type": "execute_result"
    }
   ],
   "source": [
    "y_explain = y_test.iloc[[explain_index]]\n",
    "y_explain"
   ]
  },
  {
   "cell_type": "markdown",
   "id": "appropriate-meaning",
   "metadata": {},
   "source": [
    "### 🔧3.4 Create a Rule Object Manually \n",
    "#### 📝Note. Rule Object is important ! \n",
    "#### 📝Note. This may take a while to execute because it contains more computing process regarding ML"
   ]
  },
  {
   "cell_type": "code",
   "execution_count": 23,
   "id": "awful-blank",
   "metadata": {},
   "outputs": [
    {
     "name": "stdout",
     "output_type": "stream",
     "text": [
      "10\n"
     ]
    },
    {
     "name": "stderr",
     "output_type": "stream",
     "text": [
      "C:\\Users\\micha\\anaconda3\\lib\\site-packages\\sklearn\\svm\\_base.py:985: ConvergenceWarning: Liblinear failed to converge, increase the number of iterations.\n",
      "  warnings.warn(\"Liblinear failed to converge, increase \"\n"
     ]
    },
    {
     "ename": "KeyboardInterrupt",
     "evalue": "",
     "output_type": "error",
     "traceback": [
      "\u001b[1;31m---------------------------------------------------------------------------\u001b[0m",
      "\u001b[1;31mKeyboardInterrupt\u001b[0m                         Traceback (most recent call last)",
      "\u001b[1;32m<timed exec>\u001b[0m in \u001b[0;36m<module>\u001b[1;34m\u001b[0m\n",
      "\u001b[1;32m~\\Documents\\GitHub\\pyExplainer\\pyexplainer\\pyexplainer_pyexplainer.py\u001b[0m in \u001b[0;36mexplain\u001b[1;34m(self, X_explain, y_explain, top_k, max_rules, max_iter, cv, search_function, debug)\u001b[0m\n\u001b[0;32m    684\u001b[0m                                     )\n\u001b[0;32m    685\u001b[0m \u001b[1;33m\u001b[0m\u001b[0m\n\u001b[1;32m--> 686\u001b[1;33m         local_rulefit_model.fit(\n\u001b[0m\u001b[0;32m    687\u001b[0m             synthetic_instances.loc[:, self.indep].values, synthetic_predictions, feature_names=self.indep)\n\u001b[0;32m    688\u001b[0m         \u001b[1;32mif\u001b[0m \u001b[0mdebug\u001b[0m\u001b[1;33m:\u001b[0m\u001b[1;33m\u001b[0m\u001b[1;33m\u001b[0m\u001b[0m\n",
      "\u001b[1;32m~\\anaconda3\\lib\\site-packages\\rulefit\\rulefit.py\u001b[0m in \u001b[0;36mfit\u001b[1;34m(self, X, y, feature_names)\u001b[0m\n\u001b[0;32m    451\u001b[0m             \u001b[0mCs\u001b[0m\u001b[1;33m=\u001b[0m\u001b[1;36m10\u001b[0m \u001b[1;32mif\u001b[0m \u001b[0mself\u001b[0m\u001b[1;33m.\u001b[0m\u001b[0mCs\u001b[0m \u001b[1;32mis\u001b[0m \u001b[1;32mNone\u001b[0m \u001b[1;32melse\u001b[0m \u001b[0mself\u001b[0m\u001b[1;33m.\u001b[0m\u001b[0mCs\u001b[0m\u001b[1;33m\u001b[0m\u001b[1;33m\u001b[0m\u001b[0m\n\u001b[0;32m    452\u001b[0m             \u001b[0mself\u001b[0m\u001b[1;33m.\u001b[0m\u001b[0mlscv\u001b[0m\u001b[1;33m=\u001b[0m\u001b[0mLogisticRegressionCV\u001b[0m\u001b[1;33m(\u001b[0m\u001b[0mCs\u001b[0m\u001b[1;33m=\u001b[0m\u001b[0mCs\u001b[0m\u001b[1;33m,\u001b[0m\u001b[0mcv\u001b[0m\u001b[1;33m=\u001b[0m\u001b[0mself\u001b[0m\u001b[1;33m.\u001b[0m\u001b[0mcv\u001b[0m\u001b[1;33m,\u001b[0m\u001b[0mpenalty\u001b[0m\u001b[1;33m=\u001b[0m\u001b[1;34m'l1'\u001b[0m\u001b[1;33m,\u001b[0m\u001b[0mrandom_state\u001b[0m\u001b[1;33m=\u001b[0m\u001b[0mself\u001b[0m\u001b[1;33m.\u001b[0m\u001b[0mrandom_state\u001b[0m\u001b[1;33m,\u001b[0m\u001b[0msolver\u001b[0m\u001b[1;33m=\u001b[0m\u001b[1;34m'liblinear'\u001b[0m\u001b[1;33m)\u001b[0m\u001b[1;33m\u001b[0m\u001b[1;33m\u001b[0m\u001b[0m\n\u001b[1;32m--> 453\u001b[1;33m             \u001b[0mself\u001b[0m\u001b[1;33m.\u001b[0m\u001b[0mlscv\u001b[0m\u001b[1;33m.\u001b[0m\u001b[0mfit\u001b[0m\u001b[1;33m(\u001b[0m\u001b[0mX_concat\u001b[0m\u001b[1;33m,\u001b[0m \u001b[0my\u001b[0m\u001b[1;33m)\u001b[0m\u001b[1;33m\u001b[0m\u001b[1;33m\u001b[0m\u001b[0m\n\u001b[0m\u001b[0;32m    454\u001b[0m             \u001b[0mself\u001b[0m\u001b[1;33m.\u001b[0m\u001b[0mcoef_\u001b[0m\u001b[1;33m=\u001b[0m\u001b[0mself\u001b[0m\u001b[1;33m.\u001b[0m\u001b[0mlscv\u001b[0m\u001b[1;33m.\u001b[0m\u001b[0mcoef_\u001b[0m\u001b[1;33m[\u001b[0m\u001b[1;36m0\u001b[0m\u001b[1;33m]\u001b[0m\u001b[1;33m\u001b[0m\u001b[1;33m\u001b[0m\u001b[0m\n\u001b[0;32m    455\u001b[0m             \u001b[0mself\u001b[0m\u001b[1;33m.\u001b[0m\u001b[0mintercept_\u001b[0m\u001b[1;33m=\u001b[0m\u001b[0mself\u001b[0m\u001b[1;33m.\u001b[0m\u001b[0mlscv\u001b[0m\u001b[1;33m.\u001b[0m\u001b[0mintercept_\u001b[0m\u001b[1;33m[\u001b[0m\u001b[1;36m0\u001b[0m\u001b[1;33m]\u001b[0m\u001b[1;33m\u001b[0m\u001b[1;33m\u001b[0m\u001b[0m\n",
      "\u001b[1;32m~\\anaconda3\\lib\\site-packages\\sklearn\\linear_model\\_logistic.py\u001b[0m in \u001b[0;36mfit\u001b[1;34m(self, X, y, sample_weight)\u001b[0m\n\u001b[0;32m   1885\u001b[0m             \u001b[0mprefer\u001b[0m \u001b[1;33m=\u001b[0m \u001b[1;34m'processes'\u001b[0m\u001b[1;33m\u001b[0m\u001b[1;33m\u001b[0m\u001b[0m\n\u001b[0;32m   1886\u001b[0m \u001b[1;33m\u001b[0m\u001b[0m\n\u001b[1;32m-> 1887\u001b[1;33m         fold_coefs_ = Parallel(n_jobs=self.n_jobs, verbose=self.verbose,\n\u001b[0m\u001b[0;32m   1888\u001b[0m                                \u001b[1;33m**\u001b[0m\u001b[0m_joblib_parallel_args\u001b[0m\u001b[1;33m(\u001b[0m\u001b[0mprefer\u001b[0m\u001b[1;33m=\u001b[0m\u001b[0mprefer\u001b[0m\u001b[1;33m)\u001b[0m\u001b[1;33m)\u001b[0m\u001b[1;33m(\u001b[0m\u001b[1;33m\u001b[0m\u001b[1;33m\u001b[0m\u001b[0m\n\u001b[0;32m   1889\u001b[0m             path_func(X, y, train, test, pos_class=label, Cs=self.Cs,\n",
      "\u001b[1;32m~\\anaconda3\\lib\\site-packages\\joblib\\parallel.py\u001b[0m in \u001b[0;36m__call__\u001b[1;34m(self, iterable)\u001b[0m\n\u001b[0;32m   1039\u001b[0m             \u001b[1;31m# remaining jobs.\u001b[0m\u001b[1;33m\u001b[0m\u001b[1;33m\u001b[0m\u001b[1;33m\u001b[0m\u001b[0m\n\u001b[0;32m   1040\u001b[0m             \u001b[0mself\u001b[0m\u001b[1;33m.\u001b[0m\u001b[0m_iterating\u001b[0m \u001b[1;33m=\u001b[0m \u001b[1;32mFalse\u001b[0m\u001b[1;33m\u001b[0m\u001b[1;33m\u001b[0m\u001b[0m\n\u001b[1;32m-> 1041\u001b[1;33m             \u001b[1;32mif\u001b[0m \u001b[0mself\u001b[0m\u001b[1;33m.\u001b[0m\u001b[0mdispatch_one_batch\u001b[0m\u001b[1;33m(\u001b[0m\u001b[0miterator\u001b[0m\u001b[1;33m)\u001b[0m\u001b[1;33m:\u001b[0m\u001b[1;33m\u001b[0m\u001b[1;33m\u001b[0m\u001b[0m\n\u001b[0m\u001b[0;32m   1042\u001b[0m                 \u001b[0mself\u001b[0m\u001b[1;33m.\u001b[0m\u001b[0m_iterating\u001b[0m \u001b[1;33m=\u001b[0m \u001b[0mself\u001b[0m\u001b[1;33m.\u001b[0m\u001b[0m_original_iterator\u001b[0m \u001b[1;32mis\u001b[0m \u001b[1;32mnot\u001b[0m \u001b[1;32mNone\u001b[0m\u001b[1;33m\u001b[0m\u001b[1;33m\u001b[0m\u001b[0m\n\u001b[0;32m   1043\u001b[0m \u001b[1;33m\u001b[0m\u001b[0m\n",
      "\u001b[1;32m~\\anaconda3\\lib\\site-packages\\joblib\\parallel.py\u001b[0m in \u001b[0;36mdispatch_one_batch\u001b[1;34m(self, iterator)\u001b[0m\n\u001b[0;32m    857\u001b[0m                 \u001b[1;32mreturn\u001b[0m \u001b[1;32mFalse\u001b[0m\u001b[1;33m\u001b[0m\u001b[1;33m\u001b[0m\u001b[0m\n\u001b[0;32m    858\u001b[0m             \u001b[1;32melse\u001b[0m\u001b[1;33m:\u001b[0m\u001b[1;33m\u001b[0m\u001b[1;33m\u001b[0m\u001b[0m\n\u001b[1;32m--> 859\u001b[1;33m                 \u001b[0mself\u001b[0m\u001b[1;33m.\u001b[0m\u001b[0m_dispatch\u001b[0m\u001b[1;33m(\u001b[0m\u001b[0mtasks\u001b[0m\u001b[1;33m)\u001b[0m\u001b[1;33m\u001b[0m\u001b[1;33m\u001b[0m\u001b[0m\n\u001b[0m\u001b[0;32m    860\u001b[0m                 \u001b[1;32mreturn\u001b[0m \u001b[1;32mTrue\u001b[0m\u001b[1;33m\u001b[0m\u001b[1;33m\u001b[0m\u001b[0m\n\u001b[0;32m    861\u001b[0m \u001b[1;33m\u001b[0m\u001b[0m\n",
      "\u001b[1;32m~\\anaconda3\\lib\\site-packages\\joblib\\parallel.py\u001b[0m in \u001b[0;36m_dispatch\u001b[1;34m(self, batch)\u001b[0m\n\u001b[0;32m    775\u001b[0m         \u001b[1;32mwith\u001b[0m \u001b[0mself\u001b[0m\u001b[1;33m.\u001b[0m\u001b[0m_lock\u001b[0m\u001b[1;33m:\u001b[0m\u001b[1;33m\u001b[0m\u001b[1;33m\u001b[0m\u001b[0m\n\u001b[0;32m    776\u001b[0m             \u001b[0mjob_idx\u001b[0m \u001b[1;33m=\u001b[0m \u001b[0mlen\u001b[0m\u001b[1;33m(\u001b[0m\u001b[0mself\u001b[0m\u001b[1;33m.\u001b[0m\u001b[0m_jobs\u001b[0m\u001b[1;33m)\u001b[0m\u001b[1;33m\u001b[0m\u001b[1;33m\u001b[0m\u001b[0m\n\u001b[1;32m--> 777\u001b[1;33m             \u001b[0mjob\u001b[0m \u001b[1;33m=\u001b[0m \u001b[0mself\u001b[0m\u001b[1;33m.\u001b[0m\u001b[0m_backend\u001b[0m\u001b[1;33m.\u001b[0m\u001b[0mapply_async\u001b[0m\u001b[1;33m(\u001b[0m\u001b[0mbatch\u001b[0m\u001b[1;33m,\u001b[0m \u001b[0mcallback\u001b[0m\u001b[1;33m=\u001b[0m\u001b[0mcb\u001b[0m\u001b[1;33m)\u001b[0m\u001b[1;33m\u001b[0m\u001b[1;33m\u001b[0m\u001b[0m\n\u001b[0m\u001b[0;32m    778\u001b[0m             \u001b[1;31m# A job can complete so quickly than its callback is\u001b[0m\u001b[1;33m\u001b[0m\u001b[1;33m\u001b[0m\u001b[1;33m\u001b[0m\u001b[0m\n\u001b[0;32m    779\u001b[0m             \u001b[1;31m# called before we get here, causing self._jobs to\u001b[0m\u001b[1;33m\u001b[0m\u001b[1;33m\u001b[0m\u001b[1;33m\u001b[0m\u001b[0m\n",
      "\u001b[1;32m~\\anaconda3\\lib\\site-packages\\joblib\\_parallel_backends.py\u001b[0m in \u001b[0;36mapply_async\u001b[1;34m(self, func, callback)\u001b[0m\n\u001b[0;32m    206\u001b[0m     \u001b[1;32mdef\u001b[0m \u001b[0mapply_async\u001b[0m\u001b[1;33m(\u001b[0m\u001b[0mself\u001b[0m\u001b[1;33m,\u001b[0m \u001b[0mfunc\u001b[0m\u001b[1;33m,\u001b[0m \u001b[0mcallback\u001b[0m\u001b[1;33m=\u001b[0m\u001b[1;32mNone\u001b[0m\u001b[1;33m)\u001b[0m\u001b[1;33m:\u001b[0m\u001b[1;33m\u001b[0m\u001b[1;33m\u001b[0m\u001b[0m\n\u001b[0;32m    207\u001b[0m         \u001b[1;34m\"\"\"Schedule a func to be run\"\"\"\u001b[0m\u001b[1;33m\u001b[0m\u001b[1;33m\u001b[0m\u001b[0m\n\u001b[1;32m--> 208\u001b[1;33m         \u001b[0mresult\u001b[0m \u001b[1;33m=\u001b[0m \u001b[0mImmediateResult\u001b[0m\u001b[1;33m(\u001b[0m\u001b[0mfunc\u001b[0m\u001b[1;33m)\u001b[0m\u001b[1;33m\u001b[0m\u001b[1;33m\u001b[0m\u001b[0m\n\u001b[0m\u001b[0;32m    209\u001b[0m         \u001b[1;32mif\u001b[0m \u001b[0mcallback\u001b[0m\u001b[1;33m:\u001b[0m\u001b[1;33m\u001b[0m\u001b[1;33m\u001b[0m\u001b[0m\n\u001b[0;32m    210\u001b[0m             \u001b[0mcallback\u001b[0m\u001b[1;33m(\u001b[0m\u001b[0mresult\u001b[0m\u001b[1;33m)\u001b[0m\u001b[1;33m\u001b[0m\u001b[1;33m\u001b[0m\u001b[0m\n",
      "\u001b[1;32m~\\anaconda3\\lib\\site-packages\\joblib\\_parallel_backends.py\u001b[0m in \u001b[0;36m__init__\u001b[1;34m(self, batch)\u001b[0m\n\u001b[0;32m    570\u001b[0m         \u001b[1;31m# Don't delay the application, to avoid keeping the input\u001b[0m\u001b[1;33m\u001b[0m\u001b[1;33m\u001b[0m\u001b[1;33m\u001b[0m\u001b[0m\n\u001b[0;32m    571\u001b[0m         \u001b[1;31m# arguments in memory\u001b[0m\u001b[1;33m\u001b[0m\u001b[1;33m\u001b[0m\u001b[1;33m\u001b[0m\u001b[0m\n\u001b[1;32m--> 572\u001b[1;33m         \u001b[0mself\u001b[0m\u001b[1;33m.\u001b[0m\u001b[0mresults\u001b[0m \u001b[1;33m=\u001b[0m \u001b[0mbatch\u001b[0m\u001b[1;33m(\u001b[0m\u001b[1;33m)\u001b[0m\u001b[1;33m\u001b[0m\u001b[1;33m\u001b[0m\u001b[0m\n\u001b[0m\u001b[0;32m    573\u001b[0m \u001b[1;33m\u001b[0m\u001b[0m\n\u001b[0;32m    574\u001b[0m     \u001b[1;32mdef\u001b[0m \u001b[0mget\u001b[0m\u001b[1;33m(\u001b[0m\u001b[0mself\u001b[0m\u001b[1;33m)\u001b[0m\u001b[1;33m:\u001b[0m\u001b[1;33m\u001b[0m\u001b[1;33m\u001b[0m\u001b[0m\n",
      "\u001b[1;32m~\\anaconda3\\lib\\site-packages\\joblib\\parallel.py\u001b[0m in \u001b[0;36m__call__\u001b[1;34m(self)\u001b[0m\n\u001b[0;32m    260\u001b[0m         \u001b[1;31m# change the default number of processes to -1\u001b[0m\u001b[1;33m\u001b[0m\u001b[1;33m\u001b[0m\u001b[1;33m\u001b[0m\u001b[0m\n\u001b[0;32m    261\u001b[0m         \u001b[1;32mwith\u001b[0m \u001b[0mparallel_backend\u001b[0m\u001b[1;33m(\u001b[0m\u001b[0mself\u001b[0m\u001b[1;33m.\u001b[0m\u001b[0m_backend\u001b[0m\u001b[1;33m,\u001b[0m \u001b[0mn_jobs\u001b[0m\u001b[1;33m=\u001b[0m\u001b[0mself\u001b[0m\u001b[1;33m.\u001b[0m\u001b[0m_n_jobs\u001b[0m\u001b[1;33m)\u001b[0m\u001b[1;33m:\u001b[0m\u001b[1;33m\u001b[0m\u001b[1;33m\u001b[0m\u001b[0m\n\u001b[1;32m--> 262\u001b[1;33m             return [func(*args, **kwargs)\n\u001b[0m\u001b[0;32m    263\u001b[0m                     for func, args, kwargs in self.items]\n\u001b[0;32m    264\u001b[0m \u001b[1;33m\u001b[0m\u001b[0m\n",
      "\u001b[1;32m~\\anaconda3\\lib\\site-packages\\joblib\\parallel.py\u001b[0m in \u001b[0;36m<listcomp>\u001b[1;34m(.0)\u001b[0m\n\u001b[0;32m    260\u001b[0m         \u001b[1;31m# change the default number of processes to -1\u001b[0m\u001b[1;33m\u001b[0m\u001b[1;33m\u001b[0m\u001b[1;33m\u001b[0m\u001b[0m\n\u001b[0;32m    261\u001b[0m         \u001b[1;32mwith\u001b[0m \u001b[0mparallel_backend\u001b[0m\u001b[1;33m(\u001b[0m\u001b[0mself\u001b[0m\u001b[1;33m.\u001b[0m\u001b[0m_backend\u001b[0m\u001b[1;33m,\u001b[0m \u001b[0mn_jobs\u001b[0m\u001b[1;33m=\u001b[0m\u001b[0mself\u001b[0m\u001b[1;33m.\u001b[0m\u001b[0m_n_jobs\u001b[0m\u001b[1;33m)\u001b[0m\u001b[1;33m:\u001b[0m\u001b[1;33m\u001b[0m\u001b[1;33m\u001b[0m\u001b[0m\n\u001b[1;32m--> 262\u001b[1;33m             return [func(*args, **kwargs)\n\u001b[0m\u001b[0;32m    263\u001b[0m                     for func, args, kwargs in self.items]\n\u001b[0;32m    264\u001b[0m \u001b[1;33m\u001b[0m\u001b[0m\n",
      "\u001b[1;32m~\\anaconda3\\lib\\site-packages\\sklearn\\utils\\fixes.py\u001b[0m in \u001b[0;36m__call__\u001b[1;34m(self, *args, **kwargs)\u001b[0m\n\u001b[0;32m    220\u001b[0m     \u001b[1;32mdef\u001b[0m \u001b[0m__call__\u001b[0m\u001b[1;33m(\u001b[0m\u001b[0mself\u001b[0m\u001b[1;33m,\u001b[0m \u001b[1;33m*\u001b[0m\u001b[0margs\u001b[0m\u001b[1;33m,\u001b[0m \u001b[1;33m**\u001b[0m\u001b[0mkwargs\u001b[0m\u001b[1;33m)\u001b[0m\u001b[1;33m:\u001b[0m\u001b[1;33m\u001b[0m\u001b[1;33m\u001b[0m\u001b[0m\n\u001b[0;32m    221\u001b[0m         \u001b[1;32mwith\u001b[0m \u001b[0mconfig_context\u001b[0m\u001b[1;33m(\u001b[0m\u001b[1;33m**\u001b[0m\u001b[0mself\u001b[0m\u001b[1;33m.\u001b[0m\u001b[0mconfig\u001b[0m\u001b[1;33m)\u001b[0m\u001b[1;33m:\u001b[0m\u001b[1;33m\u001b[0m\u001b[1;33m\u001b[0m\u001b[0m\n\u001b[1;32m--> 222\u001b[1;33m             \u001b[1;32mreturn\u001b[0m \u001b[0mself\u001b[0m\u001b[1;33m.\u001b[0m\u001b[0mfunction\u001b[0m\u001b[1;33m(\u001b[0m\u001b[1;33m*\u001b[0m\u001b[0margs\u001b[0m\u001b[1;33m,\u001b[0m \u001b[1;33m**\u001b[0m\u001b[0mkwargs\u001b[0m\u001b[1;33m)\u001b[0m\u001b[1;33m\u001b[0m\u001b[1;33m\u001b[0m\u001b[0m\n\u001b[0m",
      "\u001b[1;32m~\\anaconda3\\lib\\site-packages\\sklearn\\linear_model\\_logistic.py\u001b[0m in \u001b[0;36m_log_reg_scoring_path\u001b[1;34m(X, y, train, test, pos_class, Cs, scoring, fit_intercept, max_iter, tol, class_weight, verbose, solver, penalty, dual, intercept_scaling, multi_class, random_state, max_squared_sum, sample_weight, l1_ratio)\u001b[0m\n\u001b[0;32m    964\u001b[0m         \u001b[0msample_weight\u001b[0m \u001b[1;33m=\u001b[0m \u001b[0msample_weight\u001b[0m\u001b[1;33m[\u001b[0m\u001b[0mtrain\u001b[0m\u001b[1;33m]\u001b[0m\u001b[1;33m\u001b[0m\u001b[1;33m\u001b[0m\u001b[0m\n\u001b[0;32m    965\u001b[0m \u001b[1;33m\u001b[0m\u001b[0m\n\u001b[1;32m--> 966\u001b[1;33m     coefs, Cs, n_iter = _logistic_regression_path(\n\u001b[0m\u001b[0;32m    967\u001b[0m         \u001b[0mX_train\u001b[0m\u001b[1;33m,\u001b[0m \u001b[0my_train\u001b[0m\u001b[1;33m,\u001b[0m \u001b[0mCs\u001b[0m\u001b[1;33m=\u001b[0m\u001b[0mCs\u001b[0m\u001b[1;33m,\u001b[0m \u001b[0ml1_ratio\u001b[0m\u001b[1;33m=\u001b[0m\u001b[0ml1_ratio\u001b[0m\u001b[1;33m,\u001b[0m\u001b[1;33m\u001b[0m\u001b[1;33m\u001b[0m\u001b[0m\n\u001b[0;32m    968\u001b[0m         \u001b[0mfit_intercept\u001b[0m\u001b[1;33m=\u001b[0m\u001b[0mfit_intercept\u001b[0m\u001b[1;33m,\u001b[0m \u001b[0msolver\u001b[0m\u001b[1;33m=\u001b[0m\u001b[0msolver\u001b[0m\u001b[1;33m,\u001b[0m \u001b[0mmax_iter\u001b[0m\u001b[1;33m=\u001b[0m\u001b[0mmax_iter\u001b[0m\u001b[1;33m,\u001b[0m\u001b[1;33m\u001b[0m\u001b[1;33m\u001b[0m\u001b[0m\n",
      "\u001b[1;32m~\\anaconda3\\lib\\site-packages\\sklearn\\linear_model\\_logistic.py\u001b[0m in \u001b[0;36m_logistic_regression_path\u001b[1;34m(X, y, pos_class, Cs, fit_intercept, max_iter, tol, verbose, solver, coef, class_weight, dual, penalty, intercept_scaling, multi_class, random_state, check_input, max_squared_sum, sample_weight, l1_ratio)\u001b[0m\n\u001b[0;32m    770\u001b[0m                                       maxiter=max_iter, tol=tol)\n\u001b[0;32m    771\u001b[0m         \u001b[1;32melif\u001b[0m \u001b[0msolver\u001b[0m \u001b[1;33m==\u001b[0m \u001b[1;34m'liblinear'\u001b[0m\u001b[1;33m:\u001b[0m\u001b[1;33m\u001b[0m\u001b[1;33m\u001b[0m\u001b[0m\n\u001b[1;32m--> 772\u001b[1;33m             coef_, intercept_, n_iter_i, = _fit_liblinear(\n\u001b[0m\u001b[0;32m    773\u001b[0m                 \u001b[0mX\u001b[0m\u001b[1;33m,\u001b[0m \u001b[0mtarget\u001b[0m\u001b[1;33m,\u001b[0m \u001b[0mC\u001b[0m\u001b[1;33m,\u001b[0m \u001b[0mfit_intercept\u001b[0m\u001b[1;33m,\u001b[0m \u001b[0mintercept_scaling\u001b[0m\u001b[1;33m,\u001b[0m \u001b[1;32mNone\u001b[0m\u001b[1;33m,\u001b[0m\u001b[1;33m\u001b[0m\u001b[1;33m\u001b[0m\u001b[0m\n\u001b[0;32m    774\u001b[0m                 \u001b[0mpenalty\u001b[0m\u001b[1;33m,\u001b[0m \u001b[0mdual\u001b[0m\u001b[1;33m,\u001b[0m \u001b[0mverbose\u001b[0m\u001b[1;33m,\u001b[0m \u001b[0mmax_iter\u001b[0m\u001b[1;33m,\u001b[0m \u001b[0mtol\u001b[0m\u001b[1;33m,\u001b[0m \u001b[0mrandom_state\u001b[0m\u001b[1;33m,\u001b[0m\u001b[1;33m\u001b[0m\u001b[1;33m\u001b[0m\u001b[0m\n",
      "\u001b[1;32m~\\anaconda3\\lib\\site-packages\\sklearn\\svm\\_base.py\u001b[0m in \u001b[0;36m_fit_liblinear\u001b[1;34m(X, y, C, fit_intercept, intercept_scaling, class_weight, penalty, dual, verbose, max_iter, tol, random_state, multi_class, loss, epsilon, sample_weight)\u001b[0m\n\u001b[0;32m    973\u001b[0m \u001b[1;33m\u001b[0m\u001b[0m\n\u001b[0;32m    974\u001b[0m     \u001b[0msolver_type\u001b[0m \u001b[1;33m=\u001b[0m \u001b[0m_get_liblinear_solver_type\u001b[0m\u001b[1;33m(\u001b[0m\u001b[0mmulti_class\u001b[0m\u001b[1;33m,\u001b[0m \u001b[0mpenalty\u001b[0m\u001b[1;33m,\u001b[0m \u001b[0mloss\u001b[0m\u001b[1;33m,\u001b[0m \u001b[0mdual\u001b[0m\u001b[1;33m)\u001b[0m\u001b[1;33m\u001b[0m\u001b[1;33m\u001b[0m\u001b[0m\n\u001b[1;32m--> 975\u001b[1;33m     raw_coef_, n_iter_ = liblinear.train_wrap(\n\u001b[0m\u001b[0;32m    976\u001b[0m         \u001b[0mX\u001b[0m\u001b[1;33m,\u001b[0m \u001b[0my_ind\u001b[0m\u001b[1;33m,\u001b[0m \u001b[0msp\u001b[0m\u001b[1;33m.\u001b[0m\u001b[0misspmatrix\u001b[0m\u001b[1;33m(\u001b[0m\u001b[0mX\u001b[0m\u001b[1;33m)\u001b[0m\u001b[1;33m,\u001b[0m \u001b[0msolver_type\u001b[0m\u001b[1;33m,\u001b[0m \u001b[0mtol\u001b[0m\u001b[1;33m,\u001b[0m \u001b[0mbias\u001b[0m\u001b[1;33m,\u001b[0m \u001b[0mC\u001b[0m\u001b[1;33m,\u001b[0m\u001b[1;33m\u001b[0m\u001b[1;33m\u001b[0m\u001b[0m\n\u001b[0;32m    977\u001b[0m         \u001b[0mclass_weight_\u001b[0m\u001b[1;33m,\u001b[0m \u001b[0mmax_iter\u001b[0m\u001b[1;33m,\u001b[0m \u001b[0mrnd\u001b[0m\u001b[1;33m.\u001b[0m\u001b[0mrandint\u001b[0m\u001b[1;33m(\u001b[0m\u001b[0mnp\u001b[0m\u001b[1;33m.\u001b[0m\u001b[0miinfo\u001b[0m\u001b[1;33m(\u001b[0m\u001b[1;34m'i'\u001b[0m\u001b[1;33m)\u001b[0m\u001b[1;33m.\u001b[0m\u001b[0mmax\u001b[0m\u001b[1;33m)\u001b[0m\u001b[1;33m,\u001b[0m\u001b[1;33m\u001b[0m\u001b[1;33m\u001b[0m\u001b[0m\n",
      "\u001b[1;31mKeyboardInterrupt\u001b[0m: "
     ]
    }
   ],
   "source": [
    "%%time\n",
    "# index 0, 10 not converge\n",
    "\n",
    "for i in range(10, 50):\n",
    "    print(i)\n",
    "    explain_index = i\n",
    "    X_explain = X_test.iloc[[explain_index]]\n",
    "    y_explain = y_test.iloc[[explain_index]]\n",
    "    # Create Rule Object\n",
    "    create_pyExp_rule_obj = pyExp.explain(X_explain,\n",
    "                               y_explain,\n",
    "                               search_function = 'crossoverinterpolation',\n",
    "                               top_k = 3, \n",
    "                               max_rules=30, \n",
    "                               max_iter =5, \n",
    "                               cv=5,\n",
    "                               debug = False)\n",
    "    \n",
    "\n",
    "# ---------------------------------------- ignore ---------------------------------------- #\n",
    "# err 01                                                                                   #\n",
    "# unexpected keyword argument - max_iter                                                   #\n",
    "# err 02                                                                                   #\n",
    "# unexpected keyword argument - n_jobs                                                     #\n",
    "# err 03                                                                                   #\n",
    "# ConvergenceWarning: Liblinear failed to converge, increase the number of iterations.     #\n",
    "# ---------------------------------------- ignore ---------------------------------------- #\n"
   ]
  },
  {
   "cell_type": "markdown",
   "id": "executed-limitation",
   "metadata": {},
   "source": [
    "### ⏳ 3.5 Alternatively, we can directly load a Rule Object if we already have it "
   ]
  },
  {
   "cell_type": "markdown",
   "id": "billion-essay",
   "metadata": {},
   "source": [
    "#### 3.5.1 Create Reading and Writing Functions"
   ]
  },
  {
   "cell_type": "code",
   "execution_count": 14,
   "id": "hollow-karaoke",
   "metadata": {},
   "outputs": [],
   "source": [
    "import pickle\n",
    "import os.path\n",
    "\n",
    "# Util functions for reading and writing data\n",
    "def save_object(object_i, filename):\n",
    "    with open(filename, 'wb') as file:\n",
    "        pickle.dump(object_i, file)\n",
    "\n",
    "def load_object(filename):\n",
    "    with open(filename, 'rb') as file:\n",
    "        object_o = pickle.load(file)\n",
    "    return (object_o)"
   ]
  },
  {
   "cell_type": "markdown",
   "id": "dated-hamilton",
   "metadata": {},
   "source": [
    "#### 3.5.2 Load Sample Rule Object - we use pyExplainer_obj.pyobject file as an example"
   ]
  },
  {
   "cell_type": "code",
   "execution_count": 15,
   "id": "automatic-cabin",
   "metadata": {},
   "outputs": [],
   "source": [
    "# load rule obj\n",
    "if os.path.isfile('../tests/pyExplainer_obj.pyobject'):\n",
    "    load_pyExp_rule_obj = load_object('../tests/pyExplainer_obj.pyobject')"
   ]
  },
  {
   "cell_type": "markdown",
   "id": "architectural-broad",
   "metadata": {},
   "source": [
    "## 👩🏽‍🎨 4. Pass Rule Object to .visualise(rule_obj) to Generate the Bullet Chart and Interactive Slider\n",
    "#### 📝Note. the interactive slider is not available in this version"
   ]
  },
  {
   "cell_type": "markdown",
   "id": "returning-vertical",
   "metadata": {},
   "source": [
    "#### 🔧 Visualise the Rule Object we created manually using .explain(...) method"
   ]
  },
  {
   "cell_type": "code",
   "execution_count": 16,
   "id": "after-withdrawal",
   "metadata": {},
   "outputs": [
    {
     "ename": "NameError",
     "evalue": "name 'create_pyExp_rule_obj' is not defined",
     "output_type": "error",
     "traceback": [
      "\u001b[1;31m---------------------------------------------------------------------------\u001b[0m",
      "\u001b[1;31mNameError\u001b[0m                                 Traceback (most recent call last)",
      "\u001b[1;32m<ipython-input-16-992ebccfedce>\u001b[0m in \u001b[0;36m<module>\u001b[1;34m\u001b[0m\n\u001b[1;32m----> 1\u001b[1;33m \u001b[0mpyExp\u001b[0m\u001b[1;33m.\u001b[0m\u001b[0mvisualise\u001b[0m\u001b[1;33m(\u001b[0m\u001b[0mcreate_pyExp_rule_obj\u001b[0m\u001b[1;33m)\u001b[0m\u001b[1;33m\u001b[0m\u001b[1;33m\u001b[0m\u001b[0m\n\u001b[0m",
      "\u001b[1;31mNameError\u001b[0m: name 'create_pyExp_rule_obj' is not defined"
     ]
    }
   ],
   "source": [
    "pyExp.visualise(create_pyExp_rule_obj)"
   ]
  },
  {
   "cell_type": "markdown",
   "id": "australian-cotton",
   "metadata": {},
   "source": [
    "#### ⏳ Visualise the Rule Object we loaded from pyExplainer_obj.pyobject file"
   ]
  },
  {
   "cell_type": "code",
   "execution_count": 17,
   "id": "thousand-principle",
   "metadata": {},
   "outputs": [
    {
     "name": "stdout",
     "output_type": "stream",
     "text": [
      "Min 2 Max 987 threshold 97.83 Actual 10 Plot_min 2.0 Plot_max 196.0\n",
      "Min 1 Max 4 threshold 1.55 Actual 1 Plot_min 1.0 Plot_max 2.0\n",
      "Min 1 Max 23 threshold 5.5 Actual 1 Plot_min 1 Plot_max 8.0\n"
     ]
    },
    {
     "data": {
      "application/vnd.jupyter.widget-view+json": {
       "model_id": "76a73f33f58f448d88f0a7f59c906137",
       "version_major": 2,
       "version_minor": 0
      },
      "text/plain": [
       "HBox(children=(Label(value='Risk Score: '), FloatProgress(value=0.0, bar_style='info', layout=Layout(width='40…"
      ]
     },
     "metadata": {},
     "output_type": "display_data"
    },
    {
     "data": {
      "application/vnd.jupyter.widget-view+json": {
       "model_id": "835098bcb30d4d349067089b6d6c5530",
       "version_major": 2,
       "version_minor": 0
      },
      "text/plain": [
       "FloatSlider(value=10.0, continuous_update=False, description='#1 Increase the values of CountStmt to more than…"
      ]
     },
     "metadata": {},
     "output_type": "display_data"
    },
    {
     "data": {
      "application/vnd.jupyter.widget-view+json": {
       "model_id": "dfa037fb31544f9da604684a6c195982",
       "version_major": 2,
       "version_minor": 0
      },
      "text/plain": [
       "FloatSlider(value=1.0, continuous_update=False, description='#2 Decrease the values of MAJOR_COMMIT to less th…"
      ]
     },
     "metadata": {},
     "output_type": "display_data"
    },
    {
     "data": {
      "application/vnd.jupyter.widget-view+json": {
       "model_id": "6d8cb4efdef74a7dab22822a7c379b91",
       "version_major": 2,
       "version_minor": 0
      },
      "text/plain": [
       "FloatSlider(value=1.0, continuous_update=False, description='#3 Decrease the values of COMM to less than 1', l…"
      ]
     },
     "metadata": {},
     "output_type": "display_data"
    },
    {
     "data": {
      "application/vnd.jupyter.widget-view+json": {
       "model_id": "725610fb8fd0460cb4db03e92c955578",
       "version_major": 2,
       "version_minor": 0
      },
      "text/plain": [
       "Output(layout=Layout(border='3px solid black'))"
      ]
     },
     "metadata": {},
     "output_type": "display_data"
    }
   ],
   "source": [
    "pyExp.visualise(load_pyExp_rule_obj)"
   ]
  },
  {
   "cell_type": "markdown",
   "id": "varying-concentrate",
   "metadata": {},
   "source": [
    "## 🕵🏻 What's in the Rule Object (pyExp_rule_obj) ?  Let's unbox it ! 📦"
   ]
  },
  {
   "cell_type": "markdown",
   "id": "published-conversation",
   "metadata": {},
   "source": [
    "### 1. Basic Data Check"
   ]
  },
  {
   "cell_type": "code",
   "execution_count": 16,
   "id": "upper-attachment",
   "metadata": {},
   "outputs": [
    {
     "name": "stdout",
     "output_type": "stream",
     "text": [
      "Type of Rule Object:  <class 'dict'>\n",
      "\n",
      "All of the keys in Rule Object\n",
      "Key  1  -  synthetic_data\n",
      "Key  2  -  synthetic_predictions\n",
      "Key  3  -  X_explain\n",
      "Key  4  -  y_explain\n",
      "Key  5  -  indep\n",
      "Key  6  -  dep\n",
      "Key  7  -  top_k_positive_rules\n",
      "Key  8  -  top_k_negative_rules\n"
     ]
    }
   ],
   "source": [
    "print(\"Type of Rule Object: \", type(pyExp_rule_obj))\n",
    "print()\n",
    "print(\"All of the keys in Rule Object\")\n",
    "i = 1\n",
    "for k in pyExp_rule_obj.keys():\n",
    "    print(\"Key \", i, \" - \",k)\n",
    "    i += 1"
   ]
  },
  {
   "cell_type": "markdown",
   "id": "recognized-domestic",
   "metadata": {},
   "source": [
    "### 🔑 Key 1 - synthetic_data\n",
    "#### As can be seen below, the synthetic data are data coming from feature columns\n",
    "#### This synthetic data was generated internally by the PyExplainer when the .explain(...) method is triggered\n",
    "#### Currently we have 2 approaches to generate synthetic_data\n",
    "#### Approach (1) Crossover and Interpolation\n",
    "#### Approach (2) Random Pertubation\n",
    "#### After the process of C&I. or RP., synthetic_data will be generated as a DataFrame below"
   ]
  },
  {
   "cell_type": "code",
   "execution_count": 19,
   "id": "genuine-heater",
   "metadata": {},
   "outputs": [
    {
     "name": "stdout",
     "output_type": "stream",
     "text": [
      "Type of pyExp_rule_obj['synthetic_data'] -  <class 'pandas.core.frame.DataFrame'> \n",
      "\n",
      "Example \n",
      "\n",
      "    CountDeclMethodPrivate  AvgLineCode  CountLine  MaxCyclomatic  \\\n",
      "0                     0.0          9.0      157.0            5.0   \n",
      "1                     0.0          9.0       78.0            2.0   \n",
      "\n",
      "   CountDeclMethodDefault  AvgEssential  CountDeclClassVariable  \\\n",
      "0                     0.0           1.0                     1.0   \n",
      "1                     0.0           1.0                     0.0   \n",
      "\n",
      "   SumCyclomaticStrict  AvgCyclomatic  AvgLine  ...  DDEV  Added_lines  \\\n",
      "0                 13.0            2.0     21.0  ...   1.0         35.0   \n",
      "1                  6.0            2.0     18.0  ...   2.0         18.0   \n",
      "\n",
      "   Del_lines  OWN_LINE  OWN_COMMIT  MINOR_COMMIT  MINOR_LINE  MAJOR_COMMIT  \\\n",
      "0       27.0       1.0         1.0           0.0         1.0           1.0   \n",
      "1       12.0       1.0         0.5           0.0         1.0           2.0   \n",
      "\n",
      "   MAJOR_LINE  RealBug  \n",
      "0         0.0    False  \n",
      "1         0.0    False  \n",
      "\n",
      "[2 rows x 66 columns]\n"
     ]
    }
   ],
   "source": [
    "print(\"Type of pyExp_rule_obj['synthetic_data'] - \", type(pyExp_rule_obj['synthetic_data']), \"\\n\")\n",
    "print(\"Example\", \"\\n\\n\", pyExp_rule_obj['synthetic_data'].head(2))"
   ]
  },
  {
   "cell_type": "markdown",
   "id": "surrounded-underground",
   "metadata": {},
   "source": [
    "### 🔑 Key 2 - synthetic_predictions\n",
    "#### As can be seen below, the synthetic prediction are data coming from the prediction column\n",
    "#### This synthetic prediction was generated internally by the PyExplainer when the .explain(...) method is triggered\n",
    "#### This synthetic prediction is created based on the black box model we passed to the PyExplainer when initialising (section 1.5 & 2.3)\n",
    "#### This synthetic prediction is generated based on the synthetic data above therefore it's called synthetic_predictions\n",
    "#### >>> e.g. synthetic_predictions = blackbox_model.predict(synthetic_data)  Note. we only need feature cols in synthetic_data"
   ]
  },
  {
   "cell_type": "code",
   "execution_count": 23,
   "id": "greatest-burton",
   "metadata": {},
   "outputs": [
    {
     "name": "stdout",
     "output_type": "stream",
     "text": [
      "Type of pyExp_rule_obj['synthetic_predictions'] -  <class 'numpy.ndarray'> \n",
      "\n",
      "Example \n",
      "\n",
      " [False False  True ... False False  True]\n"
     ]
    }
   ],
   "source": [
    "print(\"Type of pyExp_rule_obj['synthetic_predictions'] - \", type(pyExp_rule_obj['synthetic_predictions']), \"\\n\")\n",
    "print(\"Example\", \"\\n\\n\", pyExp_rule_obj['synthetic_predictions'])"
   ]
  },
  {
   "cell_type": "markdown",
   "id": "wired-router",
   "metadata": {},
   "source": [
    "### 🔑 Key 3 - X_explain\n",
    "#### This X_explain is exactly the same as the one we passed to .explain(...) method (section 3.3 & section 3.4)"
   ]
  },
  {
   "cell_type": "code",
   "execution_count": 29,
   "id": "linear-basin",
   "metadata": {},
   "outputs": [
    {
     "name": "stdout",
     "output_type": "stream",
     "text": [
      "Type of pyExp_rule_obj['X_explain'] -  <class 'pandas.core.frame.DataFrame'> \n",
      "\n",
      "Example \n",
      "\n",
      "                                                     CountDeclMethodPrivate  \\\n",
      "File                                                                         \n",
      "activemq-camel-loadtest/src/test/java/org/apach...                       0   \n",
      "\n",
      "                                                    AvgLineCode  CountLine  \\\n",
      "File                                                                         \n",
      "activemq-camel-loadtest/src/test/java/org/apach...            3         36   \n",
      "\n",
      "                                                    MaxCyclomatic  \\\n",
      "File                                                                \n",
      "activemq-camel-loadtest/src/test/java/org/apach...              1   \n",
      "\n",
      "                                                    CountDeclMethodDefault  \\\n",
      "File                                                                         \n",
      "activemq-camel-loadtest/src/test/java/org/apach...                       0   \n",
      "\n",
      "                                                    AvgEssential  \\\n",
      "File                                                               \n",
      "activemq-camel-loadtest/src/test/java/org/apach...             1   \n",
      "\n",
      "                                                    CountDeclClassVariable  \\\n",
      "File                                                                         \n",
      "activemq-camel-loadtest/src/test/java/org/apach...                       0   \n",
      "\n",
      "                                                    SumCyclomaticStrict  \\\n",
      "File                                                                      \n",
      "activemq-camel-loadtest/src/test/java/org/apach...                    1   \n",
      "\n",
      "                                                    AvgCyclomatic  AvgLine  \\\n",
      "File                                                                         \n",
      "activemq-camel-loadtest/src/test/java/org/apach...              1        3   \n",
      "\n",
      "                                                    ...  ADEV  DDEV  \\\n",
      "File                                                ...               \n",
      "activemq-camel-loadtest/src/test/java/org/apach...  ...     1     1   \n",
      "\n",
      "                                                    Added_lines  Del_lines  \\\n",
      "File                                                                         \n",
      "activemq-camel-loadtest/src/test/java/org/apach...           37          0   \n",
      "\n",
      "                                                    OWN_LINE  OWN_COMMIT  \\\n",
      "File                                                                       \n",
      "activemq-camel-loadtest/src/test/java/org/apach...       1.0         1.0   \n",
      "\n",
      "                                                    MINOR_COMMIT  MINOR_LINE  \\\n",
      "File                                                                           \n",
      "activemq-camel-loadtest/src/test/java/org/apach...             0           1   \n",
      "\n",
      "                                                    MAJOR_COMMIT  MAJOR_LINE  \n",
      "File                                                                          \n",
      "activemq-camel-loadtest/src/test/java/org/apach...             1           0  \n",
      "\n",
      "[1 rows x 65 columns]\n"
     ]
    }
   ],
   "source": [
    "print(\"Type of pyExp_rule_obj['X_explain'] - \", type(pyExp_rule_obj['X_explain']), \"\\n\")\n",
    "print(\"Example\", \"\\n\\n\", pyExp_rule_obj['X_explain'])"
   ]
  },
  {
   "cell_type": "markdown",
   "id": "potential-morrison",
   "metadata": {},
   "source": [
    "### 🔑 Key 4 - y_explain\n",
    "#### This y_explain is exactly the same as the one we passed to .explain(...) method (section 3.3 & section 3.4)"
   ]
  },
  {
   "cell_type": "code",
   "execution_count": 30,
   "id": "cloudy-baker",
   "metadata": {},
   "outputs": [
    {
     "name": "stdout",
     "output_type": "stream",
     "text": [
      "Type of pyExp_rule_obj['y_explain'] -  <class 'pandas.core.series.Series'> \n",
      "\n",
      "Example \n",
      "\n",
      " File\n",
      "activemq-camel-loadtest/src/test/java/org/apache/activemq/soaktest/LoadTest.java    False\n",
      "Name: RealBug, dtype: bool\n"
     ]
    }
   ],
   "source": [
    "print(\"Type of pyExp_rule_obj['y_explain'] - \", type(pyExp_rule_obj['y_explain']), \"\\n\")\n",
    "print(\"Example\", \"\\n\\n\", pyExp_rule_obj['y_explain'])"
   ]
  },
  {
   "cell_type": "markdown",
   "id": "going-school",
   "metadata": {},
   "source": [
    "### 🔑 Key 5 - indep\n",
    "#### Names of the Selected Feature Cols"
   ]
  },
  {
   "cell_type": "code",
   "execution_count": 36,
   "id": "conservative-machine",
   "metadata": {},
   "outputs": [
    {
     "name": "stdout",
     "output_type": "stream",
     "text": [
      "Type of pyExp_rule_obj['indep'] -  <class 'pandas.core.indexes.base.Index'> \n",
      "\n",
      "Example \n",
      "\n",
      " Index(['CountDeclMethodPrivate', 'AvgLineCode', 'CountLine', 'MaxCyclomatic',\n",
      "       'CountDeclMethodDefault', 'AvgEssential', 'CountDeclClassVariable',\n",
      "       'SumCyclomaticStrict', 'AvgCyclomatic', 'AvgLine',\n",
      "       'CountDeclClassMethod', 'AvgLineComment', 'AvgCyclomaticModified',\n",
      "       'CountDeclFunction', 'CountLineComment', 'CountDeclClass',\n",
      "       'CountDeclMethod', 'SumCyclomaticModified', 'CountLineCodeDecl',\n",
      "       'CountDeclMethodProtected', 'CountDeclInstanceVariable',\n",
      "       'MaxCyclomaticStrict', 'CountDeclMethodPublic', 'CountLineCodeExe',\n",
      "       'SumCyclomatic', 'SumEssential', 'CountStmtDecl', 'CountLineCode',\n",
      "       'CountStmtExe', 'RatioCommentToCode', 'CountLineBlank', 'CountStmt',\n",
      "       'MaxCyclomaticModified', 'CountSemicolon', 'AvgLineBlank',\n",
      "       'CountDeclInstanceMethod', 'AvgCyclomaticStrict',\n",
      "       'PercentLackOfCohesion', 'MaxInheritanceTree', 'CountClassDerived',\n",
      "       'CountClassCoupled', 'CountClassBase', 'CountInput_Max',\n",
      "       'CountInput_Mean', 'CountInput_Min', 'CountOutput_Max',\n",
      "       'CountOutput_Mean', 'CountOutput_Min', 'CountPath_Max',\n",
      "       'CountPath_Mean', 'CountPath_Min', 'MaxNesting_Max', 'MaxNesting_Mean',\n",
      "       'MaxNesting_Min', 'COMM', 'ADEV', 'DDEV', 'Added_lines', 'Del_lines',\n",
      "       'OWN_LINE', 'OWN_COMMIT', 'MINOR_COMMIT', 'MINOR_LINE', 'MAJOR_COMMIT',\n",
      "       'MAJOR_LINE'],\n",
      "      dtype='object')\n"
     ]
    }
   ],
   "source": [
    "print(\"Type of pyExp_rule_obj['indep'] - \", type(pyExp_rule_obj['indep']), \"\\n\")\n",
    "print(\"Example\", \"\\n\\n\", pyExp_rule_obj['indep'])"
   ]
  },
  {
   "cell_type": "markdown",
   "id": "agreed-composition",
   "metadata": {},
   "source": [
    "### 🔑 Key 6 - dep\n",
    "#### Names of the Label Col (Prediction Col)"
   ]
  },
  {
   "cell_type": "code",
   "execution_count": 37,
   "id": "blessed-horizontal",
   "metadata": {},
   "outputs": [
    {
     "name": "stdout",
     "output_type": "stream",
     "text": [
      "Type of pyExp_rule_obj['dep'] -  <class 'str'> \n",
      "\n",
      "Example \n",
      "\n",
      " RealBug\n"
     ]
    }
   ],
   "source": [
    "print(\"Type of pyExp_rule_obj['dep'] - \", type(pyExp_rule_obj['dep']), \"\\n\")\n",
    "print(\"Example\", \"\\n\\n\", pyExp_rule_obj['dep'])"
   ]
  },
  {
   "cell_type": "markdown",
   "id": "efficient-commitment",
   "metadata": {},
   "source": [
    "### 🔑 Key 7 - top_k_positive_rules\n",
    "#### This shows the top k positive rules generated by the RuleFit model inside the .explain(...) function\n",
    "#### The value of 'top_k' can be tuned in when we create a Rule Object manually (section 3.4), the default value is 3"
   ]
  },
  {
   "cell_type": "code",
   "execution_count": 41,
   "id": "dried-punishment",
   "metadata": {},
   "outputs": [
    {
     "name": "stdout",
     "output_type": "stream",
     "text": [
      "Type of pyExp_rule_obj['top_k_positive_rules'] -  <class 'pandas.core.frame.DataFrame'> \n",
      "\n",
      "Example \n",
      "\n",
      "                                                  rule  type      coef  \\\n",
      "92  MaxNesting_Mean > 0.1850000023841858 & CountDe...  rule  1.898139   \n",
      "69  CountLineCodeDecl <= 46.209999084472656 & SumC...  rule  1.352392   \n",
      "87  SumCyclomaticModified > 24.84500026702881 & DD...  rule  0.471191   \n",
      "\n",
      "     support  importance   Class  \n",
      "92  0.101828    0.574038  Defect  \n",
      "69  0.028721    0.225877  Defect  \n",
      "87  0.130548    0.158747  Defect  \n"
     ]
    }
   ],
   "source": [
    "print(\"Type of pyExp_rule_obj['top_k_positive_rules'] - \", type(pyExp_rule_obj['top_k_positive_rules']), \"\\n\")\n",
    "print(\"Example\", \"\\n\\n\", pyExp_rule_obj['top_k_positive_rules'])"
   ]
  },
  {
   "cell_type": "markdown",
   "id": "perceived-catalog",
   "metadata": {},
   "source": [
    "### 🔑 Key 8 - top_k_negative_rules\n",
    "#### This shows the top k negative rules generated by the RuleFit model inside the .explain(...) function\n",
    "#### The value of 'top_k' can be tuned in when we create a Rule Object manually (section 3.4), the default value is 3\n",
    "#### However, in the current version, the top_k value is always the same for both negative and positive rules which can be improved in the future version"
   ]
  },
  {
   "cell_type": "code",
   "execution_count": 49,
   "id": "circular-reduction",
   "metadata": {},
   "outputs": [
    {
     "name": "stdout",
     "output_type": "stream",
     "text": [
      "Type of pyExp_rule_obj['top_k_negative_rules'] -  <class 'pandas.core.frame.DataFrame'> \n",
      "\n",
      "Example \n",
      "\n",
      "                                                  rule  type      coef  \\\n",
      "85  CountStmt > 97.83000183105469 & MAJOR_COMMIT <...  rule -7.757467   \n",
      "81       COMM <= 5.5 & CountStmt <= 97.83000183105469  rule -2.193372   \n",
      "79  SumCyclomatic <= 31.5 & CountLineCodeDecl <= 4...  rule -1.491272   \n",
      "\n",
      "     support  importance  Class  \n",
      "85  0.049608    1.684413  Clean  \n",
      "81  0.796345    0.883305  Clean  \n",
      "79  0.817232    0.576341  Clean  \n"
     ]
    }
   ],
   "source": [
    "print(\"Type of pyExp_rule_obj['top_k_negative_rules'] - \", type(pyExp_rule_obj['top_k_negative_rules']), \"\\n\")\n",
    "print(\"Example\", \"\\n\\n\", pyExp_rule_obj['top_k_negative_rules'])"
   ]
  },
  {
   "cell_type": "markdown",
   "id": "infectious-calgary",
   "metadata": {},
   "source": [
    "# 🤡 Important - Bug Report Channel 🤡\n",
    "#### 📧 Please email your report to michaelfu1998@gmail.com\n",
    "#### ✈️ More channels will be opened soon\n",
    "\n",
    "# "
   ]
  },
  {
   "cell_type": "markdown",
   "id": "married-malpractice",
   "metadata": {},
   "source": [
    "# <center> 🙏Thanks for playing around with PyExplainer, I really appreciate your time! 🙏 </center>\n",
    "#### <center> 🔥 More Features will be Released Soon 🔥 </center>"
   ]
  }
 ],
 "metadata": {
  "kernelspec": {
   "display_name": "Python 3",
   "language": "python",
   "name": "python3"
  },
  "language_info": {
   "codemirror_mode": {
    "name": "ipython",
    "version": 3
   },
   "file_extension": ".py",
   "mimetype": "text/x-python",
   "name": "python",
   "nbconvert_exporter": "python",
   "pygments_lexer": "ipython3",
   "version": "3.8.8"
  }
 },
 "nbformat": 4,
 "nbformat_minor": 5
}
