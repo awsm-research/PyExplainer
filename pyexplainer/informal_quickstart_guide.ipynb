{
 "cells": [
  {
   "cell_type": "markdown",
   "id": "dated-worst",
   "metadata": {},
   "source": [
    "# <center> 👩‍💻 Welcome to PyExplainer Quickstart Guide 👨‍💻 </center>"
   ]
  },
  {
   "cell_type": "markdown",
   "id": "pregnant-appraisal",
   "metadata": {},
   "source": [
    "# 🛠 Installation \n",
    "## - Please ignore this part if you cloned the whole package from GitHub\n",
    "#### The pyexplainer package is not stable enough to publish on PyPI at the moment, but we can still install the package pyexplainer on <a href=\"https://test.pypi.org/project/pyexplainer/\">testPyPI</a>\n",
    "\n",
    "### ☠️Warning☠️ >>> Do not use the command from <a href=\"https://test.pypi.org/project/pyexplainer/\">testPyPI</a> (pip install -i https://test.pypi.org/simple/ pyexplainer) !  This code may trigger \"distribution not found error\" when pip is installing the dependencies.\n",
    "\n",
    "### 🤖 Run the cell below to install pyexplainer 0.1.0"
   ]
  },
  {
   "cell_type": "code",
   "execution_count": null,
   "id": "combined-charlotte",
   "metadata": {},
   "outputs": [],
   "source": [
    "!pip install --index-url https://test.pypi.org/simple/ --extra-index-url https://pypi.org/simple pyexplainer"
   ]
  },
  {
   "cell_type": "markdown",
   "id": "ideal-bedroom",
   "metadata": {},
   "source": [
    "### 🤖 If the code above did not work, try the cell below, otherwise, you are good to go!"
   ]
  },
  {
   "cell_type": "code",
   "execution_count": null,
   "id": "alert-spirituality",
   "metadata": {},
   "outputs": [],
   "source": [
    "!pip3 install --index-url https://test.pypi.org/simple/ --extra-index-url https://pypi.org/simple pyexplainer"
   ]
  },
  {
   "cell_type": "markdown",
   "id": "regional-promise",
   "metadata": {},
   "source": [
    "# Let's Start !"
   ]
  },
  {
   "cell_type": "markdown",
   "id": "forced-olympus",
   "metadata": {},
   "source": [
    "## 👩🏻‍🔧 1. Build a blackbox model (Here we use Random Forest as an example)"
   ]
  },
  {
   "cell_type": "markdown",
   "id": "crude-promise",
   "metadata": {},
   "source": [
    "### 1.1 Import Libraries Needed"
   ]
  },
  {
   "cell_type": "code",
   "execution_count": 15,
   "id": "stunning-summer",
   "metadata": {},
   "outputs": [],
   "source": [
    "from sklearn.ensemble import RandomForestClassifier\n",
    "import pandas as pd"
   ]
  },
  {
   "cell_type": "markdown",
   "id": "metallic-seattle",
   "metadata": {},
   "source": [
    "### 1.2 Load Sample Dataset"
   ]
  },
  {
   "cell_type": "code",
   "execution_count": 16,
   "id": "alive-volunteer",
   "metadata": {},
   "outputs": [],
   "source": [
    "data = pd.read_csv('../tests/example-datasets/activemq-5.0.0.csv', index_col = 'File')"
   ]
  },
  {
   "cell_type": "markdown",
   "id": "conscious-given",
   "metadata": {},
   "source": [
    "### 1.3 Slicing Data to Prepare X_train, y_train Before Constructing Blackbox Model "
   ]
  },
  {
   "cell_type": "code",
   "execution_count": 17,
   "id": "hungry-belfast",
   "metadata": {},
   "outputs": [
    {
     "name": "stdout",
     "output_type": "stream",
     "text": [
      "data type of 'dep' -  <class 'str'> \n",
      "\n",
      "data type of 'indep' -  <class 'pandas.core.indexes.base.Index'> \n",
      "\n",
      "content of 'dep' -  RealBug \n",
      "\n",
      "content of 'indep' -  Index(['CountDeclMethodPrivate', 'AvgLineCode', 'CountLine', 'MaxCyclomatic',\n",
      "       'CountDeclMethodDefault', 'AvgEssential', 'CountDeclClassVariable',\n",
      "       'SumCyclomaticStrict', 'AvgCyclomatic', 'AvgLine',\n",
      "       'CountDeclClassMethod', 'AvgLineComment', 'AvgCyclomaticModified',\n",
      "       'CountDeclFunction', 'CountLineComment', 'CountDeclClass',\n",
      "       'CountDeclMethod', 'SumCyclomaticModified', 'CountLineCodeDecl',\n",
      "       'CountDeclMethodProtected', 'CountDeclInstanceVariable',\n",
      "       'MaxCyclomaticStrict', 'CountDeclMethodPublic', 'CountLineCodeExe',\n",
      "       'SumCyclomatic', 'SumEssential', 'CountStmtDecl', 'CountLineCode',\n",
      "       'CountStmtExe', 'RatioCommentToCode', 'CountLineBlank', 'CountStmt',\n",
      "       'MaxCyclomaticModified', 'CountSemicolon', 'AvgLineBlank',\n",
      "       'CountDeclInstanceMethod', 'AvgCyclomaticStrict',\n",
      "       'PercentLackOfCohesion', 'MaxInheritanceTree', 'CountClassDerived',\n",
      "       'CountClassCoupled', 'CountClassBase', 'CountInput_Max',\n",
      "       'CountInput_Mean', 'CountInput_Min', 'CountOutput_Max',\n",
      "       'CountOutput_Mean', 'CountOutput_Min', 'CountPath_Max',\n",
      "       'CountPath_Mean', 'CountPath_Min', 'MaxNesting_Max', 'MaxNesting_Mean',\n",
      "       'MaxNesting_Min', 'COMM', 'ADEV', 'DDEV', 'Added_lines', 'Del_lines',\n",
      "       'OWN_LINE', 'OWN_COMMIT', 'MINOR_COMMIT', 'MINOR_LINE', 'MAJOR_COMMIT',\n",
      "       'MAJOR_LINE'],\n",
      "      dtype='object')\n"
     ]
    }
   ],
   "source": [
    "dep = data.columns[-4]\n",
    "indep = data.columns[0:(len(data.columns) - 4)]\n",
    "\n",
    "print(\"data type of 'dep' - \", type(dep), \"\\n\")\n",
    "print(\"data type of 'indep' - \", type(indep), \"\\n\")\n",
    "print(\"content of 'dep' - \", dep, \"\\n\")\n",
    "print(\"content of 'indep' - \", indep)"
   ]
  },
  {
   "cell_type": "markdown",
   "id": "fresh-annex",
   "metadata": {},
   "source": [
    "### 1.4 Prepare X_train, y_train Data for the Blackbox Model Based on the Data from 1.3"
   ]
  },
  {
   "cell_type": "code",
   "execution_count": 18,
   "id": "occasional-impact",
   "metadata": {},
   "outputs": [
    {
     "name": "stdout",
     "output_type": "stream",
     "text": [
      "data type of 'X_train' -  <class 'pandas.core.frame.DataFrame'> \n",
      "\n",
      "data type of 'y_train' -  <class 'pandas.core.series.Series'> \n",
      "\n",
      "-------------------- content of 'X_train' --------------------  \n",
      "\n",
      "                                                     CountDeclMethodPrivate  \\\n",
      "File                                                                         \n",
      "activemq-console/src/main/java/org/apache/activ...                       0   \n",
      "activemq-console/src/main/java/org/apache/activ...                       0   \n",
      "activemq-console/src/main/java/org/apache/activ...                       0   \n",
      "activemq-console/src/main/java/org/apache/activ...                       0   \n",
      "activemq-console/src/main/java/org/apache/activ...                       0   \n",
      "...                                                                    ...   \n",
      "assembly/src/test/java/org/apache/activemq/benc...                       0   \n",
      "assembly/src/test/java/org/apache/activemq/benc...                       0   \n",
      "assembly/src/test/java/org/apache/activemq/benc...                       0   \n",
      "assembly/src/test/java/org/apache/activemq/benc...                       0   \n",
      "assembly/src/test/java/org/apache/activemq/conf...                       0   \n",
      "\n",
      "                                                    AvgLineCode  CountLine  \\\n",
      "File                                                                         \n",
      "activemq-console/src/main/java/org/apache/activ...           10        171   \n",
      "activemq-console/src/main/java/org/apache/activ...            8        123   \n",
      "activemq-console/src/main/java/org/apache/activ...            7        136   \n",
      "activemq-console/src/main/java/org/apache/activ...           29        241   \n",
      "activemq-console/src/main/java/org/apache/activ...           24        212   \n",
      "...                                                         ...        ...   \n",
      "assembly/src/test/java/org/apache/activemq/benc...            5        215   \n",
      "assembly/src/test/java/org/apache/activemq/benc...            9        108   \n",
      "assembly/src/test/java/org/apache/activemq/benc...            9        180   \n",
      "assembly/src/test/java/org/apache/activemq/benc...            6         80   \n",
      "assembly/src/test/java/org/apache/activemq/conf...            9         64   \n",
      "\n",
      "                                                    MaxCyclomatic  \\\n",
      "File                                                                \n",
      "activemq-console/src/main/java/org/apache/activ...              5   \n",
      "activemq-console/src/main/java/org/apache/activ...              5   \n",
      "activemq-console/src/main/java/org/apache/activ...              5   \n",
      "activemq-console/src/main/java/org/apache/activ...             17   \n",
      "activemq-console/src/main/java/org/apache/activ...             17   \n",
      "...                                                           ...   \n",
      "assembly/src/test/java/org/apache/activemq/benc...              6   \n",
      "assembly/src/test/java/org/apache/activemq/benc...              7   \n",
      "assembly/src/test/java/org/apache/activemq/benc...              8   \n",
      "assembly/src/test/java/org/apache/activemq/benc...              7   \n",
      "assembly/src/test/java/org/apache/activemq/conf...              4   \n",
      "\n",
      "                                                    CountDeclMethodDefault  \\\n",
      "File                                                                         \n",
      "activemq-console/src/main/java/org/apache/activ...                       0   \n",
      "activemq-console/src/main/java/org/apache/activ...                       0   \n",
      "activemq-console/src/main/java/org/apache/activ...                       0   \n",
      "activemq-console/src/main/java/org/apache/activ...                       0   \n",
      "activemq-console/src/main/java/org/apache/activ...                       0   \n",
      "...                                                                    ...   \n",
      "assembly/src/test/java/org/apache/activemq/benc...                       0   \n",
      "assembly/src/test/java/org/apache/activemq/benc...                       0   \n",
      "assembly/src/test/java/org/apache/activemq/benc...                       0   \n",
      "assembly/src/test/java/org/apache/activemq/benc...                       0   \n",
      "assembly/src/test/java/org/apache/activemq/conf...                       0   \n",
      "\n",
      "                                                    AvgEssential  \\\n",
      "File                                                               \n",
      "activemq-console/src/main/java/org/apache/activ...             2   \n",
      "activemq-console/src/main/java/org/apache/activ...             1   \n",
      "activemq-console/src/main/java/org/apache/activ...             1   \n",
      "activemq-console/src/main/java/org/apache/activ...             4   \n",
      "activemq-console/src/main/java/org/apache/activ...             3   \n",
      "...                                                          ...   \n",
      "assembly/src/test/java/org/apache/activemq/benc...             1   \n",
      "assembly/src/test/java/org/apache/activemq/benc...             1   \n",
      "assembly/src/test/java/org/apache/activemq/benc...             1   \n",
      "assembly/src/test/java/org/apache/activemq/benc...             1   \n",
      "assembly/src/test/java/org/apache/activemq/conf...             1   \n",
      "\n",
      "                                                    CountDeclClassVariable  \\\n",
      "File                                                                         \n",
      "activemq-console/src/main/java/org/apache/activ...                       0   \n",
      "activemq-console/src/main/java/org/apache/activ...                       1   \n",
      "activemq-console/src/main/java/org/apache/activ...                       1   \n",
      "activemq-console/src/main/java/org/apache/activ...                       5   \n",
      "activemq-console/src/main/java/org/apache/activ...                       5   \n",
      "...                                                                    ...   \n",
      "assembly/src/test/java/org/apache/activemq/benc...                       0   \n",
      "assembly/src/test/java/org/apache/activemq/benc...                       0   \n",
      "assembly/src/test/java/org/apache/activemq/benc...                       0   \n",
      "assembly/src/test/java/org/apache/activemq/benc...                       0   \n",
      "assembly/src/test/java/org/apache/activemq/conf...                       0   \n",
      "\n",
      "                                                    SumCyclomaticStrict  \\\n",
      "File                                                                      \n",
      "activemq-console/src/main/java/org/apache/activ...                   18   \n",
      "activemq-console/src/main/java/org/apache/activ...                   15   \n",
      "activemq-console/src/main/java/org/apache/activ...                   16   \n",
      "activemq-console/src/main/java/org/apache/activ...                   29   \n",
      "activemq-console/src/main/java/org/apache/activ...                   26   \n",
      "...                                                                 ...   \n",
      "assembly/src/test/java/org/apache/activemq/benc...                   35   \n",
      "assembly/src/test/java/org/apache/activemq/benc...                   16   \n",
      "assembly/src/test/java/org/apache/activemq/benc...                   30   \n",
      "assembly/src/test/java/org/apache/activemq/benc...                   13   \n",
      "assembly/src/test/java/org/apache/activemq/conf...                    7   \n",
      "\n",
      "                                                    AvgCyclomatic  AvgLine  \\\n",
      "File                                                                         \n",
      "activemq-console/src/main/java/org/apache/activ...              2       18   \n",
      "activemq-console/src/main/java/org/apache/activ...              3       17   \n",
      "activemq-console/src/main/java/org/apache/activ...              2       13   \n",
      "activemq-console/src/main/java/org/apache/activ...              9       53   \n",
      "activemq-console/src/main/java/org/apache/activ...              8       44   \n",
      "...                                                           ...      ...   \n",
      "assembly/src/test/java/org/apache/activemq/benc...              1        5   \n",
      "assembly/src/test/java/org/apache/activemq/benc...              3       11   \n",
      "assembly/src/test/java/org/apache/activemq/benc...              2       10   \n",
      "assembly/src/test/java/org/apache/activemq/benc...              2        6   \n",
      "assembly/src/test/java/org/apache/activemq/conf...              2        9   \n",
      "\n",
      "                                                    ...  ADEV  DDEV  \\\n",
      "File                                                ...               \n",
      "activemq-console/src/main/java/org/apache/activ...  ...     1     1   \n",
      "activemq-console/src/main/java/org/apache/activ...  ...     2     2   \n",
      "activemq-console/src/main/java/org/apache/activ...  ...     1     1   \n",
      "activemq-console/src/main/java/org/apache/activ...  ...     1     1   \n",
      "activemq-console/src/main/java/org/apache/activ...  ...     1     1   \n",
      "...                                                 ...   ...   ...   \n",
      "assembly/src/test/java/org/apache/activemq/benc...  ...     3     2   \n",
      "assembly/src/test/java/org/apache/activemq/benc...  ...     2     1   \n",
      "assembly/src/test/java/org/apache/activemq/benc...  ...     3     2   \n",
      "assembly/src/test/java/org/apache/activemq/benc...  ...     2     1   \n",
      "assembly/src/test/java/org/apache/activemq/conf...  ...     2     1   \n",
      "\n",
      "                                                    Added_lines  Del_lines  \\\n",
      "File                                                                         \n",
      "activemq-console/src/main/java/org/apache/activ...           32         18   \n",
      "activemq-console/src/main/java/org/apache/activ...           30         28   \n",
      "activemq-console/src/main/java/org/apache/activ...            8          8   \n",
      "activemq-console/src/main/java/org/apache/activ...           76         76   \n",
      "activemq-console/src/main/java/org/apache/activ...           76         76   \n",
      "...                                                         ...        ...   \n",
      "assembly/src/test/java/org/apache/activemq/benc...           25         41   \n",
      "assembly/src/test/java/org/apache/activemq/benc...           12         16   \n",
      "assembly/src/test/java/org/apache/activemq/benc...           16         19   \n",
      "assembly/src/test/java/org/apache/activemq/benc...            5          8   \n",
      "assembly/src/test/java/org/apache/activemq/conf...            7         11   \n",
      "\n",
      "                                                    OWN_LINE  OWN_COMMIT  \\\n",
      "File                                                                       \n",
      "activemq-console/src/main/java/org/apache/activ...  1.000000    1.000000   \n",
      "activemq-console/src/main/java/org/apache/activ...  0.983740    0.500000   \n",
      "activemq-console/src/main/java/org/apache/activ...  1.000000    1.000000   \n",
      "activemq-console/src/main/java/org/apache/activ...  1.000000    1.000000   \n",
      "activemq-console/src/main/java/org/apache/activ...  1.000000    1.000000   \n",
      "...                                                      ...         ...   \n",
      "assembly/src/test/java/org/apache/activemq/benc...  0.846512    0.666667   \n",
      "assembly/src/test/java/org/apache/activemq/benc...  0.814815    1.000000   \n",
      "assembly/src/test/java/org/apache/activemq/benc...  0.866667    0.666667   \n",
      "assembly/src/test/java/org/apache/activemq/benc...  0.837500    1.000000   \n",
      "assembly/src/test/java/org/apache/activemq/conf...  0.750000    1.000000   \n",
      "\n",
      "                                                    MINOR_COMMIT  MINOR_LINE  \\\n",
      "File                                                                           \n",
      "activemq-console/src/main/java/org/apache/activ...             0           1   \n",
      "activemq-console/src/main/java/org/apache/activ...             0           1   \n",
      "activemq-console/src/main/java/org/apache/activ...             0           1   \n",
      "activemq-console/src/main/java/org/apache/activ...             0           1   \n",
      "activemq-console/src/main/java/org/apache/activ...             0           1   \n",
      "...                                                          ...         ...   \n",
      "assembly/src/test/java/org/apache/activemq/benc...             0           2   \n",
      "assembly/src/test/java/org/apache/activemq/benc...             0           2   \n",
      "assembly/src/test/java/org/apache/activemq/benc...             0           2   \n",
      "assembly/src/test/java/org/apache/activemq/benc...             0           2   \n",
      "assembly/src/test/java/org/apache/activemq/conf...             0           2   \n",
      "\n",
      "                                                    MAJOR_COMMIT  MAJOR_LINE  \n",
      "File                                                                          \n",
      "activemq-console/src/main/java/org/apache/activ...             1           0  \n",
      "activemq-console/src/main/java/org/apache/activ...             2           1  \n",
      "activemq-console/src/main/java/org/apache/activ...             1           0  \n",
      "activemq-console/src/main/java/org/apache/activ...             1           0  \n",
      "activemq-console/src/main/java/org/apache/activ...             1           0  \n",
      "...                                                          ...         ...  \n",
      "assembly/src/test/java/org/apache/activemq/benc...             2           1  \n",
      "assembly/src/test/java/org/apache/activemq/benc...             1           1  \n",
      "assembly/src/test/java/org/apache/activemq/benc...             2           2  \n",
      "assembly/src/test/java/org/apache/activemq/benc...             1           1  \n",
      "assembly/src/test/java/org/apache/activemq/conf...             1           1  \n",
      "\n",
      "[1884 rows x 65 columns] \n",
      "\n",
      "-------------------- content of 'y_train' --------------------  \n",
      "\n",
      " File\n",
      "activemq-console/src/main/java/org/apache/activemq/console/command/AbstractAmqCommand.java    False\n",
      "activemq-console/src/main/java/org/apache/activemq/console/command/AbstractCommand.java       False\n",
      "activemq-console/src/main/java/org/apache/activemq/console/command/AbstractJmxCommand.java    False\n",
      "activemq-console/src/main/java/org/apache/activemq/console/command/AmqBrowseCommand.java      False\n",
      "activemq-console/src/main/java/org/apache/activemq/console/command/BrowseCommand.java         False\n",
      "                                                                                              ...  \n",
      "assembly/src/test/java/org/apache/activemq/benchmark/BenchmarkSupport.java                     True\n",
      "assembly/src/test/java/org/apache/activemq/benchmark/Consumer.java                            False\n",
      "assembly/src/test/java/org/apache/activemq/benchmark/Producer.java                             True\n",
      "assembly/src/test/java/org/apache/activemq/benchmark/ProducerConsumer.java                    False\n",
      "assembly/src/test/java/org/apache/activemq/config/BrokerXmlConfigTest.java                    False\n",
      "Name: RealBug, Length: 1884, dtype: bool\n"
     ]
    }
   ],
   "source": [
    "X_train = data.loc[:, indep]\n",
    "y_train = data.loc[:, dep]\n",
    "\n",
    "print(\"data type of 'X_train' - \", type(X_train), \"\\n\")\n",
    "print(\"data type of 'y_train' - \", type(y_train), \"\\n\")\n",
    "print(\"--------------------\", \"content of 'X_train' -------------------- \", \"\\n\\n\", X_train, \"\\n\")\n",
    "print(\"--------------------\", \"content of 'y_train' -------------------- \", \"\\n\\n\", y_train)"
   ]
  },
  {
   "cell_type": "markdown",
   "id": "earlier-shaft",
   "metadata": {},
   "source": [
    "### 1.5 Build a Sample Blackbox RF. Model Using Data from 1.4"
   ]
  },
  {
   "cell_type": "code",
   "execution_count": 19,
   "id": "biological-aside",
   "metadata": {},
   "outputs": [
    {
     "data": {
      "text/plain": [
       "RandomForestClassifier(max_depth=3, random_state=0)"
      ]
     },
     "execution_count": 19,
     "metadata": {},
     "output_type": "execute_result"
    }
   ],
   "source": [
    "blackbox_model = RandomForestClassifier(max_depth=3, random_state=0)\n",
    "blackbox_model.fit(X_train, y_train)"
   ]
  },
  {
   "cell_type": "markdown",
   "id": "artificial-reproduction",
   "metadata": {},
   "source": [
    "## 🚀  2. Create a PyExplainer Object"
   ]
  },
  {
   "cell_type": "markdown",
   "id": "liberal-canon",
   "metadata": {},
   "source": [
    "### 2.1 Import Library Needed"
   ]
  },
  {
   "cell_type": "code",
   "execution_count": 20,
   "id": "laughing-watch",
   "metadata": {},
   "outputs": [],
   "source": [
    "from pyexplainer_pyexplainer import PyExplainer"
   ]
  },
  {
   "cell_type": "markdown",
   "id": "behind-suspect",
   "metadata": {},
   "source": [
    "### 2.2 Define Class Labels for Classification Model"
   ]
  },
  {
   "cell_type": "code",
   "execution_count": 21,
   "id": "premier-music",
   "metadata": {},
   "outputs": [],
   "source": [
    "class_label = ['Clean', 'Defect']"
   ]
  },
  {
   "cell_type": "markdown",
   "id": "incident-senior",
   "metadata": {},
   "source": [
    "### 2.3 Create an Object"
   ]
  },
  {
   "cell_type": "code",
   "execution_count": 22,
   "id": "optional-wrapping",
   "metadata": {},
   "outputs": [
    {
     "data": {
      "text/plain": [
       "<pyexplainer_pyexplainer.PyExplainer at 0x7fb4dce15a60>"
      ]
     },
     "execution_count": 22,
     "metadata": {},
     "output_type": "execute_result"
    }
   ],
   "source": [
    "pyExp = PyExplainer(X_train,\n",
    "            y_train,\n",
    "            indep,\n",
    "            dep,\n",
    "            class_label,\n",
    "            blackbox_model = blackbox_model)\n",
    "pyExp"
   ]
  },
  {
   "cell_type": "markdown",
   "id": "divided-august",
   "metadata": {},
   "source": [
    "## 💾 3. Prepare Testing Data to be Explained by PyExplainer"
   ]
  },
  {
   "cell_type": "markdown",
   "id": "assisted-deficit",
   "metadata": {},
   "source": [
    "### 3.1 Load Testing Data as pd DataFrame"
   ]
  },
  {
   "cell_type": "code",
   "execution_count": 23,
   "id": "subsequent-niagara",
   "metadata": {},
   "outputs": [
    {
     "data": {
      "text/html": [
       "<div>\n",
       "<style scoped>\n",
       "    .dataframe tbody tr th:only-of-type {\n",
       "        vertical-align: middle;\n",
       "    }\n",
       "\n",
       "    .dataframe tbody tr th {\n",
       "        vertical-align: top;\n",
       "    }\n",
       "\n",
       "    .dataframe thead th {\n",
       "        text-align: right;\n",
       "    }\n",
       "</style>\n",
       "<table border=\"1\" class=\"dataframe\">\n",
       "  <thead>\n",
       "    <tr style=\"text-align: right;\">\n",
       "      <th></th>\n",
       "      <th>CountDeclMethodPrivate</th>\n",
       "      <th>AvgLineCode</th>\n",
       "      <th>CountLine</th>\n",
       "      <th>MaxCyclomatic</th>\n",
       "      <th>CountDeclMethodDefault</th>\n",
       "      <th>AvgEssential</th>\n",
       "      <th>CountDeclClassVariable</th>\n",
       "      <th>SumCyclomaticStrict</th>\n",
       "      <th>AvgCyclomatic</th>\n",
       "      <th>AvgLine</th>\n",
       "      <th>...</th>\n",
       "      <th>OWN_LINE</th>\n",
       "      <th>OWN_COMMIT</th>\n",
       "      <th>MINOR_COMMIT</th>\n",
       "      <th>MINOR_LINE</th>\n",
       "      <th>MAJOR_COMMIT</th>\n",
       "      <th>MAJOR_LINE</th>\n",
       "      <th>RealBug</th>\n",
       "      <th>HeuBug</th>\n",
       "      <th>HeuBugCount</th>\n",
       "      <th>RealBugCount</th>\n",
       "    </tr>\n",
       "    <tr>\n",
       "      <th>File</th>\n",
       "      <th></th>\n",
       "      <th></th>\n",
       "      <th></th>\n",
       "      <th></th>\n",
       "      <th></th>\n",
       "      <th></th>\n",
       "      <th></th>\n",
       "      <th></th>\n",
       "      <th></th>\n",
       "      <th></th>\n",
       "      <th></th>\n",
       "      <th></th>\n",
       "      <th></th>\n",
       "      <th></th>\n",
       "      <th></th>\n",
       "      <th></th>\n",
       "      <th></th>\n",
       "      <th></th>\n",
       "      <th></th>\n",
       "      <th></th>\n",
       "      <th></th>\n",
       "    </tr>\n",
       "  </thead>\n",
       "  <tbody>\n",
       "    <tr>\n",
       "      <th>activemq-console/src/main/java/org/apache/activemq/console/command/AbstractAmqCommand.java</th>\n",
       "      <td>0</td>\n",
       "      <td>10</td>\n",
       "      <td>171</td>\n",
       "      <td>5</td>\n",
       "      <td>0</td>\n",
       "      <td>2</td>\n",
       "      <td>0</td>\n",
       "      <td>18</td>\n",
       "      <td>2</td>\n",
       "      <td>18</td>\n",
       "      <td>...</td>\n",
       "      <td>1.000000</td>\n",
       "      <td>1.000000</td>\n",
       "      <td>0</td>\n",
       "      <td>1</td>\n",
       "      <td>1</td>\n",
       "      <td>0</td>\n",
       "      <td>False</td>\n",
       "      <td>False</td>\n",
       "      <td>0</td>\n",
       "      <td>0</td>\n",
       "    </tr>\n",
       "    <tr>\n",
       "      <th>activemq-console/src/main/java/org/apache/activemq/console/command/AbstractCommand.java</th>\n",
       "      <td>0</td>\n",
       "      <td>8</td>\n",
       "      <td>123</td>\n",
       "      <td>5</td>\n",
       "      <td>0</td>\n",
       "      <td>1</td>\n",
       "      <td>1</td>\n",
       "      <td>15</td>\n",
       "      <td>3</td>\n",
       "      <td>17</td>\n",
       "      <td>...</td>\n",
       "      <td>0.983740</td>\n",
       "      <td>0.500000</td>\n",
       "      <td>0</td>\n",
       "      <td>1</td>\n",
       "      <td>2</td>\n",
       "      <td>1</td>\n",
       "      <td>False</td>\n",
       "      <td>False</td>\n",
       "      <td>0</td>\n",
       "      <td>0</td>\n",
       "    </tr>\n",
       "    <tr>\n",
       "      <th>activemq-console/src/main/java/org/apache/activemq/console/command/AbstractJmxCommand.java</th>\n",
       "      <td>0</td>\n",
       "      <td>7</td>\n",
       "      <td>136</td>\n",
       "      <td>5</td>\n",
       "      <td>0</td>\n",
       "      <td>1</td>\n",
       "      <td>1</td>\n",
       "      <td>16</td>\n",
       "      <td>2</td>\n",
       "      <td>13</td>\n",
       "      <td>...</td>\n",
       "      <td>1.000000</td>\n",
       "      <td>1.000000</td>\n",
       "      <td>0</td>\n",
       "      <td>1</td>\n",
       "      <td>1</td>\n",
       "      <td>0</td>\n",
       "      <td>False</td>\n",
       "      <td>False</td>\n",
       "      <td>0</td>\n",
       "      <td>0</td>\n",
       "    </tr>\n",
       "    <tr>\n",
       "      <th>activemq-console/src/main/java/org/apache/activemq/console/command/AmqBrowseCommand.java</th>\n",
       "      <td>0</td>\n",
       "      <td>29</td>\n",
       "      <td>241</td>\n",
       "      <td>17</td>\n",
       "      <td>0</td>\n",
       "      <td>4</td>\n",
       "      <td>5</td>\n",
       "      <td>29</td>\n",
       "      <td>9</td>\n",
       "      <td>53</td>\n",
       "      <td>...</td>\n",
       "      <td>1.000000</td>\n",
       "      <td>1.000000</td>\n",
       "      <td>0</td>\n",
       "      <td>1</td>\n",
       "      <td>1</td>\n",
       "      <td>0</td>\n",
       "      <td>False</td>\n",
       "      <td>False</td>\n",
       "      <td>0</td>\n",
       "      <td>0</td>\n",
       "    </tr>\n",
       "    <tr>\n",
       "      <th>activemq-console/src/main/java/org/apache/activemq/console/command/BrowseCommand.java</th>\n",
       "      <td>0</td>\n",
       "      <td>24</td>\n",
       "      <td>212</td>\n",
       "      <td>17</td>\n",
       "      <td>0</td>\n",
       "      <td>3</td>\n",
       "      <td>5</td>\n",
       "      <td>26</td>\n",
       "      <td>8</td>\n",
       "      <td>44</td>\n",
       "      <td>...</td>\n",
       "      <td>1.000000</td>\n",
       "      <td>1.000000</td>\n",
       "      <td>0</td>\n",
       "      <td>1</td>\n",
       "      <td>1</td>\n",
       "      <td>0</td>\n",
       "      <td>False</td>\n",
       "      <td>False</td>\n",
       "      <td>0</td>\n",
       "      <td>0</td>\n",
       "    </tr>\n",
       "    <tr>\n",
       "      <th>...</th>\n",
       "      <td>...</td>\n",
       "      <td>...</td>\n",
       "      <td>...</td>\n",
       "      <td>...</td>\n",
       "      <td>...</td>\n",
       "      <td>...</td>\n",
       "      <td>...</td>\n",
       "      <td>...</td>\n",
       "      <td>...</td>\n",
       "      <td>...</td>\n",
       "      <td>...</td>\n",
       "      <td>...</td>\n",
       "      <td>...</td>\n",
       "      <td>...</td>\n",
       "      <td>...</td>\n",
       "      <td>...</td>\n",
       "      <td>...</td>\n",
       "      <td>...</td>\n",
       "      <td>...</td>\n",
       "      <td>...</td>\n",
       "      <td>...</td>\n",
       "    </tr>\n",
       "    <tr>\n",
       "      <th>assembly/src/test/java/org/apache/activemq/benchmark/BenchmarkSupport.java</th>\n",
       "      <td>0</td>\n",
       "      <td>5</td>\n",
       "      <td>215</td>\n",
       "      <td>6</td>\n",
       "      <td>0</td>\n",
       "      <td>1</td>\n",
       "      <td>0</td>\n",
       "      <td>35</td>\n",
       "      <td>1</td>\n",
       "      <td>5</td>\n",
       "      <td>...</td>\n",
       "      <td>0.846512</td>\n",
       "      <td>0.666667</td>\n",
       "      <td>0</td>\n",
       "      <td>2</td>\n",
       "      <td>2</td>\n",
       "      <td>1</td>\n",
       "      <td>True</td>\n",
       "      <td>False</td>\n",
       "      <td>0</td>\n",
       "      <td>1</td>\n",
       "    </tr>\n",
       "    <tr>\n",
       "      <th>assembly/src/test/java/org/apache/activemq/benchmark/Consumer.java</th>\n",
       "      <td>0</td>\n",
       "      <td>9</td>\n",
       "      <td>108</td>\n",
       "      <td>7</td>\n",
       "      <td>0</td>\n",
       "      <td>1</td>\n",
       "      <td>0</td>\n",
       "      <td>16</td>\n",
       "      <td>3</td>\n",
       "      <td>11</td>\n",
       "      <td>...</td>\n",
       "      <td>0.814815</td>\n",
       "      <td>1.000000</td>\n",
       "      <td>0</td>\n",
       "      <td>2</td>\n",
       "      <td>1</td>\n",
       "      <td>1</td>\n",
       "      <td>False</td>\n",
       "      <td>False</td>\n",
       "      <td>0</td>\n",
       "      <td>0</td>\n",
       "    </tr>\n",
       "    <tr>\n",
       "      <th>assembly/src/test/java/org/apache/activemq/benchmark/Producer.java</th>\n",
       "      <td>0</td>\n",
       "      <td>9</td>\n",
       "      <td>180</td>\n",
       "      <td>8</td>\n",
       "      <td>0</td>\n",
       "      <td>1</td>\n",
       "      <td>0</td>\n",
       "      <td>30</td>\n",
       "      <td>2</td>\n",
       "      <td>10</td>\n",
       "      <td>...</td>\n",
       "      <td>0.866667</td>\n",
       "      <td>0.666667</td>\n",
       "      <td>0</td>\n",
       "      <td>2</td>\n",
       "      <td>2</td>\n",
       "      <td>2</td>\n",
       "      <td>True</td>\n",
       "      <td>False</td>\n",
       "      <td>0</td>\n",
       "      <td>1</td>\n",
       "    </tr>\n",
       "    <tr>\n",
       "      <th>assembly/src/test/java/org/apache/activemq/benchmark/ProducerConsumer.java</th>\n",
       "      <td>0</td>\n",
       "      <td>6</td>\n",
       "      <td>80</td>\n",
       "      <td>7</td>\n",
       "      <td>0</td>\n",
       "      <td>1</td>\n",
       "      <td>0</td>\n",
       "      <td>13</td>\n",
       "      <td>2</td>\n",
       "      <td>6</td>\n",
       "      <td>...</td>\n",
       "      <td>0.837500</td>\n",
       "      <td>1.000000</td>\n",
       "      <td>0</td>\n",
       "      <td>2</td>\n",
       "      <td>1</td>\n",
       "      <td>1</td>\n",
       "      <td>False</td>\n",
       "      <td>False</td>\n",
       "      <td>0</td>\n",
       "      <td>0</td>\n",
       "    </tr>\n",
       "    <tr>\n",
       "      <th>assembly/src/test/java/org/apache/activemq/config/BrokerXmlConfigTest.java</th>\n",
       "      <td>0</td>\n",
       "      <td>9</td>\n",
       "      <td>64</td>\n",
       "      <td>4</td>\n",
       "      <td>0</td>\n",
       "      <td>1</td>\n",
       "      <td>0</td>\n",
       "      <td>7</td>\n",
       "      <td>2</td>\n",
       "      <td>9</td>\n",
       "      <td>...</td>\n",
       "      <td>0.750000</td>\n",
       "      <td>1.000000</td>\n",
       "      <td>0</td>\n",
       "      <td>2</td>\n",
       "      <td>1</td>\n",
       "      <td>1</td>\n",
       "      <td>False</td>\n",
       "      <td>False</td>\n",
       "      <td>0</td>\n",
       "      <td>0</td>\n",
       "    </tr>\n",
       "  </tbody>\n",
       "</table>\n",
       "<p>1884 rows × 69 columns</p>\n",
       "</div>"
      ],
      "text/plain": [
       "                                                    CountDeclMethodPrivate  \\\n",
       "File                                                                         \n",
       "activemq-console/src/main/java/org/apache/activ...                       0   \n",
       "activemq-console/src/main/java/org/apache/activ...                       0   \n",
       "activemq-console/src/main/java/org/apache/activ...                       0   \n",
       "activemq-console/src/main/java/org/apache/activ...                       0   \n",
       "activemq-console/src/main/java/org/apache/activ...                       0   \n",
       "...                                                                    ...   \n",
       "assembly/src/test/java/org/apache/activemq/benc...                       0   \n",
       "assembly/src/test/java/org/apache/activemq/benc...                       0   \n",
       "assembly/src/test/java/org/apache/activemq/benc...                       0   \n",
       "assembly/src/test/java/org/apache/activemq/benc...                       0   \n",
       "assembly/src/test/java/org/apache/activemq/conf...                       0   \n",
       "\n",
       "                                                    AvgLineCode  CountLine  \\\n",
       "File                                                                         \n",
       "activemq-console/src/main/java/org/apache/activ...           10        171   \n",
       "activemq-console/src/main/java/org/apache/activ...            8        123   \n",
       "activemq-console/src/main/java/org/apache/activ...            7        136   \n",
       "activemq-console/src/main/java/org/apache/activ...           29        241   \n",
       "activemq-console/src/main/java/org/apache/activ...           24        212   \n",
       "...                                                         ...        ...   \n",
       "assembly/src/test/java/org/apache/activemq/benc...            5        215   \n",
       "assembly/src/test/java/org/apache/activemq/benc...            9        108   \n",
       "assembly/src/test/java/org/apache/activemq/benc...            9        180   \n",
       "assembly/src/test/java/org/apache/activemq/benc...            6         80   \n",
       "assembly/src/test/java/org/apache/activemq/conf...            9         64   \n",
       "\n",
       "                                                    MaxCyclomatic  \\\n",
       "File                                                                \n",
       "activemq-console/src/main/java/org/apache/activ...              5   \n",
       "activemq-console/src/main/java/org/apache/activ...              5   \n",
       "activemq-console/src/main/java/org/apache/activ...              5   \n",
       "activemq-console/src/main/java/org/apache/activ...             17   \n",
       "activemq-console/src/main/java/org/apache/activ...             17   \n",
       "...                                                           ...   \n",
       "assembly/src/test/java/org/apache/activemq/benc...              6   \n",
       "assembly/src/test/java/org/apache/activemq/benc...              7   \n",
       "assembly/src/test/java/org/apache/activemq/benc...              8   \n",
       "assembly/src/test/java/org/apache/activemq/benc...              7   \n",
       "assembly/src/test/java/org/apache/activemq/conf...              4   \n",
       "\n",
       "                                                    CountDeclMethodDefault  \\\n",
       "File                                                                         \n",
       "activemq-console/src/main/java/org/apache/activ...                       0   \n",
       "activemq-console/src/main/java/org/apache/activ...                       0   \n",
       "activemq-console/src/main/java/org/apache/activ...                       0   \n",
       "activemq-console/src/main/java/org/apache/activ...                       0   \n",
       "activemq-console/src/main/java/org/apache/activ...                       0   \n",
       "...                                                                    ...   \n",
       "assembly/src/test/java/org/apache/activemq/benc...                       0   \n",
       "assembly/src/test/java/org/apache/activemq/benc...                       0   \n",
       "assembly/src/test/java/org/apache/activemq/benc...                       0   \n",
       "assembly/src/test/java/org/apache/activemq/benc...                       0   \n",
       "assembly/src/test/java/org/apache/activemq/conf...                       0   \n",
       "\n",
       "                                                    AvgEssential  \\\n",
       "File                                                               \n",
       "activemq-console/src/main/java/org/apache/activ...             2   \n",
       "activemq-console/src/main/java/org/apache/activ...             1   \n",
       "activemq-console/src/main/java/org/apache/activ...             1   \n",
       "activemq-console/src/main/java/org/apache/activ...             4   \n",
       "activemq-console/src/main/java/org/apache/activ...             3   \n",
       "...                                                          ...   \n",
       "assembly/src/test/java/org/apache/activemq/benc...             1   \n",
       "assembly/src/test/java/org/apache/activemq/benc...             1   \n",
       "assembly/src/test/java/org/apache/activemq/benc...             1   \n",
       "assembly/src/test/java/org/apache/activemq/benc...             1   \n",
       "assembly/src/test/java/org/apache/activemq/conf...             1   \n",
       "\n",
       "                                                    CountDeclClassVariable  \\\n",
       "File                                                                         \n",
       "activemq-console/src/main/java/org/apache/activ...                       0   \n",
       "activemq-console/src/main/java/org/apache/activ...                       1   \n",
       "activemq-console/src/main/java/org/apache/activ...                       1   \n",
       "activemq-console/src/main/java/org/apache/activ...                       5   \n",
       "activemq-console/src/main/java/org/apache/activ...                       5   \n",
       "...                                                                    ...   \n",
       "assembly/src/test/java/org/apache/activemq/benc...                       0   \n",
       "assembly/src/test/java/org/apache/activemq/benc...                       0   \n",
       "assembly/src/test/java/org/apache/activemq/benc...                       0   \n",
       "assembly/src/test/java/org/apache/activemq/benc...                       0   \n",
       "assembly/src/test/java/org/apache/activemq/conf...                       0   \n",
       "\n",
       "                                                    SumCyclomaticStrict  \\\n",
       "File                                                                      \n",
       "activemq-console/src/main/java/org/apache/activ...                   18   \n",
       "activemq-console/src/main/java/org/apache/activ...                   15   \n",
       "activemq-console/src/main/java/org/apache/activ...                   16   \n",
       "activemq-console/src/main/java/org/apache/activ...                   29   \n",
       "activemq-console/src/main/java/org/apache/activ...                   26   \n",
       "...                                                                 ...   \n",
       "assembly/src/test/java/org/apache/activemq/benc...                   35   \n",
       "assembly/src/test/java/org/apache/activemq/benc...                   16   \n",
       "assembly/src/test/java/org/apache/activemq/benc...                   30   \n",
       "assembly/src/test/java/org/apache/activemq/benc...                   13   \n",
       "assembly/src/test/java/org/apache/activemq/conf...                    7   \n",
       "\n",
       "                                                    AvgCyclomatic  AvgLine  \\\n",
       "File                                                                         \n",
       "activemq-console/src/main/java/org/apache/activ...              2       18   \n",
       "activemq-console/src/main/java/org/apache/activ...              3       17   \n",
       "activemq-console/src/main/java/org/apache/activ...              2       13   \n",
       "activemq-console/src/main/java/org/apache/activ...              9       53   \n",
       "activemq-console/src/main/java/org/apache/activ...              8       44   \n",
       "...                                                           ...      ...   \n",
       "assembly/src/test/java/org/apache/activemq/benc...              1        5   \n",
       "assembly/src/test/java/org/apache/activemq/benc...              3       11   \n",
       "assembly/src/test/java/org/apache/activemq/benc...              2       10   \n",
       "assembly/src/test/java/org/apache/activemq/benc...              2        6   \n",
       "assembly/src/test/java/org/apache/activemq/conf...              2        9   \n",
       "\n",
       "                                                    ...  OWN_LINE  OWN_COMMIT  \\\n",
       "File                                                ...                         \n",
       "activemq-console/src/main/java/org/apache/activ...  ...  1.000000    1.000000   \n",
       "activemq-console/src/main/java/org/apache/activ...  ...  0.983740    0.500000   \n",
       "activemq-console/src/main/java/org/apache/activ...  ...  1.000000    1.000000   \n",
       "activemq-console/src/main/java/org/apache/activ...  ...  1.000000    1.000000   \n",
       "activemq-console/src/main/java/org/apache/activ...  ...  1.000000    1.000000   \n",
       "...                                                 ...       ...         ...   \n",
       "assembly/src/test/java/org/apache/activemq/benc...  ...  0.846512    0.666667   \n",
       "assembly/src/test/java/org/apache/activemq/benc...  ...  0.814815    1.000000   \n",
       "assembly/src/test/java/org/apache/activemq/benc...  ...  0.866667    0.666667   \n",
       "assembly/src/test/java/org/apache/activemq/benc...  ...  0.837500    1.000000   \n",
       "assembly/src/test/java/org/apache/activemq/conf...  ...  0.750000    1.000000   \n",
       "\n",
       "                                                    MINOR_COMMIT  MINOR_LINE  \\\n",
       "File                                                                           \n",
       "activemq-console/src/main/java/org/apache/activ...             0           1   \n",
       "activemq-console/src/main/java/org/apache/activ...             0           1   \n",
       "activemq-console/src/main/java/org/apache/activ...             0           1   \n",
       "activemq-console/src/main/java/org/apache/activ...             0           1   \n",
       "activemq-console/src/main/java/org/apache/activ...             0           1   \n",
       "...                                                          ...         ...   \n",
       "assembly/src/test/java/org/apache/activemq/benc...             0           2   \n",
       "assembly/src/test/java/org/apache/activemq/benc...             0           2   \n",
       "assembly/src/test/java/org/apache/activemq/benc...             0           2   \n",
       "assembly/src/test/java/org/apache/activemq/benc...             0           2   \n",
       "assembly/src/test/java/org/apache/activemq/conf...             0           2   \n",
       "\n",
       "                                                    MAJOR_COMMIT  MAJOR_LINE  \\\n",
       "File                                                                           \n",
       "activemq-console/src/main/java/org/apache/activ...             1           0   \n",
       "activemq-console/src/main/java/org/apache/activ...             2           1   \n",
       "activemq-console/src/main/java/org/apache/activ...             1           0   \n",
       "activemq-console/src/main/java/org/apache/activ...             1           0   \n",
       "activemq-console/src/main/java/org/apache/activ...             1           0   \n",
       "...                                                          ...         ...   \n",
       "assembly/src/test/java/org/apache/activemq/benc...             2           1   \n",
       "assembly/src/test/java/org/apache/activemq/benc...             1           1   \n",
       "assembly/src/test/java/org/apache/activemq/benc...             2           2   \n",
       "assembly/src/test/java/org/apache/activemq/benc...             1           1   \n",
       "assembly/src/test/java/org/apache/activemq/conf...             1           1   \n",
       "\n",
       "                                                    RealBug  HeuBug  \\\n",
       "File                                                                  \n",
       "activemq-console/src/main/java/org/apache/activ...    False   False   \n",
       "activemq-console/src/main/java/org/apache/activ...    False   False   \n",
       "activemq-console/src/main/java/org/apache/activ...    False   False   \n",
       "activemq-console/src/main/java/org/apache/activ...    False   False   \n",
       "activemq-console/src/main/java/org/apache/activ...    False   False   \n",
       "...                                                     ...     ...   \n",
       "assembly/src/test/java/org/apache/activemq/benc...     True   False   \n",
       "assembly/src/test/java/org/apache/activemq/benc...    False   False   \n",
       "assembly/src/test/java/org/apache/activemq/benc...     True   False   \n",
       "assembly/src/test/java/org/apache/activemq/benc...    False   False   \n",
       "assembly/src/test/java/org/apache/activemq/conf...    False   False   \n",
       "\n",
       "                                                    HeuBugCount  RealBugCount  \n",
       "File                                                                           \n",
       "activemq-console/src/main/java/org/apache/activ...            0             0  \n",
       "activemq-console/src/main/java/org/apache/activ...            0             0  \n",
       "activemq-console/src/main/java/org/apache/activ...            0             0  \n",
       "activemq-console/src/main/java/org/apache/activ...            0             0  \n",
       "activemq-console/src/main/java/org/apache/activ...            0             0  \n",
       "...                                                         ...           ...  \n",
       "assembly/src/test/java/org/apache/activemq/benc...            0             1  \n",
       "assembly/src/test/java/org/apache/activemq/benc...            0             0  \n",
       "assembly/src/test/java/org/apache/activemq/benc...            0             1  \n",
       "assembly/src/test/java/org/apache/activemq/benc...            0             0  \n",
       "assembly/src/test/java/org/apache/activemq/conf...            0             0  \n",
       "\n",
       "[1884 rows x 69 columns]"
      ]
     },
     "execution_count": 23,
     "metadata": {},
     "output_type": "execute_result"
    }
   ],
   "source": [
    "sample_files = pd.read_csv('../tests/example-datasets/activemq-5.0.0.csv', index_col = 'File')\n",
    "sample_files"
   ]
  },
  {
   "cell_type": "markdown",
   "id": "crazy-adaptation",
   "metadata": {},
   "source": [
    "### 3.2 Slicing Data to Prepare X_test, y_test Before Making Predictions "
   ]
  },
  {
   "cell_type": "code",
   "execution_count": 24,
   "id": "approximate-change",
   "metadata": {},
   "outputs": [
    {
     "name": "stdout",
     "output_type": "stream",
     "text": [
      "data type of 'X_test' -  <class 'pandas.core.frame.DataFrame'> \n",
      "\n",
      "data type of 'y_test' -  <class 'pandas.core.series.Series'> \n",
      "\n",
      "-------------------- content of 'X_test' --------------------  \n",
      "\n",
      "                                                     CountDeclMethodPrivate  \\\n",
      "File                                                                         \n",
      "activemq-console/src/main/java/org/apache/activ...                       0   \n",
      "activemq-console/src/main/java/org/apache/activ...                       0   \n",
      "activemq-console/src/main/java/org/apache/activ...                       0   \n",
      "activemq-console/src/main/java/org/apache/activ...                       0   \n",
      "activemq-console/src/main/java/org/apache/activ...                       0   \n",
      "...                                                                    ...   \n",
      "assembly/src/test/java/org/apache/activemq/benc...                       0   \n",
      "assembly/src/test/java/org/apache/activemq/benc...                       0   \n",
      "assembly/src/test/java/org/apache/activemq/benc...                       0   \n",
      "assembly/src/test/java/org/apache/activemq/benc...                       0   \n",
      "assembly/src/test/java/org/apache/activemq/conf...                       0   \n",
      "\n",
      "                                                    AvgLineCode  CountLine  \\\n",
      "File                                                                         \n",
      "activemq-console/src/main/java/org/apache/activ...           10        171   \n",
      "activemq-console/src/main/java/org/apache/activ...            8        123   \n",
      "activemq-console/src/main/java/org/apache/activ...            7        136   \n",
      "activemq-console/src/main/java/org/apache/activ...           29        241   \n",
      "activemq-console/src/main/java/org/apache/activ...           24        212   \n",
      "...                                                         ...        ...   \n",
      "assembly/src/test/java/org/apache/activemq/benc...            5        215   \n",
      "assembly/src/test/java/org/apache/activemq/benc...            9        108   \n",
      "assembly/src/test/java/org/apache/activemq/benc...            9        180   \n",
      "assembly/src/test/java/org/apache/activemq/benc...            6         80   \n",
      "assembly/src/test/java/org/apache/activemq/conf...            9         64   \n",
      "\n",
      "                                                    MaxCyclomatic  \\\n",
      "File                                                                \n",
      "activemq-console/src/main/java/org/apache/activ...              5   \n",
      "activemq-console/src/main/java/org/apache/activ...              5   \n",
      "activemq-console/src/main/java/org/apache/activ...              5   \n",
      "activemq-console/src/main/java/org/apache/activ...             17   \n",
      "activemq-console/src/main/java/org/apache/activ...             17   \n",
      "...                                                           ...   \n",
      "assembly/src/test/java/org/apache/activemq/benc...              6   \n",
      "assembly/src/test/java/org/apache/activemq/benc...              7   \n",
      "assembly/src/test/java/org/apache/activemq/benc...              8   \n",
      "assembly/src/test/java/org/apache/activemq/benc...              7   \n",
      "assembly/src/test/java/org/apache/activemq/conf...              4   \n",
      "\n",
      "                                                    CountDeclMethodDefault  \\\n",
      "File                                                                         \n",
      "activemq-console/src/main/java/org/apache/activ...                       0   \n",
      "activemq-console/src/main/java/org/apache/activ...                       0   \n",
      "activemq-console/src/main/java/org/apache/activ...                       0   \n",
      "activemq-console/src/main/java/org/apache/activ...                       0   \n",
      "activemq-console/src/main/java/org/apache/activ...                       0   \n",
      "...                                                                    ...   \n",
      "assembly/src/test/java/org/apache/activemq/benc...                       0   \n",
      "assembly/src/test/java/org/apache/activemq/benc...                       0   \n",
      "assembly/src/test/java/org/apache/activemq/benc...                       0   \n",
      "assembly/src/test/java/org/apache/activemq/benc...                       0   \n",
      "assembly/src/test/java/org/apache/activemq/conf...                       0   \n",
      "\n",
      "                                                    AvgEssential  \\\n",
      "File                                                               \n",
      "activemq-console/src/main/java/org/apache/activ...             2   \n",
      "activemq-console/src/main/java/org/apache/activ...             1   \n",
      "activemq-console/src/main/java/org/apache/activ...             1   \n",
      "activemq-console/src/main/java/org/apache/activ...             4   \n",
      "activemq-console/src/main/java/org/apache/activ...             3   \n",
      "...                                                          ...   \n",
      "assembly/src/test/java/org/apache/activemq/benc...             1   \n",
      "assembly/src/test/java/org/apache/activemq/benc...             1   \n",
      "assembly/src/test/java/org/apache/activemq/benc...             1   \n",
      "assembly/src/test/java/org/apache/activemq/benc...             1   \n",
      "assembly/src/test/java/org/apache/activemq/conf...             1   \n",
      "\n",
      "                                                    CountDeclClassVariable  \\\n",
      "File                                                                         \n",
      "activemq-console/src/main/java/org/apache/activ...                       0   \n",
      "activemq-console/src/main/java/org/apache/activ...                       1   \n",
      "activemq-console/src/main/java/org/apache/activ...                       1   \n",
      "activemq-console/src/main/java/org/apache/activ...                       5   \n",
      "activemq-console/src/main/java/org/apache/activ...                       5   \n",
      "...                                                                    ...   \n",
      "assembly/src/test/java/org/apache/activemq/benc...                       0   \n",
      "assembly/src/test/java/org/apache/activemq/benc...                       0   \n",
      "assembly/src/test/java/org/apache/activemq/benc...                       0   \n",
      "assembly/src/test/java/org/apache/activemq/benc...                       0   \n",
      "assembly/src/test/java/org/apache/activemq/conf...                       0   \n",
      "\n",
      "                                                    SumCyclomaticStrict  \\\n",
      "File                                                                      \n",
      "activemq-console/src/main/java/org/apache/activ...                   18   \n",
      "activemq-console/src/main/java/org/apache/activ...                   15   \n",
      "activemq-console/src/main/java/org/apache/activ...                   16   \n",
      "activemq-console/src/main/java/org/apache/activ...                   29   \n",
      "activemq-console/src/main/java/org/apache/activ...                   26   \n",
      "...                                                                 ...   \n",
      "assembly/src/test/java/org/apache/activemq/benc...                   35   \n",
      "assembly/src/test/java/org/apache/activemq/benc...                   16   \n",
      "assembly/src/test/java/org/apache/activemq/benc...                   30   \n",
      "assembly/src/test/java/org/apache/activemq/benc...                   13   \n",
      "assembly/src/test/java/org/apache/activemq/conf...                    7   \n",
      "\n",
      "                                                    AvgCyclomatic  AvgLine  \\\n",
      "File                                                                         \n",
      "activemq-console/src/main/java/org/apache/activ...              2       18   \n",
      "activemq-console/src/main/java/org/apache/activ...              3       17   \n",
      "activemq-console/src/main/java/org/apache/activ...              2       13   \n",
      "activemq-console/src/main/java/org/apache/activ...              9       53   \n",
      "activemq-console/src/main/java/org/apache/activ...              8       44   \n",
      "...                                                           ...      ...   \n",
      "assembly/src/test/java/org/apache/activemq/benc...              1        5   \n",
      "assembly/src/test/java/org/apache/activemq/benc...              3       11   \n",
      "assembly/src/test/java/org/apache/activemq/benc...              2       10   \n",
      "assembly/src/test/java/org/apache/activemq/benc...              2        6   \n",
      "assembly/src/test/java/org/apache/activemq/conf...              2        9   \n",
      "\n",
      "                                                    ...  ADEV  DDEV  \\\n",
      "File                                                ...               \n",
      "activemq-console/src/main/java/org/apache/activ...  ...     1     1   \n",
      "activemq-console/src/main/java/org/apache/activ...  ...     2     2   \n",
      "activemq-console/src/main/java/org/apache/activ...  ...     1     1   \n",
      "activemq-console/src/main/java/org/apache/activ...  ...     1     1   \n",
      "activemq-console/src/main/java/org/apache/activ...  ...     1     1   \n",
      "...                                                 ...   ...   ...   \n",
      "assembly/src/test/java/org/apache/activemq/benc...  ...     3     2   \n",
      "assembly/src/test/java/org/apache/activemq/benc...  ...     2     1   \n",
      "assembly/src/test/java/org/apache/activemq/benc...  ...     3     2   \n",
      "assembly/src/test/java/org/apache/activemq/benc...  ...     2     1   \n",
      "assembly/src/test/java/org/apache/activemq/conf...  ...     2     1   \n",
      "\n",
      "                                                    Added_lines  Del_lines  \\\n",
      "File                                                                         \n",
      "activemq-console/src/main/java/org/apache/activ...           32         18   \n",
      "activemq-console/src/main/java/org/apache/activ...           30         28   \n",
      "activemq-console/src/main/java/org/apache/activ...            8          8   \n",
      "activemq-console/src/main/java/org/apache/activ...           76         76   \n",
      "activemq-console/src/main/java/org/apache/activ...           76         76   \n",
      "...                                                         ...        ...   \n",
      "assembly/src/test/java/org/apache/activemq/benc...           25         41   \n",
      "assembly/src/test/java/org/apache/activemq/benc...           12         16   \n",
      "assembly/src/test/java/org/apache/activemq/benc...           16         19   \n",
      "assembly/src/test/java/org/apache/activemq/benc...            5          8   \n",
      "assembly/src/test/java/org/apache/activemq/conf...            7         11   \n",
      "\n",
      "                                                    OWN_LINE  OWN_COMMIT  \\\n",
      "File                                                                       \n",
      "activemq-console/src/main/java/org/apache/activ...  1.000000    1.000000   \n",
      "activemq-console/src/main/java/org/apache/activ...  0.983740    0.500000   \n",
      "activemq-console/src/main/java/org/apache/activ...  1.000000    1.000000   \n",
      "activemq-console/src/main/java/org/apache/activ...  1.000000    1.000000   \n",
      "activemq-console/src/main/java/org/apache/activ...  1.000000    1.000000   \n",
      "...                                                      ...         ...   \n",
      "assembly/src/test/java/org/apache/activemq/benc...  0.846512    0.666667   \n",
      "assembly/src/test/java/org/apache/activemq/benc...  0.814815    1.000000   \n",
      "assembly/src/test/java/org/apache/activemq/benc...  0.866667    0.666667   \n",
      "assembly/src/test/java/org/apache/activemq/benc...  0.837500    1.000000   \n",
      "assembly/src/test/java/org/apache/activemq/conf...  0.750000    1.000000   \n",
      "\n",
      "                                                    MINOR_COMMIT  MINOR_LINE  \\\n",
      "File                                                                           \n",
      "activemq-console/src/main/java/org/apache/activ...             0           1   \n",
      "activemq-console/src/main/java/org/apache/activ...             0           1   \n",
      "activemq-console/src/main/java/org/apache/activ...             0           1   \n",
      "activemq-console/src/main/java/org/apache/activ...             0           1   \n",
      "activemq-console/src/main/java/org/apache/activ...             0           1   \n",
      "...                                                          ...         ...   \n",
      "assembly/src/test/java/org/apache/activemq/benc...             0           2   \n",
      "assembly/src/test/java/org/apache/activemq/benc...             0           2   \n",
      "assembly/src/test/java/org/apache/activemq/benc...             0           2   \n",
      "assembly/src/test/java/org/apache/activemq/benc...             0           2   \n",
      "assembly/src/test/java/org/apache/activemq/conf...             0           2   \n",
      "\n",
      "                                                    MAJOR_COMMIT  MAJOR_LINE  \n",
      "File                                                                          \n",
      "activemq-console/src/main/java/org/apache/activ...             1           0  \n",
      "activemq-console/src/main/java/org/apache/activ...             2           1  \n",
      "activemq-console/src/main/java/org/apache/activ...             1           0  \n",
      "activemq-console/src/main/java/org/apache/activ...             1           0  \n",
      "activemq-console/src/main/java/org/apache/activ...             1           0  \n",
      "...                                                          ...         ...  \n",
      "assembly/src/test/java/org/apache/activemq/benc...             2           1  \n",
      "assembly/src/test/java/org/apache/activemq/benc...             1           1  \n",
      "assembly/src/test/java/org/apache/activemq/benc...             2           2  \n",
      "assembly/src/test/java/org/apache/activemq/benc...             1           1  \n",
      "assembly/src/test/java/org/apache/activemq/conf...             1           1  \n",
      "\n",
      "[1884 rows x 65 columns] \n",
      "\n",
      "-------------------- content of 'y_test' --------------------  \n",
      "\n",
      " File\n",
      "activemq-console/src/main/java/org/apache/activemq/console/command/AbstractAmqCommand.java    False\n",
      "activemq-console/src/main/java/org/apache/activemq/console/command/AbstractCommand.java       False\n",
      "activemq-console/src/main/java/org/apache/activemq/console/command/AbstractJmxCommand.java    False\n",
      "activemq-console/src/main/java/org/apache/activemq/console/command/AmqBrowseCommand.java      False\n",
      "activemq-console/src/main/java/org/apache/activemq/console/command/BrowseCommand.java         False\n",
      "                                                                                              ...  \n",
      "assembly/src/test/java/org/apache/activemq/benchmark/BenchmarkSupport.java                     True\n",
      "assembly/src/test/java/org/apache/activemq/benchmark/Consumer.java                            False\n",
      "assembly/src/test/java/org/apache/activemq/benchmark/Producer.java                             True\n",
      "assembly/src/test/java/org/apache/activemq/benchmark/ProducerConsumer.java                    False\n",
      "assembly/src/test/java/org/apache/activemq/config/BrokerXmlConfigTest.java                    False\n",
      "Name: RealBug, Length: 1884, dtype: bool\n"
     ]
    }
   ],
   "source": [
    "X_test = sample_files.loc[:, indep]\n",
    "y_test = sample_files.loc[:, dep]\n",
    "\n",
    "print(\"data type of 'X_test' - \", type(X_test), \"\\n\")\n",
    "print(\"data type of 'y_test' - \", type(y_test), \"\\n\")\n",
    "print(\"--------------------\", \"content of 'X_test' -------------------- \", \"\\n\\n\", X_test, \"\\n\")\n",
    "print(\"--------------------\", \"content of 'y_test' -------------------- \", \"\\n\\n\", y_test)"
   ]
  },
  {
   "cell_type": "markdown",
   "id": "occasional-miami",
   "metadata": {},
   "source": [
    "### 3.3 Choose One File to be Explained\n",
    "##### each row of X_test, y_test represents the information of one file."
   ]
  },
  {
   "cell_type": "code",
   "execution_count": 25,
   "id": "geographic-europe",
   "metadata": {},
   "outputs": [
    {
     "data": {
      "text/html": [
       "<div>\n",
       "<style scoped>\n",
       "    .dataframe tbody tr th:only-of-type {\n",
       "        vertical-align: middle;\n",
       "    }\n",
       "\n",
       "    .dataframe tbody tr th {\n",
       "        vertical-align: top;\n",
       "    }\n",
       "\n",
       "    .dataframe thead th {\n",
       "        text-align: right;\n",
       "    }\n",
       "</style>\n",
       "<table border=\"1\" class=\"dataframe\">\n",
       "  <thead>\n",
       "    <tr style=\"text-align: right;\">\n",
       "      <th></th>\n",
       "      <th>CountDeclMethodPrivate</th>\n",
       "      <th>AvgLineCode</th>\n",
       "      <th>CountLine</th>\n",
       "      <th>MaxCyclomatic</th>\n",
       "      <th>CountDeclMethodDefault</th>\n",
       "      <th>AvgEssential</th>\n",
       "      <th>CountDeclClassVariable</th>\n",
       "      <th>SumCyclomaticStrict</th>\n",
       "      <th>AvgCyclomatic</th>\n",
       "      <th>AvgLine</th>\n",
       "      <th>...</th>\n",
       "      <th>ADEV</th>\n",
       "      <th>DDEV</th>\n",
       "      <th>Added_lines</th>\n",
       "      <th>Del_lines</th>\n",
       "      <th>OWN_LINE</th>\n",
       "      <th>OWN_COMMIT</th>\n",
       "      <th>MINOR_COMMIT</th>\n",
       "      <th>MINOR_LINE</th>\n",
       "      <th>MAJOR_COMMIT</th>\n",
       "      <th>MAJOR_LINE</th>\n",
       "    </tr>\n",
       "    <tr>\n",
       "      <th>File</th>\n",
       "      <th></th>\n",
       "      <th></th>\n",
       "      <th></th>\n",
       "      <th></th>\n",
       "      <th></th>\n",
       "      <th></th>\n",
       "      <th></th>\n",
       "      <th></th>\n",
       "      <th></th>\n",
       "      <th></th>\n",
       "      <th></th>\n",
       "      <th></th>\n",
       "      <th></th>\n",
       "      <th></th>\n",
       "      <th></th>\n",
       "      <th></th>\n",
       "      <th></th>\n",
       "      <th></th>\n",
       "      <th></th>\n",
       "      <th></th>\n",
       "      <th></th>\n",
       "    </tr>\n",
       "  </thead>\n",
       "  <tbody>\n",
       "    <tr>\n",
       "      <th>activemq-console/src/main/java/org/apache/activemq/console/command/AbstractJmxCommand.java</th>\n",
       "      <td>0</td>\n",
       "      <td>7</td>\n",
       "      <td>136</td>\n",
       "      <td>5</td>\n",
       "      <td>0</td>\n",
       "      <td>1</td>\n",
       "      <td>1</td>\n",
       "      <td>16</td>\n",
       "      <td>2</td>\n",
       "      <td>13</td>\n",
       "      <td>...</td>\n",
       "      <td>1</td>\n",
       "      <td>1</td>\n",
       "      <td>8</td>\n",
       "      <td>8</td>\n",
       "      <td>1.0</td>\n",
       "      <td>1.0</td>\n",
       "      <td>0</td>\n",
       "      <td>1</td>\n",
       "      <td>1</td>\n",
       "      <td>0</td>\n",
       "    </tr>\n",
       "  </tbody>\n",
       "</table>\n",
       "<p>1 rows × 65 columns</p>\n",
       "</div>"
      ],
      "text/plain": [
       "                                                    CountDeclMethodPrivate  \\\n",
       "File                                                                         \n",
       "activemq-console/src/main/java/org/apache/activ...                       0   \n",
       "\n",
       "                                                    AvgLineCode  CountLine  \\\n",
       "File                                                                         \n",
       "activemq-console/src/main/java/org/apache/activ...            7        136   \n",
       "\n",
       "                                                    MaxCyclomatic  \\\n",
       "File                                                                \n",
       "activemq-console/src/main/java/org/apache/activ...              5   \n",
       "\n",
       "                                                    CountDeclMethodDefault  \\\n",
       "File                                                                         \n",
       "activemq-console/src/main/java/org/apache/activ...                       0   \n",
       "\n",
       "                                                    AvgEssential  \\\n",
       "File                                                               \n",
       "activemq-console/src/main/java/org/apache/activ...             1   \n",
       "\n",
       "                                                    CountDeclClassVariable  \\\n",
       "File                                                                         \n",
       "activemq-console/src/main/java/org/apache/activ...                       1   \n",
       "\n",
       "                                                    SumCyclomaticStrict  \\\n",
       "File                                                                      \n",
       "activemq-console/src/main/java/org/apache/activ...                   16   \n",
       "\n",
       "                                                    AvgCyclomatic  AvgLine  \\\n",
       "File                                                                         \n",
       "activemq-console/src/main/java/org/apache/activ...              2       13   \n",
       "\n",
       "                                                    ...  ADEV  DDEV  \\\n",
       "File                                                ...               \n",
       "activemq-console/src/main/java/org/apache/activ...  ...     1     1   \n",
       "\n",
       "                                                    Added_lines  Del_lines  \\\n",
       "File                                                                         \n",
       "activemq-console/src/main/java/org/apache/activ...            8          8   \n",
       "\n",
       "                                                    OWN_LINE  OWN_COMMIT  \\\n",
       "File                                                                       \n",
       "activemq-console/src/main/java/org/apache/activ...       1.0         1.0   \n",
       "\n",
       "                                                    MINOR_COMMIT  MINOR_LINE  \\\n",
       "File                                                                           \n",
       "activemq-console/src/main/java/org/apache/activ...             0           1   \n",
       "\n",
       "                                                    MAJOR_COMMIT  MAJOR_LINE  \n",
       "File                                                                          \n",
       "activemq-console/src/main/java/org/apache/activ...             1           0  \n",
       "\n",
       "[1 rows x 65 columns]"
      ]
     },
     "execution_count": 25,
     "metadata": {},
     "output_type": "execute_result"
    }
   ],
   "source": [
    "# in this case > index can be 0 ~ 1883, use len(X_test) to check the index range\n",
    "explain_index = 2\n",
    "X_explain = X_test.iloc[[explain_index]]\n",
    "X_explain"
   ]
  },
  {
   "cell_type": "code",
   "execution_count": 26,
   "id": "insured-puzzle",
   "metadata": {},
   "outputs": [
    {
     "data": {
      "text/plain": [
       "File\n",
       "activemq-console/src/main/java/org/apache/activemq/console/command/AbstractJmxCommand.java    False\n",
       "Name: RealBug, dtype: bool"
      ]
     },
     "execution_count": 26,
     "metadata": {},
     "output_type": "execute_result"
    }
   ],
   "source": [
    "y_explain = y_test.iloc[[explain_index]]\n",
    "y_explain"
   ]
  },
  {
   "cell_type": "markdown",
   "id": "appropriate-meaning",
   "metadata": {},
   "source": [
    "### 🔧3.4 Create a Rule Object Manually \n",
    "#### 📝Note. Rule Object is the core concept of pyExplainer ! \n",
    "#### 📝Note. Create a Rule Object manually is not recommended because it takes too much time since it contains pretty much computing process regarding ML."
   ]
  },
  {
   "cell_type": "code",
   "execution_count": 27,
   "id": "awful-blank",
   "metadata": {},
   "outputs": [
    {
     "ename": "KeyboardInterrupt",
     "evalue": "",
     "output_type": "error",
     "traceback": [
      "\u001b[0;31m---------------------------------------------------------------------------\u001b[0m",
      "\u001b[0;31mKeyboardInterrupt\u001b[0m                         Traceback (most recent call last)",
      "\u001b[0;32m<timed exec>\u001b[0m in \u001b[0;36m<module>\u001b[0;34m\u001b[0m\n",
      "\u001b[0;32m~/GitHub/pyExplainer/pyexplainer/pyexplainer_pyexplainer.py\u001b[0m in \u001b[0;36mexplain\u001b[0;34m(self, X_explain, y_explain, top_k, max_rules, max_iter, cv, search_function, debug)\u001b[0m\n\u001b[1;32m    683\u001b[0m                                       n_jobs=-1)\n\u001b[1;32m    684\u001b[0m \u001b[0;34m\u001b[0m\u001b[0m\n\u001b[0;32m--> 685\u001b[0;31m         local_rulefit_model.fit(\n\u001b[0m\u001b[1;32m    686\u001b[0m             synthetic_instances.loc[:, self.indep].values, synthetic_predictions, feature_names=self.indep)\n\u001b[1;32m    687\u001b[0m         \u001b[0;32mif\u001b[0m \u001b[0mdebug\u001b[0m\u001b[0;34m:\u001b[0m\u001b[0;34m\u001b[0m\u001b[0;34m\u001b[0m\u001b[0m\n",
      "\u001b[0;32m~/GitHub/pyExplainer/pyexplainer/rulefit.py\u001b[0m in \u001b[0;36mfit\u001b[0;34m(self, X, y, feature_names)\u001b[0m\n\u001b[1;32m    482\u001b[0m                 \u001b[0mtol\u001b[0m\u001b[0;34m=\u001b[0m\u001b[0mself\u001b[0m\u001b[0;34m.\u001b[0m\u001b[0mtol\u001b[0m\u001b[0;34m,\u001b[0m \u001b[0mn_jobs\u001b[0m\u001b[0;34m=\u001b[0m\u001b[0mself\u001b[0m\u001b[0;34m.\u001b[0m\u001b[0mn_jobs\u001b[0m\u001b[0;34m,\u001b[0m\u001b[0;34m\u001b[0m\u001b[0;34m\u001b[0m\u001b[0m\n\u001b[1;32m    483\u001b[0m                 random_state=self.random_state, solver='liblinear')\n\u001b[0;32m--> 484\u001b[0;31m             \u001b[0mself\u001b[0m\u001b[0;34m.\u001b[0m\u001b[0mlscv\u001b[0m\u001b[0;34m.\u001b[0m\u001b[0mfit\u001b[0m\u001b[0;34m(\u001b[0m\u001b[0mX_concat\u001b[0m\u001b[0;34m,\u001b[0m \u001b[0my\u001b[0m\u001b[0;34m)\u001b[0m\u001b[0;34m\u001b[0m\u001b[0;34m\u001b[0m\u001b[0m\n\u001b[0m\u001b[1;32m    485\u001b[0m             \u001b[0mself\u001b[0m\u001b[0;34m.\u001b[0m\u001b[0mcoef_\u001b[0m\u001b[0;34m=\u001b[0m\u001b[0mself\u001b[0m\u001b[0;34m.\u001b[0m\u001b[0mlscv\u001b[0m\u001b[0;34m.\u001b[0m\u001b[0mcoef_\u001b[0m\u001b[0;34m[\u001b[0m\u001b[0;36m0\u001b[0m\u001b[0;34m]\u001b[0m\u001b[0;34m\u001b[0m\u001b[0;34m\u001b[0m\u001b[0m\n\u001b[1;32m    486\u001b[0m             \u001b[0mself\u001b[0m\u001b[0;34m.\u001b[0m\u001b[0mintercept_\u001b[0m\u001b[0;34m=\u001b[0m\u001b[0mself\u001b[0m\u001b[0;34m.\u001b[0m\u001b[0mlscv\u001b[0m\u001b[0;34m.\u001b[0m\u001b[0mintercept_\u001b[0m\u001b[0;34m[\u001b[0m\u001b[0;36m0\u001b[0m\u001b[0;34m]\u001b[0m\u001b[0;34m\u001b[0m\u001b[0;34m\u001b[0m\u001b[0m\n",
      "\u001b[0;32m~/opt/anaconda3/lib/python3.8/site-packages/sklearn/linear_model/_logistic.py\u001b[0m in \u001b[0;36mfit\u001b[0;34m(self, X, y, sample_weight)\u001b[0m\n\u001b[1;32m   1885\u001b[0m             \u001b[0mprefer\u001b[0m \u001b[0;34m=\u001b[0m \u001b[0;34m'processes'\u001b[0m\u001b[0;34m\u001b[0m\u001b[0;34m\u001b[0m\u001b[0m\n\u001b[1;32m   1886\u001b[0m \u001b[0;34m\u001b[0m\u001b[0m\n\u001b[0;32m-> 1887\u001b[0;31m         fold_coefs_ = Parallel(n_jobs=self.n_jobs, verbose=self.verbose,\n\u001b[0m\u001b[1;32m   1888\u001b[0m                                \u001b[0;34m**\u001b[0m\u001b[0m_joblib_parallel_args\u001b[0m\u001b[0;34m(\u001b[0m\u001b[0mprefer\u001b[0m\u001b[0;34m=\u001b[0m\u001b[0mprefer\u001b[0m\u001b[0;34m)\u001b[0m\u001b[0;34m)\u001b[0m\u001b[0;34m(\u001b[0m\u001b[0;34m\u001b[0m\u001b[0;34m\u001b[0m\u001b[0m\n\u001b[1;32m   1889\u001b[0m             path_func(X, y, train, test, pos_class=label, Cs=self.Cs,\n",
      "\u001b[0;32m~/opt/anaconda3/lib/python3.8/site-packages/joblib/parallel.py\u001b[0m in \u001b[0;36m__call__\u001b[0;34m(self, iterable)\u001b[0m\n\u001b[1;32m   1052\u001b[0m \u001b[0;34m\u001b[0m\u001b[0m\n\u001b[1;32m   1053\u001b[0m             \u001b[0;32mwith\u001b[0m \u001b[0mself\u001b[0m\u001b[0;34m.\u001b[0m\u001b[0m_backend\u001b[0m\u001b[0;34m.\u001b[0m\u001b[0mretrieval_context\u001b[0m\u001b[0;34m(\u001b[0m\u001b[0;34m)\u001b[0m\u001b[0;34m:\u001b[0m\u001b[0;34m\u001b[0m\u001b[0;34m\u001b[0m\u001b[0m\n\u001b[0;32m-> 1054\u001b[0;31m                 \u001b[0mself\u001b[0m\u001b[0;34m.\u001b[0m\u001b[0mretrieve\u001b[0m\u001b[0;34m(\u001b[0m\u001b[0;34m)\u001b[0m\u001b[0;34m\u001b[0m\u001b[0;34m\u001b[0m\u001b[0m\n\u001b[0m\u001b[1;32m   1055\u001b[0m             \u001b[0;31m# Make sure that we get a last message telling us we are done\u001b[0m\u001b[0;34m\u001b[0m\u001b[0;34m\u001b[0m\u001b[0;34m\u001b[0m\u001b[0m\n\u001b[1;32m   1056\u001b[0m             \u001b[0melapsed_time\u001b[0m \u001b[0;34m=\u001b[0m \u001b[0mtime\u001b[0m\u001b[0;34m.\u001b[0m\u001b[0mtime\u001b[0m\u001b[0;34m(\u001b[0m\u001b[0;34m)\u001b[0m \u001b[0;34m-\u001b[0m \u001b[0mself\u001b[0m\u001b[0;34m.\u001b[0m\u001b[0m_start_time\u001b[0m\u001b[0;34m\u001b[0m\u001b[0;34m\u001b[0m\u001b[0m\n",
      "\u001b[0;32m~/opt/anaconda3/lib/python3.8/site-packages/joblib/parallel.py\u001b[0m in \u001b[0;36mretrieve\u001b[0;34m(self)\u001b[0m\n\u001b[1;32m    931\u001b[0m             \u001b[0;32mtry\u001b[0m\u001b[0;34m:\u001b[0m\u001b[0;34m\u001b[0m\u001b[0;34m\u001b[0m\u001b[0m\n\u001b[1;32m    932\u001b[0m                 \u001b[0;32mif\u001b[0m \u001b[0mgetattr\u001b[0m\u001b[0;34m(\u001b[0m\u001b[0mself\u001b[0m\u001b[0;34m.\u001b[0m\u001b[0m_backend\u001b[0m\u001b[0;34m,\u001b[0m \u001b[0;34m'supports_timeout'\u001b[0m\u001b[0;34m,\u001b[0m \u001b[0;32mFalse\u001b[0m\u001b[0;34m)\u001b[0m\u001b[0;34m:\u001b[0m\u001b[0;34m\u001b[0m\u001b[0;34m\u001b[0m\u001b[0m\n\u001b[0;32m--> 933\u001b[0;31m                     \u001b[0mself\u001b[0m\u001b[0;34m.\u001b[0m\u001b[0m_output\u001b[0m\u001b[0;34m.\u001b[0m\u001b[0mextend\u001b[0m\u001b[0;34m(\u001b[0m\u001b[0mjob\u001b[0m\u001b[0;34m.\u001b[0m\u001b[0mget\u001b[0m\u001b[0;34m(\u001b[0m\u001b[0mtimeout\u001b[0m\u001b[0;34m=\u001b[0m\u001b[0mself\u001b[0m\u001b[0;34m.\u001b[0m\u001b[0mtimeout\u001b[0m\u001b[0;34m)\u001b[0m\u001b[0;34m)\u001b[0m\u001b[0;34m\u001b[0m\u001b[0;34m\u001b[0m\u001b[0m\n\u001b[0m\u001b[1;32m    934\u001b[0m                 \u001b[0;32melse\u001b[0m\u001b[0;34m:\u001b[0m\u001b[0;34m\u001b[0m\u001b[0;34m\u001b[0m\u001b[0m\n\u001b[1;32m    935\u001b[0m                     \u001b[0mself\u001b[0m\u001b[0;34m.\u001b[0m\u001b[0m_output\u001b[0m\u001b[0;34m.\u001b[0m\u001b[0mextend\u001b[0m\u001b[0;34m(\u001b[0m\u001b[0mjob\u001b[0m\u001b[0;34m.\u001b[0m\u001b[0mget\u001b[0m\u001b[0;34m(\u001b[0m\u001b[0;34m)\u001b[0m\u001b[0;34m)\u001b[0m\u001b[0;34m\u001b[0m\u001b[0;34m\u001b[0m\u001b[0m\n",
      "\u001b[0;32m~/opt/anaconda3/lib/python3.8/site-packages/joblib/_parallel_backends.py\u001b[0m in \u001b[0;36mwrap_future_result\u001b[0;34m(future, timeout)\u001b[0m\n\u001b[1;32m    540\u001b[0m         AsyncResults.get from multiprocessing.\"\"\"\n\u001b[1;32m    541\u001b[0m         \u001b[0;32mtry\u001b[0m\u001b[0;34m:\u001b[0m\u001b[0;34m\u001b[0m\u001b[0;34m\u001b[0m\u001b[0m\n\u001b[0;32m--> 542\u001b[0;31m             \u001b[0;32mreturn\u001b[0m \u001b[0mfuture\u001b[0m\u001b[0;34m.\u001b[0m\u001b[0mresult\u001b[0m\u001b[0;34m(\u001b[0m\u001b[0mtimeout\u001b[0m\u001b[0;34m=\u001b[0m\u001b[0mtimeout\u001b[0m\u001b[0;34m)\u001b[0m\u001b[0;34m\u001b[0m\u001b[0;34m\u001b[0m\u001b[0m\n\u001b[0m\u001b[1;32m    543\u001b[0m         \u001b[0;32mexcept\u001b[0m \u001b[0mCfTimeoutError\u001b[0m \u001b[0;32mas\u001b[0m \u001b[0me\u001b[0m\u001b[0;34m:\u001b[0m\u001b[0;34m\u001b[0m\u001b[0;34m\u001b[0m\u001b[0m\n\u001b[1;32m    544\u001b[0m             \u001b[0;32mraise\u001b[0m \u001b[0mTimeoutError\u001b[0m \u001b[0;32mfrom\u001b[0m \u001b[0me\u001b[0m\u001b[0;34m\u001b[0m\u001b[0;34m\u001b[0m\u001b[0m\n",
      "\u001b[0;32m~/opt/anaconda3/lib/python3.8/concurrent/futures/_base.py\u001b[0m in \u001b[0;36mresult\u001b[0;34m(self, timeout)\u001b[0m\n\u001b[1;32m    432\u001b[0m                 \u001b[0;32mreturn\u001b[0m \u001b[0mself\u001b[0m\u001b[0;34m.\u001b[0m\u001b[0m__get_result\u001b[0m\u001b[0;34m(\u001b[0m\u001b[0;34m)\u001b[0m\u001b[0;34m\u001b[0m\u001b[0;34m\u001b[0m\u001b[0m\n\u001b[1;32m    433\u001b[0m \u001b[0;34m\u001b[0m\u001b[0m\n\u001b[0;32m--> 434\u001b[0;31m             \u001b[0mself\u001b[0m\u001b[0;34m.\u001b[0m\u001b[0m_condition\u001b[0m\u001b[0;34m.\u001b[0m\u001b[0mwait\u001b[0m\u001b[0;34m(\u001b[0m\u001b[0mtimeout\u001b[0m\u001b[0;34m)\u001b[0m\u001b[0;34m\u001b[0m\u001b[0;34m\u001b[0m\u001b[0m\n\u001b[0m\u001b[1;32m    435\u001b[0m \u001b[0;34m\u001b[0m\u001b[0m\n\u001b[1;32m    436\u001b[0m             \u001b[0;32mif\u001b[0m \u001b[0mself\u001b[0m\u001b[0;34m.\u001b[0m\u001b[0m_state\u001b[0m \u001b[0;32min\u001b[0m \u001b[0;34m[\u001b[0m\u001b[0mCANCELLED\u001b[0m\u001b[0;34m,\u001b[0m \u001b[0mCANCELLED_AND_NOTIFIED\u001b[0m\u001b[0;34m]\u001b[0m\u001b[0;34m:\u001b[0m\u001b[0;34m\u001b[0m\u001b[0;34m\u001b[0m\u001b[0m\n",
      "\u001b[0;32m~/opt/anaconda3/lib/python3.8/threading.py\u001b[0m in \u001b[0;36mwait\u001b[0;34m(self, timeout)\u001b[0m\n\u001b[1;32m    300\u001b[0m         \u001b[0;32mtry\u001b[0m\u001b[0;34m:\u001b[0m    \u001b[0;31m# restore state no matter what (e.g., KeyboardInterrupt)\u001b[0m\u001b[0;34m\u001b[0m\u001b[0;34m\u001b[0m\u001b[0m\n\u001b[1;32m    301\u001b[0m             \u001b[0;32mif\u001b[0m \u001b[0mtimeout\u001b[0m \u001b[0;32mis\u001b[0m \u001b[0;32mNone\u001b[0m\u001b[0;34m:\u001b[0m\u001b[0;34m\u001b[0m\u001b[0;34m\u001b[0m\u001b[0m\n\u001b[0;32m--> 302\u001b[0;31m                 \u001b[0mwaiter\u001b[0m\u001b[0;34m.\u001b[0m\u001b[0macquire\u001b[0m\u001b[0;34m(\u001b[0m\u001b[0;34m)\u001b[0m\u001b[0;34m\u001b[0m\u001b[0;34m\u001b[0m\u001b[0m\n\u001b[0m\u001b[1;32m    303\u001b[0m                 \u001b[0mgotit\u001b[0m \u001b[0;34m=\u001b[0m \u001b[0;32mTrue\u001b[0m\u001b[0;34m\u001b[0m\u001b[0;34m\u001b[0m\u001b[0m\n\u001b[1;32m    304\u001b[0m             \u001b[0;32melse\u001b[0m\u001b[0;34m:\u001b[0m\u001b[0;34m\u001b[0m\u001b[0;34m\u001b[0m\u001b[0m\n",
      "\u001b[0;31mKeyboardInterrupt\u001b[0m: "
     ]
    }
   ],
   "source": [
    "%%time\n",
    "# Create Rule Object\n",
    "create_pyExp_rule_obj = pyExp.explain(X_explain,\n",
    "                           y_explain,\n",
    "                           search_function = 'crossoverinterpolation',\n",
    "                           top_k = 3, \n",
    "                           max_rules=30, \n",
    "                           max_iter =5, \n",
    "                           cv=5,\n",
    "                           debug = False)"
   ]
  },
  {
   "cell_type": "markdown",
   "id": "executed-limitation",
   "metadata": {},
   "source": [
    "### ⏳ 3.5 Alternatively, we can directly load a Rule Object if we already have it "
   ]
  },
  {
   "cell_type": "markdown",
   "id": "billion-essay",
   "metadata": {},
   "source": [
    "#### 3.5.1 Create Reading and Writing Functions"
   ]
  },
  {
   "cell_type": "code",
   "execution_count": 28,
   "id": "hollow-karaoke",
   "metadata": {},
   "outputs": [],
   "source": [
    "import pickle\n",
    "import os.path\n",
    "\n",
    "# Util functions for reading and writing data\n",
    "def save_object(object_i, filename):\n",
    "    with open(filename, 'wb') as file:\n",
    "        pickle.dump(object_i, file)\n",
    "\n",
    "def load_object(filename):\n",
    "    with open(filename, 'rb') as file:\n",
    "        object_o = pickle.load(file)\n",
    "    return (object_o)"
   ]
  },
  {
   "cell_type": "markdown",
   "id": "dated-hamilton",
   "metadata": {},
   "source": [
    "#### 3.5.2 Load Sample Rule Object - we use pyExplainer_obj.pyobject file as an example"
   ]
  },
  {
   "cell_type": "code",
   "execution_count": 29,
   "id": "automatic-cabin",
   "metadata": {},
   "outputs": [],
   "source": [
    "# load rule obj\n",
    "if os.path.isfile('../tests/pyExplainer_obj.pyobject'):\n",
    "    load_pyExp_rule_obj = load_object('../tests/pyExplainer_obj.pyobject')"
   ]
  },
  {
   "cell_type": "markdown",
   "id": "architectural-broad",
   "metadata": {},
   "source": [
    "## 👩🏽‍🎨 4. Pass Rule Object to .visualise(rule_obj) to Generate the Bullet Chart and Interactive Slider\n",
    "#### 📝Note. simply move the gray slider to modify the value so you can get a new risk score."
   ]
  },
  {
   "cell_type": "markdown",
   "id": "returning-vertical",
   "metadata": {},
   "source": [
    "#### 🔧 Visualise the Rule Object we created manually using .explain(...) method"
   ]
  },
  {
   "cell_type": "code",
   "execution_count": null,
   "id": "cheap-minister",
   "metadata": {},
   "outputs": [],
   "source": [
    "pyExp.visualise(create_pyExp_rule_obj)"
   ]
  },
  {
   "cell_type": "markdown",
   "id": "australian-cotton",
   "metadata": {},
   "source": [
    "#### ⏳ Visualise the Rule Object we loaded from pyExplainer_obj.pyobject file"
   ]
  },
  {
   "cell_type": "code",
   "execution_count": 30,
   "id": "thousand-principle",
   "metadata": {},
   "outputs": [
    {
     "name": "stdout",
     "output_type": "stream",
     "text": [
      "Min 2 Max 987 threshold 97.83 Actual 10 Plot_min 2.0 Plot_max 196.0\n",
      "Min 1 Max 4 threshold 1.55 Actual 1 Plot_min 1.0 Plot_max 2.0\n",
      "Min 1 Max 23 threshold 5.5 Actual 1 Plot_min 1 Plot_max 8.0\n"
     ]
    },
    {
     "data": {
      "application/vnd.jupyter.widget-view+json": {
       "model_id": "6a67c7e8de0042baa23fad821e339dad",
       "version_major": 2,
       "version_minor": 0
      },
      "text/plain": [
       "HBox(children=(Label(value='Risk Score: '), FloatProgress(value=0.0, bar_style='info', layout=Layout(width='40…"
      ]
     },
     "metadata": {},
     "output_type": "display_data"
    },
    {
     "data": {
      "application/vnd.jupyter.widget-view+json": {
       "model_id": "a9634c463978484b8d0aab4caa66eecc",
       "version_major": 2,
       "version_minor": 0
      },
      "text/plain": [
       "FloatSlider(value=10.0, continuous_update=False, description='#1 Increase the values of CountStmt to more than…"
      ]
     },
     "metadata": {},
     "output_type": "display_data"
    },
    {
     "data": {
      "application/vnd.jupyter.widget-view+json": {
       "model_id": "38bb7b90b16940a9a771fde7b307e93f",
       "version_major": 2,
       "version_minor": 0
      },
      "text/plain": [
       "FloatSlider(value=1.0, continuous_update=False, description='#2 Decrease the values of MAJOR_COMMIT to less th…"
      ]
     },
     "metadata": {},
     "output_type": "display_data"
    },
    {
     "data": {
      "application/vnd.jupyter.widget-view+json": {
       "model_id": "23973cbd212f497abc79190e5079331d",
       "version_major": 2,
       "version_minor": 0
      },
      "text/plain": [
       "FloatSlider(value=1.0, continuous_update=False, description='#3 Decrease the values of COMM to less than 1', l…"
      ]
     },
     "metadata": {},
     "output_type": "display_data"
    },
    {
     "data": {
      "application/vnd.jupyter.widget-view+json": {
       "model_id": "68b40f1324d54cbb8a4da3a7631b81f9",
       "version_major": 2,
       "version_minor": 0
      },
      "text/plain": [
       "Output(layout=Layout(border='3px solid black'))"
      ]
     },
     "metadata": {},
     "output_type": "display_data"
    }
   ],
   "source": [
    "pyExp.visualise(load_pyExp_rule_obj)"
   ]
  },
  {
   "cell_type": "markdown",
   "id": "varying-concentrate",
   "metadata": {},
   "source": [
    "## 🕵🏻 What's in the Rule Object (pyExp_rule_obj) ?  Let's unbox it ! 📦"
   ]
  },
  {
   "cell_type": "markdown",
   "id": "published-conversation",
   "metadata": {},
   "source": [
    "### 1. Basic Data Check"
   ]
  },
  {
   "cell_type": "code",
   "execution_count": 34,
   "id": "upper-attachment",
   "metadata": {},
   "outputs": [
    {
     "name": "stdout",
     "output_type": "stream",
     "text": [
      "Type of Rule Object:  <class 'dict'>\n",
      "\n",
      "All of the keys in Rule Object\n",
      "Key  1  -  synthetic_data\n",
      "Key  2  -  synthetic_predictions\n",
      "Key  3  -  X_explain\n",
      "Key  4  -  y_explain\n",
      "Key  5  -  indep\n",
      "Key  6  -  dep\n",
      "Key  7  -  top_k_positive_rules\n",
      "Key  8  -  top_k_negative_rules\n"
     ]
    }
   ],
   "source": [
    "print(\"Type of Rule Object: \", type(load_pyExp_rule_obj))\n",
    "print()\n",
    "print(\"All of the keys in Rule Object\")\n",
    "i = 1\n",
    "for k in load_pyExp_rule_obj.keys():\n",
    "    print(\"Key \", i, \" - \",k)\n",
    "    i += 1"
   ]
  },
  {
   "cell_type": "markdown",
   "id": "recognized-domestic",
   "metadata": {},
   "source": [
    "### 🔑 Key 1 - synthetic_data\n",
    "#### As can be seen below, the synthetic data are data coming from feature columns\n",
    "#### This synthetic data was generated internally by the PyExplainer when the .explain(...) method is triggered\n",
    "#### Currently we have 2 approaches to generate synthetic_data\n",
    "#### Approach (1) Crossover and Interpolation\n",
    "#### Approach (2) Random Pertubation\n",
    "#### After the process of C&I. or RP., synthetic_data will be generated as a DataFrame below"
   ]
  },
  {
   "cell_type": "code",
   "execution_count": 35,
   "id": "genuine-heater",
   "metadata": {},
   "outputs": [
    {
     "name": "stdout",
     "output_type": "stream",
     "text": [
      "Type of pyExp_rule_obj['synthetic_data'] -  <class 'pandas.core.frame.DataFrame'> \n",
      "\n",
      "Example \n",
      "\n",
      "    CountDeclMethodPrivate  AvgLineCode  CountLine  MaxCyclomatic  \\\n",
      "0                     0.0          9.0      157.0            5.0   \n",
      "1                     0.0          9.0       78.0            2.0   \n",
      "\n",
      "   CountDeclMethodDefault  AvgEssential  CountDeclClassVariable  \\\n",
      "0                     0.0           1.0                     1.0   \n",
      "1                     0.0           1.0                     0.0   \n",
      "\n",
      "   SumCyclomaticStrict  AvgCyclomatic  AvgLine  ...  DDEV  Added_lines  \\\n",
      "0                 13.0            2.0     21.0  ...   1.0         35.0   \n",
      "1                  6.0            2.0     18.0  ...   2.0         18.0   \n",
      "\n",
      "   Del_lines  OWN_LINE  OWN_COMMIT  MINOR_COMMIT  MINOR_LINE  MAJOR_COMMIT  \\\n",
      "0       27.0       1.0         1.0           0.0         1.0           1.0   \n",
      "1       12.0       1.0         0.5           0.0         1.0           2.0   \n",
      "\n",
      "   MAJOR_LINE  RealBug  \n",
      "0         0.0    False  \n",
      "1         0.0    False  \n",
      "\n",
      "[2 rows x 66 columns]\n"
     ]
    }
   ],
   "source": [
    "print(\"Type of pyExp_rule_obj['synthetic_data'] - \", type(load_pyExp_rule_obj['synthetic_data']), \"\\n\")\n",
    "print(\"Example\", \"\\n\\n\", load_pyExp_rule_obj['synthetic_data'].head(2))"
   ]
  },
  {
   "cell_type": "markdown",
   "id": "surrounded-underground",
   "metadata": {},
   "source": [
    "### 🔑 Key 2 - synthetic_predictions\n",
    "#### As can be seen below, the synthetic prediction are data coming from the prediction column\n",
    "#### This synthetic prediction was generated internally by the PyExplainer when the .explain(...) method is triggered\n",
    "#### This synthetic prediction is created based on the black box model we passed to the PyExplainer when initialising (section 1.5 & 2.3)\n",
    "#### This synthetic prediction is generated based on the synthetic data above therefore it's called synthetic_predictions\n",
    "#### >>> e.g. synthetic_predictions = blackbox_model.predict(synthetic_data)  Note. we only need feature cols in synthetic_data"
   ]
  },
  {
   "cell_type": "code",
   "execution_count": 36,
   "id": "greatest-burton",
   "metadata": {},
   "outputs": [
    {
     "name": "stdout",
     "output_type": "stream",
     "text": [
      "Type of pyExp_rule_obj['synthetic_predictions'] -  <class 'numpy.ndarray'> \n",
      "\n",
      "Example \n",
      "\n",
      " [False False  True ... False False  True]\n"
     ]
    }
   ],
   "source": [
    "print(\"Type of pyExp_rule_obj['synthetic_predictions'] - \", type(load_pyExp_rule_obj['synthetic_predictions']), \"\\n\")\n",
    "print(\"Example\", \"\\n\\n\", load_pyExp_rule_obj['synthetic_predictions'])"
   ]
  },
  {
   "cell_type": "markdown",
   "id": "wired-router",
   "metadata": {},
   "source": [
    "### 🔑 Key 3 - X_explain\n",
    "#### This X_explain is exactly the same as the one we passed to .explain(...) method (section 3.3 & section 3.4)"
   ]
  },
  {
   "cell_type": "code",
   "execution_count": 37,
   "id": "linear-basin",
   "metadata": {},
   "outputs": [
    {
     "name": "stdout",
     "output_type": "stream",
     "text": [
      "Type of pyExp_rule_obj['X_explain'] -  <class 'pandas.core.frame.DataFrame'> \n",
      "\n",
      "Example \n",
      "\n",
      "                                                     CountDeclMethodPrivate  \\\n",
      "File                                                                         \n",
      "activemq-camel-loadtest/src/test/java/org/apach...                       0   \n",
      "\n",
      "                                                    AvgLineCode  CountLine  \\\n",
      "File                                                                         \n",
      "activemq-camel-loadtest/src/test/java/org/apach...            3         36   \n",
      "\n",
      "                                                    MaxCyclomatic  \\\n",
      "File                                                                \n",
      "activemq-camel-loadtest/src/test/java/org/apach...              1   \n",
      "\n",
      "                                                    CountDeclMethodDefault  \\\n",
      "File                                                                         \n",
      "activemq-camel-loadtest/src/test/java/org/apach...                       0   \n",
      "\n",
      "                                                    AvgEssential  \\\n",
      "File                                                               \n",
      "activemq-camel-loadtest/src/test/java/org/apach...             1   \n",
      "\n",
      "                                                    CountDeclClassVariable  \\\n",
      "File                                                                         \n",
      "activemq-camel-loadtest/src/test/java/org/apach...                       0   \n",
      "\n",
      "                                                    SumCyclomaticStrict  \\\n",
      "File                                                                      \n",
      "activemq-camel-loadtest/src/test/java/org/apach...                    1   \n",
      "\n",
      "                                                    AvgCyclomatic  AvgLine  \\\n",
      "File                                                                         \n",
      "activemq-camel-loadtest/src/test/java/org/apach...              1        3   \n",
      "\n",
      "                                                    ...  ADEV  DDEV  \\\n",
      "File                                                ...               \n",
      "activemq-camel-loadtest/src/test/java/org/apach...  ...     1     1   \n",
      "\n",
      "                                                    Added_lines  Del_lines  \\\n",
      "File                                                                         \n",
      "activemq-camel-loadtest/src/test/java/org/apach...           37          0   \n",
      "\n",
      "                                                    OWN_LINE  OWN_COMMIT  \\\n",
      "File                                                                       \n",
      "activemq-camel-loadtest/src/test/java/org/apach...       1.0         1.0   \n",
      "\n",
      "                                                    MINOR_COMMIT  MINOR_LINE  \\\n",
      "File                                                                           \n",
      "activemq-camel-loadtest/src/test/java/org/apach...             0           1   \n",
      "\n",
      "                                                    MAJOR_COMMIT  MAJOR_LINE  \n",
      "File                                                                          \n",
      "activemq-camel-loadtest/src/test/java/org/apach...             1           0  \n",
      "\n",
      "[1 rows x 65 columns]\n"
     ]
    }
   ],
   "source": [
    "print(\"Type of pyExp_rule_obj['X_explain'] - \", type(load_pyExp_rule_obj['X_explain']), \"\\n\")\n",
    "print(\"Example\", \"\\n\\n\", load_pyExp_rule_obj['X_explain'])"
   ]
  },
  {
   "cell_type": "markdown",
   "id": "potential-morrison",
   "metadata": {},
   "source": [
    "### 🔑 Key 4 - y_explain\n",
    "#### This y_explain is exactly the same as the one we passed to .explain(...) method (section 3.3 & section 3.4)"
   ]
  },
  {
   "cell_type": "code",
   "execution_count": 38,
   "id": "cloudy-baker",
   "metadata": {},
   "outputs": [
    {
     "name": "stdout",
     "output_type": "stream",
     "text": [
      "Type of pyExp_rule_obj['y_explain'] -  <class 'pandas.core.series.Series'> \n",
      "\n",
      "Example \n",
      "\n",
      " File\n",
      "activemq-camel-loadtest/src/test/java/org/apache/activemq/soaktest/LoadTest.java    False\n",
      "Name: RealBug, dtype: bool\n"
     ]
    }
   ],
   "source": [
    "print(\"Type of pyExp_rule_obj['y_explain'] - \", type(load_pyExp_rule_obj['y_explain']), \"\\n\")\n",
    "print(\"Example\", \"\\n\\n\", load_pyExp_rule_obj['y_explain'])"
   ]
  },
  {
   "cell_type": "markdown",
   "id": "going-school",
   "metadata": {},
   "source": [
    "### 🔑 Key 5 - indep\n",
    "#### Names of the Selected Feature Cols"
   ]
  },
  {
   "cell_type": "code",
   "execution_count": 39,
   "id": "conservative-machine",
   "metadata": {},
   "outputs": [
    {
     "name": "stdout",
     "output_type": "stream",
     "text": [
      "Type of pyExp_rule_obj['indep'] -  <class 'pandas.core.indexes.base.Index'> \n",
      "\n",
      "Example \n",
      "\n",
      " Index(['CountDeclMethodPrivate', 'AvgLineCode', 'CountLine', 'MaxCyclomatic',\n",
      "       'CountDeclMethodDefault', 'AvgEssential', 'CountDeclClassVariable',\n",
      "       'SumCyclomaticStrict', 'AvgCyclomatic', 'AvgLine',\n",
      "       'CountDeclClassMethod', 'AvgLineComment', 'AvgCyclomaticModified',\n",
      "       'CountDeclFunction', 'CountLineComment', 'CountDeclClass',\n",
      "       'CountDeclMethod', 'SumCyclomaticModified', 'CountLineCodeDecl',\n",
      "       'CountDeclMethodProtected', 'CountDeclInstanceVariable',\n",
      "       'MaxCyclomaticStrict', 'CountDeclMethodPublic', 'CountLineCodeExe',\n",
      "       'SumCyclomatic', 'SumEssential', 'CountStmtDecl', 'CountLineCode',\n",
      "       'CountStmtExe', 'RatioCommentToCode', 'CountLineBlank', 'CountStmt',\n",
      "       'MaxCyclomaticModified', 'CountSemicolon', 'AvgLineBlank',\n",
      "       'CountDeclInstanceMethod', 'AvgCyclomaticStrict',\n",
      "       'PercentLackOfCohesion', 'MaxInheritanceTree', 'CountClassDerived',\n",
      "       'CountClassCoupled', 'CountClassBase', 'CountInput_Max',\n",
      "       'CountInput_Mean', 'CountInput_Min', 'CountOutput_Max',\n",
      "       'CountOutput_Mean', 'CountOutput_Min', 'CountPath_Max',\n",
      "       'CountPath_Mean', 'CountPath_Min', 'MaxNesting_Max', 'MaxNesting_Mean',\n",
      "       'MaxNesting_Min', 'COMM', 'ADEV', 'DDEV', 'Added_lines', 'Del_lines',\n",
      "       'OWN_LINE', 'OWN_COMMIT', 'MINOR_COMMIT', 'MINOR_LINE', 'MAJOR_COMMIT',\n",
      "       'MAJOR_LINE'],\n",
      "      dtype='object')\n"
     ]
    }
   ],
   "source": [
    "print(\"Type of pyExp_rule_obj['indep'] - \", type(load_pyExp_rule_obj['indep']), \"\\n\")\n",
    "print(\"Example\", \"\\n\\n\", load_pyExp_rule_obj['indep'])"
   ]
  },
  {
   "cell_type": "markdown",
   "id": "agreed-composition",
   "metadata": {},
   "source": [
    "### 🔑 Key 6 - dep\n",
    "#### Names of the Label Col (Prediction Col)"
   ]
  },
  {
   "cell_type": "code",
   "execution_count": 40,
   "id": "blessed-horizontal",
   "metadata": {},
   "outputs": [
    {
     "name": "stdout",
     "output_type": "stream",
     "text": [
      "Type of pyExp_rule_obj['dep'] -  <class 'str'> \n",
      "\n",
      "Example \n",
      "\n",
      " RealBug\n"
     ]
    }
   ],
   "source": [
    "print(\"Type of pyExp_rule_obj['dep'] - \", type(load_pyExp_rule_obj['dep']), \"\\n\")\n",
    "print(\"Example\", \"\\n\\n\", load_pyExp_rule_obj['dep'])"
   ]
  },
  {
   "cell_type": "markdown",
   "id": "efficient-commitment",
   "metadata": {},
   "source": [
    "### 🔑 Key 7 - top_k_positive_rules\n",
    "#### This shows the top k positive rules generated by the RuleFit model inside the .explain(...) function\n",
    "#### The value of 'top_k' can be tuned in when we create a Rule Object manually (section 3.4), the default value is 3"
   ]
  },
  {
   "cell_type": "code",
   "execution_count": 41,
   "id": "dried-punishment",
   "metadata": {},
   "outputs": [
    {
     "name": "stdout",
     "output_type": "stream",
     "text": [
      "Type of pyExp_rule_obj['top_k_positive_rules'] -  <class 'pandas.core.frame.DataFrame'> \n",
      "\n",
      "Example \n",
      "\n",
      "                                                  rule  type      coef  \\\n",
      "92  MaxNesting_Mean > 0.1850000023841858 & CountDe...  rule  1.898139   \n",
      "69  CountLineCodeDecl <= 46.209999084472656 & SumC...  rule  1.352392   \n",
      "87  SumCyclomaticModified > 24.84500026702881 & DD...  rule  0.471191   \n",
      "\n",
      "     support  importance   Class  \n",
      "92  0.101828    0.574038  Defect  \n",
      "69  0.028721    0.225877  Defect  \n",
      "87  0.130548    0.158747  Defect  \n"
     ]
    }
   ],
   "source": [
    "print(\"Type of pyExp_rule_obj['top_k_positive_rules'] - \", type(load_pyExp_rule_obj['top_k_positive_rules']), \"\\n\")\n",
    "print(\"Example\", \"\\n\\n\", load_pyExp_rule_obj['top_k_positive_rules'])"
   ]
  },
  {
   "cell_type": "markdown",
   "id": "perceived-catalog",
   "metadata": {},
   "source": [
    "### 🔑 Key 8 - top_k_negative_rules\n",
    "#### This shows the top k negative rules generated by the RuleFit model inside the .explain(...) function\n",
    "#### The value of 'top_k' can be tuned in when we create a Rule Object manually (section 3.4), the default value is 3\n",
    "#### However, in the current version, the top_k value is always the same for both negative and positive rules which can be improved in the future version"
   ]
  },
  {
   "cell_type": "code",
   "execution_count": 42,
   "id": "circular-reduction",
   "metadata": {},
   "outputs": [
    {
     "name": "stdout",
     "output_type": "stream",
     "text": [
      "Type of pyExp_rule_obj['top_k_negative_rules'] -  <class 'pandas.core.frame.DataFrame'> \n",
      "\n",
      "Example \n",
      "\n",
      "                                                  rule  type      coef  \\\n",
      "85  CountStmt > 97.83000183105469 & MAJOR_COMMIT <...  rule -7.757467   \n",
      "81       COMM <= 5.5 & CountStmt <= 97.83000183105469  rule -2.193372   \n",
      "79  SumCyclomatic <= 31.5 & CountLineCodeDecl <= 4...  rule -1.491272   \n",
      "\n",
      "     support  importance  Class  \n",
      "85  0.049608    1.684413  Clean  \n",
      "81  0.796345    0.883305  Clean  \n",
      "79  0.817232    0.576341  Clean  \n"
     ]
    }
   ],
   "source": [
    "print(\"Type of pyExp_rule_obj['top_k_negative_rules'] - \", type(load_pyExp_rule_obj['top_k_negative_rules']), \"\\n\")\n",
    "print(\"Example\", \"\\n\\n\", load_pyExp_rule_obj['top_k_negative_rules'])"
   ]
  },
  {
   "cell_type": "markdown",
   "id": "infectious-calgary",
   "metadata": {},
   "source": [
    "# 🤡 Important - Bug Report Channel 🤡\n",
    "#### 📧 Please email your report to michaelfu1998@gmail.com\n",
    "#### ✈️ More report channels will be opened soon\n",
    "\n",
    "# "
   ]
  },
  {
   "cell_type": "markdown",
   "id": "married-malpractice",
   "metadata": {},
   "source": [
    "# <center> 🙏Thanks for playing around with PyExplainer, I really appreciate your time! 🙏 </center>\n",
    "#### <center> 🔥 More Features will be Released Soon 🔥 </center>"
   ]
  }
 ],
 "metadata": {
  "kernelspec": {
   "display_name": "Python 3",
   "language": "python",
   "name": "python3"
  },
  "language_info": {
   "codemirror_mode": {
    "name": "ipython",
    "version": 3
   },
   "file_extension": ".py",
   "mimetype": "text/x-python",
   "name": "python",
   "nbconvert_exporter": "python",
   "pygments_lexer": "ipython3",
   "version": "3.8.8"
  }
 },
 "nbformat": 4,
 "nbformat_minor": 5
}
