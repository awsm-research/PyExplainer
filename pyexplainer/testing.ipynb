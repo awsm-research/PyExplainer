{
 "cells": [
  {
   "cell_type": "code",
   "execution_count": 2,
   "id": "adult-correction",
   "metadata": {},
   "outputs": [
    {
     "data": {
      "application/vnd.jupyter.widget-view+json": {
       "model_id": "41e0792a83294c50ad96b1b6516bbb30",
       "version_major": 2,
       "version_minor": 0
      },
      "text/plain": [
       "HBox(children=(Label(value='Risk Score: '), FloatProgress(value=0.0, bar_style='info', layout=Layout(width='40…"
      ]
     },
     "metadata": {},
     "output_type": "display_data"
    },
    {
     "data": {
      "application/vnd.jupyter.widget-view+json": {
       "model_id": "e8aa0ccc185d4506a3bd4a4c22154e00",
       "version_major": 2,
       "version_minor": 0
      },
      "text/plain": [
       "FloatSlider(value=520.0, continuous_update=False, description='#1 Decrease the number of class and method decl…"
      ]
     },
     "metadata": {},
     "output_type": "display_data"
    },
    {
     "data": {
      "application/vnd.jupyter.widget-view+json": {
       "model_id": "43a05806f62e4c79a00b2d75bd74d165",
       "version_major": 2,
       "version_minor": 0
      },
      "text/plain": [
       "FloatSlider(value=3.2, continuous_update=False, description='#2 Decrease the number of distinct developers to …"
      ]
     },
     "metadata": {},
     "output_type": "display_data"
    },
    {
     "data": {
      "application/vnd.jupyter.widget-view+json": {
       "model_id": "56a2b54518254db8b9d4c941013859b2",
       "version_major": 2,
       "version_minor": 0
      },
      "text/plain": [
       "Output(layout=Layout(border='3px solid black'))"
      ]
     },
     "metadata": {},
     "output_type": "display_data"
    }
   ],
   "source": [
    "from pyexplainer_explainer import Explainer\n",
    "from time import sleep\n",
    "\n",
    "bullet_data = [\n",
    "        {\n",
    "          \"title\":\n",
    "            \"#1 Decrease the number of class and method declaration lines to less than 500 lines\",\n",
    "          \"subtitle\": \"Actual = 520 lines\",\n",
    "          \"ticks\": [400, 600],\n",
    "          \"startPoints\": [0, 50*760/200, 130*760/200],\n",
    "          \"widths\": [380, 380, 70*760/200],\n",
    "          \"colors\": [\"#00FF00\", \"#FA8128\", \"#00FF00\"],\n",
    "          \"markers\": [520],\n",
    "          \"step\": [1]\n",
    "        },\n",
    "        {\n",
    "          \"title\": \"#2 Decrease the number of distinct developers to less than 2 developers\",\n",
    "          \"subtitle\": \"Actual = 3.2 developers\",\n",
    "          \"ticks\": [0.0, 5.0],\n",
    "          \"startPoints\": [0.0, 304],\n",
    "          \"widths\": [304, 456],\n",
    "          \"colors\": [\"#00FF00\", \"#FA8128\"],\n",
    "          \"markers\": [3.2],\n",
    "          \"step\": [1]\n",
    "        }      \n",
    "      ]\n",
    "\n",
    "risk_data = [{\"riskScore\": [\"12%\"],\n",
    "            \"riskPred\": [\"No\"],\n",
    "            }]\n",
    "\n",
    "ex = Explainer(risk_data=risk_data, bullet_data=bullet_data)\n",
    "ex.show_visualisation()"
   ]
  },
  {
   "cell_type": "markdown",
   "id": "dated-worst",
   "metadata": {},
   "source": [
    "# Build a blackbox model (RF) and a pyExplainer object"
   ]
  },
  {
   "cell_type": "code",
   "execution_count": 2,
   "id": "authorized-speaking",
   "metadata": {},
   "outputs": [],
   "source": [
    "from sklearn.ensemble import RandomForestClassifier\n",
    "import pandas as pd\n",
    "from pyexplainer_model import pyExplainer\n",
    "import pickle\n",
    "import os.path"
   ]
  },
  {
   "cell_type": "code",
   "execution_count": 3,
   "id": "trained-tonight",
   "metadata": {},
   "outputs": [],
   "source": [
    "# Util functions\n",
    "def save_object(object_i, filename):\n",
    "    with open(filename, 'wb') as file:\n",
    "        pickle.dump(object_i, file)\n",
    "\n",
    "def load_object(filename):\n",
    "    with open(filename, 'rb') as file:\n",
    "        object_o = pickle.load(file)\n",
    "    return (object_o)"
   ]
  },
  {
   "cell_type": "code",
   "execution_count": 4,
   "id": "referenced-collapse",
   "metadata": {},
   "outputs": [],
   "source": [
    "# Load an example dataset and construct an example blackbox model\n",
    "Data = pd.read_csv('../tests/example-datasets/activemq-5.0.0.csv', index_col = 'File')\n",
    "dep = Data.columns[-4]\n",
    "indep = Data.columns[0:(len(Data.columns) - 4)]\n",
    "\n",
    "X_train = Data.loc[:, indep]\n",
    "y_train = Data.loc[:, dep]\n",
    "\n",
    "# Build an example blackbox RF model\n",
    "blackbox_model = RandomForestClassifier(max_depth=3, random_state=0)\n",
    "blackbox_model.fit(X_train, y_train)\n",
    "\n",
    "class_label = ['Clean', 'Defect']"
   ]
  },
  {
   "cell_type": "code",
   "execution_count": 5,
   "id": "gross-shirt",
   "metadata": {},
   "outputs": [],
   "source": [
    "# Create a pyExplainer object\n",
    "pyExp = pyExplainer(X_train,\n",
    "            y_train,\n",
    "            indep,\n",
    "            dep,\n",
    "            class_label,\n",
    "            blackbox_model = blackbox_model\n",
    "            )"
   ]
  },
  {
   "cell_type": "markdown",
   "id": "overhead-footwear",
   "metadata": {},
   "source": [
    "# Load testing data to get an example instance to explain"
   ]
  },
  {
   "cell_type": "code",
   "execution_count": 6,
   "id": "limiting-mississippi",
   "metadata": {},
   "outputs": [],
   "source": [
    "# Prepare an example instance to explain\n",
    "Data_2 = pd.read_csv('../tests/example-datasets/activemq-5.0.0.csv', index_col = 'File')\n",
    "\n",
    "X_test = Data_2.loc[:, indep]\n",
    "y_test = Data_2.loc[:, dep]\n",
    "\n",
    "explain_index = 0\n",
    "\n",
    "X_explain = X_test.iloc[[explain_index]]\n",
    "y_explain = y_test.iloc[[explain_index]]"
   ]
  },
  {
   "cell_type": "code",
   "execution_count": 7,
   "id": "enormous-procedure",
   "metadata": {},
   "outputs": [],
   "source": [
    "if os.path.isfile('../tests/pyExplainer_obj.pyobject'):\n",
    "    pyExp_rule_obj = load_object('../tests/pyExplainer_obj.pyobject')\n",
    "else:\n",
    "    # This can take a long time to execute\n",
    "    pyExp_rule_obj = pyExp.explain(X_explain,\n",
    "                                           y_explain,\n",
    "                                           search_function = 'crossoverinterpolation',\n",
    "                                           top_k = 3, \n",
    "                                           max_rules=30, \n",
    "                                           max_iter =5, \n",
    "                                           cv=5,\n",
    "                                           debug = False)"
   ]
  },
  {
   "cell_type": "code",
   "execution_count": 8,
   "id": "upper-attachment",
   "metadata": {},
   "outputs": [
    {
     "data": {
      "text/html": [
       "<div>\n",
       "<style scoped>\n",
       "    .dataframe tbody tr th:only-of-type {\n",
       "        vertical-align: middle;\n",
       "    }\n",
       "\n",
       "    .dataframe tbody tr th {\n",
       "        vertical-align: top;\n",
       "    }\n",
       "\n",
       "    .dataframe thead th {\n",
       "        text-align: right;\n",
       "    }\n",
       "</style>\n",
       "<table border=\"1\" class=\"dataframe\">\n",
       "  <thead>\n",
       "    <tr style=\"text-align: right;\">\n",
       "      <th></th>\n",
       "      <th>rule</th>\n",
       "      <th>type</th>\n",
       "      <th>coef</th>\n",
       "      <th>support</th>\n",
       "      <th>importance</th>\n",
       "      <th>Class</th>\n",
       "    </tr>\n",
       "  </thead>\n",
       "  <tbody>\n",
       "    <tr>\n",
       "      <th>92</th>\n",
       "      <td>MaxNesting_Mean &gt; 0.1850000023841858 &amp; CountDe...</td>\n",
       "      <td>rule</td>\n",
       "      <td>1.898139</td>\n",
       "      <td>0.101828</td>\n",
       "      <td>0.574038</td>\n",
       "      <td>Defect</td>\n",
       "    </tr>\n",
       "    <tr>\n",
       "      <th>69</th>\n",
       "      <td>CountLineCodeDecl &lt;= 46.209999084472656 &amp; SumC...</td>\n",
       "      <td>rule</td>\n",
       "      <td>1.352392</td>\n",
       "      <td>0.028721</td>\n",
       "      <td>0.225877</td>\n",
       "      <td>Defect</td>\n",
       "    </tr>\n",
       "    <tr>\n",
       "      <th>87</th>\n",
       "      <td>SumCyclomaticModified &gt; 24.84500026702881 &amp; DD...</td>\n",
       "      <td>rule</td>\n",
       "      <td>0.471191</td>\n",
       "      <td>0.130548</td>\n",
       "      <td>0.158747</td>\n",
       "      <td>Defect</td>\n",
       "    </tr>\n",
       "  </tbody>\n",
       "</table>\n",
       "</div>"
      ],
      "text/plain": [
       "                                                 rule  type      coef  \\\n",
       "92  MaxNesting_Mean > 0.1850000023841858 & CountDe...  rule  1.898139   \n",
       "69  CountLineCodeDecl <= 46.209999084472656 & SumC...  rule  1.352392   \n",
       "87  SumCyclomaticModified > 24.84500026702881 & DD...  rule  0.471191   \n",
       "\n",
       "     support  importance   Class  \n",
       "92  0.101828    0.574038  Defect  \n",
       "69  0.028721    0.225877  Defect  \n",
       "87  0.130548    0.158747  Defect  "
      ]
     },
     "execution_count": 8,
     "metadata": {},
     "output_type": "execute_result"
    }
   ],
   "source": [
    "# Show top-k positive (Defect) rules\n",
    "pyExp_rule_obj['top_k_positive_rules']"
   ]
  },
  {
   "cell_type": "code",
   "execution_count": 9,
   "id": "external-extraction",
   "metadata": {},
   "outputs": [
    {
     "data": {
      "text/html": [
       "<div>\n",
       "<style scoped>\n",
       "    .dataframe tbody tr th:only-of-type {\n",
       "        vertical-align: middle;\n",
       "    }\n",
       "\n",
       "    .dataframe tbody tr th {\n",
       "        vertical-align: top;\n",
       "    }\n",
       "\n",
       "    .dataframe thead th {\n",
       "        text-align: right;\n",
       "    }\n",
       "</style>\n",
       "<table border=\"1\" class=\"dataframe\">\n",
       "  <thead>\n",
       "    <tr style=\"text-align: right;\">\n",
       "      <th></th>\n",
       "      <th>rule</th>\n",
       "      <th>type</th>\n",
       "      <th>coef</th>\n",
       "      <th>support</th>\n",
       "      <th>importance</th>\n",
       "      <th>Class</th>\n",
       "    </tr>\n",
       "  </thead>\n",
       "  <tbody>\n",
       "    <tr>\n",
       "      <th>85</th>\n",
       "      <td>CountStmt &gt; 97.83000183105469 &amp; MAJOR_COMMIT &lt;...</td>\n",
       "      <td>rule</td>\n",
       "      <td>-7.757467</td>\n",
       "      <td>0.049608</td>\n",
       "      <td>1.684413</td>\n",
       "      <td>Clean</td>\n",
       "    </tr>\n",
       "    <tr>\n",
       "      <th>81</th>\n",
       "      <td>COMM &lt;= 5.5 &amp; CountStmt &lt;= 97.83000183105469</td>\n",
       "      <td>rule</td>\n",
       "      <td>-2.193372</td>\n",
       "      <td>0.796345</td>\n",
       "      <td>0.883305</td>\n",
       "      <td>Clean</td>\n",
       "    </tr>\n",
       "    <tr>\n",
       "      <th>79</th>\n",
       "      <td>SumCyclomatic &lt;= 31.5 &amp; CountLineCodeDecl &lt;= 4...</td>\n",
       "      <td>rule</td>\n",
       "      <td>-1.491272</td>\n",
       "      <td>0.817232</td>\n",
       "      <td>0.576341</td>\n",
       "      <td>Clean</td>\n",
       "    </tr>\n",
       "  </tbody>\n",
       "</table>\n",
       "</div>"
      ],
      "text/plain": [
       "                                                 rule  type      coef  \\\n",
       "85  CountStmt > 97.83000183105469 & MAJOR_COMMIT <...  rule -7.757467   \n",
       "81       COMM <= 5.5 & CountStmt <= 97.83000183105469  rule -2.193372   \n",
       "79  SumCyclomatic <= 31.5 & CountLineCodeDecl <= 4...  rule -1.491272   \n",
       "\n",
       "     support  importance  Class  \n",
       "85  0.049608    1.684413  Clean  \n",
       "81  0.796345    0.883305  Clean  \n",
       "79  0.817232    0.576341  Clean  "
      ]
     },
     "execution_count": 9,
     "metadata": {},
     "output_type": "execute_result"
    }
   ],
   "source": [
    "# Show top-k negative (Clean) rules\n",
    "pyExp_rule_obj['top_k_negative_rules']"
   ]
  },
  {
   "cell_type": "code",
   "execution_count": 10,
   "id": "otherwise-bubble",
   "metadata": {},
   "outputs": [
    {
     "data": {
      "text/plain": [
       "{'top_tofollow_rules': [{'variable': 'CountStmt',\n",
       "   'lessthan': False,\n",
       "   'value': '97.83000183105469'},\n",
       "  {'variable': 'MAJOR_COMMIT',\n",
       "   'lessthan': True,\n",
       "   'value': '1.5450000166893005'},\n",
       "  {'variable': 'COMM', 'lessthan': True, 'value': '5.5'}],\n",
       " 'top_toavoid_rules': [{'variable': 'MaxNesting_Mean',\n",
       "   'lessthan': False,\n",
       "   'value': '0.1850000023841858'},\n",
       "  {'variable': 'CountDeclFunction',\n",
       "   'lessthan': False,\n",
       "   'value': '17.800000190734863'},\n",
       "  {'variable': 'CountLineCodeDecl',\n",
       "   'lessthan': True,\n",
       "   'value': '46.209999084472656'}]}"
      ]
     },
     "execution_count": 10,
     "metadata": {},
     "output_type": "execute_result"
    }
   ],
   "source": [
    "# Parse rules for visualisation\n",
    "parsed_rules_obj = pyExp.parse_top_rules(\n",
    "    pyExp_rule_obj['top_k_positive_rules'], \n",
    "    pyExp_rule_obj['top_k_negative_rules'])\n",
    "parsed_rules_obj"
   ]
  },
  {
   "cell_type": "code",
   "execution_count": 21,
   "id": "aboriginal-acceptance",
   "metadata": {},
   "outputs": [
    {
     "name": "stdout",
     "output_type": "stream",
     "text": [
      "Min 2 Max 987 threshold 97.83 Actual 63 Plot_min 2.0 Plot_max 196.0\n",
      "Min 1 Max 4 threshold 1.55 Actual 1 Plot_min 1.0 Plot_max 2.0\n",
      "Min 1 Max 23 threshold 5.5 Actual 1 Plot_min 3.0 Plot_max 8.0\n"
     ]
    },
    {
     "data": {
      "text/plain": [
       "[{'title': '#1 Increase the values of CountStmt to more than 63',\n",
       "  'subtitle': 'Actual = 63',\n",
       "  'ticks': [2.0, 196.0],\n",
       "  'step': [1],\n",
       "  'startPoints': [0, 375.0],\n",
       "  'widths': [375.0, 385.0],\n",
       "  'colors': ['#d7191c', '#a6d96a'],\n",
       "  'markers': [63],\n",
       "  'tickFormat': [2.0, 196.0]},\n",
       " {'title': '#2 Decrease the values of MAJOR_COMMIT to less than 1',\n",
       "  'subtitle': 'Actual = 1',\n",
       "  'ticks': [1.0, 2.0],\n",
       "  'step': [1],\n",
       "  'startPoints': [0, 418.0],\n",
       "  'widths': [418.0, 342.0],\n",
       "  'colors': ['#a6d96a', '#d7191c'],\n",
       "  'markers': [1],\n",
       "  'tickFormat': [1.0, 2.0]},\n",
       " {'title': '#3 Decrease the values of COMM to less than 1',\n",
       "  'subtitle': 'Actual = 1',\n",
       "  'ticks': [3.0, 8.0],\n",
       "  'step': [1],\n",
       "  'startPoints': [0, 380.0],\n",
       "  'widths': [380.0, 380.0],\n",
       "  'colors': ['#a6d96a', '#d7191c'],\n",
       "  'markers': [1],\n",
       "  'tickFormat': [3.0, 8.0]}]"
      ]
     },
     "execution_count": 21,
     "metadata": {},
     "output_type": "execute_result"
    }
   ],
   "source": [
    "# Generate bullet and risk data\n",
    "bullet_data = pyExp.get_bullet_data(parsed_rules_obj, X_explain)\n",
    "bullet_data"
   ]
  },
  {
   "cell_type": "code",
   "execution_count": 22,
   "id": "distributed-reynolds",
   "metadata": {},
   "outputs": [
    {
     "ename": "SyntaxError",
     "evalue": "invalid syntax (<ipython-input-22-ac806acd6c4b>, line 1)",
     "output_type": "error",
     "traceback": [
      "\u001b[0;36m  File \u001b[0;32m\"<ipython-input-22-ac806acd6c4b>\"\u001b[0;36m, line \u001b[0;32m1\u001b[0m\n\u001b[0;31m    \"title\":\u001b[0m\n\u001b[0m            ^\u001b[0m\n\u001b[0;31mSyntaxError\u001b[0m\u001b[0;31m:\u001b[0m invalid syntax\n"
     ]
    }
   ],
   "source": [
    "# Ref bullet data\n",
    "#           \"title\":\n",
    "#             \"#1 Decrease the number of class and method declaration lines to less than 500 lines\",\n",
    "#           \"subtitle\": \"Actual = 520 lines\",\n",
    "#           \"ticks\": [400.0, 600.0],\n",
    "#           \"startPoints\": [0, 50*760/200, 130*760/200],\n",
    "#           \"widths\": [380, 380, 70*760/200],\n",
    "#           \"colors\": [\"#00FF00\", \"#FA8128\", \"#00FF00\"],\n",
    "#           \"markers\": [520],\n",
    "#           \"step\": [1]"
   ]
  },
  {
   "cell_type": "code",
   "execution_count": 23,
   "id": "cosmetic-journalism",
   "metadata": {},
   "outputs": [
    {
     "data": {
      "text/plain": [
       "[{'riskScore': ['8%'], 'riskPred': ['Clean']}]"
      ]
     },
     "execution_count": 23,
     "metadata": {},
     "output_type": "execute_result"
    }
   ],
   "source": [
    "# Generate risk data\n",
    "risk_data = pyExp.get_risk_data(X_explain)\n",
    "risk_data"
   ]
  },
  {
   "cell_type": "code",
   "execution_count": 24,
   "id": "duplicate-kitchen",
   "metadata": {},
   "outputs": [
    {
     "data": {
      "application/vnd.jupyter.widget-view+json": {
       "model_id": "fac5f97f386a41cbb64a0f1d6fe0b206",
       "version_major": 2,
       "version_minor": 0
      },
      "text/plain": [
       "HBox(children=(Label(value='Risk Score: '), FloatProgress(value=0.0, bar_style='info', layout=Layout(width='40…"
      ]
     },
     "metadata": {},
     "output_type": "display_data"
    },
    {
     "ename": "KeyError",
     "evalue": "'#3'",
     "output_type": "error",
     "traceback": [
      "\u001b[0;31m---------------------------------------------------------------------------\u001b[0m",
      "\u001b[0;31mKeyError\u001b[0m                                  Traceback (most recent call last)",
      "\u001b[0;32m<ipython-input-24-61e18bf9396f>\u001b[0m in \u001b[0;36m<module>\u001b[0;34m\u001b[0m\n\u001b[1;32m      1\u001b[0m \u001b[0mex\u001b[0m \u001b[0;34m=\u001b[0m \u001b[0mExplainer\u001b[0m\u001b[0;34m(\u001b[0m\u001b[0mrisk_data\u001b[0m\u001b[0;34m=\u001b[0m\u001b[0mrisk_data\u001b[0m\u001b[0;34m,\u001b[0m \u001b[0mbullet_data\u001b[0m\u001b[0;34m=\u001b[0m\u001b[0mbullet_data\u001b[0m\u001b[0;34m)\u001b[0m\u001b[0;34m\u001b[0m\u001b[0;34m\u001b[0m\u001b[0m\n\u001b[0;32m----> 2\u001b[0;31m \u001b[0mex\u001b[0m\u001b[0;34m.\u001b[0m\u001b[0mshow_visualisation\u001b[0m\u001b[0;34m(\u001b[0m\u001b[0;34m)\u001b[0m\u001b[0;34m\u001b[0m\u001b[0;34m\u001b[0m\u001b[0m\n\u001b[0m",
      "\u001b[0;32m~/Desktop/pyExplainer/pg/pyexplainer/pyexplainer/pyexplainer_explainer.py\u001b[0m in \u001b[0;36mshow_visualisation\u001b[0;34m(self)\u001b[0m\n\u001b[1;32m    441\u001b[0m \u001b[0;34m\u001b[0m\u001b[0m\n\u001b[1;32m    442\u001b[0m         \u001b[0;31m# display sliders\u001b[0m\u001b[0;34m\u001b[0m\u001b[0;34m\u001b[0m\u001b[0;34m\u001b[0m\u001b[0m\n\u001b[0;32m--> 443\u001b[0;31m         \u001b[0minteractive_sliders\u001b[0m \u001b[0;34m=\u001b[0m \u001b[0mself\u001b[0m\u001b[0;34m.\u001b[0m\u001b[0mgenerate_interactive_sliders\u001b[0m\u001b[0;34m(\u001b[0m\u001b[0;34m)\u001b[0m\u001b[0;34m\u001b[0m\u001b[0;34m\u001b[0m\u001b[0m\n\u001b[0m\u001b[1;32m    444\u001b[0m         \u001b[0;32mfor\u001b[0m \u001b[0mslider\u001b[0m \u001b[0;32min\u001b[0m \u001b[0minteractive_sliders\u001b[0m\u001b[0;34m:\u001b[0m\u001b[0;34m\u001b[0m\u001b[0;34m\u001b[0m\u001b[0m\n\u001b[1;32m    445\u001b[0m             \u001b[0mdisplay\u001b[0m\u001b[0;34m(\u001b[0m\u001b[0mslider\u001b[0m\u001b[0;34m)\u001b[0m\u001b[0;34m\u001b[0m\u001b[0;34m\u001b[0m\u001b[0m\n",
      "\u001b[0;32m~/Desktop/pyExplainer/pg/pyexplainer/pyexplainer/pyexplainer_explainer.py\u001b[0m in \u001b[0;36mgenerate_interactive_sliders\u001b[0;34m(self)\u001b[0m\n\u001b[1;32m    175\u001b[0m                 \u001b[0mfunc_id\u001b[0m \u001b[0;34m=\u001b[0m \u001b[0md\u001b[0m\u001b[0;34m[\u001b[0m\u001b[0;34m'title'\u001b[0m\u001b[0;34m]\u001b[0m\u001b[0;34m.\u001b[0m\u001b[0msplit\u001b[0m\u001b[0;34m(\u001b[0m\u001b[0;34m)\u001b[0m\u001b[0;34m[\u001b[0m\u001b[0;36m0\u001b[0m\u001b[0;34m]\u001b[0m\u001b[0;34m.\u001b[0m\u001b[0mstrip\u001b[0m\u001b[0;34m(\u001b[0m\u001b[0;34m)\u001b[0m\u001b[0;34m\u001b[0m\u001b[0;34m\u001b[0m\u001b[0m\n\u001b[1;32m    176\u001b[0m                 \u001b[0;31m# create interactive obj and store it into a list\u001b[0m\u001b[0;34m\u001b[0m\u001b[0;34m\u001b[0m\u001b[0;34m\u001b[0m\u001b[0m\n\u001b[0;32m--> 177\u001b[0;31m                 slider_widget = interactive(self.get_callback_functions()[func_id], x=widgets.FloatSlider(\n\u001b[0m\u001b[1;32m    178\u001b[0m                     \u001b[0mvalue\u001b[0m\u001b[0;34m=\u001b[0m\u001b[0md\u001b[0m\u001b[0;34m[\u001b[0m\u001b[0;34m'markers'\u001b[0m\u001b[0;34m]\u001b[0m\u001b[0;34m[\u001b[0m\u001b[0;36m0\u001b[0m\u001b[0;34m]\u001b[0m\u001b[0;34m,\u001b[0m\u001b[0;34m\u001b[0m\u001b[0;34m\u001b[0m\u001b[0m\n\u001b[1;32m    179\u001b[0m                     \u001b[0mmin\u001b[0m\u001b[0;34m=\u001b[0m\u001b[0md\u001b[0m\u001b[0;34m[\u001b[0m\u001b[0;34m'ticks'\u001b[0m\u001b[0;34m]\u001b[0m\u001b[0;34m[\u001b[0m\u001b[0;36m0\u001b[0m\u001b[0;34m]\u001b[0m\u001b[0;34m,\u001b[0m\u001b[0;34m\u001b[0m\u001b[0;34m\u001b[0m\u001b[0m\n",
      "\u001b[0;31mKeyError\u001b[0m: '#3'"
     ]
    }
   ],
   "source": [
    "ex = Explainer(risk_data=risk_data, bullet_data=bullet_data)\n",
    "ex.show_visualisation()"
   ]
  },
  {
   "cell_type": "code",
   "execution_count": null,
   "id": "sudden-closer",
   "metadata": {},
   "outputs": [],
   "source": []
  },
  {
   "cell_type": "code",
   "execution_count": null,
   "id": "eleven-apparatus",
   "metadata": {},
   "outputs": [],
   "source": []
  }
 ],
 "metadata": {
  "kernelspec": {
   "display_name": "Python 3",
   "language": "python",
   "name": "python3"
  },
  "language_info": {
   "codemirror_mode": {
    "name": "ipython",
    "version": 3
   },
   "file_extension": ".py",
   "mimetype": "text/x-python",
   "name": "python",
   "nbconvert_exporter": "python",
   "pygments_lexer": "ipython3",
   "version": "3.8.8"
  }
 },
 "nbformat": 4,
 "nbformat_minor": 5
}
