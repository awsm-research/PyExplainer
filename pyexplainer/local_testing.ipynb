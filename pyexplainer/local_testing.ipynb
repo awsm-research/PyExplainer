{
 "cells": [
  {
   "cell_type": "markdown",
   "id": "dated-worst",
   "metadata": {},
   "source": [
    "# Testing"
   ]
  },
  {
   "cell_type": "code",
   "execution_count": 1,
   "id": "stunning-summer",
   "metadata": {},
   "outputs": [],
   "source": [
    "from sklearn.ensemble import RandomForestClassifier\n",
    "import pandas as pd\n",
    "from pyexplainer_pyexplainer import PyExplainer\n",
    "import pickle\n",
    "import os\n",
    "\n",
    "\n",
    "cwd = os.getcwd()\n",
    "parent_dir = os.path.dirname(cwd)\n",
    "path_train = parent_dir + \"/tests/pyexplainer_test_data/activemq-5.0.0.zip\"\n",
    "training_data = pd.read_csv(path_train, index_col = 'File')\n",
    "\n",
    "dep = training_data.columns[-4]\n",
    "selected_features = [\"ADEV\", \"AvgCyclomaticModified\", \"AvgEssential\", \"AvgLineBlank\", \"AvgLineComment\",\n",
    "                     \"CountClassBase\", \"CountClassCoupled\", \"CountClassDerived\", \"CountDeclClass\",\n",
    "                     \"CountDeclClassMethod\", \"CountDeclClassVariable\", \"CountDeclInstanceVariable\",\n",
    "                     \"CountDeclMethodDefault\", \"CountDeclMethodPrivate\", \"CountDeclMethodProtected\",\n",
    "                     \"CountDeclMethodPublic\", \"CountInput_Mean\", \"CountInput_Min\", \"CountOutput_Min\", \"MAJOR_LINE\",\n",
    "                     \"MaxInheritanceTree\", \"MaxNesting_Min\", \"MINOR_COMMIT\", \"OWN_COMMIT\", \"OWN_LINE\",\n",
    "                     \"PercentLackOfCohesion\", \"RatioCommentToCode\"]\n",
    "all_cols = training_data.columns\n",
    "for col in all_cols:\n",
    "    if col not in selected_features:\n",
    "        all_cols = all_cols.drop(col)\n",
    "indep = all_cols\n",
    "X_train = training_data.loc[:, indep]\n",
    "y_train = training_data.loc[:, dep]\n",
    "\n",
    "blackbox_model = RandomForestClassifier(max_depth=3, random_state=0)\n",
    "blackbox_model.fit(X_train, y_train)\n",
    "\n",
    "class_label = ['Clean', 'Defect']\n",
    "pyExp = PyExplainer(X_train,\n",
    "            y_train,\n",
    "            indep,\n",
    "            dep,\n",
    "            blackbox_model,\n",
    "            class_label=class_label)\n",
    "\n",
    "path_test = parent_dir + \"/tests/pyexplainer_test_data/activemq-5.1.0.zip\"\n",
    "sample_test_data = pd.read_csv(path_test, index_col = 'File')\n",
    "X_test = sample_test_data.loc[:, indep]\n",
    "y_test = sample_test_data.loc[:, dep]\n",
    "\n",
    "sample_explain_index = 0\n",
    "pyExp.X_explain = X_test.iloc[[sample_explain_index]]\n",
    "pyExp.y_explain = y_test.iloc[[sample_explain_index]]\n",
    "\n",
    "# Util functions for reading and writing data\n",
    "def save_object(object_i, filename):\n",
    "    with open(filename, 'wb') as file:\n",
    "        pickle.dump(object_i, file)\n",
    "\n",
    "def load_object(filename):\n",
    "    with open(filename, 'rb') as file:\n",
    "        object_o = pickle.load(file)\n",
    "    return (object_o)\n",
    "\n",
    "# load rule obj\n",
    "if os.path.isfile('./tests/rule_objects/pyExplainer_obj.pyobject'):\n",
    "    load_pyExp_rule_obj = load_object('../tests/rule_objects/pyExplainer_obj.pyobject')"
   ]
  },
  {
   "cell_type": "code",
   "execution_count": 2,
   "id": "portable-preparation",
   "metadata": {},
   "outputs": [
    {
     "ename": "KeyboardInterrupt",
     "evalue": "",
     "output_type": "error",
     "traceback": [
      "\u001b[1;31m---------------------------------------------------------------------------\u001b[0m",
      "\u001b[1;31mKeyboardInterrupt\u001b[0m                         Traceback (most recent call last)",
      "\u001b[1;32m<timed exec>\u001b[0m in \u001b[0;36m<module>\u001b[1;34m\u001b[0m\n",
      "\u001b[1;32m~\\Documents\\GitHub\\pyExplainer\\pyexplainer\\pyexplainer_pyexplainer.py\u001b[0m in \u001b[0;36mexplain\u001b[1;34m(self, X_explain, y_explain, top_k, max_rules, max_iter, cv, search_function, debug)\u001b[0m\n\u001b[0;32m    299\u001b[0m         \u001b[1;31m# Step 1 - Generate synthetic instances\u001b[0m\u001b[1;33m\u001b[0m\u001b[1;33m\u001b[0m\u001b[1;33m\u001b[0m\u001b[0m\n\u001b[0;32m    300\u001b[0m         \u001b[1;32mif\u001b[0m \u001b[0msearch_function\u001b[0m\u001b[1;33m.\u001b[0m\u001b[0mlower\u001b[0m\u001b[1;33m(\u001b[0m\u001b[1;33m)\u001b[0m \u001b[1;33m==\u001b[0m \u001b[1;34m'crossoverinterpolation'\u001b[0m\u001b[1;33m:\u001b[0m\u001b[1;33m\u001b[0m\u001b[1;33m\u001b[0m\u001b[0m\n\u001b[1;32m--> 301\u001b[1;33m             \u001b[0msynthetic_object\u001b[0m \u001b[1;33m=\u001b[0m \u001b[0mself\u001b[0m\u001b[1;33m.\u001b[0m\u001b[0mgenerate_instance_crossover_interpolation\u001b[0m\u001b[1;33m(\u001b[0m\u001b[0mX_explain\u001b[0m\u001b[1;33m,\u001b[0m \u001b[0my_explain\u001b[0m\u001b[1;33m,\u001b[0m \u001b[0mdebug\u001b[0m\u001b[1;33m=\u001b[0m\u001b[0mdebug\u001b[0m\u001b[1;33m)\u001b[0m\u001b[1;33m\u001b[0m\u001b[1;33m\u001b[0m\u001b[0m\n\u001b[0m\u001b[0;32m    302\u001b[0m         \u001b[1;32melif\u001b[0m \u001b[0msearch_function\u001b[0m\u001b[1;33m.\u001b[0m\u001b[0mlower\u001b[0m\u001b[1;33m(\u001b[0m\u001b[1;33m)\u001b[0m \u001b[1;33m==\u001b[0m \u001b[1;34m'randomperturbation'\u001b[0m\u001b[1;33m:\u001b[0m\u001b[1;33m\u001b[0m\u001b[1;33m\u001b[0m\u001b[0m\n\u001b[0;32m    303\u001b[0m             \u001b[1;31m# This random perturbation approach to generate instances is used by LIME to gerate synthetic instances\u001b[0m\u001b[1;33m\u001b[0m\u001b[1;33m\u001b[0m\u001b[1;33m\u001b[0m\u001b[0m\n",
      "\u001b[1;32m~\\Documents\\GitHub\\pyExplainer\\pyexplainer\\pyexplainer_pyexplainer.py\u001b[0m in \u001b[0;36mgenerate_instance_crossover_interpolation\u001b[1;34m(self, X_explain, y_explain, debug)\u001b[0m\n\u001b[0;32m    745\u001b[0m                     \u001b[0mnew_ins\u001b[0m\u001b[1;33m[\u001b[0m\u001b[0mcat\u001b[0m\u001b[1;33m]\u001b[0m \u001b[1;33m=\u001b[0m \u001b[0mrandom\u001b[0m\u001b[1;33m.\u001b[0m\u001b[0mchoice\u001b[0m\u001b[1;33m(\u001b[0m\u001b[1;33m[\u001b[0m\u001b[0mx_df\u001b[0m\u001b[1;33m.\u001b[0m\u001b[0miloc\u001b[0m\u001b[1;33m[\u001b[0m\u001b[1;36m0\u001b[0m\u001b[1;33m]\u001b[0m\u001b[1;33m[\u001b[0m\u001b[0mcat\u001b[0m\u001b[1;33m]\u001b[0m\u001b[1;33m,\u001b[0m \u001b[0my_df\u001b[0m\u001b[1;33m.\u001b[0m\u001b[0miloc\u001b[0m\u001b[1;33m[\u001b[0m\u001b[1;36m0\u001b[0m\u001b[1;33m]\u001b[0m\u001b[1;33m[\u001b[0m\u001b[0mcat\u001b[0m\u001b[1;33m]\u001b[0m\u001b[1;33m,\u001b[0m \u001b[0mz_df\u001b[0m\u001b[1;33m.\u001b[0m\u001b[0miloc\u001b[0m\u001b[1;33m[\u001b[0m\u001b[1;36m0\u001b[0m\u001b[1;33m]\u001b[0m\u001b[1;33m[\u001b[0m\u001b[0mcat\u001b[0m\u001b[1;33m]\u001b[0m\u001b[1;33m]\u001b[0m\u001b[1;33m)\u001b[0m\u001b[1;33m\u001b[0m\u001b[1;33m\u001b[0m\u001b[0m\n\u001b[0;32m    746\u001b[0m                 \u001b[0mnew_ins\u001b[0m\u001b[1;33m.\u001b[0m\u001b[0mname\u001b[0m \u001b[1;33m=\u001b[0m \u001b[0mnum\u001b[0m\u001b[1;33m\u001b[0m\u001b[1;33m\u001b[0m\u001b[0m\n\u001b[1;32m--> 747\u001b[1;33m                 \u001b[0mnew_con_df\u001b[0m \u001b[1;33m=\u001b[0m \u001b[0mnew_con_df\u001b[0m\u001b[1;33m.\u001b[0m\u001b[0mappend\u001b[0m\u001b[1;33m(\u001b[0m\u001b[0mnew_ins\u001b[0m\u001b[1;33m,\u001b[0m \u001b[0mignore_index\u001b[0m\u001b[1;33m=\u001b[0m\u001b[1;32mTrue\u001b[0m\u001b[1;33m)\u001b[0m\u001b[1;33m\u001b[0m\u001b[1;33m\u001b[0m\u001b[0m\n\u001b[0m\u001b[0;32m    748\u001b[0m \u001b[1;33m\u001b[0m\u001b[0m\n\u001b[0;32m    749\u001b[0m             \u001b[1;31m# get the global model predictions of the generated instances and the instances in the neighbourhood\u001b[0m\u001b[1;33m\u001b[0m\u001b[1;33m\u001b[0m\u001b[1;33m\u001b[0m\u001b[0m\n",
      "\u001b[1;32m~\\anaconda3\\lib\\site-packages\\pandas\\core\\frame.py\u001b[0m in \u001b[0;36mappend\u001b[1;34m(self, other, ignore_index, verify_integrity, sort)\u001b[0m\n\u001b[0;32m   7980\u001b[0m             \u001b[0mto_concat\u001b[0m \u001b[1;33m=\u001b[0m \u001b[1;33m[\u001b[0m\u001b[0mself\u001b[0m\u001b[1;33m,\u001b[0m \u001b[0mother\u001b[0m\u001b[1;33m]\u001b[0m\u001b[1;33m\u001b[0m\u001b[1;33m\u001b[0m\u001b[0m\n\u001b[0;32m   7981\u001b[0m         return (\n\u001b[1;32m-> 7982\u001b[1;33m             concat(\n\u001b[0m\u001b[0;32m   7983\u001b[0m                 \u001b[0mto_concat\u001b[0m\u001b[1;33m,\u001b[0m\u001b[1;33m\u001b[0m\u001b[1;33m\u001b[0m\u001b[0m\n\u001b[0;32m   7984\u001b[0m                 \u001b[0mignore_index\u001b[0m\u001b[1;33m=\u001b[0m\u001b[0mignore_index\u001b[0m\u001b[1;33m,\u001b[0m\u001b[1;33m\u001b[0m\u001b[1;33m\u001b[0m\u001b[0m\n",
      "\u001b[1;32m~\\anaconda3\\lib\\site-packages\\pandas\\core\\reshape\\concat.py\u001b[0m in \u001b[0;36mconcat\u001b[1;34m(objs, axis, join, ignore_index, keys, levels, names, verify_integrity, sort, copy)\u001b[0m\n\u001b[0;32m    296\u001b[0m     )\n\u001b[0;32m    297\u001b[0m \u001b[1;33m\u001b[0m\u001b[0m\n\u001b[1;32m--> 298\u001b[1;33m     \u001b[1;32mreturn\u001b[0m \u001b[0mop\u001b[0m\u001b[1;33m.\u001b[0m\u001b[0mget_result\u001b[0m\u001b[1;33m(\u001b[0m\u001b[1;33m)\u001b[0m\u001b[1;33m\u001b[0m\u001b[1;33m\u001b[0m\u001b[0m\n\u001b[0m\u001b[0;32m    299\u001b[0m \u001b[1;33m\u001b[0m\u001b[0m\n\u001b[0;32m    300\u001b[0m \u001b[1;33m\u001b[0m\u001b[0m\n",
      "\u001b[1;32m~\\anaconda3\\lib\\site-packages\\pandas\\core\\reshape\\concat.py\u001b[0m in \u001b[0;36mget_result\u001b[1;34m(self)\u001b[0m\n\u001b[0;32m    518\u001b[0m                 \u001b[0mmgrs_indexers\u001b[0m\u001b[1;33m.\u001b[0m\u001b[0mappend\u001b[0m\u001b[1;33m(\u001b[0m\u001b[1;33m(\u001b[0m\u001b[0mobj\u001b[0m\u001b[1;33m.\u001b[0m\u001b[0m_mgr\u001b[0m\u001b[1;33m,\u001b[0m \u001b[0mindexers\u001b[0m\u001b[1;33m)\u001b[0m\u001b[1;33m)\u001b[0m\u001b[1;33m\u001b[0m\u001b[1;33m\u001b[0m\u001b[0m\n\u001b[0;32m    519\u001b[0m \u001b[1;33m\u001b[0m\u001b[0m\n\u001b[1;32m--> 520\u001b[1;33m             new_data = concatenate_block_managers(\n\u001b[0m\u001b[0;32m    521\u001b[0m                 \u001b[0mmgrs_indexers\u001b[0m\u001b[1;33m,\u001b[0m \u001b[0mself\u001b[0m\u001b[1;33m.\u001b[0m\u001b[0mnew_axes\u001b[0m\u001b[1;33m,\u001b[0m \u001b[0mconcat_axis\u001b[0m\u001b[1;33m=\u001b[0m\u001b[0mself\u001b[0m\u001b[1;33m.\u001b[0m\u001b[0mbm_axis\u001b[0m\u001b[1;33m,\u001b[0m \u001b[0mcopy\u001b[0m\u001b[1;33m=\u001b[0m\u001b[0mself\u001b[0m\u001b[1;33m.\u001b[0m\u001b[0mcopy\u001b[0m\u001b[1;33m\u001b[0m\u001b[1;33m\u001b[0m\u001b[0m\n\u001b[0;32m    522\u001b[0m             )\n",
      "\u001b[1;32m~\\anaconda3\\lib\\site-packages\\pandas\\core\\internals\\concat.py\u001b[0m in \u001b[0;36mconcatenate_block_managers\u001b[1;34m(mgrs_indexers, axes, concat_axis, copy)\u001b[0m\n\u001b[0;32m     71\u001b[0m \u001b[1;33m\u001b[0m\u001b[0m\n\u001b[0;32m     72\u001b[0m             \u001b[1;32mif\u001b[0m \u001b[1;32mnot\u001b[0m \u001b[0mblk\u001b[0m\u001b[1;33m.\u001b[0m\u001b[0mis_extension\u001b[0m\u001b[1;33m:\u001b[0m\u001b[1;33m\u001b[0m\u001b[1;33m\u001b[0m\u001b[0m\n\u001b[1;32m---> 73\u001b[1;33m                 \u001b[0mvalues\u001b[0m \u001b[1;33m=\u001b[0m \u001b[0mconcat_compat\u001b[0m\u001b[1;33m(\u001b[0m\u001b[0mvals\u001b[0m\u001b[1;33m,\u001b[0m \u001b[0maxis\u001b[0m\u001b[1;33m=\u001b[0m\u001b[0mblk\u001b[0m\u001b[1;33m.\u001b[0m\u001b[0mndim\u001b[0m \u001b[1;33m-\u001b[0m \u001b[1;36m1\u001b[0m\u001b[1;33m)\u001b[0m\u001b[1;33m\u001b[0m\u001b[1;33m\u001b[0m\u001b[0m\n\u001b[0m\u001b[0;32m     74\u001b[0m             \u001b[1;32melse\u001b[0m\u001b[1;33m:\u001b[0m\u001b[1;33m\u001b[0m\u001b[1;33m\u001b[0m\u001b[0m\n\u001b[0;32m     75\u001b[0m                 \u001b[1;31m# TODO(EA2D): special-casing not needed with 2D EAs\u001b[0m\u001b[1;33m\u001b[0m\u001b[1;33m\u001b[0m\u001b[1;33m\u001b[0m\u001b[0m\n",
      "\u001b[1;32m~\\anaconda3\\lib\\site-packages\\pandas\\core\\dtypes\\concat.py\u001b[0m in \u001b[0;36mconcat_compat\u001b[1;34m(to_concat, axis)\u001b[0m\n\u001b[0;32m    169\u001b[0m                 \u001b[0mto_concat\u001b[0m \u001b[1;33m=\u001b[0m \u001b[1;33m[\u001b[0m\u001b[0mx\u001b[0m\u001b[1;33m.\u001b[0m\u001b[0mastype\u001b[0m\u001b[1;33m(\u001b[0m\u001b[1;34m\"object\"\u001b[0m\u001b[1;33m)\u001b[0m \u001b[1;32mfor\u001b[0m \u001b[0mx\u001b[0m \u001b[1;32min\u001b[0m \u001b[0mto_concat\u001b[0m\u001b[1;33m]\u001b[0m\u001b[1;33m\u001b[0m\u001b[1;33m\u001b[0m\u001b[0m\n\u001b[0;32m    170\u001b[0m \u001b[1;33m\u001b[0m\u001b[0m\n\u001b[1;32m--> 171\u001b[1;33m     \u001b[1;32mreturn\u001b[0m \u001b[0mnp\u001b[0m\u001b[1;33m.\u001b[0m\u001b[0mconcatenate\u001b[0m\u001b[1;33m(\u001b[0m\u001b[0mto_concat\u001b[0m\u001b[1;33m,\u001b[0m \u001b[0maxis\u001b[0m\u001b[1;33m=\u001b[0m\u001b[0maxis\u001b[0m\u001b[1;33m)\u001b[0m\u001b[1;33m\u001b[0m\u001b[1;33m\u001b[0m\u001b[0m\n\u001b[0m\u001b[0;32m    172\u001b[0m \u001b[1;33m\u001b[0m\u001b[0m\n\u001b[0;32m    173\u001b[0m \u001b[1;33m\u001b[0m\u001b[0m\n",
      "\u001b[1;32m<__array_function__ internals>\u001b[0m in \u001b[0;36mconcatenate\u001b[1;34m(*args, **kwargs)\u001b[0m\n",
      "\u001b[1;31mKeyboardInterrupt\u001b[0m: "
     ]
    }
   ],
   "source": [
    "%%time\n",
    "\n",
    "d = []\n",
    "for i in range(1000):\n",
    "    X_explain = X_test.iloc[[i]]\n",
    "    y_explain = y_test.iloc[[i]]\n",
    "    pyExp.X_explain = X_test.iloc[[i]]\n",
    "    pyExp.y_explain = y_test.iloc[[i]]\n",
    "    rule = pyExp.explain(X_explain, y_explain, max_iter=10000)\n",
    "    top_rule = pyExp.parse_top_rules(top_k_positive_rules=rule['top_k_positive_rules'],\n",
    "                                     top_k_negative_rules=rule['top_k_negative_rules'])\n",
    "    d.append(pyExp.generate_bullet_data(top_rule))\n"
   ]
  },
  {
   "cell_type": "code",
   "execution_count": 2,
   "id": "hearing-identity",
   "metadata": {},
   "outputs": [
    {
     "data": {
      "application/vnd.jupyter.widget-view+json": {
       "model_id": "2dd25e6df0f244568bdea32b99ce900e",
       "version_major": 2,
       "version_minor": 0
      },
      "text/plain": [
       "HBox(children=(Label(value='Risk Score: '), FloatProgress(value=0.0, bar_style='info', layout=Layout(width='40…"
      ]
     },
     "metadata": {},
     "output_type": "display_data"
    },
    {
     "data": {
      "application/vnd.jupyter.widget-view+json": {
       "model_id": "1c77eb80ec1942b9ba4a056f64eaf681",
       "version_major": 2,
       "version_minor": 0
      },
      "text/plain": [
       "FloatSlider(value=0.0, continuous_update=False, description='#1 Decrease the values of PercentLackOfCohesion t…"
      ]
     },
     "metadata": {},
     "output_type": "display_data"
    },
    {
     "data": {
      "application/vnd.jupyter.widget-view+json": {
       "model_id": "f588d8dfdad94b48a0c8c2ed05e30611",
       "version_major": 2,
       "version_minor": 0
      },
      "text/plain": [
       "FloatSlider(value=1.0, continuous_update=False, description='#2 Decrease the values of CountDeclMethodPublic t…"
      ]
     },
     "metadata": {},
     "output_type": "display_data"
    },
    {
     "data": {
      "application/vnd.jupyter.widget-view+json": {
       "model_id": "d0411143eb764b87aa5db8a64a09ac73",
       "version_major": 2,
       "version_minor": 0
      },
      "text/plain": [
       "FloatSlider(value=1.54, continuous_update=False, description='#3 Increase the values of RatioCommentToCode to …"
      ]
     },
     "metadata": {},
     "output_type": "display_data"
    },
    {
     "data": {
      "application/vnd.jupyter.widget-view+json": {
       "model_id": "b938f475c6674967b50d078fa64d6330",
       "version_major": 2,
       "version_minor": 0
      },
      "text/plain": [
       "Output(layout=Layout(border='3px solid black'))"
      ]
     },
     "metadata": {},
     "output_type": "display_data"
    },
    {
     "name": "stdout",
     "output_type": "stream",
     "text": [
      "{'name': 'value', 'old': 0.0, 'new': 46.0, 'owner': FloatSlider(value=46.0, continuous_update=False, description='#1 Decrease the values of PercentLackOfCohesion to less than 0', layout=Layout(height='20px', width='99%'), max=87.0, readout_format='.1f', step=1.0, style=SliderStyle(description_width='40%')), 'type': 'change'}\n",
      "<class 'traitlets.utils.bunch.Bunch'>\n"
     ]
    }
   ],
   "source": [
    "i = 0\n",
    "X_explain = X_test.iloc[[i]]\n",
    "y_explain = y_test.iloc[[i]]\n",
    "pyExp.X_explain = X_test.iloc[[i]]\n",
    "pyExp.y_explain = y_test.iloc[[i]]\n",
    "rule = pyExp.explain(X_explain, y_explain, max_iter=10000)\n",
    "pyExp.visualise(rule)"
   ]
  },
  {
   "cell_type": "code",
   "execution_count": 3,
   "id": "narrative-princess",
   "metadata": {},
   "outputs": [
    {
     "data": {
      "text/plain": [
       "[{'title': '#1 Decrease the values of PercentLackOfCohesion to less than 0',\n",
       "  'subtitle': 'Actual = 0',\n",
       "  'ticks': [0, 87],\n",
       "  'step': [1],\n",
       "  'startPoints': [0, 398.0],\n",
       "  'widths': [398.0, 52.0],\n",
       "  'colors': ['#a6d96a', '#d7191c'],\n",
       "  'markers': [46.0],\n",
       "  'varRef': 'PercentLackOfCohesion'},\n",
       " {'title': '#2 Decrease the values of CountDeclMethodPublic to less than 1',\n",
       "  'subtitle': 'Actual = 1',\n",
       "  'ticks': [1, 32],\n",
       "  'step': [1],\n",
       "  'startPoints': [0, 262.0],\n",
       "  'widths': [262.0, 188.0],\n",
       "  'colors': ['#a6d96a', '#d7191c'],\n",
       "  'markers': [1],\n",
       "  'varRef': 'CountDeclMethodPublic'},\n",
       " {'title': '#3 Increase the values of RatioCommentToCode to more than 1.54',\n",
       "  'subtitle': 'Actual = 1.54',\n",
       "  'ticks': [0, 2],\n",
       "  'step': [0.1],\n",
       "  'startPoints': [0, 70.0],\n",
       "  'widths': [70.0, 380.0],\n",
       "  'colors': ['#d7191c', '#a6d96a'],\n",
       "  'markers': [1.54],\n",
       "  'varRef': 'RatioCommentToCode'}]"
      ]
     },
     "execution_count": 3,
     "metadata": {},
     "output_type": "execute_result"
    }
   ],
   "source": [
    "pyExp.bullet_data"
   ]
  },
  {
   "cell_type": "code",
   "execution_count": null,
   "id": "funded-planner",
   "metadata": {},
   "outputs": [],
   "source": []
  }
 ],
 "metadata": {
  "kernelspec": {
   "display_name": "Python 3",
   "language": "python",
   "name": "python3"
  },
  "language_info": {
   "codemirror_mode": {
    "name": "ipython",
    "version": 3
   },
   "file_extension": ".py",
   "mimetype": "text/x-python",
   "name": "python",
   "nbconvert_exporter": "python",
   "pygments_lexer": "ipython3",
   "version": "3.8.8"
  }
 },
 "nbformat": 4,
 "nbformat_minor": 5
}
