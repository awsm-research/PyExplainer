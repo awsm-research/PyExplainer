{
 "cells": [
  {
   "cell_type": "markdown",
   "id": "italic-seafood",
   "metadata": {},
   "source": [
    "# <center> Welcome to PyExplainer Quickstart Guide </center>"
   ]
  },
  {
   "cell_type": "markdown",
   "id": "necessary-potato",
   "metadata": {},
   "source": [
    "# PART A - Quick Start"
   ]
  },
  {
   "cell_type": "markdown",
   "id": "deadly-immigration",
   "metadata": {},
   "source": [
    "## 1. Prepare data and model\n",
    "\n",
    "Note. We use the default data and model here for an example"
   ]
  },
  {
   "cell_type": "markdown",
   "id": "higher-cooling",
   "metadata": {},
   "source": [
    "### 1.1 Import required library"
   ]
  },
  {
   "cell_type": "code",
   "execution_count": 116,
   "id": "harmful-morocco",
   "metadata": {},
   "outputs": [],
   "source": [
    "from pyexplainer import pyexplainer_pyexplainer"
   ]
  },
  {
   "cell_type": "markdown",
   "id": "practical-jenny",
   "metadata": {},
   "source": [
    "### 1.2 Obtain default dataset and global model (Random Forest)"
   ]
  },
  {
   "cell_type": "code",
   "execution_count": 117,
   "id": "employed-adobe",
   "metadata": {},
   "outputs": [],
   "source": [
    "default_data_and_model = pyexplainer_pyexplainer.get_dflt()\n",
    "py_explainer = pyexplainer_pyexplainer.PyExplainer(X_train = default_data_and_model['X_train'],\n",
    "                           y_train = default_data_and_model['y_train'],\n",
    "                           indep = default_data_and_model['indep'],\n",
    "                           dep = default_data_and_model['dep'],\n",
    "                           blackbox_model = default_data_and_model['blackbox_model'])"
   ]
  },
  {
   "cell_type": "markdown",
   "id": "informational-disclosure",
   "metadata": {},
   "source": [
    "## 🔧2. Create PyExplainer object "
   ]
  },
  {
   "cell_type": "markdown",
   "id": "anticipated-tourism",
   "metadata": {},
   "source": [
    "### 2.1 Prepare data for creating PyExplainer"
   ]
  },
  {
   "cell_type": "code",
   "execution_count": 3,
   "id": "abstract-disposal",
   "metadata": {},
   "outputs": [],
   "source": [
    "X_explain = default_data_and_model['X_explain']\n",
    "y_explain = default_data_and_model['y_explain']"
   ]
  },
  {
   "cell_type": "markdown",
   "id": "inside-republic",
   "metadata": {},
   "source": [
    "### 2.2 Create rules"
   ]
  },
  {
   "cell_type": "code",
   "execution_count": 4,
   "id": "spatial-wrong",
   "metadata": {},
   "outputs": [],
   "source": [
    "created_rules = py_explainer.explain(X_explain=X_explain,\n",
    "                                     y_explain=y_explain,\n",
    "                                     search_function='crossoverinterpolation')"
   ]
  },
  {
   "cell_type": "markdown",
   "id": "engaging-ridge",
   "metadata": {},
   "source": [
    "## 3. Create interactive visualization\n",
    "\n",
    "You can change feature values at the slider bar to observe change of risk score."
   ]
  },
  {
   "cell_type": "code",
   "execution_count": 5,
   "id": "second-trout",
   "metadata": {},
   "outputs": [
    {
     "data": {
      "application/vnd.jupyter.widget-view+json": {
       "model_id": "e58b4b39690a447981f01cf5043a88f9",
       "version_major": 2,
       "version_minor": 0
      },
      "text/plain": [
       "HBox(children=(Label(value='Risk Score: '), FloatProgress(value=0.0, bar_style='info', layout=Layout(width='40…"
      ]
     },
     "metadata": {},
     "output_type": "display_data"
    },
    {
     "data": {
      "application/vnd.jupyter.widget-view+json": {
       "model_id": "362d6cdedd154342a731bcc42f379b35",
       "version_major": 2,
       "version_minor": 0
      },
      "text/plain": [
       "Output(layout=Layout(border='3px solid black'))"
      ]
     },
     "metadata": {},
     "output_type": "display_data"
    },
    {
     "data": {
      "application/vnd.jupyter.widget-view+json": {
       "model_id": "687c226cac9e41c9a9454c96c8c37175",
       "version_major": 2,
       "version_minor": 0
      },
      "text/plain": [
       "FloatSlider(value=0.74, continuous_update=False, description='#1 The value of ent is more than 0.74', layout=L…"
      ]
     },
     "metadata": {},
     "output_type": "display_data"
    },
    {
     "data": {
      "application/vnd.jupyter.widget-view+json": {
       "model_id": "1254930108d34e9d94352bed0c824103",
       "version_major": 2,
       "version_minor": 0
      },
      "text/plain": [
       "FloatSlider(value=3.0, continuous_update=False, description='#2 The value of app is less than 3.0', layout=Lay…"
      ]
     },
     "metadata": {},
     "output_type": "display_data"
    },
    {
     "data": {
      "application/vnd.jupyter.widget-view+json": {
       "model_id": "608c13c7b6684f3d9126666fc48ed0ae",
       "version_major": 2,
       "version_minor": 0
      },
      "text/plain": [
       "FloatSlider(value=3.0, continuous_update=False, description='#3 The value of nd is less than 3', layout=Layout…"
      ]
     },
     "metadata": {},
     "output_type": "display_data"
    }
   ],
   "source": [
    "py_explainer.visualise(created_rules)"
   ]
  },
  {
   "cell_type": "markdown",
   "id": "knowing-black",
   "metadata": {},
   "source": [
    "# PART B - Full Tutorial"
   ]
  },
  {
   "cell_type": "markdown",
   "id": "cloudy-potato",
   "metadata": {},
   "source": [
    "## 1. Prepare sample data and model\n",
    "### For the simplicity, we create simple 10-row data manually with two feature cols and one label col "
   ]
  },
  {
   "cell_type": "code",
   "execution_count": 6,
   "id": "dependent-subsection",
   "metadata": {},
   "outputs": [
    {
     "data": {
      "text/html": [
       "<div>\n",
       "<style scoped>\n",
       "    .dataframe tbody tr th:only-of-type {\n",
       "        vertical-align: middle;\n",
       "    }\n",
       "\n",
       "    .dataframe tbody tr th {\n",
       "        vertical-align: top;\n",
       "    }\n",
       "\n",
       "    .dataframe thead th {\n",
       "        text-align: right;\n",
       "    }\n",
       "</style>\n",
       "<table border=\"1\" class=\"dataframe\">\n",
       "  <thead>\n",
       "    <tr style=\"text-align: right;\">\n",
       "      <th></th>\n",
       "      <th>lines_of_code</th>\n",
       "      <th>num_of_developers</th>\n",
       "      <th>is_defect</th>\n",
       "    </tr>\n",
       "  </thead>\n",
       "  <tbody>\n",
       "    <tr>\n",
       "      <th>0</th>\n",
       "      <td>224</td>\n",
       "      <td>9</td>\n",
       "      <td>True</td>\n",
       "    </tr>\n",
       "    <tr>\n",
       "      <th>1</th>\n",
       "      <td>57</td>\n",
       "      <td>3</td>\n",
       "      <td>True</td>\n",
       "    </tr>\n",
       "    <tr>\n",
       "      <th>2</th>\n",
       "      <td>415</td>\n",
       "      <td>6</td>\n",
       "      <td>True</td>\n",
       "    </tr>\n",
       "  </tbody>\n",
       "</table>\n",
       "</div>"
      ],
      "text/plain": [
       "   lines_of_code  num_of_developers  is_defect\n",
       "0            224                  9       True\n",
       "1             57                  3       True\n",
       "2            415                  6       True"
      ]
     },
     "execution_count": 6,
     "metadata": {},
     "output_type": "execute_result"
    }
   ],
   "source": [
    "import pandas as pd\n",
    "import numpy as np\n",
    "\n",
    "lines_of_code = np.random.randint(500, size=10)\n",
    "num_of_developers = np.random.randint(10, size=10)\n",
    "labels = [True, True, True, True, True, False, False, True, True, False]\n",
    "data = {'lines_of_code': lines_of_code, 'num_of_developers': num_of_developers, 'is_defect': labels}\n",
    "df = pd.DataFrame(data=data)\n",
    "df.head(3)"
   ]
  },
  {
   "cell_type": "markdown",
   "id": "dated-winter",
   "metadata": {},
   "source": [
    "## Define features and label"
   ]
  },
  {
   "cell_type": "code",
   "execution_count": 146,
   "id": "civic-trademark",
   "metadata": {},
   "outputs": [
    {
     "name": "stdout",
     "output_type": "stream",
     "text": [
      "   lines_of_code  num_of_developers\n",
      "0            224                  9\n",
      "1             57                  3\n",
      "2            415                  6\n",
      "\n",
      "0    True\n",
      "1    True\n",
      "2    True\n",
      "Name: is_defect, dtype: bool\n"
     ]
    }
   ],
   "source": [
    "feature_cols = ['lines_of_code', 'num_of_developers']\n",
    "label_col = 'is_defect' \n",
    "X = df[feature_cols]\n",
    "y = df[label_col]\n",
    "print(X.head(3))\n",
    "print()\n",
    "print(y.head(3))"
   ]
  },
  {
   "cell_type": "markdown",
   "id": "still-underground",
   "metadata": {},
   "source": [
    "## Split data into training and testing set"
   ]
  },
  {
   "cell_type": "code",
   "execution_count": 147,
   "id": "charming-vampire",
   "metadata": {},
   "outputs": [],
   "source": [
    "from sklearn.model_selection import train_test_split\n",
    "X_train, X_test, y_train, y_test = train_test_split(X, y, test_size=0.3) # 70% training and 30% test"
   ]
  },
  {
   "cell_type": "markdown",
   "id": "convinced-bernard",
   "metadata": {},
   "source": [
    "## Train a RandomForest model using sklearn"
   ]
  },
  {
   "cell_type": "code",
   "execution_count": 148,
   "id": "federal-roads",
   "metadata": {},
   "outputs": [
    {
     "data": {
      "text/plain": [
       "RandomForestClassifier(n_estimators=10, random_state=0)"
      ]
     },
     "execution_count": 148,
     "metadata": {},
     "output_type": "execute_result"
    }
   ],
   "source": [
    "from sklearn.ensemble import RandomForestClassifier\n",
    "\n",
    "rf_model = RandomForestClassifier(n_estimators=10, max_depth=None, min_samples_split=2, random_state=0)\n",
    "\n",
    "rf_model.fit(X_train, y_train)"
   ]
  },
  {
   "cell_type": "markdown",
   "id": "convertible-clone",
   "metadata": {},
   "source": [
    "## Generate predictions"
   ]
  },
  {
   "cell_type": "code",
   "execution_count": 166,
   "id": "driving-medicare",
   "metadata": {},
   "outputs": [],
   "source": [
    "y_preds = rf_model.predict(X_test)\n",
    "data = {'is_defect': y_preds}\n",
    "y_preds = pd.DataFrame(data=data)"
   ]
  },
  {
   "cell_type": "markdown",
   "id": "delayed-showcase",
   "metadata": {},
   "source": [
    "## Select one row from testing set to be explained"
   ]
  },
  {
   "cell_type": "code",
   "execution_count": 167,
   "id": "chief-scout",
   "metadata": {},
   "outputs": [
    {
     "data": {
      "text/plain": [
       "0    True\n",
       "Name: is_defect, dtype: bool"
      ]
     },
     "execution_count": 167,
     "metadata": {},
     "output_type": "execute_result"
    }
   ],
   "source": [
    "selected_row = 0\n",
    "\n",
    "# select the row in X_test\n",
    "X_explain = X_test.iloc[[selected_row]]\n",
    "# select the corresponding label\n",
    "y_explain = testing_data['is_defect'].iloc[[selected_row]]\n",
    "y_explain"
   ]
  },
  {
   "cell_type": "markdown",
   "id": "metallic-interface",
   "metadata": {},
   "source": [
    "## Initialise a PyExplainer object"
   ]
  },
  {
   "cell_type": "code",
   "execution_count": 168,
   "id": "representative-winner",
   "metadata": {},
   "outputs": [],
   "source": [
    "from pyexplainer import pyexplainer_pyexplainer\n",
    "\n",
    "py_explainer = pyexplainer_pyexplainer.PyExplainer(X_train = X_train,\n",
    "                                                   y_train = y_train,\n",
    "                                                   indep = X_train.columns,\n",
    "                                                   dep = 'is_defect',\n",
    "                                                   blackbox_model = rf_model)"
   ]
  },
  {
   "cell_type": "code",
   "execution_count": 169,
   "id": "adverse-recognition",
   "metadata": {},
   "outputs": [],
   "source": [
    "rules = py_explainer.explain(X_explain=X_explain,\n",
    "                             y_explain=y_explain,\n",
    "                             search_function='crossoverinterpolation')"
   ]
  },
  {
   "cell_type": "code",
   "execution_count": 170,
   "id": "banner-diary",
   "metadata": {},
   "outputs": [
    {
     "data": {
      "text/plain": [
       "{'synthetic_data':       lines_of_code  num_of_developers\n",
       " 0             57.00               3.00\n",
       " 1            415.00               6.00\n",
       " 2            491.00               6.00\n",
       " 3            224.00               9.00\n",
       " 4            466.00               0.00\n",
       " ...             ...                ...\n",
       " 2002         591.35               3.96\n",
       " 2003         435.10              10.82\n",
       " 2004         210.69              -2.72\n",
       " 2005         467.67               3.82\n",
       " 2006         730.26               4.16\n",
       " \n",
       " [2007 rows x 2 columns],\n",
       " 'synthetic_predictions': array([ True,  True, False, ..., False,  True, False]),\n",
       " 'X_explain':    lines_of_code  num_of_developers\n",
       " 4             93                  5,\n",
       " 'y_explain': 0    True\n",
       " Name: is_defect, dtype: bool,\n",
       " 'indep': Index(['lines_of_code', 'num_of_developers'], dtype='object'),\n",
       " 'dep': 'is_defect',\n",
       " 'top_k_positive_rules':      index                                               rule  type      coef  \\\n",
       " 0      798  num_of_developers <= 3.0199999809265137 & line...  rule  0.917670   \n",
       " 1      664  lines_of_code <= 479.885009765625 & lines_of_c...  rule  0.706346   \n",
       " 2      846  lines_of_code <= 453.49000549316406 & lines_of...  rule  0.798961   \n",
       " 3      932  lines_of_code <= 453.49000549316406 & lines_of...  rule  0.347912   \n",
       " 4      929  lines_of_code > 467.55499267578125 & num_of_de...  rule  0.290238   \n",
       " ..     ...                                                ...   ...       ...   \n",
       " 268    844                                                NaN   NaN       NaN   \n",
       " 269    851                                                NaN   NaN       NaN   \n",
       " 270    928                                                NaN   NaN       NaN   \n",
       " 271    972                                                NaN   NaN       NaN   \n",
       " 272    981                                                NaN   NaN       NaN   \n",
       " \n",
       "       support  importance is_satisfy_instance  \n",
       " 0    0.279891    0.411984                True  \n",
       " 1    0.345109    0.335800                True  \n",
       " 2    0.187500    0.311844                True  \n",
       " 3    0.279891    0.156193                True  \n",
       " 4    0.149457    0.103481                True  \n",
       " ..        ...         ...                 ...  \n",
       " 268       NaN         NaN                True  \n",
       " 269       NaN         NaN                True  \n",
       " 270       NaN         NaN                True  \n",
       " 271       NaN         NaN                True  \n",
       " 272       NaN         NaN                True  \n",
       " \n",
       " [273 rows x 7 columns],\n",
       " 'top_k_negative_rules':                                                    rule  type      coef  \\\n",
       " 1422  num_of_developers <= 3.0199999809265137 & line...  rule -2.094145   \n",
       " 1445  num_of_developers > 1.8849999904632568 & lines...  rule -0.851087   \n",
       " 1757  lines_of_code <= 345.5399932861328 & num_of_de...  rule -1.393113   \n",
       " \n",
       "        support  importance  Class  \n",
       " 1422  0.076087    0.555236  Clean  \n",
       " 1445  0.366848    0.410177  Clean  \n",
       " 1757  0.078804    0.375351  Clean  ,\n",
       " 'local_rulefit_model': RuleFit(cv=5, exp_rand_tree_size=False, max_iter=10000, n_jobs=-1,\n",
       "         random_state=0, rfmode='classify',\n",
       "         tree_generator=GradientBoostingClassifier(learning_rate=0.01,\n",
       "                                                   max_depth=100,\n",
       "                                                   max_leaf_nodes=4,\n",
       "                                                   n_estimators=500,\n",
       "                                                   random_state=0,\n",
       "                                                   subsample=0.18375551640021195))}"
      ]
     },
     "execution_count": 170,
     "metadata": {},
     "output_type": "execute_result"
    }
   ],
   "source": [
    "rules"
   ]
  },
  {
   "cell_type": "markdown",
   "id": "nearby-riding",
   "metadata": {},
   "source": [
    "# Appendix"
   ]
  },
  {
   "cell_type": "markdown",
   "id": "closed-draft",
   "metadata": {},
   "source": [
    "## The detail of variables used to to create PyExplainer"
   ]
  },
  {
   "cell_type": "markdown",
   "id": "sufficient-vault",
   "metadata": {},
   "source": [
    "### Synthetic_data\n",
    "\n",
    "Synthetic_data is data that are generated by PyExplainer using one of the following approaches.\n",
    "\n",
    "1. Crossover and Interpolation\n",
    "2. Random Perturbation.\n",
    "\n",
    "After Synthetic_data is generated, it is stored as a pandas DataFrame object. "
   ]
  },
  {
   "cell_type": "code",
   "execution_count": 17,
   "id": "vital-dynamics",
   "metadata": {},
   "outputs": [
    {
     "name": "stdout",
     "output_type": "stream",
     "text": [
      "Type of pyExp_rule_obj['synthetic_data'] -  <class 'pandas.core.frame.DataFrame'> \n",
      "\n",
      "Example\n"
     ]
    },
    {
     "data": {
      "text/html": [
       "<div>\n",
       "<style scoped>\n",
       "    .dataframe tbody tr th:only-of-type {\n",
       "        vertical-align: middle;\n",
       "    }\n",
       "\n",
       "    .dataframe tbody tr th {\n",
       "        vertical-align: top;\n",
       "    }\n",
       "\n",
       "    .dataframe thead th {\n",
       "        text-align: right;\n",
       "    }\n",
       "</style>\n",
       "<table border=\"1\" class=\"dataframe\">\n",
       "  <thead>\n",
       "    <tr style=\"text-align: right;\">\n",
       "      <th></th>\n",
       "      <th>la</th>\n",
       "      <th>nd</th>\n",
       "      <th>ns</th>\n",
       "      <th>ent</th>\n",
       "      <th>nrev</th>\n",
       "      <th>rtime</th>\n",
       "      <th>self</th>\n",
       "      <th>ndev</th>\n",
       "      <th>age</th>\n",
       "      <th>app</th>\n",
       "      <th>rrexp</th>\n",
       "      <th>asawr</th>\n",
       "      <th>rsawr</th>\n",
       "    </tr>\n",
       "  </thead>\n",
       "  <tbody>\n",
       "    <tr>\n",
       "      <th>0</th>\n",
       "      <td>194.0</td>\n",
       "      <td>2.0</td>\n",
       "      <td>1.0</td>\n",
       "      <td>0.80</td>\n",
       "      <td>12.0</td>\n",
       "      <td>9.40</td>\n",
       "      <td>0.0</td>\n",
       "      <td>44.0</td>\n",
       "      <td>1.97</td>\n",
       "      <td>2.0</td>\n",
       "      <td>1290.0</td>\n",
       "      <td>0.01</td>\n",
       "      <td>0.61</td>\n",
       "    </tr>\n",
       "    <tr>\n",
       "      <th>1</th>\n",
       "      <td>130.0</td>\n",
       "      <td>4.0</td>\n",
       "      <td>1.0</td>\n",
       "      <td>0.83</td>\n",
       "      <td>15.0</td>\n",
       "      <td>14.47</td>\n",
       "      <td>0.0</td>\n",
       "      <td>55.0</td>\n",
       "      <td>0.06</td>\n",
       "      <td>2.0</td>\n",
       "      <td>1206.0</td>\n",
       "      <td>0.00</td>\n",
       "      <td>0.54</td>\n",
       "    </tr>\n",
       "  </tbody>\n",
       "</table>\n",
       "</div>"
      ],
      "text/plain": [
       "      la   nd   ns   ent  nrev  rtime  self  ndev   age  app   rrexp  asawr  \\\n",
       "0  194.0  2.0  1.0  0.80  12.0   9.40   0.0  44.0  1.97  2.0  1290.0   0.01   \n",
       "1  130.0  4.0  1.0  0.83  15.0  14.47   0.0  55.0  0.06  2.0  1206.0   0.00   \n",
       "\n",
       "   rsawr  \n",
       "0   0.61  \n",
       "1   0.54  "
      ]
     },
     "metadata": {},
     "output_type": "display_data"
    }
   ],
   "source": [
    "print(\"Type of pyExp_rule_obj['synthetic_data'] - \", type(created_rule_obj['synthetic_data']), \"\\n\")\n",
    "\n",
    "print('Example')\n",
    "display(created_rule_obj['synthetic_data'].head(2))"
   ]
  },
  {
   "cell_type": "markdown",
   "id": "quality-examination",
   "metadata": {},
   "source": [
    "### Synthetic_predictions\n",
    "\n",
    "Synthetic_predictions is the prediction of Synthetic_data, which is obtained from the global model inside PyExplainer."
   ]
  },
  {
   "cell_type": "code",
   "execution_count": 12,
   "id": "funny-ranch",
   "metadata": {},
   "outputs": [
    {
     "name": "stdout",
     "output_type": "stream",
     "text": [
      "Type of pyExp_rule_obj['synthetic_predictions'] -  <class 'numpy.ndarray'> \n",
      "\n",
      "Example \n",
      "\n",
      " [False  True False ...  True  True  True]\n"
     ]
    }
   ],
   "source": [
    "print(\"Type of pyExp_rule_obj['synthetic_predictions'] - \", type(created_rule_obj['synthetic_predictions']), \"\\n\")\n",
    "print(\"Example\", \"\\n\\n\", created_rule_obj['synthetic_predictions'])"
   ]
  },
  {
   "cell_type": "markdown",
   "id": "removable-behalf",
   "metadata": {},
   "source": [
    "### X_explain\n",
    "\n",
    "X_explain is an instance to be explained (which is a defective commit in this context)"
   ]
  },
  {
   "cell_type": "code",
   "execution_count": 15,
   "id": "compound-jewel",
   "metadata": {},
   "outputs": [
    {
     "name": "stdout",
     "output_type": "stream",
     "text": [
      "Type of pyExp_rule_obj['X_explain'] -  <class 'pandas.core.frame.DataFrame'> \n",
      "\n",
      "Example\n"
     ]
    },
    {
     "data": {
      "text/html": [
       "<div>\n",
       "<style scoped>\n",
       "    .dataframe tbody tr th:only-of-type {\n",
       "        vertical-align: middle;\n",
       "    }\n",
       "\n",
       "    .dataframe tbody tr th {\n",
       "        vertical-align: top;\n",
       "    }\n",
       "\n",
       "    .dataframe thead th {\n",
       "        text-align: right;\n",
       "    }\n",
       "</style>\n",
       "<table border=\"1\" class=\"dataframe\">\n",
       "  <thead>\n",
       "    <tr style=\"text-align: right;\">\n",
       "      <th></th>\n",
       "      <th>la</th>\n",
       "      <th>nd</th>\n",
       "      <th>ns</th>\n",
       "      <th>ent</th>\n",
       "      <th>nrev</th>\n",
       "      <th>rtime</th>\n",
       "      <th>self</th>\n",
       "      <th>ndev</th>\n",
       "      <th>age</th>\n",
       "      <th>app</th>\n",
       "      <th>rrexp</th>\n",
       "      <th>asawr</th>\n",
       "      <th>rsawr</th>\n",
       "    </tr>\n",
       "    <tr>\n",
       "      <th>commit_id</th>\n",
       "      <th></th>\n",
       "      <th></th>\n",
       "      <th></th>\n",
       "      <th></th>\n",
       "      <th></th>\n",
       "      <th></th>\n",
       "      <th></th>\n",
       "      <th></th>\n",
       "      <th></th>\n",
       "      <th></th>\n",
       "      <th></th>\n",
       "      <th></th>\n",
       "      <th></th>\n",
       "    </tr>\n",
       "  </thead>\n",
       "  <tbody>\n",
       "    <tr>\n",
       "      <th>a9a59ccbacafd6eb94f57861cfc28f5a24f474db</th>\n",
       "      <td>155</td>\n",
       "      <td>3</td>\n",
       "      <td>1</td>\n",
       "      <td>0.736602</td>\n",
       "      <td>12.0</td>\n",
       "      <td>32.516586</td>\n",
       "      <td>0</td>\n",
       "      <td>70.0</td>\n",
       "      <td>0.669703</td>\n",
       "      <td>3.0</td>\n",
       "      <td>2374.0</td>\n",
       "      <td>0.143199</td>\n",
       "      <td>0.390069</td>\n",
       "    </tr>\n",
       "  </tbody>\n",
       "</table>\n",
       "</div>"
      ],
      "text/plain": [
       "                                           la  nd  ns       ent  nrev  \\\n",
       "commit_id                                                               \n",
       "a9a59ccbacafd6eb94f57861cfc28f5a24f474db  155   3   1  0.736602  12.0   \n",
       "\n",
       "                                              rtime  self  ndev       age  \\\n",
       "commit_id                                                                   \n",
       "a9a59ccbacafd6eb94f57861cfc28f5a24f474db  32.516586     0  70.0  0.669703   \n",
       "\n",
       "                                          app   rrexp     asawr     rsawr  \n",
       "commit_id                                                                  \n",
       "a9a59ccbacafd6eb94f57861cfc28f5a24f474db  3.0  2374.0  0.143199  0.390069  "
      ]
     },
     "metadata": {},
     "output_type": "display_data"
    }
   ],
   "source": [
    "print(\"Type of pyExp_rule_obj['X_explain'] - \", type(created_rule_obj['X_explain']), \"\\n\")\n",
    "\n",
    "print('Example')\n",
    "display(created_rule_obj['X_explain'])"
   ]
  },
  {
   "cell_type": "markdown",
   "id": "ongoing-drilling",
   "metadata": {},
   "source": [
    "### y_explain\n",
    "\n",
    "y_explain is a label of X_explain "
   ]
  },
  {
   "cell_type": "code",
   "execution_count": 18,
   "id": "antique-straight",
   "metadata": {},
   "outputs": [
    {
     "name": "stdout",
     "output_type": "stream",
     "text": [
      "Type of pyExp_rule_obj['y_explain'] -  <class 'pandas.core.series.Series'> \n",
      "\n",
      "Example \n",
      "\n",
      " commit_id\n",
      "a9a59ccbacafd6eb94f57861cfc28f5a24f474db    True\n",
      "Name: defect, dtype: bool\n"
     ]
    }
   ],
   "source": [
    "print(\"Type of pyExp_rule_obj['y_explain'] - \", type(created_rule_obj['y_explain']), \"\\n\")\n",
    "print(\"Example\", \"\\n\\n\", created_rule_obj['y_explain'])"
   ]
  },
  {
   "cell_type": "markdown",
   "id": "narrative-senator",
   "metadata": {},
   "source": [
    "### indep\n",
    "#### indep is feature names of X_explain"
   ]
  },
  {
   "cell_type": "code",
   "execution_count": 19,
   "id": "sized-valuable",
   "metadata": {},
   "outputs": [
    {
     "name": "stdout",
     "output_type": "stream",
     "text": [
      "Type of pyExp_rule_obj['indep'] -  <class 'pandas.core.indexes.base.Index'> \n",
      "\n",
      "Example \n",
      "\n",
      " Index(['la', 'nd', 'ns', 'ent', 'nrev', 'rtime', 'self', 'ndev', 'age', 'app',\n",
      "       'rrexp', 'asawr', 'rsawr'],\n",
      "      dtype='object')\n"
     ]
    }
   ],
   "source": [
    "print(\"Type of pyExp_rule_obj['indep'] - \", type(created_rule_obj['indep']), \"\\n\")\n",
    "print(\"Example\", \"\\n\\n\", created_rule_obj['indep'])"
   ]
  },
  {
   "cell_type": "markdown",
   "id": "atlantic-charles",
   "metadata": {},
   "source": [
    "### dep\n",
    "#### dep is a label name"
   ]
  },
  {
   "cell_type": "code",
   "execution_count": 20,
   "id": "moral-collectible",
   "metadata": {},
   "outputs": [
    {
     "name": "stdout",
     "output_type": "stream",
     "text": [
      "Type of pyExp_rule_obj['dep'] -  <class 'str'> \n",
      "\n",
      "Example \n",
      "\n",
      " defect\n"
     ]
    }
   ],
   "source": [
    "print(\"Type of pyExp_rule_obj['dep'] - \", type(created_rule_obj['dep']), \"\\n\")\n",
    "print(\"Example\", \"\\n\\n\", created_rule_obj['dep'])"
   ]
  },
  {
   "cell_type": "markdown",
   "id": "compact-willow",
   "metadata": {},
   "source": [
    "### top_k_positive_rules\n",
    "\n",
    "top_k_positive_rules is top-k rules that are genereated by PyExplainer to explain why a commit is predicted as defective.\n",
    "\n",
    "Here we show top-3 rules that lead to defective commits="
   ]
  },
  {
   "cell_type": "code",
   "execution_count": 26,
   "id": "measured-miller",
   "metadata": {},
   "outputs": [
    {
     "name": "stdout",
     "output_type": "stream",
     "text": [
      "Type of pyExp_rule_obj['top_k_positive_rules'] -  <class 'pandas.core.frame.DataFrame'> \n",
      "\n",
      "Example\n"
     ]
    },
    {
     "data": {
      "text/html": [
       "<div>\n",
       "<style scoped>\n",
       "    .dataframe tbody tr th:only-of-type {\n",
       "        vertical-align: middle;\n",
       "    }\n",
       "\n",
       "    .dataframe tbody tr th {\n",
       "        vertical-align: top;\n",
       "    }\n",
       "\n",
       "    .dataframe thead th {\n",
       "        text-align: right;\n",
       "    }\n",
       "</style>\n",
       "<table border=\"1\" class=\"dataframe\">\n",
       "  <thead>\n",
       "    <tr style=\"text-align: right;\">\n",
       "      <th></th>\n",
       "      <th>index</th>\n",
       "      <th>rule</th>\n",
       "      <th>type</th>\n",
       "      <th>coef</th>\n",
       "      <th>support</th>\n",
       "      <th>importance</th>\n",
       "      <th>is_satisfy_instance</th>\n",
       "    </tr>\n",
       "  </thead>\n",
       "  <tbody>\n",
       "    <tr>\n",
       "      <th>0</th>\n",
       "      <td>572</td>\n",
       "      <td>la &lt;= 104.84500122070312 &amp; ndev &gt; 71.319999694...</td>\n",
       "      <td>rule</td>\n",
       "      <td>0.220501</td>\n",
       "      <td>0.232376</td>\n",
       "      <td>0.093128</td>\n",
       "      <td>True</td>\n",
       "    </tr>\n",
       "    <tr>\n",
       "      <th>1</th>\n",
       "      <td>359</td>\n",
       "      <td>la &gt; 103.68999862670898 &amp; nrev &gt; 8.11499977111...</td>\n",
       "      <td>rule</td>\n",
       "      <td>0.167275</td>\n",
       "      <td>0.237598</td>\n",
       "      <td>0.071194</td>\n",
       "      <td>True</td>\n",
       "    </tr>\n",
       "    <tr>\n",
       "      <th>2</th>\n",
       "      <td>98</td>\n",
       "      <td>app &lt;= 3.9550000429153442 &amp; ndev &lt;= 103.875 &amp; ...</td>\n",
       "      <td>rule</td>\n",
       "      <td>0.136704</td>\n",
       "      <td>0.631854</td>\n",
       "      <td>0.065933</td>\n",
       "      <td>True</td>\n",
       "    </tr>\n",
       "  </tbody>\n",
       "</table>\n",
       "</div>"
      ],
      "text/plain": [
       "   index                                               rule  type      coef  \\\n",
       "0    572  la <= 104.84500122070312 & ndev > 71.319999694...  rule  0.220501   \n",
       "1    359  la > 103.68999862670898 & nrev > 8.11499977111...  rule  0.167275   \n",
       "2     98  app <= 3.9550000429153442 & ndev <= 103.875 & ...  rule  0.136704   \n",
       "\n",
       "    support  importance is_satisfy_instance  \n",
       "0  0.232376    0.093128                True  \n",
       "1  0.237598    0.071194                True  \n",
       "2  0.631854    0.065933                True  "
      ]
     },
     "metadata": {},
     "output_type": "display_data"
    }
   ],
   "source": [
    "print(\"Type of pyExp_rule_obj['top_k_positive_rules'] - \", type(created_rule_obj['top_k_positive_rules']), \"\\n\")\n",
    "print('Example')\n",
    "display(created_rule_obj['top_k_positive_rules'].head(3))"
   ]
  },
  {
   "cell_type": "markdown",
   "id": "employed-choir",
   "metadata": {},
   "source": [
    "### top_k_negative_rules\n",
    "\n",
    "top_k_negative_rules is top-k negative rules that are genereated by PyExplainer to explain why a commit is predicted as clean.\n",
    "\n",
    "The default number of generated rules is 3.\n"
   ]
  },
  {
   "cell_type": "code",
   "execution_count": 27,
   "id": "opposite-ownership",
   "metadata": {},
   "outputs": [
    {
     "name": "stdout",
     "output_type": "stream",
     "text": [
      "Type of pyExp_rule_obj['top_k_negative_rules'] -  <class 'pandas.core.frame.DataFrame'> \n",
      "\n",
      "Example\n"
     ]
    },
    {
     "data": {
      "text/html": [
       "<div>\n",
       "<style scoped>\n",
       "    .dataframe tbody tr th:only-of-type {\n",
       "        vertical-align: middle;\n",
       "    }\n",
       "\n",
       "    .dataframe tbody tr th {\n",
       "        vertical-align: top;\n",
       "    }\n",
       "\n",
       "    .dataframe thead th {\n",
       "        text-align: right;\n",
       "    }\n",
       "</style>\n",
       "<table border=\"1\" class=\"dataframe\">\n",
       "  <thead>\n",
       "    <tr style=\"text-align: right;\">\n",
       "      <th></th>\n",
       "      <th>rule</th>\n",
       "      <th>type</th>\n",
       "      <th>coef</th>\n",
       "      <th>support</th>\n",
       "      <th>importance</th>\n",
       "      <th>Class</th>\n",
       "    </tr>\n",
       "  </thead>\n",
       "  <tbody>\n",
       "    <tr>\n",
       "      <th>820</th>\n",
       "      <td>ent &lt;= 0.9350000023841858 &amp; app &gt; 2.9900000095...</td>\n",
       "      <td>rule</td>\n",
       "      <td>-0.216263</td>\n",
       "      <td>0.389034</td>\n",
       "      <td>0.105435</td>\n",
       "      <td>Clean</td>\n",
       "    </tr>\n",
       "    <tr>\n",
       "      <th>1609</th>\n",
       "      <td>app &lt;= 4.009999990463257 &amp; app &gt; 2.99000000953...</td>\n",
       "      <td>rule</td>\n",
       "      <td>-0.206549</td>\n",
       "      <td>0.428198</td>\n",
       "      <td>0.102204</td>\n",
       "      <td>Clean</td>\n",
       "    </tr>\n",
       "    <tr>\n",
       "      <th>323</th>\n",
       "      <td>la &lt;= 104.84500122070312 &amp; ndev &lt;= 71.31999969...</td>\n",
       "      <td>rule</td>\n",
       "      <td>-0.173105</td>\n",
       "      <td>0.391645</td>\n",
       "      <td>0.084496</td>\n",
       "      <td>Clean</td>\n",
       "    </tr>\n",
       "  </tbody>\n",
       "</table>\n",
       "</div>"
      ],
      "text/plain": [
       "                                                   rule  type      coef  \\\n",
       "820   ent <= 0.9350000023841858 & app > 2.9900000095...  rule -0.216263   \n",
       "1609  app <= 4.009999990463257 & app > 2.99000000953...  rule -0.206549   \n",
       "323   la <= 104.84500122070312 & ndev <= 71.31999969...  rule -0.173105   \n",
       "\n",
       "       support  importance  Class  \n",
       "820   0.389034    0.105435  Clean  \n",
       "1609  0.428198    0.102204  Clean  \n",
       "323   0.391645    0.084496  Clean  "
      ]
     },
     "metadata": {},
     "output_type": "display_data"
    }
   ],
   "source": [
    "print(\"Type of pyExp_rule_obj['top_k_negative_rules'] - \", type(created_rule_obj['top_k_negative_rules']), \"\\n\")\n",
    "print('Example')\n",
    "display(created_rule_obj['top_k_negative_rules'])"
   ]
  },
  {
   "cell_type": "markdown",
   "id": "written-insertion",
   "metadata": {},
   "source": [
    "# Bug Report Channel\n",
    "#### Please report <a href=\"https://github.com/awsm-research/pyExplainer/issues\">here</a>\n",
    "#### 📧 or email your report to michaelfu1998@gmail.com"
   ]
  }
 ],
 "metadata": {
  "kernelspec": {
   "display_name": "Python 3",
   "language": "python",
   "name": "python3"
  },
  "language_info": {
   "codemirror_mode": {
    "name": "ipython",
    "version": 3
   },
   "file_extension": ".py",
   "mimetype": "text/x-python",
   "name": "python",
   "nbconvert_exporter": "python",
   "pygments_lexer": "ipython3",
   "version": "3.8.8"
  },
  "varInspector": {
   "cols": {
    "lenName": 16,
    "lenType": 16,
    "lenVar": 40
   },
   "kernels_config": {
    "python": {
     "delete_cmd_postfix": "",
     "delete_cmd_prefix": "del ",
     "library": "var_list.py",
     "varRefreshCmd": "print(var_dic_list())"
    },
    "r": {
     "delete_cmd_postfix": ") ",
     "delete_cmd_prefix": "rm(",
     "library": "var_list.r",
     "varRefreshCmd": "cat(var_dic_list()) "
    }
   },
   "types_to_exclude": [
    "module",
    "function",
    "builtin_function_or_method",
    "instance",
    "_Feature"
   ],
   "window_display": false
  }
 },
 "nbformat": 4,
 "nbformat_minor": 5
}
