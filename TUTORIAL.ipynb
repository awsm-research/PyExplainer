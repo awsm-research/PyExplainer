{
 "cells": [
  {
   "cell_type": "markdown",
   "id": "italic-seafood",
   "metadata": {},
   "source": [
    "# <center> Welcome to PyExplainer Quickstart Guide </center>"
   ]
  },
  {
   "cell_type": "markdown",
   "id": "northern-birmingham",
   "metadata": {},
   "source": [
    "# Top Note - MUST READ !!\n",
    "#### 1. When initialising the PyExplainer object, you should prepare 5 necessary parameters and follow the data type \n",
    "(1) X_train (pd.core.frame.DataFrame) - feature columns from training data <br><br> \n",
    "(2) y_train (pd.core.series.Series) - label column from training data <br><br>\n",
    "(3) indep (pd.core.indexes.base.Index) - names of feature columns > most of the time, you can get it by 'X_explain.columns' <br><br>\n",
    "(4) dep (str) - name of label column<br><br>\n",
    "(5) blackbox_model (any supervised classification model trained from sklearn lib) - model trained from sklearn lib<br><br>\n",
    "\n",
    "#### 2. When using the explain() function under PyExplainer object, you should prepare 2 parameters and follow the data type\n",
    "(1) X_explain (pd.core.frame.DataFrame) - one row of feature data <br><br> \n",
    "(2) y_explain (pd.core.series.Series) - one row of predicted data \n",
    "\n",
    "#### 3. Be careful when using the custom pandas index for Series and DataFrame \n",
    "In our Full Tutorial (PART B) example, the FileName column was used as the custom index.<br>  \n",
    "However, it is fine if you don't have custom index, pandas will generate default row index starting from 0.<br><br>\n",
    "If you do want to make use of custom index, make sure to use it consistently, whenever you do the data processing.<br><br>\n",
    "Otherwise, some of your data may have pandas default index while the others have your custom index, <br><br>\n",
    "which will trigger errors whenever you try to combine your DataFrame and Series. "
   ]
  },
  {
   "cell_type": "markdown",
   "id": "conscious-roommate",
   "metadata": {},
   "source": [
    "---"
   ]
  },
  {
   "cell_type": "markdown",
   "id": "employed-intensity",
   "metadata": {},
   "source": [
    "# PART A - Quick Start"
   ]
  },
  {
   "cell_type": "markdown",
   "id": "deadly-immigration",
   "metadata": {},
   "source": [
    "## 1. Prepare data and model\n",
    "\n",
    "Note. We use the default data and model here for an example"
   ]
  },
  {
   "cell_type": "markdown",
   "id": "higher-cooling",
   "metadata": {},
   "source": [
    "### 1.1 Import required library"
   ]
  },
  {
   "cell_type": "code",
   "execution_count": 1,
   "id": "harmful-morocco",
   "metadata": {},
   "outputs": [],
   "source": [
    "from pyexplainer import pyexplainer_pyexplainer"
   ]
  },
  {
   "cell_type": "markdown",
   "id": "practical-jenny",
   "metadata": {},
   "source": [
    "### 1.2 Obtain default dataset and global model (Random Forest)"
   ]
  },
  {
   "cell_type": "code",
   "execution_count": 2,
   "id": "employed-adobe",
   "metadata": {},
   "outputs": [
    {
     "name": "stderr",
     "output_type": "stream",
     "text": [
      "/home/michael/.local/lib/python3.8/site-packages/sklearn/base.py:310: UserWarning: Trying to unpickle estimator DecisionTreeClassifier from version 0.24.1 when using version 0.24.2. This might lead to breaking code or invalid results. Use at your own risk.\n",
      "  warnings.warn(\n",
      "/home/michael/.local/lib/python3.8/site-packages/sklearn/base.py:310: UserWarning: Trying to unpickle estimator RandomForestClassifier from version 0.24.1 when using version 0.24.2. This might lead to breaking code or invalid results. Use at your own risk.\n",
      "  warnings.warn(\n"
     ]
    }
   ],
   "source": [
    "default_data_and_model = pyexplainer_pyexplainer.get_dflt()\n",
    "py_explainer = pyexplainer_pyexplainer.PyExplainer(X_train = default_data_and_model['X_train'],\n",
    "                           y_train = default_data_and_model['y_train'],\n",
    "                           indep = default_data_and_model['indep'],\n",
    "                           dep = default_data_and_model['dep'],\n",
    "                           blackbox_model = default_data_and_model['blackbox_model'])"
   ]
  },
  {
   "cell_type": "markdown",
   "id": "informational-disclosure",
   "metadata": {},
   "source": [
    "## 🔧2. Create PyExplainer object "
   ]
  },
  {
   "cell_type": "markdown",
   "id": "anticipated-tourism",
   "metadata": {},
   "source": [
    "### 2.1 Prepare data for creating PyExplainer"
   ]
  },
  {
   "cell_type": "code",
   "execution_count": 3,
   "id": "abstract-disposal",
   "metadata": {},
   "outputs": [],
   "source": [
    "X_explain = default_data_and_model['X_explain']\n",
    "y_explain = default_data_and_model['y_explain']"
   ]
  },
  {
   "cell_type": "markdown",
   "id": "inside-republic",
   "metadata": {},
   "source": [
    "### 2.2 Create rules"
   ]
  },
  {
   "cell_type": "code",
   "execution_count": 4,
   "id": "spatial-wrong",
   "metadata": {},
   "outputs": [],
   "source": [
    "created_rules = py_explainer.explain(X_explain=X_explain,\n",
    "                                     y_explain=y_explain,\n",
    "                                     search_function='crossoverinterpolation')"
   ]
  },
  {
   "cell_type": "markdown",
   "id": "engaging-ridge",
   "metadata": {},
   "source": [
    "## 3. Create interactive visualization\n",
    "\n",
    "You can change feature values at the slider bar to observe change of risk score."
   ]
  },
  {
   "cell_type": "code",
   "execution_count": 5,
   "id": "second-trout",
   "metadata": {},
   "outputs": [
    {
     "data": {
      "application/vnd.jupyter.widget-view+json": {
       "model_id": "624d689344184caba0762f5069051a8a",
       "version_major": 2,
       "version_minor": 0
      },
      "text/plain": [
       "HBox(children=(Label(value='Risk Score: '), FloatProgress(value=0.0, bar_style='info', layout=Layout(width='40…"
      ]
     },
     "metadata": {},
     "output_type": "display_data"
    },
    {
     "data": {
      "application/vnd.jupyter.widget-view+json": {
       "model_id": "5154235e3f3c4207919cdd6a402d9657",
       "version_major": 2,
       "version_minor": 0
      },
      "text/plain": [
       "Output(layout=Layout(border='3px solid black'))"
      ]
     },
     "metadata": {},
     "output_type": "display_data"
    },
    {
     "data": {
      "application/vnd.jupyter.widget-view+json": {
       "model_id": "f11f8baff9fe4dd2a6eb9fa6d19388ba",
       "version_major": 2,
       "version_minor": 0
      },
      "text/plain": [
       "FloatSlider(value=70.0, continuous_update=False, description='#1 The value of ndev is more than 70.0', layout=…"
      ]
     },
     "metadata": {},
     "output_type": "display_data"
    },
    {
     "data": {
      "application/vnd.jupyter.widget-view+json": {
       "model_id": "e5894270a53249ad98aaf44e6b2e7ff9",
       "version_major": 2,
       "version_minor": 0
      },
      "text/plain": [
       "FloatSlider(value=2374.0, continuous_update=False, description='#2 The value of rrexp is more than 2374.0', la…"
      ]
     },
     "metadata": {},
     "output_type": "display_data"
    },
    {
     "data": {
      "application/vnd.jupyter.widget-view+json": {
       "model_id": "44869ae374234a17ac44c800fbcdde27",
       "version_major": 2,
       "version_minor": 0
      },
      "text/plain": [
       "FloatSlider(value=0.67, continuous_update=False, description='#3 The value of age is less than 0.67', layout=L…"
      ]
     },
     "metadata": {},
     "output_type": "display_data"
    }
   ],
   "source": [
    "py_explainer.visualise(created_rules)"
   ]
  },
  {
   "cell_type": "markdown",
   "id": "strategic-vertical",
   "metadata": {},
   "source": [
    "# PART B - Full Tutorial"
   ]
  },
  {
   "cell_type": "markdown",
   "id": "italic-services",
   "metadata": {},
   "source": [
    "## 1. Prepare sample data and model"
   ]
  },
  {
   "cell_type": "markdown",
   "id": "front-programmer",
   "metadata": {},
   "source": [
    "### 1.1 For the simplicity, we load the sample DataFrame that is included in the package already"
   ]
  },
  {
   "cell_type": "code",
   "execution_count": 6,
   "id": "removable-problem",
   "metadata": {},
   "outputs": [
    {
     "data": {
      "text/html": [
       "<div>\n",
       "<style scoped>\n",
       "    .dataframe tbody tr th:only-of-type {\n",
       "        vertical-align: middle;\n",
       "    }\n",
       "\n",
       "    .dataframe tbody tr th {\n",
       "        vertical-align: top;\n",
       "    }\n",
       "\n",
       "    .dataframe thead th {\n",
       "        text-align: right;\n",
       "    }\n",
       "</style>\n",
       "<table border=\"1\" class=\"dataframe\">\n",
       "  <thead>\n",
       "    <tr style=\"text-align: right;\">\n",
       "      <th></th>\n",
       "      <th>File</th>\n",
       "      <th>CountDeclMethodPrivate</th>\n",
       "      <th>AvgLineCode</th>\n",
       "      <th>CountLine</th>\n",
       "      <th>MaxCyclomatic</th>\n",
       "      <th>CountDeclMethodDefault</th>\n",
       "      <th>AvgEssential</th>\n",
       "      <th>CountDeclClassVariable</th>\n",
       "      <th>SumCyclomaticStrict</th>\n",
       "      <th>AvgCyclomatic</th>\n",
       "      <th>...</th>\n",
       "      <th>OWN_LINE</th>\n",
       "      <th>OWN_COMMIT</th>\n",
       "      <th>MINOR_COMMIT</th>\n",
       "      <th>MINOR_LINE</th>\n",
       "      <th>MAJOR_COMMIT</th>\n",
       "      <th>MAJOR_LINE</th>\n",
       "      <th>RealBug</th>\n",
       "      <th>HeuBug</th>\n",
       "      <th>HeuBugCount</th>\n",
       "      <th>RealBugCount</th>\n",
       "    </tr>\n",
       "  </thead>\n",
       "  <tbody>\n",
       "    <tr>\n",
       "      <th>0</th>\n",
       "      <td>activemq-console/src/main/java/org/apache/acti...</td>\n",
       "      <td>0</td>\n",
       "      <td>10</td>\n",
       "      <td>171</td>\n",
       "      <td>5</td>\n",
       "      <td>0</td>\n",
       "      <td>2</td>\n",
       "      <td>0</td>\n",
       "      <td>18</td>\n",
       "      <td>2</td>\n",
       "      <td>...</td>\n",
       "      <td>1.00000</td>\n",
       "      <td>1.0</td>\n",
       "      <td>0</td>\n",
       "      <td>1</td>\n",
       "      <td>1</td>\n",
       "      <td>0</td>\n",
       "      <td>False</td>\n",
       "      <td>False</td>\n",
       "      <td>0</td>\n",
       "      <td>0</td>\n",
       "    </tr>\n",
       "    <tr>\n",
       "      <th>1</th>\n",
       "      <td>activemq-console/src/main/java/org/apache/acti...</td>\n",
       "      <td>0</td>\n",
       "      <td>8</td>\n",
       "      <td>123</td>\n",
       "      <td>5</td>\n",
       "      <td>0</td>\n",
       "      <td>1</td>\n",
       "      <td>1</td>\n",
       "      <td>15</td>\n",
       "      <td>3</td>\n",
       "      <td>...</td>\n",
       "      <td>0.98374</td>\n",
       "      <td>0.5</td>\n",
       "      <td>0</td>\n",
       "      <td>1</td>\n",
       "      <td>2</td>\n",
       "      <td>1</td>\n",
       "      <td>False</td>\n",
       "      <td>False</td>\n",
       "      <td>0</td>\n",
       "      <td>0</td>\n",
       "    </tr>\n",
       "    <tr>\n",
       "      <th>2</th>\n",
       "      <td>activemq-console/src/main/java/org/apache/acti...</td>\n",
       "      <td>0</td>\n",
       "      <td>7</td>\n",
       "      <td>136</td>\n",
       "      <td>5</td>\n",
       "      <td>0</td>\n",
       "      <td>1</td>\n",
       "      <td>1</td>\n",
       "      <td>16</td>\n",
       "      <td>2</td>\n",
       "      <td>...</td>\n",
       "      <td>1.00000</td>\n",
       "      <td>1.0</td>\n",
       "      <td>0</td>\n",
       "      <td>1</td>\n",
       "      <td>1</td>\n",
       "      <td>0</td>\n",
       "      <td>False</td>\n",
       "      <td>False</td>\n",
       "      <td>0</td>\n",
       "      <td>0</td>\n",
       "    </tr>\n",
       "  </tbody>\n",
       "</table>\n",
       "<p>3 rows × 70 columns</p>\n",
       "</div>"
      ],
      "text/plain": [
       "                                                File  CountDeclMethodPrivate  \\\n",
       "0  activemq-console/src/main/java/org/apache/acti...                       0   \n",
       "1  activemq-console/src/main/java/org/apache/acti...                       0   \n",
       "2  activemq-console/src/main/java/org/apache/acti...                       0   \n",
       "\n",
       "   AvgLineCode  CountLine  MaxCyclomatic  CountDeclMethodDefault  \\\n",
       "0           10        171              5                       0   \n",
       "1            8        123              5                       0   \n",
       "2            7        136              5                       0   \n",
       "\n",
       "   AvgEssential  CountDeclClassVariable  SumCyclomaticStrict  AvgCyclomatic  \\\n",
       "0             2                       0                   18              2   \n",
       "1             1                       1                   15              3   \n",
       "2             1                       1                   16              2   \n",
       "\n",
       "   ...  OWN_LINE  OWN_COMMIT  MINOR_COMMIT  MINOR_LINE  MAJOR_COMMIT  \\\n",
       "0  ...   1.00000         1.0             0           1             1   \n",
       "1  ...   0.98374         0.5             0           1             2   \n",
       "2  ...   1.00000         1.0             0           1             1   \n",
       "\n",
       "   MAJOR_LINE  RealBug  HeuBug  HeuBugCount  RealBugCount  \n",
       "0           0    False   False            0             0  \n",
       "1           1    False   False            0             0  \n",
       "2           0    False   False            0             0  \n",
       "\n",
       "[3 rows x 70 columns]"
      ]
     },
     "execution_count": 6,
     "metadata": {},
     "output_type": "execute_result"
    }
   ],
   "source": [
    "import pandas as pd\n",
    "import numpy as np\n",
    "from pyexplainer import pyexplainer_pyexplainer\n",
    "\n",
    "df = pyexplainer_pyexplainer.load_sample_data()\n",
    "df.head(3)"
   ]
  },
  {
   "cell_type": "markdown",
   "id": "connected-occurrence",
   "metadata": {},
   "source": [
    "### 1.2 Define index column (OPTIONAL) and drop unwanted columns\n",
    "##### First, we set 'File' col as index col since it is the file that we wanna inspect, and it has nothing to do with features or label\n",
    "##### We use 'RealBug' as the label col, and the cols before 'RealBug' as feature cols\n",
    "##### Then we drop unnecessary cols (e.g. File, HeuBug, HeuBugCount, RealBugCount)"
   ]
  },
  {
   "cell_type": "code",
   "execution_count": 7,
   "id": "median-moisture",
   "metadata": {},
   "outputs": [
    {
     "data": {
      "text/html": [
       "<div>\n",
       "<style scoped>\n",
       "    .dataframe tbody tr th:only-of-type {\n",
       "        vertical-align: middle;\n",
       "    }\n",
       "\n",
       "    .dataframe tbody tr th {\n",
       "        vertical-align: top;\n",
       "    }\n",
       "\n",
       "    .dataframe thead th {\n",
       "        text-align: right;\n",
       "    }\n",
       "</style>\n",
       "<table border=\"1\" class=\"dataframe\">\n",
       "  <thead>\n",
       "    <tr style=\"text-align: right;\">\n",
       "      <th></th>\n",
       "      <th>CountDeclMethodPrivate</th>\n",
       "      <th>AvgLineCode</th>\n",
       "      <th>CountLine</th>\n",
       "      <th>MaxCyclomatic</th>\n",
       "      <th>CountDeclMethodDefault</th>\n",
       "      <th>AvgEssential</th>\n",
       "      <th>CountDeclClassVariable</th>\n",
       "      <th>SumCyclomaticStrict</th>\n",
       "      <th>AvgCyclomatic</th>\n",
       "      <th>AvgLine</th>\n",
       "      <th>...</th>\n",
       "      <th>DDEV</th>\n",
       "      <th>Added_lines</th>\n",
       "      <th>Del_lines</th>\n",
       "      <th>OWN_LINE</th>\n",
       "      <th>OWN_COMMIT</th>\n",
       "      <th>MINOR_COMMIT</th>\n",
       "      <th>MINOR_LINE</th>\n",
       "      <th>MAJOR_COMMIT</th>\n",
       "      <th>MAJOR_LINE</th>\n",
       "      <th>RealBug</th>\n",
       "    </tr>\n",
       "    <tr>\n",
       "      <th>File</th>\n",
       "      <th></th>\n",
       "      <th></th>\n",
       "      <th></th>\n",
       "      <th></th>\n",
       "      <th></th>\n",
       "      <th></th>\n",
       "      <th></th>\n",
       "      <th></th>\n",
       "      <th></th>\n",
       "      <th></th>\n",
       "      <th></th>\n",
       "      <th></th>\n",
       "      <th></th>\n",
       "      <th></th>\n",
       "      <th></th>\n",
       "      <th></th>\n",
       "      <th></th>\n",
       "      <th></th>\n",
       "      <th></th>\n",
       "      <th></th>\n",
       "      <th></th>\n",
       "    </tr>\n",
       "  </thead>\n",
       "  <tbody>\n",
       "    <tr>\n",
       "      <th>activemq-console/src/main/java/org/apache/activemq/console/command/AbstractAmqCommand.java</th>\n",
       "      <td>0</td>\n",
       "      <td>10</td>\n",
       "      <td>171</td>\n",
       "      <td>5</td>\n",
       "      <td>0</td>\n",
       "      <td>2</td>\n",
       "      <td>0</td>\n",
       "      <td>18</td>\n",
       "      <td>2</td>\n",
       "      <td>18</td>\n",
       "      <td>...</td>\n",
       "      <td>1</td>\n",
       "      <td>32</td>\n",
       "      <td>18</td>\n",
       "      <td>1.00000</td>\n",
       "      <td>1.0</td>\n",
       "      <td>0</td>\n",
       "      <td>1</td>\n",
       "      <td>1</td>\n",
       "      <td>0</td>\n",
       "      <td>False</td>\n",
       "    </tr>\n",
       "    <tr>\n",
       "      <th>activemq-console/src/main/java/org/apache/activemq/console/command/AbstractCommand.java</th>\n",
       "      <td>0</td>\n",
       "      <td>8</td>\n",
       "      <td>123</td>\n",
       "      <td>5</td>\n",
       "      <td>0</td>\n",
       "      <td>1</td>\n",
       "      <td>1</td>\n",
       "      <td>15</td>\n",
       "      <td>3</td>\n",
       "      <td>17</td>\n",
       "      <td>...</td>\n",
       "      <td>2</td>\n",
       "      <td>30</td>\n",
       "      <td>28</td>\n",
       "      <td>0.98374</td>\n",
       "      <td>0.5</td>\n",
       "      <td>0</td>\n",
       "      <td>1</td>\n",
       "      <td>2</td>\n",
       "      <td>1</td>\n",
       "      <td>False</td>\n",
       "    </tr>\n",
       "    <tr>\n",
       "      <th>activemq-console/src/main/java/org/apache/activemq/console/command/AbstractJmxCommand.java</th>\n",
       "      <td>0</td>\n",
       "      <td>7</td>\n",
       "      <td>136</td>\n",
       "      <td>5</td>\n",
       "      <td>0</td>\n",
       "      <td>1</td>\n",
       "      <td>1</td>\n",
       "      <td>16</td>\n",
       "      <td>2</td>\n",
       "      <td>13</td>\n",
       "      <td>...</td>\n",
       "      <td>1</td>\n",
       "      <td>8</td>\n",
       "      <td>8</td>\n",
       "      <td>1.00000</td>\n",
       "      <td>1.0</td>\n",
       "      <td>0</td>\n",
       "      <td>1</td>\n",
       "      <td>1</td>\n",
       "      <td>0</td>\n",
       "      <td>False</td>\n",
       "    </tr>\n",
       "  </tbody>\n",
       "</table>\n",
       "<p>3 rows × 66 columns</p>\n",
       "</div>"
      ],
      "text/plain": [
       "                                                    CountDeclMethodPrivate  \\\n",
       "File                                                                         \n",
       "activemq-console/src/main/java/org/apache/activ...                       0   \n",
       "activemq-console/src/main/java/org/apache/activ...                       0   \n",
       "activemq-console/src/main/java/org/apache/activ...                       0   \n",
       "\n",
       "                                                    AvgLineCode  CountLine  \\\n",
       "File                                                                         \n",
       "activemq-console/src/main/java/org/apache/activ...           10        171   \n",
       "activemq-console/src/main/java/org/apache/activ...            8        123   \n",
       "activemq-console/src/main/java/org/apache/activ...            7        136   \n",
       "\n",
       "                                                    MaxCyclomatic  \\\n",
       "File                                                                \n",
       "activemq-console/src/main/java/org/apache/activ...              5   \n",
       "activemq-console/src/main/java/org/apache/activ...              5   \n",
       "activemq-console/src/main/java/org/apache/activ...              5   \n",
       "\n",
       "                                                    CountDeclMethodDefault  \\\n",
       "File                                                                         \n",
       "activemq-console/src/main/java/org/apache/activ...                       0   \n",
       "activemq-console/src/main/java/org/apache/activ...                       0   \n",
       "activemq-console/src/main/java/org/apache/activ...                       0   \n",
       "\n",
       "                                                    AvgEssential  \\\n",
       "File                                                               \n",
       "activemq-console/src/main/java/org/apache/activ...             2   \n",
       "activemq-console/src/main/java/org/apache/activ...             1   \n",
       "activemq-console/src/main/java/org/apache/activ...             1   \n",
       "\n",
       "                                                    CountDeclClassVariable  \\\n",
       "File                                                                         \n",
       "activemq-console/src/main/java/org/apache/activ...                       0   \n",
       "activemq-console/src/main/java/org/apache/activ...                       1   \n",
       "activemq-console/src/main/java/org/apache/activ...                       1   \n",
       "\n",
       "                                                    SumCyclomaticStrict  \\\n",
       "File                                                                      \n",
       "activemq-console/src/main/java/org/apache/activ...                   18   \n",
       "activemq-console/src/main/java/org/apache/activ...                   15   \n",
       "activemq-console/src/main/java/org/apache/activ...                   16   \n",
       "\n",
       "                                                    AvgCyclomatic  AvgLine  \\\n",
       "File                                                                         \n",
       "activemq-console/src/main/java/org/apache/activ...              2       18   \n",
       "activemq-console/src/main/java/org/apache/activ...              3       17   \n",
       "activemq-console/src/main/java/org/apache/activ...              2       13   \n",
       "\n",
       "                                                    ...  DDEV  Added_lines  \\\n",
       "File                                                ...                      \n",
       "activemq-console/src/main/java/org/apache/activ...  ...     1           32   \n",
       "activemq-console/src/main/java/org/apache/activ...  ...     2           30   \n",
       "activemq-console/src/main/java/org/apache/activ...  ...     1            8   \n",
       "\n",
       "                                                    Del_lines  OWN_LINE  \\\n",
       "File                                                                      \n",
       "activemq-console/src/main/java/org/apache/activ...         18   1.00000   \n",
       "activemq-console/src/main/java/org/apache/activ...         28   0.98374   \n",
       "activemq-console/src/main/java/org/apache/activ...          8   1.00000   \n",
       "\n",
       "                                                    OWN_COMMIT  MINOR_COMMIT  \\\n",
       "File                                                                           \n",
       "activemq-console/src/main/java/org/apache/activ...         1.0             0   \n",
       "activemq-console/src/main/java/org/apache/activ...         0.5             0   \n",
       "activemq-console/src/main/java/org/apache/activ...         1.0             0   \n",
       "\n",
       "                                                    MINOR_LINE  MAJOR_COMMIT  \\\n",
       "File                                                                           \n",
       "activemq-console/src/main/java/org/apache/activ...           1             1   \n",
       "activemq-console/src/main/java/org/apache/activ...           1             2   \n",
       "activemq-console/src/main/java/org/apache/activ...           1             1   \n",
       "\n",
       "                                                    MAJOR_LINE  RealBug  \n",
       "File                                                                     \n",
       "activemq-console/src/main/java/org/apache/activ...           0    False  \n",
       "activemq-console/src/main/java/org/apache/activ...           1    False  \n",
       "activemq-console/src/main/java/org/apache/activ...           0    False  \n",
       "\n",
       "[3 rows x 66 columns]"
      ]
     },
     "execution_count": 7,
     "metadata": {},
     "output_type": "execute_result"
    }
   ],
   "source": [
    "df = df.set_index(df['File'])\n",
    "df = df.drop(['File', 'HeuBug', 'HeuBugCount', 'RealBugCount'], axis=1)\n",
    "df.head(3)"
   ]
  },
  {
   "cell_type": "markdown",
   "id": "advance-wilderness",
   "metadata": {},
   "source": [
    "### 1.3 Define feature cols (X), and label col (y)"
   ]
  },
  {
   "cell_type": "code",
   "execution_count": 8,
   "id": "growing-scale",
   "metadata": {},
   "outputs": [
    {
     "name": "stdout",
     "output_type": "stream",
     "text": [
      "feature cols: \n",
      "\n",
      "                                                     CountDeclMethodPrivate  \\\n",
      "File                                                                         \n",
      "activemq-console/src/main/java/org/apache/activ...                       0   \n",
      "\n",
      "                                                    AvgLineCode  CountLine  \\\n",
      "File                                                                         \n",
      "activemq-console/src/main/java/org/apache/activ...           10        171   \n",
      "\n",
      "                                                    MaxCyclomatic  \\\n",
      "File                                                                \n",
      "activemq-console/src/main/java/org/apache/activ...              5   \n",
      "\n",
      "                                                    CountDeclMethodDefault  \\\n",
      "File                                                                         \n",
      "activemq-console/src/main/java/org/apache/activ...                       0   \n",
      "\n",
      "                                                    AvgEssential  \\\n",
      "File                                                               \n",
      "activemq-console/src/main/java/org/apache/activ...             2   \n",
      "\n",
      "                                                    CountDeclClassVariable  \\\n",
      "File                                                                         \n",
      "activemq-console/src/main/java/org/apache/activ...                       0   \n",
      "\n",
      "                                                    SumCyclomaticStrict  \\\n",
      "File                                                                      \n",
      "activemq-console/src/main/java/org/apache/activ...                   18   \n",
      "\n",
      "                                                    AvgCyclomatic  AvgLine  \\\n",
      "File                                                                         \n",
      "activemq-console/src/main/java/org/apache/activ...              2       18   \n",
      "\n",
      "                                                    ...  ADEV  DDEV  \\\n",
      "File                                                ...               \n",
      "activemq-console/src/main/java/org/apache/activ...  ...     1     1   \n",
      "\n",
      "                                                    Added_lines  Del_lines  \\\n",
      "File                                                                         \n",
      "activemq-console/src/main/java/org/apache/activ...           32         18   \n",
      "\n",
      "                                                    OWN_LINE  OWN_COMMIT  \\\n",
      "File                                                                       \n",
      "activemq-console/src/main/java/org/apache/activ...       1.0         1.0   \n",
      "\n",
      "                                                    MINOR_COMMIT  MINOR_LINE  \\\n",
      "File                                                                           \n",
      "activemq-console/src/main/java/org/apache/activ...             0           1   \n",
      "\n",
      "                                                    MAJOR_COMMIT  MAJOR_LINE  \n",
      "File                                                                          \n",
      "activemq-console/src/main/java/org/apache/activ...             1           0  \n",
      "\n",
      "[1 rows x 65 columns] \n",
      "\n",
      "\n",
      "label col: \n",
      "\n",
      " File\n",
      "activemq-console/src/main/java/org/apache/activemq/console/command/AbstractAmqCommand.java    False\n",
      "Name: RealBug, dtype: bool\n"
     ]
    }
   ],
   "source": [
    "# select all rows, and all feature cols\n",
    "# the last col, which is label col, is not selected\n",
    "X = df.iloc[:, :-1]\n",
    "# select all rows, and the last label col\n",
    "y = df.iloc[:, -1]\n",
    "\n",
    "print('feature cols:', '\\n\\n', X.head(1), '\\n\\n')\n",
    "print('label col:', '\\n\\n', y.head(1))"
   ]
  },
  {
   "cell_type": "markdown",
   "id": "offshore-cattle",
   "metadata": {},
   "source": [
    "### 1.4 Split data into training and testing set"
   ]
  },
  {
   "cell_type": "code",
   "execution_count": 9,
   "id": "absolute-diversity",
   "metadata": {},
   "outputs": [],
   "source": [
    "from sklearn.model_selection import train_test_split\n",
    "# 70% training and 30% test\n",
    "X_train, X_test, y_train, y_test = train_test_split(X, y, test_size=0.3) "
   ]
  },
  {
   "cell_type": "markdown",
   "id": "fewer-webmaster",
   "metadata": {},
   "source": [
    "## 2. Training and Predicting"
   ]
  },
  {
   "cell_type": "markdown",
   "id": "increased-queensland",
   "metadata": {},
   "source": [
    "### 2.1 Train a RandomForest model using sklearn"
   ]
  },
  {
   "cell_type": "code",
   "execution_count": 10,
   "id": "lesser-coupon",
   "metadata": {},
   "outputs": [
    {
     "data": {
      "text/plain": [
       "RandomForestClassifier(random_state=0)"
      ]
     },
     "execution_count": 10,
     "metadata": {},
     "output_type": "execute_result"
    }
   ],
   "source": [
    "from sklearn.ensemble import RandomForestClassifier\n",
    "\n",
    "rf_model = RandomForestClassifier(n_estimators=100, max_depth=None, min_samples_split=2, random_state=0)\n",
    "rf_model.fit(X_train, y_train)"
   ]
  },
  {
   "cell_type": "markdown",
   "id": "early-admission",
   "metadata": {},
   "source": [
    "### 2.2 Generate predictions"
   ]
  },
  {
   "cell_type": "code",
   "execution_count": 11,
   "id": "detailed-isaac",
   "metadata": {},
   "outputs": [
    {
     "data": {
      "text/html": [
       "<div>\n",
       "<style scoped>\n",
       "    .dataframe tbody tr th:only-of-type {\n",
       "        vertical-align: middle;\n",
       "    }\n",
       "\n",
       "    .dataframe tbody tr th {\n",
       "        vertical-align: top;\n",
       "    }\n",
       "\n",
       "    .dataframe thead th {\n",
       "        text-align: right;\n",
       "    }\n",
       "</style>\n",
       "<table border=\"1\" class=\"dataframe\">\n",
       "  <thead>\n",
       "    <tr style=\"text-align: right;\">\n",
       "      <th></th>\n",
       "      <th>PredictedBug</th>\n",
       "    </tr>\n",
       "    <tr>\n",
       "      <th>File</th>\n",
       "      <th></th>\n",
       "    </tr>\n",
       "  </thead>\n",
       "  <tbody>\n",
       "    <tr>\n",
       "      <th>activemq-core/src/main/java/org/apache/activemq/command/SubscriptionInfo.java</th>\n",
       "      <td>False</td>\n",
       "    </tr>\n",
       "    <tr>\n",
       "      <th>activemq-core/src/main/java/org/apache/activemq/kaha/impl/container/ContainerListIterator.java</th>\n",
       "      <td>False</td>\n",
       "    </tr>\n",
       "    <tr>\n",
       "      <th>activemq-core/src/test/java/org/apache/activemq/camel/CamelJmsTest.java</th>\n",
       "      <td>True</td>\n",
       "    </tr>\n",
       "  </tbody>\n",
       "</table>\n",
       "</div>"
      ],
      "text/plain": [
       "                                                    PredictedBug\n",
       "File                                                            \n",
       "activemq-core/src/main/java/org/apache/activemq...         False\n",
       "activemq-core/src/main/java/org/apache/activemq...         False\n",
       "activemq-core/src/test/java/org/apache/activemq...          True"
      ]
     },
     "execution_count": 11,
     "metadata": {},
     "output_type": "execute_result"
    }
   ],
   "source": [
    "# generate prediction from the model, which will return a list of predicted labels\n",
    "y_preds = rf_model.predict(X_test) \n",
    "# create a DataFrame which only has predicted label column\n",
    "y_preds = pd.DataFrame(data={'PredictedBug': y_preds}, index=y_test.index) \n",
    "y_preds.head(3)"
   ]
  },
  {
   "cell_type": "markdown",
   "id": "inappropriate-decline",
   "metadata": {},
   "source": [
    "## 3. Prediction post processing"
   ]
  },
  {
   "cell_type": "markdown",
   "id": "weekly-homeless",
   "metadata": {},
   "source": [
    "### 3.1 Combine feature cols, label col, and the predicted col in testing set"
   ]
  },
  {
   "cell_type": "code",
   "execution_count": 12,
   "id": "steady-comparison",
   "metadata": {},
   "outputs": [],
   "source": [
    "combined_testing_data = X_test.join(y_test.to_frame())\n",
    "combined_testing_data = combined_testing_data.join(y_preds)\n",
    "combined_testing_data.head(3)\n",
    "# total num of rows\n",
    "total_rows = len(combined_testing_data)"
   ]
  },
  {
   "cell_type": "markdown",
   "id": "viral-limit",
   "metadata": {},
   "source": [
    "### 3.2 Filter out wronly predicted rows "
   ]
  },
  {
   "cell_type": "code",
   "execution_count": 13,
   "id": "median-element",
   "metadata": {},
   "outputs": [
    {
     "name": "stdout",
     "output_type": "stream",
     "text": [
      "The model correctly predicted  90.60000000000001 % of testing data\n"
     ]
    }
   ],
   "source": [
    "correctly_predicted_data = combined_testing_data[combined_testing_data['RealBug']==combined_testing_data['PredictedBug']]\n",
    "correctly_predicted_rows = len(correctly_predicted_data)\n",
    "print('The model correctly predicted ', round((correctly_predicted_rows / total_rows), 3) * 100, '% of testing data')"
   ]
  },
  {
   "cell_type": "markdown",
   "id": "single-compression",
   "metadata": {},
   "source": [
    "### 3.3 We focus on the bug file, therefore, filter out the non-buggy file"
   ]
  },
  {
   "cell_type": "code",
   "execution_count": 14,
   "id": "welsh-aspect",
   "metadata": {},
   "outputs": [
    {
     "data": {
      "text/html": [
       "<div>\n",
       "<style scoped>\n",
       "    .dataframe tbody tr th:only-of-type {\n",
       "        vertical-align: middle;\n",
       "    }\n",
       "\n",
       "    .dataframe tbody tr th {\n",
       "        vertical-align: top;\n",
       "    }\n",
       "\n",
       "    .dataframe thead th {\n",
       "        text-align: right;\n",
       "    }\n",
       "</style>\n",
       "<table border=\"1\" class=\"dataframe\">\n",
       "  <thead>\n",
       "    <tr style=\"text-align: right;\">\n",
       "      <th></th>\n",
       "      <th>CountDeclMethodPrivate</th>\n",
       "      <th>AvgLineCode</th>\n",
       "      <th>CountLine</th>\n",
       "      <th>MaxCyclomatic</th>\n",
       "      <th>CountDeclMethodDefault</th>\n",
       "      <th>AvgEssential</th>\n",
       "      <th>CountDeclClassVariable</th>\n",
       "      <th>SumCyclomaticStrict</th>\n",
       "      <th>AvgCyclomatic</th>\n",
       "      <th>AvgLine</th>\n",
       "      <th>...</th>\n",
       "      <th>Added_lines</th>\n",
       "      <th>Del_lines</th>\n",
       "      <th>OWN_LINE</th>\n",
       "      <th>OWN_COMMIT</th>\n",
       "      <th>MINOR_COMMIT</th>\n",
       "      <th>MINOR_LINE</th>\n",
       "      <th>MAJOR_COMMIT</th>\n",
       "      <th>MAJOR_LINE</th>\n",
       "      <th>RealBug</th>\n",
       "      <th>PredictedBug</th>\n",
       "    </tr>\n",
       "    <tr>\n",
       "      <th>File</th>\n",
       "      <th></th>\n",
       "      <th></th>\n",
       "      <th></th>\n",
       "      <th></th>\n",
       "      <th></th>\n",
       "      <th></th>\n",
       "      <th></th>\n",
       "      <th></th>\n",
       "      <th></th>\n",
       "      <th></th>\n",
       "      <th></th>\n",
       "      <th></th>\n",
       "      <th></th>\n",
       "      <th></th>\n",
       "      <th></th>\n",
       "      <th></th>\n",
       "      <th></th>\n",
       "      <th></th>\n",
       "      <th></th>\n",
       "      <th></th>\n",
       "      <th></th>\n",
       "    </tr>\n",
       "  </thead>\n",
       "  <tbody>\n",
       "    <tr>\n",
       "      <th>activemq-core/src/test/java/org/apache/activemq/broker/BrokerTest.java</th>\n",
       "      <td>0</td>\n",
       "      <td>17</td>\n",
       "      <td>1666</td>\n",
       "      <td>4</td>\n",
       "      <td>0</td>\n",
       "      <td>1</td>\n",
       "      <td>0</td>\n",
       "      <td>95</td>\n",
       "      <td>2</td>\n",
       "      <td>23</td>\n",
       "      <td>...</td>\n",
       "      <td>850</td>\n",
       "      <td>877</td>\n",
       "      <td>0.535414</td>\n",
       "      <td>0.857143</td>\n",
       "      <td>0</td>\n",
       "      <td>2</td>\n",
       "      <td>2</td>\n",
       "      <td>3</td>\n",
       "      <td>True</td>\n",
       "      <td>True</td>\n",
       "    </tr>\n",
       "    <tr>\n",
       "      <th>activemq-core/src/main/java/org/apache/activemq/broker/jmx/ManagedRegionBroker.java</th>\n",
       "      <td>0</td>\n",
       "      <td>10</td>\n",
       "      <td>500</td>\n",
       "      <td>8</td>\n",
       "      <td>0</td>\n",
       "      <td>1</td>\n",
       "      <td>1</td>\n",
       "      <td>81</td>\n",
       "      <td>2</td>\n",
       "      <td>10</td>\n",
       "      <td>...</td>\n",
       "      <td>316</td>\n",
       "      <td>327</td>\n",
       "      <td>0.654000</td>\n",
       "      <td>0.625000</td>\n",
       "      <td>0</td>\n",
       "      <td>3</td>\n",
       "      <td>2</td>\n",
       "      <td>1</td>\n",
       "      <td>True</td>\n",
       "      <td>True</td>\n",
       "    </tr>\n",
       "    <tr>\n",
       "      <th>activemq-core/src/main/java/org/apache/activemq/transport/tcp/TcpTransport.java</th>\n",
       "      <td>0</td>\n",
       "      <td>5</td>\n",
       "      <td>481</td>\n",
       "      <td>9</td>\n",
       "      <td>0</td>\n",
       "      <td>1</td>\n",
       "      <td>1</td>\n",
       "      <td>71</td>\n",
       "      <td>2</td>\n",
       "      <td>7</td>\n",
       "      <td>...</td>\n",
       "      <td>199</td>\n",
       "      <td>119</td>\n",
       "      <td>0.571726</td>\n",
       "      <td>0.700000</td>\n",
       "      <td>0</td>\n",
       "      <td>3</td>\n",
       "      <td>2</td>\n",
       "      <td>1</td>\n",
       "      <td>True</td>\n",
       "      <td>True</td>\n",
       "    </tr>\n",
       "  </tbody>\n",
       "</table>\n",
       "<p>3 rows × 67 columns</p>\n",
       "</div>"
      ],
      "text/plain": [
       "                                                    CountDeclMethodPrivate  \\\n",
       "File                                                                         \n",
       "activemq-core/src/test/java/org/apache/activemq...                       0   \n",
       "activemq-core/src/main/java/org/apache/activemq...                       0   \n",
       "activemq-core/src/main/java/org/apache/activemq...                       0   \n",
       "\n",
       "                                                    AvgLineCode  CountLine  \\\n",
       "File                                                                         \n",
       "activemq-core/src/test/java/org/apache/activemq...           17       1666   \n",
       "activemq-core/src/main/java/org/apache/activemq...           10        500   \n",
       "activemq-core/src/main/java/org/apache/activemq...            5        481   \n",
       "\n",
       "                                                    MaxCyclomatic  \\\n",
       "File                                                                \n",
       "activemq-core/src/test/java/org/apache/activemq...              4   \n",
       "activemq-core/src/main/java/org/apache/activemq...              8   \n",
       "activemq-core/src/main/java/org/apache/activemq...              9   \n",
       "\n",
       "                                                    CountDeclMethodDefault  \\\n",
       "File                                                                         \n",
       "activemq-core/src/test/java/org/apache/activemq...                       0   \n",
       "activemq-core/src/main/java/org/apache/activemq...                       0   \n",
       "activemq-core/src/main/java/org/apache/activemq...                       0   \n",
       "\n",
       "                                                    AvgEssential  \\\n",
       "File                                                               \n",
       "activemq-core/src/test/java/org/apache/activemq...             1   \n",
       "activemq-core/src/main/java/org/apache/activemq...             1   \n",
       "activemq-core/src/main/java/org/apache/activemq...             1   \n",
       "\n",
       "                                                    CountDeclClassVariable  \\\n",
       "File                                                                         \n",
       "activemq-core/src/test/java/org/apache/activemq...                       0   \n",
       "activemq-core/src/main/java/org/apache/activemq...                       1   \n",
       "activemq-core/src/main/java/org/apache/activemq...                       1   \n",
       "\n",
       "                                                    SumCyclomaticStrict  \\\n",
       "File                                                                      \n",
       "activemq-core/src/test/java/org/apache/activemq...                   95   \n",
       "activemq-core/src/main/java/org/apache/activemq...                   81   \n",
       "activemq-core/src/main/java/org/apache/activemq...                   71   \n",
       "\n",
       "                                                    AvgCyclomatic  AvgLine  \\\n",
       "File                                                                         \n",
       "activemq-core/src/test/java/org/apache/activemq...              2       23   \n",
       "activemq-core/src/main/java/org/apache/activemq...              2       10   \n",
       "activemq-core/src/main/java/org/apache/activemq...              2        7   \n",
       "\n",
       "                                                    ...  Added_lines  \\\n",
       "File                                                ...                \n",
       "activemq-core/src/test/java/org/apache/activemq...  ...          850   \n",
       "activemq-core/src/main/java/org/apache/activemq...  ...          316   \n",
       "activemq-core/src/main/java/org/apache/activemq...  ...          199   \n",
       "\n",
       "                                                    Del_lines  OWN_LINE  \\\n",
       "File                                                                      \n",
       "activemq-core/src/test/java/org/apache/activemq...        877  0.535414   \n",
       "activemq-core/src/main/java/org/apache/activemq...        327  0.654000   \n",
       "activemq-core/src/main/java/org/apache/activemq...        119  0.571726   \n",
       "\n",
       "                                                    OWN_COMMIT  MINOR_COMMIT  \\\n",
       "File                                                                           \n",
       "activemq-core/src/test/java/org/apache/activemq...    0.857143             0   \n",
       "activemq-core/src/main/java/org/apache/activemq...    0.625000             0   \n",
       "activemq-core/src/main/java/org/apache/activemq...    0.700000             0   \n",
       "\n",
       "                                                    MINOR_LINE  MAJOR_COMMIT  \\\n",
       "File                                                                           \n",
       "activemq-core/src/test/java/org/apache/activemq...           2             2   \n",
       "activemq-core/src/main/java/org/apache/activemq...           3             2   \n",
       "activemq-core/src/main/java/org/apache/activemq...           3             2   \n",
       "\n",
       "                                                    MAJOR_LINE  RealBug  \\\n",
       "File                                                                      \n",
       "activemq-core/src/test/java/org/apache/activemq...           3     True   \n",
       "activemq-core/src/main/java/org/apache/activemq...           1     True   \n",
       "activemq-core/src/main/java/org/apache/activemq...           1     True   \n",
       "\n",
       "                                                    PredictedBug  \n",
       "File                                                              \n",
       "activemq-core/src/test/java/org/apache/activemq...          True  \n",
       "activemq-core/src/main/java/org/apache/activemq...          True  \n",
       "activemq-core/src/main/java/org/apache/activemq...          True  \n",
       "\n",
       "[3 rows x 67 columns]"
      ]
     },
     "execution_count": 14,
     "metadata": {},
     "output_type": "execute_result"
    }
   ],
   "source": [
    "correctly_predicted_bug = correctly_predicted_data[correctly_predicted_data['RealBug']==True]\n",
    "correctly_predicted_bug.head(3)"
   ]
  },
  {
   "cell_type": "markdown",
   "id": "systematic-equipment",
   "metadata": {},
   "source": [
    "### 3.4 Define feature cols and label col using correctly predicted testing data"
   ]
  },
  {
   "cell_type": "code",
   "execution_count": 15,
   "id": "shaped-confirmation",
   "metadata": {},
   "outputs": [],
   "source": [
    "# select all rows and feature cols\n",
    "feature_cols = correctly_predicted_bug.iloc[:, :-2]\n",
    "# selected all rows and one label col (either RealBug or PredictedBug is fine since they are the same)\n",
    "label_col = correctly_predicted_bug.iloc[:, -2]"
   ]
  },
  {
   "cell_type": "markdown",
   "id": "vocational-spending",
   "metadata": {},
   "source": [
    "### 3.5 Select one row of correctly predicted bug to be explained"
   ]
  },
  {
   "cell_type": "code",
   "execution_count": 16,
   "id": "cross-rhythm",
   "metadata": {},
   "outputs": [
    {
     "name": "stdout",
     "output_type": "stream",
     "text": [
      "one row of feature: \n",
      "\n",
      "                                                     CountDeclMethodPrivate  \\\n",
      "File                                                                         \n",
      "activemq-core/src/test/java/org/apache/activemq...                       0   \n",
      "\n",
      "                                                    AvgLineCode  CountLine  \\\n",
      "File                                                                         \n",
      "activemq-core/src/test/java/org/apache/activemq...           17       1666   \n",
      "\n",
      "                                                    MaxCyclomatic  \\\n",
      "File                                                                \n",
      "activemq-core/src/test/java/org/apache/activemq...              4   \n",
      "\n",
      "                                                    CountDeclMethodDefault  \\\n",
      "File                                                                         \n",
      "activemq-core/src/test/java/org/apache/activemq...                       0   \n",
      "\n",
      "                                                    AvgEssential  \\\n",
      "File                                                               \n",
      "activemq-core/src/test/java/org/apache/activemq...             1   \n",
      "\n",
      "                                                    CountDeclClassVariable  \\\n",
      "File                                                                         \n",
      "activemq-core/src/test/java/org/apache/activemq...                       0   \n",
      "\n",
      "                                                    SumCyclomaticStrict  \\\n",
      "File                                                                      \n",
      "activemq-core/src/test/java/org/apache/activemq...                   95   \n",
      "\n",
      "                                                    AvgCyclomatic  AvgLine  \\\n",
      "File                                                                         \n",
      "activemq-core/src/test/java/org/apache/activemq...              2       23   \n",
      "\n",
      "                                                    ...  ADEV  DDEV  \\\n",
      "File                                                ...               \n",
      "activemq-core/src/test/java/org/apache/activemq...  ...     7     2   \n",
      "\n",
      "                                                    Added_lines  Del_lines  \\\n",
      "File                                                                         \n",
      "activemq-core/src/test/java/org/apache/activemq...          850        877   \n",
      "\n",
      "                                                    OWN_LINE  OWN_COMMIT  \\\n",
      "File                                                                       \n",
      "activemq-core/src/test/java/org/apache/activemq...  0.535414    0.857143   \n",
      "\n",
      "                                                    MINOR_COMMIT  MINOR_LINE  \\\n",
      "File                                                                           \n",
      "activemq-core/src/test/java/org/apache/activemq...             0           2   \n",
      "\n",
      "                                                    MAJOR_COMMIT  MAJOR_LINE  \n",
      "File                                                                          \n",
      "activemq-core/src/test/java/org/apache/activemq...             2           3  \n",
      "\n",
      "[1 rows x 65 columns] \n",
      "\n",
      "one row of label: \n",
      "\n",
      " File\n",
      "activemq-core/src/test/java/org/apache/activemq/broker/BrokerTest.java    True\n",
      "Name: RealBug, dtype: bool\n"
     ]
    }
   ],
   "source": [
    "# decide which row to be selected\n",
    "selected_row = 0\n",
    "# select the row in X_test which contains all of the feature values\n",
    "X_explain = feature_cols.iloc[[selected_row]]\n",
    "# select the corresponding label from the DataFrame that we just created above\n",
    "y_explain = label_col.iloc[[selected_row]]\n",
    "print('one row of feature:', '\\n\\n', X_explain, '\\n')\n",
    "print('one row of label:', '\\n\\n', y_explain)"
   ]
  },
  {
   "cell_type": "markdown",
   "id": "second-overhead",
   "metadata": {},
   "source": [
    "## 4. Create rules (explanations) and visualise it !"
   ]
  },
  {
   "cell_type": "markdown",
   "id": "private-symbol",
   "metadata": {},
   "source": [
    "### 4.1 Initialise a PyExplainer object"
   ]
  },
  {
   "cell_type": "code",
   "execution_count": 17,
   "id": "coastal-assist",
   "metadata": {},
   "outputs": [],
   "source": [
    "from pyexplainer import pyexplainer_pyexplainer\n",
    "\n",
    "py_explainer = pyexplainer_pyexplainer.PyExplainer(X_train = X_train,\n",
    "                                                   y_train = y_train,\n",
    "                                                   indep = X_train.columns,\n",
    "                                                   dep = 'RealBug',\n",
    "                                                   blackbox_model = rf_model)"
   ]
  },
  {
   "cell_type": "markdown",
   "id": "fatal-leather",
   "metadata": {},
   "source": [
    "### 4.2 Create rules by triggering explain function under PyExplainer object\n",
    "##### Attention: This step can be time-consuming"
   ]
  },
  {
   "cell_type": "code",
   "execution_count": 18,
   "id": "floating-milwaukee",
   "metadata": {},
   "outputs": [],
   "source": [
    "rules = py_explainer.explain(X_explain=X_explain,\n",
    "                             y_explain=y_explain,\n",
    "                             search_function='crossoverinterpolation')"
   ]
  },
  {
   "cell_type": "markdown",
   "id": "interim-banner",
   "metadata": {},
   "source": [
    "##### Those created rules are stored in a dictionary, for more information about what is contained in each key, please refer to 'Appendix' part"
   ]
  },
  {
   "cell_type": "code",
   "execution_count": 19,
   "id": "short-atlanta",
   "metadata": {},
   "outputs": [
    {
     "data": {
      "text/plain": [
       "dict_keys(['synthetic_data', 'synthetic_predictions', 'X_explain', 'y_explain', 'indep', 'dep', 'top_k_positive_rules', 'top_k_negative_rules', 'local_rulefit_model'])"
      ]
     },
     "execution_count": 19,
     "metadata": {},
     "output_type": "execute_result"
    }
   ],
   "source": [
    "rules.keys()"
   ]
  },
  {
   "cell_type": "markdown",
   "id": "desperate-profit",
   "metadata": {},
   "source": [
    "### 4.3 Simply trigger visualise function under PyExplainer object to visualise the created rules "
   ]
  },
  {
   "cell_type": "code",
   "execution_count": 20,
   "id": "fourth-queensland",
   "metadata": {},
   "outputs": [
    {
     "data": {
      "application/vnd.jupyter.widget-view+json": {
       "model_id": "eb304996bb8d46ec8f953377ca8e24fd",
       "version_major": 2,
       "version_minor": 0
      },
      "text/plain": [
       "HBox(children=(Label(value='Risk Score: '), FloatProgress(value=0.0, bar_style='info', layout=Layout(width='40…"
      ]
     },
     "metadata": {},
     "output_type": "display_data"
    },
    {
     "data": {
      "application/vnd.jupyter.widget-view+json": {
       "model_id": "6cc4d55aa71c4ddf800cbd4e69ed7d0b",
       "version_major": 2,
       "version_minor": 0
      },
      "text/plain": [
       "Output(layout=Layout(border='3px solid black'))"
      ]
     },
     "metadata": {},
     "output_type": "display_data"
    },
    {
     "data": {
      "application/vnd.jupyter.widget-view+json": {
       "model_id": "52c53fe804ca4fc881d3f4aa07cf8c94",
       "version_major": 2,
       "version_minor": 0
      },
      "text/plain": [
       "FloatSlider(value=2.0, continuous_update=False, description='#1 The value of DDEV is more than 2', layout=Layo…"
      ]
     },
     "metadata": {},
     "output_type": "display_data"
    }
   ],
   "source": [
    "py_explainer.visualise(rules)"
   ]
  },
  {
   "cell_type": "markdown",
   "id": "olive-filename",
   "metadata": {},
   "source": [
    "# Appendix"
   ]
  },
  {
   "cell_type": "markdown",
   "id": "closed-draft",
   "metadata": {},
   "source": [
    "## The detail of variables used to to create PyExplainer"
   ]
  },
  {
   "cell_type": "markdown",
   "id": "sufficient-vault",
   "metadata": {},
   "source": [
    "### Synthetic_data\n",
    "\n",
    "Synthetic_data is data that are generated by PyExplainer using one of the following approaches.\n",
    "\n",
    "1. Crossover and Interpolation\n",
    "2. Random Perturbation.\n",
    "\n",
    "After Synthetic_data is generated, it is stored as a pandas DataFrame object. "
   ]
  },
  {
   "cell_type": "code",
   "execution_count": 22,
   "id": "vital-dynamics",
   "metadata": {},
   "outputs": [
    {
     "name": "stdout",
     "output_type": "stream",
     "text": [
      "Type of pyExp_rule_obj['synthetic_data'] -  <class 'pandas.core.frame.DataFrame'> \n",
      "\n",
      "Example\n"
     ]
    },
    {
     "data": {
      "text/html": [
       "<div>\n",
       "<style scoped>\n",
       "    .dataframe tbody tr th:only-of-type {\n",
       "        vertical-align: middle;\n",
       "    }\n",
       "\n",
       "    .dataframe tbody tr th {\n",
       "        vertical-align: top;\n",
       "    }\n",
       "\n",
       "    .dataframe thead th {\n",
       "        text-align: right;\n",
       "    }\n",
       "</style>\n",
       "<table border=\"1\" class=\"dataframe\">\n",
       "  <thead>\n",
       "    <tr style=\"text-align: right;\">\n",
       "      <th></th>\n",
       "      <th>CountDeclMethodPrivate</th>\n",
       "      <th>AvgLineCode</th>\n",
       "      <th>CountLine</th>\n",
       "      <th>MaxCyclomatic</th>\n",
       "      <th>CountDeclMethodDefault</th>\n",
       "      <th>AvgEssential</th>\n",
       "      <th>CountDeclClassVariable</th>\n",
       "      <th>SumCyclomaticStrict</th>\n",
       "      <th>AvgCyclomatic</th>\n",
       "      <th>AvgLine</th>\n",
       "      <th>...</th>\n",
       "      <th>ADEV</th>\n",
       "      <th>DDEV</th>\n",
       "      <th>Added_lines</th>\n",
       "      <th>Del_lines</th>\n",
       "      <th>OWN_LINE</th>\n",
       "      <th>OWN_COMMIT</th>\n",
       "      <th>MINOR_COMMIT</th>\n",
       "      <th>MINOR_LINE</th>\n",
       "      <th>MAJOR_COMMIT</th>\n",
       "      <th>MAJOR_LINE</th>\n",
       "    </tr>\n",
       "  </thead>\n",
       "  <tbody>\n",
       "    <tr>\n",
       "      <th>0</th>\n",
       "      <td>0.0</td>\n",
       "      <td>14.0</td>\n",
       "      <td>334.0</td>\n",
       "      <td>4.0</td>\n",
       "      <td>0.0</td>\n",
       "      <td>1.0</td>\n",
       "      <td>1.0</td>\n",
       "      <td>34.0</td>\n",
       "      <td>2.0</td>\n",
       "      <td>17.0</td>\n",
       "      <td>...</td>\n",
       "      <td>4.0</td>\n",
       "      <td>1.0</td>\n",
       "      <td>37.0</td>\n",
       "      <td>45.0</td>\n",
       "      <td>0.82</td>\n",
       "      <td>1.00</td>\n",
       "      <td>0.0</td>\n",
       "      <td>2.0</td>\n",
       "      <td>1.0</td>\n",
       "      <td>1.0</td>\n",
       "    </tr>\n",
       "    <tr>\n",
       "      <th>1</th>\n",
       "      <td>0.0</td>\n",
       "      <td>3.0</td>\n",
       "      <td>263.0</td>\n",
       "      <td>2.0</td>\n",
       "      <td>0.0</td>\n",
       "      <td>1.0</td>\n",
       "      <td>0.0</td>\n",
       "      <td>53.0</td>\n",
       "      <td>1.0</td>\n",
       "      <td>3.0</td>\n",
       "      <td>...</td>\n",
       "      <td>7.0</td>\n",
       "      <td>2.0</td>\n",
       "      <td>193.0</td>\n",
       "      <td>176.0</td>\n",
       "      <td>0.39</td>\n",
       "      <td>0.57</td>\n",
       "      <td>0.0</td>\n",
       "      <td>3.0</td>\n",
       "      <td>2.0</td>\n",
       "      <td>1.0</td>\n",
       "    </tr>\n",
       "  </tbody>\n",
       "</table>\n",
       "<p>2 rows × 65 columns</p>\n",
       "</div>"
      ],
      "text/plain": [
       "   CountDeclMethodPrivate  AvgLineCode  CountLine  MaxCyclomatic  \\\n",
       "0                     0.0         14.0      334.0            4.0   \n",
       "1                     0.0          3.0      263.0            2.0   \n",
       "\n",
       "   CountDeclMethodDefault  AvgEssential  CountDeclClassVariable  \\\n",
       "0                     0.0           1.0                     1.0   \n",
       "1                     0.0           1.0                     0.0   \n",
       "\n",
       "   SumCyclomaticStrict  AvgCyclomatic  AvgLine  ...  ADEV  DDEV  Added_lines  \\\n",
       "0                 34.0            2.0     17.0  ...   4.0   1.0         37.0   \n",
       "1                 53.0            1.0      3.0  ...   7.0   2.0        193.0   \n",
       "\n",
       "   Del_lines  OWN_LINE  OWN_COMMIT  MINOR_COMMIT  MINOR_LINE  MAJOR_COMMIT  \\\n",
       "0       45.0      0.82        1.00           0.0         2.0           1.0   \n",
       "1      176.0      0.39        0.57           0.0         3.0           2.0   \n",
       "\n",
       "   MAJOR_LINE  \n",
       "0         1.0  \n",
       "1         1.0  \n",
       "\n",
       "[2 rows x 65 columns]"
      ]
     },
     "metadata": {},
     "output_type": "display_data"
    }
   ],
   "source": [
    "print(\"Type of pyExp_rule_obj['synthetic_data'] - \", type(rules['synthetic_data']), \"\\n\")\n",
    "\n",
    "print('Example')\n",
    "display(rules['synthetic_data'].head(2))"
   ]
  },
  {
   "cell_type": "markdown",
   "id": "quality-examination",
   "metadata": {},
   "source": [
    "### Synthetic_predictions\n",
    "\n",
    "Synthetic_predictions is the prediction of Synthetic_data, which is obtained from the global model inside PyExplainer."
   ]
  },
  {
   "cell_type": "code",
   "execution_count": 23,
   "id": "funny-ranch",
   "metadata": {},
   "outputs": [
    {
     "name": "stdout",
     "output_type": "stream",
     "text": [
      "Type of pyExp_rule_obj['synthetic_predictions'] -  <class 'numpy.ndarray'> \n",
      "\n",
      "Example \n",
      "\n",
      " [False  True  True ...  True False  True]\n"
     ]
    }
   ],
   "source": [
    "print(\"Type of pyExp_rule_obj['synthetic_predictions'] - \", type(rules['synthetic_predictions']), \"\\n\")\n",
    "print(\"Example\", \"\\n\\n\", rules['synthetic_predictions'])"
   ]
  },
  {
   "cell_type": "markdown",
   "id": "removable-behalf",
   "metadata": {},
   "source": [
    "### X_explain\n",
    "\n",
    "X_explain is an instance to be explained (which is a defective commit in this context)"
   ]
  },
  {
   "cell_type": "code",
   "execution_count": 25,
   "id": "compound-jewel",
   "metadata": {},
   "outputs": [
    {
     "name": "stdout",
     "output_type": "stream",
     "text": [
      "Type of pyExp_rule_obj['X_explain'] -  <class 'pandas.core.frame.DataFrame'> \n",
      "\n",
      "Example\n"
     ]
    },
    {
     "data": {
      "text/html": [
       "<div>\n",
       "<style scoped>\n",
       "    .dataframe tbody tr th:only-of-type {\n",
       "        vertical-align: middle;\n",
       "    }\n",
       "\n",
       "    .dataframe tbody tr th {\n",
       "        vertical-align: top;\n",
       "    }\n",
       "\n",
       "    .dataframe thead th {\n",
       "        text-align: right;\n",
       "    }\n",
       "</style>\n",
       "<table border=\"1\" class=\"dataframe\">\n",
       "  <thead>\n",
       "    <tr style=\"text-align: right;\">\n",
       "      <th></th>\n",
       "      <th>CountDeclMethodPrivate</th>\n",
       "      <th>AvgLineCode</th>\n",
       "      <th>CountLine</th>\n",
       "      <th>MaxCyclomatic</th>\n",
       "      <th>CountDeclMethodDefault</th>\n",
       "      <th>AvgEssential</th>\n",
       "      <th>CountDeclClassVariable</th>\n",
       "      <th>SumCyclomaticStrict</th>\n",
       "      <th>AvgCyclomatic</th>\n",
       "      <th>AvgLine</th>\n",
       "      <th>...</th>\n",
       "      <th>ADEV</th>\n",
       "      <th>DDEV</th>\n",
       "      <th>Added_lines</th>\n",
       "      <th>Del_lines</th>\n",
       "      <th>OWN_LINE</th>\n",
       "      <th>OWN_COMMIT</th>\n",
       "      <th>MINOR_COMMIT</th>\n",
       "      <th>MINOR_LINE</th>\n",
       "      <th>MAJOR_COMMIT</th>\n",
       "      <th>MAJOR_LINE</th>\n",
       "    </tr>\n",
       "    <tr>\n",
       "      <th>File</th>\n",
       "      <th></th>\n",
       "      <th></th>\n",
       "      <th></th>\n",
       "      <th></th>\n",
       "      <th></th>\n",
       "      <th></th>\n",
       "      <th></th>\n",
       "      <th></th>\n",
       "      <th></th>\n",
       "      <th></th>\n",
       "      <th></th>\n",
       "      <th></th>\n",
       "      <th></th>\n",
       "      <th></th>\n",
       "      <th></th>\n",
       "      <th></th>\n",
       "      <th></th>\n",
       "      <th></th>\n",
       "      <th></th>\n",
       "      <th></th>\n",
       "      <th></th>\n",
       "    </tr>\n",
       "  </thead>\n",
       "  <tbody>\n",
       "    <tr>\n",
       "      <th>activemq-core/src/test/java/org/apache/activemq/broker/BrokerTest.java</th>\n",
       "      <td>0</td>\n",
       "      <td>17</td>\n",
       "      <td>1666</td>\n",
       "      <td>4</td>\n",
       "      <td>0</td>\n",
       "      <td>1</td>\n",
       "      <td>0</td>\n",
       "      <td>95</td>\n",
       "      <td>2</td>\n",
       "      <td>23</td>\n",
       "      <td>...</td>\n",
       "      <td>7</td>\n",
       "      <td>2</td>\n",
       "      <td>850</td>\n",
       "      <td>877</td>\n",
       "      <td>0.535414</td>\n",
       "      <td>0.857143</td>\n",
       "      <td>0</td>\n",
       "      <td>2</td>\n",
       "      <td>2</td>\n",
       "      <td>3</td>\n",
       "    </tr>\n",
       "  </tbody>\n",
       "</table>\n",
       "<p>1 rows × 65 columns</p>\n",
       "</div>"
      ],
      "text/plain": [
       "                                                    CountDeclMethodPrivate  \\\n",
       "File                                                                         \n",
       "activemq-core/src/test/java/org/apache/activemq...                       0   \n",
       "\n",
       "                                                    AvgLineCode  CountLine  \\\n",
       "File                                                                         \n",
       "activemq-core/src/test/java/org/apache/activemq...           17       1666   \n",
       "\n",
       "                                                    MaxCyclomatic  \\\n",
       "File                                                                \n",
       "activemq-core/src/test/java/org/apache/activemq...              4   \n",
       "\n",
       "                                                    CountDeclMethodDefault  \\\n",
       "File                                                                         \n",
       "activemq-core/src/test/java/org/apache/activemq...                       0   \n",
       "\n",
       "                                                    AvgEssential  \\\n",
       "File                                                               \n",
       "activemq-core/src/test/java/org/apache/activemq...             1   \n",
       "\n",
       "                                                    CountDeclClassVariable  \\\n",
       "File                                                                         \n",
       "activemq-core/src/test/java/org/apache/activemq...                       0   \n",
       "\n",
       "                                                    SumCyclomaticStrict  \\\n",
       "File                                                                      \n",
       "activemq-core/src/test/java/org/apache/activemq...                   95   \n",
       "\n",
       "                                                    AvgCyclomatic  AvgLine  \\\n",
       "File                                                                         \n",
       "activemq-core/src/test/java/org/apache/activemq...              2       23   \n",
       "\n",
       "                                                    ...  ADEV  DDEV  \\\n",
       "File                                                ...               \n",
       "activemq-core/src/test/java/org/apache/activemq...  ...     7     2   \n",
       "\n",
       "                                                    Added_lines  Del_lines  \\\n",
       "File                                                                         \n",
       "activemq-core/src/test/java/org/apache/activemq...          850        877   \n",
       "\n",
       "                                                    OWN_LINE  OWN_COMMIT  \\\n",
       "File                                                                       \n",
       "activemq-core/src/test/java/org/apache/activemq...  0.535414    0.857143   \n",
       "\n",
       "                                                    MINOR_COMMIT  MINOR_LINE  \\\n",
       "File                                                                           \n",
       "activemq-core/src/test/java/org/apache/activemq...             0           2   \n",
       "\n",
       "                                                    MAJOR_COMMIT  MAJOR_LINE  \n",
       "File                                                                          \n",
       "activemq-core/src/test/java/org/apache/activemq...             2           3  \n",
       "\n",
       "[1 rows x 65 columns]"
      ]
     },
     "metadata": {},
     "output_type": "display_data"
    }
   ],
   "source": [
    "print(\"Type of pyExp_rule_obj['X_explain'] - \", type(rules['X_explain']), \"\\n\")\n",
    "\n",
    "print('Example')\n",
    "display(rules['X_explain'])"
   ]
  },
  {
   "cell_type": "markdown",
   "id": "ongoing-drilling",
   "metadata": {},
   "source": [
    "### y_explain\n",
    "\n",
    "y_explain is a label of X_explain "
   ]
  },
  {
   "cell_type": "code",
   "execution_count": 26,
   "id": "antique-straight",
   "metadata": {},
   "outputs": [
    {
     "name": "stdout",
     "output_type": "stream",
     "text": [
      "Type of pyExp_rule_obj['y_explain'] -  <class 'pandas.core.series.Series'> \n",
      "\n",
      "Example \n",
      "\n",
      " File\n",
      "activemq-core/src/test/java/org/apache/activemq/broker/BrokerTest.java    True\n",
      "Name: RealBug, dtype: bool\n"
     ]
    }
   ],
   "source": [
    "print(\"Type of pyExp_rule_obj['y_explain'] - \", type(rules['y_explain']), \"\\n\")\n",
    "print(\"Example\", \"\\n\\n\", rules['y_explain'])"
   ]
  },
  {
   "cell_type": "markdown",
   "id": "narrative-senator",
   "metadata": {},
   "source": [
    "### indep\n",
    "#### indep is feature names of X_explain"
   ]
  },
  {
   "cell_type": "code",
   "execution_count": 27,
   "id": "sized-valuable",
   "metadata": {},
   "outputs": [
    {
     "name": "stdout",
     "output_type": "stream",
     "text": [
      "Type of pyExp_rule_obj['indep'] -  <class 'pandas.core.indexes.base.Index'> \n",
      "\n",
      "Example \n",
      "\n",
      " Index(['CountDeclMethodPrivate', 'AvgLineCode', 'CountLine', 'MaxCyclomatic',\n",
      "       'CountDeclMethodDefault', 'AvgEssential', 'CountDeclClassVariable',\n",
      "       'SumCyclomaticStrict', 'AvgCyclomatic', 'AvgLine',\n",
      "       'CountDeclClassMethod', 'AvgLineComment', 'AvgCyclomaticModified',\n",
      "       'CountDeclFunction', 'CountLineComment', 'CountDeclClass',\n",
      "       'CountDeclMethod', 'SumCyclomaticModified', 'CountLineCodeDecl',\n",
      "       'CountDeclMethodProtected', 'CountDeclInstanceVariable',\n",
      "       'MaxCyclomaticStrict', 'CountDeclMethodPublic', 'CountLineCodeExe',\n",
      "       'SumCyclomatic', 'SumEssential', 'CountStmtDecl', 'CountLineCode',\n",
      "       'CountStmtExe', 'RatioCommentToCode', 'CountLineBlank', 'CountStmt',\n",
      "       'MaxCyclomaticModified', 'CountSemicolon', 'AvgLineBlank',\n",
      "       'CountDeclInstanceMethod', 'AvgCyclomaticStrict',\n",
      "       'PercentLackOfCohesion', 'MaxInheritanceTree', 'CountClassDerived',\n",
      "       'CountClassCoupled', 'CountClassBase', 'CountInput_Max',\n",
      "       'CountInput_Mean', 'CountInput_Min', 'CountOutput_Max',\n",
      "       'CountOutput_Mean', 'CountOutput_Min', 'CountPath_Max',\n",
      "       'CountPath_Mean', 'CountPath_Min', 'MaxNesting_Max', 'MaxNesting_Mean',\n",
      "       'MaxNesting_Min', 'COMM', 'ADEV', 'DDEV', 'Added_lines', 'Del_lines',\n",
      "       'OWN_LINE', 'OWN_COMMIT', 'MINOR_COMMIT', 'MINOR_LINE', 'MAJOR_COMMIT',\n",
      "       'MAJOR_LINE'],\n",
      "      dtype='object')\n"
     ]
    }
   ],
   "source": [
    "print(\"Type of pyExp_rule_obj['indep'] - \", type(rules['indep']), \"\\n\")\n",
    "print(\"Example\", \"\\n\\n\", rules['indep'])"
   ]
  },
  {
   "cell_type": "markdown",
   "id": "atlantic-charles",
   "metadata": {},
   "source": [
    "### dep\n",
    "#### dep is a label name"
   ]
  },
  {
   "cell_type": "code",
   "execution_count": 28,
   "id": "moral-collectible",
   "metadata": {},
   "outputs": [
    {
     "name": "stdout",
     "output_type": "stream",
     "text": [
      "Type of pyExp_rule_obj['dep'] -  <class 'str'> \n",
      "\n",
      "Example \n",
      "\n",
      " RealBug\n"
     ]
    }
   ],
   "source": [
    "print(\"Type of pyExp_rule_obj['dep'] - \", type(rules['dep']), \"\\n\")\n",
    "print(\"Example\", \"\\n\\n\", rules['dep'])"
   ]
  },
  {
   "cell_type": "markdown",
   "id": "compact-willow",
   "metadata": {},
   "source": [
    "### top_k_positive_rules\n",
    "\n",
    "top_k_positive_rules is top-k rules that are genereated by PyExplainer to explain why a commit is predicted as defective.\n",
    "\n",
    "Here we show top-3 rules that lead to defective commits="
   ]
  },
  {
   "cell_type": "code",
   "execution_count": 29,
   "id": "measured-miller",
   "metadata": {},
   "outputs": [
    {
     "name": "stdout",
     "output_type": "stream",
     "text": [
      "Type of pyExp_rule_obj['top_k_positive_rules'] -  <class 'pandas.core.frame.DataFrame'> \n",
      "\n",
      "Example\n"
     ]
    },
    {
     "data": {
      "text/html": [
       "<div>\n",
       "<style scoped>\n",
       "    .dataframe tbody tr th:only-of-type {\n",
       "        vertical-align: middle;\n",
       "    }\n",
       "\n",
       "    .dataframe tbody tr th {\n",
       "        vertical-align: top;\n",
       "    }\n",
       "\n",
       "    .dataframe thead th {\n",
       "        text-align: right;\n",
       "    }\n",
       "</style>\n",
       "<table border=\"1\" class=\"dataframe\">\n",
       "  <thead>\n",
       "    <tr style=\"text-align: right;\">\n",
       "      <th></th>\n",
       "      <th>index</th>\n",
       "      <th>rule</th>\n",
       "      <th>type</th>\n",
       "      <th>coef</th>\n",
       "      <th>support</th>\n",
       "      <th>importance</th>\n",
       "      <th>is_satisfy_instance</th>\n",
       "    </tr>\n",
       "  </thead>\n",
       "  <tbody>\n",
       "    <tr>\n",
       "      <th>0</th>\n",
       "      <td>438</td>\n",
       "      <td>SumCyclomaticModified &gt; 38.095001220703125 &amp; M...</td>\n",
       "      <td>rule</td>\n",
       "      <td>2.569322e-23</td>\n",
       "      <td>0.565333</td>\n",
       "      <td>1.273647e-23</td>\n",
       "      <td>True</td>\n",
       "    </tr>\n",
       "    <tr>\n",
       "      <th>1</th>\n",
       "      <td>360</td>\n",
       "      <td>SumCyclomaticModified &gt; 36.19499969482422 &amp; MA...</td>\n",
       "      <td>rule</td>\n",
       "      <td>2.567754e-23</td>\n",
       "      <td>0.565333</td>\n",
       "      <td>1.272870e-23</td>\n",
       "      <td>True</td>\n",
       "    </tr>\n",
       "    <tr>\n",
       "      <th>2</th>\n",
       "      <td>72</td>\n",
       "      <td>SumCyclomatic &gt; 24.269999504089355 &amp; DDEV &gt; 1....</td>\n",
       "      <td>rule</td>\n",
       "      <td>2.583166e-23</td>\n",
       "      <td>0.594667</td>\n",
       "      <td>1.268222e-23</td>\n",
       "      <td>True</td>\n",
       "    </tr>\n",
       "  </tbody>\n",
       "</table>\n",
       "</div>"
      ],
      "text/plain": [
       "   index                                               rule  type  \\\n",
       "0    438  SumCyclomaticModified > 38.095001220703125 & M...  rule   \n",
       "1    360  SumCyclomaticModified > 36.19499969482422 & MA...  rule   \n",
       "2     72  SumCyclomatic > 24.269999504089355 & DDEV > 1....  rule   \n",
       "\n",
       "           coef   support    importance is_satisfy_instance  \n",
       "0  2.569322e-23  0.565333  1.273647e-23                True  \n",
       "1  2.567754e-23  0.565333  1.272870e-23                True  \n",
       "2  2.583166e-23  0.594667  1.268222e-23                True  "
      ]
     },
     "metadata": {},
     "output_type": "display_data"
    }
   ],
   "source": [
    "print(\"Type of pyExp_rule_obj['top_k_positive_rules'] - \", type(rules['top_k_positive_rules']), \"\\n\")\n",
    "print('Example')\n",
    "display(rules['top_k_positive_rules'].head(3))"
   ]
  },
  {
   "cell_type": "markdown",
   "id": "employed-choir",
   "metadata": {},
   "source": [
    "### top_k_negative_rules\n",
    "\n",
    "top_k_negative_rules is top-k negative rules that are genereated by PyExplainer to explain why a commit is predicted as clean.\n",
    "\n",
    "The default number of generated rules is 3.\n"
   ]
  },
  {
   "cell_type": "code",
   "execution_count": 30,
   "id": "opposite-ownership",
   "metadata": {},
   "outputs": [
    {
     "name": "stdout",
     "output_type": "stream",
     "text": [
      "Type of pyExp_rule_obj['top_k_negative_rules'] -  <class 'pandas.core.frame.DataFrame'> \n",
      "\n",
      "Example\n"
     ]
    },
    {
     "data": {
      "text/html": [
       "<div>\n",
       "<style scoped>\n",
       "    .dataframe tbody tr th:only-of-type {\n",
       "        vertical-align: middle;\n",
       "    }\n",
       "\n",
       "    .dataframe tbody tr th {\n",
       "        vertical-align: top;\n",
       "    }\n",
       "\n",
       "    .dataframe thead th {\n",
       "        text-align: right;\n",
       "    }\n",
       "</style>\n",
       "<table border=\"1\" class=\"dataframe\">\n",
       "  <thead>\n",
       "    <tr style=\"text-align: right;\">\n",
       "      <th></th>\n",
       "      <th>rule</th>\n",
       "      <th>type</th>\n",
       "      <th>coef</th>\n",
       "      <th>support</th>\n",
       "      <th>importance</th>\n",
       "      <th>Class</th>\n",
       "    </tr>\n",
       "  </thead>\n",
       "  <tbody>\n",
       "    <tr>\n",
       "      <th>635</th>\n",
       "      <td>MAJOR_COMMIT &lt;= 1.5</td>\n",
       "      <td>rule</td>\n",
       "      <td>-2.038902e-23</td>\n",
       "      <td>0.376000</td>\n",
       "      <td>9.876034e-24</td>\n",
       "      <td>Clean</td>\n",
       "    </tr>\n",
       "    <tr>\n",
       "      <th>593</th>\n",
       "      <td>DDEV &lt;= 1.5099999904632568</td>\n",
       "      <td>rule</td>\n",
       "      <td>-2.038902e-23</td>\n",
       "      <td>0.354667</td>\n",
       "      <td>9.754356e-24</td>\n",
       "      <td>Clean</td>\n",
       "    </tr>\n",
       "    <tr>\n",
       "      <th>1263</th>\n",
       "      <td>DDEV &lt;= 1.5049999952316284 &amp; DDEV &lt;= 1.4950000...</td>\n",
       "      <td>rule</td>\n",
       "      <td>-2.031868e-23</td>\n",
       "      <td>0.349333</td>\n",
       "      <td>9.687124e-24</td>\n",
       "      <td>Clean</td>\n",
       "    </tr>\n",
       "  </tbody>\n",
       "</table>\n",
       "</div>"
      ],
      "text/plain": [
       "                                                   rule  type          coef  \\\n",
       "635                                 MAJOR_COMMIT <= 1.5  rule -2.038902e-23   \n",
       "593                          DDEV <= 1.5099999904632568  rule -2.038902e-23   \n",
       "1263  DDEV <= 1.5049999952316284 & DDEV <= 1.4950000...  rule -2.031868e-23   \n",
       "\n",
       "       support    importance  Class  \n",
       "635   0.376000  9.876034e-24  Clean  \n",
       "593   0.354667  9.754356e-24  Clean  \n",
       "1263  0.349333  9.687124e-24  Clean  "
      ]
     },
     "metadata": {},
     "output_type": "display_data"
    }
   ],
   "source": [
    "print(\"Type of pyExp_rule_obj['top_k_negative_rules'] - \", type(rules['top_k_negative_rules']), \"\\n\")\n",
    "print('Example')\n",
    "display(rules['top_k_negative_rules'])"
   ]
  },
  {
   "cell_type": "markdown",
   "id": "written-insertion",
   "metadata": {},
   "source": [
    "# Bug Report Channel\n",
    "#### Please report <a href=\"https://github.com/awsm-research/pyExplainer/issues\">here</a>\n",
    "#### 📧 or email your report to michaelfu1998@gmail.com"
   ]
  }
 ],
 "metadata": {
  "kernelspec": {
   "display_name": "Python (xfmr)",
   "language": "python",
   "name": "xfmr"
  },
  "language_info": {
   "codemirror_mode": {
    "name": "ipython",
    "version": 3
   },
   "file_extension": ".py",
   "mimetype": "text/x-python",
   "name": "python",
   "nbconvert_exporter": "python",
   "pygments_lexer": "ipython3",
   "version": "3.8.5"
  },
  "varInspector": {
   "cols": {
    "lenName": 16,
    "lenType": 16,
    "lenVar": 40
   },
   "kernels_config": {
    "python": {
     "delete_cmd_postfix": "",
     "delete_cmd_prefix": "del ",
     "library": "var_list.py",
     "varRefreshCmd": "print(var_dic_list())"
    },
    "r": {
     "delete_cmd_postfix": ") ",
     "delete_cmd_prefix": "rm(",
     "library": "var_list.r",
     "varRefreshCmd": "cat(var_dic_list()) "
    }
   },
   "types_to_exclude": [
    "module",
    "function",
    "builtin_function_or_method",
    "instance",
    "_Feature"
   ],
   "window_display": false
  }
 },
 "nbformat": 4,
 "nbformat_minor": 5
}
