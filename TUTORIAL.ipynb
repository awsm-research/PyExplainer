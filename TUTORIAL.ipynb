{
 "cells": [
  {
   "cell_type": "markdown",
   "id": "italic-seafood",
   "metadata": {},
   "source": [
    "# <center> Welcome to PyExplainer Quickstart Guide </center>"
   ]
  },
  {
   "cell_type": "markdown",
   "id": "outer-diabetes",
   "metadata": {},
   "source": [
    "# Top Note - MUST READ !!\n",
    "#### 1. When initialising the PyExplainer object, you should prepare 5 necessary parameters and follow the data type \n",
    "(1) X_train (pd.core.frame.DataFrame) - feature columns from training data <br><br> \n",
    "(2) y_train (pd.core.series.Series) - label column from training data <br><br>\n",
    "(3) indep (pd.core.indexes.base.Index) - names of feature columns > most of the time, you can get it by 'X_explain.columns' <br><br>\n",
    "(4) dep (str) - name of label column<br><br>\n",
    "(5) blackbox_model (any supervised classification model trained from sklearn lib) - model trained from sklearn lib<br><br>\n",
    "\n",
    "#### 2. When using the explain() function under PyExplainer object, you should prepare 2 parameters and follow the data type\n",
    "(1) X_explain (pd.core.frame.DataFrame) - one row of feature data <br><br> \n",
    "(2) y_explain (pd.core.series.Series) - one row of predicted data \n",
    "\n",
    "#### 3. Be careful when using the custom pandas index for Series and DataFrame \n",
    "In our Full Tutorial (PART B) example, the FileName column was used as the custom index.<br>  \n",
    "However, it is fine if you don't have custom index, pandas will generate default row index starting from 0.<br><br>\n",
    "If you do want to make use of custom index, make sure to use it consistently, whenever you do the data processing.<br><br>\n",
    "Otherwise, some of your data may have pandas default index while the others have your custom index, <br><br>\n",
    "which will trigger errors whenever you try to combine your DataFrame and Series. "
   ]
  },
  {
   "cell_type": "markdown",
   "id": "arbitrary-third",
   "metadata": {},
   "source": [
    "---"
   ]
  },
  {
   "cell_type": "markdown",
   "id": "connected-gallery",
   "metadata": {},
   "source": [
    "# PART A - Quick Start"
   ]
  },
  {
   "cell_type": "markdown",
   "id": "deadly-immigration",
   "metadata": {},
   "source": [
    "## 1. Prepare data and model\n",
    "\n",
    "Note. We use the default data and model here for an example"
   ]
  },
  {
   "cell_type": "markdown",
   "id": "higher-cooling",
   "metadata": {},
   "source": [
    "### 1.1 Import required library"
   ]
  },
  {
   "cell_type": "code",
   "execution_count": 1,
   "id": "harmful-morocco",
   "metadata": {},
   "outputs": [],
   "source": [
    "from pyexplainer import pyexplainer_pyexplainer"
   ]
  },
  {
   "cell_type": "markdown",
   "id": "practical-jenny",
   "metadata": {},
   "source": [
    "### 1.2 Obtain default dataset and global model (Random Forest)"
   ]
  },
  {
   "cell_type": "code",
   "execution_count": 2,
   "id": "employed-adobe",
   "metadata": {},
   "outputs": [],
   "source": [
    "default_data_and_model = pyexplainer_pyexplainer.get_dflt()\n",
    "py_explainer = pyexplainer_pyexplainer.PyExplainer(X_train = default_data_and_model['X_train'],\n",
    "                           y_train = default_data_and_model['y_train'],\n",
    "                           indep = default_data_and_model['indep'],\n",
    "                           dep = default_data_and_model['dep'],\n",
    "                           blackbox_model = default_data_and_model['blackbox_model'])"
   ]
  },
  {
   "cell_type": "markdown",
   "id": "informational-disclosure",
   "metadata": {},
   "source": [
    "## 🔧2. Create PyExplainer object "
   ]
  },
  {
   "cell_type": "markdown",
   "id": "anticipated-tourism",
   "metadata": {},
   "source": [
    "### 2.1 Prepare data for creating PyExplainer"
   ]
  },
  {
   "cell_type": "code",
   "execution_count": 3,
   "id": "abstract-disposal",
   "metadata": {},
   "outputs": [],
   "source": [
    "X_explain = default_data_and_model['X_explain']\n",
    "y_explain = default_data_and_model['y_explain']"
   ]
  },
  {
   "cell_type": "markdown",
   "id": "inside-republic",
   "metadata": {},
   "source": [
    "### 2.2 Create rules"
   ]
  },
  {
   "cell_type": "code",
   "execution_count": 4,
   "id": "spatial-wrong",
   "metadata": {},
   "outputs": [],
   "source": [
    "created_rules = py_explainer.explain(X_explain=X_explain,\n",
    "                                     y_explain=y_explain,\n",
    "                                     search_function='crossoverinterpolation')"
   ]
  },
  {
   "cell_type": "markdown",
   "id": "engaging-ridge",
   "metadata": {},
   "source": [
    "## 3. Create interactive visualization\n",
    "\n",
    "You can change feature values at the slider bar to observe change of risk score."
   ]
  },
  {
   "cell_type": "code",
   "execution_count": 5,
   "id": "second-trout",
   "metadata": {},
   "outputs": [
    {
     "data": {
      "application/vnd.jupyter.widget-view+json": {
       "model_id": "9640c19355ff459fb8f0d67fcb97c8e3",
       "version_major": 2,
       "version_minor": 0
      },
      "text/plain": [
       "HBox(children=(Label(value='Risk Score: '), FloatProgress(value=0.0, bar_style='info', layout=Layout(width='40…"
      ]
     },
     "metadata": {},
     "output_type": "display_data"
    },
    {
     "data": {
      "application/vnd.jupyter.widget-view+json": {
       "model_id": "214b5a4c7cde4a9e99591dc26b9b73f6",
       "version_major": 2,
       "version_minor": 0
      },
      "text/plain": [
       "Output(layout=Layout(border='3px solid black'))"
      ]
     },
     "metadata": {},
     "output_type": "display_data"
    },
    {
     "data": {
      "application/vnd.jupyter.widget-view+json": {
       "model_id": "17cdcab2f9c340ef92aeba5112edb8a2",
       "version_major": 2,
       "version_minor": 0
      },
      "text/plain": [
       "FloatSlider(value=32.52, continuous_update=False, description='#1 The value of rtime is less than 32.52', layo…"
      ]
     },
     "metadata": {},
     "output_type": "display_data"
    },
    {
     "data": {
      "application/vnd.jupyter.widget-view+json": {
       "model_id": "af1dbbc08e0042f5ab2e1cafe4b792ac",
       "version_major": 2,
       "version_minor": 0
      },
      "text/plain": [
       "FloatSlider(value=2374.0, continuous_update=False, description='#2 The value of rrexp is more than 2374.0', la…"
      ]
     },
     "metadata": {},
     "output_type": "display_data"
    },
    {
     "data": {
      "application/vnd.jupyter.widget-view+json": {
       "model_id": "4db3f06e05f540509458d714aba7a2c3",
       "version_major": 2,
       "version_minor": 0
      },
      "text/plain": [
       "FloatSlider(value=0.67, continuous_update=False, description='#3 The value of age is more than 0.67', layout=L…"
      ]
     },
     "metadata": {},
     "output_type": "display_data"
    }
   ],
   "source": [
    "py_explainer.visualise(created_rules)"
   ]
  },
  {
   "cell_type": "markdown",
   "id": "mounted-satellite",
   "metadata": {},
   "source": [
    "# PART B - Full Tutorial"
   ]
  },
  {
   "cell_type": "markdown",
   "id": "compressed-guatemala",
   "metadata": {},
   "source": [
    "## 1. Prepare sample data and model"
   ]
  },
  {
   "cell_type": "markdown",
   "id": "canadian-nicholas",
   "metadata": {},
   "source": [
    "### 1.1 For the simplicity, we load the sample DataFrame that is included in the package already"
   ]
  },
  {
   "cell_type": "code",
   "execution_count": 17,
   "id": "powerful-spray",
   "metadata": {},
   "outputs": [
    {
     "data": {
      "text/html": [
       "<div>\n",
       "<style scoped>\n",
       "    .dataframe tbody tr th:only-of-type {\n",
       "        vertical-align: middle;\n",
       "    }\n",
       "\n",
       "    .dataframe tbody tr th {\n",
       "        vertical-align: top;\n",
       "    }\n",
       "\n",
       "    .dataframe thead th {\n",
       "        text-align: right;\n",
       "    }\n",
       "</style>\n",
       "<table border=\"1\" class=\"dataframe\">\n",
       "  <thead>\n",
       "    <tr style=\"text-align: right;\">\n",
       "      <th></th>\n",
       "      <th>File</th>\n",
       "      <th>CountDeclMethodPrivate</th>\n",
       "      <th>AvgLineCode</th>\n",
       "      <th>CountLine</th>\n",
       "      <th>MaxCyclomatic</th>\n",
       "      <th>CountDeclMethodDefault</th>\n",
       "      <th>AvgEssential</th>\n",
       "      <th>CountDeclClassVariable</th>\n",
       "      <th>SumCyclomaticStrict</th>\n",
       "      <th>AvgCyclomatic</th>\n",
       "      <th>...</th>\n",
       "      <th>OWN_LINE</th>\n",
       "      <th>OWN_COMMIT</th>\n",
       "      <th>MINOR_COMMIT</th>\n",
       "      <th>MINOR_LINE</th>\n",
       "      <th>MAJOR_COMMIT</th>\n",
       "      <th>MAJOR_LINE</th>\n",
       "      <th>RealBug</th>\n",
       "      <th>HeuBug</th>\n",
       "      <th>HeuBugCount</th>\n",
       "      <th>RealBugCount</th>\n",
       "    </tr>\n",
       "  </thead>\n",
       "  <tbody>\n",
       "    <tr>\n",
       "      <th>0</th>\n",
       "      <td>activemq-console/src/main/java/org/apache/acti...</td>\n",
       "      <td>0</td>\n",
       "      <td>10</td>\n",
       "      <td>171</td>\n",
       "      <td>5</td>\n",
       "      <td>0</td>\n",
       "      <td>2</td>\n",
       "      <td>0</td>\n",
       "      <td>18</td>\n",
       "      <td>2</td>\n",
       "      <td>...</td>\n",
       "      <td>1.00000</td>\n",
       "      <td>1.0</td>\n",
       "      <td>0</td>\n",
       "      <td>1</td>\n",
       "      <td>1</td>\n",
       "      <td>0</td>\n",
       "      <td>False</td>\n",
       "      <td>False</td>\n",
       "      <td>0</td>\n",
       "      <td>0</td>\n",
       "    </tr>\n",
       "    <tr>\n",
       "      <th>1</th>\n",
       "      <td>activemq-console/src/main/java/org/apache/acti...</td>\n",
       "      <td>0</td>\n",
       "      <td>8</td>\n",
       "      <td>123</td>\n",
       "      <td>5</td>\n",
       "      <td>0</td>\n",
       "      <td>1</td>\n",
       "      <td>1</td>\n",
       "      <td>15</td>\n",
       "      <td>3</td>\n",
       "      <td>...</td>\n",
       "      <td>0.98374</td>\n",
       "      <td>0.5</td>\n",
       "      <td>0</td>\n",
       "      <td>1</td>\n",
       "      <td>2</td>\n",
       "      <td>1</td>\n",
       "      <td>False</td>\n",
       "      <td>False</td>\n",
       "      <td>0</td>\n",
       "      <td>0</td>\n",
       "    </tr>\n",
       "    <tr>\n",
       "      <th>2</th>\n",
       "      <td>activemq-console/src/main/java/org/apache/acti...</td>\n",
       "      <td>0</td>\n",
       "      <td>7</td>\n",
       "      <td>136</td>\n",
       "      <td>5</td>\n",
       "      <td>0</td>\n",
       "      <td>1</td>\n",
       "      <td>1</td>\n",
       "      <td>16</td>\n",
       "      <td>2</td>\n",
       "      <td>...</td>\n",
       "      <td>1.00000</td>\n",
       "      <td>1.0</td>\n",
       "      <td>0</td>\n",
       "      <td>1</td>\n",
       "      <td>1</td>\n",
       "      <td>0</td>\n",
       "      <td>False</td>\n",
       "      <td>False</td>\n",
       "      <td>0</td>\n",
       "      <td>0</td>\n",
       "    </tr>\n",
       "  </tbody>\n",
       "</table>\n",
       "<p>3 rows × 70 columns</p>\n",
       "</div>"
      ],
      "text/plain": [
       "                                                File  CountDeclMethodPrivate  \\\n",
       "0  activemq-console/src/main/java/org/apache/acti...                       0   \n",
       "1  activemq-console/src/main/java/org/apache/acti...                       0   \n",
       "2  activemq-console/src/main/java/org/apache/acti...                       0   \n",
       "\n",
       "   AvgLineCode  CountLine  MaxCyclomatic  CountDeclMethodDefault  \\\n",
       "0           10        171              5                       0   \n",
       "1            8        123              5                       0   \n",
       "2            7        136              5                       0   \n",
       "\n",
       "   AvgEssential  CountDeclClassVariable  SumCyclomaticStrict  AvgCyclomatic  \\\n",
       "0             2                       0                   18              2   \n",
       "1             1                       1                   15              3   \n",
       "2             1                       1                   16              2   \n",
       "\n",
       "   ...  OWN_LINE  OWN_COMMIT  MINOR_COMMIT  MINOR_LINE  MAJOR_COMMIT  \\\n",
       "0  ...   1.00000         1.0             0           1             1   \n",
       "1  ...   0.98374         0.5             0           1             2   \n",
       "2  ...   1.00000         1.0             0           1             1   \n",
       "\n",
       "   MAJOR_LINE  RealBug  HeuBug  HeuBugCount  RealBugCount  \n",
       "0           0    False   False            0             0  \n",
       "1           1    False   False            0             0  \n",
       "2           0    False   False            0             0  \n",
       "\n",
       "[3 rows x 70 columns]"
      ]
     },
     "execution_count": 17,
     "metadata": {},
     "output_type": "execute_result"
    }
   ],
   "source": [
    "import pandas as pd\n",
    "import numpy as np\n",
    "from pyexplainer import pyexplainer_pyexplainer\n",
    "\n",
    "df = pyexplainer_pyexplainer.load_sample_data()\n",
    "df.head(3)"
   ]
  },
  {
   "cell_type": "markdown",
   "id": "assigned-simulation",
   "metadata": {},
   "source": [
    "### 1.2 Define index column (OPTIONAL) and drop unwanted columns\n",
    "##### First, we set 'File' col as index col since it is the file that we wanna inspect, and it has nothing to do with features or label\n",
    "##### We use 'RealBug' as the label col, and the cols before 'RealBug' as feature cols\n",
    "##### Then we drop unnecessary cols (e.g. File, HeuBug, HeuBugCount, RealBugCount)"
   ]
  },
  {
   "cell_type": "code",
   "execution_count": 18,
   "id": "standard-storm",
   "metadata": {},
   "outputs": [
    {
     "data": {
      "text/html": [
       "<div>\n",
       "<style scoped>\n",
       "    .dataframe tbody tr th:only-of-type {\n",
       "        vertical-align: middle;\n",
       "    }\n",
       "\n",
       "    .dataframe tbody tr th {\n",
       "        vertical-align: top;\n",
       "    }\n",
       "\n",
       "    .dataframe thead th {\n",
       "        text-align: right;\n",
       "    }\n",
       "</style>\n",
       "<table border=\"1\" class=\"dataframe\">\n",
       "  <thead>\n",
       "    <tr style=\"text-align: right;\">\n",
       "      <th></th>\n",
       "      <th>CountDeclMethodPrivate</th>\n",
       "      <th>AvgLineCode</th>\n",
       "      <th>CountLine</th>\n",
       "      <th>MaxCyclomatic</th>\n",
       "      <th>CountDeclMethodDefault</th>\n",
       "      <th>AvgEssential</th>\n",
       "      <th>CountDeclClassVariable</th>\n",
       "      <th>SumCyclomaticStrict</th>\n",
       "      <th>AvgCyclomatic</th>\n",
       "      <th>AvgLine</th>\n",
       "      <th>...</th>\n",
       "      <th>DDEV</th>\n",
       "      <th>Added_lines</th>\n",
       "      <th>Del_lines</th>\n",
       "      <th>OWN_LINE</th>\n",
       "      <th>OWN_COMMIT</th>\n",
       "      <th>MINOR_COMMIT</th>\n",
       "      <th>MINOR_LINE</th>\n",
       "      <th>MAJOR_COMMIT</th>\n",
       "      <th>MAJOR_LINE</th>\n",
       "      <th>RealBug</th>\n",
       "    </tr>\n",
       "    <tr>\n",
       "      <th>File</th>\n",
       "      <th></th>\n",
       "      <th></th>\n",
       "      <th></th>\n",
       "      <th></th>\n",
       "      <th></th>\n",
       "      <th></th>\n",
       "      <th></th>\n",
       "      <th></th>\n",
       "      <th></th>\n",
       "      <th></th>\n",
       "      <th></th>\n",
       "      <th></th>\n",
       "      <th></th>\n",
       "      <th></th>\n",
       "      <th></th>\n",
       "      <th></th>\n",
       "      <th></th>\n",
       "      <th></th>\n",
       "      <th></th>\n",
       "      <th></th>\n",
       "      <th></th>\n",
       "    </tr>\n",
       "  </thead>\n",
       "  <tbody>\n",
       "    <tr>\n",
       "      <th>activemq-console/src/main/java/org/apache/activemq/console/command/AbstractAmqCommand.java</th>\n",
       "      <td>0</td>\n",
       "      <td>10</td>\n",
       "      <td>171</td>\n",
       "      <td>5</td>\n",
       "      <td>0</td>\n",
       "      <td>2</td>\n",
       "      <td>0</td>\n",
       "      <td>18</td>\n",
       "      <td>2</td>\n",
       "      <td>18</td>\n",
       "      <td>...</td>\n",
       "      <td>1</td>\n",
       "      <td>32</td>\n",
       "      <td>18</td>\n",
       "      <td>1.00000</td>\n",
       "      <td>1.0</td>\n",
       "      <td>0</td>\n",
       "      <td>1</td>\n",
       "      <td>1</td>\n",
       "      <td>0</td>\n",
       "      <td>False</td>\n",
       "    </tr>\n",
       "    <tr>\n",
       "      <th>activemq-console/src/main/java/org/apache/activemq/console/command/AbstractCommand.java</th>\n",
       "      <td>0</td>\n",
       "      <td>8</td>\n",
       "      <td>123</td>\n",
       "      <td>5</td>\n",
       "      <td>0</td>\n",
       "      <td>1</td>\n",
       "      <td>1</td>\n",
       "      <td>15</td>\n",
       "      <td>3</td>\n",
       "      <td>17</td>\n",
       "      <td>...</td>\n",
       "      <td>2</td>\n",
       "      <td>30</td>\n",
       "      <td>28</td>\n",
       "      <td>0.98374</td>\n",
       "      <td>0.5</td>\n",
       "      <td>0</td>\n",
       "      <td>1</td>\n",
       "      <td>2</td>\n",
       "      <td>1</td>\n",
       "      <td>False</td>\n",
       "    </tr>\n",
       "    <tr>\n",
       "      <th>activemq-console/src/main/java/org/apache/activemq/console/command/AbstractJmxCommand.java</th>\n",
       "      <td>0</td>\n",
       "      <td>7</td>\n",
       "      <td>136</td>\n",
       "      <td>5</td>\n",
       "      <td>0</td>\n",
       "      <td>1</td>\n",
       "      <td>1</td>\n",
       "      <td>16</td>\n",
       "      <td>2</td>\n",
       "      <td>13</td>\n",
       "      <td>...</td>\n",
       "      <td>1</td>\n",
       "      <td>8</td>\n",
       "      <td>8</td>\n",
       "      <td>1.00000</td>\n",
       "      <td>1.0</td>\n",
       "      <td>0</td>\n",
       "      <td>1</td>\n",
       "      <td>1</td>\n",
       "      <td>0</td>\n",
       "      <td>False</td>\n",
       "    </tr>\n",
       "  </tbody>\n",
       "</table>\n",
       "<p>3 rows × 66 columns</p>\n",
       "</div>"
      ],
      "text/plain": [
       "                                                    CountDeclMethodPrivate  \\\n",
       "File                                                                         \n",
       "activemq-console/src/main/java/org/apache/activ...                       0   \n",
       "activemq-console/src/main/java/org/apache/activ...                       0   \n",
       "activemq-console/src/main/java/org/apache/activ...                       0   \n",
       "\n",
       "                                                    AvgLineCode  CountLine  \\\n",
       "File                                                                         \n",
       "activemq-console/src/main/java/org/apache/activ...           10        171   \n",
       "activemq-console/src/main/java/org/apache/activ...            8        123   \n",
       "activemq-console/src/main/java/org/apache/activ...            7        136   \n",
       "\n",
       "                                                    MaxCyclomatic  \\\n",
       "File                                                                \n",
       "activemq-console/src/main/java/org/apache/activ...              5   \n",
       "activemq-console/src/main/java/org/apache/activ...              5   \n",
       "activemq-console/src/main/java/org/apache/activ...              5   \n",
       "\n",
       "                                                    CountDeclMethodDefault  \\\n",
       "File                                                                         \n",
       "activemq-console/src/main/java/org/apache/activ...                       0   \n",
       "activemq-console/src/main/java/org/apache/activ...                       0   \n",
       "activemq-console/src/main/java/org/apache/activ...                       0   \n",
       "\n",
       "                                                    AvgEssential  \\\n",
       "File                                                               \n",
       "activemq-console/src/main/java/org/apache/activ...             2   \n",
       "activemq-console/src/main/java/org/apache/activ...             1   \n",
       "activemq-console/src/main/java/org/apache/activ...             1   \n",
       "\n",
       "                                                    CountDeclClassVariable  \\\n",
       "File                                                                         \n",
       "activemq-console/src/main/java/org/apache/activ...                       0   \n",
       "activemq-console/src/main/java/org/apache/activ...                       1   \n",
       "activemq-console/src/main/java/org/apache/activ...                       1   \n",
       "\n",
       "                                                    SumCyclomaticStrict  \\\n",
       "File                                                                      \n",
       "activemq-console/src/main/java/org/apache/activ...                   18   \n",
       "activemq-console/src/main/java/org/apache/activ...                   15   \n",
       "activemq-console/src/main/java/org/apache/activ...                   16   \n",
       "\n",
       "                                                    AvgCyclomatic  AvgLine  \\\n",
       "File                                                                         \n",
       "activemq-console/src/main/java/org/apache/activ...              2       18   \n",
       "activemq-console/src/main/java/org/apache/activ...              3       17   \n",
       "activemq-console/src/main/java/org/apache/activ...              2       13   \n",
       "\n",
       "                                                    ...  DDEV  Added_lines  \\\n",
       "File                                                ...                      \n",
       "activemq-console/src/main/java/org/apache/activ...  ...     1           32   \n",
       "activemq-console/src/main/java/org/apache/activ...  ...     2           30   \n",
       "activemq-console/src/main/java/org/apache/activ...  ...     1            8   \n",
       "\n",
       "                                                    Del_lines  OWN_LINE  \\\n",
       "File                                                                      \n",
       "activemq-console/src/main/java/org/apache/activ...         18   1.00000   \n",
       "activemq-console/src/main/java/org/apache/activ...         28   0.98374   \n",
       "activemq-console/src/main/java/org/apache/activ...          8   1.00000   \n",
       "\n",
       "                                                    OWN_COMMIT  MINOR_COMMIT  \\\n",
       "File                                                                           \n",
       "activemq-console/src/main/java/org/apache/activ...         1.0             0   \n",
       "activemq-console/src/main/java/org/apache/activ...         0.5             0   \n",
       "activemq-console/src/main/java/org/apache/activ...         1.0             0   \n",
       "\n",
       "                                                    MINOR_LINE  MAJOR_COMMIT  \\\n",
       "File                                                                           \n",
       "activemq-console/src/main/java/org/apache/activ...           1             1   \n",
       "activemq-console/src/main/java/org/apache/activ...           1             2   \n",
       "activemq-console/src/main/java/org/apache/activ...           1             1   \n",
       "\n",
       "                                                    MAJOR_LINE  RealBug  \n",
       "File                                                                     \n",
       "activemq-console/src/main/java/org/apache/activ...           0    False  \n",
       "activemq-console/src/main/java/org/apache/activ...           1    False  \n",
       "activemq-console/src/main/java/org/apache/activ...           0    False  \n",
       "\n",
       "[3 rows x 66 columns]"
      ]
     },
     "execution_count": 18,
     "metadata": {},
     "output_type": "execute_result"
    }
   ],
   "source": [
    "df = df.set_index(df['File'])\n",
    "df = df.drop(['File', 'HeuBug', 'HeuBugCount', 'RealBugCount'], axis=1)\n",
    "df.head(3)"
   ]
  },
  {
   "cell_type": "markdown",
   "id": "inner-player",
   "metadata": {},
   "source": [
    "### 1.3 Define feature cols (X), and label col (y)"
   ]
  },
  {
   "cell_type": "code",
   "execution_count": 26,
   "id": "lightweight-portal",
   "metadata": {},
   "outputs": [
    {
     "name": "stdout",
     "output_type": "stream",
     "text": [
      "feature cols: \n",
      "\n",
      "                                                     CountDeclMethodPrivate  \\\n",
      "File                                                                         \n",
      "activemq-console/src/main/java/org/apache/activ...                       0   \n",
      "\n",
      "                                                    AvgLineCode  CountLine  \\\n",
      "File                                                                         \n",
      "activemq-console/src/main/java/org/apache/activ...           10        171   \n",
      "\n",
      "                                                    MaxCyclomatic  \\\n",
      "File                                                                \n",
      "activemq-console/src/main/java/org/apache/activ...              5   \n",
      "\n",
      "                                                    CountDeclMethodDefault  \\\n",
      "File                                                                         \n",
      "activemq-console/src/main/java/org/apache/activ...                       0   \n",
      "\n",
      "                                                    AvgEssential  \\\n",
      "File                                                               \n",
      "activemq-console/src/main/java/org/apache/activ...             2   \n",
      "\n",
      "                                                    CountDeclClassVariable  \\\n",
      "File                                                                         \n",
      "activemq-console/src/main/java/org/apache/activ...                       0   \n",
      "\n",
      "                                                    SumCyclomaticStrict  \\\n",
      "File                                                                      \n",
      "activemq-console/src/main/java/org/apache/activ...                   18   \n",
      "\n",
      "                                                    AvgCyclomatic  AvgLine  \\\n",
      "File                                                                         \n",
      "activemq-console/src/main/java/org/apache/activ...              2       18   \n",
      "\n",
      "                                                    ...  ADEV  DDEV  \\\n",
      "File                                                ...               \n",
      "activemq-console/src/main/java/org/apache/activ...  ...     1     1   \n",
      "\n",
      "                                                    Added_lines  Del_lines  \\\n",
      "File                                                                         \n",
      "activemq-console/src/main/java/org/apache/activ...           32         18   \n",
      "\n",
      "                                                    OWN_LINE  OWN_COMMIT  \\\n",
      "File                                                                       \n",
      "activemq-console/src/main/java/org/apache/activ...       1.0         1.0   \n",
      "\n",
      "                                                    MINOR_COMMIT  MINOR_LINE  \\\n",
      "File                                                                           \n",
      "activemq-console/src/main/java/org/apache/activ...             0           1   \n",
      "\n",
      "                                                    MAJOR_COMMIT  MAJOR_LINE  \n",
      "File                                                                          \n",
      "activemq-console/src/main/java/org/apache/activ...             1           0  \n",
      "\n",
      "[1 rows x 65 columns] \n",
      "\n",
      "\n",
      "label col: \n",
      "\n",
      " File\n",
      "activemq-console/src/main/java/org/apache/activemq/console/command/AbstractAmqCommand.java    False\n",
      "Name: RealBug, dtype: bool\n"
     ]
    }
   ],
   "source": [
    "# select all rows, and all feature cols\n",
    "# the last col, which is label col, is not selected\n",
    "X = df.iloc[:, :-1]\n",
    "# select all rows, and the last label col\n",
    "y = df.iloc[:, -1]\n",
    "\n",
    "print('feature cols:', '\\n\\n', X.head(1), '\\n\\n')\n",
    "print('label col:', '\\n\\n', y.head(1))"
   ]
  },
  {
   "cell_type": "markdown",
   "id": "enabling-print",
   "metadata": {},
   "source": [
    "### 1.4 Split data into training and testing set"
   ]
  },
  {
   "cell_type": "code",
   "execution_count": 89,
   "id": "durable-convergence",
   "metadata": {},
   "outputs": [],
   "source": [
    "from sklearn.model_selection import train_test_split\n",
    "# 70% training and 30% test\n",
    "X_train, X_test, y_train, y_test = train_test_split(X, y, test_size=0.3) "
   ]
  },
  {
   "cell_type": "markdown",
   "id": "satellite-assembly",
   "metadata": {},
   "source": [
    "## 2. Training and Predicting"
   ]
  },
  {
   "cell_type": "markdown",
   "id": "contemporary-police",
   "metadata": {},
   "source": [
    "### 2.1 Train a RandomForest model using sklearn"
   ]
  },
  {
   "cell_type": "code",
   "execution_count": 97,
   "id": "missing-overhead",
   "metadata": {},
   "outputs": [
    {
     "data": {
      "text/plain": [
       "RandomForestClassifier(random_state=0)"
      ]
     },
     "execution_count": 97,
     "metadata": {},
     "output_type": "execute_result"
    }
   ],
   "source": [
    "from sklearn.ensemble import RandomForestClassifier\n",
    "\n",
    "rf_model = RandomForestClassifier(n_estimators=100, max_depth=None, min_samples_split=2, random_state=0)\n",
    "rf_model.fit(X_train, y_train)"
   ]
  },
  {
   "cell_type": "markdown",
   "id": "dominican-instrument",
   "metadata": {},
   "source": [
    "### 2.2 Generate predictions"
   ]
  },
  {
   "cell_type": "code",
   "execution_count": 98,
   "id": "municipal-spoke",
   "metadata": {},
   "outputs": [
    {
     "data": {
      "text/html": [
       "<div>\n",
       "<style scoped>\n",
       "    .dataframe tbody tr th:only-of-type {\n",
       "        vertical-align: middle;\n",
       "    }\n",
       "\n",
       "    .dataframe tbody tr th {\n",
       "        vertical-align: top;\n",
       "    }\n",
       "\n",
       "    .dataframe thead th {\n",
       "        text-align: right;\n",
       "    }\n",
       "</style>\n",
       "<table border=\"1\" class=\"dataframe\">\n",
       "  <thead>\n",
       "    <tr style=\"text-align: right;\">\n",
       "      <th></th>\n",
       "      <th>PredictedBug</th>\n",
       "    </tr>\n",
       "    <tr>\n",
       "      <th>File</th>\n",
       "      <th></th>\n",
       "    </tr>\n",
       "  </thead>\n",
       "  <tbody>\n",
       "    <tr>\n",
       "      <th>activemq-core/src/main/java/org/apache/activemq/thread/Scheduler.java</th>\n",
       "      <td>False</td>\n",
       "    </tr>\n",
       "    <tr>\n",
       "      <th>activemq-core/src/main/java/org/apache/activemq/store/TransactionRecoveryListener.java</th>\n",
       "      <td>False</td>\n",
       "    </tr>\n",
       "    <tr>\n",
       "      <th>activemq-core/src/test/java/org/apache/activemq/openwire/v3/KeepAliveInfoTest.java</th>\n",
       "      <td>False</td>\n",
       "    </tr>\n",
       "  </tbody>\n",
       "</table>\n",
       "</div>"
      ],
      "text/plain": [
       "                                                    PredictedBug\n",
       "File                                                            \n",
       "activemq-core/src/main/java/org/apache/activemq...         False\n",
       "activemq-core/src/main/java/org/apache/activemq...         False\n",
       "activemq-core/src/test/java/org/apache/activemq...         False"
      ]
     },
     "execution_count": 98,
     "metadata": {},
     "output_type": "execute_result"
    }
   ],
   "source": [
    "# generate prediction from the model, which will return a list of predicted labels\n",
    "y_preds = rf_model.predict(X_test) \n",
    "# create a DataFrame which only has predicted label column\n",
    "y_preds = pd.DataFrame(data={'PredictedBug': y_preds}, index=y_test.index) \n",
    "y_preds.head(3)"
   ]
  },
  {
   "cell_type": "markdown",
   "id": "polished-adoption",
   "metadata": {},
   "source": [
    "## 3. Prediction post processing"
   ]
  },
  {
   "cell_type": "markdown",
   "id": "recovered-pension",
   "metadata": {},
   "source": [
    "### 3.1 Combine feature cols, label col, and the predicted col in testing set"
   ]
  },
  {
   "cell_type": "code",
   "execution_count": 99,
   "id": "crude-bulletin",
   "metadata": {},
   "outputs": [],
   "source": [
    "combined_testing_data = X_test.join(y_test.to_frame())\n",
    "combined_testing_data = combined_testing_data.join(y_preds)\n",
    "combined_testing_data.head(3)\n",
    "# total num of rows\n",
    "total_rows = len(combined_testing_data)"
   ]
  },
  {
   "cell_type": "markdown",
   "id": "superior-emphasis",
   "metadata": {},
   "source": [
    "### 3.2 Filter out wronly predicted rows "
   ]
  },
  {
   "cell_type": "code",
   "execution_count": 119,
   "id": "hybrid-composer",
   "metadata": {},
   "outputs": [
    {
     "name": "stdout",
     "output_type": "stream",
     "text": [
      "The model correctly predicted  88.9 % of testing data\n"
     ]
    }
   ],
   "source": [
    "correctly_predicted_data = combined_testing_data[combined_testing_data['RealBug']==combined_testing_data['PredictedBug']]\n",
    "correctly_predicted_rows = len(correctly_predicted_data)\n",
    "print('The model correctly predicted ', round((correctly_predicted_rows / total_rows), 3) * 100, '% of testing data')"
   ]
  },
  {
   "cell_type": "markdown",
   "id": "extra-wichita",
   "metadata": {},
   "source": [
    "### 3.3 We focus on the bug file, therefore, filter out the non-buggy file"
   ]
  },
  {
   "cell_type": "code",
   "execution_count": 122,
   "id": "fossil-class",
   "metadata": {},
   "outputs": [
    {
     "data": {
      "text/html": [
       "<div>\n",
       "<style scoped>\n",
       "    .dataframe tbody tr th:only-of-type {\n",
       "        vertical-align: middle;\n",
       "    }\n",
       "\n",
       "    .dataframe tbody tr th {\n",
       "        vertical-align: top;\n",
       "    }\n",
       "\n",
       "    .dataframe thead th {\n",
       "        text-align: right;\n",
       "    }\n",
       "</style>\n",
       "<table border=\"1\" class=\"dataframe\">\n",
       "  <thead>\n",
       "    <tr style=\"text-align: right;\">\n",
       "      <th></th>\n",
       "      <th>CountDeclMethodPrivate</th>\n",
       "      <th>AvgLineCode</th>\n",
       "      <th>CountLine</th>\n",
       "      <th>MaxCyclomatic</th>\n",
       "      <th>CountDeclMethodDefault</th>\n",
       "      <th>AvgEssential</th>\n",
       "      <th>CountDeclClassVariable</th>\n",
       "      <th>SumCyclomaticStrict</th>\n",
       "      <th>AvgCyclomatic</th>\n",
       "      <th>AvgLine</th>\n",
       "      <th>...</th>\n",
       "      <th>Added_lines</th>\n",
       "      <th>Del_lines</th>\n",
       "      <th>OWN_LINE</th>\n",
       "      <th>OWN_COMMIT</th>\n",
       "      <th>MINOR_COMMIT</th>\n",
       "      <th>MINOR_LINE</th>\n",
       "      <th>MAJOR_COMMIT</th>\n",
       "      <th>MAJOR_LINE</th>\n",
       "      <th>RealBug</th>\n",
       "      <th>PredictedBug</th>\n",
       "    </tr>\n",
       "    <tr>\n",
       "      <th>File</th>\n",
       "      <th></th>\n",
       "      <th></th>\n",
       "      <th></th>\n",
       "      <th></th>\n",
       "      <th></th>\n",
       "      <th></th>\n",
       "      <th></th>\n",
       "      <th></th>\n",
       "      <th></th>\n",
       "      <th></th>\n",
       "      <th></th>\n",
       "      <th></th>\n",
       "      <th></th>\n",
       "      <th></th>\n",
       "      <th></th>\n",
       "      <th></th>\n",
       "      <th></th>\n",
       "      <th></th>\n",
       "      <th></th>\n",
       "      <th></th>\n",
       "      <th></th>\n",
       "    </tr>\n",
       "  </thead>\n",
       "  <tbody>\n",
       "    <tr>\n",
       "      <th>activemq-core/src/test/java/org/apache/activemq/transport/fanout/FanoutTransportBrokerTest.java</th>\n",
       "      <td>0</td>\n",
       "      <td>10</td>\n",
       "      <td>203</td>\n",
       "      <td>2</td>\n",
       "      <td>0</td>\n",
       "      <td>1</td>\n",
       "      <td>1</td>\n",
       "      <td>12</td>\n",
       "      <td>1</td>\n",
       "      <td>14</td>\n",
       "      <td>...</td>\n",
       "      <td>38</td>\n",
       "      <td>44</td>\n",
       "      <td>0.738916</td>\n",
       "      <td>0.800000</td>\n",
       "      <td>0</td>\n",
       "      <td>2</td>\n",
       "      <td>2</td>\n",
       "      <td>1</td>\n",
       "      <td>True</td>\n",
       "      <td>True</td>\n",
       "    </tr>\n",
       "    <tr>\n",
       "      <th>activemq-core/src/main/java/org/apache/activemq/broker/region/policy/PendingDurableSubscriberMessageStoragePolicy.java</th>\n",
       "      <td>0</td>\n",
       "      <td>1</td>\n",
       "      <td>41</td>\n",
       "      <td>1</td>\n",
       "      <td>1</td>\n",
       "      <td>1</td>\n",
       "      <td>0</td>\n",
       "      <td>1</td>\n",
       "      <td>1</td>\n",
       "      <td>10</td>\n",
       "      <td>...</td>\n",
       "      <td>21</td>\n",
       "      <td>18</td>\n",
       "      <td>0.536585</td>\n",
       "      <td>1.000000</td>\n",
       "      <td>0</td>\n",
       "      <td>2</td>\n",
       "      <td>1</td>\n",
       "      <td>0</td>\n",
       "      <td>True</td>\n",
       "      <td>True</td>\n",
       "    </tr>\n",
       "    <tr>\n",
       "      <th>activemq-core/src/main/java/org/apache/activemq/kaha/impl/container/BaseContainerImpl.java</th>\n",
       "      <td>0</td>\n",
       "      <td>5</td>\n",
       "      <td>230</td>\n",
       "      <td>6</td>\n",
       "      <td>0</td>\n",
       "      <td>1</td>\n",
       "      <td>1</td>\n",
       "      <td>43</td>\n",
       "      <td>2</td>\n",
       "      <td>5</td>\n",
       "      <td>...</td>\n",
       "      <td>108</td>\n",
       "      <td>111</td>\n",
       "      <td>0.613043</td>\n",
       "      <td>0.666667</td>\n",
       "      <td>0</td>\n",
       "      <td>2</td>\n",
       "      <td>2</td>\n",
       "      <td>0</td>\n",
       "      <td>True</td>\n",
       "      <td>True</td>\n",
       "    </tr>\n",
       "  </tbody>\n",
       "</table>\n",
       "<p>3 rows × 67 columns</p>\n",
       "</div>"
      ],
      "text/plain": [
       "                                                    CountDeclMethodPrivate  \\\n",
       "File                                                                         \n",
       "activemq-core/src/test/java/org/apache/activemq...                       0   \n",
       "activemq-core/src/main/java/org/apache/activemq...                       0   \n",
       "activemq-core/src/main/java/org/apache/activemq...                       0   \n",
       "\n",
       "                                                    AvgLineCode  CountLine  \\\n",
       "File                                                                         \n",
       "activemq-core/src/test/java/org/apache/activemq...           10        203   \n",
       "activemq-core/src/main/java/org/apache/activemq...            1         41   \n",
       "activemq-core/src/main/java/org/apache/activemq...            5        230   \n",
       "\n",
       "                                                    MaxCyclomatic  \\\n",
       "File                                                                \n",
       "activemq-core/src/test/java/org/apache/activemq...              2   \n",
       "activemq-core/src/main/java/org/apache/activemq...              1   \n",
       "activemq-core/src/main/java/org/apache/activemq...              6   \n",
       "\n",
       "                                                    CountDeclMethodDefault  \\\n",
       "File                                                                         \n",
       "activemq-core/src/test/java/org/apache/activemq...                       0   \n",
       "activemq-core/src/main/java/org/apache/activemq...                       1   \n",
       "activemq-core/src/main/java/org/apache/activemq...                       0   \n",
       "\n",
       "                                                    AvgEssential  \\\n",
       "File                                                               \n",
       "activemq-core/src/test/java/org/apache/activemq...             1   \n",
       "activemq-core/src/main/java/org/apache/activemq...             1   \n",
       "activemq-core/src/main/java/org/apache/activemq...             1   \n",
       "\n",
       "                                                    CountDeclClassVariable  \\\n",
       "File                                                                         \n",
       "activemq-core/src/test/java/org/apache/activemq...                       1   \n",
       "activemq-core/src/main/java/org/apache/activemq...                       0   \n",
       "activemq-core/src/main/java/org/apache/activemq...                       1   \n",
       "\n",
       "                                                    SumCyclomaticStrict  \\\n",
       "File                                                                      \n",
       "activemq-core/src/test/java/org/apache/activemq...                   12   \n",
       "activemq-core/src/main/java/org/apache/activemq...                    1   \n",
       "activemq-core/src/main/java/org/apache/activemq...                   43   \n",
       "\n",
       "                                                    AvgCyclomatic  AvgLine  \\\n",
       "File                                                                         \n",
       "activemq-core/src/test/java/org/apache/activemq...              1       14   \n",
       "activemq-core/src/main/java/org/apache/activemq...              1       10   \n",
       "activemq-core/src/main/java/org/apache/activemq...              2        5   \n",
       "\n",
       "                                                    ...  Added_lines  \\\n",
       "File                                                ...                \n",
       "activemq-core/src/test/java/org/apache/activemq...  ...           38   \n",
       "activemq-core/src/main/java/org/apache/activemq...  ...           21   \n",
       "activemq-core/src/main/java/org/apache/activemq...  ...          108   \n",
       "\n",
       "                                                    Del_lines  OWN_LINE  \\\n",
       "File                                                                      \n",
       "activemq-core/src/test/java/org/apache/activemq...         44  0.738916   \n",
       "activemq-core/src/main/java/org/apache/activemq...         18  0.536585   \n",
       "activemq-core/src/main/java/org/apache/activemq...        111  0.613043   \n",
       "\n",
       "                                                    OWN_COMMIT  MINOR_COMMIT  \\\n",
       "File                                                                           \n",
       "activemq-core/src/test/java/org/apache/activemq...    0.800000             0   \n",
       "activemq-core/src/main/java/org/apache/activemq...    1.000000             0   \n",
       "activemq-core/src/main/java/org/apache/activemq...    0.666667             0   \n",
       "\n",
       "                                                    MINOR_LINE  MAJOR_COMMIT  \\\n",
       "File                                                                           \n",
       "activemq-core/src/test/java/org/apache/activemq...           2             2   \n",
       "activemq-core/src/main/java/org/apache/activemq...           2             1   \n",
       "activemq-core/src/main/java/org/apache/activemq...           2             2   \n",
       "\n",
       "                                                    MAJOR_LINE  RealBug  \\\n",
       "File                                                                      \n",
       "activemq-core/src/test/java/org/apache/activemq...           1     True   \n",
       "activemq-core/src/main/java/org/apache/activemq...           0     True   \n",
       "activemq-core/src/main/java/org/apache/activemq...           0     True   \n",
       "\n",
       "                                                    PredictedBug  \n",
       "File                                                              \n",
       "activemq-core/src/test/java/org/apache/activemq...          True  \n",
       "activemq-core/src/main/java/org/apache/activemq...          True  \n",
       "activemq-core/src/main/java/org/apache/activemq...          True  \n",
       "\n",
       "[3 rows x 67 columns]"
      ]
     },
     "execution_count": 122,
     "metadata": {},
     "output_type": "execute_result"
    }
   ],
   "source": [
    "correctly_predicted_bug = correctly_predicted_data[correctly_predicted_data['RealBug']==True]\n",
    "correctly_predicted_bug.head(3)"
   ]
  },
  {
   "cell_type": "markdown",
   "id": "recreational-speed",
   "metadata": {},
   "source": [
    "### 3.4 Define feature cols and label col using correctly predicted testing data"
   ]
  },
  {
   "cell_type": "code",
   "execution_count": 123,
   "id": "driving-reminder",
   "metadata": {},
   "outputs": [],
   "source": [
    "# select all rows and feature cols\n",
    "feature_cols = correctly_predicted_bug.iloc[:, :-2]\n",
    "# selected all rows and one label col (either RealBug or PredictedBug is fine since they are the same)\n",
    "label_col = correctly_predicted_bug.iloc[:, -2]"
   ]
  },
  {
   "cell_type": "markdown",
   "id": "separated-cleaner",
   "metadata": {},
   "source": [
    "### 3.5 Select one row of correctly predicted bug to be explained"
   ]
  },
  {
   "cell_type": "code",
   "execution_count": 124,
   "id": "medium-productivity",
   "metadata": {},
   "outputs": [
    {
     "name": "stdout",
     "output_type": "stream",
     "text": [
      "one row of feature: \n",
      "\n",
      "                                                     CountDeclMethodPrivate  \\\n",
      "File                                                                         \n",
      "activemq-core/src/test/java/org/apache/activemq...                       0   \n",
      "\n",
      "                                                    AvgLineCode  CountLine  \\\n",
      "File                                                                         \n",
      "activemq-core/src/test/java/org/apache/activemq...           10        203   \n",
      "\n",
      "                                                    MaxCyclomatic  \\\n",
      "File                                                                \n",
      "activemq-core/src/test/java/org/apache/activemq...              2   \n",
      "\n",
      "                                                    CountDeclMethodDefault  \\\n",
      "File                                                                         \n",
      "activemq-core/src/test/java/org/apache/activemq...                       0   \n",
      "\n",
      "                                                    AvgEssential  \\\n",
      "File                                                               \n",
      "activemq-core/src/test/java/org/apache/activemq...             1   \n",
      "\n",
      "                                                    CountDeclClassVariable  \\\n",
      "File                                                                         \n",
      "activemq-core/src/test/java/org/apache/activemq...                       1   \n",
      "\n",
      "                                                    SumCyclomaticStrict  \\\n",
      "File                                                                      \n",
      "activemq-core/src/test/java/org/apache/activemq...                   12   \n",
      "\n",
      "                                                    AvgCyclomatic  AvgLine  \\\n",
      "File                                                                         \n",
      "activemq-core/src/test/java/org/apache/activemq...              1       14   \n",
      "\n",
      "                                                    ...  ADEV  DDEV  \\\n",
      "File                                                ...               \n",
      "activemq-core/src/test/java/org/apache/activemq...  ...     5     2   \n",
      "\n",
      "                                                    Added_lines  Del_lines  \\\n",
      "File                                                                         \n",
      "activemq-core/src/test/java/org/apache/activemq...           38         44   \n",
      "\n",
      "                                                    OWN_LINE  OWN_COMMIT  \\\n",
      "File                                                                       \n",
      "activemq-core/src/test/java/org/apache/activemq...  0.738916         0.8   \n",
      "\n",
      "                                                    MINOR_COMMIT  MINOR_LINE  \\\n",
      "File                                                                           \n",
      "activemq-core/src/test/java/org/apache/activemq...             0           2   \n",
      "\n",
      "                                                    MAJOR_COMMIT  MAJOR_LINE  \n",
      "File                                                                          \n",
      "activemq-core/src/test/java/org/apache/activemq...             2           1  \n",
      "\n",
      "[1 rows x 65 columns] \n",
      "\n",
      "one row of label: \n",
      "\n",
      " File\n",
      "activemq-core/src/test/java/org/apache/activemq/transport/fanout/FanoutTransportBrokerTest.java    True\n",
      "Name: RealBug, dtype: bool\n"
     ]
    }
   ],
   "source": [
    "# decide which row to be selected\n",
    "selected_row = 0\n",
    "# select the row in X_test which contains all of the feature values\n",
    "X_explain = feature_cols.iloc[[selected_row]]\n",
    "# select the corresponding label from the DataFrame that we just created above\n",
    "y_explain = label_col.iloc[[selected_row]]\n",
    "print('one row of feature:', '\\n\\n', X_explain, '\\n')\n",
    "print('one row of label:', '\\n\\n', y_explain)"
   ]
  },
  {
   "cell_type": "markdown",
   "id": "promising-analysis",
   "metadata": {},
   "source": [
    "## 4. Create rules (explanations) and visualise it !"
   ]
  },
  {
   "cell_type": "markdown",
   "id": "surrounded-miracle",
   "metadata": {},
   "source": [
    "### 4.1 Initialise a PyExplainer object"
   ]
  },
  {
   "cell_type": "code",
   "execution_count": 125,
   "id": "interpreted-champion",
   "metadata": {},
   "outputs": [],
   "source": [
    "from pyexplainer import pyexplainer_pyexplainer\n",
    "\n",
    "py_explainer = pyexplainer_pyexplainer.PyExplainer(X_train = X_train,\n",
    "                                                   y_train = y_train,\n",
    "                                                   indep = X_train.columns,\n",
    "                                                   dep = 'RealBug',\n",
    "                                                   blackbox_model = rf_model)"
   ]
  },
  {
   "cell_type": "markdown",
   "id": "essential-triple",
   "metadata": {},
   "source": [
    "### 4.2 Create rules by triggering explain function under PyExplainer object\n",
    "##### Attention: This step can be time-consuming"
   ]
  },
  {
   "cell_type": "code",
   "execution_count": 126,
   "id": "informational-palestine",
   "metadata": {},
   "outputs": [],
   "source": [
    "rules = py_explainer.explain(X_explain=X_explain,\n",
    "                             y_explain=y_explain,\n",
    "                             search_function='crossoverinterpolation')"
   ]
  },
  {
   "cell_type": "markdown",
   "id": "verified-reducing",
   "metadata": {},
   "source": [
    "##### Those created rules are stored in a dictionary, for more information about what is contained in each key, please refer to 'Appendix' part"
   ]
  },
  {
   "cell_type": "code",
   "execution_count": 129,
   "id": "involved-youth",
   "metadata": {},
   "outputs": [
    {
     "data": {
      "text/plain": [
       "dict_keys(['synthetic_data', 'synthetic_predictions', 'X_explain', 'y_explain', 'indep', 'dep', 'top_k_positive_rules', 'top_k_negative_rules', 'local_rulefit_model'])"
      ]
     },
     "execution_count": 129,
     "metadata": {},
     "output_type": "execute_result"
    }
   ],
   "source": [
    "rules.keys()"
   ]
  },
  {
   "cell_type": "markdown",
   "id": "greenhouse-addition",
   "metadata": {},
   "source": [
    "### 4.3 Simply trigger visualise function under PyExplainer object to visualise the created rules "
   ]
  },
  {
   "cell_type": "code",
   "execution_count": 128,
   "id": "basic-durham",
   "metadata": {},
   "outputs": [
    {
     "data": {
      "application/vnd.jupyter.widget-view+json": {
       "model_id": "095494f98a934b8d9736a7b48870d674",
       "version_major": 2,
       "version_minor": 0
      },
      "text/plain": [
       "HBox(children=(Label(value='Risk Score: '), FloatProgress(value=0.0, bar_style='info', layout=Layout(width='40…"
      ]
     },
     "metadata": {},
     "output_type": "display_data"
    },
    {
     "data": {
      "application/vnd.jupyter.widget-view+json": {
       "model_id": "4015684f608748f1989c398422e3a724",
       "version_major": 2,
       "version_minor": 0
      },
      "text/plain": [
       "Output(layout=Layout(border='3px solid black'))"
      ]
     },
     "metadata": {},
     "output_type": "display_data"
    },
    {
     "data": {
      "application/vnd.jupyter.widget-view+json": {
       "model_id": "642e86f0139240e586448367112d634d",
       "version_major": 2,
       "version_minor": 0
      },
      "text/plain": [
       "FloatSlider(value=2.0, continuous_update=False, description='#1 The value of MAJOR_COMMIT is more than 2', lay…"
      ]
     },
     "metadata": {},
     "output_type": "display_data"
    }
   ],
   "source": [
    "py_explainer.visualise(rules)"
   ]
  },
  {
   "cell_type": "markdown",
   "id": "coated-empire",
   "metadata": {},
   "source": [
    "# Appendix"
   ]
  },
  {
   "cell_type": "markdown",
   "id": "closed-draft",
   "metadata": {},
   "source": [
    "## The detail of variables used to to create PyExplainer"
   ]
  },
  {
   "cell_type": "markdown",
   "id": "sufficient-vault",
   "metadata": {},
   "source": [
    "### Synthetic_data\n",
    "\n",
    "Synthetic_data is data that are generated by PyExplainer using one of the following approaches.\n",
    "\n",
    "1. Crossover and Interpolation\n",
    "2. Random Perturbation.\n",
    "\n",
    "After Synthetic_data is generated, it is stored as a pandas DataFrame object. "
   ]
  },
  {
   "cell_type": "code",
   "execution_count": 17,
   "id": "vital-dynamics",
   "metadata": {},
   "outputs": [
    {
     "name": "stdout",
     "output_type": "stream",
     "text": [
      "Type of pyExp_rule_obj['synthetic_data'] -  <class 'pandas.core.frame.DataFrame'> \n",
      "\n",
      "Example\n"
     ]
    },
    {
     "data": {
      "text/html": [
       "<div>\n",
       "<style scoped>\n",
       "    .dataframe tbody tr th:only-of-type {\n",
       "        vertical-align: middle;\n",
       "    }\n",
       "\n",
       "    .dataframe tbody tr th {\n",
       "        vertical-align: top;\n",
       "    }\n",
       "\n",
       "    .dataframe thead th {\n",
       "        text-align: right;\n",
       "    }\n",
       "</style>\n",
       "<table border=\"1\" class=\"dataframe\">\n",
       "  <thead>\n",
       "    <tr style=\"text-align: right;\">\n",
       "      <th></th>\n",
       "      <th>la</th>\n",
       "      <th>nd</th>\n",
       "      <th>ns</th>\n",
       "      <th>ent</th>\n",
       "      <th>nrev</th>\n",
       "      <th>rtime</th>\n",
       "      <th>self</th>\n",
       "      <th>ndev</th>\n",
       "      <th>age</th>\n",
       "      <th>app</th>\n",
       "      <th>rrexp</th>\n",
       "      <th>asawr</th>\n",
       "      <th>rsawr</th>\n",
       "    </tr>\n",
       "  </thead>\n",
       "  <tbody>\n",
       "    <tr>\n",
       "      <th>0</th>\n",
       "      <td>194.0</td>\n",
       "      <td>2.0</td>\n",
       "      <td>1.0</td>\n",
       "      <td>0.80</td>\n",
       "      <td>12.0</td>\n",
       "      <td>9.40</td>\n",
       "      <td>0.0</td>\n",
       "      <td>44.0</td>\n",
       "      <td>1.97</td>\n",
       "      <td>2.0</td>\n",
       "      <td>1290.0</td>\n",
       "      <td>0.01</td>\n",
       "      <td>0.61</td>\n",
       "    </tr>\n",
       "    <tr>\n",
       "      <th>1</th>\n",
       "      <td>130.0</td>\n",
       "      <td>4.0</td>\n",
       "      <td>1.0</td>\n",
       "      <td>0.83</td>\n",
       "      <td>15.0</td>\n",
       "      <td>14.47</td>\n",
       "      <td>0.0</td>\n",
       "      <td>55.0</td>\n",
       "      <td>0.06</td>\n",
       "      <td>2.0</td>\n",
       "      <td>1206.0</td>\n",
       "      <td>0.00</td>\n",
       "      <td>0.54</td>\n",
       "    </tr>\n",
       "  </tbody>\n",
       "</table>\n",
       "</div>"
      ],
      "text/plain": [
       "      la   nd   ns   ent  nrev  rtime  self  ndev   age  app   rrexp  asawr  \\\n",
       "0  194.0  2.0  1.0  0.80  12.0   9.40   0.0  44.0  1.97  2.0  1290.0   0.01   \n",
       "1  130.0  4.0  1.0  0.83  15.0  14.47   0.0  55.0  0.06  2.0  1206.0   0.00   \n",
       "\n",
       "   rsawr  \n",
       "0   0.61  \n",
       "1   0.54  "
      ]
     },
     "metadata": {},
     "output_type": "display_data"
    }
   ],
   "source": [
    "print(\"Type of pyExp_rule_obj['synthetic_data'] - \", type(created_rule_obj['synthetic_data']), \"\\n\")\n",
    "\n",
    "print('Example')\n",
    "display(created_rule_obj['synthetic_data'].head(2))"
   ]
  },
  {
   "cell_type": "markdown",
   "id": "quality-examination",
   "metadata": {},
   "source": [
    "### Synthetic_predictions\n",
    "\n",
    "Synthetic_predictions is the prediction of Synthetic_data, which is obtained from the global model inside PyExplainer."
   ]
  },
  {
   "cell_type": "code",
   "execution_count": 12,
   "id": "funny-ranch",
   "metadata": {},
   "outputs": [
    {
     "name": "stdout",
     "output_type": "stream",
     "text": [
      "Type of pyExp_rule_obj['synthetic_predictions'] -  <class 'numpy.ndarray'> \n",
      "\n",
      "Example \n",
      "\n",
      " [False  True False ...  True  True  True]\n"
     ]
    }
   ],
   "source": [
    "print(\"Type of pyExp_rule_obj['synthetic_predictions'] - \", type(created_rule_obj['synthetic_predictions']), \"\\n\")\n",
    "print(\"Example\", \"\\n\\n\", created_rule_obj['synthetic_predictions'])"
   ]
  },
  {
   "cell_type": "markdown",
   "id": "removable-behalf",
   "metadata": {},
   "source": [
    "### X_explain\n",
    "\n",
    "X_explain is an instance to be explained (which is a defective commit in this context)"
   ]
  },
  {
   "cell_type": "code",
   "execution_count": 15,
   "id": "compound-jewel",
   "metadata": {},
   "outputs": [
    {
     "name": "stdout",
     "output_type": "stream",
     "text": [
      "Type of pyExp_rule_obj['X_explain'] -  <class 'pandas.core.frame.DataFrame'> \n",
      "\n",
      "Example\n"
     ]
    },
    {
     "data": {
      "text/html": [
       "<div>\n",
       "<style scoped>\n",
       "    .dataframe tbody tr th:only-of-type {\n",
       "        vertical-align: middle;\n",
       "    }\n",
       "\n",
       "    .dataframe tbody tr th {\n",
       "        vertical-align: top;\n",
       "    }\n",
       "\n",
       "    .dataframe thead th {\n",
       "        text-align: right;\n",
       "    }\n",
       "</style>\n",
       "<table border=\"1\" class=\"dataframe\">\n",
       "  <thead>\n",
       "    <tr style=\"text-align: right;\">\n",
       "      <th></th>\n",
       "      <th>la</th>\n",
       "      <th>nd</th>\n",
       "      <th>ns</th>\n",
       "      <th>ent</th>\n",
       "      <th>nrev</th>\n",
       "      <th>rtime</th>\n",
       "      <th>self</th>\n",
       "      <th>ndev</th>\n",
       "      <th>age</th>\n",
       "      <th>app</th>\n",
       "      <th>rrexp</th>\n",
       "      <th>asawr</th>\n",
       "      <th>rsawr</th>\n",
       "    </tr>\n",
       "    <tr>\n",
       "      <th>commit_id</th>\n",
       "      <th></th>\n",
       "      <th></th>\n",
       "      <th></th>\n",
       "      <th></th>\n",
       "      <th></th>\n",
       "      <th></th>\n",
       "      <th></th>\n",
       "      <th></th>\n",
       "      <th></th>\n",
       "      <th></th>\n",
       "      <th></th>\n",
       "      <th></th>\n",
       "      <th></th>\n",
       "    </tr>\n",
       "  </thead>\n",
       "  <tbody>\n",
       "    <tr>\n",
       "      <th>a9a59ccbacafd6eb94f57861cfc28f5a24f474db</th>\n",
       "      <td>155</td>\n",
       "      <td>3</td>\n",
       "      <td>1</td>\n",
       "      <td>0.736602</td>\n",
       "      <td>12.0</td>\n",
       "      <td>32.516586</td>\n",
       "      <td>0</td>\n",
       "      <td>70.0</td>\n",
       "      <td>0.669703</td>\n",
       "      <td>3.0</td>\n",
       "      <td>2374.0</td>\n",
       "      <td>0.143199</td>\n",
       "      <td>0.390069</td>\n",
       "    </tr>\n",
       "  </tbody>\n",
       "</table>\n",
       "</div>"
      ],
      "text/plain": [
       "                                           la  nd  ns       ent  nrev  \\\n",
       "commit_id                                                               \n",
       "a9a59ccbacafd6eb94f57861cfc28f5a24f474db  155   3   1  0.736602  12.0   \n",
       "\n",
       "                                              rtime  self  ndev       age  \\\n",
       "commit_id                                                                   \n",
       "a9a59ccbacafd6eb94f57861cfc28f5a24f474db  32.516586     0  70.0  0.669703   \n",
       "\n",
       "                                          app   rrexp     asawr     rsawr  \n",
       "commit_id                                                                  \n",
       "a9a59ccbacafd6eb94f57861cfc28f5a24f474db  3.0  2374.0  0.143199  0.390069  "
      ]
     },
     "metadata": {},
     "output_type": "display_data"
    }
   ],
   "source": [
    "print(\"Type of pyExp_rule_obj['X_explain'] - \", type(created_rule_obj['X_explain']), \"\\n\")\n",
    "\n",
    "print('Example')\n",
    "display(created_rule_obj['X_explain'])"
   ]
  },
  {
   "cell_type": "markdown",
   "id": "ongoing-drilling",
   "metadata": {},
   "source": [
    "### y_explain\n",
    "\n",
    "y_explain is a label of X_explain "
   ]
  },
  {
   "cell_type": "code",
   "execution_count": 18,
   "id": "antique-straight",
   "metadata": {},
   "outputs": [
    {
     "name": "stdout",
     "output_type": "stream",
     "text": [
      "Type of pyExp_rule_obj['y_explain'] -  <class 'pandas.core.series.Series'> \n",
      "\n",
      "Example \n",
      "\n",
      " commit_id\n",
      "a9a59ccbacafd6eb94f57861cfc28f5a24f474db    True\n",
      "Name: defect, dtype: bool\n"
     ]
    }
   ],
   "source": [
    "print(\"Type of pyExp_rule_obj['y_explain'] - \", type(created_rule_obj['y_explain']), \"\\n\")\n",
    "print(\"Example\", \"\\n\\n\", created_rule_obj['y_explain'])"
   ]
  },
  {
   "cell_type": "markdown",
   "id": "narrative-senator",
   "metadata": {},
   "source": [
    "### indep\n",
    "#### indep is feature names of X_explain"
   ]
  },
  {
   "cell_type": "code",
   "execution_count": 19,
   "id": "sized-valuable",
   "metadata": {},
   "outputs": [
    {
     "name": "stdout",
     "output_type": "stream",
     "text": [
      "Type of pyExp_rule_obj['indep'] -  <class 'pandas.core.indexes.base.Index'> \n",
      "\n",
      "Example \n",
      "\n",
      " Index(['la', 'nd', 'ns', 'ent', 'nrev', 'rtime', 'self', 'ndev', 'age', 'app',\n",
      "       'rrexp', 'asawr', 'rsawr'],\n",
      "      dtype='object')\n"
     ]
    }
   ],
   "source": [
    "print(\"Type of pyExp_rule_obj['indep'] - \", type(created_rule_obj['indep']), \"\\n\")\n",
    "print(\"Example\", \"\\n\\n\", created_rule_obj['indep'])"
   ]
  },
  {
   "cell_type": "markdown",
   "id": "atlantic-charles",
   "metadata": {},
   "source": [
    "### dep\n",
    "#### dep is a label name"
   ]
  },
  {
   "cell_type": "code",
   "execution_count": 20,
   "id": "moral-collectible",
   "metadata": {},
   "outputs": [
    {
     "name": "stdout",
     "output_type": "stream",
     "text": [
      "Type of pyExp_rule_obj['dep'] -  <class 'str'> \n",
      "\n",
      "Example \n",
      "\n",
      " defect\n"
     ]
    }
   ],
   "source": [
    "print(\"Type of pyExp_rule_obj['dep'] - \", type(created_rule_obj['dep']), \"\\n\")\n",
    "print(\"Example\", \"\\n\\n\", created_rule_obj['dep'])"
   ]
  },
  {
   "cell_type": "markdown",
   "id": "compact-willow",
   "metadata": {},
   "source": [
    "### top_k_positive_rules\n",
    "\n",
    "top_k_positive_rules is top-k rules that are genereated by PyExplainer to explain why a commit is predicted as defective.\n",
    "\n",
    "Here we show top-3 rules that lead to defective commits="
   ]
  },
  {
   "cell_type": "code",
   "execution_count": 26,
   "id": "measured-miller",
   "metadata": {},
   "outputs": [
    {
     "name": "stdout",
     "output_type": "stream",
     "text": [
      "Type of pyExp_rule_obj['top_k_positive_rules'] -  <class 'pandas.core.frame.DataFrame'> \n",
      "\n",
      "Example\n"
     ]
    },
    {
     "data": {
      "text/html": [
       "<div>\n",
       "<style scoped>\n",
       "    .dataframe tbody tr th:only-of-type {\n",
       "        vertical-align: middle;\n",
       "    }\n",
       "\n",
       "    .dataframe tbody tr th {\n",
       "        vertical-align: top;\n",
       "    }\n",
       "\n",
       "    .dataframe thead th {\n",
       "        text-align: right;\n",
       "    }\n",
       "</style>\n",
       "<table border=\"1\" class=\"dataframe\">\n",
       "  <thead>\n",
       "    <tr style=\"text-align: right;\">\n",
       "      <th></th>\n",
       "      <th>index</th>\n",
       "      <th>rule</th>\n",
       "      <th>type</th>\n",
       "      <th>coef</th>\n",
       "      <th>support</th>\n",
       "      <th>importance</th>\n",
       "      <th>is_satisfy_instance</th>\n",
       "    </tr>\n",
       "  </thead>\n",
       "  <tbody>\n",
       "    <tr>\n",
       "      <th>0</th>\n",
       "      <td>572</td>\n",
       "      <td>la &lt;= 104.84500122070312 &amp; ndev &gt; 71.319999694...</td>\n",
       "      <td>rule</td>\n",
       "      <td>0.220501</td>\n",
       "      <td>0.232376</td>\n",
       "      <td>0.093128</td>\n",
       "      <td>True</td>\n",
       "    </tr>\n",
       "    <tr>\n",
       "      <th>1</th>\n",
       "      <td>359</td>\n",
       "      <td>la &gt; 103.68999862670898 &amp; nrev &gt; 8.11499977111...</td>\n",
       "      <td>rule</td>\n",
       "      <td>0.167275</td>\n",
       "      <td>0.237598</td>\n",
       "      <td>0.071194</td>\n",
       "      <td>True</td>\n",
       "    </tr>\n",
       "    <tr>\n",
       "      <th>2</th>\n",
       "      <td>98</td>\n",
       "      <td>app &lt;= 3.9550000429153442 &amp; ndev &lt;= 103.875 &amp; ...</td>\n",
       "      <td>rule</td>\n",
       "      <td>0.136704</td>\n",
       "      <td>0.631854</td>\n",
       "      <td>0.065933</td>\n",
       "      <td>True</td>\n",
       "    </tr>\n",
       "  </tbody>\n",
       "</table>\n",
       "</div>"
      ],
      "text/plain": [
       "   index                                               rule  type      coef  \\\n",
       "0    572  la <= 104.84500122070312 & ndev > 71.319999694...  rule  0.220501   \n",
       "1    359  la > 103.68999862670898 & nrev > 8.11499977111...  rule  0.167275   \n",
       "2     98  app <= 3.9550000429153442 & ndev <= 103.875 & ...  rule  0.136704   \n",
       "\n",
       "    support  importance is_satisfy_instance  \n",
       "0  0.232376    0.093128                True  \n",
       "1  0.237598    0.071194                True  \n",
       "2  0.631854    0.065933                True  "
      ]
     },
     "metadata": {},
     "output_type": "display_data"
    }
   ],
   "source": [
    "print(\"Type of pyExp_rule_obj['top_k_positive_rules'] - \", type(created_rule_obj['top_k_positive_rules']), \"\\n\")\n",
    "print('Example')\n",
    "display(created_rule_obj['top_k_positive_rules'].head(3))"
   ]
  },
  {
   "cell_type": "markdown",
   "id": "employed-choir",
   "metadata": {},
   "source": [
    "### top_k_negative_rules\n",
    "\n",
    "top_k_negative_rules is top-k negative rules that are genereated by PyExplainer to explain why a commit is predicted as clean.\n",
    "\n",
    "The default number of generated rules is 3.\n"
   ]
  },
  {
   "cell_type": "code",
   "execution_count": 27,
   "id": "opposite-ownership",
   "metadata": {},
   "outputs": [
    {
     "name": "stdout",
     "output_type": "stream",
     "text": [
      "Type of pyExp_rule_obj['top_k_negative_rules'] -  <class 'pandas.core.frame.DataFrame'> \n",
      "\n",
      "Example\n"
     ]
    },
    {
     "data": {
      "text/html": [
       "<div>\n",
       "<style scoped>\n",
       "    .dataframe tbody tr th:only-of-type {\n",
       "        vertical-align: middle;\n",
       "    }\n",
       "\n",
       "    .dataframe tbody tr th {\n",
       "        vertical-align: top;\n",
       "    }\n",
       "\n",
       "    .dataframe thead th {\n",
       "        text-align: right;\n",
       "    }\n",
       "</style>\n",
       "<table border=\"1\" class=\"dataframe\">\n",
       "  <thead>\n",
       "    <tr style=\"text-align: right;\">\n",
       "      <th></th>\n",
       "      <th>rule</th>\n",
       "      <th>type</th>\n",
       "      <th>coef</th>\n",
       "      <th>support</th>\n",
       "      <th>importance</th>\n",
       "      <th>Class</th>\n",
       "    </tr>\n",
       "  </thead>\n",
       "  <tbody>\n",
       "    <tr>\n",
       "      <th>820</th>\n",
       "      <td>ent &lt;= 0.9350000023841858 &amp; app &gt; 2.9900000095...</td>\n",
       "      <td>rule</td>\n",
       "      <td>-0.216263</td>\n",
       "      <td>0.389034</td>\n",
       "      <td>0.105435</td>\n",
       "      <td>Clean</td>\n",
       "    </tr>\n",
       "    <tr>\n",
       "      <th>1609</th>\n",
       "      <td>app &lt;= 4.009999990463257 &amp; app &gt; 2.99000000953...</td>\n",
       "      <td>rule</td>\n",
       "      <td>-0.206549</td>\n",
       "      <td>0.428198</td>\n",
       "      <td>0.102204</td>\n",
       "      <td>Clean</td>\n",
       "    </tr>\n",
       "    <tr>\n",
       "      <th>323</th>\n",
       "      <td>la &lt;= 104.84500122070312 &amp; ndev &lt;= 71.31999969...</td>\n",
       "      <td>rule</td>\n",
       "      <td>-0.173105</td>\n",
       "      <td>0.391645</td>\n",
       "      <td>0.084496</td>\n",
       "      <td>Clean</td>\n",
       "    </tr>\n",
       "  </tbody>\n",
       "</table>\n",
       "</div>"
      ],
      "text/plain": [
       "                                                   rule  type      coef  \\\n",
       "820   ent <= 0.9350000023841858 & app > 2.9900000095...  rule -0.216263   \n",
       "1609  app <= 4.009999990463257 & app > 2.99000000953...  rule -0.206549   \n",
       "323   la <= 104.84500122070312 & ndev <= 71.31999969...  rule -0.173105   \n",
       "\n",
       "       support  importance  Class  \n",
       "820   0.389034    0.105435  Clean  \n",
       "1609  0.428198    0.102204  Clean  \n",
       "323   0.391645    0.084496  Clean  "
      ]
     },
     "metadata": {},
     "output_type": "display_data"
    }
   ],
   "source": [
    "print(\"Type of pyExp_rule_obj['top_k_negative_rules'] - \", type(created_rule_obj['top_k_negative_rules']), \"\\n\")\n",
    "print('Example')\n",
    "display(created_rule_obj['top_k_negative_rules'])"
   ]
  },
  {
   "cell_type": "markdown",
   "id": "written-insertion",
   "metadata": {},
   "source": [
    "# Bug Report Channel\n",
    "#### Please report <a href=\"https://github.com/awsm-research/pyExplainer/issues\">here</a>\n",
    "#### 📧 or email your report to michaelfu1998@gmail.com"
   ]
  }
 ],
 "metadata": {
  "kernelspec": {
   "display_name": "Python 3",
   "language": "python",
   "name": "python3"
  },
  "language_info": {
   "codemirror_mode": {
    "name": "ipython",
    "version": 3
   },
   "file_extension": ".py",
   "mimetype": "text/x-python",
   "name": "python",
   "nbconvert_exporter": "python",
   "pygments_lexer": "ipython3",
   "version": "3.8.8"
  },
  "varInspector": {
   "cols": {
    "lenName": 16,
    "lenType": 16,
    "lenVar": 40
   },
   "kernels_config": {
    "python": {
     "delete_cmd_postfix": "",
     "delete_cmd_prefix": "del ",
     "library": "var_list.py",
     "varRefreshCmd": "print(var_dic_list())"
    },
    "r": {
     "delete_cmd_postfix": ") ",
     "delete_cmd_prefix": "rm(",
     "library": "var_list.r",
     "varRefreshCmd": "cat(var_dic_list()) "
    }
   },
   "types_to_exclude": [
    "module",
    "function",
    "builtin_function_or_method",
    "instance",
    "_Feature"
   ],
   "window_display": false
  }
 },
 "nbformat": 4,
 "nbformat_minor": 5
}
