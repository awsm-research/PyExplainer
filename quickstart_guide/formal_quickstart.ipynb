{
 "cells": [
  {
   "cell_type": "markdown",
   "id": "dated-worst",
   "metadata": {},
   "source": [
    "# <center> 👩‍💻 Welcome to PyExplainer Quickstart Guide 👨‍💻 </center>"
   ]
  },
  {
   "cell_type": "markdown",
   "id": "legendary-military",
   "metadata": {},
   "source": [
    "### <center><a href=\"https://github.com/awsm-research/pyExplainer\">pyexplainer - GitHub Repository</a></center>\n",
    "### <center><a href=\"https://pypi.org/project/pyexplainer/\">pyexplainer - PyPI</a></center>\n",
    "### <center><a href=\"https://pyexplainer.readthedocs.io/en/latest/\">pyexplainer - Official Documentation</a></center>"
   ]
  },
  {
   "cell_type": "markdown",
   "id": "pregnant-appraisal",
   "metadata": {},
   "source": [
    "# 🛠 Installation \n",
    "## - Please ignore this part if you cloned the whole package from GitHub\n",
    "\n",
    "### 🤖 Run the cell below to install pyexplainer 0.1.5"
   ]
  },
  {
   "cell_type": "code",
   "execution_count": 1,
   "id": "hungarian-thursday",
   "metadata": {},
   "outputs": [
    {
     "name": "stdout",
     "output_type": "stream",
     "text": [
      "Collecting pyexplainer\n",
      "  Using cached pyexplainer-0.1.5-py3-none-any.whl (575 kB)\n",
      "Requirement already satisfied: scikit-learn<0.25.0,>=0.24.1 in c:\\users\\micha\\anaconda3\\lib\\site-packages (from pyexplainer) (0.24.1)\n",
      "Requirement already satisfied: numpy<2.0.0,>=1.20.1 in c:\\users\\micha\\anaconda3\\lib\\site-packages (from pyexplainer) (1.20.1)\n",
      "Requirement already satisfied: scipy<2.0.0,>=1.6.1 in c:\\users\\micha\\anaconda3\\lib\\site-packages (from pyexplainer) (1.6.1)\n",
      "Requirement already satisfied: ipywidgets<8.0.0,>=7.6.3 in c:\\users\\micha\\anaconda3\\lib\\site-packages (from pyexplainer) (7.6.3)\n",
      "Requirement already satisfied: pandas<2.0.0,>=1.2.3 in c:\\users\\micha\\anaconda3\\lib\\site-packages (from pyexplainer) (1.2.3)\n",
      "Requirement already satisfied: ipython<8.0.0,>=7.21.0 in c:\\users\\micha\\anaconda3\\lib\\site-packages (from pyexplainer) (7.21.0)\n",
      "Requirement already satisfied: traitlets>=4.2 in c:\\users\\micha\\anaconda3\\lib\\site-packages (from ipython<8.0.0,>=7.21.0->pyexplainer) (5.0.5)\n",
      "Requirement already satisfied: jedi>=0.16 in c:\\users\\micha\\anaconda3\\lib\\site-packages (from ipython<8.0.0,>=7.21.0->pyexplainer) (0.17.2)\n",
      "Requirement already satisfied: backcall in c:\\users\\micha\\anaconda3\\lib\\site-packages (from ipython<8.0.0,>=7.21.0->pyexplainer) (0.2.0)\n",
      "Requirement already satisfied: pickleshare in c:\\users\\micha\\anaconda3\\lib\\site-packages (from ipython<8.0.0,>=7.21.0->pyexplainer) (0.7.5)\n",
      "Requirement already satisfied: pygments in c:\\users\\micha\\anaconda3\\lib\\site-packages (from ipython<8.0.0,>=7.21.0->pyexplainer) (2.8.0)\n",
      "Requirement already satisfied: decorator in c:\\users\\micha\\anaconda3\\lib\\site-packages (from ipython<8.0.0,>=7.21.0->pyexplainer) (4.4.2)\n",
      "Requirement already satisfied: prompt-toolkit!=3.0.0,!=3.0.1,<3.1.0,>=2.0.0 in c:\\users\\micha\\anaconda3\\lib\\site-packages (from ipython<8.0.0,>=7.21.0->pyexplainer) (3.0.8)\n",
      "Requirement already satisfied: colorama in c:\\users\\micha\\anaconda3\\lib\\site-packages (from ipython<8.0.0,>=7.21.0->pyexplainer) (0.4.4)\n",
      "Requirement already satisfied: setuptools>=18.5 in c:\\users\\micha\\anaconda3\\lib\\site-packages (from ipython<8.0.0,>=7.21.0->pyexplainer) (52.0.0.post20210125)\n",
      "Requirement already satisfied: jupyterlab-widgets>=1.0.0 in c:\\users\\micha\\anaconda3\\lib\\site-packages (from ipywidgets<8.0.0,>=7.6.3->pyexplainer) (1.0.0)\n",
      "Requirement already satisfied: widgetsnbextension~=3.5.0 in c:\\users\\micha\\anaconda3\\lib\\site-packages (from ipywidgets<8.0.0,>=7.6.3->pyexplainer) (3.5.1)\n",
      "Requirement already satisfied: nbformat>=4.2.0 in c:\\users\\micha\\anaconda3\\lib\\site-packages (from ipywidgets<8.0.0,>=7.6.3->pyexplainer) (5.1.2)\n",
      "Requirement already satisfied: ipykernel>=4.5.1 in c:\\users\\micha\\anaconda3\\lib\\site-packages (from ipywidgets<8.0.0,>=7.6.3->pyexplainer) (5.3.4)\n",
      "Requirement already satisfied: tornado>=4.2 in c:\\users\\micha\\anaconda3\\lib\\site-packages (from ipykernel>=4.5.1->ipywidgets<8.0.0,>=7.6.3->pyexplainer) (6.1)\n",
      "Requirement already satisfied: jupyter-client in c:\\users\\micha\\anaconda3\\lib\\site-packages (from ipykernel>=4.5.1->ipywidgets<8.0.0,>=7.6.3->pyexplainer) (6.1.7)\n",
      "Requirement already satisfied: parso<0.8.0,>=0.7.0 in c:\\users\\micha\\anaconda3\\lib\\site-packages (from jedi>=0.16->ipython<8.0.0,>=7.21.0->pyexplainer) (0.7.0)\n",
      "Requirement already satisfied: jsonschema!=2.5.0,>=2.4 in c:\\users\\micha\\anaconda3\\lib\\site-packages (from nbformat>=4.2.0->ipywidgets<8.0.0,>=7.6.3->pyexplainer) (3.2.0)\n",
      "Requirement already satisfied: jupyter-core in c:\\users\\micha\\anaconda3\\lib\\site-packages (from nbformat>=4.2.0->ipywidgets<8.0.0,>=7.6.3->pyexplainer) (4.7.1)\n",
      "Requirement already satisfied: ipython-genutils in c:\\users\\micha\\anaconda3\\lib\\site-packages (from nbformat>=4.2.0->ipywidgets<8.0.0,>=7.6.3->pyexplainer) (0.2.0)\n",
      "Requirement already satisfied: attrs>=17.4.0 in c:\\users\\micha\\anaconda3\\lib\\site-packages (from jsonschema!=2.5.0,>=2.4->nbformat>=4.2.0->ipywidgets<8.0.0,>=7.6.3->pyexplainer) (20.3.0)\n",
      "Requirement already satisfied: pyrsistent>=0.14.0 in c:\\users\\micha\\anaconda3\\lib\\site-packages (from jsonschema!=2.5.0,>=2.4->nbformat>=4.2.0->ipywidgets<8.0.0,>=7.6.3->pyexplainer) (0.14.11)\n",
      "Requirement already satisfied: six>=1.11.0 in c:\\users\\micha\\anaconda3\\lib\\site-packages (from jsonschema!=2.5.0,>=2.4->nbformat>=4.2.0->ipywidgets<8.0.0,>=7.6.3->pyexplainer) (1.15.0)\n",
      "Requirement already satisfied: python-dateutil>=2.7.3 in c:\\users\\micha\\anaconda3\\lib\\site-packages (from pandas<2.0.0,>=1.2.3->pyexplainer) (2.8.1)\n",
      "Requirement already satisfied: pytz>=2017.3 in c:\\users\\micha\\anaconda3\\lib\\site-packages (from pandas<2.0.0,>=1.2.3->pyexplainer) (2021.1)\n",
      "Requirement already satisfied: wcwidth in c:\\users\\micha\\anaconda3\\lib\\site-packages (from prompt-toolkit!=3.0.0,!=3.0.1,<3.1.0,>=2.0.0->ipython<8.0.0,>=7.21.0->pyexplainer) (0.2.5)\n",
      "Requirement already satisfied: joblib>=0.11 in c:\\users\\micha\\anaconda3\\lib\\site-packages (from scikit-learn<0.25.0,>=0.24.1->pyexplainer) (1.0.1)\n",
      "Requirement already satisfied: threadpoolctl>=2.0.0 in c:\\users\\micha\\anaconda3\\lib\\site-packages (from scikit-learn<0.25.0,>=0.24.1->pyexplainer) (2.1.0)\n",
      "Requirement already satisfied: notebook>=4.4.1 in c:\\users\\micha\\anaconda3\\lib\\site-packages (from widgetsnbextension~=3.5.0->ipywidgets<8.0.0,>=7.6.3->pyexplainer) (6.2.0)\n",
      "Requirement already satisfied: terminado>=0.8.3 in c:\\users\\micha\\anaconda3\\lib\\site-packages (from notebook>=4.4.1->widgetsnbextension~=3.5.0->ipywidgets<8.0.0,>=7.6.3->pyexplainer) (0.9.2)\n",
      "Requirement already satisfied: prometheus-client in c:\\users\\micha\\anaconda3\\lib\\site-packages (from notebook>=4.4.1->widgetsnbextension~=3.5.0->ipywidgets<8.0.0,>=7.6.3->pyexplainer) (0.9.0)\n",
      "Requirement already satisfied: argon2-cffi in c:\\users\\micha\\anaconda3\\lib\\site-packages (from notebook>=4.4.1->widgetsnbextension~=3.5.0->ipywidgets<8.0.0,>=7.6.3->pyexplainer) (20.1.0)\n",
      "Requirement already satisfied: jinja2 in c:\\users\\micha\\anaconda3\\lib\\site-packages (from notebook>=4.4.1->widgetsnbextension~=3.5.0->ipywidgets<8.0.0,>=7.6.3->pyexplainer) (2.11.3)\n",
      "Requirement already satisfied: Send2Trash>=1.5.0 in c:\\users\\micha\\anaconda3\\lib\\site-packages (from notebook>=4.4.1->widgetsnbextension~=3.5.0->ipywidgets<8.0.0,>=7.6.3->pyexplainer) (1.5.0)\n",
      "Requirement already satisfied: nbconvert in c:\\users\\micha\\anaconda3\\lib\\site-packages (from notebook>=4.4.1->widgetsnbextension~=3.5.0->ipywidgets<8.0.0,>=7.6.3->pyexplainer) (6.0.7)\n",
      "Requirement already satisfied: pyzmq>=17 in c:\\users\\micha\\anaconda3\\lib\\site-packages (from notebook>=4.4.1->widgetsnbextension~=3.5.0->ipywidgets<8.0.0,>=7.6.3->pyexplainer) (20.0.0)\n",
      "Requirement already satisfied: pywin32>=1.0 in c:\\users\\micha\\anaconda3\\lib\\site-packages (from jupyter-core->nbformat>=4.2.0->ipywidgets<8.0.0,>=7.6.3->pyexplainer) (227)\n",
      "Requirement already satisfied: pywinpty>=0.5 in c:\\users\\micha\\anaconda3\\lib\\site-packages (from terminado>=0.8.3->notebook>=4.4.1->widgetsnbextension~=3.5.0->ipywidgets<8.0.0,>=7.6.3->pyexplainer) (0.5.7)\n",
      "Requirement already satisfied: cffi>=1.0.0 in c:\\users\\micha\\anaconda3\\lib\\site-packages (from argon2-cffi->notebook>=4.4.1->widgetsnbextension~=3.5.0->ipywidgets<8.0.0,>=7.6.3->pyexplainer) (1.14.5)\n",
      "Requirement already satisfied: pycparser in c:\\users\\micha\\anaconda3\\lib\\site-packages (from cffi>=1.0.0->argon2-cffi->notebook>=4.4.1->widgetsnbextension~=3.5.0->ipywidgets<8.0.0,>=7.6.3->pyexplainer) (2.20)\n",
      "Requirement already satisfied: MarkupSafe>=0.23 in c:\\users\\micha\\anaconda3\\lib\\site-packages (from jinja2->notebook>=4.4.1->widgetsnbextension~=3.5.0->ipywidgets<8.0.0,>=7.6.3->pyexplainer) (1.1.1)\n",
      "Requirement already satisfied: bleach in c:\\users\\micha\\anaconda3\\lib\\site-packages (from nbconvert->notebook>=4.4.1->widgetsnbextension~=3.5.0->ipywidgets<8.0.0,>=7.6.3->pyexplainer) (3.3.0)\n",
      "Requirement already satisfied: mistune<2,>=0.8.1 in c:\\users\\micha\\anaconda3\\lib\\site-packages (from nbconvert->notebook>=4.4.1->widgetsnbextension~=3.5.0->ipywidgets<8.0.0,>=7.6.3->pyexplainer) (0.8.4)\n",
      "Requirement already satisfied: pandocfilters>=1.4.1 in c:\\users\\micha\\anaconda3\\lib\\site-packages (from nbconvert->notebook>=4.4.1->widgetsnbextension~=3.5.0->ipywidgets<8.0.0,>=7.6.3->pyexplainer) (1.4.3)\n",
      "Requirement already satisfied: jupyterlab-pygments in c:\\users\\micha\\anaconda3\\lib\\site-packages (from nbconvert->notebook>=4.4.1->widgetsnbextension~=3.5.0->ipywidgets<8.0.0,>=7.6.3->pyexplainer) (0.1.2)\n",
      "Requirement already satisfied: testpath in c:\\users\\micha\\anaconda3\\lib\\site-packages (from nbconvert->notebook>=4.4.1->widgetsnbextension~=3.5.0->ipywidgets<8.0.0,>=7.6.3->pyexplainer) (0.4.4)\n",
      "Requirement already satisfied: entrypoints>=0.2.2 in c:\\users\\micha\\anaconda3\\lib\\site-packages (from nbconvert->notebook>=4.4.1->widgetsnbextension~=3.5.0->ipywidgets<8.0.0,>=7.6.3->pyexplainer) (0.3)\n",
      "Requirement already satisfied: nbclient<0.6.0,>=0.5.0 in c:\\users\\micha\\anaconda3\\lib\\site-packages (from nbconvert->notebook>=4.4.1->widgetsnbextension~=3.5.0->ipywidgets<8.0.0,>=7.6.3->pyexplainer) (0.5.1)\n",
      "Requirement already satisfied: defusedxml in c:\\users\\micha\\anaconda3\\lib\\site-packages (from nbconvert->notebook>=4.4.1->widgetsnbextension~=3.5.0->ipywidgets<8.0.0,>=7.6.3->pyexplainer) (0.6.0)\n",
      "Requirement already satisfied: async-generator in c:\\users\\micha\\anaconda3\\lib\\site-packages (from nbclient<0.6.0,>=0.5.0->nbconvert->notebook>=4.4.1->widgetsnbextension~=3.5.0->ipywidgets<8.0.0,>=7.6.3->pyexplainer) (1.10)\n",
      "Requirement already satisfied: nest-asyncio in c:\\users\\micha\\anaconda3\\lib\\site-packages (from nbclient<0.6.0,>=0.5.0->nbconvert->notebook>=4.4.1->widgetsnbextension~=3.5.0->ipywidgets<8.0.0,>=7.6.3->pyexplainer) (1.4.2)\n",
      "Requirement already satisfied: webencodings in c:\\users\\micha\\anaconda3\\lib\\site-packages (from bleach->nbconvert->notebook>=4.4.1->widgetsnbextension~=3.5.0->ipywidgets<8.0.0,>=7.6.3->pyexplainer) (0.5.1)\n",
      "Requirement already satisfied: packaging in c:\\users\\micha\\anaconda3\\lib\\site-packages (from bleach->nbconvert->notebook>=4.4.1->widgetsnbextension~=3.5.0->ipywidgets<8.0.0,>=7.6.3->pyexplainer) (20.9)\n",
      "Requirement already satisfied: pyparsing>=2.0.2 in c:\\users\\micha\\anaconda3\\lib\\site-packages (from packaging->bleach->nbconvert->notebook>=4.4.1->widgetsnbextension~=3.5.0->ipywidgets<8.0.0,>=7.6.3->pyexplainer) (2.4.7)\n",
      "Installing collected packages: pyexplainer\n",
      "Successfully installed pyexplainer-0.1.5\n"
     ]
    }
   ],
   "source": [
    "!pip install pyexplainer"
   ]
  },
  {
   "cell_type": "markdown",
   "id": "ideal-bedroom",
   "metadata": {},
   "source": [
    "### 🤖 If the code above did not work, try the cell below, otherwise, you are good to go!"
   ]
  },
  {
   "cell_type": "code",
   "execution_count": null,
   "id": "alert-spirituality",
   "metadata": {},
   "outputs": [],
   "source": [
    "!pip3 install pyexplainer"
   ]
  },
  {
   "cell_type": "markdown",
   "id": "regional-promise",
   "metadata": {},
   "source": [
    "# Let's get started !"
   ]
  },
  {
   "cell_type": "markdown",
   "id": "forced-olympus",
   "metadata": {},
   "source": [
    "## 👩🏻‍🔧 1. Prepare data and model\n",
    "#### 📝Note. We use the default data and model here for an example"
   ]
  },
  {
   "cell_type": "markdown",
   "id": "crude-promise",
   "metadata": {},
   "source": [
    "### 1.1 Import Libraries Needed"
   ]
  },
  {
   "cell_type": "code",
   "execution_count": 2,
   "id": "stunning-summer",
   "metadata": {},
   "outputs": [],
   "source": [
    "from pyexplainer import pyexplainer_pyexplainer\n",
    "from pyexplainer.pyexplainer_pyexplainer import PyExplainer"
   ]
  },
  {
   "cell_type": "markdown",
   "id": "turned-ethics",
   "metadata": {},
   "source": [
    "### 1.2 Use default datasets and model (Random Forest)"
   ]
  },
  {
   "cell_type": "code",
   "execution_count": 3,
   "id": "hearing-gambling",
   "metadata": {},
   "outputs": [],
   "source": [
    "default_data_and_model = pyexplainer_pyexplainer.get_default_data_and_model()\n",
    "py_explainer = PyExplainer(X_train = default_data_and_model['X_train'],\n",
    "                           y_train = default_data_and_model['y_train'],\n",
    "                           indep = default_data_and_model['indep'],\n",
    "                           dep = default_data_and_model['dep'],\n",
    "                           blackbox_model = default_data_and_model['blackbox_model'])"
   ]
  },
  {
   "cell_type": "markdown",
   "id": "appropriate-meaning",
   "metadata": {},
   "source": [
    "## 🔧2. Create a Rule Object Manually\n",
    "#### 📝Note. Rule Object is the core backend concept of PyExplainer ! "
   ]
  },
  {
   "cell_type": "markdown",
   "id": "relevant-subcommittee",
   "metadata": {},
   "source": [
    "### 2.1 Prepare X_explain and y_explain data\n",
    "#### 📝Note. We use the default data here for an example"
   ]
  },
  {
   "cell_type": "code",
   "execution_count": 4,
   "id": "changing-empty",
   "metadata": {},
   "outputs": [],
   "source": [
    "X_explain = default_data_and_model['X_explain']"
   ]
  },
  {
   "cell_type": "code",
   "execution_count": 5,
   "id": "pleasant-avenue",
   "metadata": {},
   "outputs": [],
   "source": [
    "y_explain = default_data_and_model['y_explain']"
   ]
  },
  {
   "cell_type": "markdown",
   "id": "mechanical-motion",
   "metadata": {},
   "source": [
    "### 2.2 Create the rule object"
   ]
  },
  {
   "cell_type": "code",
   "execution_count": 6,
   "id": "awful-blank",
   "metadata": {},
   "outputs": [],
   "source": [
    "created_rule_obj = py_explainer.explain(X_explain=X_explain,\n",
    "                                        y_explain=y_explain,\n",
    "                                        search_function='crossoverinterpolation')"
   ]
  },
  {
   "cell_type": "markdown",
   "id": "architectural-broad",
   "metadata": {},
   "source": [
    "## 👩🏽‍🎨 3. Pass Rule Object to .visualise(rule_obj) to Generate the Bullet Chart and Interactive Slider\n",
    "#### 📝Note. simply move the gray slider to modify the value so you can get a new risk score."
   ]
  },
  {
   "cell_type": "markdown",
   "id": "returning-vertical",
   "metadata": {},
   "source": [
    "#### 🔧 Visualise the Rule Object we created manually using .explain(...) method"
   ]
  },
  {
   "cell_type": "code",
   "execution_count": 7,
   "id": "cheap-minister",
   "metadata": {},
   "outputs": [
    {
     "data": {
      "application/vnd.jupyter.widget-view+json": {
       "model_id": "6e78a9bc946c48618465704226a68f87",
       "version_major": 2,
       "version_minor": 0
      },
      "text/plain": [
       "HBox(children=(Label(value='Risk Score: '), FloatProgress(value=0.0, bar_style='info', layout=Layout(width='40…"
      ]
     },
     "metadata": {},
     "output_type": "display_data"
    },
    {
     "data": {
      "application/vnd.jupyter.widget-view+json": {
       "model_id": "97f1ba9037794958a42d241a728dbae5",
       "version_major": 2,
       "version_minor": 0
      },
      "text/plain": [
       "FloatSlider(value=1.0, continuous_update=False, description='#1 Decrease the values of CountDeclMethodPublic t…"
      ]
     },
     "metadata": {},
     "output_type": "display_data"
    },
    {
     "data": {
      "application/vnd.jupyter.widget-view+json": {
       "model_id": "78b95e58867b4966b3f18e10a7fac1dc",
       "version_major": 2,
       "version_minor": 0
      },
      "text/plain": [
       "Output(layout=Layout(border='3px solid black'))"
      ]
     },
     "metadata": {},
     "output_type": "display_data"
    }
   ],
   "source": [
    "py_explainer.visualise(created_rule_obj)"
   ]
  },
  {
   "cell_type": "markdown",
   "id": "infectious-calgary",
   "metadata": {},
   "source": [
    "# 🤡 Important - Bug Report Channel 🤡\n",
    "#### Please report <a href=\"https://github.com/awsm-research/pyExplainer/issues\">here</a>\n",
    "#### 📧 or email your report to michaelfu1998@gmail.com\n",
    "# "
   ]
  },
  {
   "cell_type": "markdown",
   "id": "married-malpractice",
   "metadata": {},
   "source": [
    "# <center> 🙏Thanks for playing around with PyExplainer, I really appreciate your time! 🙏 </center>\n",
    "#### <center> 🔥 More Features will be Released Soon 🔥 </center>"
   ]
  },
  {
   "cell_type": "markdown",
   "id": "difficult-algeria",
   "metadata": {},
   "source": [
    "# 📜 Appendex 📜"
   ]
  },
  {
   "cell_type": "markdown",
   "id": "numeric-efficiency",
   "metadata": {},
   "source": [
    "## A. 🕵🏻 What's in the Rule Object (rule_obj) ?  Let's unbox it ! 📦"
   ]
  },
  {
   "cell_type": "markdown",
   "id": "increased-indicator",
   "metadata": {},
   "source": [
    "### Basic Data Check"
   ]
  },
  {
   "cell_type": "code",
   "execution_count": null,
   "id": "respective-program",
   "metadata": {},
   "outputs": [],
   "source": [
    "print(\"Type of Rule Object: \", type(load_pyExp_rule_obj))\n",
    "print()\n",
    "print(\"All of the keys in Rule Object\")\n",
    "i = 1\n",
    "for k in load_pyExp_rule_obj.keys():\n",
    "    print(\"Key \", i, \" - \",k)\n",
    "    i += 1"
   ]
  },
  {
   "cell_type": "markdown",
   "id": "forward-freeze",
   "metadata": {},
   "source": [
    "### 🔑 Key 1 - synthetic_data\n",
    "#### As can be seen below, the synthetic data are data coming from feature columns\n",
    "#### This synthetic data was generated internally by the PyExplainer when the .explain(...) method is triggered\n",
    "#### Currently we have 2 approaches to generate synthetic_data\n",
    "#### Approach (1) Crossover and Interpolation\n",
    "#### Approach (2) Random Pertubation\n",
    "#### After the process of C&I. or RP., synthetic_data will be generated as a DataFrame below"
   ]
  },
  {
   "cell_type": "code",
   "execution_count": null,
   "id": "laden-doubt",
   "metadata": {},
   "outputs": [],
   "source": [
    "print(\"Type of pyExp_rule_obj['synthetic_data'] - \", type(load_pyExp_rule_obj['synthetic_data']), \"\\n\")\n",
    "print(\"Example\", \"\\n\\n\", load_pyExp_rule_obj['synthetic_data'].head(2))"
   ]
  },
  {
   "cell_type": "markdown",
   "id": "blind-mustang",
   "metadata": {},
   "source": [
    "### 🔑 Key 2 - synthetic_predictions\n",
    "#### As can be seen below, the synthetic prediction are data coming from the prediction column\n",
    "#### This synthetic prediction was generated internally by the PyExplainer when the .explain(...) method is triggered\n",
    "#### This synthetic prediction is created based on the black box model we passed to the PyExplainer when initialising (section 1.5 & 2.3)\n",
    "#### This synthetic prediction is generated based on the synthetic data above therefore it's called synthetic_predictions\n",
    "#### >>> e.g. synthetic_predictions = blackbox_model.predict(synthetic_data)  Note. we only need feature cols in synthetic_data"
   ]
  },
  {
   "cell_type": "code",
   "execution_count": null,
   "id": "municipal-operation",
   "metadata": {},
   "outputs": [],
   "source": [
    "print(\"Type of pyExp_rule_obj['synthetic_predictions'] - \", type(load_pyExp_rule_obj['synthetic_predictions']), \"\\n\")\n",
    "print(\"Example\", \"\\n\\n\", load_pyExp_rule_obj['synthetic_predictions'])"
   ]
  },
  {
   "cell_type": "markdown",
   "id": "adjacent-begin",
   "metadata": {},
   "source": [
    "### 🔑 Key 3 - X_explain\n",
    "#### This X_explain is exactly the same as the one we passed to .explain(...) method (section 3.3 & section 3.4)"
   ]
  },
  {
   "cell_type": "code",
   "execution_count": null,
   "id": "according-profession",
   "metadata": {},
   "outputs": [],
   "source": [
    "print(\"Type of pyExp_rule_obj['X_explain'] - \", type(load_pyExp_rule_obj['X_explain']), \"\\n\")\n",
    "print(\"Example\", \"\\n\\n\", load_pyExp_rule_obj['X_explain'])"
   ]
  },
  {
   "cell_type": "markdown",
   "id": "spectacular-feeling",
   "metadata": {},
   "source": [
    "### 🔑 Key 4 - y_explain\n",
    "#### This y_explain is exactly the same as the one we passed to .explain(...) method (section 3.3 & section 3.4)"
   ]
  },
  {
   "cell_type": "code",
   "execution_count": null,
   "id": "present-breakdown",
   "metadata": {},
   "outputs": [],
   "source": [
    "print(\"Type of pyExp_rule_obj['y_explain'] - \", type(load_pyExp_rule_obj['y_explain']), \"\\n\")\n",
    "print(\"Example\", \"\\n\\n\", load_pyExp_rule_obj['y_explain'])"
   ]
  },
  {
   "cell_type": "markdown",
   "id": "serious-territory",
   "metadata": {},
   "source": [
    "### 🔑 Key 5 - indep\n",
    "#### Names of the Selected Feature Cols"
   ]
  },
  {
   "cell_type": "code",
   "execution_count": null,
   "id": "sublime-ethernet",
   "metadata": {},
   "outputs": [],
   "source": [
    "print(\"Type of pyExp_rule_obj['indep'] - \", type(load_pyExp_rule_obj['indep']), \"\\n\")\n",
    "print(\"Example\", \"\\n\\n\", load_pyExp_rule_obj['indep'])"
   ]
  },
  {
   "cell_type": "markdown",
   "id": "designed-barbados",
   "metadata": {},
   "source": [
    "### 🔑 Key 6 - dep\n",
    "#### Names of the Label Col (Prediction Col)"
   ]
  },
  {
   "cell_type": "code",
   "execution_count": null,
   "id": "agreed-health",
   "metadata": {},
   "outputs": [],
   "source": [
    "print(\"Type of pyExp_rule_obj['dep'] - \", type(load_pyExp_rule_obj['dep']), \"\\n\")\n",
    "print(\"Example\", \"\\n\\n\", load_pyExp_rule_obj['dep'])"
   ]
  },
  {
   "cell_type": "markdown",
   "id": "noted-wiring",
   "metadata": {},
   "source": [
    "### 🔑 Key 7 - top_k_positive_rules\n",
    "#### This shows the top k positive rules generated by the RuleFit model inside the .explain(...) function\n",
    "#### The value of 'top_k' can be tuned in when we create a Rule Object manually (section 3.4), the default value is 3"
   ]
  },
  {
   "cell_type": "code",
   "execution_count": null,
   "id": "northern-registration",
   "metadata": {},
   "outputs": [],
   "source": [
    "print(\"Type of pyExp_rule_obj['top_k_positive_rules'] - \", type(load_pyExp_rule_obj['top_k_positive_rules']), \"\\n\")\n",
    "print(\"Example\", \"\\n\\n\", load_pyExp_rule_obj['top_k_positive_rules'])"
   ]
  },
  {
   "cell_type": "markdown",
   "id": "contemporary-honolulu",
   "metadata": {},
   "source": [
    "### 🔑 Key 8 - top_k_negative_rules\n",
    "#### This shows the top k negative rules generated by the RuleFit model inside the .explain(...) function\n",
    "#### The value of 'top_k' can be tuned in when we create a Rule Object manually (section 3.4), the default value is 3\n",
    "#### However, in the current version, the top_k value is always the same for both negative and positive rules which can be improved in the future version"
   ]
  },
  {
   "cell_type": "code",
   "execution_count": null,
   "id": "swiss-costa",
   "metadata": {},
   "outputs": [],
   "source": [
    "print(\"Type of pyExp_rule_obj['top_k_negative_rules'] - \", type(load_pyExp_rule_obj['top_k_negative_rules']), \"\\n\")\n",
    "print(\"Example\", \"\\n\\n\", load_pyExp_rule_obj['top_k_negative_rules'])"
   ]
  }
 ],
 "metadata": {
  "kernelspec": {
   "display_name": "Python 3",
   "language": "python",
   "name": "python3"
  },
  "language_info": {
   "codemirror_mode": {
    "name": "ipython",
    "version": 3
   },
   "file_extension": ".py",
   "mimetype": "text/x-python",
   "name": "python",
   "nbconvert_exporter": "python",
   "pygments_lexer": "ipython3",
   "version": "3.8.8"
  }
 },
 "nbformat": 4,
 "nbformat_minor": 5
}
