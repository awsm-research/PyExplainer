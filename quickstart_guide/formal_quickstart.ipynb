{
 "cells": [
  {
   "cell_type": "markdown",
   "id": "dated-worst",
   "metadata": {},
   "source": [
    "# <center> 👩‍💻 Welcome to PyExplainer Quickstart Guide 👨‍💻 </center>"
   ]
  },
  {
   "cell_type": "markdown",
   "id": "legendary-military",
   "metadata": {},
   "source": [
    "### <center><a href=\"https://github.com/awsm-research/pyExplainer\">pyexplainer - GitHub Repository</a></center>\n",
    "### <center><a href=\"https://pypi.org/project/pyexplainer/\">pyexplainer - PyPI</a></center>\n",
    "### <center><a href=\"https://pyexplainer.readthedocs.io/en/latest/\">pyexplainer - Official Documentation</a></center>"
   ]
  },
  {
   "cell_type": "markdown",
   "id": "pregnant-appraisal",
   "metadata": {},
   "source": [
    "# 🛠 Installation \n",
    "## - Please ignore this part if you cloned the whole package from GitHub\n",
    "\n",
    "### 🤖 Run the cell below to install pyexplainer 0.1.5"
   ]
  },
  {
   "cell_type": "code",
   "execution_count": null,
   "id": "breeding-phrase",
   "metadata": {},
   "outputs": [],
   "source": [
    "!pip install pyexplainer"
   ]
  },
  {
   "cell_type": "markdown",
   "id": "ideal-bedroom",
   "metadata": {},
   "source": [
    "### 🤖 If the code above did not work, try the cell below, otherwise, you are good to go!"
   ]
  },
  {
   "cell_type": "code",
   "execution_count": null,
   "id": "alert-spirituality",
   "metadata": {},
   "outputs": [],
   "source": [
    "!pip3 install pyexplainer"
   ]
  },
  {
   "cell_type": "markdown",
   "id": "regional-promise",
   "metadata": {},
   "source": [
    "# Let's get started !"
   ]
  },
  {
   "cell_type": "markdown",
   "id": "forced-olympus",
   "metadata": {},
   "source": [
    "## 👩🏻‍🔧 1. Prepare data and model\n",
    "#### 📝Note. We use the default data and model here for an example"
   ]
  },
  {
   "cell_type": "markdown",
   "id": "crude-promise",
   "metadata": {},
   "source": [
    "### 1.1 Import Libraries Needed"
   ]
  },
  {
   "cell_type": "code",
   "execution_count": 15,
   "id": "stunning-summer",
   "metadata": {},
   "outputs": [],
   "source": [
    "from pyexplainer import pyexplainer_pyexplainer\n",
    "from pyexplainer.pyexplainer_pyexplainer import PyExplainer "
   ]
  },
  {
   "cell_type": "markdown",
   "id": "turned-ethics",
   "metadata": {},
   "source": [
    "### 1.2 Use default datasets and model (Random Forest)"
   ]
  },
  {
   "cell_type": "code",
   "execution_count": null,
   "id": "hearing-gambling",
   "metadata": {},
   "outputs": [],
   "source": [
    "default_data_and_model = pyexplainer_pyexplainer.get_default_data_and_model()\n",
    "py_explainer = PyExplainer(X_train = default_data_and_model['X_train'],\n",
    "                           y_train = default_data_and_model['y_train'],\n",
    "                           indep = default_data_and_model['indep'],\n",
    "                           dep = default_data_and_model['dep'],\n",
    "                           blackbox_model = default_data_and_model['blackbox_model'])"
   ]
  },
  {
   "cell_type": "markdown",
   "id": "appropriate-meaning",
   "metadata": {},
   "source": [
    "## 🔧2. Create a Rule Object Manually\n",
    "#### 📝Note. Rule Object is the core backend concept of PyExplainer ! "
   ]
  },
  {
   "cell_type": "markdown",
   "id": "relevant-subcommittee",
   "metadata": {},
   "source": [
    "### 2.1 Prepare X_explain and y_explain data\n",
    "#### 📝Note. We use the default data here for an example"
   ]
  },
  {
   "cell_type": "code",
   "execution_count": 2,
   "id": "changing-empty",
   "metadata": {},
   "outputs": [
    {
     "ename": "SyntaxError",
     "evalue": "invalid syntax (<ipython-input-2-6ccc97dc857b>, line 1)",
     "output_type": "error",
     "traceback": [
      "\u001b[0;36m  File \u001b[0;32m\"<ipython-input-2-6ccc97dc857b>\"\u001b[0;36m, line \u001b[0;32m1\u001b[0m\n\u001b[0;31m    X_explain =\u001b[0m\n\u001b[0m                ^\u001b[0m\n\u001b[0;31mSyntaxError\u001b[0m\u001b[0;31m:\u001b[0m invalid syntax\n"
     ]
    }
   ],
   "source": [
    "X_explain = default_data_and_model['X_explain']"
   ]
  },
  {
   "cell_type": "code",
   "execution_count": 3,
   "id": "pleasant-avenue",
   "metadata": {},
   "outputs": [
    {
     "ename": "NameError",
     "evalue": "name 'default_data_and_model' is not defined",
     "output_type": "error",
     "traceback": [
      "\u001b[0;31m---------------------------------------------------------------------------\u001b[0m",
      "\u001b[0;31mNameError\u001b[0m                                 Traceback (most recent call last)",
      "\u001b[0;32m<ipython-input-3-971264ef3ea3>\u001b[0m in \u001b[0;36m<module>\u001b[0;34m\u001b[0m\n\u001b[0;32m----> 1\u001b[0;31m \u001b[0my_explain\u001b[0m \u001b[0;34m=\u001b[0m \u001b[0mdefault_data_and_model\u001b[0m\u001b[0;34m[\u001b[0m\u001b[0;34m'y_explain'\u001b[0m\u001b[0;34m]\u001b[0m\u001b[0;34m\u001b[0m\u001b[0;34m\u001b[0m\u001b[0m\n\u001b[0m",
      "\u001b[0;31mNameError\u001b[0m: name 'default_data_and_model' is not defined"
     ]
    }
   ],
   "source": [
    "y_explain = default_data_and_model['y_explain']"
   ]
  },
  {
   "cell_type": "markdown",
   "id": "mechanical-motion",
   "metadata": {},
   "source": [
    "### 2.2 Create the rule object"
   ]
  },
  {
   "cell_type": "code",
   "execution_count": 27,
   "id": "awful-blank",
   "metadata": {},
   "outputs": [
    {
     "ename": "KeyboardInterrupt",
     "evalue": "",
     "output_type": "error",
     "traceback": [
      "\u001b[0;31m---------------------------------------------------------------------------\u001b[0m",
      "\u001b[0;31mKeyboardInterrupt\u001b[0m                         Traceback (most recent call last)",
      "\u001b[0;32m<timed exec>\u001b[0m in \u001b[0;36m<module>\u001b[0;34m\u001b[0m\n",
      "\u001b[0;32m~/GitHub/pyExplainer/pyexplainer/pyexplainer_pyexplainer.py\u001b[0m in \u001b[0;36mexplain\u001b[0;34m(self, X_explain, y_explain, top_k, max_rules, max_iter, cv, search_function, debug)\u001b[0m\n\u001b[1;32m    683\u001b[0m                                       n_jobs=-1)\n\u001b[1;32m    684\u001b[0m \u001b[0;34m\u001b[0m\u001b[0m\n\u001b[0;32m--> 685\u001b[0;31m         local_rulefit_model.fit(\n\u001b[0m\u001b[1;32m    686\u001b[0m             synthetic_instances.loc[:, self.indep].values, synthetic_predictions, feature_names=self.indep)\n\u001b[1;32m    687\u001b[0m         \u001b[0;32mif\u001b[0m \u001b[0mdebug\u001b[0m\u001b[0;34m:\u001b[0m\u001b[0;34m\u001b[0m\u001b[0;34m\u001b[0m\u001b[0m\n",
      "\u001b[0;32m~/GitHub/pyExplainer/pyexplainer/rulefit.py\u001b[0m in \u001b[0;36mfit\u001b[0;34m(self, X, y, feature_names)\u001b[0m\n\u001b[1;32m    482\u001b[0m                 \u001b[0mtol\u001b[0m\u001b[0;34m=\u001b[0m\u001b[0mself\u001b[0m\u001b[0;34m.\u001b[0m\u001b[0mtol\u001b[0m\u001b[0;34m,\u001b[0m \u001b[0mn_jobs\u001b[0m\u001b[0;34m=\u001b[0m\u001b[0mself\u001b[0m\u001b[0;34m.\u001b[0m\u001b[0mn_jobs\u001b[0m\u001b[0;34m,\u001b[0m\u001b[0;34m\u001b[0m\u001b[0;34m\u001b[0m\u001b[0m\n\u001b[1;32m    483\u001b[0m                 random_state=self.random_state, solver='liblinear')\n\u001b[0;32m--> 484\u001b[0;31m             \u001b[0mself\u001b[0m\u001b[0;34m.\u001b[0m\u001b[0mlscv\u001b[0m\u001b[0;34m.\u001b[0m\u001b[0mfit\u001b[0m\u001b[0;34m(\u001b[0m\u001b[0mX_concat\u001b[0m\u001b[0;34m,\u001b[0m \u001b[0my\u001b[0m\u001b[0;34m)\u001b[0m\u001b[0;34m\u001b[0m\u001b[0;34m\u001b[0m\u001b[0m\n\u001b[0m\u001b[1;32m    485\u001b[0m             \u001b[0mself\u001b[0m\u001b[0;34m.\u001b[0m\u001b[0mcoef_\u001b[0m\u001b[0;34m=\u001b[0m\u001b[0mself\u001b[0m\u001b[0;34m.\u001b[0m\u001b[0mlscv\u001b[0m\u001b[0;34m.\u001b[0m\u001b[0mcoef_\u001b[0m\u001b[0;34m[\u001b[0m\u001b[0;36m0\u001b[0m\u001b[0;34m]\u001b[0m\u001b[0;34m\u001b[0m\u001b[0;34m\u001b[0m\u001b[0m\n\u001b[1;32m    486\u001b[0m             \u001b[0mself\u001b[0m\u001b[0;34m.\u001b[0m\u001b[0mintercept_\u001b[0m\u001b[0;34m=\u001b[0m\u001b[0mself\u001b[0m\u001b[0;34m.\u001b[0m\u001b[0mlscv\u001b[0m\u001b[0;34m.\u001b[0m\u001b[0mintercept_\u001b[0m\u001b[0;34m[\u001b[0m\u001b[0;36m0\u001b[0m\u001b[0;34m]\u001b[0m\u001b[0;34m\u001b[0m\u001b[0;34m\u001b[0m\u001b[0m\n",
      "\u001b[0;32m~/opt/anaconda3/lib/python3.8/site-packages/sklearn/linear_model/_logistic.py\u001b[0m in \u001b[0;36mfit\u001b[0;34m(self, X, y, sample_weight)\u001b[0m\n\u001b[1;32m   1885\u001b[0m             \u001b[0mprefer\u001b[0m \u001b[0;34m=\u001b[0m \u001b[0;34m'processes'\u001b[0m\u001b[0;34m\u001b[0m\u001b[0;34m\u001b[0m\u001b[0m\n\u001b[1;32m   1886\u001b[0m \u001b[0;34m\u001b[0m\u001b[0m\n\u001b[0;32m-> 1887\u001b[0;31m         fold_coefs_ = Parallel(n_jobs=self.n_jobs, verbose=self.verbose,\n\u001b[0m\u001b[1;32m   1888\u001b[0m                                \u001b[0;34m**\u001b[0m\u001b[0m_joblib_parallel_args\u001b[0m\u001b[0;34m(\u001b[0m\u001b[0mprefer\u001b[0m\u001b[0;34m=\u001b[0m\u001b[0mprefer\u001b[0m\u001b[0;34m)\u001b[0m\u001b[0;34m)\u001b[0m\u001b[0;34m(\u001b[0m\u001b[0;34m\u001b[0m\u001b[0;34m\u001b[0m\u001b[0m\n\u001b[1;32m   1889\u001b[0m             path_func(X, y, train, test, pos_class=label, Cs=self.Cs,\n",
      "\u001b[0;32m~/opt/anaconda3/lib/python3.8/site-packages/joblib/parallel.py\u001b[0m in \u001b[0;36m__call__\u001b[0;34m(self, iterable)\u001b[0m\n\u001b[1;32m   1052\u001b[0m \u001b[0;34m\u001b[0m\u001b[0m\n\u001b[1;32m   1053\u001b[0m             \u001b[0;32mwith\u001b[0m \u001b[0mself\u001b[0m\u001b[0;34m.\u001b[0m\u001b[0m_backend\u001b[0m\u001b[0;34m.\u001b[0m\u001b[0mretrieval_context\u001b[0m\u001b[0;34m(\u001b[0m\u001b[0;34m)\u001b[0m\u001b[0;34m:\u001b[0m\u001b[0;34m\u001b[0m\u001b[0;34m\u001b[0m\u001b[0m\n\u001b[0;32m-> 1054\u001b[0;31m                 \u001b[0mself\u001b[0m\u001b[0;34m.\u001b[0m\u001b[0mretrieve\u001b[0m\u001b[0;34m(\u001b[0m\u001b[0;34m)\u001b[0m\u001b[0;34m\u001b[0m\u001b[0;34m\u001b[0m\u001b[0m\n\u001b[0m\u001b[1;32m   1055\u001b[0m             \u001b[0;31m# Make sure that we get a last message telling us we are done\u001b[0m\u001b[0;34m\u001b[0m\u001b[0;34m\u001b[0m\u001b[0;34m\u001b[0m\u001b[0m\n\u001b[1;32m   1056\u001b[0m             \u001b[0melapsed_time\u001b[0m \u001b[0;34m=\u001b[0m \u001b[0mtime\u001b[0m\u001b[0;34m.\u001b[0m\u001b[0mtime\u001b[0m\u001b[0;34m(\u001b[0m\u001b[0;34m)\u001b[0m \u001b[0;34m-\u001b[0m \u001b[0mself\u001b[0m\u001b[0;34m.\u001b[0m\u001b[0m_start_time\u001b[0m\u001b[0;34m\u001b[0m\u001b[0;34m\u001b[0m\u001b[0m\n",
      "\u001b[0;32m~/opt/anaconda3/lib/python3.8/site-packages/joblib/parallel.py\u001b[0m in \u001b[0;36mretrieve\u001b[0;34m(self)\u001b[0m\n\u001b[1;32m    931\u001b[0m             \u001b[0;32mtry\u001b[0m\u001b[0;34m:\u001b[0m\u001b[0;34m\u001b[0m\u001b[0;34m\u001b[0m\u001b[0m\n\u001b[1;32m    932\u001b[0m                 \u001b[0;32mif\u001b[0m \u001b[0mgetattr\u001b[0m\u001b[0;34m(\u001b[0m\u001b[0mself\u001b[0m\u001b[0;34m.\u001b[0m\u001b[0m_backend\u001b[0m\u001b[0;34m,\u001b[0m \u001b[0;34m'supports_timeout'\u001b[0m\u001b[0;34m,\u001b[0m \u001b[0;32mFalse\u001b[0m\u001b[0;34m)\u001b[0m\u001b[0;34m:\u001b[0m\u001b[0;34m\u001b[0m\u001b[0;34m\u001b[0m\u001b[0m\n\u001b[0;32m--> 933\u001b[0;31m                     \u001b[0mself\u001b[0m\u001b[0;34m.\u001b[0m\u001b[0m_output\u001b[0m\u001b[0;34m.\u001b[0m\u001b[0mextend\u001b[0m\u001b[0;34m(\u001b[0m\u001b[0mjob\u001b[0m\u001b[0;34m.\u001b[0m\u001b[0mget\u001b[0m\u001b[0;34m(\u001b[0m\u001b[0mtimeout\u001b[0m\u001b[0;34m=\u001b[0m\u001b[0mself\u001b[0m\u001b[0;34m.\u001b[0m\u001b[0mtimeout\u001b[0m\u001b[0;34m)\u001b[0m\u001b[0;34m)\u001b[0m\u001b[0;34m\u001b[0m\u001b[0;34m\u001b[0m\u001b[0m\n\u001b[0m\u001b[1;32m    934\u001b[0m                 \u001b[0;32melse\u001b[0m\u001b[0;34m:\u001b[0m\u001b[0;34m\u001b[0m\u001b[0;34m\u001b[0m\u001b[0m\n\u001b[1;32m    935\u001b[0m                     \u001b[0mself\u001b[0m\u001b[0;34m.\u001b[0m\u001b[0m_output\u001b[0m\u001b[0;34m.\u001b[0m\u001b[0mextend\u001b[0m\u001b[0;34m(\u001b[0m\u001b[0mjob\u001b[0m\u001b[0;34m.\u001b[0m\u001b[0mget\u001b[0m\u001b[0;34m(\u001b[0m\u001b[0;34m)\u001b[0m\u001b[0;34m)\u001b[0m\u001b[0;34m\u001b[0m\u001b[0;34m\u001b[0m\u001b[0m\n",
      "\u001b[0;32m~/opt/anaconda3/lib/python3.8/site-packages/joblib/_parallel_backends.py\u001b[0m in \u001b[0;36mwrap_future_result\u001b[0;34m(future, timeout)\u001b[0m\n\u001b[1;32m    540\u001b[0m         AsyncResults.get from multiprocessing.\"\"\"\n\u001b[1;32m    541\u001b[0m         \u001b[0;32mtry\u001b[0m\u001b[0;34m:\u001b[0m\u001b[0;34m\u001b[0m\u001b[0;34m\u001b[0m\u001b[0m\n\u001b[0;32m--> 542\u001b[0;31m             \u001b[0;32mreturn\u001b[0m \u001b[0mfuture\u001b[0m\u001b[0;34m.\u001b[0m\u001b[0mresult\u001b[0m\u001b[0;34m(\u001b[0m\u001b[0mtimeout\u001b[0m\u001b[0;34m=\u001b[0m\u001b[0mtimeout\u001b[0m\u001b[0;34m)\u001b[0m\u001b[0;34m\u001b[0m\u001b[0;34m\u001b[0m\u001b[0m\n\u001b[0m\u001b[1;32m    543\u001b[0m         \u001b[0;32mexcept\u001b[0m \u001b[0mCfTimeoutError\u001b[0m \u001b[0;32mas\u001b[0m \u001b[0me\u001b[0m\u001b[0;34m:\u001b[0m\u001b[0;34m\u001b[0m\u001b[0;34m\u001b[0m\u001b[0m\n\u001b[1;32m    544\u001b[0m             \u001b[0;32mraise\u001b[0m \u001b[0mTimeoutError\u001b[0m \u001b[0;32mfrom\u001b[0m \u001b[0me\u001b[0m\u001b[0;34m\u001b[0m\u001b[0;34m\u001b[0m\u001b[0m\n",
      "\u001b[0;32m~/opt/anaconda3/lib/python3.8/concurrent/futures/_base.py\u001b[0m in \u001b[0;36mresult\u001b[0;34m(self, timeout)\u001b[0m\n\u001b[1;32m    432\u001b[0m                 \u001b[0;32mreturn\u001b[0m \u001b[0mself\u001b[0m\u001b[0;34m.\u001b[0m\u001b[0m__get_result\u001b[0m\u001b[0;34m(\u001b[0m\u001b[0;34m)\u001b[0m\u001b[0;34m\u001b[0m\u001b[0;34m\u001b[0m\u001b[0m\n\u001b[1;32m    433\u001b[0m \u001b[0;34m\u001b[0m\u001b[0m\n\u001b[0;32m--> 434\u001b[0;31m             \u001b[0mself\u001b[0m\u001b[0;34m.\u001b[0m\u001b[0m_condition\u001b[0m\u001b[0;34m.\u001b[0m\u001b[0mwait\u001b[0m\u001b[0;34m(\u001b[0m\u001b[0mtimeout\u001b[0m\u001b[0;34m)\u001b[0m\u001b[0;34m\u001b[0m\u001b[0;34m\u001b[0m\u001b[0m\n\u001b[0m\u001b[1;32m    435\u001b[0m \u001b[0;34m\u001b[0m\u001b[0m\n\u001b[1;32m    436\u001b[0m             \u001b[0;32mif\u001b[0m \u001b[0mself\u001b[0m\u001b[0;34m.\u001b[0m\u001b[0m_state\u001b[0m \u001b[0;32min\u001b[0m \u001b[0;34m[\u001b[0m\u001b[0mCANCELLED\u001b[0m\u001b[0;34m,\u001b[0m \u001b[0mCANCELLED_AND_NOTIFIED\u001b[0m\u001b[0;34m]\u001b[0m\u001b[0;34m:\u001b[0m\u001b[0;34m\u001b[0m\u001b[0;34m\u001b[0m\u001b[0m\n",
      "\u001b[0;32m~/opt/anaconda3/lib/python3.8/threading.py\u001b[0m in \u001b[0;36mwait\u001b[0;34m(self, timeout)\u001b[0m\n\u001b[1;32m    300\u001b[0m         \u001b[0;32mtry\u001b[0m\u001b[0;34m:\u001b[0m    \u001b[0;31m# restore state no matter what (e.g., KeyboardInterrupt)\u001b[0m\u001b[0;34m\u001b[0m\u001b[0;34m\u001b[0m\u001b[0m\n\u001b[1;32m    301\u001b[0m             \u001b[0;32mif\u001b[0m \u001b[0mtimeout\u001b[0m \u001b[0;32mis\u001b[0m \u001b[0;32mNone\u001b[0m\u001b[0;34m:\u001b[0m\u001b[0;34m\u001b[0m\u001b[0;34m\u001b[0m\u001b[0m\n\u001b[0;32m--> 302\u001b[0;31m                 \u001b[0mwaiter\u001b[0m\u001b[0;34m.\u001b[0m\u001b[0macquire\u001b[0m\u001b[0;34m(\u001b[0m\u001b[0;34m)\u001b[0m\u001b[0;34m\u001b[0m\u001b[0;34m\u001b[0m\u001b[0m\n\u001b[0m\u001b[1;32m    303\u001b[0m                 \u001b[0mgotit\u001b[0m \u001b[0;34m=\u001b[0m \u001b[0;32mTrue\u001b[0m\u001b[0;34m\u001b[0m\u001b[0;34m\u001b[0m\u001b[0m\n\u001b[1;32m    304\u001b[0m             \u001b[0;32melse\u001b[0m\u001b[0;34m:\u001b[0m\u001b[0;34m\u001b[0m\u001b[0;34m\u001b[0m\u001b[0m\n",
      "\u001b[0;31mKeyboardInterrupt\u001b[0m: "
     ]
    }
   ],
   "source": [
    "created_rule_obj = py_explainer.explain(X_explain=X_explain,\n",
    "                                        y_explain=y_explain,\n",
    "                                        search_function='crossoverinterpolation')"
   ]
  },
  {
   "cell_type": "markdown",
   "id": "executed-limitation",
   "metadata": {},
   "source": [
    "### ⏳ 2.3 Alternatively, we can directly load a Rule Object if we already have it "
   ]
  },
  {
   "cell_type": "markdown",
   "id": "billion-essay",
   "metadata": {},
   "source": [
    "#### 2.3.1 Define Reading Functions"
   ]
  },
  {
   "cell_type": "code",
   "execution_count": 28,
   "id": "hollow-karaoke",
   "metadata": {},
   "outputs": [],
   "source": [
    "import pickle\n",
    "import os.path\n",
    "\n",
    "def load_object(filename):\n",
    "    with open(filename, 'rb') as file:\n",
    "        object_o = pickle.load(file)\n",
    "    return (object_o)"
   ]
  },
  {
   "cell_type": "markdown",
   "id": "dated-hamilton",
   "metadata": {},
   "source": [
    "#### 2.3.2 Load Sample Rule Object - we use rule_object.pyobject file as an example"
   ]
  },
  {
   "cell_type": "code",
   "execution_count": 29,
   "id": "automatic-cabin",
   "metadata": {},
   "outputs": [],
   "source": [
    "# load rule obj\n",
    "if os.path.isfile('../tests/rule_objects/rule_object.pyobject'):\n",
    "    loaded_rule_obj = load_object('../tests/rule_objects/rule_object.pyobject')"
   ]
  },
  {
   "cell_type": "markdown",
   "id": "architectural-broad",
   "metadata": {},
   "source": [
    "## 👩🏽‍🎨 3. Pass Rule Object to .visualise(rule_obj) to Generate the Bullet Chart and Interactive Slider\n",
    "#### 📝Note. simply move the gray slider to modify the value so you can get a new risk score."
   ]
  },
  {
   "cell_type": "markdown",
   "id": "returning-vertical",
   "metadata": {},
   "source": [
    "#### 🔧 Visualise the Rule Object we created manually using .explain(...) method"
   ]
  },
  {
   "cell_type": "code",
   "execution_count": null,
   "id": "cheap-minister",
   "metadata": {},
   "outputs": [],
   "source": [
    "py_explainer.visualise(created_rule_obj)"
   ]
  },
  {
   "cell_type": "markdown",
   "id": "australian-cotton",
   "metadata": {},
   "source": [
    "#### ⏳ Visualise the Rule Object we loaded from pyExplainer_obj.pyobject file"
   ]
  },
  {
   "cell_type": "code",
   "execution_count": 30,
   "id": "thousand-principle",
   "metadata": {},
   "outputs": [
    {
     "name": "stdout",
     "output_type": "stream",
     "text": [
      "Min 2 Max 987 threshold 97.83 Actual 10 Plot_min 2.0 Plot_max 196.0\n",
      "Min 1 Max 4 threshold 1.55 Actual 1 Plot_min 1.0 Plot_max 2.0\n",
      "Min 1 Max 23 threshold 5.5 Actual 1 Plot_min 1 Plot_max 8.0\n"
     ]
    },
    {
     "data": {
      "application/vnd.jupyter.widget-view+json": {
       "model_id": "6a67c7e8de0042baa23fad821e339dad",
       "version_major": 2,
       "version_minor": 0
      },
      "text/plain": [
       "HBox(children=(Label(value='Risk Score: '), FloatProgress(value=0.0, bar_style='info', layout=Layout(width='40…"
      ]
     },
     "metadata": {},
     "output_type": "display_data"
    },
    {
     "data": {
      "application/vnd.jupyter.widget-view+json": {
       "model_id": "a9634c463978484b8d0aab4caa66eecc",
       "version_major": 2,
       "version_minor": 0
      },
      "text/plain": [
       "FloatSlider(value=10.0, continuous_update=False, description='#1 Increase the values of CountStmt to more than…"
      ]
     },
     "metadata": {},
     "output_type": "display_data"
    },
    {
     "data": {
      "application/vnd.jupyter.widget-view+json": {
       "model_id": "38bb7b90b16940a9a771fde7b307e93f",
       "version_major": 2,
       "version_minor": 0
      },
      "text/plain": [
       "FloatSlider(value=1.0, continuous_update=False, description='#2 Decrease the values of MAJOR_COMMIT to less th…"
      ]
     },
     "metadata": {},
     "output_type": "display_data"
    },
    {
     "data": {
      "application/vnd.jupyter.widget-view+json": {
       "model_id": "23973cbd212f497abc79190e5079331d",
       "version_major": 2,
       "version_minor": 0
      },
      "text/plain": [
       "FloatSlider(value=1.0, continuous_update=False, description='#3 Decrease the values of COMM to less than 1', l…"
      ]
     },
     "metadata": {},
     "output_type": "display_data"
    },
    {
     "data": {
      "application/vnd.jupyter.widget-view+json": {
       "model_id": "68b40f1324d54cbb8a4da3a7631b81f9",
       "version_major": 2,
       "version_minor": 0
      },
      "text/plain": [
       "Output(layout=Layout(border='3px solid black'))"
      ]
     },
     "metadata": {},
     "output_type": "display_data"
    }
   ],
   "source": [
    "py_explainer.visualise(loaded_rule_obj)"
   ]
  },
  {
   "cell_type": "markdown",
   "id": "infectious-calgary",
   "metadata": {},
   "source": [
    "# 🤡 Important - Bug Report Channel 🤡\n",
    "#### Please report <a href=\"https://github.com/awsm-research/pyExplainer/issues\">here</a>\n",
    "#### 📧 or email your report to michaelfu1998@gmail.com\n",
    "# "
   ]
  },
  {
   "cell_type": "markdown",
   "id": "married-malpractice",
   "metadata": {},
   "source": [
    "# <center> 🙏Thanks for playing around with PyExplainer, I really appreciate your time! 🙏 </center>\n",
    "#### <center> 🔥 More Features will be Released Soon 🔥 </center>"
   ]
  },
  {
   "cell_type": "markdown",
   "id": "fossil-encyclopedia",
   "metadata": {},
   "source": []
  },
  {
   "cell_type": "markdown",
   "id": "difficult-algeria",
   "metadata": {},
   "source": [
    "# 📜 Appendex 📜"
   ]
  },
  {
   "cell_type": "markdown",
   "id": "numeric-efficiency",
   "metadata": {},
   "source": [
    "## A. 🕵🏻 What's in the Rule Object (rule_obj) ?  Let's unbox it ! 📦"
   ]
  },
  {
   "cell_type": "markdown",
   "id": "increased-indicator",
   "metadata": {},
   "source": [
    "### Basic Data Check"
   ]
  },
  {
   "cell_type": "code",
   "execution_count": null,
   "id": "respective-program",
   "metadata": {},
   "outputs": [],
   "source": [
    "print(\"Type of Rule Object: \", type(load_pyExp_rule_obj))\n",
    "print()\n",
    "print(\"All of the keys in Rule Object\")\n",
    "i = 1\n",
    "for k in load_pyExp_rule_obj.keys():\n",
    "    print(\"Key \", i, \" - \",k)\n",
    "    i += 1"
   ]
  },
  {
   "cell_type": "markdown",
   "id": "forward-freeze",
   "metadata": {},
   "source": [
    "### 🔑 Key 1 - synthetic_data\n",
    "#### As can be seen below, the synthetic data are data coming from feature columns\n",
    "#### This synthetic data was generated internally by the PyExplainer when the .explain(...) method is triggered\n",
    "#### Currently we have 2 approaches to generate synthetic_data\n",
    "#### Approach (1) Crossover and Interpolation\n",
    "#### Approach (2) Random Pertubation\n",
    "#### After the process of C&I. or RP., synthetic_data will be generated as a DataFrame below"
   ]
  },
  {
   "cell_type": "code",
   "execution_count": null,
   "id": "laden-doubt",
   "metadata": {},
   "outputs": [],
   "source": [
    "print(\"Type of pyExp_rule_obj['synthetic_data'] - \", type(load_pyExp_rule_obj['synthetic_data']), \"\\n\")\n",
    "print(\"Example\", \"\\n\\n\", load_pyExp_rule_obj['synthetic_data'].head(2))"
   ]
  },
  {
   "cell_type": "markdown",
   "id": "blind-mustang",
   "metadata": {},
   "source": [
    "### 🔑 Key 2 - synthetic_predictions\n",
    "#### As can be seen below, the synthetic prediction are data coming from the prediction column\n",
    "#### This synthetic prediction was generated internally by the PyExplainer when the .explain(...) method is triggered\n",
    "#### This synthetic prediction is created based on the black box model we passed to the PyExplainer when initialising (section 1.5 & 2.3)\n",
    "#### This synthetic prediction is generated based on the synthetic data above therefore it's called synthetic_predictions\n",
    "#### >>> e.g. synthetic_predictions = blackbox_model.predict(synthetic_data)  Note. we only need feature cols in synthetic_data"
   ]
  },
  {
   "cell_type": "code",
   "execution_count": null,
   "id": "municipal-operation",
   "metadata": {},
   "outputs": [],
   "source": [
    "print(\"Type of pyExp_rule_obj['synthetic_predictions'] - \", type(load_pyExp_rule_obj['synthetic_predictions']), \"\\n\")\n",
    "print(\"Example\", \"\\n\\n\", load_pyExp_rule_obj['synthetic_predictions'])"
   ]
  },
  {
   "cell_type": "markdown",
   "id": "adjacent-begin",
   "metadata": {},
   "source": [
    "### 🔑 Key 3 - X_explain\n",
    "#### This X_explain is exactly the same as the one we passed to .explain(...) method (section 3.3 & section 3.4)"
   ]
  },
  {
   "cell_type": "code",
   "execution_count": null,
   "id": "according-profession",
   "metadata": {},
   "outputs": [],
   "source": [
    "print(\"Type of pyExp_rule_obj['X_explain'] - \", type(load_pyExp_rule_obj['X_explain']), \"\\n\")\n",
    "print(\"Example\", \"\\n\\n\", load_pyExp_rule_obj['X_explain'])"
   ]
  },
  {
   "cell_type": "markdown",
   "id": "spectacular-feeling",
   "metadata": {},
   "source": [
    "### 🔑 Key 4 - y_explain\n",
    "#### This y_explain is exactly the same as the one we passed to .explain(...) method (section 3.3 & section 3.4)"
   ]
  },
  {
   "cell_type": "code",
   "execution_count": null,
   "id": "present-breakdown",
   "metadata": {},
   "outputs": [],
   "source": [
    "print(\"Type of pyExp_rule_obj['y_explain'] - \", type(load_pyExp_rule_obj['y_explain']), \"\\n\")\n",
    "print(\"Example\", \"\\n\\n\", load_pyExp_rule_obj['y_explain'])"
   ]
  },
  {
   "cell_type": "markdown",
   "id": "serious-territory",
   "metadata": {},
   "source": [
    "### 🔑 Key 5 - indep\n",
    "#### Names of the Selected Feature Cols"
   ]
  },
  {
   "cell_type": "code",
   "execution_count": null,
   "id": "sublime-ethernet",
   "metadata": {},
   "outputs": [],
   "source": [
    "print(\"Type of pyExp_rule_obj['indep'] - \", type(load_pyExp_rule_obj['indep']), \"\\n\")\n",
    "print(\"Example\", \"\\n\\n\", load_pyExp_rule_obj['indep'])"
   ]
  },
  {
   "cell_type": "markdown",
   "id": "designed-barbados",
   "metadata": {},
   "source": [
    "### 🔑 Key 6 - dep\n",
    "#### Names of the Label Col (Prediction Col)"
   ]
  },
  {
   "cell_type": "code",
   "execution_count": null,
   "id": "agreed-health",
   "metadata": {},
   "outputs": [],
   "source": [
    "print(\"Type of pyExp_rule_obj['dep'] - \", type(load_pyExp_rule_obj['dep']), \"\\n\")\n",
    "print(\"Example\", \"\\n\\n\", load_pyExp_rule_obj['dep'])"
   ]
  },
  {
   "cell_type": "markdown",
   "id": "noted-wiring",
   "metadata": {},
   "source": [
    "### 🔑 Key 7 - top_k_positive_rules\n",
    "#### This shows the top k positive rules generated by the RuleFit model inside the .explain(...) function\n",
    "#### The value of 'top_k' can be tuned in when we create a Rule Object manually (section 3.4), the default value is 3"
   ]
  },
  {
   "cell_type": "code",
   "execution_count": null,
   "id": "northern-registration",
   "metadata": {},
   "outputs": [],
   "source": [
    "print(\"Type of pyExp_rule_obj['top_k_positive_rules'] - \", type(load_pyExp_rule_obj['top_k_positive_rules']), \"\\n\")\n",
    "print(\"Example\", \"\\n\\n\", load_pyExp_rule_obj['top_k_positive_rules'])"
   ]
  },
  {
   "cell_type": "markdown",
   "id": "contemporary-honolulu",
   "metadata": {},
   "source": [
    "### 🔑 Key 8 - top_k_negative_rules\n",
    "#### This shows the top k negative rules generated by the RuleFit model inside the .explain(...) function\n",
    "#### The value of 'top_k' can be tuned in when we create a Rule Object manually (section 3.4), the default value is 3\n",
    "#### However, in the current version, the top_k value is always the same for both negative and positive rules which can be improved in the future version"
   ]
  },
  {
   "cell_type": "code",
   "execution_count": null,
   "id": "swiss-costa",
   "metadata": {},
   "outputs": [],
   "source": [
    "print(\"Type of pyExp_rule_obj['top_k_negative_rules'] - \", type(load_pyExp_rule_obj['top_k_negative_rules']), \"\\n\")\n",
    "print(\"Example\", \"\\n\\n\", load_pyExp_rule_obj['top_k_negative_rules'])"
   ]
  }
 ],
 "metadata": {
  "kernelspec": {
   "display_name": "Python 3",
   "language": "python",
   "name": "python3"
  },
  "language_info": {
   "codemirror_mode": {
    "name": "ipython",
    "version": 3
   },
   "file_extension": ".py",
   "mimetype": "text/x-python",
   "name": "python",
   "nbconvert_exporter": "python",
   "pygments_lexer": "ipython3",
   "version": "3.8.8"
  }
 },
 "nbformat": 4,
 "nbformat_minor": 5
}
