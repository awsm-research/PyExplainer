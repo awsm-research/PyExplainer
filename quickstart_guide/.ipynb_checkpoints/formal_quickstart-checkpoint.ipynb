{
 "cells": [
  {
   "cell_type": "markdown",
   "metadata": {},
   "source": [
    "# <center> Welcome to PyExplainer Quickstart Guide </center>"
   ]
  },
  {
   "cell_type": "markdown",
   "metadata": {},
   "source": [
    "# 🛠 Installation \n",
    "## - Please ignore this part if you cloned the whole package from GitHub\n",
    "\n",
    "Run the cell below to install pyexplainer"
   ]
  },
  {
   "cell_type": "code",
   "execution_count": 1,
   "metadata": {
    "scrolled": true
   },
   "outputs": [
    {
     "name": "stdout",
     "output_type": "stream",
     "text": [
      "Collecting pyexplainer\n",
      "  Using cached pyexplainer-0.2.0-py3-none-any.whl (5.1 MB)\n",
      "Collecting pandas<2.0.0,>=1.2.3\n",
      "  Downloading pandas-1.3.0-cp38-cp38-manylinux_2_5_x86_64.manylinux1_x86_64.whl (10.6 MB)\n",
      "\u001b[K     |████████████████████████████████| 10.6 MB 24.1 MB/s eta 0:00:01\n",
      "\u001b[?25hCollecting ipywidgets<8.0.0,>=7.6.3\n",
      "  Using cached ipywidgets-7.6.3-py2.py3-none-any.whl (121 kB)\n",
      "Requirement already satisfied: scipy<2.0.0,>=1.6.1 in /home/oathaha/.local/lib/python3.8/site-packages (from pyexplainer) (1.6.1)\n",
      "Collecting numpy<2.0.0,>=1.20.1\n",
      "  Downloading numpy-1.21.0-cp38-cp38-manylinux_2_12_x86_64.manylinux2010_x86_64.whl (15.7 MB)\n",
      "\u001b[K     |████████████████████████████████| 15.7 MB 29.9 MB/s eta 0:00:01\n",
      "\u001b[?25hRequirement already satisfied: ipython<8.0.0,>=7.21.0 in /home/oathaha/.local/lib/python3.8/site-packages (from pyexplainer) (7.21.0)\n",
      "Requirement already satisfied: scikit-learn<0.25.0,>=0.24.1 in /home/oathaha/.local/lib/python3.8/site-packages (from pyexplainer) (0.24.1)\n",
      "Collecting statsmodels<0.13.0,>=0.12.2\n",
      "  Using cached statsmodels-0.12.2-cp38-cp38-manylinux1_x86_64.whl (9.4 MB)\n",
      "Requirement already satisfied: python-dateutil>=2.7.3 in /usr/lib/python3/dist-packages (from pandas<2.0.0,>=1.2.3->pyexplainer) (2.7.3)\n",
      "Requirement already satisfied: pytz>=2017.3 in /usr/lib/python3/dist-packages (from pandas<2.0.0,>=1.2.3->pyexplainer) (2019.3)\n",
      "Collecting jupyterlab-widgets>=1.0.0; python_version >= \"3.6\"\n",
      "  Using cached jupyterlab_widgets-1.0.0-py3-none-any.whl (243 kB)\n",
      "Collecting widgetsnbextension~=3.5.0\n",
      "  Using cached widgetsnbextension-3.5.1-py2.py3-none-any.whl (2.2 MB)\n",
      "Requirement already satisfied: nbformat>=4.2.0 in /home/oathaha/.local/lib/python3.8/site-packages (from ipywidgets<8.0.0,>=7.6.3->pyexplainer) (5.1.2)\n",
      "Requirement already satisfied: traitlets>=4.3.1 in /home/oathaha/.local/lib/python3.8/site-packages (from ipywidgets<8.0.0,>=7.6.3->pyexplainer) (5.0.5)\n",
      "Requirement already satisfied: ipykernel>=4.5.1 in /home/oathaha/.local/lib/python3.8/site-packages (from ipywidgets<8.0.0,>=7.6.3->pyexplainer) (5.5.0)\n",
      "Requirement already satisfied: setuptools>=18.5 in /usr/lib/python3/dist-packages (from ipython<8.0.0,>=7.21.0->pyexplainer) (45.2.0)\n",
      "Requirement already satisfied: pickleshare in /home/oathaha/.local/lib/python3.8/site-packages (from ipython<8.0.0,>=7.21.0->pyexplainer) (0.7.5)\n",
      "Requirement already satisfied: jedi>=0.16 in /home/oathaha/.local/lib/python3.8/site-packages (from ipython<8.0.0,>=7.21.0->pyexplainer) (0.18.0)\n",
      "Requirement already satisfied: backcall in /home/oathaha/.local/lib/python3.8/site-packages (from ipython<8.0.0,>=7.21.0->pyexplainer) (0.2.0)\n",
      "Requirement already satisfied: decorator in /home/oathaha/.local/lib/python3.8/site-packages (from ipython<8.0.0,>=7.21.0->pyexplainer) (4.4.2)\n",
      "Requirement already satisfied: pexpect>4.3; sys_platform != \"win32\" in /home/oathaha/.local/lib/python3.8/site-packages (from ipython<8.0.0,>=7.21.0->pyexplainer) (4.8.0)\n",
      "Requirement already satisfied: prompt-toolkit!=3.0.0,!=3.0.1,<3.1.0,>=2.0.0 in /home/oathaha/.local/lib/python3.8/site-packages (from ipython<8.0.0,>=7.21.0->pyexplainer) (3.0.17)\n",
      "Requirement already satisfied: pygments in /usr/local/lib/python3.8/dist-packages (from ipython<8.0.0,>=7.21.0->pyexplainer) (2.7.2)\n",
      "Requirement already satisfied: threadpoolctl>=2.0.0 in /usr/local/lib/python3.8/dist-packages (from scikit-learn<0.25.0,>=0.24.1->pyexplainer) (2.1.0)\n",
      "Requirement already satisfied: joblib>=0.11 in /usr/local/lib/python3.8/dist-packages (from scikit-learn<0.25.0,>=0.24.1->pyexplainer) (0.17.0)\n",
      "Collecting patsy>=0.5\n",
      "  Using cached patsy-0.5.1-py2.py3-none-any.whl (231 kB)\n",
      "Requirement already satisfied: notebook>=4.4.1 in /home/oathaha/.local/lib/python3.8/site-packages (from widgetsnbextension~=3.5.0->ipywidgets<8.0.0,>=7.6.3->pyexplainer) (6.2.0)\n",
      "Requirement already satisfied: ipython-genutils in /home/oathaha/.local/lib/python3.8/site-packages (from nbformat>=4.2.0->ipywidgets<8.0.0,>=7.6.3->pyexplainer) (0.2.0)\n",
      "Requirement already satisfied: jsonschema!=2.5.0,>=2.4 in /home/oathaha/.local/lib/python3.8/site-packages (from nbformat>=4.2.0->ipywidgets<8.0.0,>=7.6.3->pyexplainer) (3.2.0)\n",
      "Requirement already satisfied: jupyter-core in /home/oathaha/.local/lib/python3.8/site-packages (from nbformat>=4.2.0->ipywidgets<8.0.0,>=7.6.3->pyexplainer) (4.7.1)\n",
      "Requirement already satisfied: jupyter-client in /usr/local/lib/python3.8/dist-packages (from ipykernel>=4.5.1->ipywidgets<8.0.0,>=7.6.3->pyexplainer) (6.1.7)\n",
      "Requirement already satisfied: tornado>=4.2 in /home/oathaha/.local/lib/python3.8/site-packages (from ipykernel>=4.5.1->ipywidgets<8.0.0,>=7.6.3->pyexplainer) (6.1)\n",
      "Requirement already satisfied: parso<0.9.0,>=0.8.0 in /home/oathaha/.local/lib/python3.8/site-packages (from jedi>=0.16->ipython<8.0.0,>=7.21.0->pyexplainer) (0.8.1)\n",
      "Requirement already satisfied: ptyprocess>=0.5 in /home/oathaha/.local/lib/python3.8/site-packages (from pexpect>4.3; sys_platform != \"win32\"->ipython<8.0.0,>=7.21.0->pyexplainer) (0.7.0)\n",
      "Requirement already satisfied: wcwidth in /home/oathaha/.local/lib/python3.8/site-packages (from prompt-toolkit!=3.0.0,!=3.0.1,<3.1.0,>=2.0.0->ipython<8.0.0,>=7.21.0->pyexplainer) (0.2.5)\n",
      "Requirement already satisfied: six in /usr/lib/python3/dist-packages (from patsy>=0.5->statsmodels<0.13.0,>=0.12.2->pyexplainer) (1.14.0)\n",
      "Requirement already satisfied: jinja2 in /home/oathaha/.local/lib/python3.8/site-packages (from notebook>=4.4.1->widgetsnbextension~=3.5.0->ipywidgets<8.0.0,>=7.6.3->pyexplainer) (2.11.3)\n",
      "Requirement already satisfied: prometheus-client in /home/oathaha/.local/lib/python3.8/site-packages (from notebook>=4.4.1->widgetsnbextension~=3.5.0->ipywidgets<8.0.0,>=7.6.3->pyexplainer) (0.9.0)\n",
      "Requirement already satisfied: Send2Trash>=1.5.0 in /home/oathaha/.local/lib/python3.8/site-packages (from notebook>=4.4.1->widgetsnbextension~=3.5.0->ipywidgets<8.0.0,>=7.6.3->pyexplainer) (1.5.0)\n",
      "Requirement already satisfied: argon2-cffi in /home/oathaha/.local/lib/python3.8/site-packages (from notebook>=4.4.1->widgetsnbextension~=3.5.0->ipywidgets<8.0.0,>=7.6.3->pyexplainer) (20.1.0)\n",
      "Requirement already satisfied: terminado>=0.8.3 in /home/oathaha/.local/lib/python3.8/site-packages (from notebook>=4.4.1->widgetsnbextension~=3.5.0->ipywidgets<8.0.0,>=7.6.3->pyexplainer) (0.9.2)\n",
      "Requirement already satisfied: nbconvert in /usr/local/lib/python3.8/dist-packages (from notebook>=4.4.1->widgetsnbextension~=3.5.0->ipywidgets<8.0.0,>=7.6.3->pyexplainer) (6.0.7)\n",
      "Requirement already satisfied: pyzmq>=17 in /home/oathaha/.local/lib/python3.8/site-packages (from notebook>=4.4.1->widgetsnbextension~=3.5.0->ipywidgets<8.0.0,>=7.6.3->pyexplainer) (22.0.3)\n",
      "Requirement already satisfied: attrs>=17.4.0 in /home/oathaha/.local/lib/python3.8/site-packages (from jsonschema!=2.5.0,>=2.4->nbformat>=4.2.0->ipywidgets<8.0.0,>=7.6.3->pyexplainer) (20.3.0)\n",
      "Requirement already satisfied: pyrsistent>=0.14.0 in /usr/local/lib/python3.8/dist-packages (from jsonschema!=2.5.0,>=2.4->nbformat>=4.2.0->ipywidgets<8.0.0,>=7.6.3->pyexplainer) (0.17.3)\n",
      "Requirement already satisfied: MarkupSafe>=0.23 in /home/oathaha/.local/lib/python3.8/site-packages (from jinja2->notebook>=4.4.1->widgetsnbextension~=3.5.0->ipywidgets<8.0.0,>=7.6.3->pyexplainer) (1.1.1)\n",
      "Requirement already satisfied: cffi>=1.0.0 in /usr/local/lib/python3.8/dist-packages (from argon2-cffi->notebook>=4.4.1->widgetsnbextension~=3.5.0->ipywidgets<8.0.0,>=7.6.3->pyexplainer) (1.14.3)\n",
      "Requirement already satisfied: pandocfilters>=1.4.1 in /usr/local/lib/python3.8/dist-packages (from nbconvert->notebook>=4.4.1->widgetsnbextension~=3.5.0->ipywidgets<8.0.0,>=7.6.3->pyexplainer) (1.4.3)\n",
      "Requirement already satisfied: entrypoints>=0.2.2 in /home/oathaha/.local/lib/python3.8/site-packages (from nbconvert->notebook>=4.4.1->widgetsnbextension~=3.5.0->ipywidgets<8.0.0,>=7.6.3->pyexplainer) (0.3)\n",
      "Requirement already satisfied: testpath in /home/oathaha/.local/lib/python3.8/site-packages (from nbconvert->notebook>=4.4.1->widgetsnbextension~=3.5.0->ipywidgets<8.0.0,>=7.6.3->pyexplainer) (0.4.4)\n",
      "Requirement already satisfied: nbclient<0.6.0,>=0.5.0 in /home/oathaha/.local/lib/python3.8/site-packages (from nbconvert->notebook>=4.4.1->widgetsnbextension~=3.5.0->ipywidgets<8.0.0,>=7.6.3->pyexplainer) (0.5.3)\n"
     ]
    },
    {
     "name": "stdout",
     "output_type": "stream",
     "text": [
      "Requirement already satisfied: defusedxml in /home/oathaha/.local/lib/python3.8/site-packages (from nbconvert->notebook>=4.4.1->widgetsnbextension~=3.5.0->ipywidgets<8.0.0,>=7.6.3->pyexplainer) (0.7.1)\n",
      "Requirement already satisfied: jupyterlab-pygments in /home/oathaha/.local/lib/python3.8/site-packages (from nbconvert->notebook>=4.4.1->widgetsnbextension~=3.5.0->ipywidgets<8.0.0,>=7.6.3->pyexplainer) (0.1.2)\n",
      "Requirement already satisfied: bleach in /home/oathaha/.local/lib/python3.8/site-packages (from nbconvert->notebook>=4.4.1->widgetsnbextension~=3.5.0->ipywidgets<8.0.0,>=7.6.3->pyexplainer) (3.3.0)\n",
      "Requirement already satisfied: mistune<2,>=0.8.1 in /home/oathaha/.local/lib/python3.8/site-packages (from nbconvert->notebook>=4.4.1->widgetsnbextension~=3.5.0->ipywidgets<8.0.0,>=7.6.3->pyexplainer) (0.8.4)\n",
      "Requirement already satisfied: pycparser in /usr/local/lib/python3.8/dist-packages (from cffi>=1.0.0->argon2-cffi->notebook>=4.4.1->widgetsnbextension~=3.5.0->ipywidgets<8.0.0,>=7.6.3->pyexplainer) (2.20)\n",
      "Requirement already satisfied: nest-asyncio in /home/oathaha/.local/lib/python3.8/site-packages (from nbclient<0.6.0,>=0.5.0->nbconvert->notebook>=4.4.1->widgetsnbextension~=3.5.0->ipywidgets<8.0.0,>=7.6.3->pyexplainer) (1.5.1)\n",
      "Requirement already satisfied: async-generator in /home/oathaha/.local/lib/python3.8/site-packages (from nbclient<0.6.0,>=0.5.0->nbconvert->notebook>=4.4.1->widgetsnbextension~=3.5.0->ipywidgets<8.0.0,>=7.6.3->pyexplainer) (1.10)\n",
      "Requirement already satisfied: webencodings in /usr/local/lib/python3.8/dist-packages (from bleach->nbconvert->notebook>=4.4.1->widgetsnbextension~=3.5.0->ipywidgets<8.0.0,>=7.6.3->pyexplainer) (0.5.1)\n",
      "Requirement already satisfied: packaging in /home/oathaha/.local/lib/python3.8/site-packages (from bleach->nbconvert->notebook>=4.4.1->widgetsnbextension~=3.5.0->ipywidgets<8.0.0,>=7.6.3->pyexplainer) (20.9)\n",
      "Requirement already satisfied: pyparsing>=2.0.2 in /usr/local/lib/python3.8/dist-packages (from packaging->bleach->nbconvert->notebook>=4.4.1->widgetsnbextension~=3.5.0->ipywidgets<8.0.0,>=7.6.3->pyexplainer) (2.4.7)\n",
      "\u001b[31mERROR: tensorflow 2.3.1 has requirement numpy<1.19.0,>=1.16.0, but you'll have numpy 1.21.0 which is incompatible.\u001b[0m\n",
      "Installing collected packages: numpy, pandas, jupyterlab-widgets, widgetsnbextension, ipywidgets, patsy, statsmodels, pyexplainer\n",
      "\u001b[33m  WARNING: The scripts f2py, f2py3 and f2py3.8 are installed in '/home/oathaha/.local/bin' which is not on PATH.\n",
      "  Consider adding this directory to PATH or, if you prefer to suppress this warning, use --no-warn-script-location.\u001b[0m\n",
      "Successfully installed ipywidgets-7.6.3 jupyterlab-widgets-1.0.0 numpy-1.21.0 pandas-1.3.0 patsy-0.5.1 pyexplainer-0.2.0 statsmodels-0.12.2 widgetsnbextension-3.5.1\n"
     ]
    }
   ],
   "source": [
    "!pip install pyexplainer"
   ]
  },
  {
   "cell_type": "markdown",
   "metadata": {},
   "source": [
    "### If the code above did not work, try the cell below, otherwise, you successfully installed PyExplainer!"
   ]
  },
  {
   "cell_type": "code",
   "execution_count": 6,
   "metadata": {},
   "outputs": [
    {
     "name": "stdout",
     "output_type": "stream",
     "text": [
      "Requirement already satisfied: pyexplainer in /home/oathaha/.local/lib/python3.8/site-packages (0.2.0)\n",
      "Requirement already satisfied: ipython<8.0.0,>=7.21.0 in /home/oathaha/.local/lib/python3.8/site-packages (from pyexplainer) (7.21.0)\n",
      "Requirement already satisfied: pandas<2.0.0,>=1.2.3 in /home/oathaha/.local/lib/python3.8/site-packages (from pyexplainer) (1.3.0)\n",
      "Requirement already satisfied: scipy<2.0.0,>=1.6.1 in /home/oathaha/.local/lib/python3.8/site-packages (from pyexplainer) (1.6.1)\n",
      "Requirement already satisfied: numpy<2.0.0,>=1.20.1 in /home/oathaha/.local/lib/python3.8/site-packages (from pyexplainer) (1.21.0)\n",
      "Requirement already satisfied: ipywidgets<8.0.0,>=7.6.3 in /home/oathaha/.local/lib/python3.8/site-packages (from pyexplainer) (7.6.3)\n",
      "Requirement already satisfied: statsmodels<0.13.0,>=0.12.2 in /home/oathaha/.local/lib/python3.8/site-packages (from pyexplainer) (0.12.2)\n",
      "Requirement already satisfied: scikit-learn<0.25.0,>=0.24.1 in /home/oathaha/.local/lib/python3.8/site-packages (from pyexplainer) (0.24.1)\n",
      "Requirement already satisfied: setuptools>=18.5 in /usr/lib/python3/dist-packages (from ipython<8.0.0,>=7.21.0->pyexplainer) (45.2.0)\n",
      "Requirement already satisfied: jedi>=0.16 in /home/oathaha/.local/lib/python3.8/site-packages (from ipython<8.0.0,>=7.21.0->pyexplainer) (0.18.0)\n",
      "Requirement already satisfied: backcall in /home/oathaha/.local/lib/python3.8/site-packages (from ipython<8.0.0,>=7.21.0->pyexplainer) (0.2.0)\n",
      "Requirement already satisfied: pickleshare in /home/oathaha/.local/lib/python3.8/site-packages (from ipython<8.0.0,>=7.21.0->pyexplainer) (0.7.5)\n",
      "Requirement already satisfied: decorator in /home/oathaha/.local/lib/python3.8/site-packages (from ipython<8.0.0,>=7.21.0->pyexplainer) (4.4.2)\n",
      "Requirement already satisfied: traitlets>=4.2 in /home/oathaha/.local/lib/python3.8/site-packages (from ipython<8.0.0,>=7.21.0->pyexplainer) (5.0.5)\n",
      "Requirement already satisfied: pygments in /usr/local/lib/python3.8/dist-packages (from ipython<8.0.0,>=7.21.0->pyexplainer) (2.7.2)\n",
      "Requirement already satisfied: pexpect>4.3; sys_platform != \"win32\" in /home/oathaha/.local/lib/python3.8/site-packages (from ipython<8.0.0,>=7.21.0->pyexplainer) (4.8.0)\n",
      "Requirement already satisfied: prompt-toolkit!=3.0.0,!=3.0.1,<3.1.0,>=2.0.0 in /home/oathaha/.local/lib/python3.8/site-packages (from ipython<8.0.0,>=7.21.0->pyexplainer) (3.0.17)\n",
      "Requirement already satisfied: python-dateutil>=2.7.3 in /usr/lib/python3/dist-packages (from pandas<2.0.0,>=1.2.3->pyexplainer) (2.7.3)\n",
      "Requirement already satisfied: pytz>=2017.3 in /usr/lib/python3/dist-packages (from pandas<2.0.0,>=1.2.3->pyexplainer) (2019.3)\n",
      "Requirement already satisfied: ipykernel>=4.5.1 in /home/oathaha/.local/lib/python3.8/site-packages (from ipywidgets<8.0.0,>=7.6.3->pyexplainer) (5.5.0)\n",
      "Requirement already satisfied: nbformat>=4.2.0 in /home/oathaha/.local/lib/python3.8/site-packages (from ipywidgets<8.0.0,>=7.6.3->pyexplainer) (5.1.2)\n",
      "Requirement already satisfied: widgetsnbextension~=3.5.0 in /home/oathaha/.local/lib/python3.8/site-packages (from ipywidgets<8.0.0,>=7.6.3->pyexplainer) (3.5.1)\n",
      "Requirement already satisfied: jupyterlab-widgets>=1.0.0; python_version >= \"3.6\" in /home/oathaha/.local/lib/python3.8/site-packages (from ipywidgets<8.0.0,>=7.6.3->pyexplainer) (1.0.0)\n",
      "Requirement already satisfied: patsy>=0.5 in /home/oathaha/.local/lib/python3.8/site-packages (from statsmodels<0.13.0,>=0.12.2->pyexplainer) (0.5.1)\n",
      "Requirement already satisfied: joblib>=0.11 in /usr/local/lib/python3.8/dist-packages (from scikit-learn<0.25.0,>=0.24.1->pyexplainer) (0.17.0)\n",
      "Requirement already satisfied: threadpoolctl>=2.0.0 in /usr/local/lib/python3.8/dist-packages (from scikit-learn<0.25.0,>=0.24.1->pyexplainer) (2.1.0)\n",
      "Requirement already satisfied: parso<0.9.0,>=0.8.0 in /home/oathaha/.local/lib/python3.8/site-packages (from jedi>=0.16->ipython<8.0.0,>=7.21.0->pyexplainer) (0.8.1)\n",
      "Requirement already satisfied: ipython-genutils in /home/oathaha/.local/lib/python3.8/site-packages (from traitlets>=4.2->ipython<8.0.0,>=7.21.0->pyexplainer) (0.2.0)\n",
      "Requirement already satisfied: ptyprocess>=0.5 in /home/oathaha/.local/lib/python3.8/site-packages (from pexpect>4.3; sys_platform != \"win32\"->ipython<8.0.0,>=7.21.0->pyexplainer) (0.7.0)\n",
      "Requirement already satisfied: wcwidth in /home/oathaha/.local/lib/python3.8/site-packages (from prompt-toolkit!=3.0.0,!=3.0.1,<3.1.0,>=2.0.0->ipython<8.0.0,>=7.21.0->pyexplainer) (0.2.5)\n",
      "Requirement already satisfied: tornado>=4.2 in /home/oathaha/.local/lib/python3.8/site-packages (from ipykernel>=4.5.1->ipywidgets<8.0.0,>=7.6.3->pyexplainer) (6.1)\n",
      "Requirement already satisfied: jupyter-client in /usr/local/lib/python3.8/dist-packages (from ipykernel>=4.5.1->ipywidgets<8.0.0,>=7.6.3->pyexplainer) (6.1.7)\n",
      "Requirement already satisfied: jsonschema!=2.5.0,>=2.4 in /home/oathaha/.local/lib/python3.8/site-packages (from nbformat>=4.2.0->ipywidgets<8.0.0,>=7.6.3->pyexplainer) (3.2.0)\n",
      "Requirement already satisfied: jupyter-core in /home/oathaha/.local/lib/python3.8/site-packages (from nbformat>=4.2.0->ipywidgets<8.0.0,>=7.6.3->pyexplainer) (4.7.1)\n",
      "Requirement already satisfied: notebook>=4.4.1 in /home/oathaha/.local/lib/python3.8/site-packages (from widgetsnbextension~=3.5.0->ipywidgets<8.0.0,>=7.6.3->pyexplainer) (6.2.0)\n",
      "Requirement already satisfied: six in /usr/lib/python3/dist-packages (from patsy>=0.5->statsmodels<0.13.0,>=0.12.2->pyexplainer) (1.14.0)\n",
      "Requirement already satisfied: pyzmq>=13 in /home/oathaha/.local/lib/python3.8/site-packages (from jupyter-client->ipykernel>=4.5.1->ipywidgets<8.0.0,>=7.6.3->pyexplainer) (22.0.3)\n",
      "Requirement already satisfied: pyrsistent>=0.14.0 in /usr/local/lib/python3.8/dist-packages (from jsonschema!=2.5.0,>=2.4->nbformat>=4.2.0->ipywidgets<8.0.0,>=7.6.3->pyexplainer) (0.17.3)\n",
      "Requirement already satisfied: attrs>=17.4.0 in /home/oathaha/.local/lib/python3.8/site-packages (from jsonschema!=2.5.0,>=2.4->nbformat>=4.2.0->ipywidgets<8.0.0,>=7.6.3->pyexplainer) (20.3.0)\n",
      "Requirement already satisfied: nbconvert in /usr/local/lib/python3.8/dist-packages (from notebook>=4.4.1->widgetsnbextension~=3.5.0->ipywidgets<8.0.0,>=7.6.3->pyexplainer) (6.0.7)\n",
      "Requirement already satisfied: jinja2 in /home/oathaha/.local/lib/python3.8/site-packages (from notebook>=4.4.1->widgetsnbextension~=3.5.0->ipywidgets<8.0.0,>=7.6.3->pyexplainer) (2.11.3)\n",
      "Requirement already satisfied: terminado>=0.8.3 in /home/oathaha/.local/lib/python3.8/site-packages (from notebook>=4.4.1->widgetsnbextension~=3.5.0->ipywidgets<8.0.0,>=7.6.3->pyexplainer) (0.9.2)\n",
      "Requirement already satisfied: prometheus-client in /home/oathaha/.local/lib/python3.8/site-packages (from notebook>=4.4.1->widgetsnbextension~=3.5.0->ipywidgets<8.0.0,>=7.6.3->pyexplainer) (0.9.0)\n",
      "Requirement already satisfied: argon2-cffi in /home/oathaha/.local/lib/python3.8/site-packages (from notebook>=4.4.1->widgetsnbextension~=3.5.0->ipywidgets<8.0.0,>=7.6.3->pyexplainer) (20.1.0)\n",
      "Requirement already satisfied: Send2Trash>=1.5.0 in /home/oathaha/.local/lib/python3.8/site-packages (from notebook>=4.4.1->widgetsnbextension~=3.5.0->ipywidgets<8.0.0,>=7.6.3->pyexplainer) (1.5.0)\n",
      "Requirement already satisfied: nbclient<0.6.0,>=0.5.0 in /home/oathaha/.local/lib/python3.8/site-packages (from nbconvert->notebook>=4.4.1->widgetsnbextension~=3.5.0->ipywidgets<8.0.0,>=7.6.3->pyexplainer) (0.5.3)\n",
      "Requirement already satisfied: bleach in /home/oathaha/.local/lib/python3.8/site-packages (from nbconvert->notebook>=4.4.1->widgetsnbextension~=3.5.0->ipywidgets<8.0.0,>=7.6.3->pyexplainer) (3.3.0)\n",
      "Requirement already satisfied: defusedxml in /home/oathaha/.local/lib/python3.8/site-packages (from nbconvert->notebook>=4.4.1->widgetsnbextension~=3.5.0->ipywidgets<8.0.0,>=7.6.3->pyexplainer) (0.7.1)\n",
      "Requirement already satisfied: pandocfilters>=1.4.1 in /usr/local/lib/python3.8/dist-packages (from nbconvert->notebook>=4.4.1->widgetsnbextension~=3.5.0->ipywidgets<8.0.0,>=7.6.3->pyexplainer) (1.4.3)\n",
      "Requirement already satisfied: mistune<2,>=0.8.1 in /home/oathaha/.local/lib/python3.8/site-packages (from nbconvert->notebook>=4.4.1->widgetsnbextension~=3.5.0->ipywidgets<8.0.0,>=7.6.3->pyexplainer) (0.8.4)\n",
      "Requirement already satisfied: testpath in /home/oathaha/.local/lib/python3.8/site-packages (from nbconvert->notebook>=4.4.1->widgetsnbextension~=3.5.0->ipywidgets<8.0.0,>=7.6.3->pyexplainer) (0.4.4)\n",
      "Requirement already satisfied: entrypoints>=0.2.2 in /home/oathaha/.local/lib/python3.8/site-packages (from nbconvert->notebook>=4.4.1->widgetsnbextension~=3.5.0->ipywidgets<8.0.0,>=7.6.3->pyexplainer) (0.3)\n",
      "Requirement already satisfied: jupyterlab-pygments in /home/oathaha/.local/lib/python3.8/site-packages (from nbconvert->notebook>=4.4.1->widgetsnbextension~=3.5.0->ipywidgets<8.0.0,>=7.6.3->pyexplainer) (0.1.2)\n",
      "Requirement already satisfied: MarkupSafe>=0.23 in /home/oathaha/.local/lib/python3.8/site-packages (from jinja2->notebook>=4.4.1->widgetsnbextension~=3.5.0->ipywidgets<8.0.0,>=7.6.3->pyexplainer) (1.1.1)\n",
      "Requirement already satisfied: cffi>=1.0.0 in /usr/local/lib/python3.8/dist-packages (from argon2-cffi->notebook>=4.4.1->widgetsnbextension~=3.5.0->ipywidgets<8.0.0,>=7.6.3->pyexplainer) (1.14.3)\n",
      "Requirement already satisfied: async-generator in /home/oathaha/.local/lib/python3.8/site-packages (from nbclient<0.6.0,>=0.5.0->nbconvert->notebook>=4.4.1->widgetsnbextension~=3.5.0->ipywidgets<8.0.0,>=7.6.3->pyexplainer) (1.10)\n",
      "Requirement already satisfied: nest-asyncio in /home/oathaha/.local/lib/python3.8/site-packages (from nbclient<0.6.0,>=0.5.0->nbconvert->notebook>=4.4.1->widgetsnbextension~=3.5.0->ipywidgets<8.0.0,>=7.6.3->pyexplainer) (1.5.1)\n",
      "Requirement already satisfied: packaging in /home/oathaha/.local/lib/python3.8/site-packages (from bleach->nbconvert->notebook>=4.4.1->widgetsnbextension~=3.5.0->ipywidgets<8.0.0,>=7.6.3->pyexplainer) (20.9)\n",
      "Requirement already satisfied: webencodings in /usr/local/lib/python3.8/dist-packages (from bleach->nbconvert->notebook>=4.4.1->widgetsnbextension~=3.5.0->ipywidgets<8.0.0,>=7.6.3->pyexplainer) (0.5.1)\n",
      "Requirement already satisfied: pycparser in /usr/local/lib/python3.8/dist-packages (from cffi>=1.0.0->argon2-cffi->notebook>=4.4.1->widgetsnbextension~=3.5.0->ipywidgets<8.0.0,>=7.6.3->pyexplainer) (2.20)\n",
      "Requirement already satisfied: pyparsing>=2.0.2 in /usr/local/lib/python3.8/dist-packages (from packaging->bleach->nbconvert->notebook>=4.4.1->widgetsnbextension~=3.5.0->ipywidgets<8.0.0,>=7.6.3->pyexplainer) (2.4.7)\n"
     ]
    }
   ],
   "source": [
    "!pip3 install pyexplainer"
   ]
  },
  {
   "cell_type": "markdown",
   "metadata": {},
   "source": [
    "# Let's get started !"
   ]
  },
  {
   "cell_type": "markdown",
   "metadata": {},
   "source": [
    "## 1. Prepare data and model\n",
    "\n",
    "Note. We use the default data and model here for an example"
   ]
  },
  {
   "cell_type": "markdown",
   "metadata": {},
   "source": [
    "### 1.1 Import required library"
   ]
  },
  {
   "cell_type": "code",
   "execution_count": 1,
   "metadata": {},
   "outputs": [],
   "source": [
    "from pyexplainer import pyexplainer_pyexplainer\n",
    "# from pyexplainer.pyexplainer_pyexplainer import *\n",
    "# import PyExplainer.pyexplainer\n",
    "# from pyexplainer.pyexplainer_pyexplainer import PyExplainer as pyexp"
   ]
  },
  {
   "cell_type": "markdown",
   "metadata": {},
   "source": [
    "### 1.2 Obtain default dataset and global model (Random Forest)"
   ]
  },
  {
   "cell_type": "code",
   "execution_count": 2,
   "metadata": {},
   "outputs": [],
   "source": [
    "default_data_and_model = pyexplainer_pyexplainer.get_dflt()\n",
    "py_explainer = pyexplainer_pyexplainer.PyExplainer(X_train = default_data_and_model['X_train'],\n",
    "                           y_train = default_data_and_model['y_train'],\n",
    "                           indep = default_data_and_model['indep'],\n",
    "                           dep = default_data_and_model['dep'],\n",
    "                           blackbox_model = default_data_and_model['blackbox_model'])"
   ]
  },
  {
   "cell_type": "code",
   "execution_count": 9,
   "metadata": {},
   "outputs": [
    {
     "name": "stdout",
     "output_type": "stream",
     "text": [
      "dict_keys(['X_train', 'y_train', 'indep', 'dep', 'blackbox_model', 'X_explain', 'y_explain', 'full_ft_names'])\n"
     ]
    }
   ],
   "source": [
    "print(default_data_and_model.keys())"
   ]
  },
  {
   "cell_type": "markdown",
   "metadata": {},
   "source": [
    "## 🔧2. Create PyExplainer object "
   ]
  },
  {
   "cell_type": "markdown",
   "metadata": {},
   "source": [
    "### 2.1 Prepare data for creating PyExplainer"
   ]
  },
  {
   "cell_type": "code",
   "execution_count": 3,
   "metadata": {},
   "outputs": [],
   "source": [
    "X_explain = default_data_and_model['X_explain']\n",
    "y_explain = default_data_and_model['y_explain']"
   ]
  },
  {
   "cell_type": "markdown",
   "metadata": {},
   "source": [
    "### 2.2 Create PyExplainer"
   ]
  },
  {
   "cell_type": "code",
   "execution_count": 4,
   "metadata": {},
   "outputs": [],
   "source": [
    "created_rule_obj = py_explainer.explain(X_explain=X_explain,\n",
    "                                        y_explain=y_explain,\n",
    "                                        search_function='crossoverinterpolation')"
   ]
  },
  {
   "cell_type": "markdown",
   "metadata": {},
   "source": [
    "## 3. Create interactive visualization\n",
    "\n",
    "You can change feature values at the slider bar to observe change of risk score."
   ]
  },
  {
   "cell_type": "code",
   "execution_count": 5,
   "metadata": {},
   "outputs": [
    {
     "data": {
      "application/vnd.jupyter.widget-view+json": {
       "model_id": "e58b4b39690a447981f01cf5043a88f9",
       "version_major": 2,
       "version_minor": 0
      },
      "text/plain": [
       "HBox(children=(Label(value='Risk Score: '), FloatProgress(value=0.0, bar_style='info', layout=Layout(width='40…"
      ]
     },
     "metadata": {},
     "output_type": "display_data"
    },
    {
     "data": {
      "application/vnd.jupyter.widget-view+json": {
       "model_id": "362d6cdedd154342a731bcc42f379b35",
       "version_major": 2,
       "version_minor": 0
      },
      "text/plain": [
       "Output(layout=Layout(border='3px solid black'))"
      ]
     },
     "metadata": {},
     "output_type": "display_data"
    },
    {
     "data": {
      "application/vnd.jupyter.widget-view+json": {
       "model_id": "687c226cac9e41c9a9454c96c8c37175",
       "version_major": 2,
       "version_minor": 0
      },
      "text/plain": [
       "FloatSlider(value=0.74, continuous_update=False, description='#1 The value of ent is more than 0.74', layout=L…"
      ]
     },
     "metadata": {},
     "output_type": "display_data"
    },
    {
     "data": {
      "application/vnd.jupyter.widget-view+json": {
       "model_id": "1254930108d34e9d94352bed0c824103",
       "version_major": 2,
       "version_minor": 0
      },
      "text/plain": [
       "FloatSlider(value=3.0, continuous_update=False, description='#2 The value of app is less than 3.0', layout=Lay…"
      ]
     },
     "metadata": {},
     "output_type": "display_data"
    },
    {
     "data": {
      "application/vnd.jupyter.widget-view+json": {
       "model_id": "608c13c7b6684f3d9126666fc48ed0ae",
       "version_major": 2,
       "version_minor": 0
      },
      "text/plain": [
       "FloatSlider(value=3.0, continuous_update=False, description='#3 The value of nd is less than 3', layout=Layout…"
      ]
     },
     "metadata": {},
     "output_type": "display_data"
    }
   ],
   "source": [
    "py_explainer.visualise(created_rule_obj)"
   ]
  },
  {
   "cell_type": "markdown",
   "metadata": {},
   "source": [
    "# Appendix"
   ]
  },
  {
   "cell_type": "markdown",
   "metadata": {},
   "source": [
    "## The detail of variables used to to create PyExplainer"
   ]
  },
  {
   "cell_type": "markdown",
   "metadata": {},
   "source": [
    "### Synthetic_data\n",
    "\n",
    "Synthetic_data is data that are generated by PyExplainer using one of the following approaches.\n",
    "\n",
    "1. Crossover and Interpolation\n",
    "2. Random Perturbation.\n",
    "\n",
    "After Synthetic_data is generated, it is stored as a pandas DataFrame object. "
   ]
  },
  {
   "cell_type": "code",
   "execution_count": 17,
   "metadata": {},
   "outputs": [
    {
     "name": "stdout",
     "output_type": "stream",
     "text": [
      "Type of pyExp_rule_obj['synthetic_data'] -  <class 'pandas.core.frame.DataFrame'> \n",
      "\n",
      "Example\n"
     ]
    },
    {
     "data": {
      "text/html": [
       "<div>\n",
       "<style scoped>\n",
       "    .dataframe tbody tr th:only-of-type {\n",
       "        vertical-align: middle;\n",
       "    }\n",
       "\n",
       "    .dataframe tbody tr th {\n",
       "        vertical-align: top;\n",
       "    }\n",
       "\n",
       "    .dataframe thead th {\n",
       "        text-align: right;\n",
       "    }\n",
       "</style>\n",
       "<table border=\"1\" class=\"dataframe\">\n",
       "  <thead>\n",
       "    <tr style=\"text-align: right;\">\n",
       "      <th></th>\n",
       "      <th>la</th>\n",
       "      <th>nd</th>\n",
       "      <th>ns</th>\n",
       "      <th>ent</th>\n",
       "      <th>nrev</th>\n",
       "      <th>rtime</th>\n",
       "      <th>self</th>\n",
       "      <th>ndev</th>\n",
       "      <th>age</th>\n",
       "      <th>app</th>\n",
       "      <th>rrexp</th>\n",
       "      <th>asawr</th>\n",
       "      <th>rsawr</th>\n",
       "    </tr>\n",
       "  </thead>\n",
       "  <tbody>\n",
       "    <tr>\n",
       "      <th>0</th>\n",
       "      <td>194.0</td>\n",
       "      <td>2.0</td>\n",
       "      <td>1.0</td>\n",
       "      <td>0.80</td>\n",
       "      <td>12.0</td>\n",
       "      <td>9.40</td>\n",
       "      <td>0.0</td>\n",
       "      <td>44.0</td>\n",
       "      <td>1.97</td>\n",
       "      <td>2.0</td>\n",
       "      <td>1290.0</td>\n",
       "      <td>0.01</td>\n",
       "      <td>0.61</td>\n",
       "    </tr>\n",
       "    <tr>\n",
       "      <th>1</th>\n",
       "      <td>130.0</td>\n",
       "      <td>4.0</td>\n",
       "      <td>1.0</td>\n",
       "      <td>0.83</td>\n",
       "      <td>15.0</td>\n",
       "      <td>14.47</td>\n",
       "      <td>0.0</td>\n",
       "      <td>55.0</td>\n",
       "      <td>0.06</td>\n",
       "      <td>2.0</td>\n",
       "      <td>1206.0</td>\n",
       "      <td>0.00</td>\n",
       "      <td>0.54</td>\n",
       "    </tr>\n",
       "  </tbody>\n",
       "</table>\n",
       "</div>"
      ],
      "text/plain": [
       "      la   nd   ns   ent  nrev  rtime  self  ndev   age  app   rrexp  asawr  \\\n",
       "0  194.0  2.0  1.0  0.80  12.0   9.40   0.0  44.0  1.97  2.0  1290.0   0.01   \n",
       "1  130.0  4.0  1.0  0.83  15.0  14.47   0.0  55.0  0.06  2.0  1206.0   0.00   \n",
       "\n",
       "   rsawr  \n",
       "0   0.61  \n",
       "1   0.54  "
      ]
     },
     "metadata": {},
     "output_type": "display_data"
    }
   ],
   "source": [
    "print(\"Type of pyExp_rule_obj['synthetic_data'] - \", type(created_rule_obj['synthetic_data']), \"\\n\")\n",
    "\n",
    "print('Example')\n",
    "display(created_rule_obj['synthetic_data'].head(2))"
   ]
  },
  {
   "cell_type": "markdown",
   "metadata": {},
   "source": [
    "### Synthetic_predictions\n",
    "\n",
    "Synthetic_predictions is the prediction of Synthetic_data, which is obtained from the global model inside PyExplainer."
   ]
  },
  {
   "cell_type": "code",
   "execution_count": 12,
   "metadata": {},
   "outputs": [
    {
     "name": "stdout",
     "output_type": "stream",
     "text": [
      "Type of pyExp_rule_obj['synthetic_predictions'] -  <class 'numpy.ndarray'> \n",
      "\n",
      "Example \n",
      "\n",
      " [False  True False ...  True  True  True]\n"
     ]
    }
   ],
   "source": [
    "print(\"Type of pyExp_rule_obj['synthetic_predictions'] - \", type(created_rule_obj['synthetic_predictions']), \"\\n\")\n",
    "print(\"Example\", \"\\n\\n\", created_rule_obj['synthetic_predictions'])"
   ]
  },
  {
   "cell_type": "markdown",
   "metadata": {},
   "source": [
    "### X_explain\n",
    "\n",
    "X_explain is an instance to be explained (which is a defective commit in this context)"
   ]
  },
  {
   "cell_type": "code",
   "execution_count": 15,
   "metadata": {},
   "outputs": [
    {
     "name": "stdout",
     "output_type": "stream",
     "text": [
      "Type of pyExp_rule_obj['X_explain'] -  <class 'pandas.core.frame.DataFrame'> \n",
      "\n",
      "Example\n"
     ]
    },
    {
     "data": {
      "text/html": [
       "<div>\n",
       "<style scoped>\n",
       "    .dataframe tbody tr th:only-of-type {\n",
       "        vertical-align: middle;\n",
       "    }\n",
       "\n",
       "    .dataframe tbody tr th {\n",
       "        vertical-align: top;\n",
       "    }\n",
       "\n",
       "    .dataframe thead th {\n",
       "        text-align: right;\n",
       "    }\n",
       "</style>\n",
       "<table border=\"1\" class=\"dataframe\">\n",
       "  <thead>\n",
       "    <tr style=\"text-align: right;\">\n",
       "      <th></th>\n",
       "      <th>la</th>\n",
       "      <th>nd</th>\n",
       "      <th>ns</th>\n",
       "      <th>ent</th>\n",
       "      <th>nrev</th>\n",
       "      <th>rtime</th>\n",
       "      <th>self</th>\n",
       "      <th>ndev</th>\n",
       "      <th>age</th>\n",
       "      <th>app</th>\n",
       "      <th>rrexp</th>\n",
       "      <th>asawr</th>\n",
       "      <th>rsawr</th>\n",
       "    </tr>\n",
       "    <tr>\n",
       "      <th>commit_id</th>\n",
       "      <th></th>\n",
       "      <th></th>\n",
       "      <th></th>\n",
       "      <th></th>\n",
       "      <th></th>\n",
       "      <th></th>\n",
       "      <th></th>\n",
       "      <th></th>\n",
       "      <th></th>\n",
       "      <th></th>\n",
       "      <th></th>\n",
       "      <th></th>\n",
       "      <th></th>\n",
       "    </tr>\n",
       "  </thead>\n",
       "  <tbody>\n",
       "    <tr>\n",
       "      <th>a9a59ccbacafd6eb94f57861cfc28f5a24f474db</th>\n",
       "      <td>155</td>\n",
       "      <td>3</td>\n",
       "      <td>1</td>\n",
       "      <td>0.736602</td>\n",
       "      <td>12.0</td>\n",
       "      <td>32.516586</td>\n",
       "      <td>0</td>\n",
       "      <td>70.0</td>\n",
       "      <td>0.669703</td>\n",
       "      <td>3.0</td>\n",
       "      <td>2374.0</td>\n",
       "      <td>0.143199</td>\n",
       "      <td>0.390069</td>\n",
       "    </tr>\n",
       "  </tbody>\n",
       "</table>\n",
       "</div>"
      ],
      "text/plain": [
       "                                           la  nd  ns       ent  nrev  \\\n",
       "commit_id                                                               \n",
       "a9a59ccbacafd6eb94f57861cfc28f5a24f474db  155   3   1  0.736602  12.0   \n",
       "\n",
       "                                              rtime  self  ndev       age  \\\n",
       "commit_id                                                                   \n",
       "a9a59ccbacafd6eb94f57861cfc28f5a24f474db  32.516586     0  70.0  0.669703   \n",
       "\n",
       "                                          app   rrexp     asawr     rsawr  \n",
       "commit_id                                                                  \n",
       "a9a59ccbacafd6eb94f57861cfc28f5a24f474db  3.0  2374.0  0.143199  0.390069  "
      ]
     },
     "metadata": {},
     "output_type": "display_data"
    }
   ],
   "source": [
    "print(\"Type of pyExp_rule_obj['X_explain'] - \", type(created_rule_obj['X_explain']), \"\\n\")\n",
    "\n",
    "print('Example')\n",
    "display(created_rule_obj['X_explain'])"
   ]
  },
  {
   "cell_type": "markdown",
   "metadata": {},
   "source": [
    "### y_explain\n",
    "\n",
    "y_explain is a label of X_explain "
   ]
  },
  {
   "cell_type": "code",
   "execution_count": 18,
   "metadata": {},
   "outputs": [
    {
     "name": "stdout",
     "output_type": "stream",
     "text": [
      "Type of pyExp_rule_obj['y_explain'] -  <class 'pandas.core.series.Series'> \n",
      "\n",
      "Example \n",
      "\n",
      " commit_id\n",
      "a9a59ccbacafd6eb94f57861cfc28f5a24f474db    True\n",
      "Name: defect, dtype: bool\n"
     ]
    }
   ],
   "source": [
    "print(\"Type of pyExp_rule_obj['y_explain'] - \", type(created_rule_obj['y_explain']), \"\\n\")\n",
    "print(\"Example\", \"\\n\\n\", created_rule_obj['y_explain'])"
   ]
  },
  {
   "cell_type": "markdown",
   "metadata": {},
   "source": [
    "### indep\n",
    "#### indep is feature names of X_explain"
   ]
  },
  {
   "cell_type": "code",
   "execution_count": 19,
   "metadata": {},
   "outputs": [
    {
     "name": "stdout",
     "output_type": "stream",
     "text": [
      "Type of pyExp_rule_obj['indep'] -  <class 'pandas.core.indexes.base.Index'> \n",
      "\n",
      "Example \n",
      "\n",
      " Index(['la', 'nd', 'ns', 'ent', 'nrev', 'rtime', 'self', 'ndev', 'age', 'app',\n",
      "       'rrexp', 'asawr', 'rsawr'],\n",
      "      dtype='object')\n"
     ]
    }
   ],
   "source": [
    "print(\"Type of pyExp_rule_obj['indep'] - \", type(created_rule_obj['indep']), \"\\n\")\n",
    "print(\"Example\", \"\\n\\n\", created_rule_obj['indep'])"
   ]
  },
  {
   "cell_type": "markdown",
   "metadata": {},
   "source": [
    "### dep\n",
    "#### dep is a label name"
   ]
  },
  {
   "cell_type": "code",
   "execution_count": 20,
   "metadata": {},
   "outputs": [
    {
     "name": "stdout",
     "output_type": "stream",
     "text": [
      "Type of pyExp_rule_obj['dep'] -  <class 'str'> \n",
      "\n",
      "Example \n",
      "\n",
      " defect\n"
     ]
    }
   ],
   "source": [
    "print(\"Type of pyExp_rule_obj['dep'] - \", type(created_rule_obj['dep']), \"\\n\")\n",
    "print(\"Example\", \"\\n\\n\", created_rule_obj['dep'])"
   ]
  },
  {
   "cell_type": "markdown",
   "metadata": {},
   "source": [
    "### top_k_positive_rules\n",
    "\n",
    "top_k_positive_rules is top-k rules that are genereated by PyExplainer to explain why a commit is predicted as defective.\n",
    "\n",
    "Here we show top-3 rules that lead to defective commits="
   ]
  },
  {
   "cell_type": "code",
   "execution_count": 26,
   "metadata": {},
   "outputs": [
    {
     "name": "stdout",
     "output_type": "stream",
     "text": [
      "Type of pyExp_rule_obj['top_k_positive_rules'] -  <class 'pandas.core.frame.DataFrame'> \n",
      "\n",
      "Example\n"
     ]
    },
    {
     "data": {
      "text/html": [
       "<div>\n",
       "<style scoped>\n",
       "    .dataframe tbody tr th:only-of-type {\n",
       "        vertical-align: middle;\n",
       "    }\n",
       "\n",
       "    .dataframe tbody tr th {\n",
       "        vertical-align: top;\n",
       "    }\n",
       "\n",
       "    .dataframe thead th {\n",
       "        text-align: right;\n",
       "    }\n",
       "</style>\n",
       "<table border=\"1\" class=\"dataframe\">\n",
       "  <thead>\n",
       "    <tr style=\"text-align: right;\">\n",
       "      <th></th>\n",
       "      <th>index</th>\n",
       "      <th>rule</th>\n",
       "      <th>type</th>\n",
       "      <th>coef</th>\n",
       "      <th>support</th>\n",
       "      <th>importance</th>\n",
       "      <th>is_satisfy_instance</th>\n",
       "    </tr>\n",
       "  </thead>\n",
       "  <tbody>\n",
       "    <tr>\n",
       "      <th>0</th>\n",
       "      <td>572</td>\n",
       "      <td>la &lt;= 104.84500122070312 &amp; ndev &gt; 71.319999694...</td>\n",
       "      <td>rule</td>\n",
       "      <td>0.220501</td>\n",
       "      <td>0.232376</td>\n",
       "      <td>0.093128</td>\n",
       "      <td>True</td>\n",
       "    </tr>\n",
       "    <tr>\n",
       "      <th>1</th>\n",
       "      <td>359</td>\n",
       "      <td>la &gt; 103.68999862670898 &amp; nrev &gt; 8.11499977111...</td>\n",
       "      <td>rule</td>\n",
       "      <td>0.167275</td>\n",
       "      <td>0.237598</td>\n",
       "      <td>0.071194</td>\n",
       "      <td>True</td>\n",
       "    </tr>\n",
       "    <tr>\n",
       "      <th>2</th>\n",
       "      <td>98</td>\n",
       "      <td>app &lt;= 3.9550000429153442 &amp; ndev &lt;= 103.875 &amp; ...</td>\n",
       "      <td>rule</td>\n",
       "      <td>0.136704</td>\n",
       "      <td>0.631854</td>\n",
       "      <td>0.065933</td>\n",
       "      <td>True</td>\n",
       "    </tr>\n",
       "  </tbody>\n",
       "</table>\n",
       "</div>"
      ],
      "text/plain": [
       "   index                                               rule  type      coef  \\\n",
       "0    572  la <= 104.84500122070312 & ndev > 71.319999694...  rule  0.220501   \n",
       "1    359  la > 103.68999862670898 & nrev > 8.11499977111...  rule  0.167275   \n",
       "2     98  app <= 3.9550000429153442 & ndev <= 103.875 & ...  rule  0.136704   \n",
       "\n",
       "    support  importance is_satisfy_instance  \n",
       "0  0.232376    0.093128                True  \n",
       "1  0.237598    0.071194                True  \n",
       "2  0.631854    0.065933                True  "
      ]
     },
     "metadata": {},
     "output_type": "display_data"
    }
   ],
   "source": [
    "print(\"Type of pyExp_rule_obj['top_k_positive_rules'] - \", type(created_rule_obj['top_k_positive_rules']), \"\\n\")\n",
    "print('Example')\n",
    "display(created_rule_obj['top_k_positive_rules'].head(3))"
   ]
  },
  {
   "cell_type": "markdown",
   "metadata": {},
   "source": [
    "### top_k_negative_rules\n",
    "\n",
    "top_k_negative_rules is top-k negative rules that are genereated by PyExplainer to explain why a commit is predicted as clean.\n",
    "\n",
    "The default number of generated rules is 3.\n"
   ]
  },
  {
   "cell_type": "code",
   "execution_count": 27,
   "metadata": {},
   "outputs": [
    {
     "name": "stdout",
     "output_type": "stream",
     "text": [
      "Type of pyExp_rule_obj['top_k_negative_rules'] -  <class 'pandas.core.frame.DataFrame'> \n",
      "\n",
      "Example\n"
     ]
    },
    {
     "data": {
      "text/html": [
       "<div>\n",
       "<style scoped>\n",
       "    .dataframe tbody tr th:only-of-type {\n",
       "        vertical-align: middle;\n",
       "    }\n",
       "\n",
       "    .dataframe tbody tr th {\n",
       "        vertical-align: top;\n",
       "    }\n",
       "\n",
       "    .dataframe thead th {\n",
       "        text-align: right;\n",
       "    }\n",
       "</style>\n",
       "<table border=\"1\" class=\"dataframe\">\n",
       "  <thead>\n",
       "    <tr style=\"text-align: right;\">\n",
       "      <th></th>\n",
       "      <th>rule</th>\n",
       "      <th>type</th>\n",
       "      <th>coef</th>\n",
       "      <th>support</th>\n",
       "      <th>importance</th>\n",
       "      <th>Class</th>\n",
       "    </tr>\n",
       "  </thead>\n",
       "  <tbody>\n",
       "    <tr>\n",
       "      <th>820</th>\n",
       "      <td>ent &lt;= 0.9350000023841858 &amp; app &gt; 2.9900000095...</td>\n",
       "      <td>rule</td>\n",
       "      <td>-0.216263</td>\n",
       "      <td>0.389034</td>\n",
       "      <td>0.105435</td>\n",
       "      <td>Clean</td>\n",
       "    </tr>\n",
       "    <tr>\n",
       "      <th>1609</th>\n",
       "      <td>app &lt;= 4.009999990463257 &amp; app &gt; 2.99000000953...</td>\n",
       "      <td>rule</td>\n",
       "      <td>-0.206549</td>\n",
       "      <td>0.428198</td>\n",
       "      <td>0.102204</td>\n",
       "      <td>Clean</td>\n",
       "    </tr>\n",
       "    <tr>\n",
       "      <th>323</th>\n",
       "      <td>la &lt;= 104.84500122070312 &amp; ndev &lt;= 71.31999969...</td>\n",
       "      <td>rule</td>\n",
       "      <td>-0.173105</td>\n",
       "      <td>0.391645</td>\n",
       "      <td>0.084496</td>\n",
       "      <td>Clean</td>\n",
       "    </tr>\n",
       "  </tbody>\n",
       "</table>\n",
       "</div>"
      ],
      "text/plain": [
       "                                                   rule  type      coef  \\\n",
       "820   ent <= 0.9350000023841858 & app > 2.9900000095...  rule -0.216263   \n",
       "1609  app <= 4.009999990463257 & app > 2.99000000953...  rule -0.206549   \n",
       "323   la <= 104.84500122070312 & ndev <= 71.31999969...  rule -0.173105   \n",
       "\n",
       "       support  importance  Class  \n",
       "820   0.389034    0.105435  Clean  \n",
       "1609  0.428198    0.102204  Clean  \n",
       "323   0.391645    0.084496  Clean  "
      ]
     },
     "metadata": {},
     "output_type": "display_data"
    }
   ],
   "source": [
    "print(\"Type of pyExp_rule_obj['top_k_negative_rules'] - \", type(created_rule_obj['top_k_negative_rules']), \"\\n\")\n",
    "print('Example')\n",
    "display(created_rule_obj['top_k_negative_rules'])"
   ]
  },
  {
   "cell_type": "markdown",
   "metadata": {},
   "source": [
    "# Bug Report Channel\n",
    "#### Please report <a href=\"https://github.com/awsm-research/pyExplainer/issues\">here</a>\n",
    "#### 📧 or email your report to michaelfu1998@gmail.com"
   ]
  },
  {
   "cell_type": "code",
   "execution_count": null,
   "metadata": {},
   "outputs": [],
   "source": []
  }
 ],
 "metadata": {
  "kernelspec": {
   "display_name": "my_pyexp",
   "language": "python",
   "name": "my_pyexp"
  },
  "language_info": {
   "codemirror_mode": {
    "name": "ipython",
    "version": 3
   },
   "file_extension": ".py",
   "mimetype": "text/x-python",
   "name": "python",
   "nbconvert_exporter": "python",
   "pygments_lexer": "ipython3",
   "version": "3.8.10"
  },
  "varInspector": {
   "cols": {
    "lenName": 16,
    "lenType": 16,
    "lenVar": 40
   },
   "kernels_config": {
    "python": {
     "delete_cmd_postfix": "",
     "delete_cmd_prefix": "del ",
     "library": "var_list.py",
     "varRefreshCmd": "print(var_dic_list())"
    },
    "r": {
     "delete_cmd_postfix": ") ",
     "delete_cmd_prefix": "rm(",
     "library": "var_list.r",
     "varRefreshCmd": "cat(var_dic_list()) "
    }
   },
   "types_to_exclude": [
    "module",
    "function",
    "builtin_function_or_method",
    "instance",
    "_Feature"
   ],
   "window_display": false
  }
 },
 "nbformat": 4,
 "nbformat_minor": 5
}
