{
 "cells": [
  {
   "cell_type": "markdown",
   "id": "animal-spencer",
   "metadata": {
    "execution": {
     "iopub.execute_input": "2021-03-25T06:28:01.095660Z",
     "iopub.status.busy": "2021-03-25T06:28:01.094646Z",
     "iopub.status.idle": "2021-03-25T06:28:01.098635Z",
     "shell.execute_reply": "2021-03-25T06:28:01.098635Z"
    }
   },
   "source": [
    "## Data / Model Preparation"
   ]
  },
  {
   "cell_type": "code",
   "execution_count": 16,
   "id": "exposed-provincial",
   "metadata": {},
   "outputs": [],
   "source": [
    "from sklearn.ensemble import RandomForestClassifier\n",
    "import pandas as pd\n",
    "from pyexplainer.pyexplainer_pyexplainer import PyExplainer\n",
    "import pickle\n",
    "import os\n",
    "\n",
    "\n",
    "cwd = os.getcwd()\n",
    "parent_dir = os.path.dirname(cwd)\n",
    "path_train = parent_dir + \"/tests/pyexplainer_test_data/activemq-5.0.0.zip\"\n",
    "data = pd.read_csv(path_train, index_col = 'File')\n",
    "\n",
    "dep = data.columns[-4]\n",
    "indep = data.columns[0:(len(data.columns) - 4)]\n",
    "\n",
    "X_train = data.loc[:, indep]\n",
    "y_train = data.loc[:, dep]\n",
    "\n",
    "blackbox_model = RandomForestClassifier(max_depth=3, random_state=0)\n",
    "blackbox_model.fit(X_train, y_train)\n",
    "\n",
    "class_label = ['Clean', 'Defect']\n",
    "\n",
    "path_test = parent_dir + \"/tests/pyexplainer_test_data/activemq-5.1.0.zip\"\n",
    "sample_test_data = pd.read_csv(path_test, index_col = 'File')\n",
    "X_test = sample_test_data.loc[:, indep]\n",
    "y_test = sample_test_data.loc[:, dep]"
   ]
  },
  {
   "cell_type": "markdown",
   "id": "invisible-storage",
   "metadata": {},
   "source": [
    "## python unittest"
   ]
  },
  {
   "cell_type": "code",
   "execution_count": null,
   "id": "dressed-increase",
   "metadata": {},
   "outputs": [],
   "source": [
    "from sklearn.ensemble import RandomForestClassifier\n",
    "import pandas as pd\n",
    "from pyexplainer.pyexplainer_pyexplainer import PyExplainer\n",
    "import pickle\n",
    "import os\n",
    "import unittest\n",
    "\n",
    "\n",
    "class TestVisualisation(unittest.TestCase):\n",
    "    \"\"\"unittest the visualisation stuff in pyexplainer\"\"\"\n",
    "    \n",
    "    def test_visualise_pyobject(self):\n",
    "        def load_object(filename):\n",
    "            with open(filename, 'rb') as file:\n",
    "                object_o = pickle.load(file)\n",
    "            return (object_o)\n",
    "        # load rule obj\n",
    "        if os.path.isfile('../tests/rule_objects/pyExplainer_obj.pyobject'):\n",
    "            loaded_rule_obj = load_object('../tests/rule_objects/pyExplainer_obj.pyobject')\n",
    "        py_explainer = PyExplainer(X_train,\n",
    "                                    y_train,\n",
    "                                    indep,\n",
    "                                    dep,\n",
    "                                    blackbox_model,\n",
    "                                    class_label=class_label)\n",
    "        py_explainer.visualise(loaded_rule_obj)\n",
    "    \n",
    "    def test_visualise_manually_created(self):\n",
    "        for explain_index in range(14, 15):\n",
    "            X_explain = X_test.iloc[[explain_index]]\n",
    "            y_explain = y_test.iloc[[explain_index]]\n",
    "            py_explainer = PyExplainer(X_train,\n",
    "                                        y_train,\n",
    "                                        indep,\n",
    "                                        dep,\n",
    "                                        blackbox_model,\n",
    "                                        class_label=class_label)\n",
    "            rule_object = py_explainer.explain(X_explain, y_explain)\n",
    "            py_explainer.visualise(rule_object)\n",
    "\n",
    "\n",
    "if __name__ == '__main__':\n",
    "    unittest.main(argv=['first-arg-is-ignored'], exit=False)"
   ]
  }
 ],
 "metadata": {
  "kernelspec": {
   "display_name": "Python 3",
   "language": "python",
   "name": "python3"
  },
  "language_info": {
   "codemirror_mode": {
    "name": "ipython",
    "version": 3
   },
   "file_extension": ".py",
   "mimetype": "text/x-python",
   "name": "python",
   "nbconvert_exporter": "python",
   "pygments_lexer": "ipython3",
   "version": "3.8.8"
  }
 },
 "nbformat": 4,
 "nbformat_minor": 5
}
