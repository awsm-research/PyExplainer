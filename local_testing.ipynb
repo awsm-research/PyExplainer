{
 "cells": [
  {
   "cell_type": "code",
   "execution_count": 1,
   "metadata": {},
   "outputs": [],
   "source": [
    "from pyexplainer.pyexplainer_pyexplainer import PyExplainer\n",
    "import pickle\n",
    "\n",
    "with open('fixing_model.pkl', 'rb') as file:\n",
    "    model = pickle.load(file)\n",
    "\n",
    "with open('fixing_data', 'rb') as file:\n",
    "    data = pickle.load(file)\n",
    "\n",
    "full_ft_names = ['Number Of Lines Added', 'Number Of Modified Directories', 'Number Of Modified Subsystems', 'Entropy', 'Number Of Review Revisions', 'Review Timespan', 'Number of Self Approvals', 'Number of Past Developers', 'Time Since Last Modification', 'Number of Reviewrs', 'Relative Reviewer Experience', 'Author Awareness', 'Reviewer Awareness']    \n",
    "\n",
    "explainer = PyExplainer(X_train=data['x_train'],\n",
    "                       y_train=data['y_train'],\n",
    "                       dep=data['dep'],\n",
    "                       indep=data['indep'],\n",
    "                       blackbox_model=model,\n",
    "                       full_ft_names=full_ft_names)"
   ]
  },
  {
   "cell_type": "code",
   "execution_count": 2,
   "metadata": {},
   "outputs": [
    {
     "name": "stdout",
     "output_type": "stream",
     "text": [
      "Choose one row from index 0 to index 197 to be explained\n",
      "specify your choice into index variable\n",
      "a9a59ccbacafd6eb94f57861cfc28f5a24f474db\n"
     ]
    }
   ],
   "source": [
    "import pandas as pd\n",
    "\n",
    "\n",
    "commit_id = pd.read_csv('fixing_csv.csv')\n",
    "commit_ids = commit_id['commit_id'].to_list()\n",
    "print('Choose one row from index 0 to index', len(commit_id)-1, 'to be explained')\n",
    "print('specify your choice into index variable')\n",
    "\n",
    "# risky index - 20 34 154 19 7 21 30 34 36 60 61 62 63 67 70 93 117\n",
    "############################\n",
    "####### specify here #######\n",
    "############################\n",
    "index = 154\n",
    "\n",
    "print(commit_ids[index])"
   ]
  },
  {
   "cell_type": "code",
   "execution_count": 3,
   "metadata": {},
   "outputs": [
    {
     "data": {
      "application/vnd.jupyter.widget-view+json": {
       "model_id": "879fa3e1bc77407dadca4b77a59c556e",
       "version_major": 2,
       "version_minor": 0
      },
      "text/plain": [
       "HBox(children=(Label(value='Risk Score: '), FloatProgress(value=0.0, bar_style='info', layout=Layout(width='40…"
      ]
     },
     "metadata": {},
     "output_type": "display_data"
    },
    {
     "data": {
      "application/vnd.jupyter.widget-view+json": {
       "model_id": "74687c249a934a95b4cf8ab69cf8ff37",
       "version_major": 2,
       "version_minor": 0
      },
      "text/plain": [
       "Output(layout=Layout(border='3px solid black'))"
      ]
     },
     "metadata": {},
     "output_type": "display_data"
    },
    {
     "data": {
      "application/vnd.jupyter.widget-view+json": {
       "model_id": "8ba0317a18ed4355bfa296014c642b34",
       "version_major": 2,
       "version_minor": 0
      },
      "text/plain": [
       "FloatSlider(value=3.0, continuous_update=False, description='#1 The value of Number of Reviewrs is less than 3…"
      ]
     },
     "metadata": {},
     "output_type": "display_data"
    },
    {
     "data": {
      "application/vnd.jupyter.widget-view+json": {
       "model_id": "3c9d2471cbea4bd4b4552fd1f3edfd91",
       "version_major": 2,
       "version_minor": 0
      },
      "text/plain": [
       "FloatSlider(value=3.0, continuous_update=False, description='#2 The value of Number Of Modified Directories is…"
      ]
     },
     "metadata": {},
     "output_type": "display_data"
    },
    {
     "data": {
      "application/vnd.jupyter.widget-view+json": {
       "model_id": "5e6bf464899b4c13b22d77335a04b7dc",
       "version_major": 2,
       "version_minor": 0
      },
      "text/plain": [
       "FloatSlider(value=70.0, continuous_update=False, description='#3 The value of Number of Past Developers is mor…"
      ]
     },
     "metadata": {},
     "output_type": "display_data"
    }
   ],
   "source": [
    "d = pd.read_csv('fixing_csv.csv', index_col='commit_id')\n",
    "\n",
    "X_explain = d.loc[[commit_ids[index]]]\n",
    "\n",
    "y_test = d.loc[:, data['dep']]\n",
    "y_explain = y_test.loc[[commit_ids[index]]]\n",
    "\n",
    "for col in X_explain.columns:\n",
    "    if col not in data['indep']:\n",
    "        X_explain = X_explain.drop([col], axis=1)\n",
    "        \n",
    "rules = explainer.explain(X_explain=X_explain, y_explain=y_explain)\n",
    "explainer.visualise(rules)"
   ]
  },
  {
   "cell_type": "code",
   "execution_count": 4,
   "metadata": {},
   "outputs": [
    {
     "name": "stdout",
     "output_type": "stream",
     "text": [
      "659            la > 8.425000190734863 & la > 22.280000686645508 & app <= 3.0649999380111694\n",
      "336     rsawr <= 0.38499999046325684 & la > 124.53499984741211 & rrexp <= 1849.135009765625\n",
      "1762                                    app <= 3.9250000715255737 & la <= 62.14999961853027\n",
      "Name: rule, dtype: object\n"
     ]
    }
   ],
   "source": [
    "pd.set_option('display.max_colwidth', None)\n",
    "print(rules['top_k_negative_rules']['rule'])"
   ]
  },
  {
   "cell_type": "code",
   "execution_count": 4,
   "metadata": {},
   "outputs": [
    {
     "data": {
      "text/plain": [
       "[{'title': '#1 The value of Number Of Modified Directories is less than 3',\n",
       "  'subtitle': 'Actual = 3',\n",
       "  'ticks': [0.0, 4.5],\n",
       "  'step': [0.1],\n",
       "  'startPoints': [0, 150.0],\n",
       "  'widths': [150.0, 300.0],\n",
       "  'colors': ['#d7191c', '#a6d96a'],\n",
       "  'markers': [3],\n",
       "  'varRef': 'nd'},\n",
       " {'title': '#2 The value of Number Of Review Revisions is less than 12.0',\n",
       "  'subtitle': 'Actual = 12.0',\n",
       "  'ticks': [1.8000000000000007, 17.1],\n",
       "  'step': [1],\n",
       "  'startPoints': [0, 150.0],\n",
       "  'widths': [150.0, 300.0],\n",
       "  'colors': ['#d7191c', '#a6d96a'],\n",
       "  'markers': [12.0],\n",
       "  'varRef': 'nrev'},\n",
       " {'title': '#3 The value of Time Since Last Modification is less than 0.67',\n",
       "  'subtitle': 'Actual = 0.67',\n",
       "  'ticks': [0.67, 0.67],\n",
       "  'step': [0.1],\n",
       "  'startPoints': [0, 0],\n",
       "  'widths': [0, 0],\n",
       "  'colors': ['#d7191c', '#a6d96a'],\n",
       "  'markers': [0.67],\n",
       "  'varRef': 'age'}]"
      ]
     },
     "execution_count": 4,
     "metadata": {},
     "output_type": "execute_result"
    }
   ],
   "source": [
    "explainer.bullet_data"
   ]
  },
  {
   "cell_type": "code",
   "execution_count": 4,
   "metadata": {},
   "outputs": [],
   "source": [
    "from pyexplainer.pyexplainer_pyexplainer import PyExplainer\n",
    "import pickle\n",
    "from pyexplainer import pyexplainer_pyexplainer\n",
    "\n",
    "\n",
    "with open('fixing_model.pkl', 'rb') as file:\n",
    "    model = pickle.load(file)\n",
    "\n",
    "with open('fixing_data', 'rb') as file:\n",
    "    data = pickle.load(file)\n",
    "\n",
    "full_ft_names = ['Number Of Lines Added', 'Number Of Modified Directories', 'Number Of Modified Subsystems', 'Entropy', 'Number Of Review Revisions', 'Review Timespan', 'Number of Self Approvals', 'Number of Past Developers', 'Time Since Last Modification', 'Number of Reviewrs', 'Relative Reviewer Experience', 'Author Awareness', 'Reviewer Awareness']    \n",
    "\n",
    "explainer = PyExplainer(X_train=data['x_train'],\n",
    "                       y_train=data['y_train'],\n",
    "                       dep=data['dep'],\n",
    "                       indep=data['indep'],\n",
    "                       blackbox_model=model,\n",
    "                       full_ft_names=full_ft_names)\n",
    "exp_rule = explainer.explain(X_explain=X_explain, y_explain=y_explain)\n",
    "#with open(\"rules.pkl\", 'wb+') as file:\n",
    "#    pickle.dump(obj=rules, file=file)\n",
    "#with open(\"fixing_rules.pkl\", 'rb') as file:\n",
    "#    rules = pickle.load(file)\n",
    "    \n",
    "exp_rule2 = explainer.explain(X_explain=X_explain, y_explain=y_explain)"
   ]
  },
  {
   "cell_type": "code",
   "execution_count": null,
   "metadata": {},
   "outputs": [],
   "source": [
    "rules.keys()"
   ]
  },
  {
   "cell_type": "code",
   "execution_count": 12,
   "metadata": {},
   "outputs": [
    {
     "data": {
      "text/html": [
       "<div>\n",
       "<style scoped>\n",
       "    .dataframe tbody tr th:only-of-type {\n",
       "        vertical-align: middle;\n",
       "    }\n",
       "\n",
       "    .dataframe tbody tr th {\n",
       "        vertical-align: top;\n",
       "    }\n",
       "\n",
       "    .dataframe thead th {\n",
       "        text-align: right;\n",
       "    }\n",
       "</style>\n",
       "<table border=\"1\" class=\"dataframe\">\n",
       "  <thead>\n",
       "    <tr style=\"text-align: right;\">\n",
       "      <th></th>\n",
       "      <th>index</th>\n",
       "      <th>rule</th>\n",
       "      <th>type</th>\n",
       "      <th>coef</th>\n",
       "      <th>support</th>\n",
       "      <th>importance</th>\n",
       "      <th>is_satisfy_instance</th>\n",
       "    </tr>\n",
       "  </thead>\n",
       "  <tbody>\n",
       "    <tr>\n",
       "      <th>0</th>\n",
       "      <td>573</td>\n",
       "      <td>ent &gt; 0.009999999776482582 &amp; rsawr &lt;= 0.5450000166893005 &amp; asawr &gt; 0.014999999664723873</td>\n",
       "      <td>rule</td>\n",
       "      <td>0.243041</td>\n",
       "      <td>0.451697</td>\n",
       "      <td>0.120952</td>\n",
       "      <td>True</td>\n",
       "    </tr>\n",
       "    <tr>\n",
       "      <th>1</th>\n",
       "      <td>53</td>\n",
       "      <td>app &gt; 3.009999990463257 &amp; ent &lt;= 1.024999976158142 &amp; la &gt; 16.78499984741211</td>\n",
       "      <td>rule</td>\n",
       "      <td>0.169330</td>\n",
       "      <td>0.313316</td>\n",
       "      <td>0.078542</td>\n",
       "      <td>True</td>\n",
       "    </tr>\n",
       "    <tr>\n",
       "      <th>2</th>\n",
       "      <td>681</td>\n",
       "      <td>la &gt; 33.63999938964844 &amp; asawr &gt; 0.03499999921768904</td>\n",
       "      <td>rule</td>\n",
       "      <td>0.156090</td>\n",
       "      <td>0.315927</td>\n",
       "      <td>0.072564</td>\n",
       "      <td>True</td>\n",
       "    </tr>\n",
       "    <tr>\n",
       "      <th>3</th>\n",
       "      <td>707</td>\n",
       "      <td>nrev &gt; 0.9399999976158142 &amp; nrev &lt;= 4.640000104904175 &amp; rsawr &lt;= 0.574999988079071</td>\n",
       "      <td>rule</td>\n",
       "      <td>0.256845</td>\n",
       "      <td>0.083551</td>\n",
       "      <td>0.071072</td>\n",
       "      <td>True</td>\n",
       "    </tr>\n",
       "    <tr>\n",
       "      <th>4</th>\n",
       "      <td>493</td>\n",
       "      <td>rrexp &lt;= 2637.8450927734375 &amp; age &gt; 0.4099999964237213 &amp; la &gt; 3.435000002384186</td>\n",
       "      <td>rule</td>\n",
       "      <td>0.143778</td>\n",
       "      <td>0.668407</td>\n",
       "      <td>0.067689</td>\n",
       "      <td>True</td>\n",
       "    </tr>\n",
       "    <tr>\n",
       "      <th>...</th>\n",
       "      <td>...</td>\n",
       "      <td>...</td>\n",
       "      <td>...</td>\n",
       "      <td>...</td>\n",
       "      <td>...</td>\n",
       "      <td>...</td>\n",
       "      <td>...</td>\n",
       "    </tr>\n",
       "    <tr>\n",
       "      <th>95</th>\n",
       "      <td>231</td>\n",
       "      <td>app &gt; 2.0049999952316284 &amp; app &lt;= 2.975000023841858 &amp; app &lt;= 3.915000081062317</td>\n",
       "      <td>rule</td>\n",
       "      <td>0.017349</td>\n",
       "      <td>0.248042</td>\n",
       "      <td>0.007493</td>\n",
       "      <td>True</td>\n",
       "    </tr>\n",
       "    <tr>\n",
       "      <th>96</th>\n",
       "      <td>646</td>\n",
       "      <td>app &gt; 1.8149999976158142 &amp; app &lt;= 3.9850000143051147 &amp; app &gt; 1.2099999785423279</td>\n",
       "      <td>rule</td>\n",
       "      <td>0.016414</td>\n",
       "      <td>0.704961</td>\n",
       "      <td>0.007486</td>\n",
       "      <td>True</td>\n",
       "    </tr>\n",
       "    <tr>\n",
       "      <th>97</th>\n",
       "      <td>247</td>\n",
       "      <td>la &lt;= 18.179999351501465</td>\n",
       "      <td>rule</td>\n",
       "      <td>0.020478</td>\n",
       "      <td>0.156658</td>\n",
       "      <td>0.007443</td>\n",
       "      <td>True</td>\n",
       "    </tr>\n",
       "    <tr>\n",
       "      <th>98</th>\n",
       "      <td>569</td>\n",
       "      <td>app &lt;= 2.9850000143051147 &amp; app &lt;= 2.0549999475479126</td>\n",
       "      <td>rule</td>\n",
       "      <td>0.016550</td>\n",
       "      <td>0.214099</td>\n",
       "      <td>0.006789</td>\n",
       "      <td>True</td>\n",
       "    </tr>\n",
       "    <tr>\n",
       "      <th>99</th>\n",
       "      <td>736</td>\n",
       "      <td>app &lt;= 2.0449999570846558</td>\n",
       "      <td>rule</td>\n",
       "      <td>0.016070</td>\n",
       "      <td>0.229765</td>\n",
       "      <td>0.006760</td>\n",
       "      <td>True</td>\n",
       "    </tr>\n",
       "  </tbody>\n",
       "</table>\n",
       "<p>100 rows × 7 columns</p>\n",
       "</div>"
      ],
      "text/plain": [
       "    index  \\\n",
       "0     573   \n",
       "1      53   \n",
       "2     681   \n",
       "3     707   \n",
       "4     493   \n",
       "..    ...   \n",
       "95    231   \n",
       "96    646   \n",
       "97    247   \n",
       "98    569   \n",
       "99    736   \n",
       "\n",
       "                                                                                       rule  \\\n",
       "0   ent > 0.009999999776482582 & rsawr <= 0.5450000166893005 & asawr > 0.014999999664723873   \n",
       "1               app > 3.009999990463257 & ent <= 1.024999976158142 & la > 16.78499984741211   \n",
       "2                                      la > 33.63999938964844 & asawr > 0.03499999921768904   \n",
       "3        nrev > 0.9399999976158142 & nrev <= 4.640000104904175 & rsawr <= 0.574999988079071   \n",
       "4           rrexp <= 2637.8450927734375 & age > 0.4099999964237213 & la > 3.435000002384186   \n",
       "..                                                                                      ...   \n",
       "95           app > 2.0049999952316284 & app <= 2.975000023841858 & app <= 3.915000081062317   \n",
       "96          app > 1.8149999976158142 & app <= 3.9850000143051147 & app > 1.2099999785423279   \n",
       "97                                                                 la <= 18.179999351501465   \n",
       "98                                    app <= 2.9850000143051147 & app <= 2.0549999475479126   \n",
       "99                                                                app <= 2.0449999570846558   \n",
       "\n",
       "    type      coef   support  importance is_satisfy_instance  \n",
       "0   rule  0.243041  0.451697    0.120952                True  \n",
       "1   rule  0.169330  0.313316    0.078542                True  \n",
       "2   rule  0.156090  0.315927    0.072564                True  \n",
       "3   rule  0.256845  0.083551    0.071072                True  \n",
       "4   rule  0.143778  0.668407    0.067689                True  \n",
       "..   ...       ...       ...         ...                 ...  \n",
       "95  rule  0.017349  0.248042    0.007493                True  \n",
       "96  rule  0.016414  0.704961    0.007486                True  \n",
       "97  rule  0.020478  0.156658    0.007443                True  \n",
       "98  rule  0.016550  0.214099    0.006789                True  \n",
       "99  rule  0.016070  0.229765    0.006760                True  \n",
       "\n",
       "[100 rows x 7 columns]"
      ]
     },
     "execution_count": 12,
     "metadata": {},
     "output_type": "execute_result"
    }
   ],
   "source": [
    "pd.set_option('display.max_colwidth', None)\n",
    "rules['top_k_positive_rules'].head(100)"
   ]
  },
  {
   "cell_type": "code",
   "execution_count": 8,
   "metadata": {},
   "outputs": [
    {
     "data": {
      "text/html": [
       "<div>\n",
       "<style scoped>\n",
       "    .dataframe tbody tr th:only-of-type {\n",
       "        vertical-align: middle;\n",
       "    }\n",
       "\n",
       "    .dataframe tbody tr th {\n",
       "        vertical-align: top;\n",
       "    }\n",
       "\n",
       "    .dataframe thead th {\n",
       "        text-align: right;\n",
       "    }\n",
       "</style>\n",
       "<table border=\"1\" class=\"dataframe\">\n",
       "  <thead>\n",
       "    <tr style=\"text-align: right;\">\n",
       "      <th></th>\n",
       "      <th>rule</th>\n",
       "      <th>type</th>\n",
       "      <th>coef</th>\n",
       "      <th>support</th>\n",
       "      <th>importance</th>\n",
       "      <th>Class</th>\n",
       "    </tr>\n",
       "  </thead>\n",
       "  <tbody>\n",
       "    <tr>\n",
       "      <th>1447</th>\n",
       "      <td>la &lt;= 102.36999893188477 &amp; nrev &gt; 4.0550000667...</td>\n",
       "      <td>rule</td>\n",
       "      <td>-0.216527</td>\n",
       "      <td>0.569191</td>\n",
       "      <td>0.107222</td>\n",
       "      <td>Clean</td>\n",
       "    </tr>\n",
       "    <tr>\n",
       "      <th>916</th>\n",
       "      <td>app &lt;= 4.009999990463257 &amp; age &gt; 0.09500000253...</td>\n",
       "      <td>rule</td>\n",
       "      <td>-0.239525</td>\n",
       "      <td>0.736292</td>\n",
       "      <td>0.105545</td>\n",
       "      <td>Clean</td>\n",
       "    </tr>\n",
       "    <tr>\n",
       "      <th>255</th>\n",
       "      <td>app &lt;= 4.045000076293945 &amp; app &gt; 3.98000001907...</td>\n",
       "      <td>rule</td>\n",
       "      <td>-0.312617</td>\n",
       "      <td>0.109661</td>\n",
       "      <td>0.097682</td>\n",
       "      <td>Clean</td>\n",
       "    </tr>\n",
       "  </tbody>\n",
       "</table>\n",
       "</div>"
      ],
      "text/plain": [
       "                                                   rule  type      coef  \\\n",
       "1447  la <= 102.36999893188477 & nrev > 4.0550000667...  rule -0.216527   \n",
       "916   app <= 4.009999990463257 & age > 0.09500000253...  rule -0.239525   \n",
       "255   app <= 4.045000076293945 & app > 3.98000001907...  rule -0.312617   \n",
       "\n",
       "       support  importance  Class  \n",
       "1447  0.569191    0.107222  Clean  \n",
       "916   0.736292    0.105545  Clean  \n",
       "255   0.109661    0.097682  Clean  "
      ]
     },
     "execution_count": 8,
     "metadata": {},
     "output_type": "execute_result"
    }
   ],
   "source": [
    "rules['top_k_negative_rules'].head(10)"
   ]
  },
  {
   "cell_type": "code",
   "execution_count": 15,
   "metadata": {},
   "outputs": [
    {
     "data": {
      "text/html": [
       "<div>\n",
       "<style scoped>\n",
       "    .dataframe tbody tr th:only-of-type {\n",
       "        vertical-align: middle;\n",
       "    }\n",
       "\n",
       "    .dataframe tbody tr th {\n",
       "        vertical-align: top;\n",
       "    }\n",
       "\n",
       "    .dataframe thead th {\n",
       "        text-align: right;\n",
       "    }\n",
       "</style>\n",
       "<table border=\"1\" class=\"dataframe\">\n",
       "  <thead>\n",
       "    <tr style=\"text-align: right;\">\n",
       "      <th></th>\n",
       "      <th>la</th>\n",
       "      <th>nd</th>\n",
       "      <th>ns</th>\n",
       "      <th>ent</th>\n",
       "      <th>nrev</th>\n",
       "      <th>rtime</th>\n",
       "      <th>self</th>\n",
       "      <th>ndev</th>\n",
       "      <th>age</th>\n",
       "      <th>app</th>\n",
       "      <th>rrexp</th>\n",
       "      <th>asawr</th>\n",
       "      <th>rsawr</th>\n",
       "    </tr>\n",
       "    <tr>\n",
       "      <th>commit_id</th>\n",
       "      <th></th>\n",
       "      <th></th>\n",
       "      <th></th>\n",
       "      <th></th>\n",
       "      <th></th>\n",
       "      <th></th>\n",
       "      <th></th>\n",
       "      <th></th>\n",
       "      <th></th>\n",
       "      <th></th>\n",
       "      <th></th>\n",
       "      <th></th>\n",
       "      <th></th>\n",
       "    </tr>\n",
       "  </thead>\n",
       "  <tbody>\n",
       "    <tr>\n",
       "      <th>a9a59ccbacafd6eb94f57861cfc28f5a24f474db</th>\n",
       "      <td>155</td>\n",
       "      <td>3</td>\n",
       "      <td>1</td>\n",
       "      <td>0.736602</td>\n",
       "      <td>12.0</td>\n",
       "      <td>32.516586</td>\n",
       "      <td>0</td>\n",
       "      <td>70.0</td>\n",
       "      <td>0.669703</td>\n",
       "      <td>3.0</td>\n",
       "      <td>2374.0</td>\n",
       "      <td>0.143199</td>\n",
       "      <td>0.390069</td>\n",
       "    </tr>\n",
       "  </tbody>\n",
       "</table>\n",
       "</div>"
      ],
      "text/plain": [
       "                                           la  nd  ns       ent  nrev  \\\n",
       "commit_id                                                               \n",
       "a9a59ccbacafd6eb94f57861cfc28f5a24f474db  155   3   1  0.736602  12.0   \n",
       "\n",
       "                                              rtime  self  ndev       age  \\\n",
       "commit_id                                                                   \n",
       "a9a59ccbacafd6eb94f57861cfc28f5a24f474db  32.516586     0  70.0  0.669703   \n",
       "\n",
       "                                          app   rrexp     asawr     rsawr  \n",
       "commit_id                                                                  \n",
       "a9a59ccbacafd6eb94f57861cfc28f5a24f474db  3.0  2374.0  0.143199  0.390069  "
      ]
     },
     "execution_count": 15,
     "metadata": {},
     "output_type": "execute_result"
    }
   ],
   "source": [
    "X_explain.head(1)"
   ]
  },
  {
   "cell_type": "code",
   "execution_count": 16,
   "metadata": {},
   "outputs": [
    {
     "data": {
      "text/html": [
       "<div>\n",
       "<style scoped>\n",
       "    .dataframe tbody tr th:only-of-type {\n",
       "        vertical-align: middle;\n",
       "    }\n",
       "\n",
       "    .dataframe tbody tr th {\n",
       "        vertical-align: top;\n",
       "    }\n",
       "\n",
       "    .dataframe thead th {\n",
       "        text-align: right;\n",
       "    }\n",
       "</style>\n",
       "<table border=\"1\" class=\"dataframe\">\n",
       "  <thead>\n",
       "    <tr style=\"text-align: right;\">\n",
       "      <th></th>\n",
       "      <th>index</th>\n",
       "      <th>rule</th>\n",
       "      <th>type</th>\n",
       "      <th>coef</th>\n",
       "      <th>support</th>\n",
       "      <th>importance</th>\n",
       "      <th>is_satisfy_instance</th>\n",
       "    </tr>\n",
       "  </thead>\n",
       "  <tbody>\n",
       "    <tr>\n",
       "      <th>0</th>\n",
       "      <td>749</td>\n",
       "      <td>rsawr &lt;= 0.5450000166893005 &amp; rtime &gt; -10.554999828338623 &amp; app &lt;= 4.9649999141693115</td>\n",
       "      <td>rule</td>\n",
       "      <td>0.181072</td>\n",
       "      <td>0.783290</td>\n",
       "      <td>0.074602</td>\n",
       "      <td>True</td>\n",
       "    </tr>\n",
       "    <tr>\n",
       "      <th>1</th>\n",
       "      <td>220</td>\n",
       "      <td>app &lt;= 3.990000009536743 &amp; app &gt; 3.115000009536743 &amp; la &gt; 63.56999969482422</td>\n",
       "      <td>rule</td>\n",
       "      <td>0.222603</td>\n",
       "      <td>0.125326</td>\n",
       "      <td>0.073701</td>\n",
       "      <td>True</td>\n",
       "    </tr>\n",
       "    <tr>\n",
       "      <th>2</th>\n",
       "      <td>147</td>\n",
       "      <td>nd &gt; 1.6350000500679016 &amp; app &lt;= 2.9200000762939453</td>\n",
       "      <td>rule</td>\n",
       "      <td>0.145486</td>\n",
       "      <td>0.409922</td>\n",
       "      <td>0.071553</td>\n",
       "      <td>True</td>\n",
       "    </tr>\n",
       "    <tr>\n",
       "      <th>3</th>\n",
       "      <td>318</td>\n",
       "      <td>ent &gt; 0.07999999821186066 &amp; nd &lt;= 1.3849999904632568 &amp; ent &lt;= 0.9650000035762787</td>\n",
       "      <td>rule</td>\n",
       "      <td>0.209754</td>\n",
       "      <td>0.070496</td>\n",
       "      <td>0.053693</td>\n",
       "      <td>True</td>\n",
       "    </tr>\n",
       "    <tr>\n",
       "      <th>4</th>\n",
       "      <td>622</td>\n",
       "      <td>la &gt; 20.244999885559082 &amp; age &gt; 0.08500000089406967</td>\n",
       "      <td>rule</td>\n",
       "      <td>0.113795</td>\n",
       "      <td>0.712794</td>\n",
       "      <td>0.051488</td>\n",
       "      <td>True</td>\n",
       "    </tr>\n",
       "    <tr>\n",
       "      <th>5</th>\n",
       "      <td>110</td>\n",
       "      <td>la &gt; 11.485000133514404 &amp; la &gt; 106.56499862670898 &amp; rtime &gt; 12.394999980926514</td>\n",
       "      <td>rule</td>\n",
       "      <td>0.110490</td>\n",
       "      <td>0.237598</td>\n",
       "      <td>0.047026</td>\n",
       "      <td>True</td>\n",
       "    </tr>\n",
       "    <tr>\n",
       "      <th>6</th>\n",
       "      <td>142</td>\n",
       "      <td>app &gt; 1.4150000214576721 &amp; nd &lt;= 1.6649999618530273 &amp; ent &lt;= 0.9449999928474426</td>\n",
       "      <td>rule</td>\n",
       "      <td>0.152068</td>\n",
       "      <td>0.093995</td>\n",
       "      <td>0.044377</td>\n",
       "      <td>True</td>\n",
       "    </tr>\n",
       "    <tr>\n",
       "      <th>7</th>\n",
       "      <td>356</td>\n",
       "      <td>age &gt; 0.13499999791383743 &amp; app &gt; 1.1500000357627869 &amp; nrev &gt; 1.199999988079071</td>\n",
       "      <td>rule</td>\n",
       "      <td>0.098119</td>\n",
       "      <td>0.738903</td>\n",
       "      <td>0.043097</td>\n",
       "      <td>True</td>\n",
       "    </tr>\n",
       "    <tr>\n",
       "      <th>8</th>\n",
       "      <td>281</td>\n",
       "      <td>nrev &gt; 1.0250000357627869 &amp; asawr &lt;= 0.024999999441206455 &amp; age &lt;= 14.384999752044678</td>\n",
       "      <td>rule</td>\n",
       "      <td>0.085863</td>\n",
       "      <td>0.467363</td>\n",
       "      <td>0.042840</td>\n",
       "      <td>True</td>\n",
       "    </tr>\n",
       "    <tr>\n",
       "      <th>9</th>\n",
       "      <td>35</td>\n",
       "      <td>nrev &gt; 1.4050000309944153 &amp; la &gt; 47.685001373291016 &amp; ent &lt;= 0.9449999928474426</td>\n",
       "      <td>rule</td>\n",
       "      <td>0.086260</td>\n",
       "      <td>0.563969</td>\n",
       "      <td>0.042775</td>\n",
       "      <td>True</td>\n",
       "    </tr>\n",
       "  </tbody>\n",
       "</table>\n",
       "</div>"
      ],
      "text/plain": [
       "   index  \\\n",
       "0    749   \n",
       "1    220   \n",
       "2    147   \n",
       "3    318   \n",
       "4    622   \n",
       "5    110   \n",
       "6    142   \n",
       "7    356   \n",
       "8    281   \n",
       "9     35   \n",
       "\n",
       "                                                                                    rule  \\\n",
       "0  rsawr <= 0.5450000166893005 & rtime > -10.554999828338623 & app <= 4.9649999141693115   \n",
       "1            app <= 3.990000009536743 & app > 3.115000009536743 & la > 63.56999969482422   \n",
       "2                                    nd > 1.6350000500679016 & app <= 2.9200000762939453   \n",
       "3       ent > 0.07999999821186066 & nd <= 1.3849999904632568 & ent <= 0.9650000035762787   \n",
       "4                                    la > 20.244999885559082 & age > 0.08500000089406967   \n",
       "5         la > 11.485000133514404 & la > 106.56499862670898 & rtime > 12.394999980926514   \n",
       "6        app > 1.4150000214576721 & nd <= 1.6649999618530273 & ent <= 0.9449999928474426   \n",
       "7        age > 0.13499999791383743 & app > 1.1500000357627869 & nrev > 1.199999988079071   \n",
       "8  nrev > 1.0250000357627869 & asawr <= 0.024999999441206455 & age <= 14.384999752044678   \n",
       "9        nrev > 1.4050000309944153 & la > 47.685001373291016 & ent <= 0.9449999928474426   \n",
       "\n",
       "   type      coef   support  importance is_satisfy_instance  \n",
       "0  rule  0.181072  0.783290    0.074602                True  \n",
       "1  rule  0.222603  0.125326    0.073701                True  \n",
       "2  rule  0.145486  0.409922    0.071553                True  \n",
       "3  rule  0.209754  0.070496    0.053693                True  \n",
       "4  rule  0.113795  0.712794    0.051488                True  \n",
       "5  rule  0.110490  0.237598    0.047026                True  \n",
       "6  rule  0.152068  0.093995    0.044377                True  \n",
       "7  rule  0.098119  0.738903    0.043097                True  \n",
       "8  rule  0.085863  0.467363    0.042840                True  \n",
       "9  rule  0.086260  0.563969    0.042775                True  "
      ]
     },
     "execution_count": 16,
     "metadata": {},
     "output_type": "execute_result"
    }
   ],
   "source": [
    "exp_rule['top_k_positive_rules'].head(10)"
   ]
  },
  {
   "cell_type": "code",
   "execution_count": 17,
   "metadata": {},
   "outputs": [
    {
     "data": {
      "text/html": [
       "<div>\n",
       "<style scoped>\n",
       "    .dataframe tbody tr th:only-of-type {\n",
       "        vertical-align: middle;\n",
       "    }\n",
       "\n",
       "    .dataframe tbody tr th {\n",
       "        vertical-align: top;\n",
       "    }\n",
       "\n",
       "    .dataframe thead th {\n",
       "        text-align: right;\n",
       "    }\n",
       "</style>\n",
       "<table border=\"1\" class=\"dataframe\">\n",
       "  <thead>\n",
       "    <tr style=\"text-align: right;\">\n",
       "      <th></th>\n",
       "      <th>rule</th>\n",
       "      <th>type</th>\n",
       "      <th>coef</th>\n",
       "      <th>support</th>\n",
       "      <th>importance</th>\n",
       "      <th>Class</th>\n",
       "    </tr>\n",
       "  </thead>\n",
       "  <tbody>\n",
       "    <tr>\n",
       "      <th>1675</th>\n",
       "      <td>rtime &lt;= 21.539999961853027 &amp; rtime &gt; 2.9950000047683716</td>\n",
       "      <td>rule</td>\n",
       "      <td>-0.195445</td>\n",
       "      <td>0.475196</td>\n",
       "      <td>0.097602</td>\n",
       "      <td>Clean</td>\n",
       "    </tr>\n",
       "    <tr>\n",
       "      <th>329</th>\n",
       "      <td>la &gt; 36.05999946594238 &amp; app &lt;= 3.0049999952316284</td>\n",
       "      <td>rule</td>\n",
       "      <td>-0.193577</td>\n",
       "      <td>0.428198</td>\n",
       "      <td>0.095785</td>\n",
       "      <td>Clean</td>\n",
       "    </tr>\n",
       "    <tr>\n",
       "      <th>1076</th>\n",
       "      <td>la &lt;= 56.13999938964844 &amp; nd &lt;= 3.884999990463257 &amp; ent &lt;= 0.9750000238418579</td>\n",
       "      <td>rule</td>\n",
       "      <td>-0.200250</td>\n",
       "      <td>0.328982</td>\n",
       "      <td>0.094086</td>\n",
       "      <td>Clean</td>\n",
       "    </tr>\n",
       "  </tbody>\n",
       "</table>\n",
       "</div>"
      ],
      "text/plain": [
       "                                                                               rule  \\\n",
       "1675                       rtime <= 21.539999961853027 & rtime > 2.9950000047683716   \n",
       "329                              la > 36.05999946594238 & app <= 3.0049999952316284   \n",
       "1076  la <= 56.13999938964844 & nd <= 3.884999990463257 & ent <= 0.9750000238418579   \n",
       "\n",
       "      type      coef   support  importance  Class  \n",
       "1675  rule -0.195445  0.475196    0.097602  Clean  \n",
       "329   rule -0.193577  0.428198    0.095785  Clean  \n",
       "1076  rule -0.200250  0.328982    0.094086  Clean  "
      ]
     },
     "execution_count": 17,
     "metadata": {},
     "output_type": "execute_result"
    }
   ],
   "source": [
    "exp_rule['top_k_negative_rules'].head(10)"
   ]
  },
  {
   "cell_type": "code",
   "execution_count": 5,
   "metadata": {},
   "outputs": [
    {
     "data": {
      "text/plain": [
       "[{'variable': 'age', 'lessthan': False, 'value': '0.4099999964237213'},\n",
       " {'variable': 'la', 'lessthan': False, 'value': '131.55500030517578'}]"
      ]
     },
     "execution_count": 5,
     "metadata": {},
     "output_type": "execute_result"
    }
   ],
   "source": [
    "top_r = explainer.parse_top_rules(exp_rule['top_k_positive_rules'], exp_rule['top_k_negative_rules'])\n",
    "top_r['top_tofollow_rules']"
   ]
  },
  {
   "cell_type": "code",
   "execution_count": 22,
   "metadata": {},
   "outputs": [
    {
     "data": {
      "text/plain": [
       "la       80629.000000\n",
       "nd         304.000000\n",
       "ns           6.000000\n",
       "ent          1.000000\n",
       "nrev        82.000000\n",
       "rtime      372.608553\n",
       "self         1.000000\n",
       "ndev       354.000000\n",
       "age        649.346238\n",
       "app         20.000000\n",
       "rrexp     3749.000000\n",
       "asawr        1.000000\n",
       "rsawr        1.000000\n",
       "dtype: float64"
      ]
     },
     "execution_count": 22,
     "metadata": {},
     "output_type": "execute_result"
    }
   ],
   "source": [
    "data['x_train'].max()"
   ]
  },
  {
   "cell_type": "code",
   "execution_count": 6,
   "metadata": {},
   "outputs": [
    {
     "data": {
      "text/plain": [
       "0.4099999964237213"
      ]
     },
     "execution_count": 6,
     "metadata": {},
     "output_type": "execute_result"
    }
   ],
   "source": [
    "t_rule = top_r['top_tofollow_rules'][0]\n",
    "float(t_rule['value'])"
   ]
  },
  {
   "cell_type": "code",
   "execution_count": 7,
   "metadata": {},
   "outputs": [
    {
     "ename": "AttributeError",
     "evalue": "'PyExplainer' object has no attribute 'temp_func'",
     "output_type": "error",
     "traceback": [
      "\u001b[1;31m---------------------------------------------------------------------------\u001b[0m",
      "\u001b[1;31mAttributeError\u001b[0m                            Traceback (most recent call last)",
      "\u001b[1;32m<ipython-input-7-7da972e0b329>\u001b[0m in \u001b[0;36m<module>\u001b[1;34m\u001b[0m\n\u001b[0;32m      1\u001b[0m \u001b[0mexplainer\u001b[0m\u001b[1;33m.\u001b[0m\u001b[0mX_explain\u001b[0m \u001b[1;33m=\u001b[0m \u001b[0mX_explain\u001b[0m\u001b[1;33m\u001b[0m\u001b[1;33m\u001b[0m\u001b[0m\n\u001b[0;32m      2\u001b[0m \u001b[0mexplainer\u001b[0m\u001b[1;33m.\u001b[0m\u001b[0mbullet_data\u001b[0m \u001b[1;33m=\u001b[0m \u001b[0mexplainer\u001b[0m\u001b[1;33m.\u001b[0m\u001b[0mgenerate_bullet_data\u001b[0m\u001b[1;33m(\u001b[0m\u001b[0mparsed_rule_object\u001b[0m\u001b[1;33m=\u001b[0m\u001b[0mtop_r\u001b[0m\u001b[1;33m)\u001b[0m\u001b[1;33m\u001b[0m\u001b[1;33m\u001b[0m\u001b[0m\n\u001b[1;32m----> 3\u001b[1;33m \u001b[0mexplainer\u001b[0m\u001b[1;33m.\u001b[0m\u001b[0mtemp_func\u001b[0m\u001b[1;33m(\u001b[0m\u001b[0mexplainer\u001b[0m\u001b[1;33m.\u001b[0m\u001b[0mgenerate_html\u001b[0m\u001b[1;33m(\u001b[0m\u001b[1;33m)\u001b[0m\u001b[1;33m)\u001b[0m\u001b[1;33m\u001b[0m\u001b[1;33m\u001b[0m\u001b[0m\n\u001b[0m",
      "\u001b[1;31mAttributeError\u001b[0m: 'PyExplainer' object has no attribute 'temp_func'"
     ]
    }
   ],
   "source": [
    "explainer.X_explain = X_explain\n",
    "explainer.bullet_data = explainer.generate_bullet_data(parsed_rule_object=top_r)\n",
    "explainer.temp_func(explainer.generate_html())"
   ]
  },
  {
   "cell_type": "code",
   "execution_count": 8,
   "metadata": {},
   "outputs": [
    {
     "data": {
      "text/plain": [
       "[{'title': '#1 The value of Time Since Last Modification is less than 0.67',\n",
       "  'subtitle': 'Actual = 0.67',\n",
       "  'ticks': [0, 1.34],\n",
       "  'step': [0.1],\n",
       "  'startPoints': [0, 137.6866],\n",
       "  'widths': [137.6866, 312.3134],\n",
       "  'colors': ['#d7191c', '#a6d96a'],\n",
       "  'markers': [0.67],\n",
       "  'varRef': 'age'},\n",
       " {'title': '#2 The value of Number Of Lines Added is less than 155',\n",
       "  'subtitle': 'Actual = 155',\n",
       "  'ticks': [0, 310],\n",
       "  'step': [1],\n",
       "  'startPoints': [0, 190.9669],\n",
       "  'widths': [190.9669, 259.0331],\n",
       "  'colors': ['#d7191c', '#a6d96a'],\n",
       "  'markers': [155],\n",
       "  'varRef': 'la'}]"
      ]
     },
     "execution_count": 8,
     "metadata": {},
     "output_type": "execute_result"
    }
   ],
   "source": [
    "explainer.bullet_data"
   ]
  },
  {
   "cell_type": "code",
   "execution_count": null,
   "metadata": {},
   "outputs": [],
   "source": [
    "top_r2 = explainer.parse_top_rules(exp_rule['top_k_positive_rules'], exp_rule['top_k_negative_rules'])\n",
    "print(top_r)\n",
    "print(top_r2)"
   ]
  },
  {
   "cell_type": "code",
   "execution_count": 18,
   "metadata": {},
   "outputs": [
    {
     "data": {
      "text/plain": [
       "dict_keys(['x_train', 'y_train', 'indep', 'dep'])"
      ]
     },
     "execution_count": 18,
     "metadata": {},
     "output_type": "execute_result"
    }
   ],
   "source": [
    "data.keys()"
   ]
  },
  {
   "cell_type": "code",
   "execution_count": 20,
   "metadata": {},
   "outputs": [
    {
     "data": {
      "text/plain": [
       "'defect'"
      ]
     },
     "execution_count": 20,
     "metadata": {},
     "output_type": "execute_result"
    }
   ],
   "source": [
    "data['dep']"
   ]
  },
  {
   "cell_type": "code",
   "execution_count": 31,
   "metadata": {},
   "outputs": [],
   "source": [
    "with open('explained_instance.pkl', 'wb+') as file:\n",
    "    pickle.dump(obj=a, file=file)"
   ]
  },
  {
   "cell_type": "code",
   "execution_count": 27,
   "metadata": {},
   "outputs": [
    {
     "data": {
      "text/plain": [
       "dict_keys(['X_explain', 'y_explain'])"
      ]
     },
     "execution_count": 27,
     "metadata": {},
     "output_type": "execute_result"
    }
   ],
   "source": [
    "a = {'X_explain': X_explain, 'y_explain': y_explain}\n"
   ]
  },
  {
   "cell_type": "code",
   "execution_count": 33,
   "metadata": {},
   "outputs": [
    {
     "data": {
      "text/plain": [
       "pandas.core.series.Series"
      ]
     },
     "execution_count": 33,
     "metadata": {},
     "output_type": "execute_result"
    }
   ],
   "source": [
    "type(y_explain)"
   ]
  },
  {
   "cell_type": "code",
   "execution_count": null,
   "metadata": {},
   "outputs": [],
   "source": []
  }
 ],
 "metadata": {
  "kernelspec": {
   "display_name": "Python 3",
   "language": "python",
   "name": "python3"
  },
  "language_info": {
   "codemirror_mode": {
    "name": "ipython",
    "version": 3
   },
   "file_extension": ".py",
   "mimetype": "text/x-python",
   "name": "python",
   "nbconvert_exporter": "python",
   "pygments_lexer": "ipython3",
   "version": "3.8.8"
  }
 },
 "nbformat": 4,
 "nbformat_minor": 4
}
